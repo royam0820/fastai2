{
  "nbformat": 4,
  "nbformat_minor": 0,
  "metadata": {
    "jupytext": {
      "split_at_heading": true
    },
    "kernelspec": {
      "display_name": "Python 3",
      "language": "python",
      "name": "python3"
    },
    "language_info": {
      "codemirror_mode": {
        "name": "ipython",
        "version": 3
      },
      "file_extension": ".py",
      "mimetype": "text/x-python",
      "name": "python",
      "nbconvert_exporter": "python",
      "pygments_lexer": "ipython3",
      "version": "3.7.7"
    },
    "toc": {
      "base_numbering": 1,
      "nav_menu": {},
      "number_sections": false,
      "sideBar": true,
      "skip_h1_title": true,
      "title_cell": "Table of Contents",
      "title_sidebar": "Contents",
      "toc_cell": false,
      "toc_position": {},
      "toc_section_display": true,
      "toc_window_display": false
    },
    "colab": {
      "name": "07_mnist_basics.ipynb",
      "provenance": [],
      "collapsed_sections": [],
      "toc_visible": true,
      "include_colab_link": true
    },
    "accelerator": "GPU"
  },
  "cells": [
    {
      "cell_type": "markdown",
      "metadata": {
        "id": "view-in-github",
        "colab_type": "text"
      },
      "source": [
        "<a href=\"https://colab.research.google.com/github/royam0820/fastai2-v4/blob/master/07_mnist_basics.ipynb\" target=\"_parent\"><img src=\"https://colab.research.google.com/assets/colab-badge.svg\" alt=\"Open In Colab\"/></a>"
      ]
    },
    {
      "cell_type": "markdown",
      "metadata": {
        "id": "47d49wcBvDJH"
      },
      "source": [
        "## Creating a Digit Classifier from Scratch.\n",
        "The goal is to demonstrate the steps involved to create a baseline model.\n",
        "\n",
        "A baseline is a method that uses heuristics, simple summary statistics, randomness, or machine learning to create predictions for a dataset. You can use these predictions to measure the baseline's performance (e.g., accuracy)-- this metric will then become what you compare any other machine learning algorithm against.\n",
        "\n",
        "Topics covered are:\n",
        "- Numpy array\n",
        "- Pytorch tensors\n",
        "- broadcasting\n",
        "- SGD (Stochastics Gradient Descent)\n",
        "- mini-batches\n"
      ]
    },
    {
      "cell_type": "code",
      "metadata": {
        "id": "WTPJPQ6are-t"
      },
      "source": [
        "# imports\n",
        "!pip install -Uqq fastbook\n",
        "import fastbook\n",
        "fastbook.setup_book()"
      ],
      "execution_count": 201,
      "outputs": []
    },
    {
      "cell_type": "code",
      "metadata": {
        "id": "v71-0nnuysIp"
      },
      "source": [
        "# #Run once per session\n",
        "# !pip install fastai --upgrade -q\n",
        "# !pip install fastbook -q\n",
        "!pip install nbdev -q\n",
        "!pip install utils -q"
      ],
      "execution_count": 202,
      "outputs": []
    },
    {
      "cell_type": "code",
      "metadata": {
        "id": "CjzpZ0ykyxOM",
        "colab": {
          "base_uri": "https://localhost:8080/",
          "height": 35
        },
        "outputId": "fe852afe-c84b-4cc1-aaa0-852bc02e1623"
      },
      "source": [
        "import fastai; fastai.__version__"
      ],
      "execution_count": 203,
      "outputs": [
        {
          "output_type": "execute_result",
          "data": {
            "application/vnd.google.colaboratory.intrinsic+json": {
              "type": "string"
            },
            "text/plain": [
              "'2.5.2'"
            ]
          },
          "metadata": {},
          "execution_count": 203
        }
      ]
    },
    {
      "cell_type": "code",
      "metadata": {
        "id": "DF7ztZKEugGX"
      },
      "source": [
        "from fastai.vision.all import *\n",
        "from utils import *\n",
        "from fastbook import *\n",
        "matplotlib.rc('image', cmap='Greys')"
      ],
      "execution_count": 204,
      "outputs": []
    },
    {
      "cell_type": "markdown",
      "metadata": {
        "id": "VxikryqXugGc"
      },
      "source": [
        "# Under the Hood: Training a Digit Classifier"
      ]
    },
    {
      "cell_type": "markdown",
      "metadata": {
        "id": "WIF8iP6KugGd"
      },
      "source": [
        "Having seen what it looks like to actually train a variety of models in Chapter 2, let’s now look under the hood and see exactly what is going on. We’ll start by using computer vision to introduce fundamental tools and concepts for deep learning.\n",
        "\n",
        "To be exact, we'll discuss the roles of arrays and tensors and of broadcasting, a powerful technique for using them expressively. We'll explain stochastic gradient descent (SGD), the mechanism for learning by updating weights automatically. We'll discuss the choice of a loss function for our basic classification task, and the role of mini-batches. We'll also describe the math that a basic neural network is actually doing. Finally, we'll put all these pieces together.\n",
        "\n",
        "In future chapters we’ll do deep dives into other applications as well, and see how these concepts and tools generalize. But this chapter is about laying foundation stones. To be frank, that also makes this one of the hardest chapters, because of how these concepts all depend on each other. Like an arch, all the stones need to be in place for the structure to stay up. Also like an arch, once that happens, it's a powerful structure that can support other things. But it requires some patience to assemble.\n",
        "\n",
        "Let's begin. The first step is to consider how images are represented in a computer."
      ]
    },
    {
      "cell_type": "markdown",
      "metadata": {
        "id": "PeO_8n_cugGd"
      },
      "source": [
        "## Pixels: The Foundations of Computer Vision"
      ]
    },
    {
      "cell_type": "markdown",
      "metadata": {
        "id": "VjaMKGdIugGe"
      },
      "source": [
        "In order to understand what happens in a computer vision model, we first have to understand how computers handle images. We'll use one of the most famous datasets in computer vision, [MNIST](https://en.wikipedia.org/wiki/MNIST_database), for our experiments. MNIST contains images of handwritten digits, collected by the National Institute of Standards and Technology and collated into a machine learning dataset by Yann Lecun and his colleagues. Lecun used MNIST in 1998 in [Lenet-5](http://yann.lecun.com/exdb/lenet/), the first computer system to demonstrate practically useful recognition of handwritten digit sequences. This was one of the most important breakthroughs in the history of AI."
      ]
    },
    {
      "cell_type": "markdown",
      "metadata": {
        "id": "gTHz9RRfugGe"
      },
      "source": [
        "## Tenacity and Deep Learning"
      ]
    },
    {
      "cell_type": "markdown",
      "metadata": {
        "id": "T4LTYaVgugGg"
      },
      "source": [
        "The story of deep learning is one of tenacity and grit by a handful of dedicated researchers. After early hopes (and hype!) neural networks went out of favor in the 1990's and 2000's, and just a handful of researchers kept trying to make them work well. Three of them, Yann Lecun, Yoshua Bengio, and Geoffrey Hinton, were awarded the highest honor in computer science, the Turing Award (generally considered the \"Nobel Prize of computer science\"), in 2018 after triumphing despite the deep skepticism and disinterest of the wider machine learning and statistics community.\n",
        "\n",
        "Geoff Hinton has told of how even academic papers showing dramatically better results than anything previously published would be rejected by top journals and conferences, just because they used a neural network. Yann Lecun's work on convolutional neural networks, which we will study in the next section, showed that these models could read handwritten text—something that had never been achieved before. However, his breakthrough was ignored by most researchers, even as it was used commercially to read 10% of the checks in the US!\n",
        "\n",
        "In addition to these three Turing Award winners, there are many other researchers who have battled to get us to where we are today. For instance, Jurgen Schmidhuber (who many believe should have shared in the Turing Award) pioneered many important ideas, including working with his student Sepp Hochreiter on the long short-term memory (LSTM) architecture (widely used for speech recognition and other text modeling tasks, and used in the IMDb example in <<chapter_intro>>). Perhaps most important of all, Paul Werbos in 1974 invented back-propagation for neural networks, the technique shown in this chapter and used universally for training neural networks ([Werbos 1994](https://books.google.com/books/about/The_Roots_of_Backpropagation.html?id=WdR3OOM2gBwC)). His development was almost entirely ignored for decades, but today it is considered the most important foundation of modern AI.\n",
        "\n",
        "There is a lesson here for all of us! On your deep learning journey you will face many obstacles, both technical, and (even more difficult) posed by people around you who don't believe you'll be successful. There's one *guaranteed* way to fail, and that's to stop trying. We've seen that the only consistent trait amongst every fast.ai student that's gone on to be a world-class practitioner is that they are all very tenacious."
      ]
    },
    {
      "cell_type": "markdown",
      "metadata": {
        "id": "dFcGXZUEQBYy"
      },
      "source": [
        "### A model classifying any image as a 3 or 7"
      ]
    },
    {
      "cell_type": "markdown",
      "metadata": {
        "id": "ik38Du-TugGj"
      },
      "source": [
        "For this initial tutorial we are just going to try to create a model that can classify any image as a 3 or a 7. So let's download a sample of MNIST that contains images of just these digits:"
      ]
    },
    {
      "cell_type": "code",
      "metadata": {
        "id": "eWMbVENxugGk"
      },
      "source": [
        "# getting a MNIST sample dataset\n",
        "path = untar_data(URLs.MNIST_SAMPLE, data='.')"
      ],
      "execution_count": 205,
      "outputs": []
    },
    {
      "cell_type": "code",
      "metadata": {
        "id": "gSm0KWUuDL3O",
        "colab": {
          "base_uri": "https://localhost:8080/"
        },
        "outputId": "06206a2a-a1ce-45cc-c171-d69b380b1c71"
      },
      "source": [
        "path"
      ],
      "execution_count": 206,
      "outputs": [
        {
          "output_type": "execute_result",
          "data": {
            "text/plain": [
              "Path('.')"
            ]
          },
          "metadata": {},
          "execution_count": 206
        }
      ]
    },
    {
      "cell_type": "code",
      "metadata": {
        "id": "Lf5IjQ2HugGn"
      },
      "source": [
        "# show the relative path\n",
        "Path.BASE_PATH = path"
      ],
      "execution_count": 207,
      "outputs": []
    },
    {
      "cell_type": "markdown",
      "metadata": {
        "id": "AvLApc2YugGs"
      },
      "source": [
        "We can see what's in this directory by using `ls`, a method added by fastai. This method returns an object of a special fastai class called `L`, which has all the same functionality of Python's built-in `list`, plus a lot more. One of its handy features is that, when printed, it displays the count of items, before listing the items themselves (if there are more than 10 items, it just shows the first few):"
      ]
    },
    {
      "cell_type": "code",
      "metadata": {
        "id": "drO8K1WBugGt",
        "colab": {
          "base_uri": "https://localhost:8080/"
        },
        "outputId": "a62bbf52-177b-4050-b342-51f9ff02412b"
      },
      "source": [
        "path.ls()"
      ],
      "execution_count": 208,
      "outputs": [
        {
          "output_type": "execute_result",
          "data": {
            "text/plain": [
              "(#3) [Path('labels.csv'),Path('valid'),Path('train')]"
            ]
          },
          "metadata": {},
          "execution_count": 208
        }
      ]
    },
    {
      "cell_type": "markdown",
      "metadata": {
        "id": "6sbYAcLWugG2"
      },
      "source": [
        "The MNIST dataset follows a common layout for machine learning datasets: separate folders `train` for the training set and the folder `valid` for the validation set (and/or test set). Let's see what's inside the training set:"
      ]
    },
    {
      "cell_type": "code",
      "metadata": {
        "id": "WgodsxcsugG3",
        "colab": {
          "base_uri": "https://localhost:8080/"
        },
        "outputId": "c5959128-8e83-4c16-efd1-c9cac43a0332"
      },
      "source": [
        "(path/'train').ls()"
      ],
      "execution_count": 209,
      "outputs": [
        {
          "output_type": "execute_result",
          "data": {
            "text/plain": [
              "(#2) [Path('train/7'),Path('train/3')]"
            ]
          },
          "metadata": {},
          "execution_count": 209
        }
      ]
    },
    {
      "cell_type": "markdown",
      "metadata": {
        "id": "OT9AehapugG8"
      },
      "source": [
        "There's a folder of 3s, and a folder of 7s. In machine learning parlance, we say that \"3\" and \"7\" are the *labels* (or targets) in this dataset. Let's take a look in one of these folders (using `sorted` to ensure we all get the same order of files):"
      ]
    },
    {
      "cell_type": "code",
      "metadata": {
        "id": "1YaKfhVIugG9",
        "colab": {
          "base_uri": "https://localhost:8080/"
        },
        "outputId": "581825a3-f5a0-4f59-d650-29c43dc94d60"
      },
      "source": [
        "# sorting the files in the folders 3 and 7\n",
        "threes = (path/'train'/'3').ls().sorted()\n",
        "sevens = (path/'train'/'7').ls().sorted()\n",
        "threes"
      ],
      "execution_count": 210,
      "outputs": [
        {
          "output_type": "execute_result",
          "data": {
            "text/plain": [
              "(#6131) [Path('train/3/10.png'),Path('train/3/10000.png'),Path('train/3/10011.png'),Path('train/3/10031.png'),Path('train/3/10034.png'),Path('train/3/10042.png'),Path('train/3/10052.png'),Path('train/3/1007.png'),Path('train/3/10074.png'),Path('train/3/10091.png')...]"
            ]
          },
          "metadata": {},
          "execution_count": 210
        }
      ]
    },
    {
      "cell_type": "markdown",
      "metadata": {
        "id": "oPsUF-FBugHF"
      },
      "source": [
        "As we might expect, it's full of image files. Let’s take a look at one now. Here’s an image of a handwritten number 3, taken from the famous MNIST dataset of handwritten numbers:"
      ]
    },
    {
      "cell_type": "code",
      "metadata": {
        "id": "dUXy8QtIugHI",
        "colab": {
          "base_uri": "https://localhost:8080/",
          "height": 45
        },
        "outputId": "bcf5bda3-005c-4fbd-cd27-b2bbf90967c5"
      },
      "source": [
        "# acquiring an image using the PIL library\n",
        "im3_path = threes[1]\n",
        "im3 = Image.open(im3_path)\n",
        "im3"
      ],
      "execution_count": 211,
      "outputs": [
        {
          "output_type": "execute_result",
          "data": {
            "image/png": "[encoded data removed]",
            "text/plain": [
              "<PIL.PngImagePlugin.PngImageFile image mode=L size=28x28 at 0x7EFC563D6B50>"
            ]
          },
          "metadata": {},
          "execution_count": 211
        }
      ]
    },
    {
      "cell_type": "markdown",
      "metadata": {
        "id": "tmSOa4bIugHQ"
      },
      "source": [
        "Here we are using the `Image` class from the *Python Imaging Library* (PIL), which is the most widely used Python package for opening, manipulating, and viewing images. Jupyter knows about PIL images, so it displays the image for us automatically.\n"
      ]
    },
    {
      "cell_type": "markdown",
      "metadata": {
        "id": "_ZYJvciyim5J"
      },
      "source": [
        "### An image as seen by a computer\n",
        "\n",
        "In a computer, everything is represented as a number. To view the numbers that make up this image, we have to convert it to a **NumPy array** or a **PyTorch tensor**. For instance, here's what a section of the image looks like, converted to a NumPy array:\n"
      ]
    },
    {
      "cell_type": "code",
      "metadata": {
        "id": "MKM6gZ3SugHQ",
        "colab": {
          "base_uri": "https://localhost:8080/"
        },
        "outputId": "f3a37727-a263-494c-af54-6d51d7947c80"
      },
      "source": [
        "# getting a portion of the image\n",
        "# using a numpy array\n",
        "array(im3)[4:10,4:10] # rows, columns"
      ],
      "execution_count": 212,
      "outputs": [
        {
          "output_type": "execute_result",
          "data": {
            "text/plain": [
              "array([[  0,   0,   0,   0,   0,   0],\n",
              "       [  0,   0,   0,   0,   0,  29],\n",
              "       [  0,   0,   0,  48, 166, 224],\n",
              "       [  0,  93, 244, 249, 253, 187],\n",
              "       [  0, 107, 253, 253, 230,  48],\n",
              "       [  0,   3,  20,  20,  15,   0]], dtype=uint8)"
            ]
          },
          "metadata": {},
          "execution_count": 212
        }
      ]
    },
    {
      "cell_type": "code",
      "metadata": {
        "id": "HiTXFRlWmDPe",
        "colab": {
          "base_uri": "https://localhost:8080/"
        },
        "outputId": "57b513bd-8d78-4e02-9b82-4e4a1252a6b4"
      },
      "source": [
        "type(array(im3))"
      ],
      "execution_count": 213,
      "outputs": [
        {
          "output_type": "execute_result",
          "data": {
            "text/plain": [
              "numpy.ndarray"
            ]
          },
          "metadata": {},
          "execution_count": 213
        }
      ]
    },
    {
      "cell_type": "markdown",
      "metadata": {
        "id": "dujxe3skugHa"
      },
      "source": [
        "The `4:10` indicates we requested the rows from index 4 (included) to 10 (not included) and the same for the columns. NumPy indexes from top to bottom and left to right, so this section is located in the top-left corner of the image. Here's the same thing as a PyTorch tensor:"
      ]
    },
    {
      "cell_type": "code",
      "metadata": {
        "id": "hGEzZUqQugHa",
        "colab": {
          "base_uri": "https://localhost:8080/"
        },
        "outputId": "4595ca1e-1dbb-44f1-f007-0cd984bf5954"
      },
      "source": [
        "# Pytorch tensor\n",
        "tensor(im3)[4:10,4:10]"
      ],
      "execution_count": 214,
      "outputs": [
        {
          "output_type": "execute_result",
          "data": {
            "text/plain": [
              "tensor([[  0,   0,   0,   0,   0,   0],\n",
              "        [  0,   0,   0,   0,   0,  29],\n",
              "        [  0,   0,   0,  48, 166, 224],\n",
              "        [  0,  93, 244, 249, 253, 187],\n",
              "        [  0, 107, 253, 253, 230,  48],\n",
              "        [  0,   3,  20,  20,  15,   0]], dtype=torch.uint8)"
            ]
          },
          "metadata": {},
          "execution_count": 214
        }
      ]
    },
    {
      "cell_type": "code",
      "metadata": {
        "id": "ldgSOuRgmMLn",
        "colab": {
          "base_uri": "https://localhost:8080/"
        },
        "outputId": "238755f8-76b9-437d-b3c5-6889f768ab38"
      },
      "source": [
        "type(tensor(im3))"
      ],
      "execution_count": 215,
      "outputs": [
        {
          "output_type": "execute_result",
          "data": {
            "text/plain": [
              "torch.Tensor"
            ]
          },
          "metadata": {},
          "execution_count": 215
        }
      ]
    },
    {
      "cell_type": "markdown",
      "metadata": {
        "id": "JZiqo3m-ugHd"
      },
      "source": [
        "We can slice the array to pick just the part with the top of the digit in it, and then use a Pandas DataFrame to color-code the values using a gradient, which shows us clearly how the image is created from the pixel values:"
      ]
    },
    {
      "cell_type": "code",
      "metadata": {
        "id": "yRJ1R-b6ugHe",
        "colab": {
          "base_uri": "https://localhost:8080/",
          "height": 272
        },
        "outputId": "03ae25a3-68f2-49f5-b273-7b541f55bcce"
      },
      "source": [
        "# Slicing an array to get the part that includes the top of the digit\n",
        "# Taking the tensor\n",
        "im3_t = tensor(im3)\n",
        "\n",
        "# using Pandas datatrame to color the background.\n",
        "df = pd.DataFrame(im3_t[4:15,4:22])\n",
        "df.style.set_properties(**{'font-size':'6pt'}).background_gradient('Greys')"
      ],
      "execution_count": 216,
      "outputs": [
        {
          "output_type": "execute_result",
          "data": {
            "text/html": [
              "<style  type=\"text/css\" >\n",
              "#T_613e3ae8_1dfa_11ec_8023_0242ac1c0002row0_col0,#T_613e3ae8_1dfa_11ec_8023_0242ac1c0002row0_col1,#T_613e3ae8_1dfa_11ec_8023_0242ac1c0002row0_col2,#T_613e3ae8_1dfa_11ec_8023_0242ac1c0002row0_col3,#T_613e3ae8_1dfa_11ec_8023_0242ac1c0002row0_col4,#T_613e3ae8_1dfa_11ec_8023_0242ac1c0002row0_col5,#T_613e3ae8_1dfa_11ec_8023_0242ac1c0002row0_col6,#T_613e3ae8_1dfa_11ec_8023_0242ac1c0002row0_col7,#T_613e3ae8_1dfa_11ec_8023_0242ac1c0002row0_col8,#T_613e3ae8_1dfa_11ec_8023_0242ac1c0002row0_col9,#T_613e3ae8_1dfa_11ec_8023_0242ac1c0002row0_col10,#T_613e3ae8_1dfa_11ec_8023_0242ac1c0002row0_col11,#T_613e3ae8_1dfa_11ec_8023_0242ac1c0002row0_col12,#T_613e3ae8_1dfa_11ec_8023_0242ac1c0002row0_col13,#T_613e3ae8_1dfa_11ec_8023_0242ac1c0002row0_col14,#T_613e3ae8_1dfa_11ec_8023_0242ac1c0002row0_col15,#T_613e3ae8_1dfa_11ec_8023_0242ac1c0002row0_col16,#T_613e3ae8_1dfa_11ec_8023_0242ac1c0002row0_col17,#T_613e3ae8_1dfa_11ec_8023_0242ac1c0002row1_col0,#T_613e3ae8_1dfa_11ec_8023_0242ac1c0002row1_col1,#T_613e3ae8_1dfa_11ec_8023_0242ac1c0002row1_col2,#T_613e3ae8_1dfa_11ec_8023_0242ac1c0002row1_col3,#T_613e3ae8_1dfa_11ec_8023_0242ac1c0002row1_col4,#T_613e3ae8_1dfa_11ec_8023_0242ac1c0002row1_col15,#T_613e3ae8_1dfa_11ec_8023_0242ac1c0002row1_col16,#T_613e3ae8_1dfa_11ec_8023_0242ac1c0002row1_col17,#T_613e3ae8_1dfa_11ec_8023_0242ac1c0002row2_col0,#T_613e3ae8_1dfa_11ec_8023_0242ac1c0002row2_col1,#T_613e3ae8_1dfa_11ec_8023_0242ac1c0002row2_col2,#T_613e3ae8_1dfa_11ec_8023_0242ac1c0002row2_col15,#T_613e3ae8_1dfa_11ec_8023_0242ac1c0002row2_col16,#T_613e3ae8_1dfa_11ec_8023_0242ac1c0002row2_col17,#T_613e3ae8_1dfa_11ec_8023_0242ac1c0002row3_col0,#T_613e3ae8_1dfa_11ec_8023_0242ac1c0002row3_col15,#T_613e3ae8_1dfa_11ec_8023_0242ac1c0002row3_col16,#T_613e3ae8_1dfa_11ec_8023_0242ac1c0002row3_col17,#T_613e3ae8_1dfa_11ec_8023_0242ac1c0002row4_col0,#T_613e3ae8_1dfa_11ec_8023_0242ac1c0002row4_col6,#T_613e3ae8_1dfa_11ec_8023_0242ac1c0002row4_col7,#T_613e3ae8_1dfa_11ec_8023_0242ac1c0002row4_col8,#T_613e3ae8_1dfa_11ec_8023_0242ac1c0002row4_col9,#T_613e3ae8_1dfa_11ec_8023_0242ac1c0002row4_col10,#T_613e3ae8_1dfa_11ec_8023_0242ac1c0002row4_col15,#T_613e3ae8_1dfa_11ec_8023_0242ac1c0002row4_col16,#T_613e3ae8_1dfa_11ec_8023_0242ac1c0002row4_col17,#T_613e3ae8_1dfa_11ec_8023_0242ac1c0002row5_col0,#T_613e3ae8_1dfa_11ec_8023_0242ac1c0002row5_col5,#T_613e3ae8_1dfa_11ec_8023_0242ac1c0002row5_col6,#T_613e3ae8_1dfa_11ec_8023_0242ac1c0002row5_col7,#T_613e3ae8_1dfa_11ec_8023_0242ac1c0002row5_col8,#T_613e3ae8_1dfa_11ec_8023_0242ac1c0002row5_col9,#T_613e3ae8_1dfa_11ec_8023_0242ac1c0002row5_col15,#T_613e3ae8_1dfa_11ec_8023_0242ac1c0002row5_col16,#T_613e3ae8_1dfa_11ec_8023_0242ac1c0002row5_col17,#T_613e3ae8_1dfa_11ec_8023_0242ac1c0002row6_col0,#T_613e3ae8_1dfa_11ec_8023_0242ac1c0002row6_col1,#T_613e3ae8_1dfa_11ec_8023_0242ac1c0002row6_col2,#T_613e3ae8_1dfa_11ec_8023_0242ac1c0002row6_col3,#T_613e3ae8_1dfa_11ec_8023_0242ac1c0002row6_col4,#T_613e3ae8_1dfa_11ec_8023_0242ac1c0002row6_col5,#T_613e3ae8_1dfa_11ec_8023_0242ac1c0002row6_col6,#T_613e3ae8_1dfa_11ec_8023_0242ac1c0002row6_col7,#T_613e3ae8_1dfa_11ec_8023_0242ac1c0002row6_col8,#T_613e3ae8_1dfa_11ec_8023_0242ac1c0002row6_col9,#T_613e3ae8_1dfa_11ec_8023_0242ac1c0002row6_col14,#T_613e3ae8_1dfa_11ec_8023_0242ac1c0002row6_col15,#T_613e3ae8_1dfa_11ec_8023_0242ac1c0002row6_col16,#T_613e3ae8_1dfa_11ec_8023_0242ac1c0002row6_col17,#T_613e3ae8_1dfa_11ec_8023_0242ac1c0002row7_col0,#T_613e3ae8_1dfa_11ec_8023_0242ac1c0002row7_col1,#T_613e3ae8_1dfa_11ec_8023_0242ac1c0002row7_col2,#T_613e3ae8_1dfa_11ec_8023_0242ac1c0002row7_col3,#T_613e3ae8_1dfa_11ec_8023_0242ac1c0002row7_col4,#T_613e3ae8_1dfa_11ec_8023_0242ac1c0002row7_col5,#T_613e3ae8_1dfa_11ec_8023_0242ac1c0002row7_col6,#T_613e3ae8_1dfa_11ec_8023_0242ac1c0002row7_col13,#T_613e3ae8_1dfa_11ec_8023_0242ac1c0002row7_col14,#T_613e3ae8_1dfa_11ec_8023_0242ac1c0002row7_col15,#T_613e3ae8_1dfa_11ec_8023_0242ac1c0002row7_col16,#T_613e3ae8_1dfa_11ec_8023_0242ac1c0002row7_col17,#T_613e3ae8_1dfa_11ec_8023_0242ac1c0002row8_col0,#T_613e3ae8_1dfa_11ec_8023_0242ac1c0002row8_col1,#T_613e3ae8_1dfa_11ec_8023_0242ac1c0002row8_col2,#T_613e3ae8_1dfa_11ec_8023_0242ac1c0002row8_col3,#T_613e3ae8_1dfa_11ec_8023_0242ac1c0002row8_col4,#T_613e3ae8_1dfa_11ec_8023_0242ac1c0002row8_col13,#T_613e3ae8_1dfa_11ec_8023_0242ac1c0002row8_col14,#T_613e3ae8_1dfa_11ec_8023_0242ac1c0002row8_col15,#T_613e3ae8_1dfa_11ec_8023_0242ac1c0002row8_col16,#T_613e3ae8_1dfa_11ec_8023_0242ac1c0002row8_col17,#T_613e3ae8_1dfa_11ec_8023_0242ac1c0002row9_col0,#T_613e3ae8_1dfa_11ec_8023_0242ac1c0002row9_col1,#T_613e3ae8_1dfa_11ec_8023_0242ac1c0002row9_col2,#T_613e3ae8_1dfa_11ec_8023_0242ac1c0002row9_col3,#T_613e3ae8_1dfa_11ec_8023_0242ac1c0002row9_col4,#T_613e3ae8_1dfa_11ec_8023_0242ac1c0002row9_col16,#T_613e3ae8_1dfa_11ec_8023_0242ac1c0002row9_col17,#T_613e3ae8_1dfa_11ec_8023_0242ac1c0002row10_col0,#T_613e3ae8_1dfa_11ec_8023_0242ac1c0002row10_col1,#T_613e3ae8_1dfa_11ec_8023_0242ac1c0002row10_col2,#T_613e3ae8_1dfa_11ec_8023_0242ac1c0002row10_col3,#T_613e3ae8_1dfa_11ec_8023_0242ac1c0002row10_col4,#T_613e3ae8_1dfa_11ec_8023_0242ac1c0002row10_col5,#T_613e3ae8_1dfa_11ec_8023_0242ac1c0002row10_col6,#T_613e3ae8_1dfa_11ec_8023_0242ac1c0002row10_col17{\n",
              "            font-size:  6pt;\n",
              "            background-color:  #ffffff;\n",
              "            color:  #000000;\n",
              "        }#T_613e3ae8_1dfa_11ec_8023_0242ac1c0002row1_col5{\n",
              "            font-size:  6pt;\n",
              "            background-color:  #efefef;\n",
              "            color:  #000000;\n",
              "        }#T_613e3ae8_1dfa_11ec_8023_0242ac1c0002row1_col6,#T_613e3ae8_1dfa_11ec_8023_0242ac1c0002row1_col13{\n",
              "            font-size:  6pt;\n",
              "            background-color:  #7c7c7c;\n",
              "            color:  #000000;\n",
              "        }#T_613e3ae8_1dfa_11ec_8023_0242ac1c0002row1_col7{\n",
              "            font-size:  6pt;\n",
              "            background-color:  #4a4a4a;\n",
              "            color:  #f1f1f1;\n",
              "        }#T_613e3ae8_1dfa_11ec_8023_0242ac1c0002row1_col8,#T_613e3ae8_1dfa_11ec_8023_0242ac1c0002row1_col9,#T_613e3ae8_1dfa_11ec_8023_0242ac1c0002row1_col10,#T_613e3ae8_1dfa_11ec_8023_0242ac1c0002row2_col5,#T_613e3ae8_1dfa_11ec_8023_0242ac1c0002row2_col6,#T_613e3ae8_1dfa_11ec_8023_0242ac1c0002row2_col7,#T_613e3ae8_1dfa_11ec_8023_0242ac1c0002row2_col11,#T_613e3ae8_1dfa_11ec_8023_0242ac1c0002row2_col12,#T_613e3ae8_1dfa_11ec_8023_0242ac1c0002row2_col13,#T_613e3ae8_1dfa_11ec_8023_0242ac1c0002row3_col4,#T_613e3ae8_1dfa_11ec_8023_0242ac1c0002row3_col12,#T_613e3ae8_1dfa_11ec_8023_0242ac1c0002row3_col13,#T_613e3ae8_1dfa_11ec_8023_0242ac1c0002row4_col1,#T_613e3ae8_1dfa_11ec_8023_0242ac1c0002row4_col2,#T_613e3ae8_1dfa_11ec_8023_0242ac1c0002row4_col3,#T_613e3ae8_1dfa_11ec_8023_0242ac1c0002row4_col12,#T_613e3ae8_1dfa_11ec_8023_0242ac1c0002row4_col13,#T_613e3ae8_1dfa_11ec_8023_0242ac1c0002row5_col12,#T_613e3ae8_1dfa_11ec_8023_0242ac1c0002row6_col11,#T_613e3ae8_1dfa_11ec_8023_0242ac1c0002row9_col11,#T_613e3ae8_1dfa_11ec_8023_0242ac1c0002row10_col11,#T_613e3ae8_1dfa_11ec_8023_0242ac1c0002row10_col12,#T_613e3ae8_1dfa_11ec_8023_0242ac1c0002row10_col13,#T_613e3ae8_1dfa_11ec_8023_0242ac1c0002row10_col14,#T_613e3ae8_1dfa_11ec_8023_0242ac1c0002row10_col15,#T_613e3ae8_1dfa_11ec_8023_0242ac1c0002row10_col16{\n",
              "            font-size:  6pt;\n",
              "            background-color:  #000000;\n",
              "            color:  #f1f1f1;\n",
              "        }#T_613e3ae8_1dfa_11ec_8023_0242ac1c0002row1_col11{\n",
              "            font-size:  6pt;\n",
              "            background-color:  #606060;\n",
              "            color:  #f1f1f1;\n",
              "        }#T_613e3ae8_1dfa_11ec_8023_0242ac1c0002row1_col12{\n",
              "            font-size:  6pt;\n",
              "            background-color:  #4d4d4d;\n",
              "            color:  #f1f1f1;\n",
              "        }#T_613e3ae8_1dfa_11ec_8023_0242ac1c0002row1_col14{\n",
              "            font-size:  6pt;\n",
              "            background-color:  #bbbbbb;\n",
              "            color:  #000000;\n",
              "        }#T_613e3ae8_1dfa_11ec_8023_0242ac1c0002row2_col3{\n",
              "            font-size:  6pt;\n",
              "            background-color:  #e4e4e4;\n",
              "            color:  #000000;\n",
              "        }#T_613e3ae8_1dfa_11ec_8023_0242ac1c0002row2_col4,#T_613e3ae8_1dfa_11ec_8023_0242ac1c0002row8_col6{\n",
              "            font-size:  6pt;\n",
              "            background-color:  #6b6b6b;\n",
              "            color:  #000000;\n",
              "        }#T_613e3ae8_1dfa_11ec_8023_0242ac1c0002row2_col8,#T_613e3ae8_1dfa_11ec_8023_0242ac1c0002row2_col14,#T_613e3ae8_1dfa_11ec_8023_0242ac1c0002row3_col14{\n",
              "            font-size:  6pt;\n",
              "            background-color:  #171717;\n",
              "            color:  #f1f1f1;\n",
              "        }#T_613e3ae8_1dfa_11ec_8023_0242ac1c0002row2_col9,#T_613e3ae8_1dfa_11ec_8023_0242ac1c0002row3_col11{\n",
              "            font-size:  6pt;\n",
              "            background-color:  #4b4b4b;\n",
              "            color:  #f1f1f1;\n",
              "        }#T_613e3ae8_1dfa_11ec_8023_0242ac1c0002row2_col10,#T_613e3ae8_1dfa_11ec_8023_0242ac1c0002row7_col10,#T_613e3ae8_1dfa_11ec_8023_0242ac1c0002row8_col8,#T_613e3ae8_1dfa_11ec_8023_0242ac1c0002row8_col10,#T_613e3ae8_1dfa_11ec_8023_0242ac1c0002row9_col8,#T_613e3ae8_1dfa_11ec_8023_0242ac1c0002row9_col10{\n",
              "            font-size:  6pt;\n",
              "            background-color:  #010101;\n",
              "            color:  #f1f1f1;\n",
              "        }#T_613e3ae8_1dfa_11ec_8023_0242ac1c0002row3_col1{\n",
              "            font-size:  6pt;\n",
              "            background-color:  #272727;\n",
              "            color:  #f1f1f1;\n",
              "        }#T_613e3ae8_1dfa_11ec_8023_0242ac1c0002row3_col2{\n",
              "            font-size:  6pt;\n",
              "            background-color:  #0a0a0a;\n",
              "            color:  #f1f1f1;\n",
              "        }#T_613e3ae8_1dfa_11ec_8023_0242ac1c0002row3_col3{\n",
              "            font-size:  6pt;\n",
              "            background-color:  #050505;\n",
              "            color:  #f1f1f1;\n",
              "        }#T_613e3ae8_1dfa_11ec_8023_0242ac1c0002row3_col5{\n",
              "            font-size:  6pt;\n",
              "            background-color:  #333333;\n",
              "            color:  #f1f1f1;\n",
              "        }#T_613e3ae8_1dfa_11ec_8023_0242ac1c0002row3_col6{\n",
              "            font-size:  6pt;\n",
              "            background-color:  #e6e6e6;\n",
              "            color:  #000000;\n",
              "        }#T_613e3ae8_1dfa_11ec_8023_0242ac1c0002row3_col7,#T_613e3ae8_1dfa_11ec_8023_0242ac1c0002row3_col10{\n",
              "            font-size:  6pt;\n",
              "            background-color:  #fafafa;\n",
              "            color:  #000000;\n",
              "        }#T_613e3ae8_1dfa_11ec_8023_0242ac1c0002row3_col8{\n",
              "            font-size:  6pt;\n",
              "            background-color:  #fbfbfb;\n",
              "            color:  #000000;\n",
              "        }#T_613e3ae8_1dfa_11ec_8023_0242ac1c0002row3_col9{\n",
              "            font-size:  6pt;\n",
              "            background-color:  #fdfdfd;\n",
              "            color:  #000000;\n",
              "        }#T_613e3ae8_1dfa_11ec_8023_0242ac1c0002row4_col4{\n",
              "            font-size:  6pt;\n",
              "            background-color:  #1b1b1b;\n",
              "            color:  #f1f1f1;\n",
              "        }#T_613e3ae8_1dfa_11ec_8023_0242ac1c0002row4_col5{\n",
              "            font-size:  6pt;\n",
              "            background-color:  #e0e0e0;\n",
              "            color:  #000000;\n",
              "        }#T_613e3ae8_1dfa_11ec_8023_0242ac1c0002row4_col11{\n",
              "            font-size:  6pt;\n",
              "            background-color:  #4e4e4e;\n",
              "            color:  #f1f1f1;\n",
              "        }#T_613e3ae8_1dfa_11ec_8023_0242ac1c0002row4_col14{\n",
              "            font-size:  6pt;\n",
              "            background-color:  #767676;\n",
              "            color:  #000000;\n",
              "        }#T_613e3ae8_1dfa_11ec_8023_0242ac1c0002row5_col1{\n",
              "            font-size:  6pt;\n",
              "            background-color:  #fcfcfc;\n",
              "            color:  #000000;\n",
              "        }#T_613e3ae8_1dfa_11ec_8023_0242ac1c0002row5_col2,#T_613e3ae8_1dfa_11ec_8023_0242ac1c0002row5_col3{\n",
              "            font-size:  6pt;\n",
              "            background-color:  #f6f6f6;\n",
              "            color:  #000000;\n",
              "        }#T_613e3ae8_1dfa_11ec_8023_0242ac1c0002row5_col4,#T_613e3ae8_1dfa_11ec_8023_0242ac1c0002row7_col7{\n",
              "            font-size:  6pt;\n",
              "            background-color:  #f8f8f8;\n",
              "            color:  #000000;\n",
              "        }#T_613e3ae8_1dfa_11ec_8023_0242ac1c0002row5_col10,#T_613e3ae8_1dfa_11ec_8023_0242ac1c0002row10_col7{\n",
              "            font-size:  6pt;\n",
              "            background-color:  #e8e8e8;\n",
              "            color:  #000000;\n",
              "        }#T_613e3ae8_1dfa_11ec_8023_0242ac1c0002row5_col11{\n",
              "            font-size:  6pt;\n",
              "            background-color:  #222222;\n",
              "            color:  #f1f1f1;\n",
              "        }#T_613e3ae8_1dfa_11ec_8023_0242ac1c0002row5_col13,#T_613e3ae8_1dfa_11ec_8023_0242ac1c0002row6_col12{\n",
              "            font-size:  6pt;\n",
              "            background-color:  #090909;\n",
              "            color:  #f1f1f1;\n",
              "        }#T_613e3ae8_1dfa_11ec_8023_0242ac1c0002row5_col14{\n",
              "            font-size:  6pt;\n",
              "            background-color:  #d0d0d0;\n",
              "            color:  #000000;\n",
              "        }#T_613e3ae8_1dfa_11ec_8023_0242ac1c0002row6_col10,#T_613e3ae8_1dfa_11ec_8023_0242ac1c0002row7_col11,#T_613e3ae8_1dfa_11ec_8023_0242ac1c0002row9_col6{\n",
              "            font-size:  6pt;\n",
              "            background-color:  #060606;\n",
              "            color:  #f1f1f1;\n",
              "        }#T_613e3ae8_1dfa_11ec_8023_0242ac1c0002row6_col13{\n",
              "            font-size:  6pt;\n",
              "            background-color:  #979797;\n",
              "            color:  #000000;\n",
              "        }#T_613e3ae8_1dfa_11ec_8023_0242ac1c0002row7_col8{\n",
              "            font-size:  6pt;\n",
              "            background-color:  #b6b6b6;\n",
              "            color:  #000000;\n",
              "        }#T_613e3ae8_1dfa_11ec_8023_0242ac1c0002row7_col9{\n",
              "            font-size:  6pt;\n",
              "            background-color:  #252525;\n",
              "            color:  #f1f1f1;\n",
              "        }#T_613e3ae8_1dfa_11ec_8023_0242ac1c0002row7_col12{\n",
              "            font-size:  6pt;\n",
              "            background-color:  #999999;\n",
              "            color:  #000000;\n",
              "        }#T_613e3ae8_1dfa_11ec_8023_0242ac1c0002row8_col5{\n",
              "            font-size:  6pt;\n",
              "            background-color:  #f9f9f9;\n",
              "            color:  #000000;\n",
              "        }#T_613e3ae8_1dfa_11ec_8023_0242ac1c0002row8_col7{\n",
              "            font-size:  6pt;\n",
              "            background-color:  #101010;\n",
              "            color:  #f1f1f1;\n",
              "        }#T_613e3ae8_1dfa_11ec_8023_0242ac1c0002row8_col9,#T_613e3ae8_1dfa_11ec_8023_0242ac1c0002row9_col9{\n",
              "            font-size:  6pt;\n",
              "            background-color:  #020202;\n",
              "            color:  #f1f1f1;\n",
              "        }#T_613e3ae8_1dfa_11ec_8023_0242ac1c0002row8_col11{\n",
              "            font-size:  6pt;\n",
              "            background-color:  #545454;\n",
              "            color:  #f1f1f1;\n",
              "        }#T_613e3ae8_1dfa_11ec_8023_0242ac1c0002row8_col12{\n",
              "            font-size:  6pt;\n",
              "            background-color:  #f1f1f1;\n",
              "            color:  #000000;\n",
              "        }#T_613e3ae8_1dfa_11ec_8023_0242ac1c0002row9_col5{\n",
              "            font-size:  6pt;\n",
              "            background-color:  #f7f7f7;\n",
              "            color:  #000000;\n",
              "        }#T_613e3ae8_1dfa_11ec_8023_0242ac1c0002row9_col7{\n",
              "            font-size:  6pt;\n",
              "            background-color:  #030303;\n",
              "            color:  #f1f1f1;\n",
              "        }#T_613e3ae8_1dfa_11ec_8023_0242ac1c0002row9_col12{\n",
              "            font-size:  6pt;\n",
              "            background-color:  #181818;\n",
              "            color:  #f1f1f1;\n",
              "        }#T_613e3ae8_1dfa_11ec_8023_0242ac1c0002row9_col13{\n",
              "            font-size:  6pt;\n",
              "            background-color:  #303030;\n",
              "            color:  #f1f1f1;\n",
              "        }#T_613e3ae8_1dfa_11ec_8023_0242ac1c0002row9_col14{\n",
              "            font-size:  6pt;\n",
              "            background-color:  #a9a9a9;\n",
              "            color:  #000000;\n",
              "        }#T_613e3ae8_1dfa_11ec_8023_0242ac1c0002row9_col15{\n",
              "            font-size:  6pt;\n",
              "            background-color:  #fefefe;\n",
              "            color:  #000000;\n",
              "        }#T_613e3ae8_1dfa_11ec_8023_0242ac1c0002row10_col8,#T_613e3ae8_1dfa_11ec_8023_0242ac1c0002row10_col9{\n",
              "            font-size:  6pt;\n",
              "            background-color:  #bababa;\n",
              "            color:  #000000;\n",
              "        }#T_613e3ae8_1dfa_11ec_8023_0242ac1c0002row10_col10{\n",
              "            font-size:  6pt;\n",
              "            background-color:  #393939;\n",
              "            color:  #f1f1f1;\n",
              "        }</style><table id=\"T_613e3ae8_1dfa_11ec_8023_0242ac1c0002\" ><thead>    <tr>        <th class=\"blank level0\" ></th>        <th class=\"col_heading level0 col0\" >0</th>        <th class=\"col_heading level0 col1\" >1</th>        <th class=\"col_heading level0 col2\" >2</th>        <th class=\"col_heading level0 col3\" >3</th>        <th class=\"col_heading level0 col4\" >4</th>        <th class=\"col_heading level0 col5\" >5</th>        <th class=\"col_heading level0 col6\" >6</th>        <th class=\"col_heading level0 col7\" >7</th>        <th class=\"col_heading level0 col8\" >8</th>        <th class=\"col_heading level0 col9\" >9</th>        <th class=\"col_heading level0 col10\" >10</th>        <th class=\"col_heading level0 col11\" >11</th>        <th class=\"col_heading level0 col12\" >12</th>        <th class=\"col_heading level0 col13\" >13</th>        <th class=\"col_heading level0 col14\" >14</th>        <th class=\"col_heading level0 col15\" >15</th>        <th class=\"col_heading level0 col16\" >16</th>        <th class=\"col_heading level0 col17\" >17</th>    </tr></thead><tbody>\n",
              "                <tr>\n",
              "                        <th id=\"T_613e3ae8_1dfa_11ec_8023_0242ac1c0002level0_row0\" class=\"row_heading level0 row0\" >0</th>\n",
              "                        <td id=\"T_613e3ae8_1dfa_11ec_8023_0242ac1c0002row0_col0\" class=\"data row0 col0\" >0</td>\n",
              "                        <td id=\"T_613e3ae8_1dfa_11ec_8023_0242ac1c0002row0_col1\" class=\"data row0 col1\" >0</td>\n",
              "                        <td id=\"T_613e3ae8_1dfa_11ec_8023_0242ac1c0002row0_col2\" class=\"data row0 col2\" >0</td>\n",
              "                        <td id=\"T_613e3ae8_1dfa_11ec_8023_0242ac1c0002row0_col3\" class=\"data row0 col3\" >0</td>\n",
              "                        <td id=\"T_613e3ae8_1dfa_11ec_8023_0242ac1c0002row0_col4\" class=\"data row0 col4\" >0</td>\n",
              "                        <td id=\"T_613e3ae8_1dfa_11ec_8023_0242ac1c0002row0_col5\" class=\"data row0 col5\" >0</td>\n",
              "                        <td id=\"T_613e3ae8_1dfa_11ec_8023_0242ac1c0002row0_col6\" class=\"data row0 col6\" >0</td>\n",
              "                        <td id=\"T_613e3ae8_1dfa_11ec_8023_0242ac1c0002row0_col7\" class=\"data row0 col7\" >0</td>\n",
              "                        <td id=\"T_613e3ae8_1dfa_11ec_8023_0242ac1c0002row0_col8\" class=\"data row0 col8\" >0</td>\n",
              "                        <td id=\"T_613e3ae8_1dfa_11ec_8023_0242ac1c0002row0_col9\" class=\"data row0 col9\" >0</td>\n",
              "                        <td id=\"T_613e3ae8_1dfa_11ec_8023_0242ac1c0002row0_col10\" class=\"data row0 col10\" >0</td>\n",
              "                        <td id=\"T_613e3ae8_1dfa_11ec_8023_0242ac1c0002row0_col11\" class=\"data row0 col11\" >0</td>\n",
              "                        <td id=\"T_613e3ae8_1dfa_11ec_8023_0242ac1c0002row0_col12\" class=\"data row0 col12\" >0</td>\n",
              "                        <td id=\"T_613e3ae8_1dfa_11ec_8023_0242ac1c0002row0_col13\" class=\"data row0 col13\" >0</td>\n",
              "                        <td id=\"T_613e3ae8_1dfa_11ec_8023_0242ac1c0002row0_col14\" class=\"data row0 col14\" >0</td>\n",
              "                        <td id=\"T_613e3ae8_1dfa_11ec_8023_0242ac1c0002row0_col15\" class=\"data row0 col15\" >0</td>\n",
              "                        <td id=\"T_613e3ae8_1dfa_11ec_8023_0242ac1c0002row0_col16\" class=\"data row0 col16\" >0</td>\n",
              "                        <td id=\"T_613e3ae8_1dfa_11ec_8023_0242ac1c0002row0_col17\" class=\"data row0 col17\" >0</td>\n",
              "            </tr>\n",
              "            <tr>\n",
              "                        <th id=\"T_613e3ae8_1dfa_11ec_8023_0242ac1c0002level0_row1\" class=\"row_heading level0 row1\" >1</th>\n",
              "                        <td id=\"T_613e3ae8_1dfa_11ec_8023_0242ac1c0002row1_col0\" class=\"data row1 col0\" >0</td>\n",
              "                        <td id=\"T_613e3ae8_1dfa_11ec_8023_0242ac1c0002row1_col1\" class=\"data row1 col1\" >0</td>\n",
              "                        <td id=\"T_613e3ae8_1dfa_11ec_8023_0242ac1c0002row1_col2\" class=\"data row1 col2\" >0</td>\n",
              "                        <td id=\"T_613e3ae8_1dfa_11ec_8023_0242ac1c0002row1_col3\" class=\"data row1 col3\" >0</td>\n",
              "                        <td id=\"T_613e3ae8_1dfa_11ec_8023_0242ac1c0002row1_col4\" class=\"data row1 col4\" >0</td>\n",
              "                        <td id=\"T_613e3ae8_1dfa_11ec_8023_0242ac1c0002row1_col5\" class=\"data row1 col5\" >29</td>\n",
              "                        <td id=\"T_613e3ae8_1dfa_11ec_8023_0242ac1c0002row1_col6\" class=\"data row1 col6\" >150</td>\n",
              "                        <td id=\"T_613e3ae8_1dfa_11ec_8023_0242ac1c0002row1_col7\" class=\"data row1 col7\" >195</td>\n",
              "                        <td id=\"T_613e3ae8_1dfa_11ec_8023_0242ac1c0002row1_col8\" class=\"data row1 col8\" >254</td>\n",
              "                        <td id=\"T_613e3ae8_1dfa_11ec_8023_0242ac1c0002row1_col9\" class=\"data row1 col9\" >255</td>\n",
              "                        <td id=\"T_613e3ae8_1dfa_11ec_8023_0242ac1c0002row1_col10\" class=\"data row1 col10\" >254</td>\n",
              "                        <td id=\"T_613e3ae8_1dfa_11ec_8023_0242ac1c0002row1_col11\" class=\"data row1 col11\" >176</td>\n",
              "                        <td id=\"T_613e3ae8_1dfa_11ec_8023_0242ac1c0002row1_col12\" class=\"data row1 col12\" >193</td>\n",
              "                        <td id=\"T_613e3ae8_1dfa_11ec_8023_0242ac1c0002row1_col13\" class=\"data row1 col13\" >150</td>\n",
              "                        <td id=\"T_613e3ae8_1dfa_11ec_8023_0242ac1c0002row1_col14\" class=\"data row1 col14\" >96</td>\n",
              "                        <td id=\"T_613e3ae8_1dfa_11ec_8023_0242ac1c0002row1_col15\" class=\"data row1 col15\" >0</td>\n",
              "                        <td id=\"T_613e3ae8_1dfa_11ec_8023_0242ac1c0002row1_col16\" class=\"data row1 col16\" >0</td>\n",
              "                        <td id=\"T_613e3ae8_1dfa_11ec_8023_0242ac1c0002row1_col17\" class=\"data row1 col17\" >0</td>\n",
              "            </tr>\n",
              "            <tr>\n",
              "                        <th id=\"T_613e3ae8_1dfa_11ec_8023_0242ac1c0002level0_row2\" class=\"row_heading level0 row2\" >2</th>\n",
              "                        <td id=\"T_613e3ae8_1dfa_11ec_8023_0242ac1c0002row2_col0\" class=\"data row2 col0\" >0</td>\n",
              "                        <td id=\"T_613e3ae8_1dfa_11ec_8023_0242ac1c0002row2_col1\" class=\"data row2 col1\" >0</td>\n",
              "                        <td id=\"T_613e3ae8_1dfa_11ec_8023_0242ac1c0002row2_col2\" class=\"data row2 col2\" >0</td>\n",
              "                        <td id=\"T_613e3ae8_1dfa_11ec_8023_0242ac1c0002row2_col3\" class=\"data row2 col3\" >48</td>\n",
              "                        <td id=\"T_613e3ae8_1dfa_11ec_8023_0242ac1c0002row2_col4\" class=\"data row2 col4\" >166</td>\n",
              "                        <td id=\"T_613e3ae8_1dfa_11ec_8023_0242ac1c0002row2_col5\" class=\"data row2 col5\" >224</td>\n",
              "                        <td id=\"T_613e3ae8_1dfa_11ec_8023_0242ac1c0002row2_col6\" class=\"data row2 col6\" >253</td>\n",
              "                        <td id=\"T_613e3ae8_1dfa_11ec_8023_0242ac1c0002row2_col7\" class=\"data row2 col7\" >253</td>\n",
              "                        <td id=\"T_613e3ae8_1dfa_11ec_8023_0242ac1c0002row2_col8\" class=\"data row2 col8\" >234</td>\n",
              "                        <td id=\"T_613e3ae8_1dfa_11ec_8023_0242ac1c0002row2_col9\" class=\"data row2 col9\" >196</td>\n",
              "                        <td id=\"T_613e3ae8_1dfa_11ec_8023_0242ac1c0002row2_col10\" class=\"data row2 col10\" >253</td>\n",
              "                        <td id=\"T_613e3ae8_1dfa_11ec_8023_0242ac1c0002row2_col11\" class=\"data row2 col11\" >253</td>\n",
              "                        <td id=\"T_613e3ae8_1dfa_11ec_8023_0242ac1c0002row2_col12\" class=\"data row2 col12\" >253</td>\n",
              "                        <td id=\"T_613e3ae8_1dfa_11ec_8023_0242ac1c0002row2_col13\" class=\"data row2 col13\" >253</td>\n",
              "                        <td id=\"T_613e3ae8_1dfa_11ec_8023_0242ac1c0002row2_col14\" class=\"data row2 col14\" >233</td>\n",
              "                        <td id=\"T_613e3ae8_1dfa_11ec_8023_0242ac1c0002row2_col15\" class=\"data row2 col15\" >0</td>\n",
              "                        <td id=\"T_613e3ae8_1dfa_11ec_8023_0242ac1c0002row2_col16\" class=\"data row2 col16\" >0</td>\n",
              "                        <td id=\"T_613e3ae8_1dfa_11ec_8023_0242ac1c0002row2_col17\" class=\"data row2 col17\" >0</td>\n",
              "            </tr>\n",
              "            <tr>\n",
              "                        <th id=\"T_613e3ae8_1dfa_11ec_8023_0242ac1c0002level0_row3\" class=\"row_heading level0 row3\" >3</th>\n",
              "                        <td id=\"T_613e3ae8_1dfa_11ec_8023_0242ac1c0002row3_col0\" class=\"data row3 col0\" >0</td>\n",
              "                        <td id=\"T_613e3ae8_1dfa_11ec_8023_0242ac1c0002row3_col1\" class=\"data row3 col1\" >93</td>\n",
              "                        <td id=\"T_613e3ae8_1dfa_11ec_8023_0242ac1c0002row3_col2\" class=\"data row3 col2\" >244</td>\n",
              "                        <td id=\"T_613e3ae8_1dfa_11ec_8023_0242ac1c0002row3_col3\" class=\"data row3 col3\" >249</td>\n",
              "                        <td id=\"T_613e3ae8_1dfa_11ec_8023_0242ac1c0002row3_col4\" class=\"data row3 col4\" >253</td>\n",
              "                        <td id=\"T_613e3ae8_1dfa_11ec_8023_0242ac1c0002row3_col5\" class=\"data row3 col5\" >187</td>\n",
              "                        <td id=\"T_613e3ae8_1dfa_11ec_8023_0242ac1c0002row3_col6\" class=\"data row3 col6\" >46</td>\n",
              "                        <td id=\"T_613e3ae8_1dfa_11ec_8023_0242ac1c0002row3_col7\" class=\"data row3 col7\" >10</td>\n",
              "                        <td id=\"T_613e3ae8_1dfa_11ec_8023_0242ac1c0002row3_col8\" class=\"data row3 col8\" >8</td>\n",
              "                        <td id=\"T_613e3ae8_1dfa_11ec_8023_0242ac1c0002row3_col9\" class=\"data row3 col9\" >4</td>\n",
              "                        <td id=\"T_613e3ae8_1dfa_11ec_8023_0242ac1c0002row3_col10\" class=\"data row3 col10\" >10</td>\n",
              "                        <td id=\"T_613e3ae8_1dfa_11ec_8023_0242ac1c0002row3_col11\" class=\"data row3 col11\" >194</td>\n",
              "                        <td id=\"T_613e3ae8_1dfa_11ec_8023_0242ac1c0002row3_col12\" class=\"data row3 col12\" >253</td>\n",
              "                        <td id=\"T_613e3ae8_1dfa_11ec_8023_0242ac1c0002row3_col13\" class=\"data row3 col13\" >253</td>\n",
              "                        <td id=\"T_613e3ae8_1dfa_11ec_8023_0242ac1c0002row3_col14\" class=\"data row3 col14\" >233</td>\n",
              "                        <td id=\"T_613e3ae8_1dfa_11ec_8023_0242ac1c0002row3_col15\" class=\"data row3 col15\" >0</td>\n",
              "                        <td id=\"T_613e3ae8_1dfa_11ec_8023_0242ac1c0002row3_col16\" class=\"data row3 col16\" >0</td>\n",
              "                        <td id=\"T_613e3ae8_1dfa_11ec_8023_0242ac1c0002row3_col17\" class=\"data row3 col17\" >0</td>\n",
              "            </tr>\n",
              "            <tr>\n",
              "                        <th id=\"T_613e3ae8_1dfa_11ec_8023_0242ac1c0002level0_row4\" class=\"row_heading level0 row4\" >4</th>\n",
              "                        <td id=\"T_613e3ae8_1dfa_11ec_8023_0242ac1c0002row4_col0\" class=\"data row4 col0\" >0</td>\n",
              "                        <td id=\"T_613e3ae8_1dfa_11ec_8023_0242ac1c0002row4_col1\" class=\"data row4 col1\" >107</td>\n",
              "                        <td id=\"T_613e3ae8_1dfa_11ec_8023_0242ac1c0002row4_col2\" class=\"data row4 col2\" >253</td>\n",
              "                        <td id=\"T_613e3ae8_1dfa_11ec_8023_0242ac1c0002row4_col3\" class=\"data row4 col3\" >253</td>\n",
              "                        <td id=\"T_613e3ae8_1dfa_11ec_8023_0242ac1c0002row4_col4\" class=\"data row4 col4\" >230</td>\n",
              "                        <td id=\"T_613e3ae8_1dfa_11ec_8023_0242ac1c0002row4_col5\" class=\"data row4 col5\" >48</td>\n",
              "                        <td id=\"T_613e3ae8_1dfa_11ec_8023_0242ac1c0002row4_col6\" class=\"data row4 col6\" >0</td>\n",
              "                        <td id=\"T_613e3ae8_1dfa_11ec_8023_0242ac1c0002row4_col7\" class=\"data row4 col7\" >0</td>\n",
              "                        <td id=\"T_613e3ae8_1dfa_11ec_8023_0242ac1c0002row4_col8\" class=\"data row4 col8\" >0</td>\n",
              "                        <td id=\"T_613e3ae8_1dfa_11ec_8023_0242ac1c0002row4_col9\" class=\"data row4 col9\" >0</td>\n",
              "                        <td id=\"T_613e3ae8_1dfa_11ec_8023_0242ac1c0002row4_col10\" class=\"data row4 col10\" >0</td>\n",
              "                        <td id=\"T_613e3ae8_1dfa_11ec_8023_0242ac1c0002row4_col11\" class=\"data row4 col11\" >192</td>\n",
              "                        <td id=\"T_613e3ae8_1dfa_11ec_8023_0242ac1c0002row4_col12\" class=\"data row4 col12\" >253</td>\n",
              "                        <td id=\"T_613e3ae8_1dfa_11ec_8023_0242ac1c0002row4_col13\" class=\"data row4 col13\" >253</td>\n",
              "                        <td id=\"T_613e3ae8_1dfa_11ec_8023_0242ac1c0002row4_col14\" class=\"data row4 col14\" >156</td>\n",
              "                        <td id=\"T_613e3ae8_1dfa_11ec_8023_0242ac1c0002row4_col15\" class=\"data row4 col15\" >0</td>\n",
              "                        <td id=\"T_613e3ae8_1dfa_11ec_8023_0242ac1c0002row4_col16\" class=\"data row4 col16\" >0</td>\n",
              "                        <td id=\"T_613e3ae8_1dfa_11ec_8023_0242ac1c0002row4_col17\" class=\"data row4 col17\" >0</td>\n",
              "            </tr>\n",
              "            <tr>\n",
              "                        <th id=\"T_613e3ae8_1dfa_11ec_8023_0242ac1c0002level0_row5\" class=\"row_heading level0 row5\" >5</th>\n",
              "                        <td id=\"T_613e3ae8_1dfa_11ec_8023_0242ac1c0002row5_col0\" class=\"data row5 col0\" >0</td>\n",
              "                        <td id=\"T_613e3ae8_1dfa_11ec_8023_0242ac1c0002row5_col1\" class=\"data row5 col1\" >3</td>\n",
              "                        <td id=\"T_613e3ae8_1dfa_11ec_8023_0242ac1c0002row5_col2\" class=\"data row5 col2\" >20</td>\n",
              "                        <td id=\"T_613e3ae8_1dfa_11ec_8023_0242ac1c0002row5_col3\" class=\"data row5 col3\" >20</td>\n",
              "                        <td id=\"T_613e3ae8_1dfa_11ec_8023_0242ac1c0002row5_col4\" class=\"data row5 col4\" >15</td>\n",
              "                        <td id=\"T_613e3ae8_1dfa_11ec_8023_0242ac1c0002row5_col5\" class=\"data row5 col5\" >0</td>\n",
              "                        <td id=\"T_613e3ae8_1dfa_11ec_8023_0242ac1c0002row5_col6\" class=\"data row5 col6\" >0</td>\n",
              "                        <td id=\"T_613e3ae8_1dfa_11ec_8023_0242ac1c0002row5_col7\" class=\"data row5 col7\" >0</td>\n",
              "                        <td id=\"T_613e3ae8_1dfa_11ec_8023_0242ac1c0002row5_col8\" class=\"data row5 col8\" >0</td>\n",
              "                        <td id=\"T_613e3ae8_1dfa_11ec_8023_0242ac1c0002row5_col9\" class=\"data row5 col9\" >0</td>\n",
              "                        <td id=\"T_613e3ae8_1dfa_11ec_8023_0242ac1c0002row5_col10\" class=\"data row5 col10\" >43</td>\n",
              "                        <td id=\"T_613e3ae8_1dfa_11ec_8023_0242ac1c0002row5_col11\" class=\"data row5 col11\" >224</td>\n",
              "                        <td id=\"T_613e3ae8_1dfa_11ec_8023_0242ac1c0002row5_col12\" class=\"data row5 col12\" >253</td>\n",
              "                        <td id=\"T_613e3ae8_1dfa_11ec_8023_0242ac1c0002row5_col13\" class=\"data row5 col13\" >245</td>\n",
              "                        <td id=\"T_613e3ae8_1dfa_11ec_8023_0242ac1c0002row5_col14\" class=\"data row5 col14\" >74</td>\n",
              "                        <td id=\"T_613e3ae8_1dfa_11ec_8023_0242ac1c0002row5_col15\" class=\"data row5 col15\" >0</td>\n",
              "                        <td id=\"T_613e3ae8_1dfa_11ec_8023_0242ac1c0002row5_col16\" class=\"data row5 col16\" >0</td>\n",
              "                        <td id=\"T_613e3ae8_1dfa_11ec_8023_0242ac1c0002row5_col17\" class=\"data row5 col17\" >0</td>\n",
              "            </tr>\n",
              "            <tr>\n",
              "                        <th id=\"T_613e3ae8_1dfa_11ec_8023_0242ac1c0002level0_row6\" class=\"row_heading level0 row6\" >6</th>\n",
              "                        <td id=\"T_613e3ae8_1dfa_11ec_8023_0242ac1c0002row6_col0\" class=\"data row6 col0\" >0</td>\n",
              "                        <td id=\"T_613e3ae8_1dfa_11ec_8023_0242ac1c0002row6_col1\" class=\"data row6 col1\" >0</td>\n",
              "                        <td id=\"T_613e3ae8_1dfa_11ec_8023_0242ac1c0002row6_col2\" class=\"data row6 col2\" >0</td>\n",
              "                        <td id=\"T_613e3ae8_1dfa_11ec_8023_0242ac1c0002row6_col3\" class=\"data row6 col3\" >0</td>\n",
              "                        <td id=\"T_613e3ae8_1dfa_11ec_8023_0242ac1c0002row6_col4\" class=\"data row6 col4\" >0</td>\n",
              "                        <td id=\"T_613e3ae8_1dfa_11ec_8023_0242ac1c0002row6_col5\" class=\"data row6 col5\" >0</td>\n",
              "                        <td id=\"T_613e3ae8_1dfa_11ec_8023_0242ac1c0002row6_col6\" class=\"data row6 col6\" >0</td>\n",
              "                        <td id=\"T_613e3ae8_1dfa_11ec_8023_0242ac1c0002row6_col7\" class=\"data row6 col7\" >0</td>\n",
              "                        <td id=\"T_613e3ae8_1dfa_11ec_8023_0242ac1c0002row6_col8\" class=\"data row6 col8\" >0</td>\n",
              "                        <td id=\"T_613e3ae8_1dfa_11ec_8023_0242ac1c0002row6_col9\" class=\"data row6 col9\" >0</td>\n",
              "                        <td id=\"T_613e3ae8_1dfa_11ec_8023_0242ac1c0002row6_col10\" class=\"data row6 col10\" >249</td>\n",
              "                        <td id=\"T_613e3ae8_1dfa_11ec_8023_0242ac1c0002row6_col11\" class=\"data row6 col11\" >253</td>\n",
              "                        <td id=\"T_613e3ae8_1dfa_11ec_8023_0242ac1c0002row6_col12\" class=\"data row6 col12\" >245</td>\n",
              "                        <td id=\"T_613e3ae8_1dfa_11ec_8023_0242ac1c0002row6_col13\" class=\"data row6 col13\" >126</td>\n",
              "                        <td id=\"T_613e3ae8_1dfa_11ec_8023_0242ac1c0002row6_col14\" class=\"data row6 col14\" >0</td>\n",
              "                        <td id=\"T_613e3ae8_1dfa_11ec_8023_0242ac1c0002row6_col15\" class=\"data row6 col15\" >0</td>\n",
              "                        <td id=\"T_613e3ae8_1dfa_11ec_8023_0242ac1c0002row6_col16\" class=\"data row6 col16\" >0</td>\n",
              "                        <td id=\"T_613e3ae8_1dfa_11ec_8023_0242ac1c0002row6_col17\" class=\"data row6 col17\" >0</td>\n",
              "            </tr>\n",
              "            <tr>\n",
              "                        <th id=\"T_613e3ae8_1dfa_11ec_8023_0242ac1c0002level0_row7\" class=\"row_heading level0 row7\" >7</th>\n",
              "                        <td id=\"T_613e3ae8_1dfa_11ec_8023_0242ac1c0002row7_col0\" class=\"data row7 col0\" >0</td>\n",
              "                        <td id=\"T_613e3ae8_1dfa_11ec_8023_0242ac1c0002row7_col1\" class=\"data row7 col1\" >0</td>\n",
              "                        <td id=\"T_613e3ae8_1dfa_11ec_8023_0242ac1c0002row7_col2\" class=\"data row7 col2\" >0</td>\n",
              "                        <td id=\"T_613e3ae8_1dfa_11ec_8023_0242ac1c0002row7_col3\" class=\"data row7 col3\" >0</td>\n",
              "                        <td id=\"T_613e3ae8_1dfa_11ec_8023_0242ac1c0002row7_col4\" class=\"data row7 col4\" >0</td>\n",
              "                        <td id=\"T_613e3ae8_1dfa_11ec_8023_0242ac1c0002row7_col5\" class=\"data row7 col5\" >0</td>\n",
              "                        <td id=\"T_613e3ae8_1dfa_11ec_8023_0242ac1c0002row7_col6\" class=\"data row7 col6\" >0</td>\n",
              "                        <td id=\"T_613e3ae8_1dfa_11ec_8023_0242ac1c0002row7_col7\" class=\"data row7 col7\" >14</td>\n",
              "                        <td id=\"T_613e3ae8_1dfa_11ec_8023_0242ac1c0002row7_col8\" class=\"data row7 col8\" >101</td>\n",
              "                        <td id=\"T_613e3ae8_1dfa_11ec_8023_0242ac1c0002row7_col9\" class=\"data row7 col9\" >223</td>\n",
              "                        <td id=\"T_613e3ae8_1dfa_11ec_8023_0242ac1c0002row7_col10\" class=\"data row7 col10\" >253</td>\n",
              "                        <td id=\"T_613e3ae8_1dfa_11ec_8023_0242ac1c0002row7_col11\" class=\"data row7 col11\" >248</td>\n",
              "                        <td id=\"T_613e3ae8_1dfa_11ec_8023_0242ac1c0002row7_col12\" class=\"data row7 col12\" >124</td>\n",
              "                        <td id=\"T_613e3ae8_1dfa_11ec_8023_0242ac1c0002row7_col13\" class=\"data row7 col13\" >0</td>\n",
              "                        <td id=\"T_613e3ae8_1dfa_11ec_8023_0242ac1c0002row7_col14\" class=\"data row7 col14\" >0</td>\n",
              "                        <td id=\"T_613e3ae8_1dfa_11ec_8023_0242ac1c0002row7_col15\" class=\"data row7 col15\" >0</td>\n",
              "                        <td id=\"T_613e3ae8_1dfa_11ec_8023_0242ac1c0002row7_col16\" class=\"data row7 col16\" >0</td>\n",
              "                        <td id=\"T_613e3ae8_1dfa_11ec_8023_0242ac1c0002row7_col17\" class=\"data row7 col17\" >0</td>\n",
              "            </tr>\n",
              "            <tr>\n",
              "                        <th id=\"T_613e3ae8_1dfa_11ec_8023_0242ac1c0002level0_row8\" class=\"row_heading level0 row8\" >8</th>\n",
              "                        <td id=\"T_613e3ae8_1dfa_11ec_8023_0242ac1c0002row8_col0\" class=\"data row8 col0\" >0</td>\n",
              "                        <td id=\"T_613e3ae8_1dfa_11ec_8023_0242ac1c0002row8_col1\" class=\"data row8 col1\" >0</td>\n",
              "                        <td id=\"T_613e3ae8_1dfa_11ec_8023_0242ac1c0002row8_col2\" class=\"data row8 col2\" >0</td>\n",
              "                        <td id=\"T_613e3ae8_1dfa_11ec_8023_0242ac1c0002row8_col3\" class=\"data row8 col3\" >0</td>\n",
              "                        <td id=\"T_613e3ae8_1dfa_11ec_8023_0242ac1c0002row8_col4\" class=\"data row8 col4\" >0</td>\n",
              "                        <td id=\"T_613e3ae8_1dfa_11ec_8023_0242ac1c0002row8_col5\" class=\"data row8 col5\" >11</td>\n",
              "                        <td id=\"T_613e3ae8_1dfa_11ec_8023_0242ac1c0002row8_col6\" class=\"data row8 col6\" >166</td>\n",
              "                        <td id=\"T_613e3ae8_1dfa_11ec_8023_0242ac1c0002row8_col7\" class=\"data row8 col7\" >239</td>\n",
              "                        <td id=\"T_613e3ae8_1dfa_11ec_8023_0242ac1c0002row8_col8\" class=\"data row8 col8\" >253</td>\n",
              "                        <td id=\"T_613e3ae8_1dfa_11ec_8023_0242ac1c0002row8_col9\" class=\"data row8 col9\" >253</td>\n",
              "                        <td id=\"T_613e3ae8_1dfa_11ec_8023_0242ac1c0002row8_col10\" class=\"data row8 col10\" >253</td>\n",
              "                        <td id=\"T_613e3ae8_1dfa_11ec_8023_0242ac1c0002row8_col11\" class=\"data row8 col11\" >187</td>\n",
              "                        <td id=\"T_613e3ae8_1dfa_11ec_8023_0242ac1c0002row8_col12\" class=\"data row8 col12\" >30</td>\n",
              "                        <td id=\"T_613e3ae8_1dfa_11ec_8023_0242ac1c0002row8_col13\" class=\"data row8 col13\" >0</td>\n",
              "                        <td id=\"T_613e3ae8_1dfa_11ec_8023_0242ac1c0002row8_col14\" class=\"data row8 col14\" >0</td>\n",
              "                        <td id=\"T_613e3ae8_1dfa_11ec_8023_0242ac1c0002row8_col15\" class=\"data row8 col15\" >0</td>\n",
              "                        <td id=\"T_613e3ae8_1dfa_11ec_8023_0242ac1c0002row8_col16\" class=\"data row8 col16\" >0</td>\n",
              "                        <td id=\"T_613e3ae8_1dfa_11ec_8023_0242ac1c0002row8_col17\" class=\"data row8 col17\" >0</td>\n",
              "            </tr>\n",
              "            <tr>\n",
              "                        <th id=\"T_613e3ae8_1dfa_11ec_8023_0242ac1c0002level0_row9\" class=\"row_heading level0 row9\" >9</th>\n",
              "                        <td id=\"T_613e3ae8_1dfa_11ec_8023_0242ac1c0002row9_col0\" class=\"data row9 col0\" >0</td>\n",
              "                        <td id=\"T_613e3ae8_1dfa_11ec_8023_0242ac1c0002row9_col1\" class=\"data row9 col1\" >0</td>\n",
              "                        <td id=\"T_613e3ae8_1dfa_11ec_8023_0242ac1c0002row9_col2\" class=\"data row9 col2\" >0</td>\n",
              "                        <td id=\"T_613e3ae8_1dfa_11ec_8023_0242ac1c0002row9_col3\" class=\"data row9 col3\" >0</td>\n",
              "                        <td id=\"T_613e3ae8_1dfa_11ec_8023_0242ac1c0002row9_col4\" class=\"data row9 col4\" >0</td>\n",
              "                        <td id=\"T_613e3ae8_1dfa_11ec_8023_0242ac1c0002row9_col5\" class=\"data row9 col5\" >16</td>\n",
              "                        <td id=\"T_613e3ae8_1dfa_11ec_8023_0242ac1c0002row9_col6\" class=\"data row9 col6\" >248</td>\n",
              "                        <td id=\"T_613e3ae8_1dfa_11ec_8023_0242ac1c0002row9_col7\" class=\"data row9 col7\" >250</td>\n",
              "                        <td id=\"T_613e3ae8_1dfa_11ec_8023_0242ac1c0002row9_col8\" class=\"data row9 col8\" >253</td>\n",
              "                        <td id=\"T_613e3ae8_1dfa_11ec_8023_0242ac1c0002row9_col9\" class=\"data row9 col9\" >253</td>\n",
              "                        <td id=\"T_613e3ae8_1dfa_11ec_8023_0242ac1c0002row9_col10\" class=\"data row9 col10\" >253</td>\n",
              "                        <td id=\"T_613e3ae8_1dfa_11ec_8023_0242ac1c0002row9_col11\" class=\"data row9 col11\" >253</td>\n",
              "                        <td id=\"T_613e3ae8_1dfa_11ec_8023_0242ac1c0002row9_col12\" class=\"data row9 col12\" >232</td>\n",
              "                        <td id=\"T_613e3ae8_1dfa_11ec_8023_0242ac1c0002row9_col13\" class=\"data row9 col13\" >213</td>\n",
              "                        <td id=\"T_613e3ae8_1dfa_11ec_8023_0242ac1c0002row9_col14\" class=\"data row9 col14\" >111</td>\n",
              "                        <td id=\"T_613e3ae8_1dfa_11ec_8023_0242ac1c0002row9_col15\" class=\"data row9 col15\" >2</td>\n",
              "                        <td id=\"T_613e3ae8_1dfa_11ec_8023_0242ac1c0002row9_col16\" class=\"data row9 col16\" >0</td>\n",
              "                        <td id=\"T_613e3ae8_1dfa_11ec_8023_0242ac1c0002row9_col17\" class=\"data row9 col17\" >0</td>\n",
              "            </tr>\n",
              "            <tr>\n",
              "                        <th id=\"T_613e3ae8_1dfa_11ec_8023_0242ac1c0002level0_row10\" class=\"row_heading level0 row10\" >10</th>\n",
              "                        <td id=\"T_613e3ae8_1dfa_11ec_8023_0242ac1c0002row10_col0\" class=\"data row10 col0\" >0</td>\n",
              "                        <td id=\"T_613e3ae8_1dfa_11ec_8023_0242ac1c0002row10_col1\" class=\"data row10 col1\" >0</td>\n",
              "                        <td id=\"T_613e3ae8_1dfa_11ec_8023_0242ac1c0002row10_col2\" class=\"data row10 col2\" >0</td>\n",
              "                        <td id=\"T_613e3ae8_1dfa_11ec_8023_0242ac1c0002row10_col3\" class=\"data row10 col3\" >0</td>\n",
              "                        <td id=\"T_613e3ae8_1dfa_11ec_8023_0242ac1c0002row10_col4\" class=\"data row10 col4\" >0</td>\n",
              "                        <td id=\"T_613e3ae8_1dfa_11ec_8023_0242ac1c0002row10_col5\" class=\"data row10 col5\" >0</td>\n",
              "                        <td id=\"T_613e3ae8_1dfa_11ec_8023_0242ac1c0002row10_col6\" class=\"data row10 col6\" >0</td>\n",
              "                        <td id=\"T_613e3ae8_1dfa_11ec_8023_0242ac1c0002row10_col7\" class=\"data row10 col7\" >43</td>\n",
              "                        <td id=\"T_613e3ae8_1dfa_11ec_8023_0242ac1c0002row10_col8\" class=\"data row10 col8\" >98</td>\n",
              "                        <td id=\"T_613e3ae8_1dfa_11ec_8023_0242ac1c0002row10_col9\" class=\"data row10 col9\" >98</td>\n",
              "                        <td id=\"T_613e3ae8_1dfa_11ec_8023_0242ac1c0002row10_col10\" class=\"data row10 col10\" >208</td>\n",
              "                        <td id=\"T_613e3ae8_1dfa_11ec_8023_0242ac1c0002row10_col11\" class=\"data row10 col11\" >253</td>\n",
              "                        <td id=\"T_613e3ae8_1dfa_11ec_8023_0242ac1c0002row10_col12\" class=\"data row10 col12\" >253</td>\n",
              "                        <td id=\"T_613e3ae8_1dfa_11ec_8023_0242ac1c0002row10_col13\" class=\"data row10 col13\" >253</td>\n",
              "                        <td id=\"T_613e3ae8_1dfa_11ec_8023_0242ac1c0002row10_col14\" class=\"data row10 col14\" >253</td>\n",
              "                        <td id=\"T_613e3ae8_1dfa_11ec_8023_0242ac1c0002row10_col15\" class=\"data row10 col15\" >187</td>\n",
              "                        <td id=\"T_613e3ae8_1dfa_11ec_8023_0242ac1c0002row10_col16\" class=\"data row10 col16\" >22</td>\n",
              "                        <td id=\"T_613e3ae8_1dfa_11ec_8023_0242ac1c0002row10_col17\" class=\"data row10 col17\" >0</td>\n",
              "            </tr>\n",
              "    </tbody></table>"
            ],
            "text/plain": [
              "<pandas.io.formats.style.Styler at 0x7efc56116d90>"
            ]
          },
          "metadata": {},
          "execution_count": 216
        }
      ]
    },
    {
      "cell_type": "markdown",
      "metadata": {
        "id": "Sem96N1kugHh"
      },
      "source": [
        "<img width=\"453\" id=\"output_pd_pixels\" src=\"https://github.com/fastai/fastbook/blob/master/images/att_00058.png?raw=1\">"
      ]
    },
    {
      "cell_type": "markdown",
      "metadata": {
        "id": "dTzPxb8EugHi"
      },
      "source": [
        "You can see that the background white pixels are stored as the number 0, black is the number 255, and shades of gray are between the two. The entire image contains 28 pixels across and 28 pixels down, for a total of 784 pixels. (This is much smaller than an image that you would get from a phone camera, which has millions of pixels, but is a convenient size for our initial learning and experiments. We will build up to bigger, full-color images soon.)\n",
        "\n",
        "So, now you've seen what an image looks like to a computer, let's recall our goal: **create a model that can recognize 3s and 7s**. How might you go about getting a computer to do that?\n",
        "\n",
        "> Warning: Stop and Think!: Before you read on, take a moment to think about how a computer might be able to recognize these two different digits. What kinds of features might it be able to look at? How might it be able to identify these features? How could it combine them together? Learning works best when you try to solve problems yourself, rather than just reading somebody else's answers; so step away from this book for a few minutes, grab a piece of paper and pen, and jot some ideas down…"
      ]
    },
    {
      "cell_type": "code",
      "metadata": {
        "id": "-KzhYM-JrHUe",
        "colab": {
          "base_uri": "https://localhost:8080/",
          "height": 251
        },
        "outputId": "81d5f554-6bc7-443a-bda8-a4bd42dcc3b8"
      },
      "source": [
        "# test Pandas styler\n",
        "df = pd.DataFrame(np.random.randn(10, 4))\n",
        "df.style.set_properties(color=\"white\", align=\"right\")\n",
        "df.style.set_properties(**{'font-size':'6pt'}).background_gradient('Greys')"
      ],
      "execution_count": 217,
      "outputs": [
        {
          "output_type": "execute_result",
          "data": {
            "text/html": [
              "<style  type=\"text/css\" >\n",
              "#T_614413aa_1dfa_11ec_8023_0242ac1c0002row0_col0{\n",
              "            font-size:  6pt;\n",
              "            background-color:  #090909;\n",
              "            color:  #f1f1f1;\n",
              "        }#T_614413aa_1dfa_11ec_8023_0242ac1c0002row0_col1{\n",
              "            font-size:  6pt;\n",
              "            background-color:  #7f7f7f;\n",
              "            color:  #000000;\n",
              "        }#T_614413aa_1dfa_11ec_8023_0242ac1c0002row0_col2{\n",
              "            font-size:  6pt;\n",
              "            background-color:  #636363;\n",
              "            color:  #f1f1f1;\n",
              "        }#T_614413aa_1dfa_11ec_8023_0242ac1c0002row0_col3{\n",
              "            font-size:  6pt;\n",
              "            background-color:  #9d9d9d;\n",
              "            color:  #000000;\n",
              "        }#T_614413aa_1dfa_11ec_8023_0242ac1c0002row1_col0,#T_614413aa_1dfa_11ec_8023_0242ac1c0002row2_col1,#T_614413aa_1dfa_11ec_8023_0242ac1c0002row8_col2,#T_614413aa_1dfa_11ec_8023_0242ac1c0002row9_col3{\n",
              "            font-size:  6pt;\n",
              "            background-color:  #ffffff;\n",
              "            color:  #000000;\n",
              "        }#T_614413aa_1dfa_11ec_8023_0242ac1c0002row1_col1{\n",
              "            font-size:  6pt;\n",
              "            background-color:  #cbcbcb;\n",
              "            color:  #000000;\n",
              "        }#T_614413aa_1dfa_11ec_8023_0242ac1c0002row1_col2{\n",
              "            font-size:  6pt;\n",
              "            background-color:  #7c7c7c;\n",
              "            color:  #000000;\n",
              "        }#T_614413aa_1dfa_11ec_8023_0242ac1c0002row1_col3{\n",
              "            font-size:  6pt;\n",
              "            background-color:  #282828;\n",
              "            color:  #f1f1f1;\n",
              "        }#T_614413aa_1dfa_11ec_8023_0242ac1c0002row2_col0{\n",
              "            font-size:  6pt;\n",
              "            background-color:  #414141;\n",
              "            color:  #f1f1f1;\n",
              "        }#T_614413aa_1dfa_11ec_8023_0242ac1c0002row2_col2,#T_614413aa_1dfa_11ec_8023_0242ac1c0002row4_col2{\n",
              "            font-size:  6pt;\n",
              "            background-color:  #3d3d3d;\n",
              "            color:  #f1f1f1;\n",
              "        }#T_614413aa_1dfa_11ec_8023_0242ac1c0002row2_col3{\n",
              "            font-size:  6pt;\n",
              "            background-color:  #a4a4a4;\n",
              "            color:  #000000;\n",
              "        }#T_614413aa_1dfa_11ec_8023_0242ac1c0002row3_col0{\n",
              "            font-size:  6pt;\n",
              "            background-color:  #c3c3c3;\n",
              "            color:  #000000;\n",
              "        }#T_614413aa_1dfa_11ec_8023_0242ac1c0002row3_col1{\n",
              "            font-size:  6pt;\n",
              "            background-color:  #5c5c5c;\n",
              "            color:  #f1f1f1;\n",
              "        }#T_614413aa_1dfa_11ec_8023_0242ac1c0002row3_col2,#T_614413aa_1dfa_11ec_8023_0242ac1c0002row6_col0,#T_614413aa_1dfa_11ec_8023_0242ac1c0002row7_col3,#T_614413aa_1dfa_11ec_8023_0242ac1c0002row8_col1{\n",
              "            font-size:  6pt;\n",
              "            background-color:  #000000;\n",
              "            color:  #f1f1f1;\n",
              "        }#T_614413aa_1dfa_11ec_8023_0242ac1c0002row3_col3{\n",
              "            font-size:  6pt;\n",
              "            background-color:  #363636;\n",
              "            color:  #f1f1f1;\n",
              "        }#T_614413aa_1dfa_11ec_8023_0242ac1c0002row4_col0{\n",
              "            font-size:  6pt;\n",
              "            background-color:  #d3d3d3;\n",
              "            color:  #000000;\n",
              "        }#T_614413aa_1dfa_11ec_8023_0242ac1c0002row4_col1,#T_614413aa_1dfa_11ec_8023_0242ac1c0002row5_col0{\n",
              "            font-size:  6pt;\n",
              "            background-color:  #aaaaaa;\n",
              "            color:  #000000;\n",
              "        }#T_614413aa_1dfa_11ec_8023_0242ac1c0002row4_col3{\n",
              "            font-size:  6pt;\n",
              "            background-color:  #303030;\n",
              "            color:  #f1f1f1;\n",
              "        }#T_614413aa_1dfa_11ec_8023_0242ac1c0002row5_col1{\n",
              "            font-size:  6pt;\n",
              "            background-color:  #9e9e9e;\n",
              "            color:  #000000;\n",
              "        }#T_614413aa_1dfa_11ec_8023_0242ac1c0002row5_col2{\n",
              "            font-size:  6pt;\n",
              "            background-color:  #b0b0b0;\n",
              "            color:  #000000;\n",
              "        }#T_614413aa_1dfa_11ec_8023_0242ac1c0002row5_col3{\n",
              "            font-size:  6pt;\n",
              "            background-color:  #dedede;\n",
              "            color:  #000000;\n",
              "        }#T_614413aa_1dfa_11ec_8023_0242ac1c0002row6_col1{\n",
              "            font-size:  6pt;\n",
              "            background-color:  #131313;\n",
              "            color:  #f1f1f1;\n",
              "        }#T_614413aa_1dfa_11ec_8023_0242ac1c0002row6_col2{\n",
              "            font-size:  6pt;\n",
              "            background-color:  #606060;\n",
              "            color:  #f1f1f1;\n",
              "        }#T_614413aa_1dfa_11ec_8023_0242ac1c0002row6_col3{\n",
              "            font-size:  6pt;\n",
              "            background-color:  #2e2e2e;\n",
              "            color:  #f1f1f1;\n",
              "        }#T_614413aa_1dfa_11ec_8023_0242ac1c0002row7_col0{\n",
              "            font-size:  6pt;\n",
              "            background-color:  #3f3f3f;\n",
              "            color:  #f1f1f1;\n",
              "        }#T_614413aa_1dfa_11ec_8023_0242ac1c0002row7_col1{\n",
              "            font-size:  6pt;\n",
              "            background-color:  #c5c5c5;\n",
              "            color:  #000000;\n",
              "        }#T_614413aa_1dfa_11ec_8023_0242ac1c0002row7_col2{\n",
              "            font-size:  6pt;\n",
              "            background-color:  #393939;\n",
              "            color:  #f1f1f1;\n",
              "        }#T_614413aa_1dfa_11ec_8023_0242ac1c0002row8_col0{\n",
              "            font-size:  6pt;\n",
              "            background-color:  #717171;\n",
              "            color:  #000000;\n",
              "        }#T_614413aa_1dfa_11ec_8023_0242ac1c0002row8_col3{\n",
              "            font-size:  6pt;\n",
              "            background-color:  #404040;\n",
              "            color:  #f1f1f1;\n",
              "        }#T_614413aa_1dfa_11ec_8023_0242ac1c0002row9_col0{\n",
              "            font-size:  6pt;\n",
              "            background-color:  #646464;\n",
              "            color:  #f1f1f1;\n",
              "        }#T_614413aa_1dfa_11ec_8023_0242ac1c0002row9_col1{\n",
              "            font-size:  6pt;\n",
              "            background-color:  #a9a9a9;\n",
              "            color:  #000000;\n",
              "        }#T_614413aa_1dfa_11ec_8023_0242ac1c0002row9_col2{\n",
              "            font-size:  6pt;\n",
              "            background-color:  #535353;\n",
              "            color:  #f1f1f1;\n",
              "        }</style><table id=\"T_614413aa_1dfa_11ec_8023_0242ac1c0002\" ><thead>    <tr>        <th class=\"blank level0\" ></th>        <th class=\"col_heading level0 col0\" >0</th>        <th class=\"col_heading level0 col1\" >1</th>        <th class=\"col_heading level0 col2\" >2</th>        <th class=\"col_heading level0 col3\" >3</th>    </tr></thead><tbody>\n",
              "                <tr>\n",
              "                        <th id=\"T_614413aa_1dfa_11ec_8023_0242ac1c0002level0_row0\" class=\"row_heading level0 row0\" >0</th>\n",
              "                        <td id=\"T_614413aa_1dfa_11ec_8023_0242ac1c0002row0_col0\" class=\"data row0 col0\" >0.738467</td>\n",
              "                        <td id=\"T_614413aa_1dfa_11ec_8023_0242ac1c0002row0_col1\" class=\"data row0 col1\" >0.171368</td>\n",
              "                        <td id=\"T_614413aa_1dfa_11ec_8023_0242ac1c0002row0_col2\" class=\"data row0 col2\" >-0.115648</td>\n",
              "                        <td id=\"T_614413aa_1dfa_11ec_8023_0242ac1c0002row0_col3\" class=\"data row0 col3\" >-0.301104</td>\n",
              "            </tr>\n",
              "            <tr>\n",
              "                        <th id=\"T_614413aa_1dfa_11ec_8023_0242ac1c0002level0_row1\" class=\"row_heading level0 row1\" >1</th>\n",
              "                        <td id=\"T_614413aa_1dfa_11ec_8023_0242ac1c0002row1_col0\" class=\"data row1 col0\" >-1.478522</td>\n",
              "                        <td id=\"T_614413aa_1dfa_11ec_8023_0242ac1c0002row1_col1\" class=\"data row1 col1\" >-0.719844</td>\n",
              "                        <td id=\"T_614413aa_1dfa_11ec_8023_0242ac1c0002row1_col2\" class=\"data row1 col2\" >-0.460639</td>\n",
              "                        <td id=\"T_614413aa_1dfa_11ec_8023_0242ac1c0002row1_col3\" class=\"data row1 col3\" >1.057122</td>\n",
              "            </tr>\n",
              "            <tr>\n",
              "                        <th id=\"T_614413aa_1dfa_11ec_8023_0242ac1c0002level0_row2\" class=\"row_heading level0 row2\" >2</th>\n",
              "                        <td id=\"T_614413aa_1dfa_11ec_8023_0242ac1c0002row2_col0\" class=\"data row2 col0\" >0.343618</td>\n",
              "                        <td id=\"T_614413aa_1dfa_11ec_8023_0242ac1c0002row2_col1\" class=\"data row2 col1\" >-1.763040</td>\n",
              "                        <td id=\"T_614413aa_1dfa_11ec_8023_0242ac1c0002row2_col2\" class=\"data row2 col2\" >0.324084</td>\n",
              "                        <td id=\"T_614413aa_1dfa_11ec_8023_0242ac1c0002row2_col3\" class=\"data row2 col3\" >-0.385082</td>\n",
              "            </tr>\n",
              "            <tr>\n",
              "                        <th id=\"T_614413aa_1dfa_11ec_8023_0242ac1c0002level0_row3\" class=\"row_heading level0 row3\" >3</th>\n",
              "                        <td id=\"T_614413aa_1dfa_11ec_8023_0242ac1c0002row3_col0\" class=\"data row3 col0\" >-0.676922</td>\n",
              "                        <td id=\"T_614413aa_1dfa_11ec_8023_0242ac1c0002row3_col1\" class=\"data row3 col1\" >0.611676</td>\n",
              "                        <td id=\"T_614413aa_1dfa_11ec_8023_0242ac1c0002row3_col2\" class=\"data row3 col2\" >1.031000</td>\n",
              "                        <td id=\"T_614413aa_1dfa_11ec_8023_0242ac1c0002row3_col3\" class=\"data row3 col3\" >0.931280</td>\n",
              "            </tr>\n",
              "            <tr>\n",
              "                        <th id=\"T_614413aa_1dfa_11ec_8023_0242ac1c0002level0_row4\" class=\"row_heading level0 row4\" >4</th>\n",
              "                        <td id=\"T_614413aa_1dfa_11ec_8023_0242ac1c0002row4_col0\" class=\"data row4 col0\" >-0.839218</td>\n",
              "                        <td id=\"T_614413aa_1dfa_11ec_8023_0242ac1c0002row4_col1\" class=\"data row4 col1\" >-0.309212</td>\n",
              "                        <td id=\"T_614413aa_1dfa_11ec_8023_0242ac1c0002row4_col2\" class=\"data row4 col2\" >0.331263</td>\n",
              "                        <td id=\"T_614413aa_1dfa_11ec_8023_0242ac1c0002row4_col3\" class=\"data row4 col3\" >0.975545</td>\n",
              "            </tr>\n",
              "            <tr>\n",
              "                        <th id=\"T_614413aa_1dfa_11ec_8023_0242ac1c0002level0_row5\" class=\"row_heading level0 row5\" >5</th>\n",
              "                        <td id=\"T_614413aa_1dfa_11ec_8023_0242ac1c0002row5_col0\" class=\"data row5 col0\" >-0.479174</td>\n",
              "                        <td id=\"T_614413aa_1dfa_11ec_8023_0242ac1c0002row5_col1\" class=\"data row5 col1\" >-0.185659</td>\n",
              "                        <td id=\"T_614413aa_1dfa_11ec_8023_0242ac1c0002row5_col2\" class=\"data row5 col2\" >-1.106335</td>\n",
              "                        <td id=\"T_614413aa_1dfa_11ec_8023_0242ac1c0002row5_col3\" class=\"data row5 col3\" >-1.196207</td>\n",
              "            </tr>\n",
              "            <tr>\n",
              "                        <th id=\"T_614413aa_1dfa_11ec_8023_0242ac1c0002level0_row6\" class=\"row_heading level0 row6\" >6</th>\n",
              "                        <td id=\"T_614413aa_1dfa_11ec_8023_0242ac1c0002row6_col0\" class=\"data row6 col0\" >0.812526</td>\n",
              "                        <td id=\"T_614413aa_1dfa_11ec_8023_0242ac1c0002row6_col1\" class=\"data row6 col1\" >1.356240</td>\n",
              "                        <td id=\"T_614413aa_1dfa_11ec_8023_0242ac1c0002row6_col2\" class=\"data row6 col2\" >-0.072010</td>\n",
              "                        <td id=\"T_614413aa_1dfa_11ec_8023_0242ac1c0002row6_col3\" class=\"data row6 col3\" >1.003533</td>\n",
              "            </tr>\n",
              "            <tr>\n",
              "                        <th id=\"T_614413aa_1dfa_11ec_8023_0242ac1c0002level0_row7\" class=\"row_heading level0 row7\" >7</th>\n",
              "                        <td id=\"T_614413aa_1dfa_11ec_8023_0242ac1c0002row7_col0\" class=\"data row7 col0\" >0.361636</td>\n",
              "                        <td id=\"T_614413aa_1dfa_11ec_8023_0242ac1c0002row7_col1\" class=\"data row7 col1\" >-0.645120</td>\n",
              "                        <td id=\"T_614413aa_1dfa_11ec_8023_0242ac1c0002row7_col2\" class=\"data row7 col2\" >0.361396</td>\n",
              "                        <td id=\"T_614413aa_1dfa_11ec_8023_0242ac1c0002row7_col3\" class=\"data row7 col3\" >1.538037</td>\n",
              "            </tr>\n",
              "            <tr>\n",
              "                        <th id=\"T_614413aa_1dfa_11ec_8023_0242ac1c0002level0_row8\" class=\"row_heading level0 row8\" >8</th>\n",
              "                        <td id=\"T_614413aa_1dfa_11ec_8023_0242ac1c0002row8_col0\" class=\"data row8 col0\" >-0.035826</td>\n",
              "                        <td id=\"T_614413aa_1dfa_11ec_8023_0242ac1c0002row8_col1\" class=\"data row8 col1\" >1.564644</td>\n",
              "                        <td id=\"T_614413aa_1dfa_11ec_8023_0242ac1c0002row8_col2\" class=\"data row8 col2\" >-2.619745</td>\n",
              "                        <td id=\"T_614413aa_1dfa_11ec_8023_0242ac1c0002row8_col3\" class=\"data row8 col3\" >0.821903</td>\n",
              "            </tr>\n",
              "            <tr>\n",
              "                        <th id=\"T_614413aa_1dfa_11ec_8023_0242ac1c0002level0_row9\" class=\"row_heading level0 row9\" >9</th>\n",
              "                        <td id=\"T_614413aa_1dfa_11ec_8023_0242ac1c0002row9_col0\" class=\"data row9 col0\" >0.087047</td>\n",
              "                        <td id=\"T_614413aa_1dfa_11ec_8023_0242ac1c0002row9_col1\" class=\"data row9 col1\" >-0.299007</td>\n",
              "                        <td id=\"T_614413aa_1dfa_11ec_8023_0242ac1c0002row9_col2\" class=\"data row9 col2\" >0.091761</td>\n",
              "                        <td id=\"T_614413aa_1dfa_11ec_8023_0242ac1c0002row9_col3\" class=\"data row9 col3\" >-1.987569</td>\n",
              "            </tr>\n",
              "    </tbody></table>"
            ],
            "text/plain": [
              "<pandas.io.formats.style.Styler at 0x7efc60cf9e10>"
            ]
          },
          "metadata": {},
          "execution_count": 217
        }
      ]
    },
    {
      "cell_type": "markdown",
      "metadata": {
        "id": "AQVdHWxlrx9j"
      },
      "source": [
        "NOTE:  `background_gradient` Color the background in a gradient according to the data in each column (optionally row). Requires matplotlib.\n",
        "- `matplotlib.rc('image', cmap='Greys')`"
      ]
    },
    {
      "cell_type": "markdown",
      "metadata": {
        "id": "var-Ws4yugHj"
      },
      "source": [
        "## First Try: Pixel Similarity\n",
        "\n",
        "Comparing pixels values between the 3s and 7s by taking the **average pixel value** for every pixel of the 3s and do the same for the 7s.\n",
        "\n",
        "This will give us two group averages, defining what we might call the \"**ideal**\" 3 and 7. Then, to classify an image as one digit or the other, we see which of these two ideal digits the image is most similar to. This certainly seems like it should be better than nothing, so it will make a good baseline."
      ]
    },
    {
      "cell_type": "markdown",
      "metadata": {
        "id": "SUejd1UiugHk"
      },
      "source": [
        "> jargon: **Baseline**: A simple model which you are confident should perform reasonably well. It should be very **simple to implement**, and very **easy to test**, so that you can then test each of your improved ideas, and make sure they are always better than your baseline. Without starting with a sensible baseline, it is very difficult to know whether your super-fancy models are actually any good. One good approach to creating a baseline is doing what we have done here: think of a simple, easy-to-implement model. Another good approach is to search around to find other people that have solved similar problems to yours, and download and run their code on your dataset. Ideally, try both of these!"
      ]
    },
    {
      "cell_type": "markdown",
      "metadata": {
        "id": "w08kjcVwugHl"
      },
      "source": [
        "**Step one for our simple model is to get the average of pixel values for each of our two groups**. In the process of doing this, we will learn a lot of neat Python numeric programming tricks!\n",
        "\n",
        "Let's create a tensor containing all of our 3s stacked together. We already know how to create a tensor containing a single image. To create a tensor containing all the images in a directory, we will first use a Python list comprehension to create a plain list of the single image tensors.\n",
        "\n",
        "We will use Jupyter to do some little checks of our work along the way—in this case, making sure that the number of returned items seems reasonable:"
      ]
    },
    {
      "cell_type": "code",
      "metadata": {
        "id": "ls14YxTqugHm",
        "colab": {
          "base_uri": "https://localhost:8080/"
        },
        "outputId": "f8988b20-48e4-487d-ab9f-f49e5598f565"
      },
      "source": [
        "# Python list comprehension to create a tensor with all the images\n",
        "three_tensors = [tensor(Image.open(o)) for o in threes]\n",
        "seven_tensors = [tensor(Image.open(o)) for o in sevens]\n",
        "len(three_tensors),len(seven_tensors)"
      ],
      "execution_count": 218,
      "outputs": [
        {
          "output_type": "execute_result",
          "data": {
            "text/plain": [
              "(6131, 6265)"
            ]
          },
          "metadata": {},
          "execution_count": 218
        }
      ]
    },
    {
      "cell_type": "markdown",
      "metadata": {
        "id": "EfIg6M_aSJWR"
      },
      "source": [
        "NOTE: the `three_tensors` has 6131 images; the `seven_tensors` has 6265 images."
      ]
    },
    {
      "cell_type": "code",
      "metadata": {
        "id": "RfYpIIXG1uVl",
        "colab": {
          "base_uri": "https://localhost:8080/"
        },
        "outputId": "9cbca08a-13dd-4a63-87e1-886cd05161ba"
      },
      "source": [
        "type(three_tensors)"
      ],
      "execution_count": 219,
      "outputs": [
        {
          "output_type": "execute_result",
          "data": {
            "text/plain": [
              "list"
            ]
          },
          "metadata": {},
          "execution_count": 219
        }
      ]
    },
    {
      "cell_type": "markdown",
      "metadata": {
        "id": "2FaE5zQ_ugHq"
      },
      "source": [
        "> note: List Comprehensions: List and dictionary comprehensions are a wonderful feature of Python. Many Python programmers use them every day, including the authors of this book—they are part of \"idiomatic Python.\" But programmers coming from other languages may have never seen them before. There are a lot of great tutorials just a web search away, so we won't spend a long time discussing them now. Here is a quick explanation and example to get you started. A list comprehension looks like this: `new_list = [f(o) for o in a_list if o>0]`. This will return every element of `a_list` that is greater than 0, after passing it to the function `f`. There are three parts here: the collection you are iterating over (`a_list`), an optional filter (`if o>0`), and something to do to each element (`f(o)`). It's not only shorter to write but way faster than the alternative ways of creating the same list with a loop."
      ]
    },
    {
      "cell_type": "markdown",
      "metadata": {
        "id": "CO_j18pBugHr"
      },
      "source": [
        "We'll also check that one of the images looks okay. Since we now have tensors (which Jupyter by default will print as values), rather than PIL images (which Jupyter by default will display as images), we need to use fastai's `show_image` function to display it:"
      ]
    },
    {
      "cell_type": "code",
      "metadata": {
        "id": "3mMc_rg1ugHr",
        "colab": {
          "base_uri": "https://localhost:8080/",
          "height": 85
        },
        "outputId": "a192b8b6-1406-4ce3-9527-7878e8b17a80"
      },
      "source": [
        "# getting an image from the three_tensors list\n",
        "show_image(three_tensors[1]);"
      ],
      "execution_count": 220,
      "outputs": [
        {
          "output_type": "display_data",
          "data": {
            "image/png": "[encoded data removed]",
            "text/plain": [
              "<Figure size 72x72 with 1 Axes>"
            ]
          },
          "metadata": {
            "needs_background": "light"
          }
        }
      ]
    },
    {
      "cell_type": "markdown",
      "metadata": {
        "id": "vny1ldDiugHv"
      },
      "source": [
        "**For every pixel position, we want to compute the average over all the images of the intensity of that pixel. To do this we first combine all the images in this list into a single three-dimensional tensor**. **The most common way to describe such a tensor is to call it a *rank-3 tensor*. We often need to stack up (concatenate) individual tensors in a collection into a single tensor**. Unsurprisingly, PyTorch comes with a function called `stack` that we can use for this purpose.\n",
        "\n",
        "Some operations in PyTorch, such as taking a mean, require us to *cast* our integer types to float types. Since we'll be needing this later, we'll also cast our stacked tensor to `float` now. Casting in PyTorch is as simple as typing the name of the type you wish to cast to, and treating it as a method.\n",
        "\n",
        "**Generally when images are floats, the pixel values are expected to be between 0 and 1, so we will also divide by 255 here:**"
      ]
    },
    {
      "cell_type": "code",
      "metadata": {
        "id": "wphk_4oGugHw",
        "colab": {
          "base_uri": "https://localhost:8080/"
        },
        "outputId": "fa2839b2-5a56-47f1-808c-e8f416e0971a"
      },
      "source": [
        "# from a Python list, creating a 3D tensor - a rank-3 tensor\n",
        "# normalizing pixel values between 0 and 1, hence the division by 255\n",
        "stacked_threes = torch.stack(three_tensors).float()/255\n",
        "stacked_sevens = torch.stack(seven_tensors).float()/255\n",
        "\n",
        "# size of the tensor\n",
        "stacked_threes.shape"
      ],
      "execution_count": 221,
      "outputs": [
        {
          "output_type": "execute_result",
          "data": {
            "text/plain": [
              "torch.Size([6131, 28, 28])"
            ]
          },
          "metadata": {},
          "execution_count": 221
        }
      ]
    },
    {
      "cell_type": "code",
      "metadata": {
        "id": "FyQmlC0jzScE",
        "colab": {
          "base_uri": "https://localhost:8080/"
        },
        "outputId": "f79dd213-1287-4e71-dc37-17992802c892"
      },
      "source": [
        "stacked_threes[1]"
      ],
      "execution_count": 222,
      "outputs": [
        {
          "output_type": "execute_result",
          "data": {
            "text/plain": [
              "tensor([[0.0000, 0.0000, 0.0000, 0.0000, 0.0000, 0.0000, 0.0000, 0.0000, 0.0000, 0.0000, 0.0000, 0.0000, 0.0000, 0.0000, 0.0000, 0.0000, 0.0000, 0.0000, 0.0000, 0.0000, 0.0000, 0.0000, 0.0000, 0.0000,\n",
              "         0.0000, 0.0000, 0.0000, 0.0000],\n",
              "        [0.0000, 0.0000, 0.0000, 0.0000, 0.0000, 0.0000, 0.0000, 0.0000, 0.0000, 0.0000, 0.0000, 0.0000, 0.0000, 0.0000, 0.0000, 0.0000, 0.0000, 0.0000, 0.0000, 0.0000, 0.0000, 0.0000, 0.0000, 0.0000,\n",
              "         0.0000, 0.0000, 0.0000, 0.0000],\n",
              "        [0.0000, 0.0000, 0.0000, 0.0000, 0.0000, 0.0000, 0.0000, 0.0000, 0.0000, 0.0000, 0.0000, 0.0000, 0.0000, 0.0000, 0.0000, 0.0000, 0.0000, 0.0000, 0.0000, 0.0000, 0.0000, 0.0000, 0.0000, 0.0000,\n",
              "         0.0000, 0.0000, 0.0000, 0.0000],\n",
              "        [0.0000, 0.0000, 0.0000, 0.0000, 0.0000, 0.0000, 0.0000, 0.0000, 0.0000, 0.0000, 0.0000, 0.0000, 0.0000, 0.0000, 0.0000, 0.0000, 0.0000, 0.0000, 0.0000, 0.0000, 0.0000, 0.0000, 0.0000, 0.0000,\n",
              "         0.0000, 0.0000, 0.0000, 0.0000],\n",
              "        [0.0000, 0.0000, 0.0000, 0.0000, 0.0000, 0.0000, 0.0000, 0.0000, 0.0000, 0.0000, 0.0000, 0.0000, 0.0000, 0.0000, 0.0000, 0.0000, 0.0000, 0.0000, 0.0000, 0.0000, 0.0000, 0.0000, 0.0000, 0.0000,\n",
              "         0.0000, 0.0000, 0.0000, 0.0000],\n",
              "        [0.0000, 0.0000, 0.0000, 0.0000, 0.0000, 0.0000, 0.0000, 0.0000, 0.0000, 0.1137, 0.5882, 0.7647, 0.9961, 1.0000, 0.9961, 0.6902, 0.7569, 0.5882, 0.3765, 0.0000, 0.0000, 0.0000, 0.0000, 0.0000,\n",
              "         0.0000, 0.0000, 0.0000, 0.0000],\n",
              "        [0.0000, 0.0000, 0.0000, 0.0000, 0.0000, 0.0000, 0.0000, 0.1882, 0.6510, 0.8784, 0.9922, 0.9922, 0.9176, 0.7686, 0.9922, 0.9922, 0.9922, 0.9922, 0.9137, 0.0000, 0.0000, 0.0000, 0.0000, 0.0000,\n",
              "         0.0000, 0.0000, 0.0000, 0.0000],\n",
              "        [0.0000, 0.0000, 0.0000, 0.0000, 0.0000, 0.3647, 0.9569, 0.9765, 0.9922, 0.7333, 0.1804, 0.0392, 0.0314, 0.0157, 0.0392, 0.7608, 0.9922, 0.9922, 0.9137, 0.0000, 0.0000, 0.0000, 0.0000, 0.0000,\n",
              "         0.0000, 0.0000, 0.0000, 0.0000],\n",
              "        [0.0000, 0.0000, 0.0000, 0.0000, 0.0000, 0.4196, 0.9922, 0.9922, 0.9020, 0.1882, 0.0000, 0.0000, 0.0000, 0.0000, 0.0000, 0.7529, 0.9922, 0.9922, 0.6118, 0.0000, 0.0000, 0.0000, 0.0000, 0.0000,\n",
              "         0.0000, 0.0000, 0.0000, 0.0000],\n",
              "        [0.0000, 0.0000, 0.0000, 0.0000, 0.0000, 0.0118, 0.0784, 0.0784, 0.0588, 0.0000, 0.0000, 0.0000, 0.0000, 0.0000, 0.1686, 0.8784, 0.9922, 0.9608, 0.2902, 0.0000, 0.0000, 0.0000, 0.0000, 0.0000,\n",
              "         0.0000, 0.0000, 0.0000, 0.0000],\n",
              "        [0.0000, 0.0000, 0.0000, 0.0000, 0.0000, 0.0000, 0.0000, 0.0000, 0.0000, 0.0000, 0.0000, 0.0000, 0.0000, 0.0000, 0.9765, 0.9922, 0.9608, 0.4941, 0.0000, 0.0000, 0.0000, 0.0000, 0.0000, 0.0000,\n",
              "         0.0000, 0.0000, 0.0000, 0.0000],\n",
              "        [0.0000, 0.0000, 0.0000, 0.0000, 0.0000, 0.0000, 0.0000, 0.0000, 0.0000, 0.0000, 0.0000, 0.0549, 0.3961, 0.8745, 0.9922, 0.9725, 0.4863, 0.0000, 0.0000, 0.0000, 0.0000, 0.0000, 0.0000, 0.0000,\n",
              "         0.0000, 0.0000, 0.0000, 0.0000],\n",
              "        [0.0000, 0.0000, 0.0000, 0.0000, 0.0000, 0.0000, 0.0000, 0.0000, 0.0000, 0.0431, 0.6510, 0.9373, 0.9922, 0.9922, 0.9922, 0.7333, 0.1176, 0.0000, 0.0000, 0.0000, 0.0000, 0.0000, 0.0000, 0.0000,\n",
              "         0.0000, 0.0000, 0.0000, 0.0000],\n",
              "        [0.0000, 0.0000, 0.0000, 0.0000, 0.0000, 0.0000, 0.0000, 0.0000, 0.0000, 0.0627, 0.9725, 0.9804, 0.9922, 0.9922, 0.9922, 0.9922, 0.9098, 0.8353, 0.4353, 0.0078, 0.0000, 0.0000, 0.0000, 0.0000,\n",
              "         0.0000, 0.0000, 0.0000, 0.0000],\n",
              "        [0.0000, 0.0000, 0.0000, 0.0000, 0.0000, 0.0000, 0.0000, 0.0000, 0.0000, 0.0000, 0.0000, 0.1686, 0.3843, 0.3843, 0.8157, 0.9922, 0.9922, 0.9922, 0.9922, 0.7333, 0.0863, 0.0000, 0.0000, 0.0000,\n",
              "         0.0000, 0.0000, 0.0000, 0.0000],\n",
              "        [0.0000, 0.0000, 0.0000, 0.0000, 0.0000, 0.0000, 0.0000, 0.0000, 0.0000, 0.0000, 0.0000, 0.0000, 0.0000, 0.0000, 0.0353, 0.2000, 0.4667, 0.9922, 0.9922, 0.9922, 0.2980, 0.0000, 0.0000, 0.0000,\n",
              "         0.0000, 0.0000, 0.0000, 0.0000],\n",
              "        [0.0000, 0.0000, 0.0000, 0.0000, 0.0000, 0.0000, 0.0000, 0.0000, 0.0000, 0.0000, 0.0000, 0.0000, 0.0000, 0.0000, 0.0000, 0.0000, 0.0039, 0.7176, 0.9922, 0.9922, 0.5451, 0.0000, 0.0000, 0.0000,\n",
              "         0.0000, 0.0000, 0.0000, 0.0000],\n",
              "        [0.0000, 0.0000, 0.0000, 0.0000, 0.0000, 0.0000, 0.0000, 0.0000, 0.0000, 0.0000, 0.0000, 0.0000, 0.0000, 0.0000, 0.0000, 0.0000, 0.0000, 0.7137, 0.9922, 0.9922, 0.4078, 0.0000, 0.0000, 0.0000,\n",
              "         0.0000, 0.0000, 0.0000, 0.0000],\n",
              "        [0.0000, 0.0000, 0.0000, 0.0000, 0.0000, 0.0000, 0.0000, 0.0000, 0.0000, 0.0000, 0.0000, 0.0000, 0.0000, 0.0000, 0.0000, 0.0000, 0.3333, 0.9765, 0.9922, 0.9922, 0.1412, 0.0000, 0.0000, 0.0000,\n",
              "         0.0000, 0.0000, 0.0000, 0.0000],\n",
              "        [0.0000, 0.0000, 0.0000, 0.0000, 0.0000, 0.0000, 0.0000, 0.0000, 0.0000, 0.0000, 0.0000, 0.0000, 0.0000, 0.0000, 0.0000, 0.2353, 0.8392, 0.9922, 0.9922, 0.6784, 0.0431, 0.0000, 0.0000, 0.0000,\n",
              "         0.0000, 0.0000, 0.0000, 0.0000],\n",
              "        [0.0000, 0.0000, 0.0000, 0.0000, 0.0000, 0.0000, 0.0000, 0.0000, 0.0000, 0.0000, 0.0000, 0.0000, 0.0000, 0.0000, 0.3843, 0.9686, 0.9922, 0.9922, 0.8863, 0.0353, 0.0000, 0.0000, 0.0000, 0.0000,\n",
              "         0.0000, 0.0000, 0.0000, 0.0000],\n",
              "        [0.0000, 0.0000, 0.0000, 0.0000, 0.0000, 0.0000, 0.0000, 0.0000, 0.0000, 0.0000, 0.0000, 0.0000, 0.1647, 0.5882, 0.9882, 0.9922, 0.9922, 0.9137, 0.2078, 0.0000, 0.0000, 0.0000, 0.0000, 0.0000,\n",
              "         0.0000, 0.0000, 0.0000, 0.0000],\n",
              "        [0.0000, 0.0000, 0.0000, 0.0000, 0.0000, 0.0000, 0.1647, 0.4510, 0.1647, 0.2353, 0.4510, 0.6235, 0.9412, 0.9922, 0.9922, 0.9804, 0.6863, 0.0980, 0.0000, 0.0000, 0.0000, 0.0000, 0.0000, 0.0000,\n",
              "         0.0000, 0.0000, 0.0000, 0.0000],\n",
              "        [0.0000, 0.0000, 0.0000, 0.0000, 0.0000, 0.0000, 0.7333, 0.9922, 0.9922, 0.9922, 0.9922, 0.9922, 0.9922, 0.9922, 0.7725, 0.3373, 0.0000, 0.0000, 0.0000, 0.0000, 0.0000, 0.0000, 0.0000, 0.0000,\n",
              "         0.0000, 0.0000, 0.0000, 0.0000],\n",
              "        [0.0000, 0.0000, 0.0000, 0.0000, 0.0000, 0.0000, 0.4039, 0.9922, 0.9922, 0.9922, 0.9922, 0.9922, 0.9098, 0.2627, 0.0039, 0.0000, 0.0000, 0.0000, 0.0000, 0.0000, 0.0000, 0.0000, 0.0000, 0.0000,\n",
              "         0.0000, 0.0000, 0.0000, 0.0000],\n",
              "        [0.0000, 0.0000, 0.0000, 0.0000, 0.0000, 0.0000, 0.0000, 0.0000, 0.0000, 0.0000, 0.0000, 0.0000, 0.0000, 0.0000, 0.0000, 0.0000, 0.0000, 0.0000, 0.0000, 0.0000, 0.0000, 0.0000, 0.0000, 0.0000,\n",
              "         0.0000, 0.0000, 0.0000, 0.0000],\n",
              "        [0.0000, 0.0000, 0.0000, 0.0000, 0.0000, 0.0000, 0.0000, 0.0000, 0.0000, 0.0000, 0.0000, 0.0000, 0.0000, 0.0000, 0.0000, 0.0000, 0.0000, 0.0000, 0.0000, 0.0000, 0.0000, 0.0000, 0.0000, 0.0000,\n",
              "         0.0000, 0.0000, 0.0000, 0.0000],\n",
              "        [0.0000, 0.0000, 0.0000, 0.0000, 0.0000, 0.0000, 0.0000, 0.0000, 0.0000, 0.0000, 0.0000, 0.0000, 0.0000, 0.0000, 0.0000, 0.0000, 0.0000, 0.0000, 0.0000, 0.0000, 0.0000, 0.0000, 0.0000, 0.0000,\n",
              "         0.0000, 0.0000, 0.0000, 0.0000]])"
            ]
          },
          "metadata": {},
          "execution_count": 222
        }
      ]
    },
    {
      "cell_type": "markdown",
      "metadata": {
        "id": "cpBalNj2IQKt"
      },
      "source": [
        "NOTE: `/255` is because the values of the float images should be between 0 and 1.\n",
        "- The 3D tensor `stacked_threes` has 6131 of 3 images of size 28x28 px.  The `.shape` is the length of each axis."
      ]
    },
    {
      "cell_type": "code",
      "metadata": {
        "id": "qEibEygVTSNB",
        "colab": {
          "base_uri": "https://localhost:8080/"
        },
        "outputId": "f6852385-b88c-4e20-a151-5f810c08cb2f"
      },
      "source": [
        "stacked_threes.ndim"
      ],
      "execution_count": 223,
      "outputs": [
        {
          "output_type": "execute_result",
          "data": {
            "text/plain": [
              "3"
            ]
          },
          "metadata": {},
          "execution_count": 223
        }
      ]
    },
    {
      "cell_type": "code",
      "metadata": {
        "id": "jYFlnEeHu6DF",
        "colab": {
          "base_uri": "https://localhost:8080/"
        },
        "outputId": "1980ae15-6db3-4de9-93c8-db5702e3be92"
      },
      "source": [
        "type(stacked_threes)"
      ],
      "execution_count": 224,
      "outputs": [
        {
          "output_type": "execute_result",
          "data": {
            "text/plain": [
              "torch.Tensor"
            ]
          },
          "metadata": {},
          "execution_count": 224
        }
      ]
    },
    {
      "cell_type": "markdown",
      "metadata": {
        "id": "JhXiLTyDTgi1"
      },
      "source": [
        "NOTE: `stacked_threes` and `stacked_sevens` have 3 axis also called dimensions. They are both a rank 3 tensor."
      ]
    },
    {
      "cell_type": "markdown",
      "metadata": {
        "id": "Qjnb1sCQugHy"
      },
      "source": [
        "Perhaps the most important attribute of a tensor is its *shape*. This tells you the length of each axis. In this case, we can see that **we have 6,131 images, each of size 28×28 pixels**. There is nothing specifically about this tensor that says that the first axis is the number of images, the second is the height, and the third is the width—the semantics of a tensor are entirely up to us, and how we construct it. As far as PyTorch is concerned, it is just a bunch of numbers in memory.\n",
        "\n",
        "**The *length* of a tensor's shape is its rank:**"
      ]
    },
    {
      "cell_type": "code",
      "metadata": {
        "id": "O4IxwECJugHz",
        "colab": {
          "base_uri": "https://localhost:8080/"
        },
        "outputId": "b13844a6-b15c-49fc-e5a6-28b827ed181c"
      },
      "source": [
        "# the length of a tensor rank is its shape.\n",
        "len(stacked_threes.shape)"
      ],
      "execution_count": 225,
      "outputs": [
        {
          "output_type": "execute_result",
          "data": {
            "text/plain": [
              "3"
            ]
          },
          "metadata": {},
          "execution_count": 225
        }
      ]
    },
    {
      "cell_type": "markdown",
      "metadata": {
        "id": "C8gzN88hugH2"
      },
      "source": [
        "It is really important for you to commit to memory and practice these bits of tensor jargon: \n",
        "- **rank** is the number of axes or dimensions in a tensor; \n",
        "- **shape** is the size of each axis of a tensor**.\n",
        "\n",
        "> A: Watch out because the term \"dimension\" is sometimes used in two ways. Consider that we live in \"three-dimensional space\" where a physical position can be described by a 3-vector `v`. But according to PyTorch, the attribute `v.ndim` (which sure looks like the \"number of dimensions\" of `v`) equals one, not three! Why? Because `v` is a vector, which is a tensor of rank one, meaning that it has only one _axis_ (even if that axis has a length of three). In other words, sometimes dimension is used for the size of an axis (\"space is three-dimensional\"); other times, it is used for the rank, or the number of axes (\"a matrix has two dimensions\"). When confused, **I find it helpful to translate all statements into terms of rank, axis, and length, which are unambiguous terms**."
      ]
    },
    {
      "cell_type": "markdown",
      "metadata": {
        "id": "wD8dnAgJugH2"
      },
      "source": [
        "We can also get a tensor's rank directly with `ndim`:"
      ]
    },
    {
      "cell_type": "code",
      "metadata": {
        "id": "SjcYKTWWugH3",
        "colab": {
          "base_uri": "https://localhost:8080/"
        },
        "outputId": "07d1452b-610b-498f-a27f-6eaa89aecc9d"
      },
      "source": [
        "# getting the rank with Pytorch\n",
        "stacked_threes.ndim"
      ],
      "execution_count": 226,
      "outputs": [
        {
          "output_type": "execute_result",
          "data": {
            "text/plain": [
              "3"
            ]
          },
          "metadata": {},
          "execution_count": 226
        }
      ]
    },
    {
      "cell_type": "markdown",
      "metadata": {
        "id": "CHbFLqvnugH6"
      },
      "source": [
        "Finally, we can compute what the ideal 3 looks like. We calculate the mean of all the image tensors by taking the mean along dimension 0 of our stacked, rank-3 tensor. This is the dimension that indexes over all the images.\n",
        "\n",
        "In other words, for every pixel position, this will compute the average of that pixel over all images. The result will be one value for every pixel position, or a single image. Here it is:"
      ]
    },
    {
      "cell_type": "markdown",
      "metadata": {
        "id": "MCw0G6xTnD-G"
      },
      "source": [
        "### Computing the average pixel value for 3s and 7s."
      ]
    },
    {
      "cell_type": "code",
      "metadata": {
        "id": "bs7yTx9AugH6",
        "colab": {
          "base_uri": "https://localhost:8080/",
          "height": 85
        },
        "outputId": "35571838-9282-473c-e728-9f3c6dabc3e8"
      },
      "source": [
        "# 'ideal 3' - taking the average of all the 3s pictures\n",
        "mean3 = stacked_threes.mean(0) # first dimension\n",
        "show_image(mean3);"
      ],
      "execution_count": 227,
      "outputs": [
        {
          "output_type": "display_data",
          "data": {
            "image/png": "[encoded data removed]",
            "text/plain": [
              "<Figure size 72x72 with 1 Axes>"
            ]
          },
          "metadata": {
            "needs_background": "light"
          }
        }
      ]
    },
    {
      "cell_type": "markdown",
      "metadata": {
        "id": "UqIe9fqI4Jmk"
      },
      "source": [
        "NOTE:  This is the \"ideal\" number 3: `mean3`.\n",
        "\n",
        "`stacked_threes.mean(0)` 0 represents the first dimension, that is in this case the images.  We are taking the mean of all the images of a three representation and we are displaying the mean output."
      ]
    },
    {
      "cell_type": "code",
      "metadata": {
        "id": "z7xWm91NmA55",
        "colab": {
          "base_uri": "https://localhost:8080/"
        },
        "outputId": "de1891af-8343-4c7c-8bc3-ebe109d9d04b"
      },
      "source": [
        "mean3.shape, mean3.ndim"
      ],
      "execution_count": 228,
      "outputs": [
        {
          "output_type": "execute_result",
          "data": {
            "text/plain": [
              "(torch.Size([28, 28]), 2)"
            ]
          },
          "metadata": {},
          "execution_count": 228
        }
      ]
    },
    {
      "cell_type": "code",
      "metadata": {
        "id": "1NRWdk_m2RRJ",
        "colab": {
          "base_uri": "https://localhost:8080/"
        },
        "outputId": "eb5a832b-4da9-48dc-f4b7-d34c55b1b79e"
      },
      "source": [
        "type(mean3)"
      ],
      "execution_count": 229,
      "outputs": [
        {
          "output_type": "execute_result",
          "data": {
            "text/plain": [
              "torch.Tensor"
            ]
          },
          "metadata": {},
          "execution_count": 229
        }
      ]
    },
    {
      "cell_type": "markdown",
      "metadata": {
        "id": "3lGm6A22ugH8"
      },
      "source": [
        "According to this dataset, this is the ideal number 3! (You may not like it, but this is what peak number 3 performance looks like.) You can see how it's very dark where all the images agree it should be dark, but it becomes wispy and blurry where the images disagree. \n",
        "\n",
        "Let's do the same thing for the 7s, but put all the steps together at once to save some time:"
      ]
    },
    {
      "cell_type": "code",
      "metadata": {
        "id": "aJGBZyI6ugH9",
        "colab": {
          "base_uri": "https://localhost:8080/",
          "height": 85
        },
        "outputId": "2185821c-74b1-40a0-c446-5f7964a53d06"
      },
      "source": [
        "# 'ideal 7' - taking the average of all the 7s pictures\n",
        "mean7 = stacked_sevens.mean(0)\n",
        "show_image(mean7);"
      ],
      "execution_count": 230,
      "outputs": [
        {
          "output_type": "display_data",
          "data": {
            "image/png": "[encoded data removed]",
            "text/plain": [
              "<Figure size 72x72 with 1 Axes>"
            ]
          },
          "metadata": {
            "needs_background": "light"
          }
        }
      ]
    },
    {
      "cell_type": "markdown",
      "metadata": {
        "id": "jdOhB_ajnpbQ"
      },
      "source": [
        "NOTE: This is the \"ideal\" number 7: `mean7`."
      ]
    },
    {
      "cell_type": "markdown",
      "metadata": {
        "id": "d9ePpAuWugIB"
      },
      "source": [
        "### **Let's now pick an arbitrary 3 and measure its *distance* from our \"ideal digits.\"**\n",
        "\n",
        "> stop: Stop and Think!: How would you calculate how similar a particular image is to each of our ideal digits? Remember to step away from this book and jot down some ideas before you move on! Research shows that recall and understanding improves dramatically when you are engaged with the learning process by solving problems, experimenting, and trying new ideas yourself\n",
        "\n",
        "Here's a sample 3:"
      ]
    },
    {
      "cell_type": "code",
      "metadata": {
        "id": "X5WJMC2yugIC",
        "colab": {
          "base_uri": "https://localhost:8080/",
          "height": 85
        },
        "outputId": "ee4b102d-7049-4284-ba46-b55f208d1291"
      },
      "source": [
        "# picking up one three from our stacked_threes tensor\n",
        "a_3 = stacked_threes[1]\n",
        "show_image(a_3);"
      ],
      "execution_count": 231,
      "outputs": [
        {
          "output_type": "display_data",
          "data": {
            "image/png": "[encoded data removed]",
            "text/plain": [
              "<Figure size 72x72 with 1 Axes>"
            ]
          },
          "metadata": {
            "needs_background": "light"
          }
        }
      ]
    },
    {
      "cell_type": "markdown",
      "metadata": {
        "id": "M1gqXovooThV"
      },
      "source": [
        "### Computing the distance with L1 norm and L2 norm"
      ]
    },
    {
      "cell_type": "markdown",
      "metadata": {
        "id": "joygtllYugIH"
      },
      "source": [
        "How can we determine its distance from our ideal 3? We can't just add up the differences between the pixels of this image and the ideal digit. Some differences will be positive while others will be negative, and these differences will cancel out, resulting in a situation where an image that is too dark in some places and too light in others might be shown as having zero total differences from the ideal. That would be misleading!\n",
        "\n",
        "To avoid this, there are two main ways data scientists measure distance in this context:\n",
        "\n",
        "- Take the mean of the *absolute value* of differences (absolute value is the function that replaces negative values with positive values). This is called the *mean absolute difference* or *L1 norm*\n",
        "\n",
        "- Take the mean of the *square* of differences (which makes everything positive) and then take the *square root* (which undoes the squaring). This is called the *root mean squared error* (RMSE) or *L2 norm*.\n",
        "\n",
        "> important: It's Okay to Have Forgotten Your Math: In this book we generally assume that you have completed high school math, and remember at least some of it... But everybody forgets some things! It all depends on what you happen to have had reason to practice in the meantime. Perhaps you have forgotten what a _square root_ is, or exactly how they work. No problem! Any time you come across a maths concept that is not explained fully in this book, don't just keep moving on; instead, stop and look it up. Make sure you understand the basic idea, how it works, and why we might be using it. One of the best places to refresh your understanding is Khan Academy. For instance, Khan Academy has a great [introduction to square roots](https://www.khanacademy.org/math/algebra/x2f8bb11595b61c86:rational-exponents-radicals/x2f8bb11595b61c86:radicals/v/understanding-square-roots)."
      ]
    },
    {
      "cell_type": "markdown",
      "metadata": {
        "id": "_qXGRH-OugIH"
      },
      "source": [
        "Let's try both of these now:"
      ]
    },
    {
      "cell_type": "code",
      "metadata": {
        "id": "rg-lctJ0ugII",
        "colab": {
          "base_uri": "https://localhost:8080/"
        },
        "outputId": "bc712071-3eba-4137-bd97-2ae798046802"
      },
      "source": [
        "# how far away we are from our 'ideal' image\n",
        "# measuring the distance from the pickup three (a_3) to the average of all 3s images (mean3)\n",
        "\n",
        "# L1 form - mean absolute difference\n",
        "dist_3_abs = (a_3 - mean3).abs().mean() #L1\n",
        "\n",
        "# L2 form - RMSE (Root Mean Square Error)\n",
        "dist_3_sqr = ((a_3 - mean3)**2).mean().sqrt() #L2\n",
        "\n",
        "# display L1 and L2 computation for 3s\n",
        "dist_3_abs,dist_3_sqr"
      ],
      "execution_count": 232,
      "outputs": [
        {
          "output_type": "execute_result",
          "data": {
            "text/plain": [
              "(tensor(0.1114), tensor(0.2021))"
            ]
          },
          "metadata": {},
          "execution_count": 232
        }
      ]
    },
    {
      "cell_type": "markdown",
      "metadata": {
        "id": "g278UZZC7ony"
      },
      "source": [
        "NOTE:  \n",
        "- _L1 loss_ is just equal to `(a-b).abs().mean()`, where `a` and `b` are tensors. \n",
        "- _L2_ loss Take the mean of the square of differences (which makes everything positive) and then take the square root (which undoes the squaring). This is called the root mean squared error (RMSE) or L2 norm."
      ]
    },
    {
      "cell_type": "code",
      "metadata": {
        "id": "--Qcp89AugIL",
        "colab": {
          "base_uri": "https://localhost:8080/"
        },
        "outputId": "9890dbdf-fe6f-46ce-c28c-b180d26482e0"
      },
      "source": [
        "# same as above but for sevens compared to threes\n",
        "dist_7_abs = (a_3 - mean7).abs().mean() #L1\n",
        "dist_7_sqr = ((a_3 - mean7)**2).mean().sqrt() #L2\n",
        "\n",
        "dist_7_abs,dist_7_sqr"
      ],
      "execution_count": 233,
      "outputs": [
        {
          "output_type": "execute_result",
          "data": {
            "text/plain": [
              "(tensor(0.1586), tensor(0.3021))"
            ]
          },
          "metadata": {},
          "execution_count": 233
        }
      ]
    },
    {
      "cell_type": "markdown",
      "metadata": {
        "id": "GUB622taugIN"
      },
      "source": [
        "NOTE:  In both cases, the distance between our 3 and the \"ideal\" 3 is less than the distance to the ideal 7. So our simple model will give the right prediction in this case."
      ]
    },
    {
      "cell_type": "markdown",
      "metadata": {
        "id": "yzdWXngSugIN"
      },
      "source": [
        "PyTorch already provides both of these as *loss functions*. You'll find these inside `torch.nn.functional`, which the PyTorch team recommends importing as `F` (and is available by default under that name in fastai):"
      ]
    },
    {
      "cell_type": "code",
      "metadata": {
        "id": "YUzq5O_uugIN",
        "colab": {
          "base_uri": "https://localhost:8080/"
        },
        "outputId": "8e56b16d-4e25-4858-866a-1f69d60e71a4"
      },
      "source": [
        "# Using Pytorch loss functions: mean absolute (F.l1_loss) and  mean squared error (F.mse_loss)\n",
        "F.l1_loss(a_3.float(),mean7), F.mse_loss(a_3,mean7).sqrt()"
      ],
      "execution_count": 234,
      "outputs": [
        {
          "output_type": "execute_result",
          "data": {
            "text/plain": [
              "(tensor(0.1586), tensor(0.3021))"
            ]
          },
          "metadata": {},
          "execution_count": 234
        }
      ]
    },
    {
      "cell_type": "markdown",
      "metadata": {
        "id": "_k6_dvcfugIQ"
      },
      "source": [
        "Here `mse` stands for *mean squared error*.  `l1` refers to the standard mathematical jargon for *mean absolute value* (in math it's called the *L1 norm*)."
      ]
    },
    {
      "cell_type": "markdown",
      "metadata": {
        "id": "q_4-bRRgugIQ"
      },
      "source": [
        "> S: **Intuitively, the difference between L1 norm and mean squared error (MSE) is that the latter will penalize bigger mistakes more heavily than the former (and be more lenient with small mistakes)**."
      ]
    },
    {
      "cell_type": "markdown",
      "metadata": {
        "id": "M_xhkts9ugIR"
      },
      "source": [
        "> J: When I first came across this \"L1\" thingie, I looked it up to see what on earth it meant. I found on Google that it is a _vector norm_ using _absolute value_, so looked up _vector norm_ and started reading: _Given a vector space V over a field F of the real or complex numbers, a norm on V is a nonnegative-valued any function p: V → \\[0,+∞) with the following properties: For all a ∈ F and all u, v ∈ V, p(u + v) ≤ p(u) + p(v)..._ Then I stopped reading. \"Ugh, I'll never understand math!\" I thought, for the thousandth time. Since then I've learned that every time these complex mathy bits of jargon come up in practice, it turns out I can replace them with a tiny bit of code! Like, the _L1 loss_ is just equal to `(a-b).abs().mean()`, where `a` and `b` are tensors. I guess mathy folks just think differently than me... I'll make sure in this book that every time some mathy jargon comes up, I'll give you the little bit of code it's equal to as well, and explain in common-sense terms what's going on."
      ]
    },
    {
      "cell_type": "markdown",
      "metadata": {
        "id": "G_ZGSPCTugIR"
      },
      "source": [
        "We just completed various mathematical operations on PyTorch tensors. If you've done some numeric programming in PyTorch before, you may recognize these as being similar to NumPy arrays. Let's have a look at those two very important data structures."
      ]
    },
    {
      "cell_type": "markdown",
      "metadata": {
        "id": "C9JEt9-YugIR"
      },
      "source": [
        "### NumPy Arrays and PyTorch Tensors"
      ]
    },
    {
      "cell_type": "markdown",
      "metadata": {
        "id": "F6LYKFgVugIS"
      },
      "source": [
        "[NumPy](https://numpy.org/) is the most widely used library for scientific and numeric programming in Python. It provides very similar functionality and a very similar API to that provided by PyTorch; however, it does not support using the GPU or calculating gradients, which are both critical for deep learning. Therefore, in this book we will generally use PyTorch tensors instead of NumPy arrays, where possible.\n",
        "\n",
        "(Note that fastai adds some features to NumPy and PyTorch to make them a bit more similar to each other. If any code in this book doesn't work on your computer, it's possible that you forgot to include a line like this at the start of your notebook: `from fastai.vision.all import *`.)\n",
        "\n",
        "But what are arrays and tensors, and why should you care?"
      ]
    },
    {
      "cell_type": "markdown",
      "metadata": {
        "id": "itddrPIuugIS"
      },
      "source": [
        "Python is slow compared to many languages. Anything fast in Python, NumPy, or PyTorch is likely to be a wrapper for a compiled object written (and optimized) in another language—specifically C. In fact, **NumPy arrays and PyTorch tensors can finish computations many thousands of times faster than using pure Python.**\n",
        "\n",
        "**A NumPy array is a multidimensional table of data, with all items of the same type**. Since that can be any type at all, they can even be arrays of arrays, with the innermost arrays potentially being different sizes—this is called a \"jagged array.\" By \"multidimensional table\" we mean, for instance, a list (dimension of one), a table or matrix (dimension of two), a \"table of tables\" or \"cube\" (dimension of three), and so forth. If the items are all of some simple type such as integer or float, then NumPy will store them as a compact C data structure in memory. This is where NumPy shines. NumPy has a wide variety of operators and methods that can run computations on these compact structures at the same speed as optimized C, because they are written in optimized C.\n",
        "\n",
        "**A PyTorch tensor is nearly the same thing as a NumPy array, but with an additional restriction** that unlocks some additional capabilities. It's the same in that it, too, is a multidimensional table of data, with all items of the same type. However, the restriction is that a tensor cannot use just any old type—it has to use a single basic numeric type for all components. For example, a PyTorch tensor cannot be jagged. **It is always a regularly shaped multidimensional rectangular structure**.\n",
        "\n",
        "The vast majority of methods and operators supported by NumPy on these structures are also supported by PyTorch, but PyTorch tensors have additional capabilities. **One major capability is that these structures can live on the GPU**, in which case their computation will be optimized for the GPU and can run much faster (given lots of values to work on). In addition, **PyTorch can automatically calculate derivatives of these operations**, including combinations of operations. As you'll see, it would be impossible to do deep learning in practice without this capability.\n",
        "\n",
        "> S: If you don't know what C is, don't worry as you won't need it at all. In a nutshell, it's a low-level  (low-level means more similar to the language that computers use internally) language that is very fast compared to Python. To take advantage of its speed while programming in Python, try to avoid as much as possible writing loops, and replace them by commands that work directly on arrays or tensors.\n",
        "\n",
        "Perhaps the most important new coding skill for a Python programmer to learn is how to effectively use the array/tensor APIs. We will be showing lots more tricks later in this book, but here's a summary of the key things you need to know for now."
      ]
    },
    {
      "cell_type": "markdown",
      "metadata": {
        "id": "LCl50HWqugIT"
      },
      "source": [
        "To create an array or tensor, pass a list (or list of lists, or list of lists of lists, etc.) to `array()` or `tensor()`:"
      ]
    },
    {
      "cell_type": "code",
      "metadata": {
        "id": "167kF__QugIT"
      },
      "source": [
        "# a list of lists\n",
        "data = [[1,2,3],[4,5,6]]\n",
        "# creating an array with numpy\n",
        "arr = array(data)\n",
        "# creating a tensor with Pytorch\n",
        "tns = tensor(data)"
      ],
      "execution_count": 235,
      "outputs": []
    },
    {
      "cell_type": "markdown",
      "metadata": {
        "id": "H2RquJkuF9a9"
      },
      "source": [
        "NOTE: `array` is `np.array` and tensor is `torch.tensor`; the import `from fastbook import *` will import these libraries numpy and torch."
      ]
    },
    {
      "cell_type": "code",
      "metadata": {
        "id": "u1UjS9PLugIX",
        "colab": {
          "base_uri": "https://localhost:8080/"
        },
        "outputId": "825425e4-8b7c-4e85-c7bf-e3d7a46199e0"
      },
      "source": [
        "arr  # numpy"
      ],
      "execution_count": 236,
      "outputs": [
        {
          "output_type": "execute_result",
          "data": {
            "text/plain": [
              "array([[1, 2, 3],\n",
              "       [4, 5, 6]])"
            ]
          },
          "metadata": {},
          "execution_count": 236
        }
      ]
    },
    {
      "cell_type": "code",
      "metadata": {
        "id": "VowwNA6Ob_P_",
        "colab": {
          "base_uri": "https://localhost:8080/"
        },
        "outputId": "5b74683b-ce3d-4698-c5db-6b70611f98e9"
      },
      "source": [
        "arr.shape, arr.ndim"
      ],
      "execution_count": 237,
      "outputs": [
        {
          "output_type": "execute_result",
          "data": {
            "text/plain": [
              "((2, 3), 2)"
            ]
          },
          "metadata": {},
          "execution_count": 237
        }
      ]
    },
    {
      "cell_type": "code",
      "metadata": {
        "id": "53rzYB2SugIc",
        "colab": {
          "base_uri": "https://localhost:8080/"
        },
        "outputId": "a109a0cd-c2fd-43d3-c87d-238a3154273e"
      },
      "source": [
        "tns  # pytorch"
      ],
      "execution_count": 238,
      "outputs": [
        {
          "output_type": "execute_result",
          "data": {
            "text/plain": [
              "tensor([[1, 2, 3],\n",
              "        [4, 5, 6]])"
            ]
          },
          "metadata": {},
          "execution_count": 238
        }
      ]
    },
    {
      "cell_type": "code",
      "metadata": {
        "id": "F4yQBlr9bUZ0",
        "colab": {
          "base_uri": "https://localhost:8080/"
        },
        "outputId": "3bbca111-f8ad-4b38-a62a-804b95bf1c9b"
      },
      "source": [
        "tns.shape, tns.ndim"
      ],
      "execution_count": 239,
      "outputs": [
        {
          "output_type": "execute_result",
          "data": {
            "text/plain": [
              "(torch.Size([2, 3]), 2)"
            ]
          },
          "metadata": {},
          "execution_count": 239
        }
      ]
    },
    {
      "cell_type": "markdown",
      "metadata": {
        "id": "X3imkxyHWLgZ"
      },
      "source": [
        "NOTE: the results of a numpy array and a pytorch tensors are identical."
      ]
    },
    {
      "cell_type": "markdown",
      "metadata": {
        "id": "69qiBXHqugIf"
      },
      "source": [
        "All the operations that follow are shown on tensors, but the syntax and results for NumPy arrays is identical.\n",
        "\n",
        "You can select a row (note that, like lists in Python, tensors are 0-indexed so 1 refers to the second row/column):"
      ]
    },
    {
      "cell_type": "code",
      "metadata": {
        "id": "XaHWlTrdugJh",
        "colab": {
          "base_uri": "https://localhost:8080/"
        },
        "outputId": "6fee0c80-e584-460d-dfcd-bbafa54a731d"
      },
      "source": [
        "# indexing into a row from a tensor\n",
        "tns[1] "
      ],
      "execution_count": 240,
      "outputs": [
        {
          "output_type": "execute_result",
          "data": {
            "text/plain": [
              "tensor([4, 5, 6])"
            ]
          },
          "metadata": {},
          "execution_count": 240
        }
      ]
    },
    {
      "cell_type": "markdown",
      "metadata": {
        "id": "laEV6Lxt9pjy"
      },
      "source": [
        "NOTE: by selecting a row, all the columns are displayed as well.  You can also write it as follows `tns[1,:]`"
      ]
    },
    {
      "cell_type": "code",
      "metadata": {
        "id": "OTpJld3T98J5",
        "colab": {
          "base_uri": "https://localhost:8080/"
        },
        "outputId": "6354abde-3a0e-4f4a-ccf1-dbae697b9fdb"
      },
      "source": [
        "# another annotation -- preferred!\n",
        "# indexing into a row from a tensor\n",
        "tns[1,:]"
      ],
      "execution_count": 241,
      "outputs": [
        {
          "output_type": "execute_result",
          "data": {
            "text/plain": [
              "tensor([4, 5, 6])"
            ]
          },
          "metadata": {},
          "execution_count": 241
        }
      ]
    },
    {
      "cell_type": "markdown",
      "metadata": {
        "id": "CcpkYMvmW6BD"
      },
      "source": [
        "NOTE: row 1, columns 0,1,2"
      ]
    },
    {
      "cell_type": "markdown",
      "metadata": {
        "id": "NqdnON07ugJo"
      },
      "source": [
        "or a column, by using `:` to indicate *all of the first axis* (we sometimes refer to the dimensions of tensors/arrays as *axes*):"
      ]
    },
    {
      "cell_type": "code",
      "metadata": {
        "id": "aKMbAS1IugJq",
        "colab": {
          "base_uri": "https://localhost:8080/"
        },
        "outputId": "579740a1-a081-4578-c80c-2d298485c6fa"
      },
      "source": [
        "# selecting all rows and column 1 from a tensor\n",
        "tns[:,1]"
      ],
      "execution_count": 242,
      "outputs": [
        {
          "output_type": "execute_result",
          "data": {
            "text/plain": [
              "tensor([2, 5])"
            ]
          },
          "metadata": {},
          "execution_count": 242
        }
      ]
    },
    {
      "cell_type": "markdown",
      "metadata": {
        "id": "GtHvd0uTISgk"
      },
      "source": [
        "\n",
        "\n",
        "```\n",
        "tensor([[1, 2, 3],\n",
        "        [4, 5, 6]]\n",
        "```\n",
        "\n"
      ]
    },
    {
      "cell_type": "markdown",
      "metadata": {
        "id": "gu9jUMppugJt"
      },
      "source": [
        "You can combine these with Python slice syntax (`[start:end]` with `end` being excluded) to select part of a row or column:"
      ]
    },
    {
      "cell_type": "code",
      "metadata": {
        "id": "80F0p2tIugJu",
        "colab": {
          "base_uri": "https://localhost:8080/"
        },
        "outputId": "3698620d-f51c-4341-82ba-2b675911545d"
      },
      "source": [
        "# Python slicing with a tensor\n",
        "tns[1,1:3]"
      ],
      "execution_count": 243,
      "outputs": [
        {
          "output_type": "execute_result",
          "data": {
            "text/plain": [
              "tensor([5, 6])"
            ]
          },
          "metadata": {},
          "execution_count": 243
        }
      ]
    },
    {
      "cell_type": "markdown",
      "metadata": {
        "id": "PUaG0qBfIto7"
      },
      "source": [
        "\n",
        "\n",
        "```\n",
        "tensor([[1, 2, 3],\n",
        "        [4, 5, 6]]\n",
        "```\n",
        "\n"
      ]
    },
    {
      "cell_type": "markdown",
      "metadata": {
        "id": "60xpdwNGWuJP"
      },
      "source": [
        "NOTE: we are taking row 1, columns 1 and 2."
      ]
    },
    {
      "cell_type": "markdown",
      "metadata": {
        "id": "BNPEieMRugJw"
      },
      "source": [
        "And you can use the standard operators such as `+`, `-`, `*`, `/`:"
      ]
    },
    {
      "cell_type": "code",
      "metadata": {
        "id": "7AC_vxbyugJx",
        "colab": {
          "base_uri": "https://localhost:8080/"
        },
        "outputId": "eac1a2cc-b353-406f-dd08-44c73c8dae84"
      },
      "source": [
        "# tensor addition\n",
        "tns+1"
      ],
      "execution_count": 244,
      "outputs": [
        {
          "output_type": "execute_result",
          "data": {
            "text/plain": [
              "tensor([[2, 3, 4],\n",
              "        [5, 6, 7]])"
            ]
          },
          "metadata": {},
          "execution_count": 244
        }
      ]
    },
    {
      "cell_type": "markdown",
      "metadata": {
        "id": "7CT_RcKaugJ2"
      },
      "source": [
        "Tensors have a type:"
      ]
    },
    {
      "cell_type": "code",
      "metadata": {
        "id": "BRlHdiDmnl_L",
        "colab": {
          "base_uri": "https://localhost:8080/"
        },
        "outputId": "16ed8b36-f418-4bfd-9936-edd34e771575"
      },
      "source": [
        "# Python type function\n",
        "type(tns)"
      ],
      "execution_count": 245,
      "outputs": [
        {
          "output_type": "execute_result",
          "data": {
            "text/plain": [
              "torch.Tensor"
            ]
          },
          "metadata": {},
          "execution_count": 245
        }
      ]
    },
    {
      "cell_type": "code",
      "metadata": {
        "id": "ejyMc_uAugJ3",
        "colab": {
          "base_uri": "https://localhost:8080/",
          "height": 35
        },
        "outputId": "04cc31b9-e696-4cb4-a3a7-353c61b14d00"
      },
      "source": [
        "# tensor type using Pytorch type method\n",
        "tns.type()"
      ],
      "execution_count": 246,
      "outputs": [
        {
          "output_type": "execute_result",
          "data": {
            "application/vnd.google.colaboratory.intrinsic+json": {
              "type": "string"
            },
            "text/plain": [
              "'torch.LongTensor'"
            ]
          },
          "metadata": {},
          "execution_count": 246
        }
      ]
    },
    {
      "cell_type": "markdown",
      "metadata": {
        "id": "y60x6Q6gugJ9"
      },
      "source": [
        "And will automatically change type as needed, for example from `int` to `float`:"
      ]
    },
    {
      "cell_type": "code",
      "metadata": {
        "id": "C4bUH8uaugJ9",
        "colab": {
          "base_uri": "https://localhost:8080/"
        },
        "outputId": "342a772d-d1ca-4c91-cd58-597673ab510f"
      },
      "source": [
        "# int to float\n",
        "tns*1.5"
      ],
      "execution_count": 247,
      "outputs": [
        {
          "output_type": "execute_result",
          "data": {
            "text/plain": [
              "tensor([[1.5000, 3.0000, 4.5000],\n",
              "        [6.0000, 7.5000, 9.0000]])"
            ]
          },
          "metadata": {},
          "execution_count": 247
        }
      ]
    },
    {
      "cell_type": "markdown",
      "metadata": {
        "id": "WAsiTWIrugKA"
      },
      "source": [
        "So, is our baseline model any good? To quantify this, we must define a metric."
      ]
    },
    {
      "cell_type": "markdown",
      "metadata": {
        "id": "Rsc-l0YsugKB"
      },
      "source": [
        "## Computing Metrics Using Broadcasting"
      ]
    },
    {
      "cell_type": "markdown",
      "metadata": {
        "id": "r6TscaZkugKB"
      },
      "source": [
        "\n",
        "\n",
        "```\n",
        "`# This is formatted as code`\n",
        "```\n",
        "\n",
        "Recall that **a metric is a number that is calculated based on the predictions of our model, and the correct labels in our dataset, in order to tell us how good our model is**. For instance, we could use either of the functions we saw in the previous section, mean squared error, or mean absolute error, and take the average of them over the whole dataset. However, neither of these are numbers that are very understandable to most people; in practice, we normally use *accuracy* as the metric for classification models.\n",
        "\n",
        "As we've discussed, **we want to calculate our metric over a *validation set**. This is so that we don't inadvertently overfit—that is, train a model to work well only on our training data. This is not really a risk with the pixel similarity model we're using here as a first try, since it has no trained components, but we'll use a validation set anyway to follow normal practices and to be ready for our second try later.\n",
        "\n",
        "To get a validation set we need to remove some of the data from training entirely, so it is not seen by the model at all. As it turns out, the creators of the MNIST dataset have already done this for us. Do you remember how there was a whole separate directory called *valid*? That's what this directory is for!\n",
        "\n",
        "So to start with, let's create tensors for our 3s and 7s from that directory. These are the tensors we will use to calculate a metric measuring the quality of our first-try model, which measures distance from an ideal image:"
      ]
    },
    {
      "cell_type": "markdown",
      "metadata": {
        "id": "piBDKW33XdF8"
      },
      "source": [
        "NOTE: metrics are calculated on the **validation set** (data not seen by the training set) and indicate how good our model is. \n",
        "\n",
        "As an example, we can use the loss functions (L1 and L2) and average them over the whole dataset"
      ]
    },
    {
      "cell_type": "code",
      "metadata": {
        "id": "isF3VvKuugKB",
        "colab": {
          "base_uri": "https://localhost:8080/"
        },
        "outputId": "e9a7ec63-bee9-4b42-cf09-a878f7723de2"
      },
      "source": [
        "# creating tensors for the validation set for 3s \n",
        "valid_3_tens = torch.stack([tensor(Image.open(o)) \n",
        "                            for o in (path/'valid'/'3').ls()])\n",
        "valid_3_tens = valid_3_tens.float()/255\n",
        "\n",
        "# creating tensors for the validation set for 7s \n",
        "valid_7_tens = torch.stack([tensor(Image.open(o)) \n",
        "                            for o in (path/'valid'/'7').ls()])\n",
        "valid_7_tens = valid_7_tens.float()/255\n",
        "\n",
        "# checking both tensors shape\n",
        "valid_3_tens.shape,valid_7_tens.shape"
      ],
      "execution_count": 248,
      "outputs": [
        {
          "output_type": "execute_result",
          "data": {
            "text/plain": [
              "(torch.Size([1010, 28, 28]), torch.Size([1028, 28, 28]))"
            ]
          },
          "metadata": {},
          "execution_count": 248
        }
      ]
    },
    {
      "cell_type": "markdown",
      "metadata": {
        "id": "f9co4jkWZBGw"
      },
      "source": [
        "NOTE: the valid 3 tensor has 1010 images; the valid 7 tensor has 1028 images both of size 28x28 "
      ]
    },
    {
      "cell_type": "code",
      "metadata": {
        "id": "mx09BTtGro__",
        "colab": {
          "base_uri": "https://localhost:8080/"
        },
        "outputId": "14c07bef-4e05-49d2-8046-f278f64aa138"
      },
      "source": [
        "valid_3_tens.ndim"
      ],
      "execution_count": 249,
      "outputs": [
        {
          "output_type": "execute_result",
          "data": {
            "text/plain": [
              "3"
            ]
          },
          "metadata": {},
          "execution_count": 249
        }
      ]
    },
    {
      "cell_type": "markdown",
      "metadata": {
        "id": "eyAmSjlwugKF"
      },
      "source": [
        "**It's good to get in the habit of checking shapes as you go**. Here we see two tensors, one representing the 3s validation set of 1,010 images of size 28×28, and one representing the 7s validation set of 1,028 images of size 28×28.\n",
        "\n",
        "We ultimately want to write a function, `is_3`, that will decide if an arbitrary image is a 3 or a 7. It will do this by deciding which of our two \"ideal digits\" this arbitrary image is closer to. For that we need to define a notion of distance—that is, a function that calculates the distance between two images.\n",
        "\n",
        "We can write a simple function that calculates the mean absolute error using an experssion very similar to the one we wrote in the last section:"
      ]
    },
    {
      "cell_type": "code",
      "metadata": {
        "id": "GuM5GB2d7zxo",
        "colab": {
          "base_uri": "https://localhost:8080/"
        },
        "outputId": "c0f18bc5-a338-4a3c-eaff-8a850b6e1285"
      },
      "source": [
        "# our image (shape and dimension)\n",
        "a_3.shape, a_3.ndim"
      ],
      "execution_count": 250,
      "outputs": [
        {
          "output_type": "execute_result",
          "data": {
            "text/plain": [
              "(torch.Size([28, 28]), 2)"
            ]
          },
          "metadata": {},
          "execution_count": 250
        }
      ]
    },
    {
      "cell_type": "markdown",
      "metadata": {
        "id": "A0QjgrwmvW0a"
      },
      "source": [
        "NOTE: `a_3`is a rank 2 tensor"
      ]
    },
    {
      "cell_type": "code",
      "metadata": {
        "id": "vmRWvc_xsUl7",
        "colab": {
          "base_uri": "https://localhost:8080/"
        },
        "outputId": "6a0693cb-ed50-4ba9-c122-18722f76b2ab"
      },
      "source": [
        "# our ideal 3 (shape and dimension)\n",
        "mean3.shape, mean3.ndim"
      ],
      "execution_count": 251,
      "outputs": [
        {
          "output_type": "execute_result",
          "data": {
            "text/plain": [
              "(torch.Size([28, 28]), 2)"
            ]
          },
          "metadata": {},
          "execution_count": 251
        }
      ]
    },
    {
      "cell_type": "markdown",
      "metadata": {
        "id": "mfrzJr59vdAF"
      },
      "source": [
        "NOTE: `mean3` is a rank 2 tensor."
      ]
    },
    {
      "cell_type": "code",
      "metadata": {
        "id": "Hpqzr1uAtGCW",
        "colab": {
          "base_uri": "https://localhost:8080/"
        },
        "outputId": "5b241d57-3945-4f6b-dc39-68cf21b728bb"
      },
      "source": [
        "# our validation set for 3s (shape and dimension)\n",
        "valid_3_tens.shape, valid_3_tens.ndim"
      ],
      "execution_count": 252,
      "outputs": [
        {
          "output_type": "execute_result",
          "data": {
            "text/plain": [
              "(torch.Size([1010, 28, 28]), 3)"
            ]
          },
          "metadata": {},
          "execution_count": 252
        }
      ]
    },
    {
      "cell_type": "markdown",
      "metadata": {
        "id": "Gr8EjGupvmwZ"
      },
      "source": [
        "NOTE: `valid_3_tens` is a rank 3 tensor."
      ]
    },
    {
      "cell_type": "code",
      "metadata": {
        "id": "SwCB3L6xugKG",
        "colab": {
          "base_uri": "https://localhost:8080/"
        },
        "outputId": "975052bd-de5b-4995-fd10-578cbe0faed4"
      },
      "source": [
        "# function to check on an arbitrary image of 3 or 7\n",
        "# taking the mean over the last 2 axes\n",
        "def mnist_distance(a,b): return (a-b).abs().mean((-1,-2))\n",
        "\n",
        "# computing the distance for one image (a_3) our actual image to our 'ideal 3' image\n",
        "mnist_distance(a_3, mean3)"
      ],
      "execution_count": 253,
      "outputs": [
        {
          "output_type": "execute_result",
          "data": {
            "text/plain": [
              "tensor(0.1114)"
            ]
          },
          "metadata": {},
          "execution_count": 253
        }
      ]
    },
    {
      "cell_type": "markdown",
      "metadata": {
        "id": "berwB6aTwZrl"
      },
      "source": [
        "NOTE1:  We can use `mnist_distance` to figure out whether an image is a 3 or not by using the following logic: \n",
        "- if the distance between the digit in question and the ideal 3 is less than the distance to the ideal 7, then it's a 3. \n",
        "\n",
        "This function will automatically do broadcasting and be applied elementwise, just like all PyTorch functions and operators:**"
      ]
    },
    {
      "cell_type": "markdown",
      "metadata": {
        "id": "giREjhz_ugKO"
      },
      "source": [
        "NOTE2:  `.mean(-1, -2)` take the mean of the last and second last dimension. The tuple `(-1,-2)` represents a range of axes. \n",
        "\n",
        "In Python, `-1` refers to the last element, and `-2` refers to the second-to-last. So in this case, this tells PyTorch that we want to take the mean ranging over the values indexed by the last two axes of the tensor. The last two axes are the horizontal and vertical dimensions of an image. \n",
        "\n",
        "After taking the mean over the last two axes, we are left with just the first tensor axis, which indexes over our images, which is why our final size was (1010). In other words, for every image, we averaged the intensity of all the pixels in that image.\n",
        "\n",
        "This is the same value we previously calculated for the distance between these two images, the ideal 3 `mean_3` and the arbitrary sample 3 `a_3`, which are both single-image tensors with a shape of `[28,28]`.\n",
        "\n",
        "But in order to calculate a metric for overall **accuracy**, we will need to calculate the distance to the ideal 3 for _every_ image in the **validation set**. How do we do that calculation? We could write a loop over all of the single-image tensors that are stacked within our validation set tensor, `valid_3_tens`, which has a shape of `[1010,28,28]` representing 1,010 images. But there is a better way.\n",
        "\n",
        "Something very interesting happens when we take this exact same distance function, designed for comparing two single images, but pass in as an argument `valid_3_tens`, the tensor that represents the 3s validation set:"
      ]
    },
    {
      "cell_type": "code",
      "metadata": {
        "id": "y5SlmKR4ugKO",
        "colab": {
          "base_uri": "https://localhost:8080/"
        },
        "outputId": "c724d14a-86e6-441b-e00f-d4bef98fa75f"
      },
      "source": [
        "# computing the mean for all the images in the validation set.\n",
        "# broadcasting - handling tensors of different shapes\n",
        "valid_3_dist = mnist_distance(valid_3_tens, mean3)\n",
        "valid_3_dist, valid_3_dist.shape, valid_3_dist.ndim"
      ],
      "execution_count": 254,
      "outputs": [
        {
          "output_type": "execute_result",
          "data": {
            "text/plain": [
              "(tensor([0.1288, 0.1231, 0.1259,  ..., 0.1317, 0.1111, 0.1324]),\n",
              " torch.Size([1010]),\n",
              " 1)"
            ]
          },
          "metadata": {},
          "execution_count": 254
        }
      ]
    },
    {
      "cell_type": "markdown",
      "metadata": {
        "id": "u7UzBrdTi-zq"
      },
      "source": [
        "NOTE1: this computation taking the whole validation set of 3s and computing the mean is done via **broadcasting**, that is handling tensors of different shapes."
      ]
    },
    {
      "cell_type": "markdown",
      "metadata": {
        "id": "5O9Zgy-Zax7i"
      },
      "source": [
        "NOTE2: `valid_3_tens` and `mean3` tensors do not have the same shape, yet **broadcasting** will do the trick.  **That is expanding the smaller rank to have the same size as the one with a larger rank**.\n",
        "\n",
        "\n",
        "We are calculating the difference between our \"ideal 3\" and each of the 1,010 3s in the validation set, for each of 28×28 images, resulting in the shape [1010,28,28].\n",
        "\n",
        "PyTorch doesn't actually copy `mean3` 1,010 times. It \"pretends\" it were a tensor of that shape, but doesn't actually allocate any additional memory\n",
        "\n",
        "Pytorch does the whole calculation in C (or, if you're using a GPU, in CUDA, the equivalent of C on the GPU).\n",
        "\n",
        "After broadcasting so the two argument tensors have the same rank, PyTorch applies its usual logic for two tensors of the same rank: it performs the operation on each corresponding element of the two tensors, and returns the tensor result. For instance:\n"
      ]
    },
    {
      "cell_type": "markdown",
      "metadata": {
        "id": "9sLy6RppugKQ"
      },
      "source": [
        "**Instead of complaining about shapes not matching, it returned the distance for every single image as a vector (i.e., a rank-1 tensor) of length 1,010 (the number of 3s in our validation set)**. How did that happen?\n",
        "\n",
        "Take another look at our function `mnist_distance`, and you'll see we have there the subtraction `(a-b)`. The magic trick is that PyTorch, when it tries to perform a simple subtraction operation between two tensors of different ranks, will use **broadcasting**. That is, it will automatically expand the tensor with the smaller rank to have the same size as the one with the larger rank. Broadcasting is an important capability that makes tensor code much easier to write.\n",
        "\n",
        "After broadcasting so the two argument tensors have the same rank, PyTorch applies its usual logic for two tensors of the same rank: it performs the operation on each corresponding element of the two tensors, and returns the tensor result. For instance:"
      ]
    },
    {
      "cell_type": "markdown",
      "metadata": {
        "id": "wPV5jvxvuSYJ"
      },
      "source": [
        "### Element wise operations"
      ]
    },
    {
      "cell_type": "code",
      "metadata": {
        "id": "tlT7w7CjugKR",
        "colab": {
          "base_uri": "https://localhost:8080/"
        },
        "outputId": "fe17021c-2b5e-49cc-c00f-a83efb8b30c7"
      },
      "source": [
        "# element wise operations\n",
        "tensor([1,2,3]) + tensor([1,1,1])"
      ],
      "execution_count": 255,
      "outputs": [
        {
          "output_type": "execute_result",
          "data": {
            "text/plain": [
              "tensor([2, 3, 4])"
            ]
          },
          "metadata": {},
          "execution_count": 255
        }
      ]
    },
    {
      "cell_type": "markdown",
      "metadata": {
        "id": "j5O54uoDugKY"
      },
      "source": [
        "Next in `mnist_distance` we see `abs`. You might be able to guess now what this does when applied to a tensor. It applies the method to each individual element in the tensor, and returns a tensor of the results (that is, it applies the method \"elementwise\"). So in this case, we'll get back 1,010 matrices of absolute values.\n",
        "\n",
        "\n",
        "We'll be learning lots more about broadcasting throughout this book, especially in <<chapter_foundations>>, and will be practicing it regularly too.\n",
        "\n"
      ]
    },
    {
      "cell_type": "code",
      "metadata": {
        "id": "DbLWY915ugKY"
      },
      "source": [
        "# function is it a 3? or not ... Returning a Booleab value\n",
        "def is_3(x): return mnist_distance(x,mean3) < mnist_distance(x,mean7)"
      ],
      "execution_count": 256,
      "outputs": []
    },
    {
      "cell_type": "markdown",
      "metadata": {
        "id": "gDXQMgy0ugKe"
      },
      "source": [
        "Let's test it on our example case:"
      ]
    },
    {
      "cell_type": "code",
      "metadata": {
        "id": "Vn4czoa6ugKe",
        "colab": {
          "base_uri": "https://localhost:8080/"
        },
        "outputId": "0402fd2b-2856-466a-d771-81d0f9412dd5"
      },
      "source": [
        "# checking is_3 on one image (a_3)\n",
        "# Converting  a Boolean value to float\n",
        "is_3(a_3), is_3(a_3).float()"
      ],
      "execution_count": 257,
      "outputs": [
        {
          "output_type": "execute_result",
          "data": {
            "text/plain": [
              "(tensor(True), tensor(1.))"
            ]
          },
          "metadata": {},
          "execution_count": 257
        }
      ]
    },
    {
      "cell_type": "markdown",
      "metadata": {
        "id": "kJ-6-53FugKk"
      },
      "source": [
        "NOTE:  When converting Boolean value into a float, we get `1.0` for `True` and `0.0` for `False`. Thanks to broadcasting, we can also test it on the full validation set of 3s.  See below."
      ]
    },
    {
      "cell_type": "code",
      "metadata": {
        "id": "T2PCoaiougKk",
        "colab": {
          "base_uri": "https://localhost:8080/"
        },
        "outputId": "784a6796-f39f-4860-c06b-20bde67c5c03"
      },
      "source": [
        "# checking is_3 on the validation set for 3s\n",
        "is_3(valid_3_tens)"
      ],
      "execution_count": 258,
      "outputs": [
        {
          "output_type": "execute_result",
          "data": {
            "text/plain": [
              "tensor([ True,  True,  True,  ...,  True,  True, False])"
            ]
          },
          "metadata": {},
          "execution_count": 258
        }
      ]
    },
    {
      "cell_type": "markdown",
      "metadata": {
        "id": "UGRrueh2ugKn"
      },
      "source": [
        "Now we can calculate the accuracy for each of the 3s and 7s by taking the average of that function for all 3s and its inverse for all 7s:"
      ]
    },
    {
      "cell_type": "code",
      "metadata": {
        "id": "bmLQ9ROPugKn",
        "colab": {
          "base_uri": "https://localhost:8080/"
        },
        "outputId": "931833b9-9f13-4024-99e0-30336d769186"
      },
      "source": [
        "# computing the accuracy\n",
        "# the metric accuracy is done on the validation set for 3s and 7s\n",
        "accuracy_3s =      is_3(valid_3_tens).float() .mean()\n",
        "accuracy_7s = (1 - is_3(valid_7_tens).float()).mean()\n",
        "\n",
        "# accuracy rate\n",
        "accuracy_3s,accuracy_7s,(accuracy_3s+accuracy_7s)/2"
      ],
      "execution_count": 259,
      "outputs": [
        {
          "output_type": "execute_result",
          "data": {
            "text/plain": [
              "(tensor(0.9168), tensor(0.9854), tensor(0.9511))"
            ]
          },
          "metadata": {},
          "execution_count": 259
        }
      ]
    },
    {
      "cell_type": "markdown",
      "metadata": {
        "id": "6-qmt5MgsXPo"
      },
      "source": [
        "NOTE: we have a model that is 95% accurate recognizing 3s and 7s."
      ]
    },
    {
      "cell_type": "markdown",
      "metadata": {
        "id": "BTgNcJlzugKp"
      },
      "source": [
        "**This looks like a pretty good start!** We're getting over 90% accuracy on both 3s and 7s, and we've seen how to define a metric conveniently using broadcasting.\n",
        "\n",
        "But let's be honest: 3s and 7s are very different-looking digits. And we're only classifying 2 out of the 10 possible digits so far. So we're going to need to do better!\n",
        "\n",
        "To do better, perhaps it is time to try a system that does some real learning—that is, that can automatically modify itself to improve its performance. In other words, it's time to talk about the training process, and SGD."
      ]
    },
    {
      "cell_type": "markdown",
      "metadata": {
        "id": "xeZ0r5ppugKp"
      },
      "source": [
        "## Stochastic Gradient Descent (SGD)"
      ]
    },
    {
      "cell_type": "markdown",
      "metadata": {
        "id": "WhAUF4P5ugKq"
      },
      "source": [
        "Do you remember the way that **Arthur Samuel** described machine learning, which we quoted in <<chapter_intro>>?\n",
        "\n",
        "> \"Suppose we arrange for some automatic means of testing the effectiveness of any current weight assignment in terms of actual performance and provide a mechanism for altering the weight assignment so as to maximize the performance. We need not go into the details of such a procedure to see that it could be made entirely automatic and to see that a machine so programmed would \"learn\" from its experience\".\n",
        "\n",
        "> \"Supposons que nous mettons en place des moyens automatiques de tester l'efficacité de toute attribution de poids actuelle en terme de performances réelles et fournissons un mécanisme pour modifier l'attribution de poids afin de maximiser les performances. Nous n'avons pas besoin d'entrer dans les détails d'une telle procédure pour voir qu'il pourrait être rendu entièrement automatique et voir qu'une machine ainsi programmée «apprendrait» de son expérience.\"\n",
        "\n",
        "As we discussed, this is the key to allowing us to have a model that can get better and better—that can learn. But our pixel similarity approach does not really do this. We do not have any kind of weight assignment, or any way of improving based on testing the effectiveness of a weight assignment. In other words, we can't really improve our pixel similarity approach by modifying a set of parameters. In order to take advantage of the power of deep learning, we will first have to represent our task in the way that Arthur Samuel described it.\n",
        "\n",
        "NOTE:  Instead of trying to find the similarity between an image and an \"ideal image,\" we could instead look at each individual pixel and come up with a set of weights for each one, such that the highest weights are associated with those pixels most likely to be black for a particular category. For instance, pixels toward the bottom right are not very likely to be activated for a 7, so they should have a low weight for a 7, but they are likely to be activated for an 8, so they should have a high weight for an 8. This can be represented as a function and set of weight values for each possible category—for instance the probability of being the number 8:\n",
        "\n",
        "```\n",
        "def pr_eight(x,w) = (x*w).sum()\n",
        "```"
      ]
    },
    {
      "cell_type": "markdown",
      "metadata": {
        "id": "eyf3UdlougKq"
      },
      "source": [
        "Here we are assuming that `x` is the image, represented as a vector—in other words, with all of the rows stacked up end to end into a single long line. And we are assuming that the weights are a vector `w`. If we have this function, then we just need some way to update the weights to make them a little bit better. With such an approach, we can repeat that step a number of times, making the weights better and better, until they are as good as we can make them.\n",
        "\n",
        "We want to find the specific values for the vector `w` that causes the result of our function to be high for those images that are actually 8s, and low for those images that are not. Searching for the best vector `w` is a way to search for the best function for recognising 8s. (Because we are not yet using a deep neural network, we are limited by what our function can actually do—we are going to fix that constraint later in this chapter.) \n",
        "\n",
        "NOTE: To be more specific, here are the steps that we are going to require, to turn this function into a machine learning classifier:\n",
        "\n",
        "1. *Initialize* the weights (random weights)\n",
        "1. For each image, use these weights to *predict* whether it appears to be a 3 or a 7. (`def pr_eight(x,w) = (x*w).sum())`\n",
        "\n",
        "1. Based on these predictions, calculate how good the model is (its *loss*).\n",
        "1. Calculate the *gradient*, which measures for each weight, how changing that weight would change the loss\n",
        "1. *Step* (that is, change) all the weights based on that calculation.\n",
        "1. Go back to the step 2, and *repeat* the process.\n",
        "1. Iterate until you decide to *stop* the training process (for instance, because the model is good enough or you don't want to wait any longer)."
      ]
    },
    {
      "cell_type": "markdown",
      "metadata": {
        "id": "VAiRaszBugKs"
      },
      "source": [
        "These seven steps, illustrated in <<gradient_descent>>, are the key to the training of all deep learning models. That deep learning turns out to rely entirely on these steps is extremely surprising and counterintuitive. It's amazing that this process can solve such complex problems. But, as you'll see, it really does!"
      ]
    },
    {
      "cell_type": "code",
      "metadata": {
        "hide_input": true,
        "id": "p3jpM89YugKt",
        "colab": {
          "base_uri": "https://localhost:8080/",
          "height": 125
        },
        "outputId": "558cac4d-1d28-4609-a49c-183a5ae88b94"
      },
      "source": [
        "#id gradient_descent\n",
        "#caption The gradient descent process\n",
        "#alt Graph showing the steps for Gradient Descent\n",
        "gv('''\n",
        "init->predict->loss->gradient->step->stop\n",
        "step->predict[label=repeat]\n",
        "''')"
      ],
      "execution_count": 260,
      "outputs": [
        {
          "output_type": "execute_result",
          "data": {
            "text/plain": [
              "<graphviz.files.Source at 0x7efc605909d0>"
            ],
            "image/svg+xml": "<?xml version=\"1.0\" encoding=\"UTF-8\" standalone=\"no\"?>\n<!DOCTYPE svg PUBLIC \"-//W3C//DTD SVG 1.1//EN\"\n \"http://www.w3.org/Graphics/SVG/1.1/DTD/svg11.dtd\">\n<!-- Generated by graphviz version 2.40.1 (20161225.0304)\n -->\n<!-- Title: G Pages: 1 -->\n<svg width=\"597pt\" height=\"78pt\"\n viewBox=\"0.00 0.00 596.69 78.00\" xmlns=\"http://www.w3.org/2000/svg\" xmlns:xlink=\"http://www.w3.org/1999/xlink\">\n<g id=\"graph0\" class=\"graph\" transform=\"scale(1 1) rotate(0) translate(4 74)\">\n<title>G</title>\n<polygon fill=\"#ffffff\" stroke=\"transparent\" points=\"-4,4 -4,-74 592.6863,-74 592.6863,4 -4,4\"/>\n<!-- init -->\n<g id=\"node1\" class=\"node\">\n<title>init</title>\n<ellipse fill=\"none\" stroke=\"#000000\" cx=\"27\" cy=\"-18\" rx=\"27\" ry=\"18\"/>\n<text text-anchor=\"middle\" x=\"27\" y=\"-14.3\" font-family=\"Times,serif\" font-size=\"14.00\" fill=\"#000000\">init</text>\n</g>\n<!-- predict -->\n<g id=\"node2\" class=\"node\">\n<title>predict</title>\n<ellipse fill=\"none\" stroke=\"#000000\" cx=\"127.3968\" cy=\"-18\" rx=\"36.2938\" ry=\"18\"/>\n<text text-anchor=\"middle\" x=\"127.3968\" y=\"-14.3\" font-family=\"Times,serif\" font-size=\"14.00\" fill=\"#000000\">predict</text>\n</g>\n<!-- init&#45;&gt;predict -->\n<g id=\"edge1\" class=\"edge\">\n<title>init&#45;&gt;predict</title>\n<path fill=\"none\" stroke=\"#000000\" d=\"M54.1688,-18C62.3543,-18 71.5827,-18 80.6596,-18\"/>\n<polygon fill=\"#000000\" stroke=\"#000000\" points=\"80.7795,-21.5001 90.7795,-18 80.7795,-14.5001 80.7795,-21.5001\"/>\n</g>\n<!-- loss -->\n<g id=\"node3\" class=\"node\">\n<title>loss</title>\n<ellipse fill=\"none\" stroke=\"#000000\" cx=\"227.7935\" cy=\"-52\" rx=\"27\" ry=\"18\"/>\n<text text-anchor=\"middle\" x=\"227.7935\" y=\"-48.3\" font-family=\"Times,serif\" font-size=\"14.00\" fill=\"#000000\">loss</text>\n</g>\n<!-- predict&#45;&gt;loss -->\n<g id=\"edge2\" class=\"edge\">\n<title>predict&#45;&gt;loss</title>\n<path fill=\"none\" stroke=\"#000000\" d=\"M157.5191,-28.2011C168.9806,-32.0826 182.1139,-36.5303 193.9014,-40.5222\"/>\n<polygon fill=\"#000000\" stroke=\"#000000\" points=\"192.8259,-43.8532 203.4202,-43.7458 195.0713,-37.2231 192.8259,-43.8532\"/>\n</g>\n<!-- gradient -->\n<g id=\"node4\" class=\"node\">\n<title>gradient</title>\n<ellipse fill=\"none\" stroke=\"#000000\" cx=\"365.7399\" cy=\"-52\" rx=\"40.8928\" ry=\"18\"/>\n<text text-anchor=\"middle\" x=\"365.7399\" y=\"-48.3\" font-family=\"Times,serif\" font-size=\"14.00\" fill=\"#000000\">gradient</text>\n</g>\n<!-- loss&#45;&gt;gradient -->\n<g id=\"edge3\" class=\"edge\">\n<title>loss&#45;&gt;gradient</title>\n<path fill=\"none\" stroke=\"#000000\" d=\"M255.0473,-52C272.0415,-52 294.4481,-52 314.6545,-52\"/>\n<polygon fill=\"#000000\" stroke=\"#000000\" points=\"314.671,-55.5001 324.671,-52 314.671,-48.5001 314.671,-55.5001\"/>\n</g>\n<!-- step -->\n<g id=\"node5\" class=\"node\">\n<title>step</title>\n<ellipse fill=\"none\" stroke=\"#000000\" cx=\"470.6863\" cy=\"-18\" rx=\"27\" ry=\"18\"/>\n<text text-anchor=\"middle\" x=\"470.6863\" y=\"-14.3\" font-family=\"Times,serif\" font-size=\"14.00\" fill=\"#000000\">step</text>\n</g>\n<!-- gradient&#45;&gt;step -->\n<g id=\"edge4\" class=\"edge\">\n<title>gradient&#45;&gt;step</title>\n<path fill=\"none\" stroke=\"#000000\" d=\"M398.9456,-41.2422C410.9558,-37.3512 424.5297,-32.9536 436.6132,-29.0388\"/>\n<polygon fill=\"#000000\" stroke=\"#000000\" points=\"437.9112,-32.2975 446.3457,-25.8857 435.7537,-25.6382 437.9112,-32.2975\"/>\n</g>\n<!-- step&#45;&gt;predict -->\n<g id=\"edge6\" class=\"edge\">\n<title>step&#45;&gt;predict</title>\n<path fill=\"none\" stroke=\"#000000\" d=\"M443.4266,-18C384.9297,-18 246.7861,-18 174.0495,-18\"/>\n<polygon fill=\"#000000\" stroke=\"#000000\" points=\"173.8098,-14.5001 163.8098,-18 173.8097,-21.5001 173.8098,-14.5001\"/>\n<text text-anchor=\"middle\" x=\"289.7935\" y=\"-21.8\" font-family=\"Times,serif\" font-size=\"14.00\" fill=\"#000000\">repeat</text>\n</g>\n<!-- stop -->\n<g id=\"node6\" class=\"node\">\n<title>stop</title>\n<ellipse fill=\"none\" stroke=\"#000000\" cx=\"561.6863\" cy=\"-18\" rx=\"27\" ry=\"18\"/>\n<text text-anchor=\"middle\" x=\"561.6863\" y=\"-14.3\" font-family=\"Times,serif\" font-size=\"14.00\" fill=\"#000000\">stop</text>\n</g>\n<!-- step&#45;&gt;stop -->\n<g id=\"edge5\" class=\"edge\">\n<title>step&#45;&gt;stop</title>\n<path fill=\"none\" stroke=\"#000000\" d=\"M497.9893,-18C506.2676,-18 515.508,-18 524.3268,-18\"/>\n<polygon fill=\"#000000\" stroke=\"#000000\" points=\"524.4026,-21.5001 534.4025,-18 524.4025,-14.5001 524.4026,-21.5001\"/>\n</g>\n</g>\n</svg>\n"
          },
          "metadata": {},
          "execution_count": 260
        }
      ]
    },
    {
      "cell_type": "markdown",
      "metadata": {
        "id": "p_iX6GLCugKv"
      },
      "source": [
        "There are many different ways to do each of these seven steps, and we will be learning about them throughout the rest of this book. These are the details that make a big difference for deep learning practitioners, but it turns out that the general approach to each one generally follows some basic principles. Here are a few guidelines:\n",
        "\n",
        "- Initialize:: We initialize the parameters to random values. This may sound surprising. There are certainly other choices we could make, such as initializing them to the percentage of times that pixel is activated for that category—but since we already know that we have a routine to improve these weights, it turns out that just starting with random weights works perfectly well.\n",
        "- Loss:: This is what Samuel referred to when he spoke of *testing the effectiveness of any current weight assignment in terms of actual performance*. We need some function that will return a number that is small if the performance of the model is good (the standard approach is to treat a small loss as good, and a large loss as bad, although this is just a convention).\n",
        "- Step:: A simple way to figure out whether a weight should be increased a bit, or decreased a bit, would be just to try it: increase the weight by a small amount, and see if the loss goes up or down. Once you find the correct direction, you could then change that amount by a bit more, and a bit less, until you find an amount that works well. However, this is slow! As we will see, the magic of calculus allows us to directly figure out in which direction, and by roughly how much, to change each weight, without having to try all these small changes. The way to do this is by calculating *gradients*. This is just a performance optimization, we would get exactly the same results by using the slower manual process as well.\n",
        "- Stop:: Once we've decided how many epochs to train the model for (a few suggestions for this were given in the earlier list), we apply that decision. This is where that decision is applied. For our digit classifier, we would keep training until the accuracy of the model started getting worse, or we ran out of time."
      ]
    },
    {
      "cell_type": "markdown",
      "metadata": {
        "id": "hqMF69mHugKv"
      },
      "source": [
        "Before applying these steps to our image classification problem, let's illustrate what they look like in a simpler case. First we will define a very simple function, the quadratic—**let's pretend that this is our loss function**, and **`x` is a weight parameter of the function**:"
      ]
    },
    {
      "cell_type": "code",
      "metadata": {
        "id": "DwgrrRMGugKv"
      },
      "source": [
        "# a quadratic  \n",
        "def f(x): return x**2"
      ],
      "execution_count": 261,
      "outputs": []
    },
    {
      "cell_type": "markdown",
      "metadata": {
        "id": "1mh5zBOJwGDo"
      },
      "source": [
        "NOTE: `x` is the weight parameter; `x**2` is the loss."
      ]
    },
    {
      "cell_type": "code",
      "metadata": {
        "id": "pNthBWwv8jfc",
        "colab": {
          "base_uri": "https://localhost:8080/"
        },
        "outputId": "4237ffa9-8755-414b-b1f9-ef7ea3826632"
      },
      "source": [
        "# testing the function with a negative and positive value\n",
        "f(-1.5), f(1.5)"
      ],
      "execution_count": 262,
      "outputs": [
        {
          "output_type": "execute_result",
          "data": {
            "text/plain": [
              "(2.25, 2.25)"
            ]
          },
          "metadata": {},
          "execution_count": 262
        }
      ]
    },
    {
      "cell_type": "markdown",
      "metadata": {
        "id": "qVQwAXq0ugKz"
      },
      "source": [
        "Here is a graph of that function:"
      ]
    },
    {
      "cell_type": "code",
      "metadata": {
        "id": "BwCq8KCUugK1",
        "colab": {
          "base_uri": "https://localhost:8080/",
          "height": 285
        },
        "outputId": "2b4b7e89-0441-401c-e230-a683cd80af08"
      },
      "source": [
        "# plotting the graph for 'f' function\n",
        "plot_function(f, 'x', 'x**2')"
      ],
      "execution_count": 263,
      "outputs": [
        {
          "output_type": "display_data",
          "data": {
            "image/png": "[encoded data removed]",
            "text/plain": [
              "<Figure size 432x288 with 1 Axes>"
            ]
          },
          "metadata": {
            "needs_background": "light"
          }
        }
      ]
    },
    {
      "cell_type": "markdown",
      "metadata": {
        "id": "heTLaC4eugK4"
      },
      "source": [
        "The sequence of steps we described earlier starts by picking some random value for a parameter, and calculating the value of the loss:"
      ]
    },
    {
      "cell_type": "code",
      "metadata": {
        "id": "X6XTOxqmugK4",
        "colab": {
          "base_uri": "https://localhost:8080/",
          "height": 285
        },
        "outputId": "720a6a3e-e402-45ea-cd67-1787ce9ce214"
      },
      "source": [
        "# The slope at a particular point on the x,y axis\n",
        "plot_function(f, 'x', 'x**2')\n",
        "plt.scatter(-1.5, f(-1.5), color='red');\n"
      ],
      "execution_count": 264,
      "outputs": [
        {
          "output_type": "display_data",
          "data": {
            "image/png": "[encoded data removed]",
            "text/plain": [
              "<Figure size 432x288 with 1 Axes>"
            ]
          },
          "metadata": {
            "needs_background": "light"
          }
        }
      ]
    },
    {
      "cell_type": "markdown",
      "metadata": {
        "id": "w7eRpItt8sfA"
      },
      "source": [
        "NOTE: \n",
        "point coordinates: (x= -1.5, y = 2.25)\n",
        "- x = our parameters (also called weights or coefficients)\n",
        "- y = our loss function\n",
        "\n",
        "`f(-1.5` gives 2.25 (y axis), x axis is our parameters. We will start on the x axis at -1.5 and on the y axis at 2.25, then we will increase or decrease our weight"
      ]
    },
    {
      "cell_type": "markdown",
      "metadata": {
        "id": "4tKD6qbJugK8"
      },
      "source": [
        "Now we look to see what would happen if we increased or decreased our parameter by a little bit—the *adjustment*. This is simply the slope at a particular point:"
      ]
    },
    {
      "cell_type": "markdown",
      "metadata": {
        "id": "2lZvYLCrugK9"
      },
      "source": [
        "<img alt=\"A graph showing the squared function with the slope at one point\" width=\"400\" src=\"https://github.com/fastai/fastbook/blob/master/images/grad_illustration.svg?raw=1\"/>"
      ]
    },
    {
      "cell_type": "markdown",
      "metadata": {
        "id": "8UyCXWkJwsDU"
      },
      "source": [
        "NOTE:  Let's look at the slope, if we increase or decrease our parameter by a little bit (also called the **adjustment**) and repeat this a few times, we will end-up towards the lowest point on our curve. See graph below."
      ]
    },
    {
      "cell_type": "markdown",
      "metadata": {
        "id": "BukHM6fRugK-"
      },
      "source": [
        "**We can change our weight by a little in the direction of the slope, calculate our loss and adjustment again, and repeat this a few times**. Eventually, we will get to the lowest point on our curve:"
      ]
    },
    {
      "cell_type": "markdown",
      "metadata": {
        "id": "0mh9D0FKugK_"
      },
      "source": [
        "<img alt=\"An illustration of gradient descent\" width=\"400\" src=\"https://github.com/fastai/fastbook/blob/master/images/chapter2_perfect.svg?raw=1\"/>"
      ]
    },
    {
      "cell_type": "markdown",
      "metadata": {
        "id": "_WljOhGiugK_"
      },
      "source": [
        "This basic idea goes all the way back to **Isaac Newton**, who pointed out that we can optimize arbitrary functions in this way. Regardless of how complicated our functions become, this basic approach of gradient descent will not significantly change. The only minor changes we will see later in this book are some handy ways we can make it faster, by finding better steps."
      ]
    },
    {
      "cell_type": "markdown",
      "metadata": {
        "id": "4h2Po9Au-T7l"
      },
      "source": [
        "NOTE: The Newton method is an iterative algorithm for finding the points where function = 0; in other words, finding the zeroes of a function.  When apply to optimization procedure, it can find the maxima or the minima of a function."
      ]
    },
    {
      "cell_type": "markdown",
      "metadata": {
        "id": "RTnzsqKFugK_"
      },
      "source": [
        "### Calculating Gradients"
      ]
    },
    {
      "cell_type": "markdown",
      "metadata": {
        "id": "sCYyPeUTugLA"
      },
      "source": [
        "The one magic step is the bit where we calculate the gradients. As we mentioned, we use calculus as a performance optimization; it allows us to more quickly calculate whether our loss will go up or down when we adjust our parameters up or down. In other words, **the gradients will tell us how much we have to change each weight to make our model better**.\n",
        "\n",
        "You may remember from your high school calculus class that the *derivative* of a function tells you how much a change in its parameterss will change its result. If not, don't worry, lots of us forget calculus once high school is behind us! But you will have to have some intuitive understanding of what a derivative is before you continue, so if this is all very fuzzy in your head, head over to Khan Academy and complete the [lessons on basic derivatives](https://www.khanacademy.org/math/differential-calculus/dc-diff-intro). You won't have to know how to calculate them yourselves, you just have to know what a derivative is.\n",
        "\n",
        "The key point about a derivative is this: for any function, such as the quadratic function we saw in the previous section, we can calculate its derivative. The derivative is another function. It calculates the change, rather than the value. For instance, the derivative of the quadratic function at the value 3 tells us how rapidly the function changes at the value 3. More specifically, you may recall that gradient is defined as *rise/run*, that is, the change in the value of the function, divided by the change in the value of the parameter. When we know how our function will change, then we know what we need to do to make it smaller. This is the key to machine learning: having a way to change the parameters of a function to make it smaller. Calculus provides us with a computational shortcut, the derivative, which lets us directly calculate the gradients of our functions."
      ]
    },
    {
      "cell_type": "markdown",
      "metadata": {
        "id": "KkyTXNZ0ugLA"
      },
      "source": [
        "One important thing to be aware of is that our function has lots of weights that we need to adjust, so when we calculate the derivative we won't get back one number, but lots of them—a gradient for every weight. But there is nothing mathematically tricky here; you can calculate the derivative with respect to one weight, and treat all the other ones as constant, then repeat that for each other weight. This is how all of the gradients are calculated, for every weight.\n",
        "\n",
        "We mentioned just now that you won't have to calculate any gradients yourself. How can that be? Amazingly enough, PyTorch is able to automatically compute the derivative of nearly any function! What's more, it does it very fast. Most of the time, it will be at least as fast as any derivative function that you can create by hand. Let's see an example.\n",
        "\n",
        "First, let's pick a tensor value which we want gradients at:"
      ]
    },
    {
      "cell_type": "code",
      "metadata": {
        "id": "4mZ42ILnugLA",
        "colab": {
          "base_uri": "https://localhost:8080/"
        },
        "outputId": "ccca65e6-9085-449e-f538-056c19b52b25"
      },
      "source": [
        "# Pytorch - 'requires_grad' to calculate gradients\n",
        "xt = tensor(3.).requires_grad_(); xt"
      ],
      "execution_count": 265,
      "outputs": [
        {
          "output_type": "execute_result",
          "data": {
            "text/plain": [
              "tensor(3., requires_grad=True)"
            ]
          },
          "metadata": {},
          "execution_count": 265
        }
      ]
    },
    {
      "cell_type": "markdown",
      "metadata": {
        "id": "ym8a3wgtI7QC"
      },
      "source": [
        "NOTE:  Every time `xt` do calculation it should remember what it was and then later it's easy to take derivative of that."
      ]
    },
    {
      "cell_type": "markdown",
      "metadata": {
        "id": "JxTB9zdLugLE"
      },
      "source": [
        "Notice the special method `requires_grad_`? That's the magical incantation we use to tell PyTorch that we want to calculate gradients with respect to that variable at that value. It is essentially tagging the variable, so PyTorch will remember to keep track of how to compute gradients of the other, direct calculations on it that you will ask for.\n",
        "\n",
        "> a: This API might throw you off if you're coming from math or physics. In those contexts the \"gradient\" of a function is just another function (i.e., its derivative), so you might expect gradient-related APIs to give you a new function. But in deep learning, \"gradients\" usually means the _value_ of a function's derivative at a particular argument value. The PyTorch API also puts the focus on the argument, not the function you're actually computing the gradients of. It may feel backwards at first, but it's just a different perspective.\n",
        "\n",
        "Now we calculate our function with that value. Notice how PyTorch prints not just the value calculated, but also a note that it has a gradient function it'll be using to calculate our gradients when needed:"
      ]
    },
    {
      "cell_type": "code",
      "metadata": {
        "id": "g57Un3lvugLE",
        "colab": {
          "base_uri": "https://localhost:8080/"
        },
        "outputId": "3dcddfda-518f-40e8-8267-933626d111ee"
      },
      "source": [
        "# gradient computation\n",
        "# give 'xt' to the function 'f'\n",
        "yt = f(xt)\n",
        "yt"
      ],
      "execution_count": 266,
      "outputs": [
        {
          "output_type": "execute_result",
          "data": {
            "text/plain": [
              "tensor(9., grad_fn=<PowBackward0>)"
            ]
          },
          "metadata": {},
          "execution_count": 266
        }
      ]
    },
    {
      "cell_type": "markdown",
      "metadata": {
        "id": "H2SnTFGJJi6a"
      },
      "source": [
        "NOTE: in a neural network, backpropagation calculates the derivative for each layer"
      ]
    },
    {
      "cell_type": "markdown",
      "metadata": {
        "id": "2I7ggReXugLG"
      },
      "source": [
        "Finally, we tell PyTorch to calculate the gradients for us:"
      ]
    },
    {
      "cell_type": "code",
      "metadata": {
        "id": "2uICwNZuugLG"
      },
      "source": [
        "# backpropagation\n",
        "# calculating the derivative of each layer\n",
        "yt.backward()"
      ],
      "execution_count": 267,
      "outputs": []
    },
    {
      "cell_type": "markdown",
      "metadata": {
        "id": "NJ40Ta0UugLQ"
      },
      "source": [
        "The \"backward\" here refers to *backpropagation*, which is the name given to the process of calculating the derivative of each layer. We'll see how this is done exactly in chapter <<chapter_foundations>>, when we calculate the gradients of a deep neural net from scratch. This is called the \"**backward pass**\" of the network, as opposed to the \"**forward pass**,\" which is where the activations are calculated. Life would probably be easier if `backward` was just called `calculate_grad`, but deep learning folks really do like to add jargon everywhere they can!"
      ]
    },
    {
      "cell_type": "markdown",
      "metadata": {
        "id": "TzRjVj1KugLR"
      },
      "source": [
        "We can now view the gradients by checking the `grad` attribute of our tensor:"
      ]
    },
    {
      "cell_type": "code",
      "metadata": {
        "id": "qrpHRHYTugLR",
        "colab": {
          "base_uri": "https://localhost:8080/"
        },
        "outputId": "9e974da0-0cc0-449f-bfbb-38879540d896"
      },
      "source": [
        "# viewing the gradients\n",
        "xt.grad"
      ],
      "execution_count": 268,
      "outputs": [
        {
          "output_type": "execute_result",
          "data": {
            "text/plain": [
              "tensor(6.)"
            ]
          },
          "metadata": {},
          "execution_count": 268
        }
      ]
    },
    {
      "cell_type": "markdown",
      "metadata": {
        "id": "nO81s2aqugLV"
      },
      "source": [
        "NOTE: If you remember your high school calculus rules, the derivative of `x**2` is `2*x`, and we have `x=3`, so the gradients should be `2*3=6`, which is what PyTorch calculated for us!\n",
        "\n",
        "Now we'll repeat the preceding steps, but with a vector argument for our function:"
      ]
    },
    {
      "cell_type": "code",
      "metadata": {
        "id": "TB6JOo1WugLV",
        "colab": {
          "base_uri": "https://localhost:8080/"
        },
        "outputId": "cc659f1e-d4da-4e7f-96e0-6ace8a0bf042"
      },
      "source": [
        "xt = tensor([3.,4.,10.]).requires_grad_()\n",
        "xt"
      ],
      "execution_count": 269,
      "outputs": [
        {
          "output_type": "execute_result",
          "data": {
            "text/plain": [
              "tensor([ 3.,  4., 10.], requires_grad=True)"
            ]
          },
          "metadata": {},
          "execution_count": 269
        }
      ]
    },
    {
      "cell_type": "markdown",
      "metadata": {
        "id": "DX4b_97UugLX"
      },
      "source": [
        "And we'll add `sum` to our function so it can take a vector (i.e., a rank-1 tensor), and return a scalar (i.e., a rank-0 tensor):"
      ]
    },
    {
      "cell_type": "code",
      "metadata": {
        "id": "hB5hSUM3ugLY",
        "colab": {
          "base_uri": "https://localhost:8080/"
        },
        "outputId": "24a8af20-82e0-4caa-98fe-32b2f0036588"
      },
      "source": [
        "# adding a sum operation to the 'f' functon\n",
        "def f(x): return (x**2).sum()\n",
        "\n",
        "yt = f(xt)\n",
        "yt"
      ],
      "execution_count": 270,
      "outputs": [
        {
          "output_type": "execute_result",
          "data": {
            "text/plain": [
              "tensor(125., grad_fn=<SumBackward0>)"
            ]
          },
          "metadata": {},
          "execution_count": 270
        }
      ]
    },
    {
      "cell_type": "markdown",
      "metadata": {
        "id": "Njvr9mEQBbgO"
      },
      "source": [
        "NOTE: `total sum = 125` : (`(3**2=9) + (4**2=16) + (10**2=100))`\n"
      ]
    },
    {
      "cell_type": "code",
      "metadata": {
        "id": "sHlBtvw_ugLa",
        "colab": {
          "base_uri": "https://localhost:8080/"
        },
        "outputId": "7a80dd29-f1ff-4e25-9ff3-9db767c0ed0c"
      },
      "source": [
        "# backward propagation\n",
        "yt.backward()\n",
        "xt.grad"
      ],
      "execution_count": 271,
      "outputs": [
        {
          "output_type": "execute_result",
          "data": {
            "text/plain": [
              "tensor([ 6.,  8., 20.])"
            ]
          },
          "metadata": {},
          "execution_count": 271
        }
      ]
    },
    {
      "cell_type": "markdown",
      "metadata": {
        "id": "vXyrCqbkugLa"
      },
      "source": [
        "Our gradients are `2*xt`, as we'd expect!"
      ]
    },
    {
      "cell_type": "markdown",
      "metadata": {
        "id": "P4XlE46YugLd"
      },
      "source": [
        "**The gradients only tell us the slope of our function**, **they don't actually tell us exactly how far to adjust the parameters**. But it gives us some idea of how far; if the slope is very large, then that may suggest that we have more adjustments to do, whereas if the slope is very small, that may suggest that we are close to the optimal value."
      ]
    },
    {
      "cell_type": "markdown",
      "metadata": {
        "id": "qSNeZ-LrugLd"
      },
      "source": [
        "### Stepping With a Learning Rate\n",
        "\n",
        "The learning rate (lr) is a scalar value; we multiply our gradient with this value to choose how much we want to update our weights.\n"
      ]
    },
    {
      "cell_type": "markdown",
      "metadata": {
        "id": "5pY8E8MxugLe"
      },
      "source": [
        "Deciding how to change our parameters based on the values of the gradients is an important part of the deep learning process. Nearly all approaches start with the basic idea of multiplying the gradient by some small number, called the ***learning rate* (LR)**. **The learning rate is often a number between 0.001 and 0.1, although it could be anything**. Often, people select a learning rate just by trying a few, and finding which results in the best model after training (we'll show you a better approach later in this book, called the ***learning rate finder*)**. Once you've picked a learning rate, you can adjust your parameters using this simple function:\n",
        "\n",
        "```\n",
        "w -= gradient(w) * lr\n",
        "```\n",
        "\n",
        "This is known as *stepping* your parameters, using an *optimizer step*.\n",
        "\n",
        "If you pick a **learning rate that's too low**, it can mean having to do a lot of steps. <<descent_small>> illustrates that."
      ]
    },
    {
      "cell_type": "markdown",
      "metadata": {
        "id": "VUa4spUb0f72"
      },
      "source": [
        "NOTE: `w -= gradient(w) * lr` is the essence of gradient descent.  The learning rate affects step size."
      ]
    },
    {
      "cell_type": "markdown",
      "metadata": {
        "id": "dy1tSO3IugLf"
      },
      "source": [
        "<img alt=\"An illustration of gradient descent with a LR too low\" width=\"400\" caption=\"Gradient descent with low LR\" src=\"https://github.com/fastai/fastbook/blob/master/images/chapter2_small.svg?raw=1\" id=\"descent_small\"/>"
      ]
    },
    {
      "cell_type": "markdown",
      "metadata": {
        "id": "hXD1VpmcugLf"
      },
      "source": [
        "But picking a **learning rate that's too high** is even worse—it can actually result in the loss getting *worse*, as we see in <<descent_div>>!"
      ]
    },
    {
      "cell_type": "markdown",
      "metadata": {
        "id": "XbvXbiuHugLg"
      },
      "source": [
        "<img alt=\"An illustration of gradient descent with a LR too high\" width=\"400\" caption=\"Gradient descent with high LR\" src=\"https://github.com/fastai/fastbook/blob/master/images/chapter2_div.svg?raw=1\" id=\"descent_div\"/>"
      ]
    },
    {
      "cell_type": "markdown",
      "metadata": {
        "id": "uONcr-IougLg"
      },
      "source": [
        "**If the learning rate is too high, it may also \"bounce\" around, rather than actually diverging**; <<descent_bouncy>> shows how this has the result of taking many steps to train successfully."
      ]
    },
    {
      "cell_type": "markdown",
      "metadata": {
        "id": "x_s-euyZugLh"
      },
      "source": [
        "<img alt=\"An illustation of gradient descent with a bouncy LR\" width=\"400\" caption=\"Gradient descent with bouncy LR\" src=\"https://github.com/fastai/fastbook/blob/master/images/chapter2_bouncy.svg?raw=1\" id=\"descent_bouncy\"/>"
      ]
    },
    {
      "cell_type": "markdown",
      "metadata": {
        "id": "7dxW5y5JugLh"
      },
      "source": [
        "Now let's apply all of this in an end-to-end example."
      ]
    },
    {
      "cell_type": "markdown",
      "metadata": {
        "id": "-vCesWJlugLi"
      },
      "source": [
        "### An End-to-End SGD Example"
      ]
    },
    {
      "cell_type": "markdown",
      "metadata": {
        "id": "GYSdq8rsugLi"
      },
      "source": [
        "We've seen how to use gradients to find a minimum. Now it's time to look at an SGD example and see how finding a minimum can be used to train a model to fit data better.\n",
        "\n",
        "Let's start with a simple, synthetic, example model. Imagine you were **measuring the speed of a roller coaster** as it went over the top of a hump. It would start fast, and then get slower as it went up the hill; it would be slowest at the top, and it would then speed up again as it went downhill. **You want to build a model of how the speed changes over time**. If you were measuring the speed manually every second for 20 seconds, it might look something like this:"
      ]
    },
    {
      "cell_type": "code",
      "metadata": {
        "id": "eg5XQUyZugLj",
        "colab": {
          "base_uri": "https://localhost:8080/"
        },
        "outputId": "9c96f059-b3bc-4de2-eda3-5e3e7058320d"
      },
      "source": [
        "# measuring the speed for 20 seconds, one second at the time\n",
        "# getting a range of values for time\n",
        "time = torch.arange(0,20).float(); time"
      ],
      "execution_count": 272,
      "outputs": [
        {
          "output_type": "execute_result",
          "data": {
            "text/plain": [
              "tensor([ 0.,  1.,  2.,  3.,  4.,  5.,  6.,  7.,  8.,  9., 10., 11., 12., 13., 14., 15., 16., 17., 18., 19.])"
            ]
          },
          "metadata": {},
          "execution_count": 272
        }
      ]
    },
    {
      "cell_type": "markdown",
      "metadata": {
        "id": "Z9mVN8Kj1u1x"
      },
      "source": [
        "NOTE: `torch.arange(0,20)` will give a 1D tensor, from 0 to 19. time period for which you are taking your speed measurement."
      ]
    },
    {
      "cell_type": "code",
      "metadata": {
        "id": "5Zf8eE_oF9ni"
      },
      "source": [
        "# speed = torch.randn(20)*3;speed"
      ],
      "execution_count": 273,
      "outputs": []
    },
    {
      "cell_type": "code",
      "metadata": {
        "id": "dlFftl-1ugLl",
        "colab": {
          "base_uri": "https://localhost:8080/",
          "height": 285
        },
        "outputId": "2a39fe67-3757-4a9e-b547-fcbf0303d3c2"
      },
      "source": [
        "# quadratic function - f(x) = ax**2 + bx + c\n",
        "# adding a bit of random noise to the speed variable\n",
        "speed = torch.randn(20)*3 + 0.75 * (time-9.5)**2 + 1\n",
        "plt.scatter(time,speed)"
      ],
      "execution_count": 274,
      "outputs": [
        {
          "output_type": "execute_result",
          "data": {
            "text/plain": [
              "<matplotlib.collections.PathCollection at 0x7efc560e0890>"
            ]
          },
          "metadata": {},
          "execution_count": 274
        },
        {
          "output_type": "display_data",
          "data": {
            "image/png": "[encoded data removed]",
            "text/plain": [
              "<Figure size 432x288 with 1 Axes>"
            ]
          },
          "metadata": {
            "needs_background": "light"
          }
        }
      ]
    },
    {
      "cell_type": "markdown",
      "metadata": {
        "id": "Q9NirvMgDrKo"
      },
      "source": [
        "NOTE:  quadratic equation, taking `(time-9.5)**2` times `* 0.75` and add 1 `+1` and then add a random number to that `torch.randn(20)*3`.  By doing this, we are ending up with a quadratic function which is a little bit bumpy.  See above graph. On the x-axis we have the `time` variable, on the y-axis we have the `speed` (our quadratic function)."
      ]
    },
    {
      "cell_type": "markdown",
      "metadata": {
        "id": "3uEQ_1wF296l"
      },
      "source": [
        "A **quadratic function** is fully defined by the three parameters `a`, `b`, and `c`.  It is a function that can be described by an equation of the form `f(x) = ax**2 + bx + c`, where `a` ≠ 0. In a quadratic function, the greatest power of the variable is 2. The graph of a quadratic function is a parabola."
      ]
    },
    {
      "cell_type": "markdown",
      "metadata": {
        "id": "3sDloNixugLn"
      },
      "source": [
        "We've added a bit of random noise, since measuring things manually isn't precise. This means it's not that easy to answer the question: what was the roller coaster's speed? Using SGD we can try to find a function that matches our observations. We can't consider every possible function, so let's use a guess that it will be **quadratic**; i.e., a function of the form `a*(time**2)+(b*time)+c`.\n",
        "\n",
        "We want to distinguish clearly between the function's input (the time when we are measuring the coaster's speed) and its parameters (the values that define *which* quadratic we're trying). So, let's collect the parameters in one argument and thus separate the input, `t`, and the parameters, `params`, in the function's signature: "
      ]
    },
    {
      "cell_type": "code",
      "metadata": {
        "id": "N4OHuJZZugLo"
      },
      "source": [
        "# definition of a quadratic function \n",
        "# 2 arguments: an input (in our case a time) and some parameters\n",
        "def f(t, params):\n",
        "    a,b,c = params\n",
        "    return a*(t**2) + (b*t) + c "
      ],
      "execution_count": 275,
      "outputs": []
    },
    {
      "cell_type": "markdown",
      "metadata": {
        "id": "XqNDSr2ujFpi"
      },
      "source": [
        "NOTE: this function will take an input `t` for time and  some parameters `params` which are `a, b, c`. "
      ]
    },
    {
      "cell_type": "markdown",
      "metadata": {
        "id": "b2HE6M9tugLt"
      },
      "source": [
        "In other words, we've restricted the problem of finding the best imaginable function that fits the data, to finding the best *quadratic* function. This greatly simplifies the problem, since every quadratic function is fully defined by the three parameters `a`, `b`, and `c`. Thus, to find the best quadratic function, we only need to find the best values for `a`, `b`, and `c`.\n",
        "\n",
        "If we can solve this problem for the three parameters of a quadratic function, we'll be able to apply the same approach for other, more complex functions with more parameters—such as a neural net. Let's find the parameters for `f` first, and then we'll come back and do the same thing for the MNIST dataset with a neural net.\n",
        "\n",
        "We need to define first what we mean by \"best.\" We define this precisely by choosing a ***loss function***, which will return a value based on a prediction and a target, where lower values of the function correspond to \"better\" predictions. For continuous data, it's common to use *mean squared error*:"
      ]
    },
    {
      "cell_type": "code",
      "metadata": {
        "id": "Nod48sB5ugLv"
      },
      "source": [
        "# defining a loss function - mean squared error (mse)\n",
        "def mse(preds, targets): return ((preds-targets)**2).mean()"
      ],
      "execution_count": 276,
      "outputs": []
    },
    {
      "cell_type": "markdown",
      "metadata": {
        "id": "4FIMRnBHG4Pr"
      },
      "source": [
        "NOTE: The predictions `preds` come out of our quadratic function, and the targets `targets` come out from our actual values (see graph above).\n",
        "\n",
        "This function will return a value, if it is lower we will get \"better\" predictions. "
      ]
    },
    {
      "cell_type": "markdown",
      "metadata": {
        "id": "A0bZFlsqugLw"
      },
      "source": [
        "Now, let's work through our 7 step process."
      ]
    },
    {
      "cell_type": "markdown",
      "metadata": {
        "id": "Dw4YLoOzugLx"
      },
      "source": [
        "#### Step 1: Initialize the parameters"
      ]
    },
    {
      "cell_type": "markdown",
      "metadata": {
        "id": "CVmTrNPcugLx"
      },
      "source": [
        "First, we initialize the parameters to random values, and tell PyTorch that we want to track their gradients, using `requires_grad_`:"
      ]
    },
    {
      "cell_type": "code",
      "metadata": {
        "id": "CcrmNrvJugLx"
      },
      "source": [
        "# initializing randomly the parameters (weights) and Pythorch autograd to True\n",
        "params = torch.randn(3).requires_grad_()"
      ],
      "execution_count": 277,
      "outputs": []
    },
    {
      "cell_type": "code",
      "metadata": {
        "id": "oZjRqtA2mvBY",
        "colab": {
          "base_uri": "https://localhost:8080/"
        },
        "outputId": "2ca24e53-2127-4756-a7d0-60975dbe386b"
      },
      "source": [
        "params"
      ],
      "execution_count": 278,
      "outputs": [
        {
          "output_type": "execute_result",
          "data": {
            "text/plain": [
              "tensor([-0.1273,  0.2164, -0.9854], requires_grad=True)"
            ]
          },
          "metadata": {},
          "execution_count": 278
        }
      ]
    },
    {
      "cell_type": "code",
      "metadata": {
        "id": "dnCOlAreugL2"
      },
      "source": [
        "# saving the weights (parameters) by cloning them to check them later\n",
        "orig_params = params.clone()"
      ],
      "execution_count": 279,
      "outputs": []
    },
    {
      "cell_type": "markdown",
      "metadata": {
        "id": "pJM6xOWxugL5"
      },
      "source": [
        "#### Step 2: Calculate the predictions"
      ]
    },
    {
      "cell_type": "markdown",
      "metadata": {
        "id": "IhxWqrZXugL6"
      },
      "source": [
        "Next, we calculate the predictions:"
      ]
    },
    {
      "cell_type": "code",
      "metadata": {
        "id": "Fu0q5wpmugL7"
      },
      "source": [
        "# calculating the predictions\n",
        "preds = f(time, params)"
      ],
      "execution_count": 280,
      "outputs": []
    },
    {
      "cell_type": "code",
      "metadata": {
        "id": "-PAsbdicv6Zy",
        "colab": {
          "base_uri": "https://localhost:8080/"
        },
        "outputId": "a7a772d2-f412-4253-bb56-428a814db28a"
      },
      "source": [
        "preds[1], len(preds)"
      ],
      "execution_count": 281,
      "outputs": [
        {
          "output_type": "execute_result",
          "data": {
            "text/plain": [
              "(tensor(-0.8963, grad_fn=<SelectBackward>), 20)"
            ]
          },
          "metadata": {},
          "execution_count": 281
        }
      ]
    },
    {
      "cell_type": "markdown",
      "metadata": {
        "id": "-IMCh4vyugMD"
      },
      "source": [
        "Let's create a little function to see how close our predictions are to our targets, and take a look:"
      ]
    },
    {
      "cell_type": "code",
      "metadata": {
        "id": "U5s4FKi_ugMG"
      },
      "source": [
        "# displaying the prediction against our targets (actual values in blue)\n",
        "def show_preds(preds, ax=None):\n",
        "    if ax is None: ax=plt.subplots()[1]\n",
        "    ax.scatter(time, speed)\n",
        "    ax.scatter(time, to_np(preds), color='red')\n",
        "    ax.set_ylim(-300,100)"
      ],
      "execution_count": 282,
      "outputs": []
    },
    {
      "cell_type": "code",
      "metadata": {
        "id": "7MItbMJougMM",
        "colab": {
          "base_uri": "https://localhost:8080/",
          "height": 273
        },
        "outputId": "ed3c0eef-24ff-4846-db67-7e175d1236a8"
      },
      "source": [
        "show_preds(preds)"
      ],
      "execution_count": 283,
      "outputs": [
        {
          "output_type": "display_data",
          "data": {
            "image/png": "[encoded data removed]",
            "text/plain": [
              "<Figure size 432x288 with 1 Axes>"
            ]
          },
          "metadata": {
            "needs_background": "light"
          }
        }
      ]
    },
    {
      "cell_type": "markdown",
      "metadata": {
        "id": "0REBcxVtBMNX"
      },
      "source": [
        "NOTE: predictions are in red; real values are in blue. The predictions thus far calculated are not good at all! The random parameters suggests that the roller coaster is ending backwards!!! (negative speed)."
      ]
    },
    {
      "cell_type": "markdown",
      "metadata": {
        "id": "0ZjdUNXXugMQ"
      },
      "source": [
        "This doesn't look very close—our random parameters suggest that the roller coaster will end up going backwards, since we have negative speeds!"
      ]
    },
    {
      "cell_type": "markdown",
      "metadata": {
        "id": "eGmTw9qOugMQ"
      },
      "source": [
        "#### Step 3: Calculate the loss"
      ]
    },
    {
      "cell_type": "markdown",
      "metadata": {
        "id": "Fu74dtjhugMR"
      },
      "source": [
        "We calculate the loss as follows:"
      ]
    },
    {
      "cell_type": "code",
      "metadata": {
        "id": "J0ASs8I5ugMR",
        "colab": {
          "base_uri": "https://localhost:8080/"
        },
        "outputId": "fde6580c-2dea-42ca-ebda-3a2a19574646"
      },
      "source": [
        "# calculating the loss\n",
        "loss = mse(preds, speed)\n",
        "loss"
      ],
      "execution_count": 284,
      "outputs": [
        {
          "output_type": "execute_result",
          "data": {
            "text/plain": [
              "tensor(2563.2646, grad_fn=<MeanBackward0>)"
            ]
          },
          "metadata": {},
          "execution_count": 284
        }
      ]
    },
    {
      "cell_type": "markdown",
      "metadata": {
        "id": "sQY-0rNVugMW"
      },
      "source": [
        "Our goal is now to improve this. To do that, we'll need to know the gradients."
      ]
    },
    {
      "cell_type": "markdown",
      "metadata": {
        "id": "jNRT5FENugMX"
      },
      "source": [
        "#### Step 4: Calculate the gradients"
      ]
    },
    {
      "cell_type": "markdown",
      "metadata": {
        "id": "KIny8tA8ugMY"
      },
      "source": [
        "The next step is to calculate the gradients. In other words, calculate an approximation of how the parameters need to change:"
      ]
    },
    {
      "cell_type": "code",
      "metadata": {
        "id": "OfQpAdpsugMZ",
        "colab": {
          "base_uri": "https://localhost:8080/"
        },
        "outputId": "4c46cfda-f00b-4f57-c41e-ecba366f88e1"
      },
      "source": [
        "# calculating the gradients and do backward propagation\n",
        "loss.backward()\n",
        "params.grad"
      ],
      "execution_count": 285,
      "outputs": [
        {
          "output_type": "execute_result",
          "data": {
            "text/plain": [
              "tensor([-14462.5576,   -923.3065,    -81.8902])"
            ]
          },
          "metadata": {},
          "execution_count": 285
        }
      ]
    },
    {
      "cell_type": "markdown",
      "metadata": {
        "id": "LqErqqklDdgr"
      },
      "source": [
        "NOTE: each of our parameters have negative gradients values."
      ]
    },
    {
      "cell_type": "code",
      "metadata": {
        "id": "nIx5hdwPugMc",
        "colab": {
          "base_uri": "https://localhost:8080/"
        },
        "outputId": "2aa631c8-9aa8-4f46-e21b-3269dd773d70"
      },
      "source": [
        "# adding a learning rate (a very small value, i.e.: 0.00001)\n",
        "params.grad * 1e-5"
      ],
      "execution_count": 286,
      "outputs": [
        {
          "output_type": "execute_result",
          "data": {
            "text/plain": [
              "tensor([-0.1446, -0.0092, -0.0008])"
            ]
          },
          "metadata": {},
          "execution_count": 286
        }
      ]
    },
    {
      "cell_type": "markdown",
      "metadata": {
        "id": "Wxm-2lunugMg"
      },
      "source": [
        "We can use these gradients to improve our parameters. We'll need to pick a learning rate (we'll discuss how to do that in practice in the next chapter; for now we'll just use 1e-5, or 0.00001):"
      ]
    },
    {
      "cell_type": "code",
      "metadata": {
        "id": "mFoVvu3ougMh",
        "colab": {
          "base_uri": "https://localhost:8080/"
        },
        "outputId": "28ba3543-b69c-420f-c9b8-fc45ba328cd8"
      },
      "source": [
        "params"
      ],
      "execution_count": 287,
      "outputs": [
        {
          "output_type": "execute_result",
          "data": {
            "text/plain": [
              "tensor([-0.1273,  0.2164, -0.9854], requires_grad=True)"
            ]
          },
          "metadata": {},
          "execution_count": 287
        }
      ]
    },
    {
      "cell_type": "markdown",
      "metadata": {
        "id": "TjQPIGvTugMk"
      },
      "source": [
        "#### Step 5: Step the weights. "
      ]
    },
    {
      "cell_type": "markdown",
      "metadata": {
        "id": "JUJ2ufzWugMl"
      },
      "source": [
        "Now we need to update the parameters based on the gradients we just calculated:"
      ]
    },
    {
      "cell_type": "code",
      "metadata": {
        "id": "6XqoFsjOugMm"
      },
      "source": [
        "# updating the parameters based on the gradients just calculated\n",
        "lr = 1e-5\n",
        "params.data -= lr * params.grad.data\n",
        "# clearing the gradient after each step\n",
        "params.grad = None"
      ],
      "execution_count": 288,
      "outputs": []
    },
    {
      "cell_type": "markdown",
      "metadata": {
        "id": "mOPEJi8eLFYT"
      },
      "source": [
        "NOTE: \"steps the weights\" means `-= lr * params.grad.data`\n",
        "\n",
        "PyTorch has `.data` attribute for tensors which can be used when we don’t want to calculate the gradient. We will use our quadratic function to do that (`f(time, params)`)\n",
        "\n",
        "`params.grad = None` to clear the gradient after each step."
      ]
    },
    {
      "cell_type": "markdown",
      "metadata": {
        "id": "n0CaKIzjugMx"
      },
      "source": [
        "> a: Understanding this bit depends on remembering recent history. To calculate the gradients we call `backward` on the `loss`. But this `loss` was itself calculated by `mse`, which in turn took `preds` as an input, which was calculated using `f` taking as an input `params`, which was the object on which we originally called `required_grads_`—which is the original call that now allows us to call `backward` on `loss`. This chain of function calls represents the mathematical composition of functions, which enables ***PyTorch to use calculus's chain rule** under the hood to calculate these gradients."
      ]
    },
    {
      "cell_type": "markdown",
      "metadata": {
        "id": "OQ-MR0kIugMx"
      },
      "source": [
        "Let's see if the loss has improved:"
      ]
    },
    {
      "cell_type": "code",
      "metadata": {
        "id": "q7CumPJKugMy",
        "colab": {
          "base_uri": "https://localhost:8080/"
        },
        "outputId": "6c96fe50-8186-4ac2-ac58-945f19e05e73"
      },
      "source": [
        "preds = f(time,params)\n",
        "mse(preds, speed)"
      ],
      "execution_count": 289,
      "outputs": [
        {
          "output_type": "execute_result",
          "data": {
            "text/plain": [
              "tensor(1056.3290, grad_fn=<MeanBackward0>)"
            ]
          },
          "metadata": {},
          "execution_count": 289
        }
      ]
    },
    {
      "cell_type": "markdown",
      "metadata": {
        "id": "CORtMBWgugM1"
      },
      "source": [
        "And take a look at the plot:"
      ]
    },
    {
      "cell_type": "code",
      "metadata": {
        "id": "mrotI7nrugM2",
        "colab": {
          "base_uri": "https://localhost:8080/",
          "height": 273
        },
        "outputId": "aa36c1e7-1bb9-4c06-834f-3da149c7dd88"
      },
      "source": [
        "show_preds(preds)"
      ],
      "execution_count": 290,
      "outputs": [
        {
          "output_type": "display_data",
          "data": {
            "image/png": "[encoded data removed]",
            "text/plain": [
              "<Figure size 432x288 with 1 Axes>"
            ]
          },
          "metadata": {
            "needs_background": "light"
          }
        }
      ]
    },
    {
      "cell_type": "markdown",
      "metadata": {
        "id": "KTu1EsLAugM4"
      },
      "source": [
        "We need to repeat this a few times, so we'll create a function to apply one step:"
      ]
    },
    {
      "cell_type": "code",
      "metadata": {
        "id": "9jStOT9IugM4"
      },
      "source": [
        "def apply_step(params, prn=True):\n",
        "    preds = f(time, params)\n",
        "    loss = mse(preds, speed)\n",
        "    loss.backward()\n",
        "    params.data -= lr * params.grad.data\n",
        "    params.grad = None\n",
        "    if prn: print(loss.item())\n",
        "    return preds"
      ],
      "execution_count": 291,
      "outputs": []
    },
    {
      "cell_type": "markdown",
      "metadata": {
        "id": "UB7G-0HDugM6"
      },
      "source": [
        "#### Step 6: Repeat the process "
      ]
    },
    {
      "cell_type": "markdown",
      "metadata": {
        "id": "j9IhKMYiugM7"
      },
      "source": [
        "Now we iterate. By looping and performing many improvements, we hope to reach a good result:"
      ]
    },
    {
      "cell_type": "code",
      "metadata": {
        "id": "64ufMwmAugM9",
        "colab": {
          "base_uri": "https://localhost:8080/"
        },
        "outputId": "72cac276-3750-4427-a5fe-2f088cd2311a"
      },
      "source": [
        "# printing out the loss \n",
        "for i in range(10): apply_step(params)"
      ],
      "execution_count": 292,
      "outputs": [
        {
          "output_type": "stream",
          "name": "stdout",
          "text": [
            "1056.3289794921875\n",
            "771.1678466796875\n",
            "717.2037353515625\n",
            "706.9891357421875\n",
            "705.0532836914062\n",
            "704.6840209960938\n",
            "704.6112060546875\n",
            "704.5946044921875\n",
            "704.5885009765625\n",
            "704.5843505859375\n"
          ]
        }
      ]
    },
    {
      "cell_type": "code",
      "metadata": {
        "id": "QiuIb7JlugNC"
      },
      "source": [
        "params = orig_params.detach().requires_grad_()"
      ],
      "execution_count": 293,
      "outputs": []
    },
    {
      "cell_type": "markdown",
      "metadata": {
        "id": "w9Zc4v_JugNF"
      },
      "source": [
        "The loss is going down, just as we hoped! But looking only at these loss numbers disguises the fact that each iteration represents an entirely different quadratic function being tried, on the way to finding the best possible quadratic function. We can see this process visually if, instead of printing out the loss function, we plot the function at every step. Then we can see how the shape is approaching the best possible quadratic function for our data:"
      ]
    },
    {
      "cell_type": "code",
      "metadata": {
        "id": "F--p2TouugNG",
        "colab": {
          "base_uri": "https://localhost:8080/",
          "height": 221
        },
        "outputId": "99e76a0b-562e-487b-909d-78160ed2316a"
      },
      "source": [
        "_,axs = plt.subplots(1,4,figsize=(12,3))\n",
        "for ax in axs: show_preds(apply_step(params, False), ax)\n",
        "plt.tight_layout()"
      ],
      "execution_count": 294,
      "outputs": [
        {
          "output_type": "display_data",
          "data": {
            "image/png": "[encoded data removed]",
            "text/plain": [
              "<Figure size 864x216 with 4 Axes>"
            ]
          },
          "metadata": {
            "needs_background": "light"
          }
        }
      ]
    },
    {
      "cell_type": "markdown",
      "metadata": {
        "id": "bqlPZrKuugNJ"
      },
      "source": [
        "#### Step 7: stop"
      ]
    },
    {
      "cell_type": "markdown",
      "metadata": {
        "id": "Hyrx6afUugNK"
      },
      "source": [
        "We just decided to stop after 10 epochs arbitrarily. In practice, we would watch the training and validation losses and our metrics to decide when to stop, as we've discussed."
      ]
    },
    {
      "cell_type": "markdown",
      "metadata": {
        "id": "8ygq6JJWugNP"
      },
      "source": [
        "### Summarizing Gradient Descent"
      ]
    },
    {
      "cell_type": "code",
      "metadata": {
        "hide_input": false,
        "id": "zj664DiZugNQ",
        "colab": {
          "base_uri": "https://localhost:8080/",
          "height": 125
        },
        "outputId": "1ff1e2d3-2d66-4fee-d04c-b53ddea9eb4d"
      },
      "source": [
        "#hide_input\n",
        "#id gradient_descent\n",
        "#caption The gradient descent process\n",
        "#alt Graph showing the steps for Gradient Descent\n",
        "gv('''\n",
        "init->predict->loss->gradient->step->stop\n",
        "step->predict[label=repeat]\n",
        "''')"
      ],
      "execution_count": 295,
      "outputs": [
        {
          "output_type": "execute_result",
          "data": {
            "text/plain": [
              "<graphviz.files.Source at 0x7efc0a5e4210>"
            ],
            "image/svg+xml": "<?xml version=\"1.0\" encoding=\"UTF-8\" standalone=\"no\"?>\n<!DOCTYPE svg PUBLIC \"-//W3C//DTD SVG 1.1//EN\"\n \"http://www.w3.org/Graphics/SVG/1.1/DTD/svg11.dtd\">\n<!-- Generated by graphviz version 2.40.1 (20161225.0304)\n -->\n<!-- Title: G Pages: 1 -->\n<svg width=\"597pt\" height=\"78pt\"\n viewBox=\"0.00 0.00 596.69 78.00\" xmlns=\"http://www.w3.org/2000/svg\" xmlns:xlink=\"http://www.w3.org/1999/xlink\">\n<g id=\"graph0\" class=\"graph\" transform=\"scale(1 1) rotate(0) translate(4 74)\">\n<title>G</title>\n<polygon fill=\"#ffffff\" stroke=\"transparent\" points=\"-4,4 -4,-74 592.6863,-74 592.6863,4 -4,4\"/>\n<!-- init -->\n<g id=\"node1\" class=\"node\">\n<title>init</title>\n<ellipse fill=\"none\" stroke=\"#000000\" cx=\"27\" cy=\"-18\" rx=\"27\" ry=\"18\"/>\n<text text-anchor=\"middle\" x=\"27\" y=\"-14.3\" font-family=\"Times,serif\" font-size=\"14.00\" fill=\"#000000\">init</text>\n</g>\n<!-- predict -->\n<g id=\"node2\" class=\"node\">\n<title>predict</title>\n<ellipse fill=\"none\" stroke=\"#000000\" cx=\"127.3968\" cy=\"-18\" rx=\"36.2938\" ry=\"18\"/>\n<text text-anchor=\"middle\" x=\"127.3968\" y=\"-14.3\" font-family=\"Times,serif\" font-size=\"14.00\" fill=\"#000000\">predict</text>\n</g>\n<!-- init&#45;&gt;predict -->\n<g id=\"edge1\" class=\"edge\">\n<title>init&#45;&gt;predict</title>\n<path fill=\"none\" stroke=\"#000000\" d=\"M54.1688,-18C62.3543,-18 71.5827,-18 80.6596,-18\"/>\n<polygon fill=\"#000000\" stroke=\"#000000\" points=\"80.7795,-21.5001 90.7795,-18 80.7795,-14.5001 80.7795,-21.5001\"/>\n</g>\n<!-- loss -->\n<g id=\"node3\" class=\"node\">\n<title>loss</title>\n<ellipse fill=\"none\" stroke=\"#000000\" cx=\"227.7935\" cy=\"-52\" rx=\"27\" ry=\"18\"/>\n<text text-anchor=\"middle\" x=\"227.7935\" y=\"-48.3\" font-family=\"Times,serif\" font-size=\"14.00\" fill=\"#000000\">loss</text>\n</g>\n<!-- predict&#45;&gt;loss -->\n<g id=\"edge2\" class=\"edge\">\n<title>predict&#45;&gt;loss</title>\n<path fill=\"none\" stroke=\"#000000\" d=\"M157.5191,-28.2011C168.9806,-32.0826 182.1139,-36.5303 193.9014,-40.5222\"/>\n<polygon fill=\"#000000\" stroke=\"#000000\" points=\"192.8259,-43.8532 203.4202,-43.7458 195.0713,-37.2231 192.8259,-43.8532\"/>\n</g>\n<!-- gradient -->\n<g id=\"node4\" class=\"node\">\n<title>gradient</title>\n<ellipse fill=\"none\" stroke=\"#000000\" cx=\"365.7399\" cy=\"-52\" rx=\"40.8928\" ry=\"18\"/>\n<text text-anchor=\"middle\" x=\"365.7399\" y=\"-48.3\" font-family=\"Times,serif\" font-size=\"14.00\" fill=\"#000000\">gradient</text>\n</g>\n<!-- loss&#45;&gt;gradient -->\n<g id=\"edge3\" class=\"edge\">\n<title>loss&#45;&gt;gradient</title>\n<path fill=\"none\" stroke=\"#000000\" d=\"M255.0473,-52C272.0415,-52 294.4481,-52 314.6545,-52\"/>\n<polygon fill=\"#000000\" stroke=\"#000000\" points=\"314.671,-55.5001 324.671,-52 314.671,-48.5001 314.671,-55.5001\"/>\n</g>\n<!-- step -->\n<g id=\"node5\" class=\"node\">\n<title>step</title>\n<ellipse fill=\"none\" stroke=\"#000000\" cx=\"470.6863\" cy=\"-18\" rx=\"27\" ry=\"18\"/>\n<text text-anchor=\"middle\" x=\"470.6863\" y=\"-14.3\" font-family=\"Times,serif\" font-size=\"14.00\" fill=\"#000000\">step</text>\n</g>\n<!-- gradient&#45;&gt;step -->\n<g id=\"edge4\" class=\"edge\">\n<title>gradient&#45;&gt;step</title>\n<path fill=\"none\" stroke=\"#000000\" d=\"M398.9456,-41.2422C410.9558,-37.3512 424.5297,-32.9536 436.6132,-29.0388\"/>\n<polygon fill=\"#000000\" stroke=\"#000000\" points=\"437.9112,-32.2975 446.3457,-25.8857 435.7537,-25.6382 437.9112,-32.2975\"/>\n</g>\n<!-- step&#45;&gt;predict -->\n<g id=\"edge6\" class=\"edge\">\n<title>step&#45;&gt;predict</title>\n<path fill=\"none\" stroke=\"#000000\" d=\"M443.4266,-18C384.9297,-18 246.7861,-18 174.0495,-18\"/>\n<polygon fill=\"#000000\" stroke=\"#000000\" points=\"173.8098,-14.5001 163.8098,-18 173.8097,-21.5001 173.8098,-14.5001\"/>\n<text text-anchor=\"middle\" x=\"289.7935\" y=\"-21.8\" font-family=\"Times,serif\" font-size=\"14.00\" fill=\"#000000\">repeat</text>\n</g>\n<!-- stop -->\n<g id=\"node6\" class=\"node\">\n<title>stop</title>\n<ellipse fill=\"none\" stroke=\"#000000\" cx=\"561.6863\" cy=\"-18\" rx=\"27\" ry=\"18\"/>\n<text text-anchor=\"middle\" x=\"561.6863\" y=\"-14.3\" font-family=\"Times,serif\" font-size=\"14.00\" fill=\"#000000\">stop</text>\n</g>\n<!-- step&#45;&gt;stop -->\n<g id=\"edge5\" class=\"edge\">\n<title>step&#45;&gt;stop</title>\n<path fill=\"none\" stroke=\"#000000\" d=\"M497.9893,-18C506.2676,-18 515.508,-18 524.3268,-18\"/>\n<polygon fill=\"#000000\" stroke=\"#000000\" points=\"524.4026,-21.5001 534.4025,-18 524.4025,-14.5001 524.4026,-21.5001\"/>\n</g>\n</g>\n</svg>\n"
          },
          "metadata": {},
          "execution_count": 295
        }
      ]
    },
    {
      "cell_type": "markdown",
      "metadata": {
        "id": "9yBGWhCOugNY"
      },
      "source": [
        "To summarize, at the beginning, the weights of our model can be random (training *from scratch*) or come from a pretrained model (*transfer learning*). In the first case, the output we will get from our inputs won't have anything to do with what we want, and even in the second case, it's very likely the pretrained model won't be very good at the specific task we are targeting. So the model will need to *learn* better weights.\n",
        "\n",
        "We begin by comparing the outputs the model gives us with our targets (we have labeled data, so we know what result the model should give) using a *loss function*, which returns a number that we want to make as low as possible by improving our weights. To do this, we take a few data items (such as images) from the training set and feed them to our model. We compare the corresponding targets using our loss function, and the score we get tells us how wrong our predictions were. We then change the weights a little bit to make it slightly better.\n",
        "\n",
        "To find how to change the weights to make the loss a bit better, we use calculus to calculate the *gradients*. (Actually, we let PyTorch do it for us!) Let's consider an analogy. Imagine you are lost in the mountains with your car parked at the lowest point. To find your way back to it, you might wander in a random direction, but that probably wouldn't help much. Since you know your vehicle is at the lowest point, you would be better off going downhill. By always taking a step in the direction of the steepest downward slope, you should eventually arrive at your destination. We use the magnitude of the gradient (i.e., the steepness of the slope) to tell us how big a step to take; specifically, we multiply the gradient by a number we choose called the *learning rate* to decide on the step size. We then *iterate* until we have reached the lowest point, which will be our parking lot, then we can *stop*.\n",
        "\n",
        "All of that we just saw can be transposed directly to the MNIST dataset, except for the loss function. Let's now see how we can define a good training objective. "
      ]
    },
    {
      "cell_type": "markdown",
      "metadata": {
        "id": "uL_x69cNugNY"
      },
      "source": [
        "## The MNIST Loss Function"
      ]
    },
    {
      "cell_type": "markdown",
      "metadata": {
        "id": "5U47gudJugNZ"
      },
      "source": [
        "We already have our dependent variables `x`—these are the images themselves. We'll concatenate them all into a single tensor, and also change them from a list of matrices (a rank-3 tensor) to a list of vectors (a rank-2 tensor). We can do this using `view`, which is a PyTorch method that changes the shape of a tensor without changing its contents. `-1` is a special parameter to `view` that means \"make this axis as big as necessary to fit all the data\":"
      ]
    },
    {
      "cell_type": "markdown",
      "metadata": {
        "id": "q6KyqFs7Qwns"
      },
      "source": [
        "### Creating a training set"
      ]
    },
    {
      "cell_type": "code",
      "metadata": {
        "id": "87Z6vJCKugNa"
      },
      "source": [
        "# 'x' is our independent variable - our images\n",
        "# changing the shape of a tensor without changing its contents -- '.view'\n",
        "train_x = torch.cat([stacked_threes, stacked_sevens]).view(-1, 28*28)"
      ],
      "execution_count": 296,
      "outputs": []
    },
    {
      "cell_type": "code",
      "metadata": {
        "id": "Zn1586RAbaCd",
        "colab": {
          "base_uri": "https://localhost:8080/"
        },
        "outputId": "a91977d6-f5dd-4a44-b075-9fd77f2250ff"
      },
      "source": [
        "train_x.shape, train_x.ndim"
      ],
      "execution_count": 297,
      "outputs": [
        {
          "output_type": "execute_result",
          "data": {
            "text/plain": [
              "(torch.Size([12396, 784]), 2)"
            ]
          },
          "metadata": {},
          "execution_count": 297
        }
      ]
    },
    {
      "cell_type": "markdown",
      "metadata": {
        "id": "oJjbFkJD8YtD"
      },
      "source": [
        "NOTE:  We are concatenating our images `x` with `torch.cat` then reshape the rank-3 tensor to a rank-2 tenswor with `.view`. We indicate how large we want the dimensions to be, in this case the size of the images 28x28, a total of 784 columns (28x28), follows by the number of rows, `-1` we take all the rows."
      ]
    },
    {
      "cell_type": "markdown",
      "metadata": {
        "id": "w9gxGNDyugNf"
      },
      "source": [
        "We need a label for each image. We'll use `1` for 3s and `0` for 7s:"
      ]
    },
    {
      "cell_type": "code",
      "metadata": {
        "id": "ZtY7rFpPugNg",
        "colab": {
          "base_uri": "https://localhost:8080/"
        },
        "outputId": "bc7d40bf-38f2-478e-dfcf-5ec5df581800"
      },
      "source": [
        "# y is our dependent variable - our labels\n",
        "# labels computed as follows: 1 for 3s and 0 for 7s\n",
        "train_y = tensor([1]*len(threes) + [0]*len(sevens)).unsqueeze(1)\n",
        "\n",
        "# checking the shape for train_x and train_y\n",
        "train_x.shape,train_y.shape"
      ],
      "execution_count": 298,
      "outputs": [
        {
          "output_type": "execute_result",
          "data": {
            "text/plain": [
              "(torch.Size([12396, 784]), torch.Size([12396, 1]))"
            ]
          },
          "metadata": {},
          "execution_count": 298
        }
      ]
    },
    {
      "cell_type": "markdown",
      "metadata": {
        "id": "99FWK5yhBcLi"
      },
      "source": [
        "NOTE: we need a matrix for Pytorch, not a vector; therefore `unsqueeze(1)` will add an additional unit dimension.\n",
        "\n",
        "`torch.unsqueeze` returns a new tensor with a dimension of size one inserted at the specified position."
      ]
    },
    {
      "cell_type": "code",
      "metadata": {
        "id": "665gVT2s0-9N",
        "colab": {
          "base_uri": "https://localhost:8080/"
        },
        "outputId": "d43b8504-997b-43a8-a781-b72b374c4b4c"
      },
      "source": [
        "train_x.ndim, train_y.ndim"
      ],
      "execution_count": 299,
      "outputs": [
        {
          "output_type": "execute_result",
          "data": {
            "text/plain": [
              "(2, 2)"
            ]
          },
          "metadata": {},
          "execution_count": 299
        }
      ]
    },
    {
      "cell_type": "markdown",
      "metadata": {
        "id": "JoBNopu1-DSu"
      },
      "source": [
        "NOTE1: so basically we are going to create an `is_3` model!"
      ]
    },
    {
      "cell_type": "markdown",
      "metadata": {
        "id": "34m7_UtHugNi"
      },
      "source": [
        "**A `Dataset` in PyTorch is required to return a tuple of `(x,y)` when indexed. Python provides a `zip` function which, when combined with `list`, provides a simple way to get this functionality:**"
      ]
    },
    {
      "cell_type": "code",
      "metadata": {
        "id": "CMCRyDdougNj",
        "colab": {
          "base_uri": "https://localhost:8080/"
        },
        "outputId": "0056fedf-f504-4006-ef8b-0643584fd123"
      },
      "source": [
        "# creating a training dataset from x and y\n",
        "dset = list(zip(train_x,train_y))\n",
        "# indexing into the dataset\n",
        "x,y = dset[0]\n",
        "# getting back a tupple\n",
        "x.shape,y"
      ],
      "execution_count": 300,
      "outputs": [
        {
          "output_type": "execute_result",
          "data": {
            "text/plain": [
              "(torch.Size([784]), tensor([1]))"
            ]
          },
          "metadata": {},
          "execution_count": 300
        }
      ]
    },
    {
      "cell_type": "markdown",
      "metadata": {
        "id": "VdaXpaEvFdmt"
      },
      "source": [
        "NOTE: \n",
        "- The `zip()` function takes iterables (can be zero or more), aggregates them in a tuple, and return it. See output above, `dset` will return a tuple for our independent variable and dependent variable. \n",
        "\n",
        "- destructuring a tuple `x,y = dest[0]` that is taking the two parts of a tuple and putting one part into `x`, and the other part into `y`.\n",
        "- When you index into that list `x,y = dset[0]` it will contain one image and one label. Here, we got a seven (label = 1).\n",
        "\n",
        "In summary, a dataset is something you can index to and get back a tuple."
      ]
    },
    {
      "cell_type": "code",
      "metadata": {
        "id": "rJzk-xAUb6CU"
      },
      "source": [
        "# # result of the indexing\n",
        "# x,y = dset[0]; x, y"
      ],
      "execution_count": 301,
      "outputs": []
    },
    {
      "cell_type": "code",
      "metadata": {
        "id": "Dmgc5XQbcCAu"
      },
      "source": [
        ""
      ],
      "execution_count": 301,
      "outputs": []
    },
    {
      "cell_type": "markdown",
      "metadata": {
        "id": "FJJTKt5YQ3QF"
      },
      "source": [
        "### Creating a validation set"
      ]
    },
    {
      "cell_type": "code",
      "metadata": {
        "id": "16WKrH31ugNm"
      },
      "source": [
        "# Creating a validation dataset for x and y.\n",
        "valid_x = torch.cat([valid_3_tens, valid_7_tens]).view(-1, 28*28)\n",
        "valid_y = tensor([1]*len(valid_3_tens) + [0]*len(valid_7_tens)).unsqueeze(1)\n",
        "valid_dset = list(zip(valid_x,valid_y))"
      ],
      "execution_count": 302,
      "outputs": []
    },
    {
      "cell_type": "markdown",
      "metadata": {
        "id": "DyyMZYOJKMnF"
      },
      "source": [
        "NOTE: Now we have a training dataset `dset` and a validation dataset `valid_dset` on which we can train our model.\n",
        "- `view` enable a reshape of our tensor from rank 3 to rank 2.\n",
        "- `unsqueeze` add an additional unit dimension at a given position, i.e.: dimension 1. So it will go from a vector of 12396 rows to a matrix of 12396 rows and one column.\n",
        "- the 3s will have a label of 1 and the 7s will have a label of 0.\n"
      ]
    },
    {
      "cell_type": "markdown",
      "metadata": {
        "id": "1Hg7P8gUugNn"
      },
      "source": [
        "Now we need an (initially random) weight for every pixel (this is the *initialize* step in our seven-step process):"
      ]
    },
    {
      "cell_type": "code",
      "metadata": {
        "id": "_Uc8_Zt1ugNo"
      },
      "source": [
        "# function for initializing random weights for every pixel \n",
        "def init_params(size, variance=1.0): return (torch.randn(size)*variance).requires_grad_()"
      ],
      "execution_count": 303,
      "outputs": []
    },
    {
      "cell_type": "markdown",
      "metadata": {
        "id": "hfVq5woIHF9r"
      },
      "source": [
        "NOTE: \n",
        "- variance (`variance`) looks at how spread out a group of numbers is from the mean, by looking at the square root of the variance. \n",
        "- The variance (`variance`) measures the average degree to which each point differs from the mean—the average of all data points.\n",
        "- `torch.randn` gives a normal random distribution in Pytorch.\n",
        "- `requires_grad_()` instructs Pytorch to compute the gradients in place; (`_`) denotes to do the computation in place.\n",
        "- by using `shift tab` you can see the docstring of a function.  For colab, you need to disable Automatically trigger code completions on Tools->Settings."
      ]
    },
    {
      "cell_type": "markdown",
      "metadata": {
        "id": "iKAwQ2IjRAJX"
      },
      "source": [
        "### Initializing randomly the weights (parameters)"
      ]
    },
    {
      "cell_type": "code",
      "metadata": {
        "id": "biuHFrckugNq"
      },
      "source": [
        "# calling the function init_params (arguments: size and variance)\n",
        "weights = init_params((28*28,1))"
      ],
      "execution_count": 304,
      "outputs": []
    },
    {
      "cell_type": "markdown",
      "metadata": {
        "id": "r2nMaCNfhclv"
      },
      "source": [
        "NOTE: `28*28` by 1 shape.  Every pixel will have a weight, `1` is the unit access to make it into a column."
      ]
    },
    {
      "cell_type": "code",
      "metadata": {
        "id": "VstpOc6MLwxq",
        "colab": {
          "base_uri": "https://localhost:8080/"
        },
        "outputId": "02db7103-17b9-41de-f734-1a69cb14c6f6"
      },
      "source": [
        "weights.shape, weights.ndim"
      ],
      "execution_count": 305,
      "outputs": [
        {
          "output_type": "execute_result",
          "data": {
            "text/plain": [
              "(torch.Size([784, 1]), 2)"
            ]
          },
          "metadata": {},
          "execution_count": 305
        }
      ]
    },
    {
      "cell_type": "markdown",
      "metadata": {
        "id": "w1SYLhCaQkuh"
      },
      "source": [
        "NOTE: we are applying the weights to every pixels."
      ]
    },
    {
      "cell_type": "markdown",
      "metadata": {
        "id": "w3wRUDkDugNr"
      },
      "source": [
        "### Adding biases\n",
        "The function `weights*pixels` won't be flexible enough—it is always equal to 0 when the pixels are equal to 0 (i.e., its *intercept* is 0). You might remember from high school math that the formula for a line is `y=w*x+b`; we still need the `b`. We'll initialize it to a random number too:"
      ]
    },
    {
      "cell_type": "code",
      "metadata": {
        "id": "OeRGEmFbugNs"
      },
      "source": [
        "# creating bias\n",
        "bias = init_params(1)"
      ],
      "execution_count": 306,
      "outputs": []
    },
    {
      "cell_type": "markdown",
      "metadata": {
        "id": "7JPBFBLSugNv"
      },
      "source": [
        "In neural networks, the `w` in the equation `y=w*x+b` is called the *weights*, and the `b` is called the *bias*. **Together, the weights and bias make up the *parameters***."
      ]
    },
    {
      "cell_type": "markdown",
      "metadata": {
        "id": "xL10vUbvugNv"
      },
      "source": [
        "> **jargon: Parameters: The _weights_ and _biases_ of a model. The weights are the `w` in the equation `w*x+b`, and the biases are the `b` in that equation**."
      ]
    },
    {
      "cell_type": "markdown",
      "metadata": {
        "id": "_csXhxHdRgon"
      },
      "source": [
        "### Matrix Multiplication using math\n",
        "\n",
        "[Matrix Multiplication](http://matrixmultiplication.xyz/)"
      ]
    },
    {
      "cell_type": "markdown",
      "metadata": {
        "id": "AUXfVyGaugNv"
      },
      "source": [
        "We can now calculate a prediction for one image:"
      ]
    },
    {
      "cell_type": "code",
      "metadata": {
        "id": "tLA-8rHqugNw",
        "colab": {
          "base_uri": "https://localhost:8080/"
        },
        "outputId": "f870c444-d838-4104-c977-c07d1a53f1f2"
      },
      "source": [
        "# doing a matrix multiplication\n",
        "(train_x[0]*weights.T).sum() + bias"
      ],
      "execution_count": 307,
      "outputs": [
        {
          "output_type": "execute_result",
          "data": {
            "text/plain": [
              "tensor([-6.3338], grad_fn=<AddBackward0>)"
            ]
          },
          "metadata": {},
          "execution_count": 307
        }
      ]
    },
    {
      "cell_type": "markdown",
      "metadata": {
        "id": "SfTmvpy2fRkw"
      },
      "source": [
        "NOTE: `.T` Pytorch transpose. The `weights` tensor needs to be transposed to making them line up in terms of rows and columns; then sum up and add a bias."
      ]
    },
    {
      "cell_type": "markdown",
      "metadata": {
        "id": "7j9zu2FnugN4"
      },
      "source": [
        "While we could use a Python `for` loop to calculate the prediction for each image, that would be very slow. Because Python loops don't run on the GPU, and because Python is a slow language for loops in general, we need to represent as much of the computation in a model as possible using higher-level functions.\n",
        "\n",
        "In this case, there's an extremely convenient mathematical operation that calculates `w*x` for every row of a matrix—it's called *matrix multiplication*. <<matmul>> shows what matrix multiplication looks like."
      ]
    },
    {
      "cell_type": "markdown",
      "metadata": {
        "id": "Vk9UWoF0ugN4"
      },
      "source": [
        "<img alt=\"Matrix multiplication\" width=\"400\" caption=\"Matrix multiplication\" src=\"https://github.com/fastai/fastbook/blob/master/images/matmul2.svg?raw=1\" id=\"matmul\"/>"
      ]
    },
    {
      "cell_type": "markdown",
      "metadata": {
        "id": "tYY328sWugN5"
      },
      "source": [
        "This image shows two matrices, `A` and `B`, being multiplied together. Each item of the result, which we'll call `AB`, contains each item of its corresponding row of `A` multiplied by each item of its corresponding column of `B`, added together. For instance, row 1, column 2 (the orange dot with a red border) is calculated as $a_{1,1} * b_{1,2} + a_{1,2} * b_{2,2}$. If you need a refresher on matrix multiplication, we suggest you take a look at the [Intro to Matrix Multiplication](https://youtu.be/kT4Mp9EdVqs) on *Khan Academy*, since this is the most important mathematical operation in deep learning.\n",
        "\n"
      ]
    },
    {
      "cell_type": "markdown",
      "metadata": {
        "id": "2b31ym98SMZr"
      },
      "source": [
        "### Pytorch Matrix Multiplication\n",
        "In Pytorch, matrix multiplication is represented with the `@` operator. Let's try it:"
      ]
    },
    {
      "cell_type": "code",
      "metadata": {
        "id": "s1Essn7_ugN5",
        "colab": {
          "base_uri": "https://localhost:8080/"
        },
        "outputId": "3d5b7cb8-77d7-49ae-b1f4-4baf7aa06a6c"
      },
      "source": [
        "def linear1(xb): return xb@weights + bias\n",
        "preds = linear1(train_x)\n",
        "preds"
      ],
      "execution_count": 308,
      "outputs": [
        {
          "output_type": "execute_result",
          "data": {
            "text/plain": [
              "tensor([[ -6.3338],\n",
              "        [ -2.1995],\n",
              "        [ -2.0935],\n",
              "        ...,\n",
              "        [-10.8634],\n",
              "        [  0.4624],\n",
              "        [ -8.3199]], grad_fn=<AddBackward0>)"
            ]
          },
          "metadata": {},
          "execution_count": 308
        }
      ]
    },
    {
      "cell_type": "markdown",
      "metadata": {
        "id": "rK-YReNlugN7"
      },
      "source": [
        "The first element is the same as we calculated before, as we'd expect. This equation, `batch@weights + bias`, is one of the two fundamental equations of any neural network (the other one is the *activation function*, which we'll see in a moment)."
      ]
    },
    {
      "cell_type": "markdown",
      "metadata": {
        "id": "R9U0QWEsugN8"
      },
      "source": [
        "### Checking our accuracy\n",
        "Let's check our accuracy. To decide if an output represents a 3 or a 7, we can just check whether it's greater than 0, so our accuracy for each item can be calculated (using broadcasting, so no loops!) with:"
      ]
    },
    {
      "cell_type": "code",
      "metadata": {
        "id": "IEJuVw1qugN8",
        "colab": {
          "base_uri": "https://localhost:8080/"
        },
        "outputId": "6b2db497-c59a-4a14-9e6c-1e8c4c5a2365"
      },
      "source": [
        "corrects = (preds>0.0).float() == train_y\n",
        "corrects"
      ],
      "execution_count": 309,
      "outputs": [
        {
          "output_type": "execute_result",
          "data": {
            "text/plain": [
              "tensor([[False],\n",
              "        [False],\n",
              "        [False],\n",
              "        ...,\n",
              "        [ True],\n",
              "        [False],\n",
              "        [ True]])"
            ]
          },
          "metadata": {},
          "execution_count": 309
        }
      ]
    },
    {
      "cell_type": "markdown",
      "metadata": {
        "id": "p9EqwlC5mte1"
      },
      "source": [
        "NOTE: checking our predictions Anything > 0 will be a 3 otherwise it will be a 7.  We are checking the predictions against the ground truth, the actual value `train_y`, the label. We are turning the boolean value into a float to check our labels which are 0 (for 7s) or 1 for (3s). Recall:\n",
        "\n",
        "\n",
        "\n",
        "```\n",
        "train_y = tensor([1]*len(threes) + [0]*len(sevens)).unsqueeze(1)\n",
        "```\n",
        "\n"
      ]
    },
    {
      "cell_type": "code",
      "metadata": {
        "id": "dvRbefTvugN_",
        "colab": {
          "base_uri": "https://localhost:8080/"
        },
        "outputId": "21a045a9-633d-4a4d-e463-dd5bbfb95782"
      },
      "source": [
        "corrects.float().mean().item()"
      ],
      "execution_count": 310,
      "outputs": [
        {
          "output_type": "execute_result",
          "data": {
            "text/plain": [
              "0.5087931752204895"
            ]
          },
          "metadata": {},
          "execution_count": 310
        }
      ]
    },
    {
      "cell_type": "markdown",
      "metadata": {
        "id": "sAiLU6RkpGfJ"
      },
      "source": [
        "NOTE: Not surprisingly! our model, randomly initialized, is right half the time."
      ]
    },
    {
      "cell_type": "markdown",
      "metadata": {
        "id": "ydR5E1A6Suno"
      },
      "source": [
        "#### Doing a small change in the accuracy computation"
      ]
    },
    {
      "cell_type": "markdown",
      "metadata": {
        "id": "sdjDkNxCugOC"
      },
      "source": [
        "Now let's see what the change in accuracy is for a small change in one of the weights:"
      ]
    },
    {
      "cell_type": "code",
      "metadata": {
        "id": "OLzMGudfugOC"
      },
      "source": [
        "# weights[0] *= 1.0001"
      ],
      "execution_count": 311,
      "outputs": []
    },
    {
      "cell_type": "code",
      "metadata": {
        "id": "kZ0rqvKjugOG",
        "colab": {
          "base_uri": "https://localhost:8080/"
        },
        "outputId": "eff1694a-3d8e-45d0-caaf-23473a4eb592"
      },
      "source": [
        "preds = linear1(train_x)\n",
        "((preds>0.0).float() == train_y).float().mean().item()"
      ],
      "execution_count": 312,
      "outputs": [
        {
          "output_type": "execute_result",
          "data": {
            "text/plain": [
              "0.5087931752204895"
            ]
          },
          "metadata": {},
          "execution_count": 312
        }
      ]
    },
    {
      "cell_type": "markdown",
      "metadata": {
        "id": "UCZ0FEv2ugOP"
      },
      "source": [
        "As we've seen, we need gradients in order to improve our model using SGD, and in order to calculate gradients we need some *loss function* that represents how good our model is. That is because the gradients are a measure of how that loss function changes with small tweaks to the weights.\n",
        "\n",
        "So, we need to choose a loss function. The obvious approach would be to use accuracy, which is our metric, as our loss function as well. In this case, we would calculate our prediction for each image, collect these values to calculate an overall accuracy, and then calculate the gradients of each weight with respect to that overall accuracy.\n",
        "\n",
        "Unfortunately, we have a significant technical problem here. The gradient of a function is its *slope*, or its steepness, which can be defined as *rise over run*—that is, how much the value of the function goes up or down, divided by how much we changed the input. We can write this in mathematically as: `(y_new - y_old) / (x_new - x_old)`. This gives us a good approximation of the gradient when `x_new` is very similar to `x_old`, meaning that their difference is very small. But accuracy only changes at all when a prediction changes from a 3 to a 7, or vice versa. The problem is that a small change in weights from `x_old` to `x_new` isn't likely to cause any prediction to change, so `(y_new - y_old)` will almost always be 0. In other words, the gradient is 0 almost everywhere."
      ]
    },
    {
      "cell_type": "markdown",
      "metadata": {
        "id": "n6wNHodlugOQ"
      },
      "source": [
        "A very small change in the value of a weight will often not actually change the accuracy at all. This means it is not useful to use accuracy as a loss function—if we do, most of the time our gradients will actually be 0, and the model will not be able to learn from that number.\n",
        "\n",
        "NOTE:  **Accuracy doesn’t work as a loss function because if we change some weight only a little bit it doesn’t necessary affect any prediction**.\n",
        "\n",
        "> S: In mathematical terms, accuracy is a function that is constant almost everywhere (except at the threshold, 0.5), so its derivative is nil almost everywhere (and infinity at the threshold). This then gives gradients that are 0 or infinite, which are useless for updating the model.\n",
        "\n",
        "**Instead, we need a loss function which, when our weights result in slightly better predictions, gives us a slightly better loss. So what does a \"slightly better prediction\" look like, exactly? Well, in this case, it means that if the correct answer is a 3 the score is a little higher, or if the correct answer is a 7 the score is a little lower.**\n",
        "\n",
        "Let's write such a function now. What form does it take?\n",
        "\n",
        "The loss function receives not the images themselves, but the predictions from the model. Let's make one argument, `prds`, of values between 0 and 1, where each value is the prediction that an image is a 3. It is a vector (i.e., a rank-1 tensor), indexed over the images.\n",
        "\n",
        "**The purpose of the loss function is to measure the difference between predicted values and the true values** — that is, the targets (aka labels). Let's make another argument, `trgts`, with values of 0 or 1 which tells whether an image actually is a 3 or not. It is also a vector (i.e., another rank-1 tensor), indexed over the images.\n",
        "\n",
        "So, for instance, suppose we had three images which we knew were a 3, a 7, and a 3. And suppose our model predicted with high confidence (`0.9`) that the first was a 3, with slight confidence (`0.4`) that the second was a 7, and with fair confidence (`0.2`), but incorrectly, that the last was a 7. This would mean our loss function would receive these values as its inputs:"
      ]
    },
    {
      "cell_type": "code",
      "metadata": {
        "id": "QouQ1-RyugOR"
      },
      "source": [
        "# true values\n",
        "trgts  = tensor([1,0,1]) \n",
        "# predicted values\n",
        "prds   = tensor([0.9, 0.4, 0.2])"
      ],
      "execution_count": 313,
      "outputs": []
    },
    {
      "cell_type": "markdown",
      "metadata": {
        "id": "1_UyNm5nugOS"
      },
      "source": [
        "Here's a first try at a loss function that measures the distance between `predictions` and `targets`:"
      ]
    },
    {
      "cell_type": "markdown",
      "metadata": {
        "id": "IfzsuiMZTJ9q"
      },
      "source": [
        "### Defining a loss function"
      ]
    },
    {
      "cell_type": "code",
      "metadata": {
        "id": "hwtbcdQFugOS"
      },
      "source": [
        "def mnist_loss(predictions, targets):\n",
        "    return torch.where(targets==1, 1-predictions, predictions).mean()"
      ],
      "execution_count": 314,
      "outputs": []
    },
    {
      "cell_type": "markdown",
      "metadata": {
        "id": "0nEK6zdxknbE"
      },
      "source": [
        "NOTE: if our `targets==1`,then we will do, `1-predictions`.  See output below."
      ]
    },
    {
      "cell_type": "markdown",
      "metadata": {
        "id": "K69YT0oAugOX"
      },
      "source": [
        "NOTE:  We're using a new function, `torch.where(a,b,c)`. This is the same as running the list comprehension `[b[i] if a[i] else c[i] for i in range(len(a))]`, except it works on tensors, at C/CUDA speed. In plain English, this function will measure how distant each prediction is from 1 if it should be 1, and how distant it is from 0 if it should be 0, and then it will take the mean of all those distances.\n",
        "\n",
        "> note: Read the Docs: It's important to learn about PyTorch functions like this, because looping over tensors in Python performs at Python speed, not C/CUDA speed! Try running `help(torch.where)` now to read the docs for this function, or, better still, look it up on the PyTorch documentation site."
      ]
    },
    {
      "cell_type": "markdown",
      "metadata": {
        "id": "K7GDPojGugOX"
      },
      "source": [
        "Let's try it on our `prds` and `trgts`:"
      ]
    },
    {
      "cell_type": "code",
      "metadata": {
        "id": "6P0Jt5LmugOY",
        "colab": {
          "base_uri": "https://localhost:8080/"
        },
        "outputId": "66867a24-1bf1-4379-9363-fcf65fb7a1fb"
      },
      "source": [
        "# testing the `torch.where(trgts==1)`\n",
        "torch.where(trgts==1, 1-prds, prds)"
      ],
      "execution_count": 315,
      "outputs": [
        {
          "output_type": "execute_result",
          "data": {
            "text/plain": [
              "tensor([0.1000, 0.4000, 0.8000])"
            ]
          },
          "metadata": {},
          "execution_count": 315
        }
      ]
    },
    {
      "cell_type": "markdown",
      "metadata": {
        "id": "tHfAeqFcmc0p"
      },
      "source": [
        "NOTE:\n",
        "- `trgts  = tensor([1,0,1]) `\n",
        "- `preds = tensor([0.9, 0.4, 0.2])`\n",
        "\n",
        "Calculation:\n",
        "- `1-0.9 = 0.1`\n",
        "- `1-0.2 = 0.8`"
      ]
    },
    {
      "cell_type": "markdown",
      "metadata": {
        "id": "KSSL_6XlugOZ"
      },
      "source": [
        "You can see that this function returns a lower number when predictions are more accurate, when accurate predictions are more confident (higher absolute values), and when inaccurate predictions are less confident. **In PyTorch, we always assume that a lower value of a loss function is better**. Since we need a scalar for the final loss, `mnist_loss` takes the mean of the previous tensor:"
      ]
    },
    {
      "cell_type": "code",
      "metadata": {
        "id": "_2MFWUHougOa",
        "colab": {
          "base_uri": "https://localhost:8080/"
        },
        "outputId": "db2f0f53-bb09-4059-ea0a-959e873d1817"
      },
      "source": [
        "# taking the mean for the predictions\n",
        "mnist_loss(prds,trgts)"
      ],
      "execution_count": 316,
      "outputs": [
        {
          "output_type": "execute_result",
          "data": {
            "text/plain": [
              "tensor(0.4333)"
            ]
          },
          "metadata": {},
          "execution_count": 316
        }
      ]
    },
    {
      "cell_type": "markdown",
      "metadata": {
        "id": "swm8oSTsugOb"
      },
      "source": [
        "For instance, if we change our prediction for the one \"false\" target from `0.2` to `0.8` the loss will go down, indicating that this is a better prediction:"
      ]
    },
    {
      "cell_type": "code",
      "metadata": {
        "id": "OYsvd6hsugOb",
        "colab": {
          "base_uri": "https://localhost:8080/"
        },
        "outputId": "e6e2de25-fff2-4111-9dc6-32720309fd23"
      },
      "source": [
        "# changing the predictions from 0.2 to 0.8\n",
        "# the loss will go down\n",
        "mnist_loss(tensor([0.9, 0.4, 0.8]),trgts)"
      ],
      "execution_count": 317,
      "outputs": [
        {
          "output_type": "execute_result",
          "data": {
            "text/plain": [
              "tensor(0.2333)"
            ]
          },
          "metadata": {},
          "execution_count": 317
        }
      ]
    },
    {
      "cell_type": "markdown",
      "metadata": {
        "id": "XAv2kWvEugOe"
      },
      "source": [
        "One problem with `mnist_loss` as currently defined is that it assumes that predictions are always between 0 and 1. We need to ensure, then, that this is actually the case! As it happens, there is a function that does exactly that—let's take a look."
      ]
    },
    {
      "cell_type": "markdown",
      "metadata": {
        "id": "MkCOKMVOugOe"
      },
      "source": [
        "### The Sigmoid function"
      ]
    },
    {
      "cell_type": "markdown",
      "metadata": {
        "id": "MASUW_1XugOe"
      },
      "source": [
        "Making sure that our predictions always end-up between 0 or 1. To do that, we will use a `sigmoid` function which will always outputs a number between 0 and 1. It's defined as follows:"
      ]
    },
    {
      "cell_type": "code",
      "metadata": {
        "id": "4Rhp1Ix_ugOe"
      },
      "source": [
        "def sigmoid(x): return 1/(1+torch.exp(-x))"
      ],
      "execution_count": 318,
      "outputs": []
    },
    {
      "cell_type": "markdown",
      "metadata": {
        "id": "BayrCLQWuDIh"
      },
      "source": [
        "NOTE: `torch.exp` Returns a new tensor with the exponential of the elements of the input tensor input."
      ]
    },
    {
      "cell_type": "code",
      "metadata": {
        "id": "whkwu1YSvC0T",
        "colab": {
          "base_uri": "https://localhost:8080/"
        },
        "outputId": "e7018252-30e2-4fc7-b942-9e530486fade"
      },
      "source": [
        "math.e"
      ],
      "execution_count": 319,
      "outputs": [
        {
          "output_type": "execute_result",
          "data": {
            "text/plain": [
              "2.718281828459045"
            ]
          },
          "metadata": {},
          "execution_count": 319
        }
      ]
    },
    {
      "cell_type": "markdown",
      "metadata": {
        "id": "ec2kDAOqvJNI"
      },
      "source": [
        "NOTE: math.e is a single number, just like pi (π).\n"
      ]
    },
    {
      "cell_type": "code",
      "metadata": {
        "id": "ZlpQHiO4vr6Z",
        "colab": {
          "base_uri": "https://localhost:8080/"
        },
        "outputId": "bc83f642-7ce4-4bcf-e05a-e6e104b2a945"
      },
      "source": [
        "math.e**2"
      ],
      "execution_count": 320,
      "outputs": [
        {
          "output_type": "execute_result",
          "data": {
            "text/plain": [
              "7.3890560989306495"
            ]
          },
          "metadata": {},
          "execution_count": 320
        }
      ]
    },
    {
      "cell_type": "code",
      "metadata": {
        "id": "ffc7nZsCvv4D",
        "colab": {
          "base_uri": "https://localhost:8080/"
        },
        "outputId": "fdb83b68-15e5-4243-d141-8a04dea9ce4a"
      },
      "source": [
        "torch.exp(tensor(2.))"
      ],
      "execution_count": 321,
      "outputs": [
        {
          "output_type": "execute_result",
          "data": {
            "text/plain": [
              "tensor(7.3891)"
            ]
          },
          "metadata": {},
          "execution_count": 321
        }
      ]
    },
    {
      "cell_type": "markdown",
      "metadata": {
        "id": "Kmt14kZHugOg"
      },
      "source": [
        "Pytorch defines an accelerated version for us, so we don’t really need our own. This is an important function in deep learning, since we often want to ensure values are between 0 and 1. This is what it looks like:"
      ]
    },
    {
      "cell_type": "code",
      "metadata": {
        "id": "EoKmvGTOugOh",
        "colab": {
          "base_uri": "https://localhost:8080/",
          "height": 285
        },
        "outputId": "890e6829-e76b-4993-f36c-f92ede52ecdb"
      },
      "source": [
        "plot_function(torch.sigmoid, title='Sigmoid', min=-4, max=4)"
      ],
      "execution_count": 322,
      "outputs": [
        {
          "output_type": "display_data",
          "data": {
            "image/png": "[encoded data removed]",
            "text/plain": [
              "<Figure size 432x288 with 1 Axes>"
            ]
          },
          "metadata": {
            "needs_background": "light"
          }
        }
      ]
    },
    {
      "cell_type": "markdown",
      "metadata": {
        "id": "lfgjVRSVwNvX"
      },
      "source": [
        "NOTE: besides the math involved, what is most important is to recognize a sigmoid shape. That is, values are squished between 0 and 1.\n",
        "\n",
        "On the x axis we have our values from `min=4` to `max=4`, on the y axis we have our values squashed between 0 and 1; our sigmoid shape.  So, for example,  if x=-4 it will be 0 and if x=4 it will be 1."
      ]
    },
    {
      "cell_type": "markdown",
      "metadata": {
        "id": "iRPbTv9FugOi"
      },
      "source": [
        "As you can see, it takes any input value, positive or negative, and smooshes it onto an output value between 0 and 1. It's also a smooth curve that only goes up, which makes it easier for SGD to find meaningful gradients. \n",
        "\n",
        "Let's update `mnist_loss` to first apply `sigmoid` to the inputs:"
      ]
    },
    {
      "cell_type": "code",
      "metadata": {
        "id": "w31uhvx3ugOj"
      },
      "source": [
        "def mnist_loss(predictions, targets):\n",
        "    predictions = predictions.sigmoid()\n",
        "    return torch.where(targets==1, 1-predictions, predictions).mean()"
      ],
      "execution_count": 323,
      "outputs": []
    },
    {
      "cell_type": "markdown",
      "metadata": {
        "id": "HZo9Ss8bugOm"
      },
      "source": [
        "Now we can be confident our loss function will work, even if the predictions are not between 0 and 1. All that is required is that a higher prediction corresponds to higher confidence an image is a 3.\n",
        "\n",
        "Having defined a loss function, now is a good moment to recapitulate why we did this. After all, we already had a metric, which was overall accuracy. So why did we define a loss?\n",
        "\n",
        "The key difference is that the metric is to drive human understanding and the loss is to drive automated learning. To drive automated learning, the loss must be a function that has a meaningful derivative. It can't have big flat sections and large jumps, but instead must be reasonably smooth. This is why we designed a loss function that would respond to small changes in confidence level. This requirement means that sometimes it does not really reflect exactly what we are trying to achieve, but is rather a compromise between our real goal, and a function that can be optimized using its gradient. The loss function is calculated for each item in our dataset, and then at the end of an epoch the loss values are all averaged and the overall mean is reported for the epoch.\n",
        "\n",
        "Metrics, on the other hand, are the numbers that we really care about. These are the values that are printed at the end of each epoch that tell us how our model is really doing. It is important that we learn to focus on these metrics, rather than the loss, when judging the performance of a model."
      ]
    },
    {
      "cell_type": "markdown",
      "metadata": {
        "id": "q8_IjeqKugOo"
      },
      "source": [
        "### SGD and Mini-Batches"
      ]
    },
    {
      "cell_type": "markdown",
      "metadata": {
        "id": "p8L654JgugOp"
      },
      "source": [
        "Now that we have a loss function that is suitable for driving SGD, we can consider some of the details involved in the next phase of the learning process, which is to change or update the weights based on the gradients. This is called an *optimization step*.\n",
        "\n",
        "In order to take an optimization step we need to calculate the loss over one or more data items. How many should we use? We could calculate it for the whole dataset, and take the average, or we could calculate it for a single data item. But neither of these is ideal. Calculating it for the whole dataset would take a very long time. Calculating it for a single item would not use much information, so it would result in a very imprecise and unstable gradient. That is, you'd be going to the trouble of updating the weights, but taking into account only how that would improve the model's performance on that single item.\n",
        "\n",
        "So instead we take a compromise between the two: we calculate the average loss for a few data items at a time. This is called a ***mini-batch***. The number of data items in the mini-batch is called the ***batch size***. A larger batch size means that you will get a more accurate and stable estimate of your dataset's gradients from the loss function, but it will take longer, and you will process fewer mini-batches per epoch. Choosing a good batch size is one of the decisions you need to make as a deep learning practitioner to train your model quickly and accurately. We will talk about how to make this choice throughout this book.\n",
        "\n",
        "Another good reason for using mini-batches rather than calculating the gradient on individual data items is that, in practice, we nearly always do our training on an accelerator such as a GPU. These accelerators only perform well if they have lots of work to do at a time, so it's helpful if we can give them lots of data items to work on. Using mini-batches is one of the best ways to do this. However, if you give them too much data to work on at once, they run out of memory—making GPUs happy is also tricky!\n",
        "\n",
        "As we saw in our discussion of data augmentation in <<chapter_production>>, we get better generalization if we can vary things during training. One simple and effective thing we can vary is what data items we put in each mini-batch. Rather than simply enumerating our dataset in order for every epoch, instead what we normally do is randomly shuffle it on every epoch, before we create mini-batches. PyTorch and fastai provide a class that will do the shuffling and mini-batch collation for you, called `DataLoader`.\n",
        "\n",
        "A `DataLoader` can take any Python collection and turn it into an iterator over many batches, like so:"
      ]
    },
    {
      "cell_type": "code",
      "metadata": {
        "id": "8tip1lzEugOp",
        "colab": {
          "base_uri": "https://localhost:8080/"
        },
        "outputId": "4a3aa02d-1f46-47ce-9425-f01269ab13f2"
      },
      "source": [
        "# creating a collection using a range (0 to 14)\n",
        "coll = range(15)\n",
        "# creating a dataloader that will do mini-batches, 5 items at a time\n",
        "dl = DataLoader(coll, batch_size=5, shuffle=True)\n",
        "# listing the dl mini-batches\n",
        "list(dl)"
      ],
      "execution_count": 324,
      "outputs": [
        {
          "output_type": "execute_result",
          "data": {
            "text/plain": [
              "[tensor([1, 0, 2, 6, 5]),\n",
              " tensor([ 9, 12,  7, 13, 11]),\n",
              " tensor([ 4, 14,  3,  8, 10])]"
            ]
          },
          "metadata": {},
          "execution_count": 324
        }
      ]
    },
    {
      "cell_type": "markdown",
      "metadata": {
        "id": "ehBWavXAmsai"
      },
      "source": [
        "NOTE: the items are not in order since they are shuffled (`shuffle=True`). In a training set, we want our items to be suffled to add more randomization.  Randomization is good to avoir the NN to learn how your dataset looks like."
      ]
    },
    {
      "cell_type": "markdown",
      "metadata": {
        "id": "rQlht8iougOr"
      },
      "source": [
        "For training a model, we don't just want any Python collection, but a collection containing independent and dependent variables (that is, the inputs and targets of the model). A collection that contains tuples of independent and dependent variables is known in PyTorch as a `Dataset`. Here's an example of an extremely simple `Dataset`:"
      ]
    },
    {
      "cell_type": "code",
      "metadata": {
        "id": "rj40a2iMugOr",
        "colab": {
          "base_uri": "https://localhost:8080/"
        },
        "outputId": "f4fd3fcf-dd90-4134-a67b-ea521ae1fde0"
      },
      "source": [
        "# creating a dataset returning tuple\n",
        "# with independent and dependent variable.\n",
        "# so numbers will be our independent variable and letters will be our dependent variable.\n",
        "ds = L(enumerate(string.ascii_lowercase))\n",
        "ds"
      ],
      "execution_count": 325,
      "outputs": [
        {
          "output_type": "execute_result",
          "data": {
            "text/plain": [
              "(#26) [(0, 'a'),(1, 'b'),(2, 'c'),(3, 'd'),(4, 'e'),(5, 'f'),(6, 'g'),(7, 'h'),(8, 'i'),(9, 'j')...]"
            ]
          },
          "metadata": {},
          "execution_count": 325
        }
      ]
    },
    {
      "cell_type": "markdown",
      "metadata": {
        "id": "dtElzIo9ugOv"
      },
      "source": [
        "When we pass a `Dataset` to a `DataLoader` we will get back many batches which are themselves tuples of tensors representing batches of independent and dependent variables:"
      ]
    },
    {
      "cell_type": "code",
      "metadata": {
        "id": "roUTyJf6ugOv",
        "colab": {
          "base_uri": "https://localhost:8080/"
        },
        "outputId": "69d8fe4b-15a9-4502-d29a-f375c88cd436"
      },
      "source": [
        "dl = DataLoader(ds, batch_size=6, shuffle=True)\n",
        "list(dl)"
      ],
      "execution_count": 326,
      "outputs": [
        {
          "output_type": "execute_result",
          "data": {
            "text/plain": [
              "[(tensor([ 3,  0, 22, 14,  2, 19]), ('d', 'a', 'w', 'o', 'c', 't')),\n",
              " (tensor([25,  1, 15,  7, 10, 21]), ('z', 'b', 'p', 'h', 'k', 'v')),\n",
              " (tensor([ 9, 11,  4, 24, 12, 16]), ('j', 'l', 'e', 'y', 'm', 'q')),\n",
              " (tensor([ 8, 23, 18, 17, 13,  5]), ('i', 'x', 's', 'r', 'n', 'f')),\n",
              " (tensor([ 6, 20]), ('g', 'u'))]"
            ]
          },
          "metadata": {},
          "execution_count": 326
        }
      ]
    },
    {
      "cell_type": "markdown",
      "metadata": {
        "id": "SkERZzRXn9Jk"
      },
      "source": [
        "NOTE: we have a tuple dataset. Numbers are your independent variable and letters are your dependent variables."
      ]
    },
    {
      "cell_type": "markdown",
      "metadata": {
        "id": "0ortjPVlugOy"
      },
      "source": [
        "We are now ready to write our first training loop for a model using SGD!"
      ]
    },
    {
      "cell_type": "markdown",
      "metadata": {
        "id": "Hn-nsFSDugOy"
      },
      "source": [
        "## Putting It All Together"
      ]
    },
    {
      "cell_type": "markdown",
      "metadata": {
        "id": "Zb_g-BojugOz"
      },
      "source": [
        "It's time to implement the process we saw in <<gradient_descent>>. In code, our process will be implemented something like this for each epoch:\n",
        "\n",
        "```python\n",
        "for x,y in dl: # looping throught the dataset\n",
        "    pred = model(x) # calculate the predictions\n",
        "    loss = loss_func(pred, y) # calculate the loss (preds, targets)\n",
        "    loss.backward() # calculate the gradients\n",
        "    parameters -= parameters.grad * lr # update the parameters \n",
        "```"
      ]
    },
    {
      "cell_type": "markdown",
      "metadata": {
        "id": "3OSi4qbRugOz"
      },
      "source": [
        "First, let's re-initialize our parameters:"
      ]
    },
    {
      "cell_type": "code",
      "metadata": {
        "id": "oxbdN3ECugO4"
      },
      "source": [
        "weights = init_params((28*28,1))\n",
        "bias = init_params(1)"
      ],
      "execution_count": 327,
      "outputs": []
    },
    {
      "cell_type": "markdown",
      "metadata": {
        "id": "kSF_vIORugO7"
      },
      "source": [
        "A `DataLoader` can be created from a `Dataset`:"
      ]
    },
    {
      "cell_type": "code",
      "metadata": {
        "id": "dQ1982pWugO7",
        "colab": {
          "base_uri": "https://localhost:8080/"
        },
        "outputId": "1de4fb4e-7f05-492a-9592-9e530d6f629e"
      },
      "source": [
        "# creating a dataloader from our mnist dataset 'dset'\n",
        "dl = DataLoader(dset, batch_size=256)\n",
        "xb,yb = first(dl)\n",
        "xb.shape,yb.shape"
      ],
      "execution_count": 328,
      "outputs": [
        {
          "output_type": "execute_result",
          "data": {
            "text/plain": [
              "(torch.Size([256, 784]), torch.Size([256, 1]))"
            ]
          },
          "metadata": {},
          "execution_count": 328
        }
      ]
    },
    {
      "cell_type": "markdown",
      "metadata": {
        "id": "fOrlNIAy1FDz"
      },
      "source": [
        "NOTE: `first` is a fastai iterator that grabs the first things from an interator. \n",
        "- `xb.shape`: `256` is the batch size, `784` is our images (flattened out);\n",
        "- `yb.shape`: `256` is the batch size, `1` is our label. We have only one label 0 for 3s and 1 for 7s."
      ]
    },
    {
      "cell_type": "markdown",
      "metadata": {
        "id": "kMNmow55ugO9"
      },
      "source": [
        "We'll do the same for the validation set:"
      ]
    },
    {
      "cell_type": "code",
      "metadata": {
        "id": "Hkc4RxSkugO9"
      },
      "source": [
        "# creating a validation dataset\n",
        "valid_dl = DataLoader(valid_dset, batch_size=256)"
      ],
      "execution_count": 329,
      "outputs": []
    },
    {
      "cell_type": "markdown",
      "metadata": {
        "id": "ZmFNs1TYugO_"
      },
      "source": [
        "Let's create a mini-batch of size 4 for testing:"
      ]
    },
    {
      "cell_type": "code",
      "metadata": {
        "id": "cvk8TIVhugO_",
        "colab": {
          "base_uri": "https://localhost:8080/"
        },
        "outputId": "ae749d62-2131-4713-9c41-fad45a024272"
      },
      "source": [
        "# grabbing a batch of size 4 to test\n",
        "batch = train_x[:4]\n",
        "batch.shape"
      ],
      "execution_count": 330,
      "outputs": [
        {
          "output_type": "execute_result",
          "data": {
            "text/plain": [
              "torch.Size([4, 784])"
            ]
          },
          "metadata": {},
          "execution_count": 330
        }
      ]
    },
    {
      "cell_type": "code",
      "metadata": {
        "id": "q_9aJ-OqugPB",
        "colab": {
          "base_uri": "https://localhost:8080/"
        },
        "outputId": "c34d828d-face-44aa-bea2-60641d89170b"
      },
      "source": [
        "# pass the batch through a linear function\n",
        "preds = linear1(batch)\n",
        "# gives the predictions for each of the 4 images\n",
        "preds"
      ],
      "execution_count": 331,
      "outputs": [
        {
          "output_type": "execute_result",
          "data": {
            "text/plain": [
              "tensor([[ -3.0477],\n",
              "        [-15.3721],\n",
              "        [-10.9819],\n",
              "        [ -5.9155]], grad_fn=<AddBackward0>)"
            ]
          },
          "metadata": {},
          "execution_count": 331
        }
      ]
    },
    {
      "cell_type": "code",
      "metadata": {
        "id": "0lskoR8k26LV"
      },
      "source": [
        "linear1??"
      ],
      "execution_count": 332,
      "outputs": []
    },
    {
      "cell_type": "markdown",
      "metadata": {
        "id": "UFqmhuR13AyK"
      },
      "source": [
        "NOTE: `linear1` is a matrix multiplication plus a bias."
      ]
    },
    {
      "cell_type": "code",
      "metadata": {
        "id": "3J_5TjGmugPD",
        "colab": {
          "base_uri": "https://localhost:8080/"
        },
        "outputId": "e404a572-2c1b-438e-fbfa-9ef8b11e5c67"
      },
      "source": [
        "# calculate the loss function for our 4  images\n",
        "loss = mnist_loss(preds, train_y[:4])\n",
        "loss"
      ],
      "execution_count": 333,
      "outputs": [
        {
          "output_type": "execute_result",
          "data": {
            "text/plain": [
              "tensor(0.9880, grad_fn=<MeanBackward0>)"
            ]
          },
          "metadata": {},
          "execution_count": 333
        }
      ]
    },
    {
      "cell_type": "markdown",
      "metadata": {
        "id": "hqPp1W4LugPI"
      },
      "source": [
        "Now we can calculate the gradients:"
      ]
    },
    {
      "cell_type": "code",
      "metadata": {
        "id": "ol8h7Rs7ugPI",
        "colab": {
          "base_uri": "https://localhost:8080/"
        },
        "outputId": "99ffc79a-9d6f-4a01-fd17-08cc59c03163"
      },
      "source": [
        "# calculate the gradients \n",
        "loss.backward()\n",
        "weights.grad.shape,weights.grad.mean(),bias.grad"
      ],
      "execution_count": 334,
      "outputs": [
        {
          "output_type": "execute_result",
          "data": {
            "text/plain": [
              "(torch.Size([784, 1]), tensor(-0.0017), tensor([-0.0115]))"
            ]
          },
          "metadata": {},
          "execution_count": 334
        }
      ]
    },
    {
      "cell_type": "markdown",
      "metadata": {
        "id": "2U3Ckd_e3mqw"
      },
      "source": [
        "The columns are 784 by 1, so in other words, it is a column where every weight has a gradient. It is what's the change in loss for a small change in that parameter. the bias as a gradient has a single number, since the bias is a single number.\n"
      ]
    },
    {
      "cell_type": "markdown",
      "metadata": {
        "id": "7gnP1mhaugPN"
      },
      "source": [
        "Let's take the 3 steps above and put them in a function:"
      ]
    },
    {
      "cell_type": "code",
      "metadata": {
        "id": "N55CTZa6ugPN"
      },
      "source": [
        "def calc_grad(xb, yb, model):\n",
        "    preds = model(xb)\n",
        "    loss = mnist_loss(preds, yb)\n",
        "    loss.backward()"
      ],
      "execution_count": 335,
      "outputs": []
    },
    {
      "cell_type": "markdown",
      "metadata": {
        "id": "0Ku3EUJTugPS"
      },
      "source": [
        "and test it:"
      ]
    },
    {
      "cell_type": "code",
      "metadata": {
        "id": "-bz79KLIugPT",
        "colab": {
          "base_uri": "https://localhost:8080/"
        },
        "outputId": "2260f7fd-d942-45e8-f5dd-12b63440edc9"
      },
      "source": [
        "# first run\n",
        "calc_grad(batch, train_y[:4], linear1)\n",
        "weights.grad.mean(),bias.grad"
      ],
      "execution_count": 336,
      "outputs": [
        {
          "output_type": "execute_result",
          "data": {
            "text/plain": [
              "(tensor(-0.0033), tensor([-0.0230]))"
            ]
          },
          "metadata": {},
          "execution_count": 336
        }
      ]
    },
    {
      "cell_type": "markdown",
      "metadata": {
        "id": "RJ6NaKR1ugPh"
      },
      "source": [
        "But look what happens if we call it twice:"
      ]
    },
    {
      "cell_type": "code",
      "metadata": {
        "id": "GUbhm98ougPh",
        "colab": {
          "base_uri": "https://localhost:8080/"
        },
        "outputId": "def979c6-3630-40b6-a664-089afec5c7cf"
      },
      "source": [
        "# second run\n",
        "calc_grad(batch, train_y[:4], linear1)\n",
        "weights.grad.mean(),bias.grad"
      ],
      "execution_count": 337,
      "outputs": [
        {
          "output_type": "execute_result",
          "data": {
            "text/plain": [
              "(tensor(-0.0050), tensor([-0.0345]))"
            ]
          },
          "metadata": {},
          "execution_count": 337
        }
      ]
    },
    {
      "cell_type": "markdown",
      "metadata": {
        "id": "3foSDyzZugPk"
      },
      "source": [
        "NOTE:  The gradients have changed! The reason for this is that `loss.backward` actually *adds* the gradients of `loss` to any gradients that are currently stored. So, we have to set the current gradients to 0 first:"
      ]
    },
    {
      "cell_type": "code",
      "metadata": {
        "id": "ge_-nxQqugPm"
      },
      "source": [
        "# resetting in place the gradients and bias to 0\n",
        "weights.grad.zero_()\n",
        "bias.grad.zero_();"
      ],
      "execution_count": 338,
      "outputs": []
    },
    {
      "cell_type": "markdown",
      "metadata": {
        "id": "DA8o8pzIugPp"
      },
      "source": [
        "> NOTE: Inplace Operations: Methods in PyTorch whose names end in an underscore modify their objects _in place_. For instance, `bias.zero_()` sets all elements of the tensor `bias` to 0."
      ]
    },
    {
      "cell_type": "code",
      "metadata": {
        "id": "ao2LD88lUshh",
        "colab": {
          "base_uri": "https://localhost:8080/"
        },
        "outputId": "ef0f76cb-da88-4840-bc26-0c7ecef3fbb1"
      },
      "source": [
        "# third run once the gradients and bias are 0\n",
        "calc_grad(batch, train_y[:4], linear1)\n",
        "weights.grad.mean(),bias.grad"
      ],
      "execution_count": 339,
      "outputs": [
        {
          "output_type": "execute_result",
          "data": {
            "text/plain": [
              "(tensor(-0.0017), tensor([-0.0115]))"
            ]
          },
          "metadata": {},
          "execution_count": 339
        }
      ]
    },
    {
      "cell_type": "markdown",
      "metadata": {
        "id": "APNM_YRJugPq"
      },
      "source": [
        "Our only remaining step is to update the weights and biases based on the gradient and learning rate. When we do so, we have to tell PyTorch not to take the gradient of this step too—otherwise things will get very confusing when we try to compute the derivative at the next batch! If we assign to the `data` attribute of a tensor then PyTorch will not take the gradient of that step. Here's our basic training loop for an epoch:"
      ]
    },
    {
      "cell_type": "code",
      "metadata": {
        "id": "4wRzMerKugPq"
      },
      "source": [
        "# Basic training loop for an epoch\n",
        "def train_epoch(model, lr, params):\n",
        "    #loop through the dataloader\n",
        "    for xb,yb in dl:\n",
        "    # calculate the gradient\n",
        "        calc_grad(xb, yb, model)\n",
        "    # update the parameters\n",
        "        for p in params:\n",
        "            p.data -= p.grad*lr\n",
        "            # zero out the gradients for the next time around the loop\n",
        "            p.grad.zero_()"
      ],
      "execution_count": 340,
      "outputs": []
    },
    {
      "cell_type": "markdown",
      "metadata": {
        "id": "5qWoypuLugPr"
      },
      "source": [
        "We also want to check how we're doing, by looking at the accuracy of the validation set. To decide if an output represents a 3 or a 7, we can just check whether it's greater than 0. So our accuracy for each item can be calculated (using broadcasting, so no loops!) with:"
      ]
    },
    {
      "cell_type": "code",
      "metadata": {
        "id": "TK7FmEGNugPs",
        "colab": {
          "base_uri": "https://localhost:8080/"
        },
        "outputId": "0aa7456e-11f7-4b51-a430-f8b950720e78"
      },
      "source": [
        "(preds>0.0).float() == train_y[:4]"
      ],
      "execution_count": 341,
      "outputs": [
        {
          "output_type": "execute_result",
          "data": {
            "text/plain": [
              "tensor([[False],\n",
              "        [False],\n",
              "        [False],\n",
              "        [False]])"
            ]
          },
          "metadata": {},
          "execution_count": 341
        }
      ]
    },
    {
      "cell_type": "markdown",
      "metadata": {
        "id": "L0Pm4g_tugPv"
      },
      "source": [
        "That gives us this function to calculate our validation accuracy:"
      ]
    },
    {
      "cell_type": "code",
      "metadata": {
        "id": "jrWMYLPrugPv"
      },
      "source": [
        "# calculating the batch accuracy - training set\n",
        "def batch_accuracy(xb, yb):\n",
        "    preds = xb.sigmoid()\n",
        "    correct = (preds>0.5) == yb\n",
        "    return correct.float().mean()"
      ],
      "execution_count": 342,
      "outputs": []
    },
    {
      "cell_type": "markdown",
      "metadata": {
        "id": "XrgsZW8kVZaj"
      },
      "source": [
        "NOTE: the value `0.5` corresponds to 0 as per our sigmoid function. `== yb` checking against the actual values."
      ]
    },
    {
      "cell_type": "markdown",
      "metadata": {
        "id": "qXp311XSugP0"
      },
      "source": [
        "We can check it works:"
      ]
    },
    {
      "cell_type": "code",
      "metadata": {
        "id": "5N-0z45DugP0",
        "colab": {
          "base_uri": "https://localhost:8080/"
        },
        "outputId": "8ddb778b-f841-4509-f8c9-c52c24abd596"
      },
      "source": [
        "batch_accuracy(linear1(batch), train_y[:4])"
      ],
      "execution_count": 343,
      "outputs": [
        {
          "output_type": "execute_result",
          "data": {
            "text/plain": [
              "tensor(0.)"
            ]
          },
          "metadata": {},
          "execution_count": 343
        }
      ]
    },
    {
      "cell_type": "markdown",
      "metadata": {
        "id": "4tdD9NCJugP3"
      },
      "source": [
        "and then put the batches together:"
      ]
    },
    {
      "cell_type": "code",
      "metadata": {
        "id": "HxcksrLkugP6"
      },
      "source": [
        "# calculating the batch accuracy - validation set\n",
        "def validate_epoch(model):\n",
        "    accs = [batch_accuracy(model(xb), yb) for xb,yb in valid_dl]\n",
        "    return round(torch.stack(accs).mean().item(), 4) # item rounded to 4 decimals"
      ],
      "execution_count": 344,
      "outputs": []
    },
    {
      "cell_type": "markdown",
      "metadata": {
        "id": "CRoC5S6ctZ7v"
      },
      "source": [
        "NOTE: list comprehension, every batch on the validation set."
      ]
    },
    {
      "cell_type": "code",
      "metadata": {
        "id": "yru-n3CSugP7",
        "colab": {
          "base_uri": "https://localhost:8080/"
        },
        "outputId": "1a414072-3236-47af-fd40-35e1d6e3b06a"
      },
      "source": [
        "validate_epoch(linear1)"
      ],
      "execution_count": 345,
      "outputs": [
        {
          "output_type": "execute_result",
          "data": {
            "text/plain": [
              "0.5151"
            ]
          },
          "metadata": {},
          "execution_count": 345
        }
      ]
    },
    {
      "cell_type": "markdown",
      "metadata": {
        "id": "3WsvLiKJWobE"
      },
      "source": [
        "NOTE:  The accuracy is less than 50% because it is random."
      ]
    },
    {
      "cell_type": "markdown",
      "metadata": {
        "id": "Q86bNGQsugP9"
      },
      "source": [
        "That's our starting point. Let's train for one epoch, and see if the accuracy improves:"
      ]
    },
    {
      "cell_type": "code",
      "metadata": {
        "id": "7QYQgqVsugP9",
        "colab": {
          "base_uri": "https://localhost:8080/"
        },
        "outputId": "0a82cdbd-8caa-4a9b-8b2e-40c23c39a8e9"
      },
      "source": [
        "# training for one epoch\n",
        "lr = 1.\n",
        "params = weights,bias\n",
        "train_epoch(linear1, lr, params)\n",
        "validate_epoch(linear1)"
      ],
      "execution_count": 346,
      "outputs": [
        {
          "output_type": "execute_result",
          "data": {
            "text/plain": [
              "0.6591"
            ]
          },
          "metadata": {},
          "execution_count": 346
        }
      ]
    },
    {
      "cell_type": "markdown",
      "metadata": {
        "id": "G6XTZcEoX6fk"
      },
      "source": [
        "NOTE: after just one epoch, the accuracy has improved!!!"
      ]
    },
    {
      "cell_type": "markdown",
      "metadata": {
        "id": "jKf4bGB6ugP_"
      },
      "source": [
        "Then do a few more:"
      ]
    },
    {
      "cell_type": "code",
      "metadata": {
        "id": "iAMXT4-hugP_",
        "colab": {
          "base_uri": "https://localhost:8080/"
        },
        "outputId": "ff2219b3-025d-4249-fe0e-1aa93dcc600e"
      },
      "source": [
        "# let's repeat the instruction above 20 times\n",
        "for i in range(20):\n",
        "    train_epoch(linear1, lr, params)\n",
        "    print(validate_epoch(linear1), end=' ')"
      ],
      "execution_count": 347,
      "outputs": [
        {
          "output_type": "stream",
          "name": "stdout",
          "text": [
            "0.8529 0.9193 0.9423 0.9501 0.9559 0.9579 0.9603 0.9637 0.9657 0.9676 0.9691 0.9696 0.9706 0.972 0.9725 0.974 0.975 0.974 0.974 0.974 "
          ]
        }
      ]
    },
    {
      "cell_type": "markdown",
      "metadata": {
        "id": "SkG0z80jugQB"
      },
      "source": [
        "NOTE:  Looking good! We're already about at the same accuracy as our \"pixel similarity\" approach, and we've created a general-purpose foundation we can build on. Our next step will be to create an object that will handle the SGD step for us. In PyTorch, it's called an *optimizer*."
      ]
    },
    {
      "cell_type": "markdown",
      "metadata": {
        "id": "7PCQaKbFugQB"
      },
      "source": [
        "### Creating an Optimizer\n",
        "This object will create an SGD step for us using Pytorch optimizer."
      ]
    },
    {
      "cell_type": "markdown",
      "metadata": {
        "id": "9zDimA9vugQC"
      },
      "source": [
        "Because this is such a general foundation, PyTorch provides some useful classes to make it easier to implement. The first thing we can do is replace our `linear1` function with PyTorch's `nn.Linear` module. A *module* is an object of a class that inherits from the PyTorch `nn.Module` class. Objects of this class behave identically to standard Python functions, in that you can call them using parentheses and they will return the activations of a model.\n",
        "\n",
        "`nn.Linear` does the same thing as our `init_params` and `linear` together. It contains both the *weights* and *biases* in a single class. Here's how we replicate our model from the previous section:"
      ]
    },
    {
      "cell_type": "code",
      "metadata": {
        "id": "UGL_xzcEugQC"
      },
      "source": [
        "# creating a linear model with Pytorch\n",
        "# it also initialize our parameters for us.\n",
        "linear_model = nn.Linear(28*28,1)"
      ],
      "execution_count": 348,
      "outputs": []
    },
    {
      "cell_type": "markdown",
      "metadata": {
        "id": "zRY67Ap9aDWN"
      },
      "source": [
        "NOTE: this simple line of code replace our `linear1` function and the `init_params` function.\n",
        "\n",
        "This Pytorch class will create a matrix of size 28x28 and bias of size of 1.  It will also set `requires_grad=True`"
      ]
    },
    {
      "cell_type": "markdown",
      "metadata": {
        "id": "o-CRL6UhugQD"
      },
      "source": [
        "Every PyTorch module knows what parameters it has that can be trained; they are available through the `parameters` method:"
      ]
    },
    {
      "cell_type": "code",
      "metadata": {
        "id": "kYJGo1EUugQD",
        "colab": {
          "base_uri": "https://localhost:8080/"
        },
        "outputId": "b4d7725e-075b-4ad7-eeee-5639f5b831f1"
      },
      "source": [
        "# checking the parameters\n",
        "w,b = linear_model.parameters()\n",
        "w.shape,b.shape"
      ],
      "execution_count": 349,
      "outputs": [
        {
          "output_type": "execute_result",
          "data": {
            "text/plain": [
              "(torch.Size([1, 784]), torch.Size([1]))"
            ]
          },
          "metadata": {},
          "execution_count": 349
        }
      ]
    },
    {
      "cell_type": "markdown",
      "metadata": {
        "id": "F3qJZQGsbOP7"
      },
      "source": [
        "NOTE: it results as 784 weights and 1 bias"
      ]
    },
    {
      "cell_type": "markdown",
      "metadata": {
        "id": "6SwihF4_ugQF"
      },
      "source": [
        "We can use this information to create an optimizer:"
      ]
    },
    {
      "cell_type": "code",
      "metadata": {
        "id": "rJSJ1EBEugQF"
      },
      "source": [
        "# creating an optimizer\n",
        "class BasicOptim:\n",
        "    def __init__(self,params,lr): self.params,self.lr = list(params),lr\n",
        "\n",
        "    def step(self, *args, **kwargs):\n",
        "        for p in self.params: p.data -= p.grad.data * self.lr\n",
        "\n",
        "    def zero_grad(self, *args, **kwargs):\n",
        "        for p in self.params: p.grad = None"
      ],
      "execution_count": 350,
      "outputs": []
    },
    {
      "cell_type": "markdown",
      "metadata": {
        "id": "Si1bywisugQG"
      },
      "source": [
        "We can create our optimizer by passing in the model's parameters:"
      ]
    },
    {
      "cell_type": "code",
      "metadata": {
        "id": "fNzzvC9zugQG"
      },
      "source": [
        "opt = BasicOptim(linear_model.parameters(), lr)"
      ],
      "execution_count": 351,
      "outputs": []
    },
    {
      "cell_type": "markdown",
      "metadata": {
        "id": "N4_bdUKYugQH"
      },
      "source": [
        "Our training loop can now be simplified to:"
      ]
    },
    {
      "cell_type": "code",
      "metadata": {
        "id": "Zx8YbQc3ugQJ"
      },
      "source": [
        "def train_epoch(model):\n",
        "    for xb,yb in dl:\n",
        "        calc_grad(xb, yb, model)\n",
        "        opt.step()\n",
        "        opt.zero_grad()"
      ],
      "execution_count": 352,
      "outputs": []
    },
    {
      "cell_type": "markdown",
      "metadata": {
        "id": "NFCdZd8eugQL"
      },
      "source": [
        "Our validation function doesn't need to change at all:"
      ]
    },
    {
      "cell_type": "code",
      "metadata": {
        "id": "jSpoaxwRugQM",
        "colab": {
          "base_uri": "https://localhost:8080/"
        },
        "outputId": "e78ff523-955b-4607-9820-042f5307da23"
      },
      "source": [
        "validate_epoch(linear_model)"
      ],
      "execution_count": 353,
      "outputs": [
        {
          "output_type": "execute_result",
          "data": {
            "text/plain": [
              "0.4994"
            ]
          },
          "metadata": {},
          "execution_count": 353
        }
      ]
    },
    {
      "cell_type": "markdown",
      "metadata": {
        "id": "fTtqbs5wugQN"
      },
      "source": [
        "Let's put our little training loop in a function, to make things simpler:"
      ]
    },
    {
      "cell_type": "code",
      "metadata": {
        "id": "OMHZaagkugQO"
      },
      "source": [
        "def train_model(model, epochs):\n",
        "    for i in range(epochs):\n",
        "        train_epoch(model)\n",
        "        print(validate_epoch(model), end=' ')"
      ],
      "execution_count": 354,
      "outputs": []
    },
    {
      "cell_type": "markdown",
      "metadata": {
        "id": "KLT9S6cbugQP"
      },
      "source": [
        "The results are the same as in the previous section:"
      ]
    },
    {
      "cell_type": "code",
      "metadata": {
        "id": "DPdsnMC6ugQP",
        "colab": {
          "base_uri": "https://localhost:8080/"
        },
        "outputId": "b6094b47-8ad3-4e2f-efdd-194de861eaeb"
      },
      "source": [
        "# training for a few epochs\n",
        "train_model(linear_model, 20)"
      ],
      "execution_count": 355,
      "outputs": [
        {
          "output_type": "stream",
          "name": "stdout",
          "text": [
            "0.4932 0.8296 0.8413 0.9111 0.9346 0.9472 0.9551 0.9624 0.9653 0.9678 0.9697 0.9712 0.9736 0.9751 0.9761 0.9771 0.9775 0.9785 0.9785 0.979 "
          ]
        }
      ]
    },
    {
      "cell_type": "markdown",
      "metadata": {
        "id": "chGueMYGugQR"
      },
      "source": [
        "NOTE:  fastai provides the `SGD` class which, by default, does the same thing as our `BasicOptim`:"
      ]
    },
    {
      "cell_type": "code",
      "metadata": {
        "id": "_JHpjtRFugQR",
        "colab": {
          "base_uri": "https://localhost:8080/"
        },
        "outputId": "06f30aec-6559-425c-f0cf-7aac25dd0f91"
      },
      "source": [
        "linear_model = nn.Linear(28*28,1)\n",
        "opt = SGD(linear_model.parameters(), lr)\n",
        "train_model(linear_model, 20)"
      ],
      "execution_count": 356,
      "outputs": [
        {
          "output_type": "stream",
          "name": "stdout",
          "text": [
            "0.4932 0.7417 0.8628 0.918 0.9355 0.9497 0.957 0.9638 0.9658 0.9678 0.9707 0.9721 0.9741 0.9751 0.9761 0.9766 0.9775 0.9775 0.978 0.979 "
          ]
        }
      ]
    },
    {
      "cell_type": "markdown",
      "metadata": {
        "id": "vQczytUdugQS"
      },
      "source": [
        "NOTE:  fastai also provides `Learner.fit`, which we can use instead of `train_model`. To create a `Learner` we first need to create a `DataLoaders`, by passing in our training and validation `DataLoader`s:"
      ]
    },
    {
      "cell_type": "code",
      "metadata": {
        "id": "lFXHGNJfugQS"
      },
      "source": [
        "# fastai DataLoaders class\n",
        "dls = DataLoaders(dl, valid_dl)"
      ],
      "execution_count": 357,
      "outputs": []
    },
    {
      "cell_type": "markdown",
      "metadata": {
        "id": "wgpjA8umdDUj"
      },
      "source": [
        "NOTE: now we have a single objects handling all your data, making sure that your training dataset is shuffled and your validation dataset is not shuffled.\n",
        "\n",
        "NB: The validation dataset is not shuffled because it is used to check how well the trained model works on examples it hasn't seen during training, and so it being shuffled is irrelevant. "
      ]
    },
    {
      "cell_type": "markdown",
      "metadata": {
        "id": "PjIoS43gugQT"
      },
      "source": [
        "To create a `Learner` without using an application (such as `cnn_learner`) we need to pass in all the elements that we've created in this chapter: the `DataLoaders`, the model, the optimization function (which will be passed the parameters), the loss function, and optionally any metrics to print:"
      ]
    },
    {
      "cell_type": "code",
      "metadata": {
        "id": "wtIoIO0nugQU"
      },
      "source": [
        "# creating a learner\n",
        "learn = Learner(dls, nn.Linear(28*28,1), opt_func=SGD,\n",
        "                loss_func=mnist_loss, metrics=batch_accuracy)"
      ],
      "execution_count": 358,
      "outputs": []
    },
    {
      "cell_type": "markdown",
      "metadata": {
        "id": "YkM86DJwemhm"
      },
      "source": [
        "NOTE: for the Learner class we will pass:\n",
        "- the dataloader\n",
        "- the model\n",
        "- the optimizer\n",
        "- the loss function\n",
        "- a list of metrics (used on the validation dataset)"
      ]
    },
    {
      "cell_type": "markdown",
      "metadata": {
        "id": "Xx2yIMmaugQV"
      },
      "source": [
        "Now we can call `fit`:"
      ]
    },
    {
      "cell_type": "code",
      "metadata": {
        "id": "mBHnMyHNugQV",
        "colab": {
          "base_uri": "https://localhost:8080/",
          "height": 362
        },
        "outputId": "85f32a65-7942-452d-8ad7-2470ba5106ae"
      },
      "source": [
        "learn.fit(10, lr=lr)"
      ],
      "execution_count": 359,
      "outputs": [
        {
          "output_type": "display_data",
          "data": {
            "text/html": [
              "<table border=\"1\" class=\"dataframe\">\n",
              "  <thead>\n",
              "    <tr style=\"text-align: left;\">\n",
              "      <th>epoch</th>\n",
              "      <th>train_loss</th>\n",
              "      <th>valid_loss</th>\n",
              "      <th>batch_accuracy</th>\n",
              "      <th>time</th>\n",
              "    </tr>\n",
              "  </thead>\n",
              "  <tbody>\n",
              "    <tr>\n",
              "      <td>0</td>\n",
              "      <td>0.637118</td>\n",
              "      <td>0.502373</td>\n",
              "      <td>0.495584</td>\n",
              "      <td>00:00</td>\n",
              "    </tr>\n",
              "    <tr>\n",
              "      <td>1</td>\n",
              "      <td>0.339064</td>\n",
              "      <td>0.303938</td>\n",
              "      <td>0.694308</td>\n",
              "      <td>00:00</td>\n",
              "    </tr>\n",
              "    <tr>\n",
              "      <td>2</td>\n",
              "      <td>0.131899</td>\n",
              "      <td>0.151246</td>\n",
              "      <td>0.865064</td>\n",
              "      <td>00:00</td>\n",
              "    </tr>\n",
              "    <tr>\n",
              "      <td>3</td>\n",
              "      <td>0.062162</td>\n",
              "      <td>0.096416</td>\n",
              "      <td>0.918057</td>\n",
              "      <td>00:00</td>\n",
              "    </tr>\n",
              "    <tr>\n",
              "      <td>4</td>\n",
              "      <td>0.036082</td>\n",
              "      <td>0.072775</td>\n",
              "      <td>0.936703</td>\n",
              "      <td>00:00</td>\n",
              "    </tr>\n",
              "    <tr>\n",
              "      <td>5</td>\n",
              "      <td>0.025637</td>\n",
              "      <td>0.059413</td>\n",
              "      <td>0.950932</td>\n",
              "      <td>00:00</td>\n",
              "    </tr>\n",
              "    <tr>\n",
              "      <td>6</td>\n",
              "      <td>0.021192</td>\n",
              "      <td>0.050878</td>\n",
              "      <td>0.956820</td>\n",
              "      <td>00:00</td>\n",
              "    </tr>\n",
              "    <tr>\n",
              "      <td>7</td>\n",
              "      <td>0.019108</td>\n",
              "      <td>0.045073</td>\n",
              "      <td>0.964181</td>\n",
              "      <td>00:00</td>\n",
              "    </tr>\n",
              "    <tr>\n",
              "      <td>8</td>\n",
              "      <td>0.017972</td>\n",
              "      <td>0.040926</td>\n",
              "      <td>0.965653</td>\n",
              "      <td>00:00</td>\n",
              "    </tr>\n",
              "    <tr>\n",
              "      <td>9</td>\n",
              "      <td>0.017240</td>\n",
              "      <td>0.037836</td>\n",
              "      <td>0.967615</td>\n",
              "      <td>00:00</td>\n",
              "    </tr>\n",
              "  </tbody>\n",
              "</table>"
            ],
            "text/plain": [
              "<IPython.core.display.HTML object>"
            ]
          },
          "metadata": {}
        }
      ]
    },
    {
      "cell_type": "code",
      "metadata": {
        "id": "BYcCLCF8M2WB"
      },
      "source": [
        "??learn.predict"
      ],
      "execution_count": 360,
      "outputs": []
    },
    {
      "cell_type": "markdown",
      "metadata": {
        "id": "QjnsWo8RugQW"
      },
      "source": [
        "As you can see, there's nothing magic about the PyTorch and fastai classes. They are just **convenient pre-packaged pieces** that make your life a bit easier! (They also provide a lot of extra functionality we'll be using in future chapters.)\n",
        "\n",
        "With these classes, we can now replace our linear model with a neural network."
      ]
    },
    {
      "cell_type": "markdown",
      "metadata": {
        "id": "hHrPfu81ugQW"
      },
      "source": [
        "## Adding a Nonlinearity"
      ]
    },
    {
      "cell_type": "markdown",
      "metadata": {
        "id": "qnmiPTPWugQW"
      },
      "source": [
        "So far we have a general procedure for optimizing the parameters of a function, and we have tried it out on a very boring function: a simple linear classifier. A linear classifier is very constrained in terms of what it can do. To make it a bit more complex (and able to handle more tasks), we need to add something nonlinear between two linear classifiers—this is what gives us a neural network.\n",
        "\n",
        "Here is the entire definition of a basic neural network:"
      ]
    },
    {
      "cell_type": "code",
      "metadata": {
        "id": "SwbphOcfugQX"
      },
      "source": [
        "# doing a neural network\n",
        "def simple_net(xb): \n",
        "    res = xb@w1 + b1 # linear classifier\n",
        "    res = res.max(tensor(0.0)) # max function \n",
        "    res = res@w2 + b2 # linear classifier\n",
        "    return res"
      ],
      "execution_count": 361,
      "outputs": []
    },
    {
      "cell_type": "markdown",
      "metadata": {
        "id": "ILhmTBc1jelc"
      },
      "source": [
        "NOTE: A neural network uses **function composition** taking one result of a function and pass it to the next, and so on ... Pytorch does it for us, it is called `nn.Sequential`"
      ]
    },
    {
      "cell_type": "markdown",
      "metadata": {
        "id": "6ZTcd3iLugQY"
      },
      "source": [
        "That's it! All we have in `simple_net` is two linear classifiers with a `max` function between them.\n",
        "\n",
        "Here, `w1` and `w2` are weight tensors, and `b1` and `b2` are bias tensors; that is, parameters that are initially randomly initialized, just like we did in the previous section:"
      ]
    },
    {
      "cell_type": "code",
      "metadata": {
        "id": "B_HnPiQDugQY"
      },
      "source": [
        "# initializing the weights (w1, w2) and the biases (b1, b2)\n",
        "w1 = init_params((28*28,30)) # input 784, output 30\n",
        "b1 = init_params(30)\n",
        "w2 = init_params((30,1)) # input 30, output 1\n",
        "b2 = init_params(1)"
      ],
      "execution_count": 362,
      "outputs": []
    },
    {
      "cell_type": "markdown",
      "metadata": {
        "id": "4FiLZkQIugQb"
      },
      "source": [
        "NOTE1:  The key point about this is that `w1` has 30 output activations (which means that `w2` must have 30 input activations, so they match). That means that the first layer can construct 30 different features, each representing some different mix of pixels. You can change that `30` to anything you like, to make the model more or less complex.\n",
        "\n",
        "NOTE2: That little function `res.max(tensor(0.0))` is called a *rectified linear unit*, also known as ***ReLU***. We think we can all agree that ***rectified linear unit*** sounds pretty fancy and complicated... But actually, there's nothing more to it than `res.max(tensor(0.0))`—in other words, **replace every negative number with a zero**. This tiny function is also available in PyTorch as `F.relu`:"
      ]
    },
    {
      "cell_type": "code",
      "metadata": {
        "id": "OnbyB9HUugQb",
        "colab": {
          "base_uri": "https://localhost:8080/",
          "height": 268
        },
        "outputId": "80cca4ec-d960-4750-80a6-996338fcee16"
      },
      "source": [
        "plot_function(F.relu)"
      ],
      "execution_count": 363,
      "outputs": [
        {
          "output_type": "display_data",
          "data": {
            "image/png": "[encoded data removed]",
            "text/plain": [
              "<Figure size 432x288 with 1 Axes>"
            ]
          },
          "metadata": {
            "needs_background": "light"
          }
        }
      ]
    },
    {
      "cell_type": "markdown",
      "metadata": {
        "id": "sFiIAT_qugQd"
      },
      "source": [
        "> J: There is an enormous amount of jargon in deep learning, including terms like _rectified linear unit_. The vast vast majority of this jargon is no more complicated than can be implemented in a short line of code, as we saw in this example. The reality is that for academics to get their papers published they need to make them sound as impressive and sophisticated as possible. One of the ways that they do that is to introduce jargon. Unfortunately, this has the result that the field ends up becoming far more intimidating and difficult to get into than it should be. You do have to learn the jargon, because otherwise papers and tutorials are not going to mean much to you. But that doesn't mean you have to find the jargon intimidating. Just remember, when you come across a word or phrase that you haven't seen before, it will almost certainly turn to be referring to a very simple concept."
      ]
    },
    {
      "cell_type": "markdown",
      "metadata": {
        "id": "-gpyPYpFugQd"
      },
      "source": [
        "The basic idea is that by using more linear layers, we can have our model do more computation, and therefore model more complex functions. But there's no point just putting one linear layout directly after another one, because when we multiply things together and then add them up multiple times, that could be replaced by multiplying different things together and adding them up just once! That is to say, a series of any number of linear layers in a row can be replaced with a single linear layer with a different set of parameters.\n",
        "\n",
        "But if we put a nonlinear function between them, such as `max`, then this is no longer true. Now each linear layer is actually somewhat decoupled from the other ones, and can do its own useful work. The `max` function is particularly interesting, because it operates as a simple `if` statement."
      ]
    },
    {
      "cell_type": "markdown",
      "metadata": {
        "id": "cGpTxftHugQd"
      },
      "source": [
        "> S: Mathematically, we say the composition of two linear functions is another linear function. So, we can stack as many linear classifiers as we want on top of each other, and without nonlinear functions between them, it will just be the same as one linear classifier."
      ]
    },
    {
      "cell_type": "markdown",
      "metadata": {
        "id": "I2LkJ6RjugQd"
      },
      "source": [
        "NOTE:  Amazingly enough, it can be mathematically proven that **this little function can solve any computable problem to an arbitrarily high level of accuracy**, if you can find the right parameters for `w1` and `w2` and if you make these matrices big enough. For any arbitrarily wiggly function, we can approximate it as a bunch of lines joined together; to make it closer to the wiggly function, we just have to use shorter lines. This is known as the ***universal approximation theorem***. The three lines of code that we have here are known as ***layers***. The first and third are known as ***linear layers***, and the second line of code is known variously as a ***nonlinearity***, or ***activation function***.\n",
        "\n",
        "Just like in the previous section, we can replace this code with something a bit simpler, by taking advantage of PyTorch:"
      ]
    },
    {
      "cell_type": "code",
      "metadata": {
        "id": "EspHi5fUugQf"
      },
      "source": [
        "# our neural net using Pytorch\n",
        "simple_net = nn.Sequential(\n",
        "    nn.Linear(28*28,30),\n",
        "    nn.ReLU(),\n",
        "    nn.Linear(30,1)\n",
        ")"
      ],
      "execution_count": 364,
      "outputs": []
    },
    {
      "cell_type": "markdown",
      "metadata": {
        "id": "yCFq2hHS0oui"
      },
      "source": [
        "NOTE: the first layer has an input of 784 (28x28) and an output of 30. The last layer, after activationn, has a layer of 30 input and 1 output which is our class (0 for 7s and 1 for 3s)"
      ]
    },
    {
      "cell_type": "markdown",
      "metadata": {
        "id": "RwQ91N42ugQg"
      },
      "source": [
        "`nn.Sequential` creates a module that will call each of the listed layers or functions in turn.\n",
        "\n",
        "`nn.ReLU` is a PyTorch module that does exactly the same thing as the `F.relu` function. Most functions that can appear in a model also have identical forms that are modules. Generally, it's just a case of replacing `F` with `nn` and changing the capitalization. When using `nn.Sequential`, PyTorch requires us to use the module version. Since modules are classes, we have to instantiate them, which is why you see `nn.ReLU()` in this example. \n",
        "\n",
        "Because `nn.Sequential` is a module, we can get its parameters, which will return a list of all the parameters of all the modules it contains. Let's try it out! **As this is a deeper model, we'll use a lower learning rate and a few more epochs**."
      ]
    },
    {
      "cell_type": "code",
      "metadata": {
        "id": "Sjtx3iitugQg"
      },
      "source": [
        "# creating a learner\n",
        "learn = Learner(dls, simple_net, opt_func=SGD,\n",
        "                loss_func=mnist_loss, metrics=batch_accuracy)"
      ],
      "execution_count": 365,
      "outputs": []
    },
    {
      "cell_type": "code",
      "metadata": {
        "id": "SZ26NGHrugQl",
        "colab": {
          "base_uri": "https://localhost:8080/",
          "height": 1000
        },
        "outputId": "ae925797-66db-4506-f6f5-f8546f146307"
      },
      "source": [
        "# running the model on 40 epochs with a lr of 0.1\n",
        "learn.fit(40, 0.1)"
      ],
      "execution_count": 366,
      "outputs": [
        {
          "output_type": "display_data",
          "data": {
            "text/html": [
              "<table border=\"1\" class=\"dataframe\">\n",
              "  <thead>\n",
              "    <tr style=\"text-align: left;\">\n",
              "      <th>epoch</th>\n",
              "      <th>train_loss</th>\n",
              "      <th>valid_loss</th>\n",
              "      <th>batch_accuracy</th>\n",
              "      <th>time</th>\n",
              "    </tr>\n",
              "  </thead>\n",
              "  <tbody>\n",
              "    <tr>\n",
              "      <td>0</td>\n",
              "      <td>0.318541</td>\n",
              "      <td>0.416515</td>\n",
              "      <td>0.504416</td>\n",
              "      <td>00:00</td>\n",
              "    </tr>\n",
              "    <tr>\n",
              "      <td>1</td>\n",
              "      <td>0.148386</td>\n",
              "      <td>0.228918</td>\n",
              "      <td>0.802257</td>\n",
              "      <td>00:00</td>\n",
              "    </tr>\n",
              "    <tr>\n",
              "      <td>2</td>\n",
              "      <td>0.081907</td>\n",
              "      <td>0.114638</td>\n",
              "      <td>0.913641</td>\n",
              "      <td>00:00</td>\n",
              "    </tr>\n",
              "    <tr>\n",
              "      <td>3</td>\n",
              "      <td>0.053766</td>\n",
              "      <td>0.077464</td>\n",
              "      <td>0.940137</td>\n",
              "      <td>00:00</td>\n",
              "    </tr>\n",
              "    <tr>\n",
              "      <td>4</td>\n",
              "      <td>0.040746</td>\n",
              "      <td>0.060551</td>\n",
              "      <td>0.955839</td>\n",
              "      <td>00:00</td>\n",
              "    </tr>\n",
              "    <tr>\n",
              "      <td>5</td>\n",
              "      <td>0.034104</td>\n",
              "      <td>0.051094</td>\n",
              "      <td>0.964181</td>\n",
              "      <td>00:00</td>\n",
              "    </tr>\n",
              "    <tr>\n",
              "      <td>6</td>\n",
              "      <td>0.030289</td>\n",
              "      <td>0.045140</td>\n",
              "      <td>0.965653</td>\n",
              "      <td>00:00</td>\n",
              "    </tr>\n",
              "    <tr>\n",
              "      <td>7</td>\n",
              "      <td>0.027810</td>\n",
              "      <td>0.041065</td>\n",
              "      <td>0.966634</td>\n",
              "      <td>00:00</td>\n",
              "    </tr>\n",
              "    <tr>\n",
              "      <td>8</td>\n",
              "      <td>0.026024</td>\n",
              "      <td>0.038098</td>\n",
              "      <td>0.968597</td>\n",
              "      <td>00:00</td>\n",
              "    </tr>\n",
              "    <tr>\n",
              "      <td>9</td>\n",
              "      <td>0.024641</td>\n",
              "      <td>0.035831</td>\n",
              "      <td>0.970069</td>\n",
              "      <td>00:00</td>\n",
              "    </tr>\n",
              "    <tr>\n",
              "      <td>10</td>\n",
              "      <td>0.023520</td>\n",
              "      <td>0.034033</td>\n",
              "      <td>0.970559</td>\n",
              "      <td>00:00</td>\n",
              "    </tr>\n",
              "    <tr>\n",
              "      <td>11</td>\n",
              "      <td>0.022584</td>\n",
              "      <td>0.032564</td>\n",
              "      <td>0.973503</td>\n",
              "      <td>00:00</td>\n",
              "    </tr>\n",
              "    <tr>\n",
              "      <td>12</td>\n",
              "      <td>0.021787</td>\n",
              "      <td>0.031330</td>\n",
              "      <td>0.974975</td>\n",
              "      <td>00:00</td>\n",
              "    </tr>\n",
              "    <tr>\n",
              "      <td>13</td>\n",
              "      <td>0.021096</td>\n",
              "      <td>0.030270</td>\n",
              "      <td>0.975466</td>\n",
              "      <td>00:00</td>\n",
              "    </tr>\n",
              "    <tr>\n",
              "      <td>14</td>\n",
              "      <td>0.020491</td>\n",
              "      <td>0.029344</td>\n",
              "      <td>0.976448</td>\n",
              "      <td>00:00</td>\n",
              "    </tr>\n",
              "    <tr>\n",
              "      <td>15</td>\n",
              "      <td>0.019955</td>\n",
              "      <td>0.028524</td>\n",
              "      <td>0.976448</td>\n",
              "      <td>00:00</td>\n",
              "    </tr>\n",
              "    <tr>\n",
              "      <td>16</td>\n",
              "      <td>0.019475</td>\n",
              "      <td>0.027792</td>\n",
              "      <td>0.976938</td>\n",
              "      <td>00:00</td>\n",
              "    </tr>\n",
              "    <tr>\n",
              "      <td>17</td>\n",
              "      <td>0.019043</td>\n",
              "      <td>0.027132</td>\n",
              "      <td>0.978410</td>\n",
              "      <td>00:00</td>\n",
              "    </tr>\n",
              "    <tr>\n",
              "      <td>18</td>\n",
              "      <td>0.018650</td>\n",
              "      <td>0.026533</td>\n",
              "      <td>0.978410</td>\n",
              "      <td>00:00</td>\n",
              "    </tr>\n",
              "    <tr>\n",
              "      <td>19</td>\n",
              "      <td>0.018291</td>\n",
              "      <td>0.025989</td>\n",
              "      <td>0.979392</td>\n",
              "      <td>00:00</td>\n",
              "    </tr>\n",
              "    <tr>\n",
              "      <td>20</td>\n",
              "      <td>0.017960</td>\n",
              "      <td>0.025491</td>\n",
              "      <td>0.979392</td>\n",
              "      <td>00:00</td>\n",
              "    </tr>\n",
              "    <tr>\n",
              "      <td>21</td>\n",
              "      <td>0.017655</td>\n",
              "      <td>0.025035</td>\n",
              "      <td>0.979392</td>\n",
              "      <td>00:00</td>\n",
              "    </tr>\n",
              "    <tr>\n",
              "      <td>22</td>\n",
              "      <td>0.017372</td>\n",
              "      <td>0.024615</td>\n",
              "      <td>0.979882</td>\n",
              "      <td>00:00</td>\n",
              "    </tr>\n",
              "    <tr>\n",
              "      <td>23</td>\n",
              "      <td>0.017108</td>\n",
              "      <td>0.024228</td>\n",
              "      <td>0.980373</td>\n",
              "      <td>00:00</td>\n",
              "    </tr>\n",
              "    <tr>\n",
              "      <td>24</td>\n",
              "      <td>0.016860</td>\n",
              "      <td>0.023870</td>\n",
              "      <td>0.981354</td>\n",
              "      <td>00:00</td>\n",
              "    </tr>\n",
              "    <tr>\n",
              "      <td>25</td>\n",
              "      <td>0.016627</td>\n",
              "      <td>0.023538</td>\n",
              "      <td>0.981354</td>\n",
              "      <td>00:00</td>\n",
              "    </tr>\n",
              "    <tr>\n",
              "      <td>26</td>\n",
              "      <td>0.016407</td>\n",
              "      <td>0.023229</td>\n",
              "      <td>0.981354</td>\n",
              "      <td>00:00</td>\n",
              "    </tr>\n",
              "    <tr>\n",
              "      <td>27</td>\n",
              "      <td>0.016199</td>\n",
              "      <td>0.022943</td>\n",
              "      <td>0.981354</td>\n",
              "      <td>00:00</td>\n",
              "    </tr>\n",
              "    <tr>\n",
              "      <td>28</td>\n",
              "      <td>0.016002</td>\n",
              "      <td>0.022675</td>\n",
              "      <td>0.981354</td>\n",
              "      <td>00:00</td>\n",
              "    </tr>\n",
              "    <tr>\n",
              "      <td>29</td>\n",
              "      <td>0.015815</td>\n",
              "      <td>0.022425</td>\n",
              "      <td>0.981845</td>\n",
              "      <td>00:00</td>\n",
              "    </tr>\n",
              "    <tr>\n",
              "      <td>30</td>\n",
              "      <td>0.015636</td>\n",
              "      <td>0.022192</td>\n",
              "      <td>0.981845</td>\n",
              "      <td>00:00</td>\n",
              "    </tr>\n",
              "    <tr>\n",
              "      <td>31</td>\n",
              "      <td>0.015466</td>\n",
              "      <td>0.021973</td>\n",
              "      <td>0.981845</td>\n",
              "      <td>00:00</td>\n",
              "    </tr>\n",
              "    <tr>\n",
              "      <td>32</td>\n",
              "      <td>0.015303</td>\n",
              "      <td>0.021768</td>\n",
              "      <td>0.982826</td>\n",
              "      <td>00:00</td>\n",
              "    </tr>\n",
              "    <tr>\n",
              "      <td>33</td>\n",
              "      <td>0.015147</td>\n",
              "      <td>0.021575</td>\n",
              "      <td>0.982336</td>\n",
              "      <td>00:00</td>\n",
              "    </tr>\n",
              "    <tr>\n",
              "      <td>34</td>\n",
              "      <td>0.014998</td>\n",
              "      <td>0.021394</td>\n",
              "      <td>0.982336</td>\n",
              "      <td>00:00</td>\n",
              "    </tr>\n",
              "    <tr>\n",
              "      <td>35</td>\n",
              "      <td>0.014854</td>\n",
              "      <td>0.021223</td>\n",
              "      <td>0.982336</td>\n",
              "      <td>00:00</td>\n",
              "    </tr>\n",
              "    <tr>\n",
              "      <td>36</td>\n",
              "      <td>0.014716</td>\n",
              "      <td>0.021063</td>\n",
              "      <td>0.982826</td>\n",
              "      <td>00:00</td>\n",
              "    </tr>\n",
              "    <tr>\n",
              "      <td>37</td>\n",
              "      <td>0.014583</td>\n",
              "      <td>0.020910</td>\n",
              "      <td>0.982826</td>\n",
              "      <td>00:00</td>\n",
              "    </tr>\n",
              "    <tr>\n",
              "      <td>38</td>\n",
              "      <td>0.014455</td>\n",
              "      <td>0.020766</td>\n",
              "      <td>0.982826</td>\n",
              "      <td>00:00</td>\n",
              "    </tr>\n",
              "    <tr>\n",
              "      <td>39</td>\n",
              "      <td>0.014331</td>\n",
              "      <td>0.020630</td>\n",
              "      <td>0.983317</td>\n",
              "      <td>00:00</td>\n",
              "    </tr>\n",
              "  </tbody>\n",
              "</table>"
            ],
            "text/plain": [
              "<IPython.core.display.HTML object>"
            ]
          },
          "metadata": {}
        }
      ]
    },
    {
      "cell_type": "markdown",
      "metadata": {
        "id": "-A99IE4MugQn"
      },
      "source": [
        "We're not showing the 40 lines of output here to save room; the training process is recorded in `learn.recorder`, with the table of output stored in the `values` attribute, so we can plot the accuracy over training as:"
      ]
    },
    {
      "cell_type": "code",
      "metadata": {
        "id": "G132gnQ1ugQo",
        "colab": {
          "base_uri": "https://localhost:8080/",
          "height": 270
        },
        "outputId": "338a3511-d6ea-4bd4-b59e-7f9022ce1cd8"
      },
      "source": [
        "plt.plot(L(learn.recorder.values).itemgot(2)); #itemgot(2) is the accuracy"
      ],
      "execution_count": 367,
      "outputs": [
        {
          "output_type": "display_data",
          "data": {
            "image/png": "[encoded data removed]",
            "text/plain": [
              "<Figure size 432x288 with 1 Axes>"
            ]
          },
          "metadata": {
            "needs_background": "light"
          }
        }
      ]
    },
    {
      "cell_type": "markdown",
      "metadata": {
        "id": "Zcj-rUsVk0PB"
      },
      "source": [
        "NOTE: the `L` class is a fastai class, it has an `itemgot` method that will get in this case the second item from any row (`batch_accuracy`) and then plot that as shown above to see how the training went.\n",
        "\n",
        "\n"
      ]
    },
    {
      "cell_type": "markdown",
      "metadata": {
        "id": "WlU-GejHugQt"
      },
      "source": [
        "And we can view the final accuracy:"
      ]
    },
    {
      "cell_type": "code",
      "metadata": {
        "id": "zoPsvA-BugQu",
        "colab": {
          "base_uri": "https://localhost:8080/"
        },
        "outputId": "c604b5f9-923d-4cf0-b644-5b1f81a79c99"
      },
      "source": [
        "# checking the final accuracy.\n",
        "learn.recorder.values[-1][2]"
      ],
      "execution_count": 368,
      "outputs": [
        {
          "output_type": "execute_result",
          "data": {
            "text/plain": [
              "0.983316957950592"
            ]
          },
          "metadata": {},
          "execution_count": 368
        }
      ]
    },
    {
      "cell_type": "markdown",
      "metadata": {
        "id": "SDwZceFq9tfG"
      },
      "source": [
        "NOTE: `values[-1][-2] ` It is grabbing the accuracy metric of the last epoch. \n",
        "- [-1] is the last epoch, \n",
        "- [2] is the third item from the learn.fit table that is generated."
      ]
    },
    {
      "cell_type": "markdown",
      "metadata": {
        "id": "CQpwjF_pugQv"
      },
      "source": [
        "NOTE:\n",
        "\n",
        "At this point we have something that is rather magical:\n",
        "\n",
        "1. A function that can solve any problem to any level of accuracy (**the neural network**) given the correct set of parameters\n",
        "1. A way to find the best set of parameters for any function (**stochastic gradient descent**)\n",
        "\n",
        "This is why deep learning can do things which seem rather magical such fantastic things. Believing that this combination of simple techniques can really solve any problem is one of the biggest steps that we find many students have to take. It seems too good to be true—surely things should be more difficult and complicated than this? Our recommendation: try it out! We just tried it on the MNIST dataset and you have seen the results. And since we are doing everything from scratch ourselves (except for calculating the gradients) you know that there is no special magic hiding behind the scenes."
      ]
    },
    {
      "cell_type": "code",
      "metadata": {
        "id": "zEMiz02F1xMj",
        "colab": {
          "base_uri": "https://localhost:8080/",
          "height": 102
        },
        "outputId": "7078f50b-410e-4a68-f4af-9038dca6139a"
      },
      "source": [
        "# Grab a model - seeing the structure of our model\n",
        "m = learn.model\n",
        "\n",
        "# Grab the parameters\n",
        "w, b = m[0].parameters()\n",
        "\n",
        "# reshaping the weight parameter\n",
        "w[0].view(28,28)\n",
        "\n",
        "# plot the weight parameter - let's have a look!\n",
        "show_image(w[0].view(28,28))"
      ],
      "execution_count": 369,
      "outputs": [
        {
          "output_type": "execute_result",
          "data": {
            "text/plain": [
              "<matplotlib.axes._subplots.AxesSubplot at 0x7efc5fd53250>"
            ]
          },
          "metadata": {},
          "execution_count": 369
        },
        {
          "output_type": "display_data",
          "data": {
            "image/png": "[encoded data removed]",
            "text/plain": [
              "<Figure size 72x72 with 1 Axes>"
            ]
          },
          "metadata": {
            "needs_background": "light"
          }
        }
      ]
    },
    {
      "cell_type": "markdown",
      "metadata": {
        "id": "LdIgh-vFugQv"
      },
      "source": [
        "### Going Deeper"
      ]
    },
    {
      "cell_type": "markdown",
      "metadata": {
        "id": "ry3CUMuMugQv"
      },
      "source": [
        "There is no need to stop at just two linear layers. We can add as many as we want, as long as we add a nonlinearity between each pair of linear layers. As you will learn, however, the deeper the model gets, the harder it is to optimize the parameters in practice. Later in this book you will learn about some simple but brilliantly effective techniques for training deeper models.\n",
        "\n",
        "We already know that a single nonlinearity with two linear layers is enough to approximate any function. So why would we use deeper models? The reason is performance. With a deeper model (that is, one with more layers) we do not need to use as many parameters; it turns out that we can use smaller matrices with more layers, and get better results than we would get with larger matrices, and few layers.\n",
        "\n",
        "That means that we can train the model more quickly, and it will take up less memory. In the 1990s researchers were so focused on the universal approximation theorem that very few were experimenting with more than one nonlinearity. This theoretical but not practical foundation held back the field for years. Some researchers, however, did experiment with deep models, and eventually were able to show that these models could perform much better in practice. Eventually, theoretical results were developed which showed why this happens. Today, it is extremely unusual to find anybody using a neural network with just one nonlinearity.\n",
        "\n",
        "Here what happens when we train an 18-layer model using the same approach we saw in <<chapter_intro>>:"
      ]
    },
    {
      "cell_type": "code",
      "metadata": {
        "id": "ZDrWLQsmugQw",
        "colab": {
          "base_uri": "https://localhost:8080/",
          "height": 81
        },
        "outputId": "02604e6a-e211-4340-e1fc-7078ee305547"
      },
      "source": [
        "# using the full fastai toolkit!\n",
        "dls = ImageDataLoaders.from_folder(path)\n",
        "learn = cnn_learner(dls, resnet18, pretrained=False,\n",
        "                    loss_func=F.cross_entropy, metrics=accuracy)\n",
        "learn.fit_one_cycle(1, 0.1)"
      ],
      "execution_count": 370,
      "outputs": [
        {
          "output_type": "display_data",
          "data": {
            "text/html": [
              "<table border=\"1\" class=\"dataframe\">\n",
              "  <thead>\n",
              "    <tr style=\"text-align: left;\">\n",
              "      <th>epoch</th>\n",
              "      <th>train_loss</th>\n",
              "      <th>valid_loss</th>\n",
              "      <th>accuracy</th>\n",
              "      <th>time</th>\n",
              "    </tr>\n",
              "  </thead>\n",
              "  <tbody>\n",
              "    <tr>\n",
              "      <td>0</td>\n",
              "      <td>0.123434</td>\n",
              "      <td>0.021173</td>\n",
              "      <td>0.996075</td>\n",
              "      <td>00:14</td>\n",
              "    </tr>\n",
              "  </tbody>\n",
              "</table>"
            ],
            "text/plain": [
              "<IPython.core.display.HTML object>"
            ]
          },
          "metadata": {}
        }
      ]
    },
    {
      "cell_type": "markdown",
      "metadata": {
        "id": "eH5XkcQinz92"
      },
      "source": [
        "NOTE:  using all the tricks and more we can get better results in one epoch."
      ]
    },
    {
      "cell_type": "markdown",
      "metadata": {
        "id": "ZiUBrp67ugQx"
      },
      "source": [
        "Nearly 100% accuracy! That's a big difference compared to our simple neural net. But as you'll learn in the remainder of this book, there are just a few little tricks you need to use to get such great results from scratch yourself. You already know the key foundational pieces. (Of course, even once you know all the tricks, you'll nearly always want to work with the pre-built classes provided by PyTorch and fastai, because they save you having to think about all the little details yourself.)"
      ]
    },
    {
      "cell_type": "markdown",
      "metadata": {
        "id": "8a9G3KXkugQz"
      },
      "source": [
        "## Jargon Recap"
      ]
    },
    {
      "cell_type": "markdown",
      "metadata": {
        "id": "I0oV9pYgugQz"
      },
      "source": [
        "Congratulations: you now know how to create and train a deep neural network from scratch! We've gone through quite a few steps to get to this point, but you might be surprised at how simple it really is.\n",
        "\n",
        "Now that we are at this point, it is a good opportunity to define, and review, some jargon and key concepts.\n",
        "\n",
        "A neural network contains a lot of numbers, but they are only of two types: numbers that are calculated, and the parameters that these numbers are calculated from. This gives us the two most important pieces of jargon to learn:\n",
        "\n",
        "- Activations:: Numbers that are calculated (both by linear and nonlinear layers)\n",
        "- Parameters:: Numbers that are randomly initialized, and optimized (that is, the numbers that define the model)\n",
        "\n",
        "We will often talk in this book about activations and parameters. Remember that they have very specific meanings. They are numbers. They are not abstract concepts, but they are actual specific numbers that are in your model. Part of becoming a good deep learning practitioner is getting used to the idea of actually looking at your activations and parameters, and plotting them and testing whether they are behaving correctly.\n",
        "\n",
        "Our activations and parameters are all contained in *tensors*. These are simply regularly shaped arrays—for example, a matrix. Matrices have rows and columns; we call these the *axes* or *dimensions*. The number of dimensions of a tensor is its *rank*. There are some special tensors:\n",
        "\n",
        "- Rank zero: scalar\n",
        "- Rank one: vector\n",
        "- Rank two: matrix\n",
        "\n",
        "A neural network contains a number of layers. Each layer is either *linear* or *nonlinear*. We generally alternate between these two kinds of layers in a neural network. Sometimes people refer to both a linear layer and its subsequent nonlinearity together as a single layer. Yes, this is confusing. Sometimes a nonlinearity is referred to as an *activation function*.\n",
        "\n",
        "<<dljargon1>> summarizes the key concepts related to SGD.\n",
        "\n",
        "```asciidoc\n",
        "[[dljargon1]]\n",
        ".Deep learning vocabulary\n",
        "[options=\"header\"]\n",
        "|=====\n",
        "| Term | Meaning\n",
        "|ReLU | Function that returns 0 for negative numbers and doesn't change positive numbers.\n",
        "|Mini-batch | A small group of inputs and labels gathered together in two arrays. A gradient descent step is updated on this batch (rather than a whole epoch).\n",
        "|Forward pass | Applying the model to some input and computing the predictions.\n",
        "|Loss | A value that represents how well (or badly) our model is doing.\n",
        "|Gradient | The derivative of the loss with respect to some parameter of the model.\n",
        "|Backard pass | Computing the gradients of the loss with respect to all model parameters.\n",
        "|Gradient descent | Taking a step in the directions opposite to the gradients to make the model parameters a little bit better.\n",
        "|Learning rate | The size of the step we take when applying SGD to update the parameters of the model.\n",
        "|=====\n",
        "```"
      ]
    },
    {
      "cell_type": "markdown",
      "metadata": {
        "id": "lKWQiN6_ugQz"
      },
      "source": [
        "> note: _Choose Your Own Adventure_ Reminder: Did you choose to skip over chapters 2 & 3, in your excitement to peek under the hood? Well, here's your reminder to head back to chapter 2 now, because you'll be needing to know that stuff very soon!"
      ]
    },
    {
      "cell_type": "markdown",
      "metadata": {
        "id": "7hYxsSHZugQ0"
      },
      "source": [
        "## Questionnaire"
      ]
    },
    {
      "cell_type": "markdown",
      "metadata": {
        "id": "UMcOVa8-ugQ0"
      },
      "source": [
        "1. How is a grayscale image represented on a computer? How about a color image?\n",
        "> Images are represented by arrays with pixel values representing the content of the image. For greyscale images, a 2-dimensional array is used with the pixels representing the greyscale values, with a range of 256 integers. A value of 0 would represent white, and a value of 255 represents black, and different shades of greyscale in between. For color images, three color channels (red, green, blue) are typicall used, with a separate 256-range 2D array used for each channel. A pixel value of 0 again represents white, with 255 representing solid red, green, or blue. The three 2-D arrays form a final 3-D array (rank 3 tensor) representing the color image.\n",
        "1. How are the files and folders in the `MNIST_SAMPLE` dataset structured? Why?\n",
        "There are two subfolders, train and valid, the former contains the data for model training, the latter contains the data for validating model performance after each training step. Evaluating the model on the validation set serves two purposes: a) to report a human-interpretable metric such as accuracy (in contrast to the often abstract loss functions used for training), b) to facilitate the detection of overfitting by evaluating the model on a dataset it hasn’t been trained on (in short, an overfitting model performs increasingly well on the training set but decreasingly so on the validation set). Of course, every practicioner could generate their own train/validation-split of the data. Public datasets are usually pre-split to simplifiy comparing results between implementations/publications.\n",
        "\n",
        "Each subfolder has two subsubfolders 3 and 7 which contain the .jpg files for the respective class of images. This is a common way of organizing datasets comprised of pictures. For the full MNIST dataset there are 10 subsubfolders, one for the images for each digit.\n",
        "1. Explain how the \"pixel similarity\" approach to classifying digits works.\n",
        "> In the “pixel similarity” approach, we generate an archetype for each class we want to identify. In our case, we want to distinguish images of 3’s from images of 7’s. We define the archetypical 3 as the pixel-wise mean value of all 3’s in the training set. Analoguously for the 7’s. You can visualize the two archetypes and see that they are in fact blurred versions of the numbers they represent.\n",
        "In order to tell if a previously unseen image is a 3 or a 7, we calculate its distance to the two archetypes (here: mean pixel-wise absolute difference). We say the new image is a 3 if its distance to the archetypical 3 is lower than two the archetypical 7.\n",
        "1. What is a list comprehension? Create one now that selects odd numbers from a list and doubles them.\n",
        "> Lists (arrays in other programming languages) are often generated using a for-loop. A list comprehension is a Pythonic way of condensing the creation of a list using a for-loop into a single expression. List comprehensions will also often include if clauses for filtering.\n",
        "\n",
        "```lst_in = range(10)\n",
        "lst_out = [2*el for el in lst_in if el%2==1]```\n",
        "\n",
        "```# is equivalent to:\n",
        "lst_out = []\n",
        "for el in lst_in:\n",
        "   if el%2==1:\n",
        "       lst_out.append(2*el)```\n",
        "```\n",
        "\n",
        "\n",
        "1. What is a \"rank-3 tensor\"?\n",
        "> The rank of a tensor is the number of dimensions it has. An easy way to identify the rank is the number of indices you would need to reference a number within a tensor. A scalar can be represented as a tensor of rank 0 (no index), a vector can be represented as a tensor of rank 1 (one index, e.g., v[i]), a matrix can be represented as a tensor of rank 2 (two indices, e.g., a[i,j]), and a tensor of rank 3 is a cuboid or a “stack of matrices” (three indices, e.g., b[i,j,k]). In particular, the rank of a tensor is independent of its shape or dimensionality, e.g., a tensor of shape 2x2x2 and a tensor of shape 3x5x7 both have rank 3.\n",
        "Note that the term “rank” has different meanings in the context of tensors and matrices (where it refers to the number of linearly independent column vectors).\n",
        "1. What is the difference between tensor rank and shape? How do you get the rank from the shape?\n",
        "> Rank is the number of axes or dimensions in a tensor; shape is the size of each axis of a tensor.\n",
        "1. What are RMSE and L1 norm?\n",
        "> Root mean square error (RMSE), also called the L2 norm, and mean absolute difference (MAE), also called the L1 norm, are two commonly used methods of measuring “distance”. Simple differences do not work because some difference are positive and others are negative, canceling each other out. Therefore, a function that focuses on the magnitudes of the differences is needed to properly measure distances. The simplest would be to add the absolute values of the differences, which is what MAE is. RMSE takes the mean of the square (makes everything positive) and then takes the square root (undoes squaring).\n",
        "1. How can you apply a calculation on thousands of numbers at once, many thousands of times faster than a Python loop?\n",
        "> As loops are very slow in Python, it is best to represent the operations as array operations rather than looping through individual elements. If this can be done, then using NumPy or PyTorch will be thousands of times faster, as they use underlying C code which is much faster than pure Python. Even better, PyTorch allows you to run operations on GPU, which will have significant speedup if there are parallel operations that can be done.\n",
        "1. Create a 3×3 tensor or array containing the numbers from 1 to 9. Double it. Select the bottom-right four numbers.\n",
        "> ```\n",
        "In [ ]: a = torch.Tensor(list(range(1,10))).view(3,3); print(a)\n",
        "Out [ ]: tensor([[1., 2., 3.],\n",
        "                     [4., 5., 6.],\n",
        "                     [7., 8., 9.]])\n",
        "In [ ]: b = 2*a; print(b)\n",
        "Out [ ]: tensor([[ 2.,  4.,  6.],\n",
        "                     [ 8., 10., 12.],\n",
        "                     [14., 16., 18.]])\n",
        "In [ ]:  b[1:,1:]```\n",
        "Out []: tensor([[10., 12.],\n",
        "                [16., 18.]])```\n",
        "\n",
        "\n",
        "1. What is broadcasting?\n",
        "> Scientific/numerical Python packages like NumPy and PyTorch will often implement broadcasting that often makes code easier to write. In the case of PyTorch, tensors with smaller rank are expanded to have the same size as the larger rank tensor. In this way, operations can be performed between tensors with different rank.\n",
        "1. Are metrics generally calculated using the training set, or the validation set? Why?\n",
        "> Metrics are generally calculated on a validation set. As the validation set is unseen data for the model, evaluating the metrics on the validation set is better in order to determine if there is any overfitting and how well the model might generalize if given similar data.\n",
        "1. What is SGD?\n",
        "> SGD, or stochastic gradient descent, is an optimization algorithm. Specifically, SGD is an algorithm that will update the parameters of a model in order to minimize a given loss function that was evaluated on the predictions and target. The key idea behind SGD (and many optimization algorithms, for that matter) is that the gradient of the loss function provides an indication of how that loss function changes in the parameter space, which we can use to determine how best to update the parameters in order to minimize the loss function. This is what SGD does.\n",
        "1. Why does SGD use mini-batches?\n",
        "> We need to calculate our loss function (and our gradient) on one or more data points. We cannot calculate on the whole datasets due to compute limitations and time constraints. If we iterated through each data point, however, the gradient will be unstable and imprecise, and is not suitable for training. As a compromise, we calculate the average loss for a small subset of the dataset at a time. This subset is called a mini-batch. Using mini-batches are also more computationally efficient than single items on a GPU.\n",
        "1. What are the seven steps in SGD for machine learning?\n",
        "> 1. Initialize the parameters – Random values often work best.\n",
        "> 2. Calculate the predictions – This is done on the training set, one mini-batch at a time.\n",
        "> 3. Calculate the loss – The average loss over the minibatch is calculated\n",
        "> 4. Calculate the gradients – this is an approximation of how the parameters need to change in order to minimize the loss function\n",
        "> 5. Step the weights – update the parameters based on the calculated weights\n",
        "> 6. Repeat the process\n",
        "> 7. Stop – In practice, this is either based on time constraints or usually based on when the training/validation losses and metrics stop improving.\n",
        "1. How do we initialize the weights in a model?\n",
        "> Random weights work pretty well.\n",
        "1. What is \"loss\"?\n",
        "> The loss function will return a value based on the given predictions and targets, where lower values correspond to better model predictions.\n",
        "1. Why can't we always use a high learning rate?\n",
        "> The loss may “bounce” around (oscillate) or even diverge, as the optimizer is taking steps that are too large, and updating the parameters faster than it should be.\n",
        "1. What is a \"gradient\"?\n",
        "> The gradients tell us how much we have to change each weight to make our model better. It is essentially a measure of how the loss function changes with changes of the weights of the model (the derivative).\n",
        "1. Do you need to know how to calculate gradients yourself?\n",
        "> Manual calculation of the gradients are not required, as deep learning libraries will automatically calculate the gradients for you. This feature is known as automatic differentiation. In PyTorch, if requires_grad=True, the gradients can be returned by calling the backward method: a.backward()\n",
        "1. Why can't we use accuracy as a loss function?\n",
        "> A loss function needs to change as the weights are being adjusted. Accuracy only changes if the predictions of the model change. So if there are slight changes to the model that, say, improves confidence in a prediction, but does not change the prediction, the accuracy will still not change. Therefore, the gradients will be zero everywhere except when the actual predictions change. The model therefore cannot learn from the gradients equal to zero, and the model’s weights will not update and will not train. A good loss function gives a slightly better loss when the model gives slightly better predictions. Slightly better predictions mean if the model is more confident about the correct prediction. For example, predicting 0.9 vs 0.7 for probability that a MNIST image is a 3 would be slightly better prediction. The loss function needs to reflect that.\n",
        "1. Draw the sigmoid function. What is special about its shape?\n",
        "> Sigmoid function is a smooth curve that squishes all values into values between 0 and 1. Most loss functions assume that the model is outputting some form of a probability or confidence level between 0 and 1 so we use a sigmoid function at the end of the model in order to do this.\n",
        "1. What is the difference between a loss function and a metric?\n",
        "> The key difference is that metrics drive human understanding and losses drive automated learning. In order for loss to be useful for training, it needs to have a meaningful derivative. Many metrics, like accuracy are not like that. Metrics instead are the numbers that humans care about, that reflect the performance of the model.\n",
        "1. What is the function to calculate new weights using a learning rate?\n",
        "> The optimizer step function\n",
        "1. What does the `DataLoader` class do?\n",
        "> The DataLoader class can take any Python collection and turn it into an iterator over many batches.\n",
        "1. Write pseudocode showing the basic steps taken in each epoch for SGD.\n",
        "> ```for x,y in dl:\n",
        "   pred = model(x)\n",
        "   loss = loss_func(pred, y)\n",
        "   loss.backward()\n",
        "   parameters -= parameters.grad * lr```\n",
        "\n",
        "1. Create a function that, if passed two arguments `[1,2,3,4]` and `'abcd'`, returns `[(1, 'a'), (2, 'b'), (3, 'c'), (4, 'd')]`. What is special about that output data structure?\n",
        "> ```def func(a,b): return list(zip(a,b))```\n",
        "> This data structure is useful for machine learning models when you need lists of tuples where each tuple would contain input data and a label.\n",
        "1. What does `view` do in PyTorch?\n",
        "> It changes the shape of a Tensor without changing its contents.\n",
        "1. What are the \"bias\" parameters in a neural network? Why do we need them?\n",
        "> Without the bias parameters, if the input is zero, the output will always be zero. Therefore, using bias parameters adds additional flexibility to the model.\n",
        "1. What does the `@` operator do in Python?\n",
        "> This is the matrix multiplication operator.\n",
        "1. What does the `backward` method do?\n",
        "> This method returns the current gradients.\n",
        "1. Why do we have to zero the gradients?\n",
        "> PyTorch will add the gradients of a variable to any previously stored gradients. If the training loop function is called multiple times, without zeroing the gradients, the gradient of current loss would be added to the previously stored gradient value.\n",
        "1. What information do we have to pass to `Learner`?\n",
        "> We need to pass in the DataLoaders, the model, the optimization function, the loss function, and optionally any metrics to print.\n",
        "1. Show Python or pseudocode for the basic steps of a training loop.\n",
        "> ```def train_epoch(model, lr, params):\n",
        "    for xb,yb in dl:\n",
        "        calc_grad(xb, yb, model)\n",
        "        for p in params:\n",
        "            p.data -= p.grad*lr\n",
        "            p.grad.zero_()\n",
        "for i in range(20):\n",
        "    train_epoch(model, lr, params)```\n",
        "1. What is \"ReLU\"? Draw a plot of it for values from `-2` to `+2`.\n",
        "> ReLU just means “replace any negative numbers with zero”. It is a commonly used activation function.\n",
        "1. What is an \"activation function\"?\n",
        "> The activation function is another function that is part of the neural network, which has the purpose of providing non-linearity to the model. The idea is that without an activation function, we just have multiple linear functions of the form y=mx+b. However, a series of linear layers is equivalent to a single linear layer, so our model can only fit a line to the data. By introducing a non-linearity in between the linear layers, this is no longer true. Each layer is somewhat decoupled from the rest of the layers, and the model can now fit much more complex functions. In fact, it can be mathematically proven that such a model can solve any computable problem to an arbitrarily high accuracy, if the model is large enough with the correct weights. This is known as the universal approximation theorem.\n",
        "1. What's the difference between `F.relu` and `nn.ReLU`?\n",
        "> F.relu is a Python function for the relu activation function. On the other hand, nn.ReLU is a PyTorch module. This means that it is a Python class that can be called as a function in the same way as F.relu.\n",
        "1. The universal approximation theorem shows that any function can be approximated as closely as needed using just one nonlinearity. So why do we normally use more?\n",
        "> There are practical performance benefits to using more than one nonlinearity. We can use a deeper model with less number of parameters, better performance, faster training, and less compute/memory requirements."
      ]
    },
    {
      "cell_type": "markdown",
      "metadata": {
        "id": "Zm5xWnPrugQ1"
      },
      "source": [
        "### Further Research"
      ]
    },
    {
      "cell_type": "markdown",
      "metadata": {
        "id": "GeriQIovugQ2"
      },
      "source": [
        "1. Create your own implementation of `Learner` from scratch, based on the training loop shown in this chapter.\n",
        "1. Complete all the steps in this chapter using the full MNIST datasets (that is, for all digits, not just 3s and 7s). This is a significant project and will take you quite a bit of time to complete! You'll need to do some of your own research to figure out how to overcome some obstacles you'll meet on the way.\n"
      ]
    },
    {
      "cell_type": "code",
      "metadata": {
        "id": "1UOdaX7zugQ2"
      },
      "source": [
        ""
      ],
      "execution_count": 370,
      "outputs": []
    }
  ]
}
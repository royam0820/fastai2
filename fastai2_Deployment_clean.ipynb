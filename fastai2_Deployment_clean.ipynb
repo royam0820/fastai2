{
  "nbformat": 4,
  "nbformat_minor": 0,
  "metadata": {
    "kernelspec": {
      "display_name": "Python 3",
      "language": "python",
      "name": "python3"
    },
    "language_info": {
      "codemirror_mode": {
        "name": "ipython",
        "version": 3
      },
      "file_extension": ".py",
      "mimetype": "text/x-python",
      "name": "python",
      "nbconvert_exporter": "python",
      "pygments_lexer": "ipython3",
      "version": "3.7.6"
    },
    "colab": {
      "name": "fastai2_Deployment_clean.ipynb",
      "provenance": [],
      "collapsed_sections": [],
      "include_colab_link": true
    },
    "widgets": {
      "application/vnd.jupyter.widget-state+json": {
        "f8d864de5caf48b6b5c2831d0de5a332": {
          "model_module": "@jupyter-widgets/controls",
          "model_name": "VBoxModel",
          "state": {
            "_view_name": "VBoxView",
            "_dom_classes": [],
            "_model_name": "VBoxModel",
            "_view_module": "@jupyter-widgets/controls",
            "_model_module_version": "1.5.0",
            "_view_count": null,
            "_view_module_version": "1.5.0",
            "box_style": "",
            "layout": "IPY_MODEL_634448ed041142b798e71ecafd803d6d",
            "_model_module": "@jupyter-widgets/controls",
            "children": [
              "IPY_MODEL_9c88a11e3f004cac8aceff419bd9617b",
              "IPY_MODEL_017e368a3923448bbb9c654c6397eacb",
              "IPY_MODEL_c4fb95bb2c514b7caf685693f4659507",
              "IPY_MODEL_d8a83dd65800461e9e0e6009002f4044"
            ]
          }
        },
        "634448ed041142b798e71ecafd803d6d": {
          "model_module": "@jupyter-widgets/base",
          "model_name": "LayoutModel",
          "state": {
            "_view_name": "LayoutView",
            "grid_template_rows": null,
            "right": null,
            "justify_content": null,
            "_view_module": "@jupyter-widgets/base",
            "overflow": null,
            "_model_module_version": "1.2.0",
            "_view_count": null,
            "flex_flow": null,
            "width": null,
            "min_width": null,
            "border": null,
            "align_items": null,
            "bottom": null,
            "_model_module": "@jupyter-widgets/base",
            "top": null,
            "grid_column": null,
            "overflow_y": null,
            "overflow_x": null,
            "grid_auto_flow": null,
            "grid_area": null,
            "grid_template_columns": null,
            "flex": null,
            "_model_name": "LayoutModel",
            "justify_items": null,
            "grid_row": null,
            "max_height": null,
            "align_content": null,
            "visibility": null,
            "align_self": null,
            "height": null,
            "min_height": null,
            "padding": null,
            "grid_auto_rows": null,
            "grid_gap": null,
            "max_width": null,
            "order": null,
            "_view_module_version": "1.2.0",
            "grid_template_areas": null,
            "object_position": null,
            "object_fit": null,
            "grid_auto_columns": null,
            "margin": null,
            "display": null,
            "left": null
          }
        },
        "9c88a11e3f004cac8aceff419bd9617b": {
          "model_module": "@jupyter-widgets/controls",
          "model_name": "LabelModel",
          "state": {
            "_view_name": "LabelView",
            "style": "IPY_MODEL_f87bd8cd572248299089310f40abef33",
            "_dom_classes": [],
            "description": "",
            "_model_name": "LabelModel",
            "placeholder": "​",
            "_view_module": "@jupyter-widgets/controls",
            "_model_module_version": "1.5.0",
            "value": "Select your bear!",
            "_view_count": null,
            "_view_module_version": "1.5.0",
            "description_tooltip": null,
            "_model_module": "@jupyter-widgets/controls",
            "layout": "IPY_MODEL_f53797d76f2c4b8d9b1c5ca9325e7af6"
          }
        },
        "017e368a3923448bbb9c654c6397eacb": {
          "model_module": "@jupyter-widgets/controls",
          "model_name": "FileUploadModel",
          "state": {
            "_view_name": "FileUploadView",
            "_counter": 2,
            "style": "IPY_MODEL_8272f8a8830c4d709850a7cceeea17eb",
            "_dom_classes": [],
            "description": "Upload",
            "multiple": false,
            "_model_name": "FileUploadModel",
            "data": [
              null
            ],
            "button_style": "",
            "_view_module": "@jupyter-widgets/controls",
            "_model_module_version": "1.5.0",
            "accept": "",
            "_view_count": null,
            "disabled": false,
            "_view_module_version": "1.5.0",
            "error": "",
            "description_tooltip": null,
            "metadata": [
              {
                "name": "cute_teddy_bear.jpeg",
                "type": "image/jpeg",
                "size": 9627,
                "lastModified": 1594468561950
              }
            ],
            "_model_module": "@jupyter-widgets/controls",
            "layout": "IPY_MODEL_21ac7295e7b34c79b48512758f64d8c3",
            "icon": "upload"
          }
        },
        "c4fb95bb2c514b7caf685693f4659507": {
          "model_module": "@jupyter-widgets/output",
          "model_name": "OutputModel",
          "state": {
            "_view_name": "OutputView",
            "msg_id": "",
            "_dom_classes": [],
            "_model_name": "OutputModel",
            "outputs": [
              {
                "output_type": "display_data",
                "metadata": {
                  "tags": []
                },
                "image/png": "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\n",
                "text/plain": "<PIL.Image.Image image mode=RGB size=128x83 at 0x7F8686033F28>"
              }
            ],
            "_view_module": "@jupyter-widgets/output",
            "_model_module_version": "1.0.0",
            "_view_count": null,
            "_view_module_version": "1.0.0",
            "layout": "IPY_MODEL_d878a60e65594b2cb4534af0a9d2bac9",
            "_model_module": "@jupyter-widgets/output"
          }
        },
        "d8a83dd65800461e9e0e6009002f4044": {
          "model_module": "@jupyter-widgets/controls",
          "model_name": "LabelModel",
          "state": {
            "_view_name": "LabelView",
            "style": "IPY_MODEL_aad1948ac75c42458e7d1345b4805fcf",
            "_dom_classes": [],
            "description": "",
            "_model_name": "LabelModel",
            "placeholder": "​",
            "_view_module": "@jupyter-widgets/controls",
            "_model_module_version": "1.5.0",
            "value": "Prediction: teddy; Probability: 1.0000",
            "_view_count": null,
            "_view_module_version": "1.5.0",
            "description_tooltip": null,
            "_model_module": "@jupyter-widgets/controls",
            "layout": "IPY_MODEL_ff6e4fc7c8984476a604edca9c726477"
          }
        },
        "f87bd8cd572248299089310f40abef33": {
          "model_module": "@jupyter-widgets/controls",
          "model_name": "DescriptionStyleModel",
          "state": {
            "_view_name": "StyleView",
            "_model_name": "DescriptionStyleModel",
            "description_width": "",
            "_view_module": "@jupyter-widgets/base",
            "_model_module_version": "1.5.0",
            "_view_count": null,
            "_view_module_version": "1.2.0",
            "_model_module": "@jupyter-widgets/controls"
          }
        },
        "f53797d76f2c4b8d9b1c5ca9325e7af6": {
          "model_module": "@jupyter-widgets/base",
          "model_name": "LayoutModel",
          "state": {
            "_view_name": "LayoutView",
            "grid_template_rows": null,
            "right": null,
            "justify_content": null,
            "_view_module": "@jupyter-widgets/base",
            "overflow": null,
            "_model_module_version": "1.2.0",
            "_view_count": null,
            "flex_flow": null,
            "width": null,
            "min_width": null,
            "border": null,
            "align_items": null,
            "bottom": null,
            "_model_module": "@jupyter-widgets/base",
            "top": null,
            "grid_column": null,
            "overflow_y": null,
            "overflow_x": null,
            "grid_auto_flow": null,
            "grid_area": null,
            "grid_template_columns": null,
            "flex": null,
            "_model_name": "LayoutModel",
            "justify_items": null,
            "grid_row": null,
            "max_height": null,
            "align_content": null,
            "visibility": null,
            "align_self": null,
            "height": null,
            "min_height": null,
            "padding": null,
            "grid_auto_rows": null,
            "grid_gap": null,
            "max_width": null,
            "order": null,
            "_view_module_version": "1.2.0",
            "grid_template_areas": null,
            "object_position": null,
            "object_fit": null,
            "grid_auto_columns": null,
            "margin": null,
            "display": null,
            "left": null
          }
        },
        "8272f8a8830c4d709850a7cceeea17eb": {
          "model_module": "@jupyter-widgets/controls",
          "model_name": "ButtonStyleModel",
          "state": {
            "_view_name": "StyleView",
            "_model_name": "ButtonStyleModel",
            "_view_module": "@jupyter-widgets/base",
            "_model_module_version": "1.5.0",
            "_view_count": null,
            "button_color": null,
            "font_weight": "",
            "_view_module_version": "1.2.0",
            "_model_module": "@jupyter-widgets/controls"
          }
        },
        "21ac7295e7b34c79b48512758f64d8c3": {
          "model_module": "@jupyter-widgets/base",
          "model_name": "LayoutModel",
          "state": {
            "_view_name": "LayoutView",
            "grid_template_rows": null,
            "right": null,
            "justify_content": null,
            "_view_module": "@jupyter-widgets/base",
            "overflow": null,
            "_model_module_version": "1.2.0",
            "_view_count": null,
            "flex_flow": null,
            "width": null,
            "min_width": null,
            "border": null,
            "align_items": null,
            "bottom": null,
            "_model_module": "@jupyter-widgets/base",
            "top": null,
            "grid_column": null,
            "overflow_y": null,
            "overflow_x": null,
            "grid_auto_flow": null,
            "grid_area": null,
            "grid_template_columns": null,
            "flex": null,
            "_model_name": "LayoutModel",
            "justify_items": null,
            "grid_row": null,
            "max_height": null,
            "align_content": null,
            "visibility": null,
            "align_self": null,
            "height": null,
            "min_height": null,
            "padding": null,
            "grid_auto_rows": null,
            "grid_gap": null,
            "max_width": null,
            "order": null,
            "_view_module_version": "1.2.0",
            "grid_template_areas": null,
            "object_position": null,
            "object_fit": null,
            "grid_auto_columns": null,
            "margin": null,
            "display": null,
            "left": null
          }
        },
        "aad1948ac75c42458e7d1345b4805fcf": {
          "model_module": "@jupyter-widgets/controls",
          "model_name": "DescriptionStyleModel",
          "state": {
            "_view_name": "StyleView",
            "_model_name": "DescriptionStyleModel",
            "description_width": "",
            "_view_module": "@jupyter-widgets/base",
            "_model_module_version": "1.5.0",
            "_view_count": null,
            "_view_module_version": "1.2.0",
            "_model_module": "@jupyter-widgets/controls"
          }
        },
        "ff6e4fc7c8984476a604edca9c726477": {
          "model_module": "@jupyter-widgets/base",
          "model_name": "LayoutModel",
          "state": {
            "_view_name": "LayoutView",
            "grid_template_rows": null,
            "right": null,
            "justify_content": null,
            "_view_module": "@jupyter-widgets/base",
            "overflow": null,
            "_model_module_version": "1.2.0",
            "_view_count": null,
            "flex_flow": null,
            "width": null,
            "min_width": null,
            "border": null,
            "align_items": null,
            "bottom": null,
            "_model_module": "@jupyter-widgets/base",
            "top": null,
            "grid_column": null,
            "overflow_y": null,
            "overflow_x": null,
            "grid_auto_flow": null,
            "grid_area": null,
            "grid_template_columns": null,
            "flex": null,
            "_model_name": "LayoutModel",
            "justify_items": null,
            "grid_row": null,
            "max_height": null,
            "align_content": null,
            "visibility": null,
            "align_self": null,
            "height": null,
            "min_height": null,
            "padding": null,
            "grid_auto_rows": null,
            "grid_gap": null,
            "max_width": null,
            "order": null,
            "_view_module_version": "1.2.0",
            "grid_template_areas": null,
            "object_position": null,
            "object_fit": null,
            "grid_auto_columns": null,
            "margin": null,
            "display": null,
            "left": null
          }
        },
        "d878a60e65594b2cb4534af0a9d2bac9": {
          "model_module": "@jupyter-widgets/base",
          "model_name": "LayoutModel",
          "state": {
            "_view_name": "LayoutView",
            "grid_template_rows": null,
            "right": null,
            "justify_content": null,
            "_view_module": "@jupyter-widgets/base",
            "overflow": null,
            "_model_module_version": "1.2.0",
            "_view_count": null,
            "flex_flow": null,
            "width": null,
            "min_width": null,
            "border": null,
            "align_items": null,
            "bottom": null,
            "_model_module": "@jupyter-widgets/base",
            "top": null,
            "grid_column": null,
            "overflow_y": null,
            "overflow_x": null,
            "grid_auto_flow": null,
            "grid_area": null,
            "grid_template_columns": null,
            "flex": null,
            "_model_name": "LayoutModel",
            "justify_items": null,
            "grid_row": null,
            "max_height": null,
            "align_content": null,
            "visibility": null,
            "align_self": null,
            "height": null,
            "min_height": null,
            "padding": null,
            "grid_auto_rows": null,
            "grid_gap": null,
            "max_width": null,
            "order": null,
            "_view_module_version": "1.2.0",
            "grid_template_areas": null,
            "object_position": null,
            "object_fit": null,
            "grid_auto_columns": null,
            "margin": null,
            "display": null,
            "left": null
          }
        }
      }
    }
  },
  "cells": [
    {
      "cell_type": "markdown",
      "metadata": {
        "id": "view-in-github",
        "colab_type": "text"
      },
      "source": [
        "<a href=\"https://colab.research.google.com/github/royam0820/fastai2-v4/blob/master/fastai2_Deployment_clean.ipynb\" target=\"_parent\"><img src=\"https://colab.research.google.com/assets/colab-badge.svg\" alt=\"Open In Colab\"/></a>"
      ]
    },
    {
      "cell_type": "code",
      "metadata": {
        "id": "YhFj1A_F1eyx",
        "colab_type": "code",
        "colab": {}
      },
      "source": [
        "%reload_ext autoreload\n",
        "%autoreload 2\n",
        "%matplotlib inline"
      ],
      "execution_count": 1,
      "outputs": []
    },
    {
      "cell_type": "code",
      "metadata": {
        "id": "9nxWyYCR1gjY",
        "colab_type": "code",
        "colab": {
          "base_uri": "https://localhost:8080/",
          "height": 51
        },
        "outputId": "6d930f7f-4f35-49e0-bb3a-4090f6293392"
      },
      "source": [
        "#Run once per session in a quiet mode -- less output\n",
        "!pip install fastai2 -q\n",
        "!pip install nbdev -q\n",
        "!pip install utils -q"
      ],
      "execution_count": 2,
      "outputs": [
        {
          "output_type": "stream",
          "text": [
            "\u001b[K     |████████████████████████████████| 194kB 2.9MB/s \n",
            "\u001b[K     |████████████████████████████████| 51kB 1.7MB/s \n",
            "\u001b[?25h"
          ],
          "name": "stdout"
        }
      ]
    },
    {
      "cell_type": "code",
      "metadata": {
        "id": "KoeopLgQ1WRd",
        "colab_type": "code",
        "colab": {}
      },
      "source": [
        "from fastai2.vision.all import *\n",
        "from fastai2.vision.widgets import *"
      ],
      "execution_count": 3,
      "outputs": []
    },
    {
      "cell_type": "code",
      "metadata": {
        "id": "HUIdT8Bc2Vq3",
        "colab_type": "code",
        "colab": {
          "base_uri": "https://localhost:8080/",
          "height": 122
        },
        "outputId": "dacdffe7-ade5-49e6-a45e-2d232ed95159"
      },
      "source": [
        "from google.colab import drive\n",
        "drive.mount('/content/drive')"
      ],
      "execution_count": 10,
      "outputs": [
        {
          "output_type": "stream",
          "text": [
            "Go to this URL in a browser: https://accounts.google.com/o/oauth2/auth?client_id=947318989803-6bn6qk8qdgf4n4g3pfee6491hc0brc4i.apps.googleusercontent.com&redirect_uri=urn%3aietf%3awg%3aoauth%3a2.0%3aoob&response_type=code&scope=email%20https%3a%2f%2fwww.googleapis.com%2fauth%2fdocs.test%20https%3a%2f%2fwww.googleapis.com%2fauth%2fdrive%20https%3a%2f%2fwww.googleapis.com%2fauth%2fdrive.photos.readonly%20https%3a%2f%2fwww.googleapis.com%2fauth%2fpeopleapi.readonly\n",
            "\n",
            "Enter your authorization code:\n",
            "··········\n",
            "Mounted at /content/drive\n"
          ],
          "name": "stdout"
        }
      ]
    },
    {
      "cell_type": "code",
      "metadata": {
        "id": "Fu0Us0M41wik",
        "colab_type": "code",
        "colab": {}
      },
      "source": [
        "# indicate the directory where your exported model (pkl) file is stored.\n",
        "path = Path('/content/drive/My Drive/Colab Notebooks/Pytorch/')"
      ],
      "execution_count": 18,
      "outputs": []
    },
    {
      "cell_type": "code",
      "metadata": {
        "id": "JKW3G-tm3UE9",
        "colab_type": "code",
        "colab": {
          "base_uri": "https://localhost:8080/",
          "height": 34
        },
        "outputId": "e616b4c0-2e2b-4ac4-90f1-b697c035bc1b"
      },
      "source": [
        "path"
      ],
      "execution_count": 19,
      "outputs": [
        {
          "output_type": "execute_result",
          "data": {
            "text/plain": [
              "Path('/content/drive/My Drive/Colab Notebooks/Pytorch')"
            ]
          },
          "metadata": {
            "tags": []
          },
          "execution_count": 19
        }
      ]
    },
    {
      "cell_type": "code",
      "metadata": {
        "id": "nAdLrLph2KtP",
        "colab_type": "code",
        "colab": {
          "base_uri": "https://localhost:8080/",
          "height": 54
        },
        "outputId": "9c4de68e-d0b2-43db-bc00-e57a3d3a9d8d"
      },
      "source": [
        "path.ls()"
      ],
      "execution_count": 12,
      "outputs": [
        {
          "output_type": "execute_result",
          "data": {
            "text/plain": [
              "(#9) [Path('/content/drive/My Drive/Colab Notebooks/Pytorch/pytorch_tutorial-master'),Path('/content/drive/My Drive/Colab Notebooks/Pytorch/Deep-learning-with-PyTorch-video-master'),Path('/content/drive/My Drive/Colab Notebooks/Pytorch/Pythoch - Jeremy Howard'),Path('/content/drive/My Drive/Colab Notebooks/Pytorch/Pytorch - Getting Started.ipynb'),Path('/content/drive/My Drive/Colab Notebooks/Pytorch/Copy of PyTorch CNN MNIST'),Path('/content/drive/My Drive/Colab Notebooks/Pytorch/Copy of [PT Devcon 2019] PyTorch TPU MNIST'),Path('/content/drive/My Drive/Colab Notebooks/Pytorch/Copy of [PT Devcon 2019] PyTorch TPU ResNet18 CIFAR10'),Path('/content/drive/My Drive/Colab Notebooks/Pytorch/Copy of [PT Devcon 2019] PyTorch TPU ResNet50 Inference'),Path('/content/drive/My Drive/Colab Notebooks/Pytorch/export.pkl')]"
            ]
          },
          "metadata": {
            "tags": []
          },
          "execution_count": 12
        }
      ]
    },
    {
      "cell_type": "code",
      "metadata": {
        "id": "DNyieqLh1WRm",
        "colab_type": "code",
        "colab": {}
      },
      "source": [
        "path = Path()\n",
        "# getting the pkl file\n",
        "learn_inf = load_learner(path/'/content/drive/My Drive/Colab Notebooks/Pytorch/export.pkl')"
      ],
      "execution_count": 21,
      "outputs": []
    },
    {
      "cell_type": "code",
      "metadata": {
        "id": "kIxTCVge1WRq",
        "colab_type": "code",
        "colab": {}
      },
      "source": [
        "# widgets definition to do a file upload\n",
        "btn_upload = widgets.FileUpload()\n",
        "out_pl = widgets.Output()\n",
        "lbl_pred = widgets.Label()"
      ],
      "execution_count": 22,
      "outputs": []
    },
    {
      "cell_type": "code",
      "metadata": {
        "id": "yNCxwaiv1WRv",
        "colab_type": "code",
        "colab": {}
      },
      "source": [
        "# button to analyse the selected image and get a prediction\n",
        "def on_click(change):\n",
        "    img = PILImage.create(btn_upload.data[-1])\n",
        "    out_pl.clear_output()\n",
        "    with out_pl: display(img.to_thumb(128,128))\n",
        "    pred,pred_idx,probs = learn_inf.predict(img)\n",
        "    lbl_pred.value = f'Prediction: {pred}; Probability: {probs[pred_idx]:.04f}'"
      ],
      "execution_count": 23,
      "outputs": []
    },
    {
      "cell_type": "code",
      "metadata": {
        "id": "l611kE_F1WRz",
        "colab_type": "code",
        "colab": {}
      },
      "source": [
        "btn_upload.observe(on_click, names=['data'])"
      ],
      "execution_count": 24,
      "outputs": []
    },
    {
      "cell_type": "code",
      "metadata": {
        "id": "jCZKA-9W1WR3",
        "colab_type": "code",
        "colab": {
          "base_uri": "https://localhost:8080/",
          "height": 250,
          "referenced_widgets": [
            "f8d864de5caf48b6b5c2831d0de5a332",
            "634448ed041142b798e71ecafd803d6d",
            "9c88a11e3f004cac8aceff419bd9617b",
            "017e368a3923448bbb9c654c6397eacb",
            "c4fb95bb2c514b7caf685693f4659507",
            "d8a83dd65800461e9e0e6009002f4044",
            "f87bd8cd572248299089310f40abef33",
            "f53797d76f2c4b8d9b1c5ca9325e7af6",
            "8272f8a8830c4d709850a7cceeea17eb",
            "21ac7295e7b34c79b48512758f64d8c3",
            "aad1948ac75c42458e7d1345b4805fcf",
            "ff6e4fc7c8984476a604edca9c726477",
            "d878a60e65594b2cb4534af0a9d2bac9"
          ]
        },
        "outputId": "b4c94a7b-c09e-4194-e9de-88d2a42ff779"
      },
      "source": [
        "display(VBox([widgets.Label('Select your bear!'), btn_upload, out_pl, lbl_pred]))"
      ],
      "execution_count": 25,
      "outputs": [
        {
          "output_type": "display_data",
          "data": {
            "application/vnd.jupyter.widget-view+json": {
              "model_id": "f8d864de5caf48b6b5c2831d0de5a332",
              "version_minor": 0,
              "version_major": 2
            },
            "text/plain": [
              "VBox(children=(Label(value='Select your bear!'), FileUpload(value={}, description='Upload'), Output(), Label(v…"
            ]
          },
          "metadata": {
            "tags": []
          }
        },
        {
          "output_type": "display_data",
          "data": {
            "text/html": [
              ""
            ],
            "text/plain": [
              "<IPython.core.display.HTML object>"
            ]
          },
          "metadata": {
            "tags": []
          }
        },
        {
          "output_type": "stream",
          "text": [
            "/usr/local/lib/python3.6/dist-packages/torch/nn/functional.py:2854: UserWarning: The default behavior for interpolate/upsample with float scale_factor will change in 1.6.0 to align with other frameworks/libraries, and use scale_factor directly, instead of relying on the computed output size. If you wish to keep the old behavior, please set recompute_scale_factor=True. See the documentation of nn.Upsample for details. \n",
            "  warnings.warn(\"The default behavior for interpolate/upsample with float scale_factor will change \"\n"
          ],
          "name": "stderr"
        },
        {
          "output_type": "display_data",
          "data": {
            "text/html": [
              ""
            ],
            "text/plain": [
              "<IPython.core.display.HTML object>"
            ]
          },
          "metadata": {
            "tags": []
          }
        }
      ]
    },
    {
      "cell_type": "code",
      "metadata": {
        "id": "8YHDpbx632j_",
        "colab_type": "code",
        "colab": {}
      },
      "source": [
        ""
      ],
      "execution_count": null,
      "outputs": []
    }
  ]
}
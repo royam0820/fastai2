{
  "nbformat": 4,
  "nbformat_minor": 0,
  "metadata": {
    "colab": {
      "name": "TEST_Camembert_LM&TextClassification.ipynb",
      "provenance": [],
      "collapsed_sections": [],
      "toc_visible": true,
      "mount_file_id": "1LNTR3ennJhVPkRkuADWqthbQMYiC8sGK",
      "authorship_tag": "ABX9TyN5oc643oo1r382/TSRsk/4",
      "include_colab_link": true
    },
    "kernelspec": {
      "name": "python3",
      "display_name": "Python 3"
    },
    "language_info": {
      "name": "python"
    },
    "accelerator": "GPU",
    "widgets": {
      "application/vnd.jupyter.widget-state+json": {
        "50a5b58a4e1c465690f184dc9f9623f3": {
          "model_module": "@jupyter-widgets/controls",
          "model_name": "HBoxModel",
          "state": {
            "_view_name": "HBoxView",
            "_dom_classes": [],
            "_model_name": "HBoxModel",
            "_view_module": "@jupyter-widgets/controls",
            "_model_module_version": "1.5.0",
            "_view_count": null,
            "_view_module_version": "1.5.0",
            "box_style": "",
            "layout": "IPY_MODEL_b6d20c0bb10a4ac5b79a42e3ed9501eb",
            "_model_module": "@jupyter-widgets/controls",
            "children": [
              "IPY_MODEL_79906c6b7ef8463db29dd2ac7fa5d4d3",
              "IPY_MODEL_fb4027fe3e1141e49aff77a6acc65f30"
            ]
          }
        },
        "b6d20c0bb10a4ac5b79a42e3ed9501eb": {
          "model_module": "@jupyter-widgets/base",
          "model_name": "LayoutModel",
          "state": {
            "_view_name": "LayoutView",
            "grid_template_rows": null,
            "right": null,
            "justify_content": null,
            "_view_module": "@jupyter-widgets/base",
            "overflow": null,
            "_model_module_version": "1.2.0",
            "_view_count": null,
            "flex_flow": null,
            "width": null,
            "min_width": null,
            "border": null,
            "align_items": null,
            "bottom": null,
            "_model_module": "@jupyter-widgets/base",
            "top": null,
            "grid_column": null,
            "overflow_y": null,
            "overflow_x": null,
            "grid_auto_flow": null,
            "grid_area": null,
            "grid_template_columns": null,
            "flex": null,
            "_model_name": "LayoutModel",
            "justify_items": null,
            "grid_row": null,
            "max_height": null,
            "align_content": null,
            "visibility": null,
            "align_self": null,
            "height": null,
            "min_height": null,
            "padding": null,
            "grid_auto_rows": null,
            "grid_gap": null,
            "max_width": null,
            "order": null,
            "_view_module_version": "1.2.0",
            "grid_template_areas": null,
            "object_position": null,
            "object_fit": null,
            "grid_auto_columns": null,
            "margin": null,
            "display": null,
            "left": null
          }
        },
        "79906c6b7ef8463db29dd2ac7fa5d4d3": {
          "model_module": "@jupyter-widgets/controls",
          "model_name": "FloatProgressModel",
          "state": {
            "_view_name": "ProgressView",
            "style": "IPY_MODEL_773964a865ea4dbdbac556d354a56b7a",
            "_dom_classes": [],
            "description": "Downloading: 100%",
            "_model_name": "FloatProgressModel",
            "bar_style": "success",
            "max": 810912,
            "_view_module": "@jupyter-widgets/controls",
            "_model_module_version": "1.5.0",
            "value": 810912,
            "_view_count": null,
            "_view_module_version": "1.5.0",
            "orientation": "horizontal",
            "min": 0,
            "description_tooltip": null,
            "_model_module": "@jupyter-widgets/controls",
            "layout": "IPY_MODEL_e13dcbd4cf284ecab6effb1523dd82e5"
          }
        },
        "fb4027fe3e1141e49aff77a6acc65f30": {
          "model_module": "@jupyter-widgets/controls",
          "model_name": "HTMLModel",
          "state": {
            "_view_name": "HTMLView",
            "style": "IPY_MODEL_1a3e659721ce4affbb9d2a2a124b1225",
            "_dom_classes": [],
            "description": "",
            "_model_name": "HTMLModel",
            "placeholder": "​",
            "_view_module": "@jupyter-widgets/controls",
            "_model_module_version": "1.5.0",
            "value": " 811k/811k [00:00&lt;00:00, 874kB/s]",
            "_view_count": null,
            "_view_module_version": "1.5.0",
            "description_tooltip": null,
            "_model_module": "@jupyter-widgets/controls",
            "layout": "IPY_MODEL_100790cd2661486ba1d262be5a64e505"
          }
        },
        "773964a865ea4dbdbac556d354a56b7a": {
          "model_module": "@jupyter-widgets/controls",
          "model_name": "ProgressStyleModel",
          "state": {
            "_view_name": "StyleView",
            "_model_name": "ProgressStyleModel",
            "description_width": "initial",
            "_view_module": "@jupyter-widgets/base",
            "_model_module_version": "1.5.0",
            "_view_count": null,
            "_view_module_version": "1.2.0",
            "bar_color": null,
            "_model_module": "@jupyter-widgets/controls"
          }
        },
        "e13dcbd4cf284ecab6effb1523dd82e5": {
          "model_module": "@jupyter-widgets/base",
          "model_name": "LayoutModel",
          "state": {
            "_view_name": "LayoutView",
            "grid_template_rows": null,
            "right": null,
            "justify_content": null,
            "_view_module": "@jupyter-widgets/base",
            "overflow": null,
            "_model_module_version": "1.2.0",
            "_view_count": null,
            "flex_flow": null,
            "width": null,
            "min_width": null,
            "border": null,
            "align_items": null,
            "bottom": null,
            "_model_module": "@jupyter-widgets/base",
            "top": null,
            "grid_column": null,
            "overflow_y": null,
            "overflow_x": null,
            "grid_auto_flow": null,
            "grid_area": null,
            "grid_template_columns": null,
            "flex": null,
            "_model_name": "LayoutModel",
            "justify_items": null,
            "grid_row": null,
            "max_height": null,
            "align_content": null,
            "visibility": null,
            "align_self": null,
            "height": null,
            "min_height": null,
            "padding": null,
            "grid_auto_rows": null,
            "grid_gap": null,
            "max_width": null,
            "order": null,
            "_view_module_version": "1.2.0",
            "grid_template_areas": null,
            "object_position": null,
            "object_fit": null,
            "grid_auto_columns": null,
            "margin": null,
            "display": null,
            "left": null
          }
        },
        "1a3e659721ce4affbb9d2a2a124b1225": {
          "model_module": "@jupyter-widgets/controls",
          "model_name": "DescriptionStyleModel",
          "state": {
            "_view_name": "StyleView",
            "_model_name": "DescriptionStyleModel",
            "description_width": "",
            "_view_module": "@jupyter-widgets/base",
            "_model_module_version": "1.5.0",
            "_view_count": null,
            "_view_module_version": "1.2.0",
            "_model_module": "@jupyter-widgets/controls"
          }
        },
        "100790cd2661486ba1d262be5a64e505": {
          "model_module": "@jupyter-widgets/base",
          "model_name": "LayoutModel",
          "state": {
            "_view_name": "LayoutView",
            "grid_template_rows": null,
            "right": null,
            "justify_content": null,
            "_view_module": "@jupyter-widgets/base",
            "overflow": null,
            "_model_module_version": "1.2.0",
            "_view_count": null,
            "flex_flow": null,
            "width": null,
            "min_width": null,
            "border": null,
            "align_items": null,
            "bottom": null,
            "_model_module": "@jupyter-widgets/base",
            "top": null,
            "grid_column": null,
            "overflow_y": null,
            "overflow_x": null,
            "grid_auto_flow": null,
            "grid_area": null,
            "grid_template_columns": null,
            "flex": null,
            "_model_name": "LayoutModel",
            "justify_items": null,
            "grid_row": null,
            "max_height": null,
            "align_content": null,
            "visibility": null,
            "align_self": null,
            "height": null,
            "min_height": null,
            "padding": null,
            "grid_auto_rows": null,
            "grid_gap": null,
            "max_width": null,
            "order": null,
            "_view_module_version": "1.2.0",
            "grid_template_areas": null,
            "object_position": null,
            "object_fit": null,
            "grid_auto_columns": null,
            "margin": null,
            "display": null,
            "left": null
          }
        },
        "551e08d33704459eb1a2f0cdb32cd792": {
          "model_module": "@jupyter-widgets/controls",
          "model_name": "HBoxModel",
          "state": {
            "_view_name": "HBoxView",
            "_dom_classes": [],
            "_model_name": "HBoxModel",
            "_view_module": "@jupyter-widgets/controls",
            "_model_module_version": "1.5.0",
            "_view_count": null,
            "_view_module_version": "1.5.0",
            "box_style": "",
            "layout": "IPY_MODEL_c1f0ba046388473390117854effef349",
            "_model_module": "@jupyter-widgets/controls",
            "children": [
              "IPY_MODEL_266856f307a54f02a98c37be9005b8d5",
              "IPY_MODEL_88aa7ebc0a304581b5ffd4f4c8f088d2"
            ]
          }
        },
        "c1f0ba046388473390117854effef349": {
          "model_module": "@jupyter-widgets/base",
          "model_name": "LayoutModel",
          "state": {
            "_view_name": "LayoutView",
            "grid_template_rows": null,
            "right": null,
            "justify_content": null,
            "_view_module": "@jupyter-widgets/base",
            "overflow": null,
            "_model_module_version": "1.2.0",
            "_view_count": null,
            "flex_flow": null,
            "width": null,
            "min_width": null,
            "border": null,
            "align_items": null,
            "bottom": null,
            "_model_module": "@jupyter-widgets/base",
            "top": null,
            "grid_column": null,
            "overflow_y": null,
            "overflow_x": null,
            "grid_auto_flow": null,
            "grid_area": null,
            "grid_template_columns": null,
            "flex": null,
            "_model_name": "LayoutModel",
            "justify_items": null,
            "grid_row": null,
            "max_height": null,
            "align_content": null,
            "visibility": null,
            "align_self": null,
            "height": null,
            "min_height": null,
            "padding": null,
            "grid_auto_rows": null,
            "grid_gap": null,
            "max_width": null,
            "order": null,
            "_view_module_version": "1.2.0",
            "grid_template_areas": null,
            "object_position": null,
            "object_fit": null,
            "grid_auto_columns": null,
            "margin": null,
            "display": null,
            "left": null
          }
        },
        "266856f307a54f02a98c37be9005b8d5": {
          "model_module": "@jupyter-widgets/controls",
          "model_name": "FloatProgressModel",
          "state": {
            "_view_name": "ProgressView",
            "style": "IPY_MODEL_844fca406f4945699701f4d61a2fac12",
            "_dom_classes": [],
            "description": "Downloading: 100%",
            "_model_name": "FloatProgressModel",
            "bar_style": "success",
            "max": 1395301,
            "_view_module": "@jupyter-widgets/controls",
            "_model_module_version": "1.5.0",
            "value": 1395301,
            "_view_count": null,
            "_view_module_version": "1.5.0",
            "orientation": "horizontal",
            "min": 0,
            "description_tooltip": null,
            "_model_module": "@jupyter-widgets/controls",
            "layout": "IPY_MODEL_d707fa6446324b2db18bdff3304fe5e9"
          }
        },
        "88aa7ebc0a304581b5ffd4f4c8f088d2": {
          "model_module": "@jupyter-widgets/controls",
          "model_name": "HTMLModel",
          "state": {
            "_view_name": "HTMLView",
            "style": "IPY_MODEL_0bfd3aa6de2440ffbd256c010b3b0f4e",
            "_dom_classes": [],
            "description": "",
            "_model_name": "HTMLModel",
            "placeholder": "​",
            "_view_module": "@jupyter-widgets/controls",
            "_model_module_version": "1.5.0",
            "value": " 1.40M/1.40M [00:01&lt;00:00, 1.27MB/s]",
            "_view_count": null,
            "_view_module_version": "1.5.0",
            "description_tooltip": null,
            "_model_module": "@jupyter-widgets/controls",
            "layout": "IPY_MODEL_1e6785f615384bba812f553014d3fa53"
          }
        },
        "844fca406f4945699701f4d61a2fac12": {
          "model_module": "@jupyter-widgets/controls",
          "model_name": "ProgressStyleModel",
          "state": {
            "_view_name": "StyleView",
            "_model_name": "ProgressStyleModel",
            "description_width": "initial",
            "_view_module": "@jupyter-widgets/base",
            "_model_module_version": "1.5.0",
            "_view_count": null,
            "_view_module_version": "1.2.0",
            "bar_color": null,
            "_model_module": "@jupyter-widgets/controls"
          }
        },
        "d707fa6446324b2db18bdff3304fe5e9": {
          "model_module": "@jupyter-widgets/base",
          "model_name": "LayoutModel",
          "state": {
            "_view_name": "LayoutView",
            "grid_template_rows": null,
            "right": null,
            "justify_content": null,
            "_view_module": "@jupyter-widgets/base",
            "overflow": null,
            "_model_module_version": "1.2.0",
            "_view_count": null,
            "flex_flow": null,
            "width": null,
            "min_width": null,
            "border": null,
            "align_items": null,
            "bottom": null,
            "_model_module": "@jupyter-widgets/base",
            "top": null,
            "grid_column": null,
            "overflow_y": null,
            "overflow_x": null,
            "grid_auto_flow": null,
            "grid_area": null,
            "grid_template_columns": null,
            "flex": null,
            "_model_name": "LayoutModel",
            "justify_items": null,
            "grid_row": null,
            "max_height": null,
            "align_content": null,
            "visibility": null,
            "align_self": null,
            "height": null,
            "min_height": null,
            "padding": null,
            "grid_auto_rows": null,
            "grid_gap": null,
            "max_width": null,
            "order": null,
            "_view_module_version": "1.2.0",
            "grid_template_areas": null,
            "object_position": null,
            "object_fit": null,
            "grid_auto_columns": null,
            "margin": null,
            "display": null,
            "left": null
          }
        },
        "0bfd3aa6de2440ffbd256c010b3b0f4e": {
          "model_module": "@jupyter-widgets/controls",
          "model_name": "DescriptionStyleModel",
          "state": {
            "_view_name": "StyleView",
            "_model_name": "DescriptionStyleModel",
            "description_width": "",
            "_view_module": "@jupyter-widgets/base",
            "_model_module_version": "1.5.0",
            "_view_count": null,
            "_view_module_version": "1.2.0",
            "_model_module": "@jupyter-widgets/controls"
          }
        },
        "1e6785f615384bba812f553014d3fa53": {
          "model_module": "@jupyter-widgets/base",
          "model_name": "LayoutModel",
          "state": {
            "_view_name": "LayoutView",
            "grid_template_rows": null,
            "right": null,
            "justify_content": null,
            "_view_module": "@jupyter-widgets/base",
            "overflow": null,
            "_model_module_version": "1.2.0",
            "_view_count": null,
            "flex_flow": null,
            "width": null,
            "min_width": null,
            "border": null,
            "align_items": null,
            "bottom": null,
            "_model_module": "@jupyter-widgets/base",
            "top": null,
            "grid_column": null,
            "overflow_y": null,
            "overflow_x": null,
            "grid_auto_flow": null,
            "grid_area": null,
            "grid_template_columns": null,
            "flex": null,
            "_model_name": "LayoutModel",
            "justify_items": null,
            "grid_row": null,
            "max_height": null,
            "align_content": null,
            "visibility": null,
            "align_self": null,
            "height": null,
            "min_height": null,
            "padding": null,
            "grid_auto_rows": null,
            "grid_gap": null,
            "max_width": null,
            "order": null,
            "_view_module_version": "1.2.0",
            "grid_template_areas": null,
            "object_position": null,
            "object_fit": null,
            "grid_auto_columns": null,
            "margin": null,
            "display": null,
            "left": null
          }
        },
        "253cff2afdf945e89d3f60f60f53b3c5": {
          "model_module": "@jupyter-widgets/controls",
          "model_name": "HBoxModel",
          "state": {
            "_view_name": "HBoxView",
            "_dom_classes": [],
            "_model_name": "HBoxModel",
            "_view_module": "@jupyter-widgets/controls",
            "_model_module_version": "1.5.0",
            "_view_count": null,
            "_view_module_version": "1.5.0",
            "box_style": "",
            "layout": "IPY_MODEL_c154e6d56f7a457bba3958fbdc90e848",
            "_model_module": "@jupyter-widgets/controls",
            "children": [
              "IPY_MODEL_7bacf8f1dda04443a1009819d420bb26",
              "IPY_MODEL_47fbdfd35c6440ce82467c5f75e0380b"
            ]
          }
        },
        "c154e6d56f7a457bba3958fbdc90e848": {
          "model_module": "@jupyter-widgets/base",
          "model_name": "LayoutModel",
          "state": {
            "_view_name": "LayoutView",
            "grid_template_rows": null,
            "right": null,
            "justify_content": null,
            "_view_module": "@jupyter-widgets/base",
            "overflow": null,
            "_model_module_version": "1.2.0",
            "_view_count": null,
            "flex_flow": null,
            "width": null,
            "min_width": null,
            "border": null,
            "align_items": null,
            "bottom": null,
            "_model_module": "@jupyter-widgets/base",
            "top": null,
            "grid_column": null,
            "overflow_y": null,
            "overflow_x": null,
            "grid_auto_flow": null,
            "grid_area": null,
            "grid_template_columns": null,
            "flex": null,
            "_model_name": "LayoutModel",
            "justify_items": null,
            "grid_row": null,
            "max_height": null,
            "align_content": null,
            "visibility": null,
            "align_self": null,
            "height": null,
            "min_height": null,
            "padding": null,
            "grid_auto_rows": null,
            "grid_gap": null,
            "max_width": null,
            "order": null,
            "_view_module_version": "1.2.0",
            "grid_template_areas": null,
            "object_position": null,
            "object_fit": null,
            "grid_auto_columns": null,
            "margin": null,
            "display": null,
            "left": null
          }
        },
        "7bacf8f1dda04443a1009819d420bb26": {
          "model_module": "@jupyter-widgets/controls",
          "model_name": "FloatProgressModel",
          "state": {
            "_view_name": "ProgressView",
            "style": "IPY_MODEL_cdadafd00d394dec8b425cb572bae03a",
            "_dom_classes": [],
            "description": "Downloading: 100%",
            "_model_name": "FloatProgressModel",
            "bar_style": "success",
            "max": 508,
            "_view_module": "@jupyter-widgets/controls",
            "_model_module_version": "1.5.0",
            "value": 508,
            "_view_count": null,
            "_view_module_version": "1.5.0",
            "orientation": "horizontal",
            "min": 0,
            "description_tooltip": null,
            "_model_module": "@jupyter-widgets/controls",
            "layout": "IPY_MODEL_4378f65fb46f4917b9c5b891037f7b0d"
          }
        },
        "47fbdfd35c6440ce82467c5f75e0380b": {
          "model_module": "@jupyter-widgets/controls",
          "model_name": "HTMLModel",
          "state": {
            "_view_name": "HTMLView",
            "style": "IPY_MODEL_80a7e482c7754191852ebdb3485ebea4",
            "_dom_classes": [],
            "description": "",
            "_model_name": "HTMLModel",
            "placeholder": "​",
            "_view_module": "@jupyter-widgets/controls",
            "_model_module_version": "1.5.0",
            "value": " 508/508 [00:10&lt;00:00, 49.3B/s]",
            "_view_count": null,
            "_view_module_version": "1.5.0",
            "description_tooltip": null,
            "_model_module": "@jupyter-widgets/controls",
            "layout": "IPY_MODEL_785ab17126674418b1175b3d6ccf2702"
          }
        },
        "cdadafd00d394dec8b425cb572bae03a": {
          "model_module": "@jupyter-widgets/controls",
          "model_name": "ProgressStyleModel",
          "state": {
            "_view_name": "StyleView",
            "_model_name": "ProgressStyleModel",
            "description_width": "initial",
            "_view_module": "@jupyter-widgets/base",
            "_model_module_version": "1.5.0",
            "_view_count": null,
            "_view_module_version": "1.2.0",
            "bar_color": null,
            "_model_module": "@jupyter-widgets/controls"
          }
        },
        "4378f65fb46f4917b9c5b891037f7b0d": {
          "model_module": "@jupyter-widgets/base",
          "model_name": "LayoutModel",
          "state": {
            "_view_name": "LayoutView",
            "grid_template_rows": null,
            "right": null,
            "justify_content": null,
            "_view_module": "@jupyter-widgets/base",
            "overflow": null,
            "_model_module_version": "1.2.0",
            "_view_count": null,
            "flex_flow": null,
            "width": null,
            "min_width": null,
            "border": null,
            "align_items": null,
            "bottom": null,
            "_model_module": "@jupyter-widgets/base",
            "top": null,
            "grid_column": null,
            "overflow_y": null,
            "overflow_x": null,
            "grid_auto_flow": null,
            "grid_area": null,
            "grid_template_columns": null,
            "flex": null,
            "_model_name": "LayoutModel",
            "justify_items": null,
            "grid_row": null,
            "max_height": null,
            "align_content": null,
            "visibility": null,
            "align_self": null,
            "height": null,
            "min_height": null,
            "padding": null,
            "grid_auto_rows": null,
            "grid_gap": null,
            "max_width": null,
            "order": null,
            "_view_module_version": "1.2.0",
            "grid_template_areas": null,
            "object_position": null,
            "object_fit": null,
            "grid_auto_columns": null,
            "margin": null,
            "display": null,
            "left": null
          }
        },
        "80a7e482c7754191852ebdb3485ebea4": {
          "model_module": "@jupyter-widgets/controls",
          "model_name": "DescriptionStyleModel",
          "state": {
            "_view_name": "StyleView",
            "_model_name": "DescriptionStyleModel",
            "description_width": "",
            "_view_module": "@jupyter-widgets/base",
            "_model_module_version": "1.5.0",
            "_view_count": null,
            "_view_module_version": "1.2.0",
            "_model_module": "@jupyter-widgets/controls"
          }
        },
        "785ab17126674418b1175b3d6ccf2702": {
          "model_module": "@jupyter-widgets/base",
          "model_name": "LayoutModel",
          "state": {
            "_view_name": "LayoutView",
            "grid_template_rows": null,
            "right": null,
            "justify_content": null,
            "_view_module": "@jupyter-widgets/base",
            "overflow": null,
            "_model_module_version": "1.2.0",
            "_view_count": null,
            "flex_flow": null,
            "width": null,
            "min_width": null,
            "border": null,
            "align_items": null,
            "bottom": null,
            "_model_module": "@jupyter-widgets/base",
            "top": null,
            "grid_column": null,
            "overflow_y": null,
            "overflow_x": null,
            "grid_auto_flow": null,
            "grid_area": null,
            "grid_template_columns": null,
            "flex": null,
            "_model_name": "LayoutModel",
            "justify_items": null,
            "grid_row": null,
            "max_height": null,
            "align_content": null,
            "visibility": null,
            "align_self": null,
            "height": null,
            "min_height": null,
            "padding": null,
            "grid_auto_rows": null,
            "grid_gap": null,
            "max_width": null,
            "order": null,
            "_view_module_version": "1.2.0",
            "grid_template_areas": null,
            "object_position": null,
            "object_fit": null,
            "grid_auto_columns": null,
            "margin": null,
            "display": null,
            "left": null
          }
        },
        "4006a40449814547be5f66cc162ee4d1": {
          "model_module": "@jupyter-widgets/controls",
          "model_name": "HBoxModel",
          "state": {
            "_view_name": "HBoxView",
            "_dom_classes": [],
            "_model_name": "HBoxModel",
            "_view_module": "@jupyter-widgets/controls",
            "_model_module_version": "1.5.0",
            "_view_count": null,
            "_view_module_version": "1.5.0",
            "box_style": "",
            "layout": "IPY_MODEL_48e7f854d23e4c84b51d3d2f849e2a35",
            "_model_module": "@jupyter-widgets/controls",
            "children": [
              "IPY_MODEL_3e90518e1f25472091aa24c699b4b7ad",
              "IPY_MODEL_dc8f05a7e99740b2a252403d7a3a026d"
            ]
          }
        },
        "48e7f854d23e4c84b51d3d2f849e2a35": {
          "model_module": "@jupyter-widgets/base",
          "model_name": "LayoutModel",
          "state": {
            "_view_name": "LayoutView",
            "grid_template_rows": null,
            "right": null,
            "justify_content": null,
            "_view_module": "@jupyter-widgets/base",
            "overflow": null,
            "_model_module_version": "1.2.0",
            "_view_count": null,
            "flex_flow": null,
            "width": null,
            "min_width": null,
            "border": null,
            "align_items": null,
            "bottom": null,
            "_model_module": "@jupyter-widgets/base",
            "top": null,
            "grid_column": null,
            "overflow_y": null,
            "overflow_x": null,
            "grid_auto_flow": null,
            "grid_area": null,
            "grid_template_columns": null,
            "flex": null,
            "_model_name": "LayoutModel",
            "justify_items": null,
            "grid_row": null,
            "max_height": null,
            "align_content": null,
            "visibility": null,
            "align_self": null,
            "height": null,
            "min_height": null,
            "padding": null,
            "grid_auto_rows": null,
            "grid_gap": null,
            "max_width": null,
            "order": null,
            "_view_module_version": "1.2.0",
            "grid_template_areas": null,
            "object_position": null,
            "object_fit": null,
            "grid_auto_columns": null,
            "margin": null,
            "display": null,
            "left": null
          }
        },
        "3e90518e1f25472091aa24c699b4b7ad": {
          "model_module": "@jupyter-widgets/controls",
          "model_name": "FloatProgressModel",
          "state": {
            "_view_name": "ProgressView",
            "style": "IPY_MODEL_eeebcd6d885c469080a24ca0dd4e087f",
            "_dom_classes": [],
            "description": "Downloading: 100%",
            "_model_name": "FloatProgressModel",
            "bar_style": "success",
            "max": 445032417,
            "_view_module": "@jupyter-widgets/controls",
            "_model_module_version": "1.5.0",
            "value": 445032417,
            "_view_count": null,
            "_view_module_version": "1.5.0",
            "orientation": "horizontal",
            "min": 0,
            "description_tooltip": null,
            "_model_module": "@jupyter-widgets/controls",
            "layout": "IPY_MODEL_0de7ab98eb3344019f9061ca453e5a3f"
          }
        },
        "dc8f05a7e99740b2a252403d7a3a026d": {
          "model_module": "@jupyter-widgets/controls",
          "model_name": "HTMLModel",
          "state": {
            "_view_name": "HTMLView",
            "style": "IPY_MODEL_83a01a46d73b44e98a7bc2d9ee01172d",
            "_dom_classes": [],
            "description": "",
            "_model_name": "HTMLModel",
            "placeholder": "​",
            "_view_module": "@jupyter-widgets/controls",
            "_model_module_version": "1.5.0",
            "value": " 445M/445M [00:09&lt;00:00, 48.4MB/s]",
            "_view_count": null,
            "_view_module_version": "1.5.0",
            "description_tooltip": null,
            "_model_module": "@jupyter-widgets/controls",
            "layout": "IPY_MODEL_f721ecd7b2cc4ea090f85baa61216ebc"
          }
        },
        "eeebcd6d885c469080a24ca0dd4e087f": {
          "model_module": "@jupyter-widgets/controls",
          "model_name": "ProgressStyleModel",
          "state": {
            "_view_name": "StyleView",
            "_model_name": "ProgressStyleModel",
            "description_width": "initial",
            "_view_module": "@jupyter-widgets/base",
            "_model_module_version": "1.5.0",
            "_view_count": null,
            "_view_module_version": "1.2.0",
            "bar_color": null,
            "_model_module": "@jupyter-widgets/controls"
          }
        },
        "0de7ab98eb3344019f9061ca453e5a3f": {
          "model_module": "@jupyter-widgets/base",
          "model_name": "LayoutModel",
          "state": {
            "_view_name": "LayoutView",
            "grid_template_rows": null,
            "right": null,
            "justify_content": null,
            "_view_module": "@jupyter-widgets/base",
            "overflow": null,
            "_model_module_version": "1.2.0",
            "_view_count": null,
            "flex_flow": null,
            "width": null,
            "min_width": null,
            "border": null,
            "align_items": null,
            "bottom": null,
            "_model_module": "@jupyter-widgets/base",
            "top": null,
            "grid_column": null,
            "overflow_y": null,
            "overflow_x": null,
            "grid_auto_flow": null,
            "grid_area": null,
            "grid_template_columns": null,
            "flex": null,
            "_model_name": "LayoutModel",
            "justify_items": null,
            "grid_row": null,
            "max_height": null,
            "align_content": null,
            "visibility": null,
            "align_self": null,
            "height": null,
            "min_height": null,
            "padding": null,
            "grid_auto_rows": null,
            "grid_gap": null,
            "max_width": null,
            "order": null,
            "_view_module_version": "1.2.0",
            "grid_template_areas": null,
            "object_position": null,
            "object_fit": null,
            "grid_auto_columns": null,
            "margin": null,
            "display": null,
            "left": null
          }
        },
        "83a01a46d73b44e98a7bc2d9ee01172d": {
          "model_module": "@jupyter-widgets/controls",
          "model_name": "DescriptionStyleModel",
          "state": {
            "_view_name": "StyleView",
            "_model_name": "DescriptionStyleModel",
            "description_width": "",
            "_view_module": "@jupyter-widgets/base",
            "_model_module_version": "1.5.0",
            "_view_count": null,
            "_view_module_version": "1.2.0",
            "_model_module": "@jupyter-widgets/controls"
          }
        },
        "f721ecd7b2cc4ea090f85baa61216ebc": {
          "model_module": "@jupyter-widgets/base",
          "model_name": "LayoutModel",
          "state": {
            "_view_name": "LayoutView",
            "grid_template_rows": null,
            "right": null,
            "justify_content": null,
            "_view_module": "@jupyter-widgets/base",
            "overflow": null,
            "_model_module_version": "1.2.0",
            "_view_count": null,
            "flex_flow": null,
            "width": null,
            "min_width": null,
            "border": null,
            "align_items": null,
            "bottom": null,
            "_model_module": "@jupyter-widgets/base",
            "top": null,
            "grid_column": null,
            "overflow_y": null,
            "overflow_x": null,
            "grid_auto_flow": null,
            "grid_area": null,
            "grid_template_columns": null,
            "flex": null,
            "_model_name": "LayoutModel",
            "justify_items": null,
            "grid_row": null,
            "max_height": null,
            "align_content": null,
            "visibility": null,
            "align_self": null,
            "height": null,
            "min_height": null,
            "padding": null,
            "grid_auto_rows": null,
            "grid_gap": null,
            "max_width": null,
            "order": null,
            "_view_module_version": "1.2.0",
            "grid_template_areas": null,
            "object_position": null,
            "object_fit": null,
            "grid_auto_columns": null,
            "margin": null,
            "display": null,
            "left": null
          }
        }
      }
    }
  },
  "cells": [
    {
      "cell_type": "markdown",
      "metadata": {
        "id": "view-in-github",
        "colab_type": "text"
      },
      "source": [
        "<a href=\"https://colab.research.google.com/github/royam0820/fastai2-v4/blob/master/TEST_Camembert_LM%26TextClassification.ipynb\" target=\"_parent\"><img src=\"https://colab.research.google.com/assets/colab-badge.svg\" alt=\"Open In Colab\"/></a>"
      ]
    },
    {
      "cell_type": "code",
      "metadata": {
        "id": "vKWtHnZ_yZ_L",
        "colab": {
          "base_uri": "https://localhost:8080/"
        },
        "outputId": "b7669314-d2d0-43e7-9a1d-e5a5e74332b6"
      },
      "source": [
        "! [ -e /content ] && pip install -Uqq fastai  # upgrade fastai on colab"
      ],
      "execution_count": 2,
      "outputs": [
        {
          "output_type": "stream",
          "text": [
            "\u001b[?25l\r\u001b[K     |█▊                              | 10kB 16.8MB/s eta 0:00:01\r\u001b[K     |███▍                            | 20kB 23.2MB/s eta 0:00:01\r\u001b[K     |█████                           | 30kB 24.4MB/s eta 0:00:01\r\u001b[K     |██████▊                         | 40kB 18.3MB/s eta 0:00:01\r\u001b[K     |████████▍                       | 51kB 15.0MB/s eta 0:00:01\r\u001b[K     |██████████                      | 61kB 13.8MB/s eta 0:00:01\r\u001b[K     |███████████▉                    | 71kB 13.3MB/s eta 0:00:01\r\u001b[K     |█████████████▌                  | 81kB 12.6MB/s eta 0:00:01\r\u001b[K     |███████████████▏                | 92kB 12.3MB/s eta 0:00:01\r\u001b[K     |████████████████▉               | 102kB 13.3MB/s eta 0:00:01\r\u001b[K     |██████████████████▌             | 112kB 13.3MB/s eta 0:00:01\r\u001b[K     |████████████████████▏           | 122kB 13.3MB/s eta 0:00:01\r\u001b[K     |██████████████████████          | 133kB 13.3MB/s eta 0:00:01\r\u001b[K     |███████████████████████▋        | 143kB 13.3MB/s eta 0:00:01\r\u001b[K     |█████████████████████████▎      | 153kB 13.3MB/s eta 0:00:01\r\u001b[K     |███████████████████████████     | 163kB 13.3MB/s eta 0:00:01\r\u001b[K     |████████████████████████████▋   | 174kB 13.3MB/s eta 0:00:01\r\u001b[K     |██████████████████████████████▎ | 184kB 13.3MB/s eta 0:00:01\r\u001b[K     |████████████████████████████████| 194kB 13.3MB/s eta 0:00:01\r\u001b[K     |████████████████████████████████| 204kB 13.3MB/s \n",
            "\u001b[?25h\u001b[?25l\r\u001b[K     |██████                          | 10kB 30.7MB/s eta 0:00:01\r\u001b[K     |████████████▏                   | 20kB 32.3MB/s eta 0:00:01\r\u001b[K     |██████████████████▎             | 30kB 37.0MB/s eta 0:00:01\r\u001b[K     |████████████████████████▍       | 40kB 39.9MB/s eta 0:00:01\r\u001b[K     |██████████████████████████████▌ | 51kB 41.5MB/s eta 0:00:01\r\u001b[K     |████████████████████████████████| 61kB 9.3MB/s \n",
            "\u001b[?25h"
          ],
          "name": "stdout"
        }
      ]
    },
    {
      "cell_type": "code",
      "metadata": {
        "id": "T6UAMPRiyuJ1",
        "colab": {
          "base_uri": "https://localhost:8080/"
        },
        "outputId": "30f7ec37-b326-441d-cd4f-e114a3b9a1b6"
      },
      "source": [
        "!pip install -Uq transformers\n",
        "from fastai.text.all import *"
      ],
      "execution_count": 3,
      "outputs": [
        {
          "output_type": "stream",
          "text": [
            "\u001b[K     |████████████████████████████████| 2.3MB 11.3MB/s \n",
            "\u001b[K     |████████████████████████████████| 3.3MB 39.2MB/s \n",
            "\u001b[K     |████████████████████████████████| 901kB 46.4MB/s \n",
            "\u001b[?25h"
          ],
          "name": "stdout"
        }
      ]
    },
    {
      "cell_type": "code",
      "metadata": {
        "colab": {
          "base_uri": "https://localhost:8080/"
        },
        "id": "GwjZgvRaFVb0",
        "outputId": "e73bcda8-a743-4a38-ad16-7f658cdff4ec"
      },
      "source": [
        "!pip install nbdev"
      ],
      "execution_count": 4,
      "outputs": [
        {
          "output_type": "stream",
          "text": [
            "Collecting nbdev\n",
            "\u001b[?25l  Downloading https://files.pythonhosted.org/packages/5c/c8/e2fba530b84a770373a106e4828ea83df62104b9694e367d169e07ea484f/nbdev-1.1.14-py3-none-any.whl (46kB)\n",
            "\r\u001b[K     |███████                         | 10kB 16.8MB/s eta 0:00:01\r\u001b[K     |██████████████                  | 20kB 23.9MB/s eta 0:00:01\r\u001b[K     |█████████████████████           | 30kB 26.3MB/s eta 0:00:01\r\u001b[K     |████████████████████████████    | 40kB 20.0MB/s eta 0:00:01\r\u001b[K     |████████████████████████████████| 51kB 6.2MB/s \n",
            "\u001b[?25hRequirement already satisfied: pip in /usr/local/lib/python3.7/dist-packages (from nbdev) (19.3.1)\n",
            "Requirement already satisfied: pyyaml in /usr/local/lib/python3.7/dist-packages (from nbdev) (3.13)\n",
            "Requirement already satisfied: fastcore>=1.3.19 in /usr/local/lib/python3.7/dist-packages (from nbdev) (1.3.20)\n",
            "Requirement already satisfied: packaging in /usr/local/lib/python3.7/dist-packages (from nbdev) (20.9)\n",
            "Collecting ghapi\n",
            "\u001b[?25l  Downloading https://files.pythonhosted.org/packages/08/cf/9aef37ef04f5aa8df5396750cb531cbfdc8a362d958fcad34dd4c22aa2c1/ghapi-0.1.17-py3-none-any.whl (51kB)\n",
            "\u001b[K     |████████████████████████████████| 61kB 9.6MB/s \n",
            "\u001b[?25hRequirement already satisfied: nbformat>=4.4.0 in /usr/local/lib/python3.7/dist-packages (from nbdev) (5.1.3)\n",
            "Requirement already satisfied: nbconvert<6 in /usr/local/lib/python3.7/dist-packages (from nbdev) (5.6.1)\n",
            "Requirement already satisfied: ipykernel in /usr/local/lib/python3.7/dist-packages (from nbdev) (4.10.1)\n",
            "Requirement already satisfied: jupyter in /usr/local/lib/python3.7/dist-packages (from nbdev) (1.0.0)\n",
            "Collecting fastrelease\n",
            "  Downloading https://files.pythonhosted.org/packages/8f/66/685d5cbd0534395a209ad04afb1573f03467ef3b430b8ee1fec24c332d0c/fastrelease-0.1.11-py3-none-any.whl\n",
            "Requirement already satisfied: jupyter-client<=6.1.12 in /usr/local/lib/python3.7/dist-packages (from nbdev) (5.3.5)\n",
            "Requirement already satisfied: pyparsing>=2.0.2 in /usr/local/lib/python3.7/dist-packages (from packaging->nbdev) (2.4.7)\n",
            "Requirement already satisfied: jupyter-core in /usr/local/lib/python3.7/dist-packages (from nbformat>=4.4.0->nbdev) (4.7.1)\n",
            "Requirement already satisfied: jsonschema!=2.5.0,>=2.4 in /usr/local/lib/python3.7/dist-packages (from nbformat>=4.4.0->nbdev) (2.6.0)\n",
            "Requirement already satisfied: traitlets>=4.1 in /usr/local/lib/python3.7/dist-packages (from nbformat>=4.4.0->nbdev) (5.0.5)\n",
            "Requirement already satisfied: ipython-genutils in /usr/local/lib/python3.7/dist-packages (from nbformat>=4.4.0->nbdev) (0.2.0)\n",
            "Requirement already satisfied: testpath in /usr/local/lib/python3.7/dist-packages (from nbconvert<6->nbdev) (0.5.0)\n",
            "Requirement already satisfied: pygments in /usr/local/lib/python3.7/dist-packages (from nbconvert<6->nbdev) (2.6.1)\n",
            "Requirement already satisfied: jinja2>=2.4 in /usr/local/lib/python3.7/dist-packages (from nbconvert<6->nbdev) (2.11.3)\n",
            "Requirement already satisfied: defusedxml in /usr/local/lib/python3.7/dist-packages (from nbconvert<6->nbdev) (0.7.1)\n",
            "Requirement already satisfied: entrypoints>=0.2.2 in /usr/local/lib/python3.7/dist-packages (from nbconvert<6->nbdev) (0.3)\n",
            "Requirement already satisfied: pandocfilters>=1.4.1 in /usr/local/lib/python3.7/dist-packages (from nbconvert<6->nbdev) (1.4.3)\n",
            "Requirement already satisfied: bleach in /usr/local/lib/python3.7/dist-packages (from nbconvert<6->nbdev) (3.3.0)\n",
            "Requirement already satisfied: mistune<2,>=0.8.1 in /usr/local/lib/python3.7/dist-packages (from nbconvert<6->nbdev) (0.8.4)\n",
            "Requirement already satisfied: tornado>=4.0 in /usr/local/lib/python3.7/dist-packages (from ipykernel->nbdev) (5.1.1)\n",
            "Requirement already satisfied: ipython>=4.0.0 in /usr/local/lib/python3.7/dist-packages (from ipykernel->nbdev) (5.5.0)\n",
            "Requirement already satisfied: jupyter-console in /usr/local/lib/python3.7/dist-packages (from jupyter->nbdev) (5.2.0)\n",
            "Requirement already satisfied: notebook in /usr/local/lib/python3.7/dist-packages (from jupyter->nbdev) (5.3.1)\n",
            "Requirement already satisfied: ipywidgets in /usr/local/lib/python3.7/dist-packages (from jupyter->nbdev) (7.6.3)\n",
            "Requirement already satisfied: qtconsole in /usr/local/lib/python3.7/dist-packages (from jupyter->nbdev) (5.1.0)\n",
            "Requirement already satisfied: pyzmq>=13 in /usr/local/lib/python3.7/dist-packages (from jupyter-client<=6.1.12->nbdev) (22.0.3)\n",
            "Requirement already satisfied: python-dateutil>=2.1 in /usr/local/lib/python3.7/dist-packages (from jupyter-client<=6.1.12->nbdev) (2.8.1)\n",
            "Requirement already satisfied: MarkupSafe>=0.23 in /usr/local/lib/python3.7/dist-packages (from jinja2>=2.4->nbconvert<6->nbdev) (2.0.1)\n",
            "Requirement already satisfied: webencodings in /usr/local/lib/python3.7/dist-packages (from bleach->nbconvert<6->nbdev) (0.5.1)\n",
            "Requirement already satisfied: six>=1.9.0 in /usr/local/lib/python3.7/dist-packages (from bleach->nbconvert<6->nbdev) (1.15.0)\n",
            "Requirement already satisfied: setuptools>=18.5 in /usr/local/lib/python3.7/dist-packages (from ipython>=4.0.0->ipykernel->nbdev) (56.1.0)\n",
            "Requirement already satisfied: decorator in /usr/local/lib/python3.7/dist-packages (from ipython>=4.0.0->ipykernel->nbdev) (4.4.2)\n",
            "Requirement already satisfied: simplegeneric>0.8 in /usr/local/lib/python3.7/dist-packages (from ipython>=4.0.0->ipykernel->nbdev) (0.8.1)\n",
            "Requirement already satisfied: pexpect; sys_platform != \"win32\" in /usr/local/lib/python3.7/dist-packages (from ipython>=4.0.0->ipykernel->nbdev) (4.8.0)\n",
            "Requirement already satisfied: prompt-toolkit<2.0.0,>=1.0.4 in /usr/local/lib/python3.7/dist-packages (from ipython>=4.0.0->ipykernel->nbdev) (1.0.18)\n",
            "Requirement already satisfied: pickleshare in /usr/local/lib/python3.7/dist-packages (from ipython>=4.0.0->ipykernel->nbdev) (0.7.5)\n",
            "Requirement already satisfied: terminado>=0.8.1 in /usr/local/lib/python3.7/dist-packages (from notebook->jupyter->nbdev) (0.10.0)\n",
            "Requirement already satisfied: Send2Trash in /usr/local/lib/python3.7/dist-packages (from notebook->jupyter->nbdev) (1.5.0)\n",
            "Requirement already satisfied: widgetsnbextension~=3.5.0 in /usr/local/lib/python3.7/dist-packages (from ipywidgets->jupyter->nbdev) (3.5.1)\n",
            "Requirement already satisfied: jupyterlab-widgets>=1.0.0; python_version >= \"3.6\" in /usr/local/lib/python3.7/dist-packages (from ipywidgets->jupyter->nbdev) (1.0.0)\n",
            "Requirement already satisfied: qtpy in /usr/local/lib/python3.7/dist-packages (from qtconsole->jupyter->nbdev) (1.9.0)\n",
            "Requirement already satisfied: ptyprocess>=0.5 in /usr/local/lib/python3.7/dist-packages (from pexpect; sys_platform != \"win32\"->ipython>=4.0.0->ipykernel->nbdev) (0.7.0)\n",
            "Requirement already satisfied: wcwidth in /usr/local/lib/python3.7/dist-packages (from prompt-toolkit<2.0.0,>=1.0.4->ipython>=4.0.0->ipykernel->nbdev) (0.2.5)\n",
            "Installing collected packages: ghapi, fastrelease, nbdev\n",
            "Successfully installed fastrelease-0.1.11 ghapi-0.1.17 nbdev-1.1.14\n"
          ],
          "name": "stdout"
        }
      ]
    },
    {
      "cell_type": "code",
      "metadata": {
        "id": "NyGyTlgiyffc"
      },
      "source": [
        "# # better display of review text in dataframes\n",
        "# pd.set_option('display.max_colwidth', None) "
      ],
      "execution_count": 5,
      "outputs": []
    },
    {
      "cell_type": "markdown",
      "metadata": {
        "id": "OTSr1tC1Pfz3"
      },
      "source": [
        "# CamentBERT"
      ]
    },
    {
      "cell_type": "code",
      "metadata": {
        "colab": {
          "base_uri": "https://localhost:8080/",
          "height": 352,
          "referenced_widgets": [
            "50a5b58a4e1c465690f184dc9f9623f3",
            "b6d20c0bb10a4ac5b79a42e3ed9501eb",
            "79906c6b7ef8463db29dd2ac7fa5d4d3",
            "fb4027fe3e1141e49aff77a6acc65f30",
            "773964a865ea4dbdbac556d354a56b7a",
            "e13dcbd4cf284ecab6effb1523dd82e5",
            "1a3e659721ce4affbb9d2a2a124b1225",
            "100790cd2661486ba1d262be5a64e505",
            "551e08d33704459eb1a2f0cdb32cd792",
            "c1f0ba046388473390117854effef349",
            "266856f307a54f02a98c37be9005b8d5",
            "88aa7ebc0a304581b5ffd4f4c8f088d2",
            "844fca406f4945699701f4d61a2fac12",
            "d707fa6446324b2db18bdff3304fe5e9",
            "0bfd3aa6de2440ffbd256c010b3b0f4e",
            "1e6785f615384bba812f553014d3fa53",
            "253cff2afdf945e89d3f60f60f53b3c5",
            "c154e6d56f7a457bba3958fbdc90e848",
            "7bacf8f1dda04443a1009819d420bb26",
            "47fbdfd35c6440ce82467c5f75e0380b",
            "cdadafd00d394dec8b425cb572bae03a",
            "4378f65fb46f4917b9c5b891037f7b0d",
            "80a7e482c7754191852ebdb3485ebea4",
            "785ab17126674418b1175b3d6ccf2702",
            "4006a40449814547be5f66cc162ee4d1",
            "48e7f854d23e4c84b51d3d2f849e2a35",
            "3e90518e1f25472091aa24c699b4b7ad",
            "dc8f05a7e99740b2a252403d7a3a026d",
            "eeebcd6d885c469080a24ca0dd4e087f",
            "0de7ab98eb3344019f9061ca453e5a3f",
            "83a01a46d73b44e98a7bc2d9ee01172d",
            "f721ecd7b2cc4ea090f85baa61216ebc"
          ]
        },
        "id": "x46GqlW1PnT9",
        "outputId": "58678c25-7bce-4fdc-d550-a72c84064bc9"
      },
      "source": [
        "!pip install sentencepiece\n",
        "\n",
        "from transformers import CamembertTokenizer, CamembertForCausalLM\n",
        "\n",
        "tokenizer = CamembertTokenizer.from_pretrained(\"camembert-base\")\n",
        "#model = CamembertForCausalLM.from_pretrained(\"camembert-base\")\n",
        "#model = CamembertForCausalLM.from_pretrained(\"camembert-base\", is_decoder=True)\n",
        "model = CamembertForCausalLM.from_pretrained(\"camembert-base\", is_decoder=True, add_cross_attention=True)\n",
        "\n",
        "#transformers.RobertaForCausalLM.from_pretrained(pretrained_model_name_or_path='roberta-base', add_cross_attention=True, is_decoder=True, bos_token_id=<bos-id>, eos_token_id=<eos-id>)?"
      ],
      "execution_count": 6,
      "outputs": [
        {
          "output_type": "stream",
          "text": [
            "Collecting sentencepiece\n",
            "\u001b[?25l  Downloading https://files.pythonhosted.org/packages/f5/99/e0808cb947ba10f575839c43e8fafc9cc44e4a7a2c8f79c60db48220a577/sentencepiece-0.1.95-cp37-cp37m-manylinux2014_x86_64.whl (1.2MB)\n",
            "\r\u001b[K     |▎                               | 10kB 19.5MB/s eta 0:00:01\r\u001b[K     |▌                               | 20kB 26.4MB/s eta 0:00:01\r\u001b[K     |▉                               | 30kB 25.8MB/s eta 0:00:01\r\u001b[K     |█                               | 40kB 19.3MB/s eta 0:00:01\r\u001b[K     |█▍                              | 51kB 14.8MB/s eta 0:00:01\r\u001b[K     |█▋                              | 61kB 16.8MB/s eta 0:00:01\r\u001b[K     |██                              | 71kB 13.6MB/s eta 0:00:01\r\u001b[K     |██▏                             | 81kB 14.9MB/s eta 0:00:01\r\u001b[K     |██▌                             | 92kB 14.9MB/s eta 0:00:01\r\u001b[K     |██▊                             | 102kB 13.5MB/s eta 0:00:01\r\u001b[K     |███                             | 112kB 13.5MB/s eta 0:00:01\r\u001b[K     |███▎                            | 122kB 13.5MB/s eta 0:00:01\r\u001b[K     |███▌                            | 133kB 13.5MB/s eta 0:00:01\r\u001b[K     |███▉                            | 143kB 13.5MB/s eta 0:00:01\r\u001b[K     |████                            | 153kB 13.5MB/s eta 0:00:01\r\u001b[K     |████▍                           | 163kB 13.5MB/s eta 0:00:01\r\u001b[K     |████▋                           | 174kB 13.5MB/s eta 0:00:01\r\u001b[K     |█████                           | 184kB 13.5MB/s eta 0:00:01\r\u001b[K     |█████▏                          | 194kB 13.5MB/s eta 0:00:01\r\u001b[K     |█████▌                          | 204kB 13.5MB/s eta 0:00:01\r\u001b[K     |█████▊                          | 215kB 13.5MB/s eta 0:00:01\r\u001b[K     |██████                          | 225kB 13.5MB/s eta 0:00:01\r\u001b[K     |██████▎                         | 235kB 13.5MB/s eta 0:00:01\r\u001b[K     |██████▌                         | 245kB 13.5MB/s eta 0:00:01\r\u001b[K     |██████▉                         | 256kB 13.5MB/s eta 0:00:01\r\u001b[K     |███████                         | 266kB 13.5MB/s eta 0:00:01\r\u001b[K     |███████▍                        | 276kB 13.5MB/s eta 0:00:01\r\u001b[K     |███████▋                        | 286kB 13.5MB/s eta 0:00:01\r\u001b[K     |████████                        | 296kB 13.5MB/s eta 0:00:01\r\u001b[K     |████████▏                       | 307kB 13.5MB/s eta 0:00:01\r\u001b[K     |████████▍                       | 317kB 13.5MB/s eta 0:00:01\r\u001b[K     |████████▊                       | 327kB 13.5MB/s eta 0:00:01\r\u001b[K     |█████████                       | 337kB 13.5MB/s eta 0:00:01\r\u001b[K     |█████████▎                      | 348kB 13.5MB/s eta 0:00:01\r\u001b[K     |█████████▌                      | 358kB 13.5MB/s eta 0:00:01\r\u001b[K     |█████████▉                      | 368kB 13.5MB/s eta 0:00:01\r\u001b[K     |██████████                      | 378kB 13.5MB/s eta 0:00:01\r\u001b[K     |██████████▍                     | 389kB 13.5MB/s eta 0:00:01\r\u001b[K     |██████████▋                     | 399kB 13.5MB/s eta 0:00:01\r\u001b[K     |███████████                     | 409kB 13.5MB/s eta 0:00:01\r\u001b[K     |███████████▏                    | 419kB 13.5MB/s eta 0:00:01\r\u001b[K     |███████████▍                    | 430kB 13.5MB/s eta 0:00:01\r\u001b[K     |███████████▊                    | 440kB 13.5MB/s eta 0:00:01\r\u001b[K     |████████████                    | 450kB 13.5MB/s eta 0:00:01\r\u001b[K     |████████████▎                   | 460kB 13.5MB/s eta 0:00:01\r\u001b[K     |████████████▌                   | 471kB 13.5MB/s eta 0:00:01\r\u001b[K     |████████████▉                   | 481kB 13.5MB/s eta 0:00:01\r\u001b[K     |█████████████                   | 491kB 13.5MB/s eta 0:00:01\r\u001b[K     |█████████████▍                  | 501kB 13.5MB/s eta 0:00:01\r\u001b[K     |█████████████▋                  | 512kB 13.5MB/s eta 0:00:01\r\u001b[K     |█████████████▉                  | 522kB 13.5MB/s eta 0:00:01\r\u001b[K     |██████████████▏                 | 532kB 13.5MB/s eta 0:00:01\r\u001b[K     |██████████████▍                 | 542kB 13.5MB/s eta 0:00:01\r\u001b[K     |██████████████▊                 | 552kB 13.5MB/s eta 0:00:01\r\u001b[K     |███████████████                 | 563kB 13.5MB/s eta 0:00:01\r\u001b[K     |███████████████▎                | 573kB 13.5MB/s eta 0:00:01\r\u001b[K     |███████████████▌                | 583kB 13.5MB/s eta 0:00:01\r\u001b[K     |███████████████▉                | 593kB 13.5MB/s eta 0:00:01\r\u001b[K     |████████████████                | 604kB 13.5MB/s eta 0:00:01\r\u001b[K     |████████████████▍               | 614kB 13.5MB/s eta 0:00:01\r\u001b[K     |████████████████▋               | 624kB 13.5MB/s eta 0:00:01\r\u001b[K     |████████████████▉               | 634kB 13.5MB/s eta 0:00:01\r\u001b[K     |█████████████████▏              | 645kB 13.5MB/s eta 0:00:01\r\u001b[K     |█████████████████▍              | 655kB 13.5MB/s eta 0:00:01\r\u001b[K     |█████████████████▊              | 665kB 13.5MB/s eta 0:00:01\r\u001b[K     |██████████████████              | 675kB 13.5MB/s eta 0:00:01\r\u001b[K     |██████████████████▎             | 686kB 13.5MB/s eta 0:00:01\r\u001b[K     |██████████████████▌             | 696kB 13.5MB/s eta 0:00:01\r\u001b[K     |██████████████████▉             | 706kB 13.5MB/s eta 0:00:01\r\u001b[K     |███████████████████             | 716kB 13.5MB/s eta 0:00:01\r\u001b[K     |███████████████████▎            | 727kB 13.5MB/s eta 0:00:01\r\u001b[K     |███████████████████▋            | 737kB 13.5MB/s eta 0:00:01\r\u001b[K     |███████████████████▉            | 747kB 13.5MB/s eta 0:00:01\r\u001b[K     |████████████████████▏           | 757kB 13.5MB/s eta 0:00:01\r\u001b[K     |████████████████████▍           | 768kB 13.5MB/s eta 0:00:01\r\u001b[K     |████████████████████▊           | 778kB 13.5MB/s eta 0:00:01\r\u001b[K     |█████████████████████           | 788kB 13.5MB/s eta 0:00:01\r\u001b[K     |█████████████████████▎          | 798kB 13.5MB/s eta 0:00:01\r\u001b[K     |█████████████████████▌          | 808kB 13.5MB/s eta 0:00:01\r\u001b[K     |█████████████████████▉          | 819kB 13.5MB/s eta 0:00:01\r\u001b[K     |██████████████████████          | 829kB 13.5MB/s eta 0:00:01\r\u001b[K     |██████████████████████▎         | 839kB 13.5MB/s eta 0:00:01\r\u001b[K     |██████████████████████▋         | 849kB 13.5MB/s eta 0:00:01\r\u001b[K     |██████████████████████▉         | 860kB 13.5MB/s eta 0:00:01\r\u001b[K     |███████████████████████▏        | 870kB 13.5MB/s eta 0:00:01\r\u001b[K     |███████████████████████▍        | 880kB 13.5MB/s eta 0:00:01\r\u001b[K     |███████████████████████▊        | 890kB 13.5MB/s eta 0:00:01\r\u001b[K     |████████████████████████        | 901kB 13.5MB/s eta 0:00:01\r\u001b[K     |████████████████████████▎       | 911kB 13.5MB/s eta 0:00:01\r\u001b[K     |████████████████████████▌       | 921kB 13.5MB/s eta 0:00:01\r\u001b[K     |████████████████████████▊       | 931kB 13.5MB/s eta 0:00:01\r\u001b[K     |█████████████████████████       | 942kB 13.5MB/s eta 0:00:01\r\u001b[K     |█████████████████████████▎      | 952kB 13.5MB/s eta 0:00:01\r\u001b[K     |█████████████████████████▋      | 962kB 13.5MB/s eta 0:00:01\r\u001b[K     |█████████████████████████▉      | 972kB 13.5MB/s eta 0:00:01\r\u001b[K     |██████████████████████████▏     | 983kB 13.5MB/s eta 0:00:01\r\u001b[K     |██████████████████████████▍     | 993kB 13.5MB/s eta 0:00:01\r\u001b[K     |██████████████████████████▊     | 1.0MB 13.5MB/s eta 0:00:01\r\u001b[K     |███████████████████████████     | 1.0MB 13.5MB/s eta 0:00:01\r\u001b[K     |███████████████████████████▎    | 1.0MB 13.5MB/s eta 0:00:01\r\u001b[K     |███████████████████████████▌    | 1.0MB 13.5MB/s eta 0:00:01\r\u001b[K     |███████████████████████████▊    | 1.0MB 13.5MB/s eta 0:00:01\r\u001b[K     |████████████████████████████    | 1.1MB 13.5MB/s eta 0:00:01\r\u001b[K     |████████████████████████████▎   | 1.1MB 13.5MB/s eta 0:00:01\r\u001b[K     |████████████████████████████▋   | 1.1MB 13.5MB/s eta 0:00:01\r\u001b[K     |████████████████████████████▉   | 1.1MB 13.5MB/s eta 0:00:01\r\u001b[K     |█████████████████████████████▏  | 1.1MB 13.5MB/s eta 0:00:01\r\u001b[K     |█████████████████████████████▍  | 1.1MB 13.5MB/s eta 0:00:01\r\u001b[K     |█████████████████████████████▊  | 1.1MB 13.5MB/s eta 0:00:01\r\u001b[K     |██████████████████████████████  | 1.1MB 13.5MB/s eta 0:00:01\r\u001b[K     |██████████████████████████████▏ | 1.1MB 13.5MB/s eta 0:00:01\r\u001b[K     |██████████████████████████████▌ | 1.1MB 13.5MB/s eta 0:00:01\r\u001b[K     |██████████████████████████████▊ | 1.2MB 13.5MB/s eta 0:00:01\r\u001b[K     |███████████████████████████████ | 1.2MB 13.5MB/s eta 0:00:01\r\u001b[K     |███████████████████████████████▎| 1.2MB 13.5MB/s eta 0:00:01\r\u001b[K     |███████████████████████████████▋| 1.2MB 13.5MB/s eta 0:00:01\r\u001b[K     |███████████████████████████████▉| 1.2MB 13.5MB/s eta 0:00:01\r\u001b[K     |████████████████████████████████| 1.2MB 13.5MB/s \n",
            "\u001b[?25hInstalling collected packages: sentencepiece\n",
            "Successfully installed sentencepiece-0.1.95\n"
          ],
          "name": "stdout"
        },
        {
          "output_type": "display_data",
          "data": {
            "application/vnd.jupyter.widget-view+json": {
              "model_id": "50a5b58a4e1c465690f184dc9f9623f3",
              "version_minor": 0,
              "version_major": 2
            },
            "text/plain": [
              "HBox(children=(FloatProgress(value=0.0, description='Downloading', max=810912.0, style=ProgressStyle(descripti…"
            ]
          },
          "metadata": {
            "tags": []
          }
        },
        {
          "output_type": "stream",
          "text": [
            "\n"
          ],
          "name": "stdout"
        },
        {
          "output_type": "display_data",
          "data": {
            "application/vnd.jupyter.widget-view+json": {
              "model_id": "551e08d33704459eb1a2f0cdb32cd792",
              "version_minor": 0,
              "version_major": 2
            },
            "text/plain": [
              "HBox(children=(FloatProgress(value=0.0, description='Downloading', max=1395301.0, style=ProgressStyle(descript…"
            ]
          },
          "metadata": {
            "tags": []
          }
        },
        {
          "output_type": "stream",
          "text": [
            "\n"
          ],
          "name": "stdout"
        },
        {
          "output_type": "display_data",
          "data": {
            "application/vnd.jupyter.widget-view+json": {
              "model_id": "253cff2afdf945e89d3f60f60f53b3c5",
              "version_minor": 0,
              "version_major": 2
            },
            "text/plain": [
              "HBox(children=(FloatProgress(value=0.0, description='Downloading', max=508.0, style=ProgressStyle(description_…"
            ]
          },
          "metadata": {
            "tags": []
          }
        },
        {
          "output_type": "stream",
          "text": [
            "\n"
          ],
          "name": "stdout"
        },
        {
          "output_type": "display_data",
          "data": {
            "application/vnd.jupyter.widget-view+json": {
              "model_id": "4006a40449814547be5f66cc162ee4d1",
              "version_minor": 0,
              "version_major": 2
            },
            "text/plain": [
              "HBox(children=(FloatProgress(value=0.0, description='Downloading', max=445032417.0, style=ProgressStyle(descri…"
            ]
          },
          "metadata": {
            "tags": []
          }
        },
        {
          "output_type": "stream",
          "text": [
            "\n"
          ],
          "name": "stdout"
        },
        {
          "output_type": "stream",
          "text": [
            "Some weights of CamembertForCausalLM were not initialized from the model checkpoint at camembert-base and are newly initialized: ['roberta.encoder.layer.6.crossattention.self.key.bias', 'roberta.encoder.layer.0.crossattention.output.dense.bias', 'roberta.encoder.layer.8.crossattention.output.LayerNorm.bias', 'roberta.encoder.layer.10.crossattention.output.dense.weight', 'roberta.encoder.layer.1.crossattention.self.value.bias', 'roberta.encoder.layer.11.crossattention.self.query.bias', 'roberta.encoder.layer.5.crossattention.self.value.bias', 'roberta.encoder.layer.1.crossattention.output.LayerNorm.weight', 'roberta.encoder.layer.11.crossattention.self.query.weight', 'roberta.encoder.layer.1.crossattention.output.dense.weight', 'roberta.encoder.layer.0.crossattention.self.key.weight', 'roberta.encoder.layer.10.crossattention.self.query.weight', 'roberta.encoder.layer.4.crossattention.self.value.bias', 'roberta.encoder.layer.2.crossattention.self.query.bias', 'roberta.encoder.layer.4.crossattention.output.dense.bias', 'roberta.encoder.layer.1.crossattention.self.query.weight', 'roberta.encoder.layer.8.crossattention.self.key.weight', 'roberta.encoder.layer.4.crossattention.output.LayerNorm.weight', 'roberta.encoder.layer.6.crossattention.self.value.weight', 'roberta.encoder.layer.7.crossattention.output.LayerNorm.weight', 'roberta.encoder.layer.2.crossattention.self.query.weight', 'roberta.encoder.layer.3.crossattention.output.dense.bias', 'roberta.encoder.layer.4.crossattention.self.query.weight', 'roberta.encoder.layer.11.crossattention.output.LayerNorm.weight', 'roberta.encoder.layer.9.crossattention.self.key.bias', 'roberta.encoder.layer.7.crossattention.self.key.weight', 'roberta.encoder.layer.5.crossattention.self.query.bias', 'roberta.encoder.layer.2.crossattention.self.key.bias', 'roberta.encoder.layer.6.crossattention.self.query.bias', 'roberta.encoder.layer.0.crossattention.output.dense.weight', 'roberta.encoder.layer.4.crossattention.output.dense.weight', 'roberta.encoder.layer.11.crossattention.self.value.bias', 'roberta.encoder.layer.2.crossattention.self.value.bias', 'roberta.encoder.layer.9.crossattention.output.dense.bias', 'roberta.encoder.layer.7.crossattention.self.query.bias', 'roberta.encoder.layer.0.crossattention.self.value.weight', 'roberta.encoder.layer.4.crossattention.self.key.bias', 'roberta.encoder.layer.11.crossattention.output.dense.bias', 'roberta.encoder.layer.8.crossattention.self.value.bias', 'roberta.encoder.layer.7.crossattention.output.dense.weight', 'roberta.encoder.layer.9.crossattention.self.key.weight', 'roberta.encoder.layer.4.crossattention.self.value.weight', 'roberta.encoder.layer.9.crossattention.output.dense.weight', 'roberta.encoder.layer.5.crossattention.self.value.weight', 'roberta.encoder.layer.4.crossattention.self.query.bias', 'roberta.encoder.layer.3.crossattention.output.LayerNorm.weight', 'roberta.encoder.layer.6.crossattention.output.LayerNorm.weight', 'roberta.encoder.layer.4.crossattention.output.LayerNorm.bias', 'roberta.encoder.layer.11.crossattention.output.LayerNorm.bias', 'roberta.encoder.layer.1.crossattention.self.key.weight', 'roberta.encoder.layer.8.crossattention.self.key.bias', 'roberta.encoder.layer.0.crossattention.self.value.bias', 'roberta.encoder.layer.0.crossattention.self.query.bias', 'roberta.encoder.layer.5.crossattention.self.key.weight', 'roberta.encoder.layer.7.crossattention.output.dense.bias', 'roberta.encoder.layer.3.crossattention.self.key.weight', 'roberta.encoder.layer.7.crossattention.self.query.weight', 'roberta.encoder.layer.7.crossattention.self.value.bias', 'roberta.encoder.layer.10.crossattention.output.LayerNorm.bias', 'roberta.encoder.layer.9.crossattention.self.value.weight', 'roberta.encoder.layer.0.crossattention.output.LayerNorm.bias', 'roberta.encoder.layer.3.crossattention.self.value.bias', 'roberta.encoder.layer.1.crossattention.self.key.bias', 'roberta.encoder.layer.2.crossattention.output.LayerNorm.bias', 'roberta.encoder.layer.3.crossattention.output.LayerNorm.bias', 'roberta.encoder.layer.2.crossattention.output.LayerNorm.weight', 'roberta.encoder.layer.8.crossattention.self.value.weight', 'roberta.encoder.layer.5.crossattention.output.LayerNorm.bias', 'roberta.encoder.layer.0.crossattention.output.LayerNorm.weight', 'roberta.encoder.layer.2.crossattention.output.dense.bias', 'roberta.encoder.layer.7.crossattention.self.key.bias', 'roberta.encoder.layer.4.crossattention.self.key.weight', 'roberta.encoder.layer.6.crossattention.self.query.weight', 'roberta.encoder.layer.7.crossattention.output.LayerNorm.bias', 'roberta.encoder.layer.10.crossattention.self.key.weight', 'roberta.encoder.layer.8.crossattention.self.query.bias', 'roberta.encoder.layer.9.crossattention.self.query.weight', 'roberta.encoder.layer.8.crossattention.output.dense.bias', 'roberta.encoder.layer.3.crossattention.self.query.weight', 'roberta.encoder.layer.2.crossattention.self.value.weight', 'roberta.encoder.layer.1.crossattention.self.value.weight', 'roberta.encoder.layer.9.crossattention.output.LayerNorm.weight', 'roberta.encoder.layer.11.crossattention.output.dense.weight', 'roberta.encoder.layer.5.crossattention.self.key.bias', 'roberta.encoder.layer.8.crossattention.self.query.weight', 'roberta.encoder.layer.3.crossattention.self.key.bias', 'roberta.encoder.layer.10.crossattention.self.key.bias', 'roberta.encoder.layer.10.crossattention.self.value.weight', 'roberta.encoder.layer.6.crossattention.output.dense.bias', 'roberta.encoder.layer.6.crossattention.self.value.bias', 'roberta.encoder.layer.3.crossattention.self.value.weight', 'roberta.encoder.layer.5.crossattention.output.dense.bias', 'roberta.encoder.layer.0.crossattention.self.query.weight', 'roberta.encoder.layer.7.crossattention.self.value.weight', 'roberta.encoder.layer.8.crossattention.output.dense.weight', 'roberta.encoder.layer.10.crossattention.self.query.bias', 'roberta.encoder.layer.11.crossattention.self.key.weight', 'roberta.encoder.layer.5.crossattention.self.query.weight', 'roberta.encoder.layer.8.crossattention.output.LayerNorm.weight', 'roberta.encoder.layer.1.crossattention.output.dense.bias', 'roberta.encoder.layer.10.crossattention.output.dense.bias', 'roberta.encoder.layer.3.crossattention.self.query.bias', 'roberta.encoder.layer.11.crossattention.self.key.bias', 'roberta.encoder.layer.5.crossattention.output.LayerNorm.weight', 'roberta.encoder.layer.6.crossattention.output.dense.weight', 'roberta.encoder.layer.0.crossattention.self.key.bias', 'roberta.encoder.layer.3.crossattention.output.dense.weight', 'roberta.encoder.layer.10.crossattention.self.value.bias', 'roberta.encoder.layer.6.crossattention.output.LayerNorm.bias', 'roberta.encoder.layer.1.crossattention.self.query.bias', 'roberta.encoder.layer.1.crossattention.output.LayerNorm.bias', 'roberta.encoder.layer.10.crossattention.output.LayerNorm.weight', 'roberta.encoder.layer.11.crossattention.self.value.weight', 'roberta.encoder.layer.9.crossattention.self.value.bias', 'roberta.encoder.layer.2.crossattention.output.dense.weight', 'roberta.encoder.layer.9.crossattention.output.LayerNorm.bias', 'roberta.encoder.layer.5.crossattention.output.dense.weight', 'roberta.encoder.layer.2.crossattention.self.key.weight', 'roberta.encoder.layer.6.crossattention.self.key.weight', 'roberta.encoder.layer.9.crossattention.self.query.bias']\n",
            "You should probably TRAIN this model on a down-stream task to be able to use it for predictions and inference.\n"
          ],
          "name": "stderr"
        }
      ]
    },
    {
      "cell_type": "markdown",
      "metadata": {
        "id": "7Ccrve8Y1JZa"
      },
      "source": [
        "NOTE: Language Modeling\n",
        "- **Causal language modeling**: the model has to predict the next token in the sentence (so the labels are the same as the inputs shifted to the right). To make sure the model does not cheat, it gets an attention mask that will prevent it to access the tokens after token i when trying to predict the token i+1 in the sentence.\n",
        "- **Masked language modeling**: the model has to predict some tokens that are masked in the input. It still has access to the whole sentence, so it can use the tokens before and after the tokens masked to predict their value."
      ]
    },
    {
      "cell_type": "code",
      "metadata": {
        "id": "AaSd7tfiXbQ4",
        "colab": {
          "base_uri": "https://localhost:8080/"
        },
        "outputId": "e0e82ff6-c4fa-40f3-8e2c-51ff74238f25"
      },
      "source": [
        "model.eval()"
      ],
      "execution_count": 9,
      "outputs": [
        {
          "output_type": "execute_result",
          "data": {
            "text/plain": [
              "CamembertForCausalLM(\n",
              "  (roberta): RobertaModel(\n",
              "    (embeddings): RobertaEmbeddings(\n",
              "      (word_embeddings): Embedding(32005, 768, padding_idx=1)\n",
              "      (position_embeddings): Embedding(514, 768, padding_idx=1)\n",
              "      (token_type_embeddings): Embedding(1, 768)\n",
              "      (LayerNorm): LayerNorm((768,), eps=1e-05, elementwise_affine=True)\n",
              "      (dropout): Dropout(p=0.1, inplace=False)\n",
              "    )\n",
              "    (encoder): RobertaEncoder(\n",
              "      (layer): ModuleList(\n",
              "        (0): RobertaLayer(\n",
              "          (attention): RobertaAttention(\n",
              "            (self): RobertaSelfAttention(\n",
              "              (query): Linear(in_features=768, out_features=768, bias=True)\n",
              "              (key): Linear(in_features=768, out_features=768, bias=True)\n",
              "              (value): Linear(in_features=768, out_features=768, bias=True)\n",
              "              (dropout): Dropout(p=0.1, inplace=False)\n",
              "            )\n",
              "            (output): RobertaSelfOutput(\n",
              "              (dense): Linear(in_features=768, out_features=768, bias=True)\n",
              "              (LayerNorm): LayerNorm((768,), eps=1e-05, elementwise_affine=True)\n",
              "              (dropout): Dropout(p=0.1, inplace=False)\n",
              "            )\n",
              "          )\n",
              "          (crossattention): RobertaAttention(\n",
              "            (self): RobertaSelfAttention(\n",
              "              (query): Linear(in_features=768, out_features=768, bias=True)\n",
              "              (key): Linear(in_features=768, out_features=768, bias=True)\n",
              "              (value): Linear(in_features=768, out_features=768, bias=True)\n",
              "              (dropout): Dropout(p=0.1, inplace=False)\n",
              "            )\n",
              "            (output): RobertaSelfOutput(\n",
              "              (dense): Linear(in_features=768, out_features=768, bias=True)\n",
              "              (LayerNorm): LayerNorm((768,), eps=1e-05, elementwise_affine=True)\n",
              "              (dropout): Dropout(p=0.1, inplace=False)\n",
              "            )\n",
              "          )\n",
              "          (intermediate): RobertaIntermediate(\n",
              "            (dense): Linear(in_features=768, out_features=3072, bias=True)\n",
              "          )\n",
              "          (output): RobertaOutput(\n",
              "            (dense): Linear(in_features=3072, out_features=768, bias=True)\n",
              "            (LayerNorm): LayerNorm((768,), eps=1e-05, elementwise_affine=True)\n",
              "            (dropout): Dropout(p=0.1, inplace=False)\n",
              "          )\n",
              "        )\n",
              "        (1): RobertaLayer(\n",
              "          (attention): RobertaAttention(\n",
              "            (self): RobertaSelfAttention(\n",
              "              (query): Linear(in_features=768, out_features=768, bias=True)\n",
              "              (key): Linear(in_features=768, out_features=768, bias=True)\n",
              "              (value): Linear(in_features=768, out_features=768, bias=True)\n",
              "              (dropout): Dropout(p=0.1, inplace=False)\n",
              "            )\n",
              "            (output): RobertaSelfOutput(\n",
              "              (dense): Linear(in_features=768, out_features=768, bias=True)\n",
              "              (LayerNorm): LayerNorm((768,), eps=1e-05, elementwise_affine=True)\n",
              "              (dropout): Dropout(p=0.1, inplace=False)\n",
              "            )\n",
              "          )\n",
              "          (crossattention): RobertaAttention(\n",
              "            (self): RobertaSelfAttention(\n",
              "              (query): Linear(in_features=768, out_features=768, bias=True)\n",
              "              (key): Linear(in_features=768, out_features=768, bias=True)\n",
              "              (value): Linear(in_features=768, out_features=768, bias=True)\n",
              "              (dropout): Dropout(p=0.1, inplace=False)\n",
              "            )\n",
              "            (output): RobertaSelfOutput(\n",
              "              (dense): Linear(in_features=768, out_features=768, bias=True)\n",
              "              (LayerNorm): LayerNorm((768,), eps=1e-05, elementwise_affine=True)\n",
              "              (dropout): Dropout(p=0.1, inplace=False)\n",
              "            )\n",
              "          )\n",
              "          (intermediate): RobertaIntermediate(\n",
              "            (dense): Linear(in_features=768, out_features=3072, bias=True)\n",
              "          )\n",
              "          (output): RobertaOutput(\n",
              "            (dense): Linear(in_features=3072, out_features=768, bias=True)\n",
              "            (LayerNorm): LayerNorm((768,), eps=1e-05, elementwise_affine=True)\n",
              "            (dropout): Dropout(p=0.1, inplace=False)\n",
              "          )\n",
              "        )\n",
              "        (2): RobertaLayer(\n",
              "          (attention): RobertaAttention(\n",
              "            (self): RobertaSelfAttention(\n",
              "              (query): Linear(in_features=768, out_features=768, bias=True)\n",
              "              (key): Linear(in_features=768, out_features=768, bias=True)\n",
              "              (value): Linear(in_features=768, out_features=768, bias=True)\n",
              "              (dropout): Dropout(p=0.1, inplace=False)\n",
              "            )\n",
              "            (output): RobertaSelfOutput(\n",
              "              (dense): Linear(in_features=768, out_features=768, bias=True)\n",
              "              (LayerNorm): LayerNorm((768,), eps=1e-05, elementwise_affine=True)\n",
              "              (dropout): Dropout(p=0.1, inplace=False)\n",
              "            )\n",
              "          )\n",
              "          (crossattention): RobertaAttention(\n",
              "            (self): RobertaSelfAttention(\n",
              "              (query): Linear(in_features=768, out_features=768, bias=True)\n",
              "              (key): Linear(in_features=768, out_features=768, bias=True)\n",
              "              (value): Linear(in_features=768, out_features=768, bias=True)\n",
              "              (dropout): Dropout(p=0.1, inplace=False)\n",
              "            )\n",
              "            (output): RobertaSelfOutput(\n",
              "              (dense): Linear(in_features=768, out_features=768, bias=True)\n",
              "              (LayerNorm): LayerNorm((768,), eps=1e-05, elementwise_affine=True)\n",
              "              (dropout): Dropout(p=0.1, inplace=False)\n",
              "            )\n",
              "          )\n",
              "          (intermediate): RobertaIntermediate(\n",
              "            (dense): Linear(in_features=768, out_features=3072, bias=True)\n",
              "          )\n",
              "          (output): RobertaOutput(\n",
              "            (dense): Linear(in_features=3072, out_features=768, bias=True)\n",
              "            (LayerNorm): LayerNorm((768,), eps=1e-05, elementwise_affine=True)\n",
              "            (dropout): Dropout(p=0.1, inplace=False)\n",
              "          )\n",
              "        )\n",
              "        (3): RobertaLayer(\n",
              "          (attention): RobertaAttention(\n",
              "            (self): RobertaSelfAttention(\n",
              "              (query): Linear(in_features=768, out_features=768, bias=True)\n",
              "              (key): Linear(in_features=768, out_features=768, bias=True)\n",
              "              (value): Linear(in_features=768, out_features=768, bias=True)\n",
              "              (dropout): Dropout(p=0.1, inplace=False)\n",
              "            )\n",
              "            (output): RobertaSelfOutput(\n",
              "              (dense): Linear(in_features=768, out_features=768, bias=True)\n",
              "              (LayerNorm): LayerNorm((768,), eps=1e-05, elementwise_affine=True)\n",
              "              (dropout): Dropout(p=0.1, inplace=False)\n",
              "            )\n",
              "          )\n",
              "          (crossattention): RobertaAttention(\n",
              "            (self): RobertaSelfAttention(\n",
              "              (query): Linear(in_features=768, out_features=768, bias=True)\n",
              "              (key): Linear(in_features=768, out_features=768, bias=True)\n",
              "              (value): Linear(in_features=768, out_features=768, bias=True)\n",
              "              (dropout): Dropout(p=0.1, inplace=False)\n",
              "            )\n",
              "            (output): RobertaSelfOutput(\n",
              "              (dense): Linear(in_features=768, out_features=768, bias=True)\n",
              "              (LayerNorm): LayerNorm((768,), eps=1e-05, elementwise_affine=True)\n",
              "              (dropout): Dropout(p=0.1, inplace=False)\n",
              "            )\n",
              "          )\n",
              "          (intermediate): RobertaIntermediate(\n",
              "            (dense): Linear(in_features=768, out_features=3072, bias=True)\n",
              "          )\n",
              "          (output): RobertaOutput(\n",
              "            (dense): Linear(in_features=3072, out_features=768, bias=True)\n",
              "            (LayerNorm): LayerNorm((768,), eps=1e-05, elementwise_affine=True)\n",
              "            (dropout): Dropout(p=0.1, inplace=False)\n",
              "          )\n",
              "        )\n",
              "        (4): RobertaLayer(\n",
              "          (attention): RobertaAttention(\n",
              "            (self): RobertaSelfAttention(\n",
              "              (query): Linear(in_features=768, out_features=768, bias=True)\n",
              "              (key): Linear(in_features=768, out_features=768, bias=True)\n",
              "              (value): Linear(in_features=768, out_features=768, bias=True)\n",
              "              (dropout): Dropout(p=0.1, inplace=False)\n",
              "            )\n",
              "            (output): RobertaSelfOutput(\n",
              "              (dense): Linear(in_features=768, out_features=768, bias=True)\n",
              "              (LayerNorm): LayerNorm((768,), eps=1e-05, elementwise_affine=True)\n",
              "              (dropout): Dropout(p=0.1, inplace=False)\n",
              "            )\n",
              "          )\n",
              "          (crossattention): RobertaAttention(\n",
              "            (self): RobertaSelfAttention(\n",
              "              (query): Linear(in_features=768, out_features=768, bias=True)\n",
              "              (key): Linear(in_features=768, out_features=768, bias=True)\n",
              "              (value): Linear(in_features=768, out_features=768, bias=True)\n",
              "              (dropout): Dropout(p=0.1, inplace=False)\n",
              "            )\n",
              "            (output): RobertaSelfOutput(\n",
              "              (dense): Linear(in_features=768, out_features=768, bias=True)\n",
              "              (LayerNorm): LayerNorm((768,), eps=1e-05, elementwise_affine=True)\n",
              "              (dropout): Dropout(p=0.1, inplace=False)\n",
              "            )\n",
              "          )\n",
              "          (intermediate): RobertaIntermediate(\n",
              "            (dense): Linear(in_features=768, out_features=3072, bias=True)\n",
              "          )\n",
              "          (output): RobertaOutput(\n",
              "            (dense): Linear(in_features=3072, out_features=768, bias=True)\n",
              "            (LayerNorm): LayerNorm((768,), eps=1e-05, elementwise_affine=True)\n",
              "            (dropout): Dropout(p=0.1, inplace=False)\n",
              "          )\n",
              "        )\n",
              "        (5): RobertaLayer(\n",
              "          (attention): RobertaAttention(\n",
              "            (self): RobertaSelfAttention(\n",
              "              (query): Linear(in_features=768, out_features=768, bias=True)\n",
              "              (key): Linear(in_features=768, out_features=768, bias=True)\n",
              "              (value): Linear(in_features=768, out_features=768, bias=True)\n",
              "              (dropout): Dropout(p=0.1, inplace=False)\n",
              "            )\n",
              "            (output): RobertaSelfOutput(\n",
              "              (dense): Linear(in_features=768, out_features=768, bias=True)\n",
              "              (LayerNorm): LayerNorm((768,), eps=1e-05, elementwise_affine=True)\n",
              "              (dropout): Dropout(p=0.1, inplace=False)\n",
              "            )\n",
              "          )\n",
              "          (crossattention): RobertaAttention(\n",
              "            (self): RobertaSelfAttention(\n",
              "              (query): Linear(in_features=768, out_features=768, bias=True)\n",
              "              (key): Linear(in_features=768, out_features=768, bias=True)\n",
              "              (value): Linear(in_features=768, out_features=768, bias=True)\n",
              "              (dropout): Dropout(p=0.1, inplace=False)\n",
              "            )\n",
              "            (output): RobertaSelfOutput(\n",
              "              (dense): Linear(in_features=768, out_features=768, bias=True)\n",
              "              (LayerNorm): LayerNorm((768,), eps=1e-05, elementwise_affine=True)\n",
              "              (dropout): Dropout(p=0.1, inplace=False)\n",
              "            )\n",
              "          )\n",
              "          (intermediate): RobertaIntermediate(\n",
              "            (dense): Linear(in_features=768, out_features=3072, bias=True)\n",
              "          )\n",
              "          (output): RobertaOutput(\n",
              "            (dense): Linear(in_features=3072, out_features=768, bias=True)\n",
              "            (LayerNorm): LayerNorm((768,), eps=1e-05, elementwise_affine=True)\n",
              "            (dropout): Dropout(p=0.1, inplace=False)\n",
              "          )\n",
              "        )\n",
              "        (6): RobertaLayer(\n",
              "          (attention): RobertaAttention(\n",
              "            (self): RobertaSelfAttention(\n",
              "              (query): Linear(in_features=768, out_features=768, bias=True)\n",
              "              (key): Linear(in_features=768, out_features=768, bias=True)\n",
              "              (value): Linear(in_features=768, out_features=768, bias=True)\n",
              "              (dropout): Dropout(p=0.1, inplace=False)\n",
              "            )\n",
              "            (output): RobertaSelfOutput(\n",
              "              (dense): Linear(in_features=768, out_features=768, bias=True)\n",
              "              (LayerNorm): LayerNorm((768,), eps=1e-05, elementwise_affine=True)\n",
              "              (dropout): Dropout(p=0.1, inplace=False)\n",
              "            )\n",
              "          )\n",
              "          (crossattention): RobertaAttention(\n",
              "            (self): RobertaSelfAttention(\n",
              "              (query): Linear(in_features=768, out_features=768, bias=True)\n",
              "              (key): Linear(in_features=768, out_features=768, bias=True)\n",
              "              (value): Linear(in_features=768, out_features=768, bias=True)\n",
              "              (dropout): Dropout(p=0.1, inplace=False)\n",
              "            )\n",
              "            (output): RobertaSelfOutput(\n",
              "              (dense): Linear(in_features=768, out_features=768, bias=True)\n",
              "              (LayerNorm): LayerNorm((768,), eps=1e-05, elementwise_affine=True)\n",
              "              (dropout): Dropout(p=0.1, inplace=False)\n",
              "            )\n",
              "          )\n",
              "          (intermediate): RobertaIntermediate(\n",
              "            (dense): Linear(in_features=768, out_features=3072, bias=True)\n",
              "          )\n",
              "          (output): RobertaOutput(\n",
              "            (dense): Linear(in_features=3072, out_features=768, bias=True)\n",
              "            (LayerNorm): LayerNorm((768,), eps=1e-05, elementwise_affine=True)\n",
              "            (dropout): Dropout(p=0.1, inplace=False)\n",
              "          )\n",
              "        )\n",
              "        (7): RobertaLayer(\n",
              "          (attention): RobertaAttention(\n",
              "            (self): RobertaSelfAttention(\n",
              "              (query): Linear(in_features=768, out_features=768, bias=True)\n",
              "              (key): Linear(in_features=768, out_features=768, bias=True)\n",
              "              (value): Linear(in_features=768, out_features=768, bias=True)\n",
              "              (dropout): Dropout(p=0.1, inplace=False)\n",
              "            )\n",
              "            (output): RobertaSelfOutput(\n",
              "              (dense): Linear(in_features=768, out_features=768, bias=True)\n",
              "              (LayerNorm): LayerNorm((768,), eps=1e-05, elementwise_affine=True)\n",
              "              (dropout): Dropout(p=0.1, inplace=False)\n",
              "            )\n",
              "          )\n",
              "          (crossattention): RobertaAttention(\n",
              "            (self): RobertaSelfAttention(\n",
              "              (query): Linear(in_features=768, out_features=768, bias=True)\n",
              "              (key): Linear(in_features=768, out_features=768, bias=True)\n",
              "              (value): Linear(in_features=768, out_features=768, bias=True)\n",
              "              (dropout): Dropout(p=0.1, inplace=False)\n",
              "            )\n",
              "            (output): RobertaSelfOutput(\n",
              "              (dense): Linear(in_features=768, out_features=768, bias=True)\n",
              "              (LayerNorm): LayerNorm((768,), eps=1e-05, elementwise_affine=True)\n",
              "              (dropout): Dropout(p=0.1, inplace=False)\n",
              "            )\n",
              "          )\n",
              "          (intermediate): RobertaIntermediate(\n",
              "            (dense): Linear(in_features=768, out_features=3072, bias=True)\n",
              "          )\n",
              "          (output): RobertaOutput(\n",
              "            (dense): Linear(in_features=3072, out_features=768, bias=True)\n",
              "            (LayerNorm): LayerNorm((768,), eps=1e-05, elementwise_affine=True)\n",
              "            (dropout): Dropout(p=0.1, inplace=False)\n",
              "          )\n",
              "        )\n",
              "        (8): RobertaLayer(\n",
              "          (attention): RobertaAttention(\n",
              "            (self): RobertaSelfAttention(\n",
              "              (query): Linear(in_features=768, out_features=768, bias=True)\n",
              "              (key): Linear(in_features=768, out_features=768, bias=True)\n",
              "              (value): Linear(in_features=768, out_features=768, bias=True)\n",
              "              (dropout): Dropout(p=0.1, inplace=False)\n",
              "            )\n",
              "            (output): RobertaSelfOutput(\n",
              "              (dense): Linear(in_features=768, out_features=768, bias=True)\n",
              "              (LayerNorm): LayerNorm((768,), eps=1e-05, elementwise_affine=True)\n",
              "              (dropout): Dropout(p=0.1, inplace=False)\n",
              "            )\n",
              "          )\n",
              "          (crossattention): RobertaAttention(\n",
              "            (self): RobertaSelfAttention(\n",
              "              (query): Linear(in_features=768, out_features=768, bias=True)\n",
              "              (key): Linear(in_features=768, out_features=768, bias=True)\n",
              "              (value): Linear(in_features=768, out_features=768, bias=True)\n",
              "              (dropout): Dropout(p=0.1, inplace=False)\n",
              "            )\n",
              "            (output): RobertaSelfOutput(\n",
              "              (dense): Linear(in_features=768, out_features=768, bias=True)\n",
              "              (LayerNorm): LayerNorm((768,), eps=1e-05, elementwise_affine=True)\n",
              "              (dropout): Dropout(p=0.1, inplace=False)\n",
              "            )\n",
              "          )\n",
              "          (intermediate): RobertaIntermediate(\n",
              "            (dense): Linear(in_features=768, out_features=3072, bias=True)\n",
              "          )\n",
              "          (output): RobertaOutput(\n",
              "            (dense): Linear(in_features=3072, out_features=768, bias=True)\n",
              "            (LayerNorm): LayerNorm((768,), eps=1e-05, elementwise_affine=True)\n",
              "            (dropout): Dropout(p=0.1, inplace=False)\n",
              "          )\n",
              "        )\n",
              "        (9): RobertaLayer(\n",
              "          (attention): RobertaAttention(\n",
              "            (self): RobertaSelfAttention(\n",
              "              (query): Linear(in_features=768, out_features=768, bias=True)\n",
              "              (key): Linear(in_features=768, out_features=768, bias=True)\n",
              "              (value): Linear(in_features=768, out_features=768, bias=True)\n",
              "              (dropout): Dropout(p=0.1, inplace=False)\n",
              "            )\n",
              "            (output): RobertaSelfOutput(\n",
              "              (dense): Linear(in_features=768, out_features=768, bias=True)\n",
              "              (LayerNorm): LayerNorm((768,), eps=1e-05, elementwise_affine=True)\n",
              "              (dropout): Dropout(p=0.1, inplace=False)\n",
              "            )\n",
              "          )\n",
              "          (crossattention): RobertaAttention(\n",
              "            (self): RobertaSelfAttention(\n",
              "              (query): Linear(in_features=768, out_features=768, bias=True)\n",
              "              (key): Linear(in_features=768, out_features=768, bias=True)\n",
              "              (value): Linear(in_features=768, out_features=768, bias=True)\n",
              "              (dropout): Dropout(p=0.1, inplace=False)\n",
              "            )\n",
              "            (output): RobertaSelfOutput(\n",
              "              (dense): Linear(in_features=768, out_features=768, bias=True)\n",
              "              (LayerNorm): LayerNorm((768,), eps=1e-05, elementwise_affine=True)\n",
              "              (dropout): Dropout(p=0.1, inplace=False)\n",
              "            )\n",
              "          )\n",
              "          (intermediate): RobertaIntermediate(\n",
              "            (dense): Linear(in_features=768, out_features=3072, bias=True)\n",
              "          )\n",
              "          (output): RobertaOutput(\n",
              "            (dense): Linear(in_features=3072, out_features=768, bias=True)\n",
              "            (LayerNorm): LayerNorm((768,), eps=1e-05, elementwise_affine=True)\n",
              "            (dropout): Dropout(p=0.1, inplace=False)\n",
              "          )\n",
              "        )\n",
              "        (10): RobertaLayer(\n",
              "          (attention): RobertaAttention(\n",
              "            (self): RobertaSelfAttention(\n",
              "              (query): Linear(in_features=768, out_features=768, bias=True)\n",
              "              (key): Linear(in_features=768, out_features=768, bias=True)\n",
              "              (value): Linear(in_features=768, out_features=768, bias=True)\n",
              "              (dropout): Dropout(p=0.1, inplace=False)\n",
              "            )\n",
              "            (output): RobertaSelfOutput(\n",
              "              (dense): Linear(in_features=768, out_features=768, bias=True)\n",
              "              (LayerNorm): LayerNorm((768,), eps=1e-05, elementwise_affine=True)\n",
              "              (dropout): Dropout(p=0.1, inplace=False)\n",
              "            )\n",
              "          )\n",
              "          (crossattention): RobertaAttention(\n",
              "            (self): RobertaSelfAttention(\n",
              "              (query): Linear(in_features=768, out_features=768, bias=True)\n",
              "              (key): Linear(in_features=768, out_features=768, bias=True)\n",
              "              (value): Linear(in_features=768, out_features=768, bias=True)\n",
              "              (dropout): Dropout(p=0.1, inplace=False)\n",
              "            )\n",
              "            (output): RobertaSelfOutput(\n",
              "              (dense): Linear(in_features=768, out_features=768, bias=True)\n",
              "              (LayerNorm): LayerNorm((768,), eps=1e-05, elementwise_affine=True)\n",
              "              (dropout): Dropout(p=0.1, inplace=False)\n",
              "            )\n",
              "          )\n",
              "          (intermediate): RobertaIntermediate(\n",
              "            (dense): Linear(in_features=768, out_features=3072, bias=True)\n",
              "          )\n",
              "          (output): RobertaOutput(\n",
              "            (dense): Linear(in_features=3072, out_features=768, bias=True)\n",
              "            (LayerNorm): LayerNorm((768,), eps=1e-05, elementwise_affine=True)\n",
              "            (dropout): Dropout(p=0.1, inplace=False)\n",
              "          )\n",
              "        )\n",
              "        (11): RobertaLayer(\n",
              "          (attention): RobertaAttention(\n",
              "            (self): RobertaSelfAttention(\n",
              "              (query): Linear(in_features=768, out_features=768, bias=True)\n",
              "              (key): Linear(in_features=768, out_features=768, bias=True)\n",
              "              (value): Linear(in_features=768, out_features=768, bias=True)\n",
              "              (dropout): Dropout(p=0.1, inplace=False)\n",
              "            )\n",
              "            (output): RobertaSelfOutput(\n",
              "              (dense): Linear(in_features=768, out_features=768, bias=True)\n",
              "              (LayerNorm): LayerNorm((768,), eps=1e-05, elementwise_affine=True)\n",
              "              (dropout): Dropout(p=0.1, inplace=False)\n",
              "            )\n",
              "          )\n",
              "          (crossattention): RobertaAttention(\n",
              "            (self): RobertaSelfAttention(\n",
              "              (query): Linear(in_features=768, out_features=768, bias=True)\n",
              "              (key): Linear(in_features=768, out_features=768, bias=True)\n",
              "              (value): Linear(in_features=768, out_features=768, bias=True)\n",
              "              (dropout): Dropout(p=0.1, inplace=False)\n",
              "            )\n",
              "            (output): RobertaSelfOutput(\n",
              "              (dense): Linear(in_features=768, out_features=768, bias=True)\n",
              "              (LayerNorm): LayerNorm((768,), eps=1e-05, elementwise_affine=True)\n",
              "              (dropout): Dropout(p=0.1, inplace=False)\n",
              "            )\n",
              "          )\n",
              "          (intermediate): RobertaIntermediate(\n",
              "            (dense): Linear(in_features=768, out_features=3072, bias=True)\n",
              "          )\n",
              "          (output): RobertaOutput(\n",
              "            (dense): Linear(in_features=3072, out_features=768, bias=True)\n",
              "            (LayerNorm): LayerNorm((768,), eps=1e-05, elementwise_affine=True)\n",
              "            (dropout): Dropout(p=0.1, inplace=False)\n",
              "          )\n",
              "        )\n",
              "      )\n",
              "    )\n",
              "  )\n",
              "  (lm_head): RobertaLMHead(\n",
              "    (dense): Linear(in_features=768, out_features=768, bias=True)\n",
              "    (layer_norm): LayerNorm((768,), eps=1e-05, elementwise_affine=True)\n",
              "    (decoder): Linear(in_features=768, out_features=32005, bias=True)\n",
              "  )\n",
              ")"
            ]
          },
          "metadata": {
            "tags": []
          },
          "execution_count": 9
        }
      ]
    },
    {
      "cell_type": "markdown",
      "metadata": {
        "id": "9WRPyur3UtlE"
      },
      "source": [
        "## Testing the tokenizer"
      ]
    },
    {
      "cell_type": "code",
      "metadata": {
        "colab": {
          "base_uri": "https://localhost:8080/"
        },
        "id": "M3FZZF8uYCHp",
        "outputId": "58ac2d8a-0746-4880-95b5-ef4998286d3d"
      },
      "source": [
        "tokenizer.vocab_size"
      ],
      "execution_count": 7,
      "outputs": [
        {
          "output_type": "execute_result",
          "data": {
            "text/plain": [
              "32005"
            ]
          },
          "metadata": {
            "tags": []
          },
          "execution_count": 7
        }
      ]
    },
    {
      "cell_type": "code",
      "metadata": {
        "colab": {
          "base_uri": "https://localhost:8080/"
        },
        "id": "fy4ErxC3Rs-N",
        "outputId": "96549a5f-dbaf-473c-fd57-5fd4a3944923"
      },
      "source": [
        "ids = tokenizer.encode('Ce texte est affligeant, et')\n",
        "ids"
      ],
      "execution_count": 8,
      "outputs": [
        {
          "output_type": "execute_result",
          "data": {
            "text/plain": [
              "[5, 148, 930, 30, 5639, 1187, 17059, 7, 14, 6]"
            ]
          },
          "metadata": {
            "tags": []
          },
          "execution_count": 8
        }
      ]
    },
    {
      "cell_type": "code",
      "metadata": {
        "colab": {
          "base_uri": "https://localhost:8080/",
          "height": 35
        },
        "id": "LJQrnflqWdov",
        "outputId": "12ad61b2-b153-41f8-8892-b63bba715f29"
      },
      "source": [
        "# decoding\n",
        "tokenizer.decode(ids)"
      ],
      "execution_count": 87,
      "outputs": [
        {
          "output_type": "execute_result",
          "data": {
            "application/vnd.google.colaboratory.intrinsic+json": {
              "type": "string"
            },
            "text/plain": [
              "'<s> Ce texte est affligeant, et</s>'"
            ]
          },
          "metadata": {
            "tags": []
          },
          "execution_count": 87
        }
      ]
    },
    {
      "cell_type": "markdown",
      "metadata": {
        "id": "4EHpLcwrzAyu"
      },
      "source": [
        "# Getting the data"
      ]
    },
    {
      "cell_type": "code",
      "metadata": {
        "id": "KFzznGPY5bH4"
      },
      "source": [
        "#creating a directory allocine\n",
        "path = Path('/content/allocine/')\n",
        "path.mkdir(parents=True, exist_ok=True)"
      ],
      "execution_count": 10,
      "outputs": []
    },
    {
      "cell_type": "code",
      "metadata": {
        "id": "b55p-OxvNz8F"
      },
      "source": [
        "#creating a directory allocine\n",
        "path = Path('/content/allocine/models')\n",
        "path.mkdir(parents=True, exist_ok=True)"
      ],
      "execution_count": 11,
      "outputs": []
    },
    {
      "cell_type": "code",
      "metadata": {
        "colab": {
          "base_uri": "https://localhost:8080/"
        },
        "id": "SncnpDS181gg",
        "outputId": "9139ae9a-687b-4d00-b39d-0530926be647"
      },
      "source": [
        "path = Path('/content/allocine/'); path"
      ],
      "execution_count": 12,
      "outputs": [
        {
          "output_type": "execute_result",
          "data": {
            "text/plain": [
              "Path('/content/allocine')"
            ]
          },
          "metadata": {
            "tags": []
          },
          "execution_count": 12
        }
      ]
    },
    {
      "cell_type": "code",
      "metadata": {
        "id": "bhEsxocL2UVA"
      },
      "source": [
        "# downloading the AlloCine dataset\n",
        "!wget -q https://github.com/TheophileBlard/french-sentiment-analysis-with-bert/raw/master/allocine_dataset/data.tar.bz2\n",
        "!tar -xf /content/data.tar.bz2 -C '/content/allocine'"
      ],
      "execution_count": 13,
      "outputs": []
    },
    {
      "cell_type": "code",
      "metadata": {
        "colab": {
          "base_uri": "https://localhost:8080/",
          "height": 165
        },
        "id": "rbTDvZKfAQtd",
        "outputId": "2e687a69-e6be-4e13-fa19-50ccdae2d9cb"
      },
      "source": [
        "train_df = pd.read_json(path/'data/train.jsonl', lines=True, nrows=10000)\n",
        "train_df.head(1)"
      ],
      "execution_count": 14,
      "outputs": [
        {
          "output_type": "execute_result",
          "data": {
            "text/html": [
              "<div>\n",
              "<style scoped>\n",
              "    .dataframe tbody tr th:only-of-type {\n",
              "        vertical-align: middle;\n",
              "    }\n",
              "\n",
              "    .dataframe tbody tr th {\n",
              "        vertical-align: top;\n",
              "    }\n",
              "\n",
              "    .dataframe thead th {\n",
              "        text-align: right;\n",
              "    }\n",
              "</style>\n",
              "<table border=\"1\" class=\"dataframe\">\n",
              "  <thead>\n",
              "    <tr style=\"text-align: right;\">\n",
              "      <th></th>\n",
              "      <th>film-url</th>\n",
              "      <th>review</th>\n",
              "      <th>polarity</th>\n",
              "    </tr>\n",
              "  </thead>\n",
              "  <tbody>\n",
              "    <tr>\n",
              "      <th>0</th>\n",
              "      <td>http://www.allocine.fr/film/fichefilm-135259/critiques/spectateurs</td>\n",
              "      <td>Si vous cherchez du cinéma abrutissant à tous les étages,n'ayant aucune peur du cliché en castagnettes et moralement douteux,\"From Paris with love\" est fait pour vous.Toutes les productions Besson,via sa filière EuropaCorp ont de quoi faire naître la moquerie.Paris y est encore une fois montrée comme une capitale exotique,mais attention si l'on se dirige vers la banlieue,on y trouve tout plein d'intégristes musulmans prêts à faire sauter le caisson d'une ambassadrice américaine.Nauséeux.Alors on se dit qu'on va au moins pouvoir apprécier la déconnade d'un classique buddy-movie avec le jeun...</td>\n",
              "      <td>0</td>\n",
              "    </tr>\n",
              "  </tbody>\n",
              "</table>\n",
              "</div>"
            ],
            "text/plain": [
              "                                                             film-url  ... polarity\n",
              "0  http://www.allocine.fr/film/fichefilm-135259/critiques/spectateurs  ...        0\n",
              "\n",
              "[1 rows x 3 columns]"
            ]
          },
          "metadata": {
            "tags": []
          },
          "execution_count": 14
        }
      ]
    },
    {
      "cell_type": "markdown",
      "metadata": {
        "id": "cEVEHjmqHsJ3"
      },
      "source": [
        "NOTE: polarity: `0` negative review; `1` positive review"
      ]
    },
    {
      "cell_type": "code",
      "metadata": {
        "colab": {
          "base_uri": "https://localhost:8080/",
          "height": 131
        },
        "id": "GokRVQ2TSxNw",
        "outputId": "6d995811-a7e6-4052-c321-2755cfcd10e5"
      },
      "source": [
        "val_df = pd.read_json(path/'data/val.jsonl', lines=True, nrows=1000)\n",
        "val_df.head(1)"
      ],
      "execution_count": 15,
      "outputs": [
        {
          "output_type": "execute_result",
          "data": {
            "text/html": [
              "<div>\n",
              "<style scoped>\n",
              "    .dataframe tbody tr th:only-of-type {\n",
              "        vertical-align: middle;\n",
              "    }\n",
              "\n",
              "    .dataframe tbody tr th {\n",
              "        vertical-align: top;\n",
              "    }\n",
              "\n",
              "    .dataframe thead th {\n",
              "        text-align: right;\n",
              "    }\n",
              "</style>\n",
              "<table border=\"1\" class=\"dataframe\">\n",
              "  <thead>\n",
              "    <tr style=\"text-align: right;\">\n",
              "      <th></th>\n",
              "      <th>film-url</th>\n",
              "      <th>review</th>\n",
              "      <th>polarity</th>\n",
              "    </tr>\n",
              "  </thead>\n",
              "  <tbody>\n",
              "    <tr>\n",
              "      <th>0</th>\n",
              "      <td>http://www.allocine.fr/film/fichefilm-51895/critiques/spectateurs</td>\n",
              "      <td>Ce film est tout ce qu'il y a de plus sympa. Même si l'ensemble n'est pas dépourvu de clichés, il serait hypocrite de dire que ce film est ennuyeux à regarder, bien au contraire. Il est très plaisant à regarder et même si l'ensemble est asse convenue, la mise en scène de Peter Chelsom est légère et ce film est une sorte de bouffée d'air frais. Tout à fait estimable.</td>\n",
              "      <td>0</td>\n",
              "    </tr>\n",
              "  </tbody>\n",
              "</table>\n",
              "</div>"
            ],
            "text/plain": [
              "                                                            film-url  ... polarity\n",
              "0  http://www.allocine.fr/film/fichefilm-51895/critiques/spectateurs  ...        0\n",
              "\n",
              "[1 rows x 3 columns]"
            ]
          },
          "metadata": {
            "tags": []
          },
          "execution_count": 15
        }
      ]
    },
    {
      "cell_type": "code",
      "metadata": {
        "id": "y4SjmKIYWDRm"
      },
      "source": [
        "train_df.to_csv(path/'data/train.csv', encoding = 'utf-8', header = False, index = False)"
      ],
      "execution_count": 16,
      "outputs": []
    },
    {
      "cell_type": "code",
      "metadata": {
        "id": "hDwDfPOLXL39"
      },
      "source": [
        "val_df.to_csv(path/'data/val.csv', encoding = 'utf-8', header = False, index = False)"
      ],
      "execution_count": 17,
      "outputs": []
    },
    {
      "cell_type": "code",
      "metadata": {
        "colab": {
          "base_uri": "https://localhost:8080/",
          "height": 281
        },
        "id": "k2IJzb9_Ymz_",
        "outputId": "c8e795e9-78cd-4698-aed8-e8bbe7838526"
      },
      "source": [
        "# training dataset\n",
        "df_train = pd.read_csv(path/'data/train.csv', encoding = 'utf-8', header=None)\n",
        "df_train.head(2)"
      ],
      "execution_count": 18,
      "outputs": [
        {
          "output_type": "execute_result",
          "data": {
            "text/html": [
              "<div>\n",
              "<style scoped>\n",
              "    .dataframe tbody tr th:only-of-type {\n",
              "        vertical-align: middle;\n",
              "    }\n",
              "\n",
              "    .dataframe tbody tr th {\n",
              "        vertical-align: top;\n",
              "    }\n",
              "\n",
              "    .dataframe thead th {\n",
              "        text-align: right;\n",
              "    }\n",
              "</style>\n",
              "<table border=\"1\" class=\"dataframe\">\n",
              "  <thead>\n",
              "    <tr style=\"text-align: right;\">\n",
              "      <th></th>\n",
              "      <th>0</th>\n",
              "      <th>1</th>\n",
              "      <th>2</th>\n",
              "    </tr>\n",
              "  </thead>\n",
              "  <tbody>\n",
              "    <tr>\n",
              "      <th>0</th>\n",
              "      <td>http://www.allocine.fr/film/fichefilm-135259/critiques/spectateurs</td>\n",
              "      <td>Si vous cherchez du cinéma abrutissant à tous les étages,n'ayant aucune peur du cliché en castagnettes et moralement douteux,\"From Paris with love\" est fait pour vous.Toutes les productions Besson,via sa filière EuropaCorp ont de quoi faire naître la moquerie.Paris y est encore une fois montrée comme une capitale exotique,mais attention si l'on se dirige vers la banlieue,on y trouve tout plein d'intégristes musulmans prêts à faire sauter le caisson d'une ambassadrice américaine.Nauséeux.Alors on se dit qu'on va au moins pouvoir apprécier la déconnade d'un classique buddy-movie avec le jeun...</td>\n",
              "      <td>0</td>\n",
              "    </tr>\n",
              "    <tr>\n",
              "      <th>1</th>\n",
              "      <td>http://www.allocine.fr/film/fichefilm-172430/critiques/spectateurs</td>\n",
              "      <td>Trash, re-trash et re-re-trash...! Une horreur sans nom. Imaginez-vous les 20 premières minutes de Orange Mécanique dilatées sur plus de 70 minutes de bande VHS pourrave et revisitées par Korine à la sauce années 2000 : les dandys-punk de Kubrick ont laissé place à des papys lubriques déguisés en sacs-poubelles forniquant les troncs d'arbres, le dispositif esthétique se résume à du filmage-réalité enfilant des scènes de destruction, de soumission, de pornographie ou encore de maltraitance ( youtube, youtube et re-youtube...) et la bande-son se limite à des ricanements malades, des rengaine...</td>\n",
              "      <td>0</td>\n",
              "    </tr>\n",
              "  </tbody>\n",
              "</table>\n",
              "</div>"
            ],
            "text/plain": [
              "                                                                    0  ...  2\n",
              "0  http://www.allocine.fr/film/fichefilm-135259/critiques/spectateurs  ...  0\n",
              "1  http://www.allocine.fr/film/fichefilm-172430/critiques/spectateurs  ...  0\n",
              "\n",
              "[2 rows x 3 columns]"
            ]
          },
          "metadata": {
            "tags": []
          },
          "execution_count": 18
        }
      ]
    },
    {
      "cell_type": "code",
      "metadata": {
        "colab": {
          "base_uri": "https://localhost:8080/",
          "height": 247
        },
        "id": "1QZPnByI-vqH",
        "outputId": "88cb5234-d0cd-4aa6-bed5-f2c3650ce633"
      },
      "source": [
        "# validation dataset\n",
        "df_valid = pd.read_csv(path/'data/val.csv', encoding = 'utf-8', header=None)\n",
        "df_valid.head(2)"
      ],
      "execution_count": 19,
      "outputs": [
        {
          "output_type": "execute_result",
          "data": {
            "text/html": [
              "<div>\n",
              "<style scoped>\n",
              "    .dataframe tbody tr th:only-of-type {\n",
              "        vertical-align: middle;\n",
              "    }\n",
              "\n",
              "    .dataframe tbody tr th {\n",
              "        vertical-align: top;\n",
              "    }\n",
              "\n",
              "    .dataframe thead th {\n",
              "        text-align: right;\n",
              "    }\n",
              "</style>\n",
              "<table border=\"1\" class=\"dataframe\">\n",
              "  <thead>\n",
              "    <tr style=\"text-align: right;\">\n",
              "      <th></th>\n",
              "      <th>0</th>\n",
              "      <th>1</th>\n",
              "      <th>2</th>\n",
              "    </tr>\n",
              "  </thead>\n",
              "  <tbody>\n",
              "    <tr>\n",
              "      <th>0</th>\n",
              "      <td>http://www.allocine.fr/film/fichefilm-51895/critiques/spectateurs</td>\n",
              "      <td>Ce film est tout ce qu'il y a de plus sympa. Même si l'ensemble n'est pas dépourvu de clichés, il serait hypocrite de dire que ce film est ennuyeux à regarder, bien au contraire. Il est très plaisant à regarder et même si l'ensemble est asse convenue, la mise en scène de Peter Chelsom est légère et ce film est une sorte de bouffée d'air frais. Tout à fait estimable.</td>\n",
              "      <td>0</td>\n",
              "    </tr>\n",
              "    <tr>\n",
              "      <th>1</th>\n",
              "      <td>http://www.allocine.fr/film/fichefilm-272/critiques/spectateurs</td>\n",
              "      <td>The Wall a été réalisé par Alan Parker (Fame, Midnight Express, Evita) et Roger Waters (bassiste de Pink Floyd). Le film ne contient quasiment aucun dialogue, il s'agit en fait du double album conceptuel The Wall en images. Pink est une rock star déchue qui utilise tous les paradis artificiels possibles pour fuir le réel, mais cela ne fait que l'enfoncer encore plus dans son état sombre. Ce film est tout autant fascinant que dérangeant : on regarde cet homme sombrer dans la paranoïa, sans pouvoir rien faire, comme les spectateurs pervers d'une mise à mort, fascinés par cette chose incontrô...</td>\n",
              "      <td>1</td>\n",
              "    </tr>\n",
              "  </tbody>\n",
              "</table>\n",
              "</div>"
            ],
            "text/plain": [
              "                                                                   0  ...  2\n",
              "0  http://www.allocine.fr/film/fichefilm-51895/critiques/spectateurs  ...  0\n",
              "1    http://www.allocine.fr/film/fichefilm-272/critiques/spectateurs  ...  1\n",
              "\n",
              "[2 rows x 3 columns]"
            ]
          },
          "metadata": {
            "tags": []
          },
          "execution_count": 19
        }
      ]
    },
    {
      "cell_type": "code",
      "metadata": {
        "id": "z8CkhyOVtkXp",
        "colab": {
          "base_uri": "https://localhost:8080/"
        },
        "outputId": "164b1477-1809-4ddc-e4ae-8ba88ea4d32d"
      },
      "source": [
        "print(train_df['polarity'].unique(), val_df['polarity'].unique())"
      ],
      "execution_count": 20,
      "outputs": [
        {
          "output_type": "stream",
          "text": [
            "[0 1] [0 1]\n"
          ],
          "name": "stdout"
        }
      ]
    },
    {
      "cell_type": "code",
      "metadata": {
        "id": "580uWs2Ynd7x"
      },
      "source": [
        "all_texts = np.concatenate([df_train[1].values, df_valid[1].values])"
      ],
      "execution_count": 21,
      "outputs": []
    },
    {
      "cell_type": "code",
      "metadata": {
        "colab": {
          "base_uri": "https://localhost:8080/"
        },
        "id": "TdCi581S9RqO",
        "outputId": "6e81e8fb-1396-4bbd-8dd6-a9e22d6c005f"
      },
      "source": [
        "print(len(train_df), len(val_df), len(all_texts))"
      ],
      "execution_count": 22,
      "outputs": [
        {
          "output_type": "stream",
          "text": [
            "10000 1000 11000\n"
          ],
          "name": "stdout"
        }
      ]
    },
    {
      "cell_type": "markdown",
      "metadata": {
        "id": "GTvGUUey8GJU"
      },
      "source": [
        "### Testing the tokenizer on movie review"
      ]
    },
    {
      "cell_type": "code",
      "metadata": {
        "colab": {
          "base_uri": "https://localhost:8080/",
          "height": 171
        },
        "id": "PJGEP3kg8oEZ",
        "outputId": "9dfae94e-de0d-4ea1-e6ea-d63d89d2f604"
      },
      "source": [
        "some_review = train_df.review[0]; some_review"
      ],
      "execution_count": 23,
      "outputs": [
        {
          "output_type": "execute_result",
          "data": {
            "application/vnd.google.colaboratory.intrinsic+json": {
              "type": "string"
            },
            "text/plain": [
              "'Si vous cherchez du cinéma abrutissant à tous les étages,n\\'ayant aucune peur du cliché en castagnettes et moralement douteux,\"From Paris with love\" est fait pour vous.Toutes les productions Besson,via sa filière EuropaCorp ont de quoi faire naître la moquerie.Paris y est encore une fois montrée comme une capitale exotique,mais attention si l\\'on se dirige vers la banlieue,on y trouve tout plein d\\'intégristes musulmans prêts à faire sauter le caisson d\\'une ambassadrice américaine.Nauséeux.Alors on se dit qu\\'on va au moins pouvoir apprécier la déconnade d\\'un classique buddy-movie avec le jeune agent aux dents longues obligé de faire équipe avec un vieux lou complètement timbré.Mais d\\'un côté,on a un Jonathan Rhys-meyers fayot au possible,et de l\\'autre un John Travolta en total délire narcissico-badass,crâne rasé et bouc proéminent à l\\'appui.Sinon,il n\\'y a aucun scénario.Seulement,des poursuites débiles sur l\\'autoroute,Travolta qui étale 10 mecs à l\\'arme blanche en 8 mouvements(!!)ou laisse son associé se faire démolir la tronche pendant qu\\'il scrute à la jumelle.Ca pourrait être un plaisir coupable,tellement c\\'est \"hénaurme\",c\\'est juste de la daube dans la droite lignée d\\'un \"Transporteur\",\"Taken\"ou \"Banlieue 13\".'"
            ]
          },
          "metadata": {
            "tags": []
          },
          "execution_count": 23
        }
      ]
    },
    {
      "cell_type": "code",
      "metadata": {
        "colab": {
          "base_uri": "https://localhost:8080/"
        },
        "id": "vbctdwGC8vh4",
        "outputId": "d1e53e6d-ddc8-4fc1-a1f2-32c29f524878"
      },
      "source": [
        "tokenizer.tokenize(some_review)[:15]"
      ],
      "execution_count": 24,
      "outputs": [
        {
          "output_type": "execute_result",
          "data": {
            "text/plain": [
              "['▁Si',\n",
              " '▁vous',\n",
              " '▁cherchez',\n",
              " '▁du',\n",
              " '▁cinéma',\n",
              " '▁abruti',\n",
              " 'ssant',\n",
              " '▁à',\n",
              " '▁tous',\n",
              " '▁les',\n",
              " '▁étages',\n",
              " ',',\n",
              " 'n',\n",
              " \"'\",\n",
              " 'ayant']"
            ]
          },
          "metadata": {
            "tags": []
          },
          "execution_count": 24
        }
      ]
    },
    {
      "cell_type": "code",
      "metadata": {
        "colab": {
          "base_uri": "https://localhost:8080/"
        },
        "id": "o_soqc1R83K8",
        "outputId": "de95eed3-ab18-4316-8128-875af88377c6"
      },
      "source": [
        "tokenizer.encode(some_review)[:15]"
      ],
      "execution_count": 25,
      "outputs": [
        {
          "output_type": "execute_result",
          "data": {
            "text/plain": [
              "[5, 168, 39, 3162, 25, 1545, 29470, 2927, 15, 117, 19, 9339, 7, 255, 11]"
            ]
          },
          "metadata": {
            "tags": []
          },
          "execution_count": 25
        }
      ]
    },
    {
      "cell_type": "code",
      "metadata": {
        "colab": {
          "base_uri": "https://localhost:8080/",
          "height": 171
        },
        "id": "0ntlfyTH87p3",
        "outputId": "8988bb2e-91a4-4072-90c5-ec179a0a3153"
      },
      "source": [
        "tokenizer.decode(tokenizer.encode(some_review))"
      ],
      "execution_count": 26,
      "outputs": [
        {
          "output_type": "execute_result",
          "data": {
            "application/vnd.google.colaboratory.intrinsic+json": {
              "type": "string"
            },
            "text/plain": [
              "'<s> Si vous cherchez du cinéma abrutissant à tous les étages,n\\'ayant aucune peur du cliché en castagnettes et moralement douteux,\"From Paris with love\" est fait pour vous.Toutes les productions Besson,via sa filière EuropaCorp ont de quoi faire naître la moquerie.Paris y est encore une fois montrée comme une capitale exotique,mais attention si l\\'on se dirige vers la banlieue,on y trouve tout plein d\\'intégristes musulmans prêts à faire sauter le caisson d\\'une ambassadrice américaine.Nauséeux.Alors on se dit qu\\'on va au moins pouvoir apprécier la déconnade d\\'un classique buddy-movie avec le jeune agent aux dents longues obligé de faire équipe avec un vieux lou complètement timbré.Mais d\\'un côté,on a un Jonathan Rhys-meyers fayot au possible,et de l\\'autre un John Travolta en total délire narcissico-badass,crâne rasé et bouc proéminent à l\\'appui.Sinon,il n\\'y a aucun scénario.Seulement,des poursuites débiles sur l\\'autoroute,Travolta qui étale 10 mecs à l\\'arme blanche en 8 mouvements(!!)ou laisse son associé se faire démolir la tronche pendant qu\\'il scrute à la jumelle.Ca pourrait être un plaisir coupable,tellement c\\'est \"hénaurme\",c\\'est juste de la daube dans la droite lignée d\\'un \"Transporteur\",\"Taken\"ou \"Banlieue 13\".</s>'"
            ]
          },
          "metadata": {
            "tags": []
          },
          "execution_count": 26
        }
      ]
    },
    {
      "cell_type": "code",
      "metadata": {
        "id": "JHhoJLy19eD5"
      },
      "source": [
        "class TransformersTokenizer(Transform):\n",
        "    def __init__(self, tokenizer): self.tokenizer = tokenizer\n",
        "    def encodes(self, x): \n",
        "        toks = self.tokenizer.tokenize(x)\n",
        "        return tensor(self.tokenizer.convert_tokens_to_ids(toks))\n",
        "    def decodes(self, x): return TitledStr(self.tokenizer.decode(x.cpu().numpy()))"
      ],
      "execution_count": 27,
      "outputs": []
    },
    {
      "cell_type": "code",
      "metadata": {
        "id": "cULmRoiNBGgO"
      },
      "source": [
        "splits = [range_of(df_train), list(range(len(df_train), len(all_texts)))]\n",
        "tls = TfmdLists(all_texts, TransformersTokenizer(tokenizer), splits=splits, dl_type=LMDataLoader)"
      ],
      "execution_count": 28,
      "outputs": []
    },
    {
      "cell_type": "code",
      "metadata": {
        "id": "d6pQ3x-eFEjt"
      },
      "source": [
        "# tls.train[0],tls.valid[0]"
      ],
      "execution_count": 29,
      "outputs": []
    },
    {
      "cell_type": "code",
      "metadata": {
        "colab": {
          "base_uri": "https://localhost:8080/"
        },
        "id": "VBuYztgLFFFV",
        "outputId": "907d0bb4-0ea7-4176-a081-5d3ce32c3bdd"
      },
      "source": [
        "tls.tfms(tls.train.items[0]).shape, tls.tfms(tls.valid.items[0]).shape"
      ],
      "execution_count": 30,
      "outputs": [
        {
          "output_type": "execute_result",
          "data": {
            "text/plain": [
              "(torch.Size([332]), torch.Size([93]))"
            ]
          },
          "metadata": {
            "tags": []
          },
          "execution_count": 30
        }
      ]
    },
    {
      "cell_type": "code",
      "metadata": {
        "colab": {
          "base_uri": "https://localhost:8080/"
        },
        "id": "YptWWuQ-FJk0",
        "outputId": "c35e3583-2170-4135-d178-be462e68256c"
      },
      "source": [
        "show_at(tls.train, 0)"
      ],
      "execution_count": 31,
      "outputs": [
        {
          "output_type": "stream",
          "text": [
            "Si vous cherchez du cinéma abrutissant à tous les étages,n'ayant aucune peur du cliché en castagnettes et moralement douteux,\"From Paris with love\" est fait pour vous.Toutes les productions Besson,via sa filière EuropaCorp ont de quoi faire naître la moquerie.Paris y est encore une fois montrée comme une capitale exotique,mais attention si l'on se dirige vers la banlieue,on y trouve tout plein d'intégristes musulmans prêts à faire sauter le caisson d'une ambassadrice américaine.Nauséeux.Alors on se dit qu'on va au moins pouvoir apprécier la déconnade d'un classique buddy-movie avec le jeune agent aux dents longues obligé de faire équipe avec un vieux lou complètement timbré.Mais d'un côté,on a un Jonathan Rhys-meyers fayot au possible,et de l'autre un John Travolta en total délire narcissico-badass,crâne rasé et bouc proéminent à l'appui.Sinon,il n'y a aucun scénario.Seulement,des poursuites débiles sur l'autoroute,Travolta qui étale 10 mecs à l'arme blanche en 8 mouvements(!!)ou laisse son associé se faire démolir la tronche pendant qu'il scrute à la jumelle.Ca pourrait être un plaisir coupable,tellement c'est \"hénaurme\",c'est juste de la daube dans la droite lignée d'un \"Transporteur\",\"Taken\"ou \"Banlieue 13\".\n"
          ],
          "name": "stdout"
        }
      ]
    },
    {
      "cell_type": "code",
      "metadata": {
        "colab": {
          "base_uri": "https://localhost:8080/"
        },
        "id": "9Asa8qVtFPNQ",
        "outputId": "7700a979-ae51-4428-ce12-686e1aaa5546"
      },
      "source": [
        "show_at(tls.valid, 0)"
      ],
      "execution_count": 32,
      "outputs": [
        {
          "output_type": "stream",
          "text": [
            "Ce film est tout ce qu'il y a de plus sympa. Même si l'ensemble n'est pas dépourvu de clichés, il serait hypocrite de dire que ce film est ennuyeux à regarder, bien au contraire. Il est très plaisant à regarder et même si l'ensemble est asse convenue, la mise en scène de Peter Chelsom est légère et ce film est une sorte de bouffée d'air frais. Tout à fait estimable.\n"
          ],
          "name": "stdout"
        }
      ]
    },
    {
      "cell_type": "markdown",
      "metadata": {
        "id": "R7SDVlrpxCs4"
      },
      "source": [
        "## Dataloader"
      ]
    },
    {
      "cell_type": "code",
      "metadata": {
        "id": "dUw-rnwJFVli"
      },
      "source": [
        "#bs,sl = 4,256 # not working\n",
        "bs,sl = 4, 256\n",
        "dls_lm = tls.dataloaders(bs=bs, seq_len=sl)"
      ],
      "execution_count": 33,
      "outputs": []
    },
    {
      "cell_type": "code",
      "metadata": {
        "colab": {
          "base_uri": "https://localhost:8080/"
        },
        "id": "GhHfWea1n32h",
        "outputId": "c1ef6c41-29fb-469e-b697-69951d280ff2"
      },
      "source": [
        "dls_lm.tfms"
      ],
      "execution_count": 34,
      "outputs": [
        {
          "output_type": "execute_result",
          "data": {
            "text/plain": [
              "Pipeline: TransformersTokenizer"
            ]
          },
          "metadata": {
            "tags": []
          },
          "execution_count": 34
        }
      ]
    },
    {
      "cell_type": "code",
      "metadata": {
        "colab": {
          "base_uri": "https://localhost:8080/",
          "height": 485
        },
        "id": "XCDFnruRFaR6",
        "outputId": "eac39123-79bd-400a-a747-0d213de4defd"
      },
      "source": [
        "dls_lm.show_batch(max_n=2)"
      ],
      "execution_count": 35,
      "outputs": [
        {
          "output_type": "display_data",
          "data": {
            "text/html": [
              "<table border=\"1\" class=\"dataframe\">\n",
              "  <thead>\n",
              "    <tr style=\"text-align: right;\">\n",
              "      <th></th>\n",
              "      <th>text</th>\n",
              "      <th>text_</th>\n",
              "    </tr>\n",
              "  </thead>\n",
              "  <tbody>\n",
              "    <tr>\n",
              "      <th>0</th>\n",
              "      <td>Magnifique histoire, très touchante. Je ne m'attendais pas à un tel résultat n'y au dénouement que le film allait suivre. Bernard Campan et Isabelle Carré forment un très bon duo, traversant les épreuves. Des récompenses bien méritées!! Pour une histoire qui en dit long. Richard Widmark, Dana Andrews et Gary Merrill réunis dans un film sans la moindre présence féminine, le fait que le corps d'armée évoqué soit méconnu donnent un semblant d'intérêt à cette oeuvre qui rend hommage à ces hommes en uniformes (mais souvent en slip de bain!!!). La Fox a mis la gomme aussi au niveau des moyens mais certainement pas au niveau de la réalisation, sans personnalité et originalité, en mettant un tâcheron derrière la caméra et de l'écriture scénaristique qui donne lieue à aucune intensité et à des personnages qui sont trop peu consistants. Bon alors je finis ou pas sur un jeu de mots</td>\n",
              "      <td>histoire, très touchante. Je ne m'attendais pas à un tel résultat n'y au dénouement que le film allait suivre. Bernard Campan et Isabelle Carré forment un très bon duo, traversant les épreuves. Des récompenses bien méritées!! Pour une histoire qui en dit long. Richard Widmark, Dana Andrews et Gary Merrill réunis dans un film sans la moindre présence féminine, le fait que le corps d'armée évoqué soit méconnu donnent un semblant d'intérêt à cette oeuvre qui rend hommage à ces hommes en uniformes (mais souvent en slip de bain!!!). La Fox a mis la gomme aussi au niveau des moyens mais certainement pas au niveau de la réalisation, sans personnalité et originalité, en mettant un tâcheron derrière la caméra et de l'écriture scénaristique qui donne lieue à aucune intensité et à des personnages qui sont trop peu consistants. Bon alors je finis ou pas sur un jeu de mots pourri</td>\n",
              "    </tr>\n",
              "    <tr>\n",
              "      <th>1</th>\n",
              "      <td>tériser pour redécouvrir ce chef d'œuvre en hd. Voilà 15 ans déjà que j'ai entendu parler de ce film que je savais réputé, mais ce n'est qu'aujourd'hui (2013) que je le vois pour la 1ere fois. Franchement le jeux du duo d'acteur Bouchez-Régnier est si réaliste que cela en devient confondant, on se croirait presque dans un documentaire... je sais pas si elle ont mis des caractéristiques propres à leur véritables caractères dans les personnages joués...tellement cela sonne juste... ou si tout cela est inventé sur papier et qu'elles ont tatonné et essayé de trouvé comment joué tout cela au mieux... tout cela est un mystère, il faut surement être dans le milieu du cinéma pour comprendre le procésus de construction d'un rôle... Mais enfin bref...je m'égare... Ce film qui sent le mélodrame...on le préssent il est vrai... mérite les récompenses qu'il a reçu... que dire de plus... allez donc</td>\n",
              "      <td>ser pour redécouvrir ce chef d'œuvre en hd. Voilà 15 ans déjà que j'ai entendu parler de ce film que je savais réputé, mais ce n'est qu'aujourd'hui (2013) que je le vois pour la 1ere fois. Franchement le jeux du duo d'acteur Bouchez-Régnier est si réaliste que cela en devient confondant, on se croirait presque dans un documentaire... je sais pas si elle ont mis des caractéristiques propres à leur véritables caractères dans les personnages joués...tellement cela sonne juste... ou si tout cela est inventé sur papier et qu'elles ont tatonné et essayé de trouvé comment joué tout cela au mieux... tout cela est un mystère, il faut surement être dans le milieu du cinéma pour comprendre le procésus de construction d'un rôle... Mais enfin bref...je m'égare... Ce film qui sent le mélodrame...on le préssent il est vrai... mérite les récompenses qu'il a reçu... que dire de plus... allez donc</td>\n",
              "    </tr>\n",
              "  </tbody>\n",
              "</table>"
            ],
            "text/plain": [
              "<IPython.core.display.HTML object>"
            ]
          },
          "metadata": {
            "tags": []
          }
        }
      ]
    },
    {
      "cell_type": "markdown",
      "metadata": {
        "id": "l7h8trrvBfaQ"
      },
      "source": [
        "## Tokenizing the Allocine Dataset"
      ]
    },
    {
      "cell_type": "code",
      "metadata": {
        "colab": {
          "base_uri": "https://localhost:8080/",
          "height": 37
        },
        "id": "gBfaH1dbF5ZZ",
        "outputId": "cfff8ee0-ac82-485f-8744-04e1f9c24d93"
      },
      "source": [
        "def tokenize(text):\n",
        "    toks = tokenizer.tokenize(text)\n",
        "    return tensor(tokenizer.convert_tokens_to_ids(toks))\n",
        "\n",
        "tokenized = [tokenize(t) for t in progress_bar(all_texts)]"
      ],
      "execution_count": 36,
      "outputs": [
        {
          "output_type": "display_data",
          "data": {
            "text/html": [
              "\n",
              "    <div>\n",
              "        <style>\n",
              "            /* Turns off some styling */\n",
              "            progress {\n",
              "                /* gets rid of default border in Firefox and Opera. */\n",
              "                border: none;\n",
              "                /* Needs to be in here for Safari polyfill so background images work as expected. */\n",
              "                background-size: auto;\n",
              "            }\n",
              "            .progress-bar-interrupted, .progress-bar-interrupted::-webkit-progress-bar {\n",
              "                background: #F44336;\n",
              "            }\n",
              "        </style>\n",
              "      <progress value='11000' class='' max='11000' style='width:300px; height:20px; vertical-align: middle;'></progress>\n",
              "      100.00% [11000/11000 00:05<00:00]\n",
              "    </div>\n",
              "    "
            ],
            "text/plain": [
              "<IPython.core.display.HTML object>"
            ]
          },
          "metadata": {
            "tags": []
          }
        }
      ]
    },
    {
      "cell_type": "code",
      "metadata": {
        "colab": {
          "base_uri": "https://localhost:8080/"
        },
        "id": "xXBCICS3O2V-",
        "outputId": "abce3926-6e75-4e20-9c98-e4d8cf8030ce"
      },
      "source": [
        "len(tokenized)"
      ],
      "execution_count": 37,
      "outputs": [
        {
          "output_type": "execute_result",
          "data": {
            "text/plain": [
              "11000"
            ]
          },
          "metadata": {
            "tags": []
          },
          "execution_count": 37
        }
      ]
    },
    {
      "cell_type": "code",
      "metadata": {
        "colab": {
          "base_uri": "https://localhost:8080/"
        },
        "id": "Tr3xq1yrZ976",
        "outputId": "e1c61bd2-5dba-416a-daf5-17cdd84a933e"
      },
      "source": [
        "tokenizer.vocab_size"
      ],
      "execution_count": 38,
      "outputs": [
        {
          "output_type": "execute_result",
          "data": {
            "text/plain": [
              "32005"
            ]
          },
          "metadata": {
            "tags": []
          },
          "execution_count": 38
        }
      ]
    },
    {
      "cell_type": "code",
      "metadata": {
        "colab": {
          "base_uri": "https://localhost:8080/"
        },
        "id": "5UAkDC6ApMIr",
        "outputId": "6cc2b1df-de75-4d88-f93c-942ca5672f03"
      },
      "source": [
        "# adding tokens to the vocab\n",
        "tokenizer.add_tokens('tokenized')\n",
        "# resizing the model\n",
        "model.resize_token_embeddings(len(tokenizer))"
      ],
      "execution_count": 39,
      "outputs": [
        {
          "output_type": "execute_result",
          "data": {
            "text/plain": [
              "Embedding(32006, 768)"
            ]
          },
          "metadata": {
            "tags": []
          },
          "execution_count": 39
        }
      ]
    },
    {
      "cell_type": "code",
      "metadata": {
        "id": "SeSBJ9BYW_K9"
      },
      "source": [
        "class TransformersTokenizer(Transform):\n",
        "    def __init__(self, tokenizer): self.tokenizer = tokenizer\n",
        "    def encodes(self, x): \n",
        "        return x if isinstance(x, Tensor) else tokenize(x)\n",
        "        \n",
        "    def decodes(self, x): return TitledStr(self.tokenizer.decode(x.cpu().numpy()))"
      ],
      "execution_count": 40,
      "outputs": []
    },
    {
      "cell_type": "markdown",
      "metadata": {
        "id": "jFjyv9yGxMC-"
      },
      "source": [
        "## Learner"
      ]
    },
    {
      "cell_type": "code",
      "metadata": {
        "id": "HiIyUrLXV4w8"
      },
      "source": [
        "class DropOutput(Callback):\n",
        "    def after_pred(self): self.learn.pred = self.pred[0]"
      ],
      "execution_count": 41,
      "outputs": []
    },
    {
      "cell_type": "code",
      "metadata": {
        "id": "UH-DmjDuYmdf"
      },
      "source": [
        "# del learn"
      ],
      "execution_count": 42,
      "outputs": []
    },
    {
      "cell_type": "code",
      "metadata": {
        "id": "FGHrXq1oXUOv"
      },
      "source": [
        "learn = Learner(dls_lm, model, loss_func=CrossEntropyLossFlat(), cbs=[DropOutput], metrics=Perplexity()).to_fp16()"
      ],
      "execution_count": 43,
      "outputs": []
    },
    {
      "cell_type": "code",
      "metadata": {
        "id": "3eD19N6YZK-v",
        "colab": {
          "base_uri": "https://localhost:8080/"
        },
        "outputId": "e5362b83-e756-47e6-9ba7-be0785cca58f"
      },
      "source": [
        "learn.model"
      ],
      "execution_count": 44,
      "outputs": [
        {
          "output_type": "execute_result",
          "data": {
            "text/plain": [
              "CamembertForCausalLM(\n",
              "  (roberta): RobertaModel(\n",
              "    (embeddings): RobertaEmbeddings(\n",
              "      (word_embeddings): Embedding(32006, 768)\n",
              "      (position_embeddings): Embedding(514, 768, padding_idx=1)\n",
              "      (token_type_embeddings): Embedding(1, 768)\n",
              "      (LayerNorm): LayerNorm((768,), eps=1e-05, elementwise_affine=True)\n",
              "      (dropout): Dropout(p=0.1, inplace=False)\n",
              "    )\n",
              "    (encoder): RobertaEncoder(\n",
              "      (layer): ModuleList(\n",
              "        (0): RobertaLayer(\n",
              "          (attention): RobertaAttention(\n",
              "            (self): RobertaSelfAttention(\n",
              "              (query): Linear(in_features=768, out_features=768, bias=True)\n",
              "              (key): Linear(in_features=768, out_features=768, bias=True)\n",
              "              (value): Linear(in_features=768, out_features=768, bias=True)\n",
              "              (dropout): Dropout(p=0.1, inplace=False)\n",
              "            )\n",
              "            (output): RobertaSelfOutput(\n",
              "              (dense): Linear(in_features=768, out_features=768, bias=True)\n",
              "              (LayerNorm): LayerNorm((768,), eps=1e-05, elementwise_affine=True)\n",
              "              (dropout): Dropout(p=0.1, inplace=False)\n",
              "            )\n",
              "          )\n",
              "          (crossattention): RobertaAttention(\n",
              "            (self): RobertaSelfAttention(\n",
              "              (query): Linear(in_features=768, out_features=768, bias=True)\n",
              "              (key): Linear(in_features=768, out_features=768, bias=True)\n",
              "              (value): Linear(in_features=768, out_features=768, bias=True)\n",
              "              (dropout): Dropout(p=0.1, inplace=False)\n",
              "            )\n",
              "            (output): RobertaSelfOutput(\n",
              "              (dense): Linear(in_features=768, out_features=768, bias=True)\n",
              "              (LayerNorm): LayerNorm((768,), eps=1e-05, elementwise_affine=True)\n",
              "              (dropout): Dropout(p=0.1, inplace=False)\n",
              "            )\n",
              "          )\n",
              "          (intermediate): RobertaIntermediate(\n",
              "            (dense): Linear(in_features=768, out_features=3072, bias=True)\n",
              "          )\n",
              "          (output): RobertaOutput(\n",
              "            (dense): Linear(in_features=3072, out_features=768, bias=True)\n",
              "            (LayerNorm): LayerNorm((768,), eps=1e-05, elementwise_affine=True)\n",
              "            (dropout): Dropout(p=0.1, inplace=False)\n",
              "          )\n",
              "        )\n",
              "        (1): RobertaLayer(\n",
              "          (attention): RobertaAttention(\n",
              "            (self): RobertaSelfAttention(\n",
              "              (query): Linear(in_features=768, out_features=768, bias=True)\n",
              "              (key): Linear(in_features=768, out_features=768, bias=True)\n",
              "              (value): Linear(in_features=768, out_features=768, bias=True)\n",
              "              (dropout): Dropout(p=0.1, inplace=False)\n",
              "            )\n",
              "            (output): RobertaSelfOutput(\n",
              "              (dense): Linear(in_features=768, out_features=768, bias=True)\n",
              "              (LayerNorm): LayerNorm((768,), eps=1e-05, elementwise_affine=True)\n",
              "              (dropout): Dropout(p=0.1, inplace=False)\n",
              "            )\n",
              "          )\n",
              "          (crossattention): RobertaAttention(\n",
              "            (self): RobertaSelfAttention(\n",
              "              (query): Linear(in_features=768, out_features=768, bias=True)\n",
              "              (key): Linear(in_features=768, out_features=768, bias=True)\n",
              "              (value): Linear(in_features=768, out_features=768, bias=True)\n",
              "              (dropout): Dropout(p=0.1, inplace=False)\n",
              "            )\n",
              "            (output): RobertaSelfOutput(\n",
              "              (dense): Linear(in_features=768, out_features=768, bias=True)\n",
              "              (LayerNorm): LayerNorm((768,), eps=1e-05, elementwise_affine=True)\n",
              "              (dropout): Dropout(p=0.1, inplace=False)\n",
              "            )\n",
              "          )\n",
              "          (intermediate): RobertaIntermediate(\n",
              "            (dense): Linear(in_features=768, out_features=3072, bias=True)\n",
              "          )\n",
              "          (output): RobertaOutput(\n",
              "            (dense): Linear(in_features=3072, out_features=768, bias=True)\n",
              "            (LayerNorm): LayerNorm((768,), eps=1e-05, elementwise_affine=True)\n",
              "            (dropout): Dropout(p=0.1, inplace=False)\n",
              "          )\n",
              "        )\n",
              "        (2): RobertaLayer(\n",
              "          (attention): RobertaAttention(\n",
              "            (self): RobertaSelfAttention(\n",
              "              (query): Linear(in_features=768, out_features=768, bias=True)\n",
              "              (key): Linear(in_features=768, out_features=768, bias=True)\n",
              "              (value): Linear(in_features=768, out_features=768, bias=True)\n",
              "              (dropout): Dropout(p=0.1, inplace=False)\n",
              "            )\n",
              "            (output): RobertaSelfOutput(\n",
              "              (dense): Linear(in_features=768, out_features=768, bias=True)\n",
              "              (LayerNorm): LayerNorm((768,), eps=1e-05, elementwise_affine=True)\n",
              "              (dropout): Dropout(p=0.1, inplace=False)\n",
              "            )\n",
              "          )\n",
              "          (crossattention): RobertaAttention(\n",
              "            (self): RobertaSelfAttention(\n",
              "              (query): Linear(in_features=768, out_features=768, bias=True)\n",
              "              (key): Linear(in_features=768, out_features=768, bias=True)\n",
              "              (value): Linear(in_features=768, out_features=768, bias=True)\n",
              "              (dropout): Dropout(p=0.1, inplace=False)\n",
              "            )\n",
              "            (output): RobertaSelfOutput(\n",
              "              (dense): Linear(in_features=768, out_features=768, bias=True)\n",
              "              (LayerNorm): LayerNorm((768,), eps=1e-05, elementwise_affine=True)\n",
              "              (dropout): Dropout(p=0.1, inplace=False)\n",
              "            )\n",
              "          )\n",
              "          (intermediate): RobertaIntermediate(\n",
              "            (dense): Linear(in_features=768, out_features=3072, bias=True)\n",
              "          )\n",
              "          (output): RobertaOutput(\n",
              "            (dense): Linear(in_features=3072, out_features=768, bias=True)\n",
              "            (LayerNorm): LayerNorm((768,), eps=1e-05, elementwise_affine=True)\n",
              "            (dropout): Dropout(p=0.1, inplace=False)\n",
              "          )\n",
              "        )\n",
              "        (3): RobertaLayer(\n",
              "          (attention): RobertaAttention(\n",
              "            (self): RobertaSelfAttention(\n",
              "              (query): Linear(in_features=768, out_features=768, bias=True)\n",
              "              (key): Linear(in_features=768, out_features=768, bias=True)\n",
              "              (value): Linear(in_features=768, out_features=768, bias=True)\n",
              "              (dropout): Dropout(p=0.1, inplace=False)\n",
              "            )\n",
              "            (output): RobertaSelfOutput(\n",
              "              (dense): Linear(in_features=768, out_features=768, bias=True)\n",
              "              (LayerNorm): LayerNorm((768,), eps=1e-05, elementwise_affine=True)\n",
              "              (dropout): Dropout(p=0.1, inplace=False)\n",
              "            )\n",
              "          )\n",
              "          (crossattention): RobertaAttention(\n",
              "            (self): RobertaSelfAttention(\n",
              "              (query): Linear(in_features=768, out_features=768, bias=True)\n",
              "              (key): Linear(in_features=768, out_features=768, bias=True)\n",
              "              (value): Linear(in_features=768, out_features=768, bias=True)\n",
              "              (dropout): Dropout(p=0.1, inplace=False)\n",
              "            )\n",
              "            (output): RobertaSelfOutput(\n",
              "              (dense): Linear(in_features=768, out_features=768, bias=True)\n",
              "              (LayerNorm): LayerNorm((768,), eps=1e-05, elementwise_affine=True)\n",
              "              (dropout): Dropout(p=0.1, inplace=False)\n",
              "            )\n",
              "          )\n",
              "          (intermediate): RobertaIntermediate(\n",
              "            (dense): Linear(in_features=768, out_features=3072, bias=True)\n",
              "          )\n",
              "          (output): RobertaOutput(\n",
              "            (dense): Linear(in_features=3072, out_features=768, bias=True)\n",
              "            (LayerNorm): LayerNorm((768,), eps=1e-05, elementwise_affine=True)\n",
              "            (dropout): Dropout(p=0.1, inplace=False)\n",
              "          )\n",
              "        )\n",
              "        (4): RobertaLayer(\n",
              "          (attention): RobertaAttention(\n",
              "            (self): RobertaSelfAttention(\n",
              "              (query): Linear(in_features=768, out_features=768, bias=True)\n",
              "              (key): Linear(in_features=768, out_features=768, bias=True)\n",
              "              (value): Linear(in_features=768, out_features=768, bias=True)\n",
              "              (dropout): Dropout(p=0.1, inplace=False)\n",
              "            )\n",
              "            (output): RobertaSelfOutput(\n",
              "              (dense): Linear(in_features=768, out_features=768, bias=True)\n",
              "              (LayerNorm): LayerNorm((768,), eps=1e-05, elementwise_affine=True)\n",
              "              (dropout): Dropout(p=0.1, inplace=False)\n",
              "            )\n",
              "          )\n",
              "          (crossattention): RobertaAttention(\n",
              "            (self): RobertaSelfAttention(\n",
              "              (query): Linear(in_features=768, out_features=768, bias=True)\n",
              "              (key): Linear(in_features=768, out_features=768, bias=True)\n",
              "              (value): Linear(in_features=768, out_features=768, bias=True)\n",
              "              (dropout): Dropout(p=0.1, inplace=False)\n",
              "            )\n",
              "            (output): RobertaSelfOutput(\n",
              "              (dense): Linear(in_features=768, out_features=768, bias=True)\n",
              "              (LayerNorm): LayerNorm((768,), eps=1e-05, elementwise_affine=True)\n",
              "              (dropout): Dropout(p=0.1, inplace=False)\n",
              "            )\n",
              "          )\n",
              "          (intermediate): RobertaIntermediate(\n",
              "            (dense): Linear(in_features=768, out_features=3072, bias=True)\n",
              "          )\n",
              "          (output): RobertaOutput(\n",
              "            (dense): Linear(in_features=3072, out_features=768, bias=True)\n",
              "            (LayerNorm): LayerNorm((768,), eps=1e-05, elementwise_affine=True)\n",
              "            (dropout): Dropout(p=0.1, inplace=False)\n",
              "          )\n",
              "        )\n",
              "        (5): RobertaLayer(\n",
              "          (attention): RobertaAttention(\n",
              "            (self): RobertaSelfAttention(\n",
              "              (query): Linear(in_features=768, out_features=768, bias=True)\n",
              "              (key): Linear(in_features=768, out_features=768, bias=True)\n",
              "              (value): Linear(in_features=768, out_features=768, bias=True)\n",
              "              (dropout): Dropout(p=0.1, inplace=False)\n",
              "            )\n",
              "            (output): RobertaSelfOutput(\n",
              "              (dense): Linear(in_features=768, out_features=768, bias=True)\n",
              "              (LayerNorm): LayerNorm((768,), eps=1e-05, elementwise_affine=True)\n",
              "              (dropout): Dropout(p=0.1, inplace=False)\n",
              "            )\n",
              "          )\n",
              "          (crossattention): RobertaAttention(\n",
              "            (self): RobertaSelfAttention(\n",
              "              (query): Linear(in_features=768, out_features=768, bias=True)\n",
              "              (key): Linear(in_features=768, out_features=768, bias=True)\n",
              "              (value): Linear(in_features=768, out_features=768, bias=True)\n",
              "              (dropout): Dropout(p=0.1, inplace=False)\n",
              "            )\n",
              "            (output): RobertaSelfOutput(\n",
              "              (dense): Linear(in_features=768, out_features=768, bias=True)\n",
              "              (LayerNorm): LayerNorm((768,), eps=1e-05, elementwise_affine=True)\n",
              "              (dropout): Dropout(p=0.1, inplace=False)\n",
              "            )\n",
              "          )\n",
              "          (intermediate): RobertaIntermediate(\n",
              "            (dense): Linear(in_features=768, out_features=3072, bias=True)\n",
              "          )\n",
              "          (output): RobertaOutput(\n",
              "            (dense): Linear(in_features=3072, out_features=768, bias=True)\n",
              "            (LayerNorm): LayerNorm((768,), eps=1e-05, elementwise_affine=True)\n",
              "            (dropout): Dropout(p=0.1, inplace=False)\n",
              "          )\n",
              "        )\n",
              "        (6): RobertaLayer(\n",
              "          (attention): RobertaAttention(\n",
              "            (self): RobertaSelfAttention(\n",
              "              (query): Linear(in_features=768, out_features=768, bias=True)\n",
              "              (key): Linear(in_features=768, out_features=768, bias=True)\n",
              "              (value): Linear(in_features=768, out_features=768, bias=True)\n",
              "              (dropout): Dropout(p=0.1, inplace=False)\n",
              "            )\n",
              "            (output): RobertaSelfOutput(\n",
              "              (dense): Linear(in_features=768, out_features=768, bias=True)\n",
              "              (LayerNorm): LayerNorm((768,), eps=1e-05, elementwise_affine=True)\n",
              "              (dropout): Dropout(p=0.1, inplace=False)\n",
              "            )\n",
              "          )\n",
              "          (crossattention): RobertaAttention(\n",
              "            (self): RobertaSelfAttention(\n",
              "              (query): Linear(in_features=768, out_features=768, bias=True)\n",
              "              (key): Linear(in_features=768, out_features=768, bias=True)\n",
              "              (value): Linear(in_features=768, out_features=768, bias=True)\n",
              "              (dropout): Dropout(p=0.1, inplace=False)\n",
              "            )\n",
              "            (output): RobertaSelfOutput(\n",
              "              (dense): Linear(in_features=768, out_features=768, bias=True)\n",
              "              (LayerNorm): LayerNorm((768,), eps=1e-05, elementwise_affine=True)\n",
              "              (dropout): Dropout(p=0.1, inplace=False)\n",
              "            )\n",
              "          )\n",
              "          (intermediate): RobertaIntermediate(\n",
              "            (dense): Linear(in_features=768, out_features=3072, bias=True)\n",
              "          )\n",
              "          (output): RobertaOutput(\n",
              "            (dense): Linear(in_features=3072, out_features=768, bias=True)\n",
              "            (LayerNorm): LayerNorm((768,), eps=1e-05, elementwise_affine=True)\n",
              "            (dropout): Dropout(p=0.1, inplace=False)\n",
              "          )\n",
              "        )\n",
              "        (7): RobertaLayer(\n",
              "          (attention): RobertaAttention(\n",
              "            (self): RobertaSelfAttention(\n",
              "              (query): Linear(in_features=768, out_features=768, bias=True)\n",
              "              (key): Linear(in_features=768, out_features=768, bias=True)\n",
              "              (value): Linear(in_features=768, out_features=768, bias=True)\n",
              "              (dropout): Dropout(p=0.1, inplace=False)\n",
              "            )\n",
              "            (output): RobertaSelfOutput(\n",
              "              (dense): Linear(in_features=768, out_features=768, bias=True)\n",
              "              (LayerNorm): LayerNorm((768,), eps=1e-05, elementwise_affine=True)\n",
              "              (dropout): Dropout(p=0.1, inplace=False)\n",
              "            )\n",
              "          )\n",
              "          (crossattention): RobertaAttention(\n",
              "            (self): RobertaSelfAttention(\n",
              "              (query): Linear(in_features=768, out_features=768, bias=True)\n",
              "              (key): Linear(in_features=768, out_features=768, bias=True)\n",
              "              (value): Linear(in_features=768, out_features=768, bias=True)\n",
              "              (dropout): Dropout(p=0.1, inplace=False)\n",
              "            )\n",
              "            (output): RobertaSelfOutput(\n",
              "              (dense): Linear(in_features=768, out_features=768, bias=True)\n",
              "              (LayerNorm): LayerNorm((768,), eps=1e-05, elementwise_affine=True)\n",
              "              (dropout): Dropout(p=0.1, inplace=False)\n",
              "            )\n",
              "          )\n",
              "          (intermediate): RobertaIntermediate(\n",
              "            (dense): Linear(in_features=768, out_features=3072, bias=True)\n",
              "          )\n",
              "          (output): RobertaOutput(\n",
              "            (dense): Linear(in_features=3072, out_features=768, bias=True)\n",
              "            (LayerNorm): LayerNorm((768,), eps=1e-05, elementwise_affine=True)\n",
              "            (dropout): Dropout(p=0.1, inplace=False)\n",
              "          )\n",
              "        )\n",
              "        (8): RobertaLayer(\n",
              "          (attention): RobertaAttention(\n",
              "            (self): RobertaSelfAttention(\n",
              "              (query): Linear(in_features=768, out_features=768, bias=True)\n",
              "              (key): Linear(in_features=768, out_features=768, bias=True)\n",
              "              (value): Linear(in_features=768, out_features=768, bias=True)\n",
              "              (dropout): Dropout(p=0.1, inplace=False)\n",
              "            )\n",
              "            (output): RobertaSelfOutput(\n",
              "              (dense): Linear(in_features=768, out_features=768, bias=True)\n",
              "              (LayerNorm): LayerNorm((768,), eps=1e-05, elementwise_affine=True)\n",
              "              (dropout): Dropout(p=0.1, inplace=False)\n",
              "            )\n",
              "          )\n",
              "          (crossattention): RobertaAttention(\n",
              "            (self): RobertaSelfAttention(\n",
              "              (query): Linear(in_features=768, out_features=768, bias=True)\n",
              "              (key): Linear(in_features=768, out_features=768, bias=True)\n",
              "              (value): Linear(in_features=768, out_features=768, bias=True)\n",
              "              (dropout): Dropout(p=0.1, inplace=False)\n",
              "            )\n",
              "            (output): RobertaSelfOutput(\n",
              "              (dense): Linear(in_features=768, out_features=768, bias=True)\n",
              "              (LayerNorm): LayerNorm((768,), eps=1e-05, elementwise_affine=True)\n",
              "              (dropout): Dropout(p=0.1, inplace=False)\n",
              "            )\n",
              "          )\n",
              "          (intermediate): RobertaIntermediate(\n",
              "            (dense): Linear(in_features=768, out_features=3072, bias=True)\n",
              "          )\n",
              "          (output): RobertaOutput(\n",
              "            (dense): Linear(in_features=3072, out_features=768, bias=True)\n",
              "            (LayerNorm): LayerNorm((768,), eps=1e-05, elementwise_affine=True)\n",
              "            (dropout): Dropout(p=0.1, inplace=False)\n",
              "          )\n",
              "        )\n",
              "        (9): RobertaLayer(\n",
              "          (attention): RobertaAttention(\n",
              "            (self): RobertaSelfAttention(\n",
              "              (query): Linear(in_features=768, out_features=768, bias=True)\n",
              "              (key): Linear(in_features=768, out_features=768, bias=True)\n",
              "              (value): Linear(in_features=768, out_features=768, bias=True)\n",
              "              (dropout): Dropout(p=0.1, inplace=False)\n",
              "            )\n",
              "            (output): RobertaSelfOutput(\n",
              "              (dense): Linear(in_features=768, out_features=768, bias=True)\n",
              "              (LayerNorm): LayerNorm((768,), eps=1e-05, elementwise_affine=True)\n",
              "              (dropout): Dropout(p=0.1, inplace=False)\n",
              "            )\n",
              "          )\n",
              "          (crossattention): RobertaAttention(\n",
              "            (self): RobertaSelfAttention(\n",
              "              (query): Linear(in_features=768, out_features=768, bias=True)\n",
              "              (key): Linear(in_features=768, out_features=768, bias=True)\n",
              "              (value): Linear(in_features=768, out_features=768, bias=True)\n",
              "              (dropout): Dropout(p=0.1, inplace=False)\n",
              "            )\n",
              "            (output): RobertaSelfOutput(\n",
              "              (dense): Linear(in_features=768, out_features=768, bias=True)\n",
              "              (LayerNorm): LayerNorm((768,), eps=1e-05, elementwise_affine=True)\n",
              "              (dropout): Dropout(p=0.1, inplace=False)\n",
              "            )\n",
              "          )\n",
              "          (intermediate): RobertaIntermediate(\n",
              "            (dense): Linear(in_features=768, out_features=3072, bias=True)\n",
              "          )\n",
              "          (output): RobertaOutput(\n",
              "            (dense): Linear(in_features=3072, out_features=768, bias=True)\n",
              "            (LayerNorm): LayerNorm((768,), eps=1e-05, elementwise_affine=True)\n",
              "            (dropout): Dropout(p=0.1, inplace=False)\n",
              "          )\n",
              "        )\n",
              "        (10): RobertaLayer(\n",
              "          (attention): RobertaAttention(\n",
              "            (self): RobertaSelfAttention(\n",
              "              (query): Linear(in_features=768, out_features=768, bias=True)\n",
              "              (key): Linear(in_features=768, out_features=768, bias=True)\n",
              "              (value): Linear(in_features=768, out_features=768, bias=True)\n",
              "              (dropout): Dropout(p=0.1, inplace=False)\n",
              "            )\n",
              "            (output): RobertaSelfOutput(\n",
              "              (dense): Linear(in_features=768, out_features=768, bias=True)\n",
              "              (LayerNorm): LayerNorm((768,), eps=1e-05, elementwise_affine=True)\n",
              "              (dropout): Dropout(p=0.1, inplace=False)\n",
              "            )\n",
              "          )\n",
              "          (crossattention): RobertaAttention(\n",
              "            (self): RobertaSelfAttention(\n",
              "              (query): Linear(in_features=768, out_features=768, bias=True)\n",
              "              (key): Linear(in_features=768, out_features=768, bias=True)\n",
              "              (value): Linear(in_features=768, out_features=768, bias=True)\n",
              "              (dropout): Dropout(p=0.1, inplace=False)\n",
              "            )\n",
              "            (output): RobertaSelfOutput(\n",
              "              (dense): Linear(in_features=768, out_features=768, bias=True)\n",
              "              (LayerNorm): LayerNorm((768,), eps=1e-05, elementwise_affine=True)\n",
              "              (dropout): Dropout(p=0.1, inplace=False)\n",
              "            )\n",
              "          )\n",
              "          (intermediate): RobertaIntermediate(\n",
              "            (dense): Linear(in_features=768, out_features=3072, bias=True)\n",
              "          )\n",
              "          (output): RobertaOutput(\n",
              "            (dense): Linear(in_features=3072, out_features=768, bias=True)\n",
              "            (LayerNorm): LayerNorm((768,), eps=1e-05, elementwise_affine=True)\n",
              "            (dropout): Dropout(p=0.1, inplace=False)\n",
              "          )\n",
              "        )\n",
              "        (11): RobertaLayer(\n",
              "          (attention): RobertaAttention(\n",
              "            (self): RobertaSelfAttention(\n",
              "              (query): Linear(in_features=768, out_features=768, bias=True)\n",
              "              (key): Linear(in_features=768, out_features=768, bias=True)\n",
              "              (value): Linear(in_features=768, out_features=768, bias=True)\n",
              "              (dropout): Dropout(p=0.1, inplace=False)\n",
              "            )\n",
              "            (output): RobertaSelfOutput(\n",
              "              (dense): Linear(in_features=768, out_features=768, bias=True)\n",
              "              (LayerNorm): LayerNorm((768,), eps=1e-05, elementwise_affine=True)\n",
              "              (dropout): Dropout(p=0.1, inplace=False)\n",
              "            )\n",
              "          )\n",
              "          (crossattention): RobertaAttention(\n",
              "            (self): RobertaSelfAttention(\n",
              "              (query): Linear(in_features=768, out_features=768, bias=True)\n",
              "              (key): Linear(in_features=768, out_features=768, bias=True)\n",
              "              (value): Linear(in_features=768, out_features=768, bias=True)\n",
              "              (dropout): Dropout(p=0.1, inplace=False)\n",
              "            )\n",
              "            (output): RobertaSelfOutput(\n",
              "              (dense): Linear(in_features=768, out_features=768, bias=True)\n",
              "              (LayerNorm): LayerNorm((768,), eps=1e-05, elementwise_affine=True)\n",
              "              (dropout): Dropout(p=0.1, inplace=False)\n",
              "            )\n",
              "          )\n",
              "          (intermediate): RobertaIntermediate(\n",
              "            (dense): Linear(in_features=768, out_features=3072, bias=True)\n",
              "          )\n",
              "          (output): RobertaOutput(\n",
              "            (dense): Linear(in_features=3072, out_features=768, bias=True)\n",
              "            (LayerNorm): LayerNorm((768,), eps=1e-05, elementwise_affine=True)\n",
              "            (dropout): Dropout(p=0.1, inplace=False)\n",
              "          )\n",
              "        )\n",
              "      )\n",
              "    )\n",
              "  )\n",
              "  (lm_head): RobertaLMHead(\n",
              "    (dense): Linear(in_features=768, out_features=768, bias=True)\n",
              "    (layer_norm): LayerNorm((768,), eps=1e-05, elementwise_affine=True)\n",
              "    (decoder): Linear(in_features=768, out_features=32006, bias=True)\n",
              "  )\n",
              ")"
            ]
          },
          "metadata": {
            "tags": []
          },
          "execution_count": 44
        }
      ]
    },
    {
      "cell_type": "code",
      "metadata": {
        "colab": {
          "base_uri": "https://localhost:8080/",
          "height": 34
        },
        "id": "b14X5dHxXXs1",
        "outputId": "458c71ee-b179-4d12-8b7c-b7326f66321d"
      },
      "source": [
        "learn.validate()"
      ],
      "execution_count": 45,
      "outputs": [
        {
          "output_type": "display_data",
          "data": {
            "text/html": [
              ""
            ],
            "text/plain": [
              "<IPython.core.display.HTML object>"
            ]
          },
          "metadata": {
            "tags": []
          }
        },
        {
          "output_type": "execute_result",
          "data": {
            "text/plain": [
              "(#2) [14.1454439163208,1390875.375]"
            ]
          },
          "metadata": {
            "tags": []
          },
          "execution_count": 45
        }
      ]
    },
    {
      "cell_type": "code",
      "metadata": {
        "id": "7jELnzv2XbVF",
        "colab": {
          "base_uri": "https://localhost:8080/",
          "height": 300
        },
        "outputId": "b7b66983-e98e-4319-9e1b-4ab6de371644"
      },
      "source": [
        "learn.lr_find()"
      ],
      "execution_count": 46,
      "outputs": [
        {
          "output_type": "display_data",
          "data": {
            "text/html": [
              ""
            ],
            "text/plain": [
              "<IPython.core.display.HTML object>"
            ]
          },
          "metadata": {
            "tags": []
          }
        },
        {
          "output_type": "execute_result",
          "data": {
            "text/plain": [
              "SuggestedLRs(lr_min=0.03630780577659607, lr_steep=0.3019951581954956)"
            ]
          },
          "metadata": {
            "tags": []
          },
          "execution_count": 46
        },
        {
          "output_type": "display_data",
          "data": {
            "image/png": "[encoded data removed]",
            "text/plain": [
              "<Figure size 432x288 with 1 Axes>"
            ]
          },
          "metadata": {
            "tags": [],
            "needs_background": "light"
          }
        }
      ]
    },
    {
      "cell_type": "code",
      "metadata": {
        "id": "xyMgjK7oXe-H",
        "colab": {
          "base_uri": "https://localhost:8080/",
          "height": 80
        },
        "outputId": "7c865a6e-162d-46c6-ec35-a99347646235"
      },
      "source": [
        "learn.fit_one_cycle(1, 1e-4)"
      ],
      "execution_count": 47,
      "outputs": [
        {
          "output_type": "display_data",
          "data": {
            "text/html": [
              "<table border=\"1\" class=\"dataframe\">\n",
              "  <thead>\n",
              "    <tr style=\"text-align: left;\">\n",
              "      <th>epoch</th>\n",
              "      <th>train_loss</th>\n",
              "      <th>valid_loss</th>\n",
              "      <th>perplexity</th>\n",
              "      <th>time</th>\n",
              "    </tr>\n",
              "  </thead>\n",
              "  <tbody>\n",
              "    <tr>\n",
              "      <td>0</td>\n",
              "      <td>4.102899</td>\n",
              "      <td>3.969334</td>\n",
              "      <td>52.949276</td>\n",
              "      <td>02:02</td>\n",
              "    </tr>\n",
              "  </tbody>\n",
              "</table>"
            ],
            "text/plain": [
              "<IPython.core.display.HTML object>"
            ]
          },
          "metadata": {
            "tags": []
          }
        }
      ]
    },
    {
      "cell_type": "markdown",
      "metadata": {
        "id": "DD_yNXXZXUMT"
      },
      "source": [
        "## Saving the trained model"
      ]
    },
    {
      "cell_type": "code",
      "metadata": {
        "colab": {
          "base_uri": "https://localhost:8080/"
        },
        "id": "MjGGXRwnZFxe",
        "outputId": "95541a35-8c7a-4054-e43e-66eb5f78824e"
      },
      "source": [
        "# saving the newly trained model\n",
        "learn.save('1epoch')"
      ],
      "execution_count": 48,
      "outputs": [
        {
          "output_type": "execute_result",
          "data": {
            "text/plain": [
              "Path('models/1epoch.pth')"
            ]
          },
          "metadata": {
            "tags": []
          },
          "execution_count": 48
        }
      ]
    },
    {
      "cell_type": "code",
      "metadata": {
        "id": "D70RFzA8AF8G"
      },
      "source": [
        ""
      ],
      "execution_count": 48,
      "outputs": []
    },
    {
      "cell_type": "markdown",
      "metadata": {
        "id": "AAb_4Su2XbY6"
      },
      "source": [
        "## Saving the model's vocabulary"
      ]
    },
    {
      "cell_type": "code",
      "metadata": {
        "id": "EosVFJwKknhn"
      },
      "source": [
        "# saving the vocabulary\n",
        "vocab= tokenizer.save_vocabulary('/content/allocine/data/')"
      ],
      "execution_count": 49,
      "outputs": []
    },
    {
      "cell_type": "markdown",
      "metadata": {
        "id": "xP1ndRYMczCt"
      },
      "source": [
        "NOTE: the file name is `sentencepiece.bpe.model`"
      ]
    },
    {
      "cell_type": "code",
      "metadata": {
        "id": "PaF5InUYVUkG"
      },
      "source": [
        "# other way to save the vocabulary by making a list\n",
        "vocab_lm = list(tokenizer.get_vocab()) #dictionary"
      ],
      "execution_count": 50,
      "outputs": []
    },
    {
      "cell_type": "code",
      "metadata": {
        "colab": {
          "base_uri": "https://localhost:8080/"
        },
        "id": "q7PGkzMrCqtC",
        "outputId": "2525d989-dfac-4a54-b32c-b848680c1c8b"
      },
      "source": [
        "vocab_lm[:10]"
      ],
      "execution_count": 51,
      "outputs": [
        {
          "output_type": "execute_result",
          "data": {
            "text/plain": [
              "['<s>NOTUSED',\n",
              " '<pad>',\n",
              " '</s>NOTUSED',\n",
              " '<unk>',\n",
              " '<s>',\n",
              " '</s>',\n",
              " ',',\n",
              " '▁de',\n",
              " '.',\n",
              " 's']"
            ]
          },
          "metadata": {
            "tags": []
          },
          "execution_count": 51
        }
      ]
    },
    {
      "cell_type": "code",
      "metadata": {
        "colab": {
          "base_uri": "https://localhost:8080/"
        },
        "id": "1Hd-ze0dNrAd",
        "outputId": "8e64e5ee-8e08-400b-e50e-d581e6bf6ca2"
      },
      "source": [
        "type(vocab_lm)"
      ],
      "execution_count": 83,
      "outputs": [
        {
          "output_type": "execute_result",
          "data": {
            "text/plain": [
              "list"
            ]
          },
          "metadata": {
            "tags": []
          },
          "execution_count": 83
        }
      ]
    },
    {
      "cell_type": "code",
      "metadata": {
        "colab": {
          "base_uri": "https://localhost:8080/"
        },
        "id": "2wCmGCAQYQ2S",
        "outputId": "136a4b0f-6b21-4247-99a4-98df25cbe999"
      },
      "source": [
        "len(vocab_lm)"
      ],
      "execution_count": 52,
      "outputs": [
        {
          "output_type": "execute_result",
          "data": {
            "text/plain": [
              "32005"
            ]
          },
          "metadata": {
            "tags": []
          },
          "execution_count": 52
        }
      ]
    },
    {
      "cell_type": "code",
      "metadata": {
        "id": "-RKs6obJX1Hm"
      },
      "source": [
        "# vocab size assertion\n",
        "assert(len(vocab_lm) == tokenizer.vocab_size) # it returns True!"
      ],
      "execution_count": 53,
      "outputs": []
    },
    {
      "cell_type": "markdown",
      "metadata": {
        "id": "JTP5GeZ7xQxz"
      },
      "source": [
        "## Inference"
      ]
    },
    {
      "cell_type": "code",
      "metadata": {
        "id": "QPvgRRL5XiwE",
        "colab": {
          "base_uri": "https://localhost:8080/",
          "height": 131
        },
        "outputId": "d277b3d6-7034-4e10-903c-13760d91d238"
      },
      "source": [
        "df_valid.head(1)"
      ],
      "execution_count": 54,
      "outputs": [
        {
          "output_type": "execute_result",
          "data": {
            "text/html": [
              "<div>\n",
              "<style scoped>\n",
              "    .dataframe tbody tr th:only-of-type {\n",
              "        vertical-align: middle;\n",
              "    }\n",
              "\n",
              "    .dataframe tbody tr th {\n",
              "        vertical-align: top;\n",
              "    }\n",
              "\n",
              "    .dataframe thead th {\n",
              "        text-align: right;\n",
              "    }\n",
              "</style>\n",
              "<table border=\"1\" class=\"dataframe\">\n",
              "  <thead>\n",
              "    <tr style=\"text-align: right;\">\n",
              "      <th></th>\n",
              "      <th>0</th>\n",
              "      <th>1</th>\n",
              "      <th>2</th>\n",
              "    </tr>\n",
              "  </thead>\n",
              "  <tbody>\n",
              "    <tr>\n",
              "      <th>0</th>\n",
              "      <td>http://www.allocine.fr/film/fichefilm-51895/critiques/spectateurs</td>\n",
              "      <td>Ce film est tout ce qu'il y a de plus sympa. Même si l'ensemble n'est pas dépourvu de clichés, il serait hypocrite de dire que ce film est ennuyeux à regarder, bien au contraire. Il est très plaisant à regarder et même si l'ensemble est asse convenue, la mise en scène de Peter Chelsom est légère et ce film est une sorte de bouffée d'air frais. Tout à fait estimable.</td>\n",
              "      <td>0</td>\n",
              "    </tr>\n",
              "  </tbody>\n",
              "</table>\n",
              "</div>"
            ],
            "text/plain": [
              "                                                                   0  ...  2\n",
              "0  http://www.allocine.fr/film/fichefilm-51895/critiques/spectateurs  ...  0\n",
              "\n",
              "[1 rows x 3 columns]"
            ]
          },
          "metadata": {
            "tags": []
          },
          "execution_count": 54
        }
      ]
    },
    {
      "cell_type": "code",
      "metadata": {
        "id": "KqPWZnaVXmm2"
      },
      "source": [
        "#prompt = \"ce film est un navet, il met en\"\n",
        "prompt = \"c'est une histoire abracadabrantesque\""
      ],
      "execution_count": 55,
      "outputs": []
    },
    {
      "cell_type": "code",
      "metadata": {
        "id": "EYphngtMXtlB",
        "colab": {
          "base_uri": "https://localhost:8080/"
        },
        "outputId": "183a364e-ee18-45d1-b4a2-9bf117226179"
      },
      "source": [
        "prompt_ids = tokenizer.encode(prompt)\n",
        "inp = tensor(prompt_ids)[None].cuda()\n",
        "inp.shape"
      ],
      "execution_count": 56,
      "outputs": [
        {
          "output_type": "execute_result",
          "data": {
            "text/plain": [
              "torch.Size([1, 13])"
            ]
          },
          "metadata": {
            "tags": []
          },
          "execution_count": 56
        }
      ]
    },
    {
      "cell_type": "code",
      "metadata": {
        "id": "uVo38yMPZQIb"
      },
      "source": [
        "preds = learn.model.generate(inp, max_length=40, num_beams=5, temperature=1.5)"
      ],
      "execution_count": 57,
      "outputs": []
    },
    {
      "cell_type": "code",
      "metadata": {
        "id": "oJspnelfXxv7",
        "colab": {
          "base_uri": "https://localhost:8080/",
          "height": 52
        },
        "outputId": "8d3ff46d-ccd3-442b-d6a4-d5ef6eb0e655"
      },
      "source": [
        "tokenizer.decode(preds[0].cpu().numpy())"
      ],
      "execution_count": 58,
      "outputs": [
        {
          "output_type": "execute_result",
          "data": {
            "application/vnd.google.colaboratory.intrinsic+json": {
              "type": "string"
            },
            "text/plain": [
              "\"<s> c'est une histoire abracadabrantesque</s>e par une bande d'acteurs à l'image de l'histoire. Les acteurs sont tous excellents et les scènes d'\""
            ]
          },
          "metadata": {
            "tags": []
          },
          "execution_count": 58
        }
      ]
    },
    {
      "cell_type": "markdown",
      "metadata": {
        "id": "VINNayH8hVXR"
      },
      "source": [
        "NOTE: The model 'RobertaForCausalLM' is not supported for text-generation. Supported models are ['XLNetLMHeadModel', 'TransfoXLLMHeadModel', 'ReformerModelWithLMHead', 'GPT2LMHeadModel', 'GPTNeoForCausalLM', 'OpenAIGPTLMHeadModel', 'CTRLLMHeadModel', 'TFXLNetLMHeadModel', 'TFTransfoXLLMHeadModel', 'TFGPT2LMHeadModel', 'TFOpenAIGPTLMHeadModel', 'TFCTRLLMHeadModel']"
      ]
    },
    {
      "cell_type": "markdown",
      "metadata": {
        "id": "xsvqr9hWYxj1"
      },
      "source": [
        "# Text Classification"
      ]
    },
    {
      "cell_type": "code",
      "metadata": {
        "id": "ZCmpdrxn-vSO",
        "colab": {
          "base_uri": "https://localhost:8080/"
        },
        "outputId": "e3780e13-05b5-4be4-f0cb-bc975807d911"
      },
      "source": [
        "path"
      ],
      "execution_count": 59,
      "outputs": [
        {
          "output_type": "execute_result",
          "data": {
            "text/plain": [
              "Path('/content/allocine')"
            ]
          },
          "metadata": {
            "tags": []
          },
          "execution_count": 59
        }
      ]
    },
    {
      "cell_type": "code",
      "metadata": {
        "colab": {
          "base_uri": "https://localhost:8080/",
          "height": 165
        },
        "id": "AAXZjFyH7ZdG",
        "outputId": "f9480294-857a-43f8-e0ab-d53aa4390249"
      },
      "source": [
        "df = pd.read_json(path/'data/train.jsonl', lines=True, nrows=30000)\n",
        "df.head(1)"
      ],
      "execution_count": 60,
      "outputs": [
        {
          "output_type": "execute_result",
          "data": {
            "text/html": [
              "<div>\n",
              "<style scoped>\n",
              "    .dataframe tbody tr th:only-of-type {\n",
              "        vertical-align: middle;\n",
              "    }\n",
              "\n",
              "    .dataframe tbody tr th {\n",
              "        vertical-align: top;\n",
              "    }\n",
              "\n",
              "    .dataframe thead th {\n",
              "        text-align: right;\n",
              "    }\n",
              "</style>\n",
              "<table border=\"1\" class=\"dataframe\">\n",
              "  <thead>\n",
              "    <tr style=\"text-align: right;\">\n",
              "      <th></th>\n",
              "      <th>film-url</th>\n",
              "      <th>review</th>\n",
              "      <th>polarity</th>\n",
              "    </tr>\n",
              "  </thead>\n",
              "  <tbody>\n",
              "    <tr>\n",
              "      <th>0</th>\n",
              "      <td>http://www.allocine.fr/film/fichefilm-135259/critiques/spectateurs</td>\n",
              "      <td>Si vous cherchez du cinéma abrutissant à tous les étages,n'ayant aucune peur du cliché en castagnettes et moralement douteux,\"From Paris with love\" est fait pour vous.Toutes les productions Besson,via sa filière EuropaCorp ont de quoi faire naître la moquerie.Paris y est encore une fois montrée comme une capitale exotique,mais attention si l'on se dirige vers la banlieue,on y trouve tout plein d'intégristes musulmans prêts à faire sauter le caisson d'une ambassadrice américaine.Nauséeux.Alors on se dit qu'on va au moins pouvoir apprécier la déconnade d'un classique buddy-movie avec le jeun...</td>\n",
              "      <td>0</td>\n",
              "    </tr>\n",
              "  </tbody>\n",
              "</table>\n",
              "</div>"
            ],
            "text/plain": [
              "                                                             film-url  ... polarity\n",
              "0  http://www.allocine.fr/film/fichefilm-135259/critiques/spectateurs  ...        0\n",
              "\n",
              "[1 rows x 3 columns]"
            ]
          },
          "metadata": {
            "tags": []
          },
          "execution_count": 60
        }
      ]
    },
    {
      "cell_type": "code",
      "metadata": {
        "colab": {
          "base_uri": "https://localhost:8080/"
        },
        "id": "pysCDtw-9h20",
        "outputId": "bd4bdb25-820c-458d-fdbc-7f1ae7673789"
      },
      "source": [
        "# splitting a df by rows\n",
        "df_train = df.iloc[10001:-1]; len(df_train)"
      ],
      "execution_count": 61,
      "outputs": [
        {
          "output_type": "execute_result",
          "data": {
            "text/plain": [
              "19998"
            ]
          },
          "metadata": {
            "tags": []
          },
          "execution_count": 61
        }
      ]
    },
    {
      "cell_type": "code",
      "metadata": {
        "id": "x_MQvuzqY1lI"
      },
      "source": [
        "df_train.to_csv(path/'data/train1.csv', encoding = 'utf-8', header = True, index = False)"
      ],
      "execution_count": 62,
      "outputs": []
    },
    {
      "cell_type": "code",
      "metadata": {
        "colab": {
          "base_uri": "https://localhost:8080/",
          "height": 148
        },
        "id": "uHa3leI2uEyL",
        "outputId": "358c133e-299d-4615-e634-612e6555527e"
      },
      "source": [
        "df_train.head(1)"
      ],
      "execution_count": 63,
      "outputs": [
        {
          "output_type": "execute_result",
          "data": {
            "text/html": [
              "<div>\n",
              "<style scoped>\n",
              "    .dataframe tbody tr th:only-of-type {\n",
              "        vertical-align: middle;\n",
              "    }\n",
              "\n",
              "    .dataframe tbody tr th {\n",
              "        vertical-align: top;\n",
              "    }\n",
              "\n",
              "    .dataframe thead th {\n",
              "        text-align: right;\n",
              "    }\n",
              "</style>\n",
              "<table border=\"1\" class=\"dataframe\">\n",
              "  <thead>\n",
              "    <tr style=\"text-align: right;\">\n",
              "      <th></th>\n",
              "      <th>film-url</th>\n",
              "      <th>review</th>\n",
              "      <th>polarity</th>\n",
              "    </tr>\n",
              "  </thead>\n",
              "  <tbody>\n",
              "    <tr>\n",
              "      <th>10001</th>\n",
              "      <td>http://www.allocine.fr/film/fichefilm-50911/critiques/spectateurs</td>\n",
              "      <td>Quel navet!!!! Un mix entre une réalisation classique et caméra à l'épaule, des acteurs insupportables (voir la rousse dans la voiture donne une irrésistible envie de gifler), un tueur sans charisme..... Légérement gore qui tâche, aucune sensation de stress ne vient nous titiller l'esprit. Slasher basique sans aucun génie, ce film est à oublier voir même à ne pas regarder. Malgré son 1h10, pas possible de le terminer.</td>\n",
              "      <td>0</td>\n",
              "    </tr>\n",
              "  </tbody>\n",
              "</table>\n",
              "</div>"
            ],
            "text/plain": [
              "                                                                film-url  ... polarity\n",
              "10001  http://www.allocine.fr/film/fichefilm-50911/critiques/spectateurs  ...        0\n",
              "\n",
              "[1 rows x 3 columns]"
            ]
          },
          "metadata": {
            "tags": []
          },
          "execution_count": 63
        }
      ]
    },
    {
      "cell_type": "markdown",
      "metadata": {
        "id": "cygnTdgQD4kw"
      },
      "source": [
        "## Text Dataloader"
      ]
    },
    {
      "cell_type": "code",
      "metadata": {
        "id": "9i-ygEzPFJLb",
        "colab": {
          "base_uri": "https://localhost:8080/",
          "height": 178
        },
        "outputId": "6782b6e5-33a0-4b12-8309-30fda45e0afb"
      },
      "source": [
        "doc(TextDataLoaders.from_df)"
      ],
      "execution_count": 93,
      "outputs": [
        {
          "output_type": "display_data",
          "data": {
            "text/html": [
              "<h4 id=\"TextDataLoaders.from_df\" class=\"doc_header\"><code>TextDataLoaders.from_df</code><a href=\"https://github.com/fastai/fastai/tree/master/fastai/text/data.py#L261\" class=\"source_link\" style=\"float:right\">[source]</a></h4><blockquote><p><code>TextDataLoaders.from_df</code>(<strong><code>df</code></strong>, <strong><code>path</code></strong>=<em><code>'.'</code></em>, <strong><code>valid_pct</code></strong>=<em><code>0.2</code></em>, <strong><code>seed</code></strong>=<em><code>None</code></em>, <strong><code>text_col</code></strong>=<em><code>0</code></em>, <strong><code>label_col</code></strong>=<em><code>1</code></em>, <strong><code>label_delim</code></strong>=<em><code>None</code></em>, <strong><code>y_block</code></strong>=<em><code>None</code></em>, <strong><code>text_vocab</code></strong>=<em><code>None</code></em>, <strong><code>is_lm</code></strong>=<em><code>False</code></em>, <strong><code>valid_col</code></strong>=<em><code>None</code></em>, <strong><code>tok_tfm</code></strong>=<em><code>None</code></em>, <strong><code>tok_text_col</code></strong>=<em><code>'text'</code></em>, <strong><code>seq_len</code></strong>=<em><code>72</code></em>, <strong><code>backwards</code></strong>=<em><code>False</code></em>, <strong><code>bs</code></strong>=<em><code>64</code></em>, <strong><code>val_bs</code></strong>=<em><code>None</code></em>, <strong><code>shuffle</code></strong>=<em><code>True</code></em>, <strong><code>device</code></strong>=<em><code>None</code></em>)</p>\n",
              "</blockquote>\n",
              "<p>Create from <code>df</code> in <code>path</code> with <code>valid_pct</code></p>\n",
              "<p><a href=\"https://docs.fast.ai/text.data#TextDataLoaders.from_df\" target=\"_blank\" rel=\"noreferrer noopener\">Show in docs</a></p>\n"
            ],
            "text/plain": [
              "<IPython.core.display.HTML object>"
            ]
          },
          "metadata": {
            "tags": []
          }
        }
      ]
    },
    {
      "cell_type": "code",
      "metadata": {
        "colab": {
          "base_uri": "https://localhost:8080/",
          "height": 161
        },
        "id": "UFNDzEWTfkW4",
        "outputId": "e6c7752a-2c80-440d-d2a9-152c6464903c"
      },
      "source": [
        "doc(TextBlock.from_df)"
      ],
      "execution_count": 67,
      "outputs": [
        {
          "output_type": "display_data",
          "data": {
            "text/html": [
              "<h4 id=\"TextBlock.from_df\" class=\"doc_header\"><code>TextBlock.from_df</code><a href=\"https://github.com/fastai/fastai/tree/master/fastai/text/data.py#L229\" class=\"source_link\" style=\"float:right\">[source]</a></h4><blockquote><p><code>TextBlock.from_df</code>(<strong><code>text_cols</code></strong>, <strong><code>vocab</code></strong>=<em><code>None</code></em>, <strong><code>is_lm</code></strong>=<em><code>False</code></em>, <strong><code>seq_len</code></strong>=<em><code>72</code></em>, <strong><code>backwards</code></strong>=<em><code>False</code></em>, <strong><code>min_freq</code></strong>=<em><code>3</code></em>, <strong><code>max_vocab</code></strong>=<em><code>60000</code></em>, <strong><code>tok</code></strong>=<em><code>None</code></em>, <strong><code>rules</code></strong>=<em><code>None</code></em>, <strong><code>sep</code></strong>=<em><code>' '</code></em>, <strong><code>n_workers</code></strong>=<em><code>2</code></em>, <strong><code>mark_fields</code></strong>=<em><code>None</code></em>, <strong><code>tok_text_col</code></strong>=<em><code>'text'</code></em>, <strong>**<code>kwargs</code></strong>)</p>\n",
              "</blockquote>\n",
              "<p>Build a <code>TextBlock</code> from a dataframe using <code>text_cols</code></p>\n",
              "<p><a href=\"https://docs.fast.ai/text.data#TextBlock.from_df\" target=\"_blank\" rel=\"noreferrer noopener\">Show in docs</a></p>\n"
            ],
            "text/plain": [
              "<IPython.core.display.HTML object>"
            ]
          },
          "metadata": {
            "tags": []
          }
        }
      ]
    },
    {
      "cell_type": "code",
      "metadata": {
        "id": "_Hl2blqHFQkg",
        "colab": {
          "base_uri": "https://localhost:8080/"
        },
        "outputId": "a0768983-28c1-479a-a6f8-aa7fceecf190"
      },
      "source": [
        "print(bs, sl)"
      ],
      "execution_count": 65,
      "outputs": [
        {
          "output_type": "stream",
          "text": [
            "4 256\n"
          ],
          "name": "stdout"
        }
      ]
    },
    {
      "cell_type": "code",
      "metadata": {
        "id": "LQnxELMAzITm"
      },
      "source": [
        "# df_train.columns = ['film-url','review','polarity']  "
      ],
      "execution_count": 66,
      "outputs": []
    },
    {
      "cell_type": "code",
      "metadata": {
        "colab": {
          "base_uri": "https://localhost:8080/",
          "height": 71
        },
        "id": "ropWZMhvlYm9",
        "outputId": "64ebb99e-355c-4dc6-bdc0-209eb11f5742"
      },
      "source": [
        "# Using TextBlock.from_df without vocab\n",
        "dls_clas = DataBlock(\n",
        "        blocks=(TextBlock.from_df('review', is_lm=False, vocab=None), CategoryBlock),\n",
        "        get_y=ColReader('polarity'), \n",
        "        get_x=ColReader('text'), # res_col_name should be \"text\"?\n",
        "        splitter=RandomSplitter()\n",
        ").dataloaders(df_train, bs=16, seq_len=512)"
      ],
      "execution_count": 94,
      "outputs": [
        {
          "output_type": "display_data",
          "data": {
            "text/html": [
              ""
            ],
            "text/plain": [
              "<IPython.core.display.HTML object>"
            ]
          },
          "metadata": {
            "tags": []
          }
        },
        {
          "output_type": "stream",
          "text": [
            "/usr/local/lib/python3.7/dist-packages/numpy/core/_asarray.py:83: VisibleDeprecationWarning: Creating an ndarray from ragged nested sequences (which is a list-or-tuple of lists-or-tuples-or ndarrays with different lengths or shapes) is deprecated. If you meant to do this, you must specify 'dtype=object' when creating the ndarray\n",
            "  return array(a, dtype, copy=False, order=order)\n"
          ],
          "name": "stderr"
        }
      ]
    },
    {
      "cell_type": "code",
      "metadata": {
        "id": "GD8GM_M1adfl",
        "colab": {
          "base_uri": "https://localhost:8080/",
          "height": 397
        },
        "outputId": "98168103-2194-4e8c-fe59-fc331857b4bc"
      },
      "source": [
        "dls_clas.show_batch(max_n=3)"
      ],
      "execution_count": 95,
      "outputs": [
        {
          "output_type": "display_data",
          "data": {
            "text/html": [
              "<table border=\"1\" class=\"dataframe\">\n",
              "  <thead>\n",
              "    <tr style=\"text-align: right;\">\n",
              "      <th></th>\n",
              "      <th>text</th>\n",
              "      <th>category</th>\n",
              "    </tr>\n",
              "  </thead>\n",
              "  <tbody>\n",
              "    <tr>\n",
              "      <th>0</th>\n",
              "      <td>xxbos xxmaj i 'm a rocket m xxrep 5 a n … xxmaj impossible d'oublier ce tube pour ceux qui aiment xxmaj elton xxmaj john , et si comme moi vous faites carrément partie des fans , alors xxmaj rocketman s'offre à vous comme une incroyable compilation de deux heures . xxmaj disons - le tout de suite : xxmaj taron xxmaj egerton porte le film à lui tout seul . xxmaj il n'a pas vraiment le physique xxunk , ni même le grain de voix ( mais cherche - t - on une copie exacte ? xxmaj non . ) mais pour parvenir à nous faire voir xxmaj elton , xxmaj egerton sort le grand jeu et se donne à 300 % . xxmaj il chante ( souvent merveilleusement ) , et se costume parmi les tenues les plus extravagantes du xxunk ( la xxmaj reine , le démon</td>\n",
              "      <td>1</td>\n",
              "    </tr>\n",
              "    <tr>\n",
              "      <th>1</th>\n",
              "      <td>xxbos xxmaj les xxmaj noces rebelles : xxmaj décidément , xxmaj sam xxmaj mendes a le génie de faire des films et de traité des sujet par comme les autres . xxmaj car encore une fois , on a le doit a un film intense , fort et assez dramatique qui se fini pas comme les autres films : ce qui le rend si particulier et unique . xxmaj car , on a le droit à une histoire d’amour qui montre plus les xxunk et les difficultés qu’on peut rencontrer dans un couple . xxmaj alors que dans d’autres films : ils montrent plus le bonheur et à la fin : tout est bien qui fini bien . xxmaj alors quand dans ce film ( comme dans beaucoup de film de xxmaj sam xxmaj mendes : xxmaj american xxmaj beauty … ) et bien , ce n’est pas la joie</td>\n",
              "      <td>1</td>\n",
              "    </tr>\n",
              "    <tr>\n",
              "      <th>2</th>\n",
              "      <td>xxbos xxmaj bouzi xxmaj bouzouf aime « xxmaj nightmare xxmaj detective » de xxmaj xxunk xxmaj tsukamoto . xxmaj ah ! xxmaj bouzi xxmaj bouzouf se souvient , à la fois avec une larme à l'oeil et un frisson glacial le long de son corps , de ce jour de mars 2001 où il eut affaire pour la première fois à ce xxmaj monsieur xxmaj xxunk . xxmaj le film s'appelait « xxmaj tokyo xxmaj fist » et xxmaj bouzi xxunk tranquillement dans un siège , content de découvrir un réalisateur japonais underground totalement inconnu chez nous ( ce que xxmaj bouzi ne savait pas alors , c'est qu'il était aussi un inconnu au xxmaj japon ) . xxmaj six personnes à peu près allaient assister à la séance . à la fin de la projection , il n'en restait plus que deux , do nt xxmaj bouzi xxmaj bouzouf</td>\n",
              "      <td>1</td>\n",
              "    </tr>\n",
              "  </tbody>\n",
              "</table>"
            ],
            "text/plain": [
              "<IPython.core.display.HTML object>"
            ]
          },
          "metadata": {
            "tags": []
          }
        }
      ]
    },
    {
      "cell_type": "code",
      "metadata": {
        "colab": {
          "base_uri": "https://localhost:8080/",
          "height": 71
        },
        "id": "U1TH8Gz0SG2z",
        "outputId": "f55fcc75-34be-41ae-db6e-2c59c8853a96"
      },
      "source": [
        "# Using TextBlock.from_df with vocab\n",
        "dls_clas = DataBlock(\n",
        "        blocks=(TextBlock.from_df('review', is_lm=False, vocab=vocab_lm), CategoryBlock),\n",
        "        get_y=ColReader('polarity'), \n",
        "        get_x=ColReader('text'), # res_col_name should be \"text\"\n",
        "        \n",
        "        splitter=RandomSplitter()\n",
        ").dataloaders(train_df, bs=16, seq_len=512)"
      ],
      "execution_count": 96,
      "outputs": [
        {
          "output_type": "display_data",
          "data": {
            "text/html": [
              ""
            ],
            "text/plain": [
              "<IPython.core.display.HTML object>"
            ]
          },
          "metadata": {
            "tags": []
          }
        },
        {
          "output_type": "stream",
          "text": [
            "/usr/local/lib/python3.7/dist-packages/numpy/core/_asarray.py:83: VisibleDeprecationWarning: Creating an ndarray from ragged nested sequences (which is a list-or-tuple of lists-or-tuples-or ndarrays with different lengths or shapes) is deprecated. If you meant to do this, you must specify 'dtype=object' when creating the ndarray\n",
            "  return array(a, dtype, copy=False, order=order)\n"
          ],
          "name": "stderr"
        }
      ]
    },
    {
      "cell_type": "code",
      "metadata": {
        "colab": {
          "base_uri": "https://localhost:8080/"
        },
        "id": "6ib5fma0GCFg",
        "outputId": "3c118d0f-5354-442e-9e46-b4d927f7d923"
      },
      "source": [
        "dls_clas.tfms"
      ],
      "execution_count": 92,
      "outputs": [
        {
          "output_type": "execute_result",
          "data": {
            "text/plain": [
              "(#2) [Pipeline: ColReader -- {'cols': 'text', 'pref': '', 'suff': '', 'label_delim': None} -> Tokenizer -> Numericalize,Pipeline: ColReader -- {'cols': 'polarity', 'pref': '', 'suff': '', 'label_delim': None} -> Categorize -- {'vocab': None, 'sort': True, 'add_na': False}]"
            ]
          },
          "metadata": {
            "tags": []
          },
          "execution_count": 92
        }
      ]
    },
    {
      "cell_type": "code",
      "metadata": {
        "colab": {
          "base_uri": "https://localhost:8080/",
          "height": 550
        },
        "id": "HGqbZDA9TVjG",
        "outputId": "e5d721d4-052d-4581-e2f8-d0a5dd5fcccb"
      },
      "source": [
        "dls_clas.show_batch(max_n=3)"
      ],
      "execution_count": 88,
      "outputs": [
        {
          "output_type": "display_data",
          "data": {
            "text/html": [
              "<table border=\"1\" class=\"dataframe\">\n",
              "  <thead>\n",
              "    <tr style=\"text-align: right;\">\n",
              "      <th></th>\n",
              "      <th>text</th>\n",
              "      <th>category</th>\n",
              "    </tr>\n",
              "  </thead>\n",
              "  <tbody>\n",
              "    <tr>\n",
              "      <th>0</th>\n",
              "      <td>&lt;s&gt;NOTUSED &lt;s&gt;NOTUSED le &lt;s&gt;NOTUSED &lt;s&gt;NOTUSED &lt;s&gt;NOTUSED et &lt;s&gt;NOTUSED &lt;s&gt;NOTUSED est à &lt;s&gt;NOTUSED de la &lt;s&gt;NOTUSED &lt;s&gt;NOTUSED \" &lt;s&gt;NOTUSED and &lt;s&gt;NOTUSED ice &lt;s&gt;NOTUSED &lt;s&gt;NOTUSED \" , &lt;s&gt;NOTUSED 3 &lt;s&gt;NOTUSED en forme &lt;s&gt;NOTUSED aux &lt;s&gt;NOTUSED &lt;s&gt;NOTUSED et à la &lt;s&gt;NOTUSED &lt;s&gt;NOTUSED . &lt;s&gt;NOTUSED ce \" paul \" , &lt;s&gt;NOTUSED avant \" le &lt;s&gt;NOTUSED dernier &lt;s&gt;NOTUSED pub \" , &lt;s&gt;NOTUSED lui aussi sous forme &lt;s&gt;NOTUSED à la &lt;s&gt;NOTUSED &lt;s&gt;NOTUSED . &lt;s&gt;NOTUSED cette fois - ci , &lt;s&gt;NOTUSED la &lt;s&gt;NOTUSED &lt;s&gt;NOTUSED et le &lt;s&gt;NOTUSED américain qui &lt;s&gt;NOTUSED &lt;s&gt;NOTUSED . &lt;s&gt;NOTUSED le &lt;s&gt;NOTUSED est &lt;s&gt;NOTUSED des très &lt;s&gt;NOTUSED &lt;s&gt;NOTUSED &lt;s&gt;NOTUSED &lt;s&gt;NOTUSED &lt;s&gt;NOTUSED et &lt;s&gt;NOTUSED &lt;s&gt;NOTUSED &lt;s&gt;NOTUSED &lt;s&gt;NOTUSED . &lt;s&gt;NOTUSED comme dans &lt;s&gt;NOTUSED de leurs &lt;s&gt;NOTUSED , il faut attendre 10 - &lt;s&gt;NOTUSED que &lt;s&gt;NOTUSED se &lt;s&gt;NOTUSED en place avant que le &lt;s&gt;NOTUSED accélère et que &lt;s&gt;NOTUSED &lt;s&gt;NOTUSED . &lt;s&gt;NOTUSED en gros , attendre &lt;s&gt;NOTUSED de &lt;s&gt;NOTUSED paul , do nt la voix &lt;s&gt;NOTUSED est celle</td>\n",
              "      <td>1</td>\n",
              "    </tr>\n",
              "    <tr>\n",
              "      <th>1</th>\n",
              "      <td>&lt;s&gt;NOTUSED &lt;s&gt;NOTUSED mon dieu , &lt;s&gt;NOTUSED , je crois &lt;s&gt;NOTUSED a &lt;s&gt;NOTUSED été aussi &lt;s&gt;NOTUSED du vide &lt;s&gt;NOTUSED , &lt;s&gt;NOTUSED dire &lt;s&gt;NOTUSED film de &lt;s&gt;NOTUSED bay est vide , &lt;s&gt;NOTUSED &lt;s&gt;NOTUSED &lt;s&gt;NOTUSED &lt;s&gt;NOTUSED &lt;s&gt;NOTUSED &lt;s&gt;NOTUSED de la &lt;s&gt;NOTUSED &lt;s&gt;NOTUSED &lt;s&gt;NOTUSED être de la &lt;s&gt;NOTUSED &lt;s&gt;NOTUSED &lt;s&gt;NOTUSED a vu &lt;s&gt;NOTUSED &lt;s&gt;NOTUSED &lt;s&gt;NOTUSED &lt;s&gt;NOTUSED . &lt;s&gt;NOTUSED je pense que &lt;s&gt;NOTUSED peut sans aucun &lt;s&gt;NOTUSED en faire le &lt;s&gt;NOTUSED maître &lt;s&gt;NOTUSED de la &lt;s&gt;NOTUSED . &lt;s&gt;NOTUSED ce &lt;s&gt;NOTUSED y a de &lt;s&gt;NOTUSED dans ce film &lt;s&gt;NOTUSED &lt;s&gt;NOTUSED &lt;s&gt;NOTUSED a rien , mais rien du tout à &lt;s&gt;NOTUSED . &lt;s&gt;NOTUSED déjà il faut le voir en &lt;s&gt;NOTUSED &lt;s&gt;NOTUSED , la &lt;s&gt;NOTUSED &lt;s&gt;NOTUSED faite par des &lt;s&gt;NOTUSED , ça &lt;s&gt;NOTUSED le coup &lt;s&gt;NOTUSED . &lt;s&gt;NOTUSED il &lt;s&gt;NOTUSED a pas &lt;s&gt;NOTUSED de &lt;s&gt;NOTUSED , et &lt;s&gt;NOTUSED encore moins &lt;s&gt;NOTUSED , genre le &lt;s&gt;NOTUSED &lt;s&gt;NOTUSED qui arrive à &lt;s&gt;NOTUSED dans une église et à qui la &lt;s&gt;NOTUSED</td>\n",
              "      <td>0</td>\n",
              "    </tr>\n",
              "    <tr>\n",
              "      <th>2</th>\n",
              "      <td>&lt;s&gt;NOTUSED &lt;s&gt;NOTUSED tout &lt;s&gt;NOTUSED , je suis devant mon poste de &lt;s&gt;NOTUSED . &lt;s&gt;NOTUSED enfin , je &lt;s&gt;NOTUSED ce &lt;s&gt;NOTUSED ! &lt;s&gt;NOTUSED le film &lt;s&gt;NOTUSED à &lt;s&gt;NOTUSED que &lt;s&gt;NOTUSED déjà &lt;s&gt;NOTUSED &lt;s&gt;NOTUSED &lt;s&gt;NOTUSED &lt;s&gt;NOTUSED parce &lt;s&gt;NOTUSED fait , le film est une grande &lt;s&gt;NOTUSED ! &lt;s&gt;NOTUSED oui , une grande &lt;s&gt;NOTUSED ! &lt;s&gt;NOTUSED tout est &lt;s&gt;NOTUSED &lt;s&gt;NOTUSED , et &lt;s&gt;NOTUSED ça qui est &lt;s&gt;NOTUSED ! &lt;s&gt;NOTUSED et le &lt;s&gt;NOTUSED dans tout cela est que &lt;s&gt;NOTUSED du film ne &lt;s&gt;NOTUSED même pas fait &lt;s&gt;NOTUSED ! &lt;s&gt;NOTUSED en &lt;s&gt;NOTUSED , &lt;s&gt;NOTUSED &lt;s&gt;NOTUSED &lt;s&gt;NOTUSED &lt;s&gt;NOTUSED &lt;s&gt;NOTUSED &lt;s&gt;NOTUSED &lt;s&gt;NOTUSED &lt;s&gt;NOTUSED &lt;s&gt;NOTUSED &lt;s&gt;NOTUSED est un film &lt;s&gt;NOTUSED &lt;s&gt;NOTUSED mais pas &lt;s&gt;NOTUSED du tout . &lt;s&gt;NOTUSED enfin je crois &lt;s&gt;NOTUSED on se pose des &lt;s&gt;NOTUSED en voyant « ça » ! &lt;s&gt;NOTUSED &lt;s&gt;NOTUSED , il y a des &lt;s&gt;NOTUSED &lt;s&gt;NOTUSED . &lt;s&gt;NOTUSED la &lt;s&gt;NOTUSED qui &lt;s&gt;NOTUSED une &lt;s&gt;NOTUSED - forme &lt;s&gt;NOTUSED &lt;s&gt;NOTUSED et &lt;s&gt;NOTUSED surtout le</td>\n",
              "      <td>1</td>\n",
              "    </tr>\n",
              "  </tbody>\n",
              "</table>"
            ],
            "text/plain": [
              "<IPython.core.display.HTML object>"
            ]
          },
          "metadata": {
            "tags": []
          }
        }
      ]
    },
    {
      "cell_type": "code",
      "metadata": {
        "id": "Jv3zC_I-_HAz",
        "colab": {
          "base_uri": "https://localhost:8080/"
        },
        "outputId": "abb66fcd-97e7-440b-8dcf-e511abe5d94e"
      },
      "source": [
        "print(len(dls_clas.train), len(dls_clas.valid))"
      ],
      "execution_count": null,
      "outputs": [
        {
          "output_type": "stream",
          "text": [
            "500 125\n"
          ],
          "name": "stdout"
        }
      ]
    },
    {
      "cell_type": "code",
      "metadata": {
        "colab": {
          "base_uri": "https://localhost:8080/"
        },
        "id": "N02aH3-PbH0c",
        "outputId": "fc72e822-ecf6-4a48-c744-3557edc477a0"
      },
      "source": [
        "dls_clas.c, dls_clas.vocab"
      ],
      "execution_count": null,
      "outputs": [
        {
          "output_type": "execute_result",
          "data": {
            "text/plain": [
              "(2,\n",
              " (#2) [['<s>NOTUSED', '<pad>', '</s>NOTUSED', '<unk>', '<s>', '</s>', ',', '▁de', '.', 's', \"'\", '’', '▁la', '▁et', '▁à', '▁le', '▁l', '▁d', '▁les', '▁des', '▁', '▁en', '▁un', '▁pour', '▁du', '-', '▁que', '▁une', '▁dans', '▁est', '▁qui', '▁sur', '▁a', '▁pas', 'e', '▁au', '▁par', '▁(', '▁vous', '▁plus', 'est', '▁avec', '▁:', '▁ce', '▁ne', '▁qu', '▁ou', '▁se', '▁n', '▁je', '▁il', '▁s', ')', '▁Le', 'a', '▁sont', '...', '▁son', 'un', '▁c', '▁La', 'il', '▁nous', '▁«', '▁mais', '▁tout', '▁-', '▁aux', '▁Il', 'une', '▁L', '▁bien', 'ai', '▁Les', '▁votre', '▁j', '▁sa', '▁cette', '▁comme', 'es', 'r', '▁fait', '▁!', '▁C', '▁faire', '▁si', '▁\"', 'on', '▁ses', 'en', '▁on', ':', '▁même', '▁»', '▁très', '▁ont', '▁leur', '▁être', '▁aussi', '▁Je', '▁été', '▁y', '▁me', '▁peut', 'y', '▁?', '▁En', 'er', '▁elle', 't', '▁lui', '▁sans', 'nt', '▁A', '▁m', '▁deux', '▁tous', '▁2', '▁ces', ').', '▁J', '/', '▁Pour', '▁1', '▁temps', '▁peu', '▁notre', '▁entre', '▁mon', '\"', 'ment', '▁site', 'h', '▁ans', '▁3', '▁ça', '▁De', 'z', '▁Et', '▁vos', 'é', '),', '▁encore', 'elle', '▁donc', '▁suis', '▁où', '▁Ce', '▁était', '▁tu', '▁fois', '!', '▁Un', ';', '▁ma', '▁S', '▁vie', '▁Vous', '▁Mais', '▁D', '▁sous', '▁rencontre', '▁ainsi', '▁monde', '▁non', '▁nos', '▁;', '▁Si', 'à', '▁Nous', '▁avait', 'ant', '▁car', '▁dont', '▁moins', '▁depuis', 'être', '▁avant', '▁toujours', '▁Une', '▁4', '▁après', '▁alors', '▁France', 'le', '▁...', '▁leurs', '▁M', 'o', '▁avoir', '▁soit', '▁contre', '▁quelques', '▁toute', '▁Elle', '▁–', '?', '▁va', 'ait', '▁également', '▁On', '▁moi', '▁cas', 'd', '▁5', '▁quand', '▁cela', '▁toutes', '▁jour', '▁sera', '▁Dans', '▁bon', '▁faut', '▁autres', 'm', 'c', '▁beaucoup', '▁place', 'l', '▁ils', '▁grand', '▁chez', '▁voir', '▁vers', '▁travail', '▁petit', '▁dit', 'C', 'S', 'était', 'et', '▁Cette', 'i', 'de', '▁déjà', 'in', '▁trop', '▁autre', '▁10', 'ils', '▁là', '▁personnes', 'A', 'ci', '▁partie', '▁premier', '▁plusieurs', '▁dire', '▁mes', '▁mois', '▁chaque', 'eau', '2', '▁rien', 'n', '▁pays', '▁jusqu', '▁prix', '▁fin', '▁6', '▁B', '▁moment', 'ont', '▁puis', 'hui', 'autres', 'ez', '▁/', '▁maison', '▁femme', '▁t', '▁première', 'ons', '▁jours', '▁P', 'au', '▁Au', '▁N', '▁doit', '▁cet', '▁nouveau', '▁suite', '▁jamais', '▁ligne', '▁ville', 'p', '▁compte', '▁permet', '▁afin', 'x', 'ce', '▁part', '▁grande', '▁pouvez', '▁mal', '▁avons', 'ur', '▁lors', '▁point', '▁Paris', '▁18', '▁vraiment', '▁trois', '▁nouvelle', 'ra', '▁|', '▁cours', 'ou', '▁T', 'com', '▁»,', 'it', '▁prendre', '▁personne', 'vous', '▁peuvent', '▁bonne', '▁années', '▁savoir', '▁ceux', 'la', '▁lieu', '▁ici', 'ne', '▁20', 'ent', '▁projet', '▁mettre', '▁enfants', '▁celui', '▁eu', '▁recherche', '▁7', '▁mieux', '▁qualité', '▁produits', '▁chose', '▁15', '▁pendant', '▁effet', 'al', 'D', '▁re', '▁8', '▁R', 're', '▁droit', '▁dernier', '▁avez', '▁partir', '▁pouvoir', '▁te', '▁reste', '▁petite', '▁souvent', '▁trouver', '▁jeu', '▁F', '▁niveau', '▁E', '▁G', 'f', '▁Des', 'an', '▁nombre', '▁service', '1', '▁groupe', 'autre', 'L', '▁».', '▁Par', '▁nom', ']', '▁mise', '▁tant', '▁Saint', '▁in', '▁plan', '▁vu', '▁surtout', '▁ni', 'g', '▁possible', 'B', '▁celle', '▁p', '\\xad', '▁femmes', '▁juste', '&', '▁coup', '▁jeune', '▁besoin', '▁selon', '▁trouve', '▁question', '▁parce', 'E', '▁demande', '▁famille', 'ing', '▁[', '▁comment', '▁aujourd', 'P', '▁Après', 'les', '▁12', '▁notamment', '▁exemple', 'T', '(', '▁choix', '▁ton', '▁données', '▁30', 'is', '▁9', '▁certains', '▁homme', 'ée', '▁côté', '▁assez', '▁ré', '▁société', 'fr', '▁seul', '▁façon', '▁français', '▁forme', '▁Avec', '▁année', '▁gratuit', '▁grâce', '▁Ils', '▁sens', '▁porte', '▁système', '▁services', '▁propose', 'b', 'avoir', '▁passer', '▁simple', '▁seulement', '▁salle', '▁serait', 'F', '▁tête', 'or', 'H', '▁%', '▁H', '▁belle', '▁pu', '▁V', '▁17', '▁rapport', '▁type', '▁face', '▁politique', '3', '▁sommes', 'M', '▁devant', '▁mis', '▁À', '▁photos', '▁Jean', '▁rencontres', 'ation', '▁cadre', '▁eux', '▁16', '▁14', '▁vue', '▁près', '▁début', 'ais', '▁quelque', '▁K', 'aux', '▁quoi', '▁“', '▁corps', 'te', 'aient', '▁main', '▁nombreux', 'age', '▁film', '▁long', '▁base', '▁êtes', 'k', '▁gens', '▁etc', '▁développement', '▁pense', '▁produit', '▁Du', '▁Sa', '▁font', '▁plutôt', '▁manière', '▁passe', '▁tour', '▁donner', '▁livre', '▁heures', 'même', '▁formation', '▁maintenant', '▁Ces', '▁cuisine', '\",', 'u', '▁seront', 'année', 'ie', '▁juin', '▁pris', 'avais', '▁public', 'v', 'apos', '▁meilleur', '▁hommes', '▁étaient', 'us', '▁11', '▁centre', '▁semaine', '▁ta', '▁fille', '▁&', '▁jeunes', '▁raison', '▁haut', '▁choses', '▁autour', '▁Tout', 'ème', '▁Sur', 'G', '▁fut', '▁sécurité', 'histoire', 'V', '▁I', '▁2018', '▁journée', '▁Comme', '▁sais', '▁donne', '▁bois', '▁sexe', 'art', '▁13', '▁santé', '▁passé', '▁page', '▁dès', '▁titre', 'és', 'agit', '▁Re', '▁marché', '▁dé', '°', '▁travers', 'me', '▁Alors', '▁pourrait', '▁dernière', '▁problème', '4', '▁différents', '▁membres', '▁région', '▁elles', '▁loin', '▁sujet', 'O', '▁mesure', '▁marque', '▁nouvelles', '▁loi', '▁pourquoi', '▁découvrir', '▁informations', '▁plaisir', '▁fonction', '▁situation', '▁sites', '▁+', '▁seule', '▁e', '▁vrai', 'eur', '▁gros', 'j', '▁veut', '▁yeux', '▁général', 'N', '▁chambre', '▁minutes', '▁parfois', '▁petits', 'ine', '▁lorsque', '▁>', '»', '▁h', 'ailleurs', '▁25', '▁soir', '▁vient', '▁photo', 'at', '\".', '▁000', '▁cause', '▁mort', '▁propre', '▁offre', 'R', '▁semble', '▁aucun', '▁aller', 'air', '▁ayant', '▁but', 'as', '▁carte', '▁toi', '▁parler', 'w', '▁24', '▁ci', '▁conditions', '▁programme', '▁mode', '▁vidéo', 'el', '▁couleur', 'ensemble', 'que', 'able', '▁septembre', '▁19', '▁saison', 'J', '▁nuit', '://', '▁plein', '▁Tu', 'aime', '▁cher', 'je', '▁autant', '▁aurait', '▁retour', '▁ensuite', '▁mai', '▁président', '▁g', '▁beau', '▁genre', '▁peux', '▁série', '▁an', 'co', '▁vais', '▁étant', '▁différentes', '▁présente', '▁musique', '▁Dieu', '▁•', '▁Cela', '▁bas', '▁Son', '▁novembre', 'avait', '▁charge', '▁présent', 'occasion', '▁simplement', '▁W', '▁important', '▁moyen', '▁janvier', '▁nature', '▁mars', 'homme', '▁entreprises', '▁quatre', '▁dis', '▁vente', '▁travaux', '▁nouveaux', '▁sûr', '▁pratique', 'K', '▁création', '00', '▁avis', '▁aura', '▁50', '▁millions', '▁jeux', '▁vite', '▁rendre', '▁doute', '▁gestion', 'W', '▁nombreuses', '▁terre', '▁prise', 'ma', '▁article', '▁points', '▁grands', '▁21', 'té', '▁fond', '▁ca', '▁sein', '▁octobre', '▁Car', 'elles', '▁fort', '▁rapidement', '▁tard', '▁histoire', '▁créer', '▁siècle', '▁taille', '▁juillet', '▁enfin', 'tu', '▁laquelle', '▁Pas', '▁vivre', '▁O', '▁date', '▁doivent', 'ch', '6', '▁décembre', '▁gouvernement', '▁2017', '▁questions', '▁Merci', '▁x', '▁prend', '▁ensemble', 'aide', '▁noir', '▁matière', 'ir', 'I', '▁cœur', '▁frais', '▁ai', '▁Ma', '▁particulier', '▁aucune', '▁Mon', '▁oui', '▁vont', '▁guerre', '▁modèle', '▁liste', 'na', '▁100', '▁version', '▁française', '▁période', '▁clients', '▁amis', '▁Notre', '▁of', '▁certaines', '▁terme', '▁chacun', '▁pré', '▁traitement', '▁envie', 'ta', '▁force', '▁Depuis', '▁quel', 'entreprise', '▁blog', '▁Que', '5', 'équipe', 'article', 'abord', '▁donné', '▁voyage', '▁mer', '▁[...]', '▁the', 'ter', '▁valeur', '▁facile', '▁risque', '▁domaine', '▁entreprise', '▁équipe', 'ed', 'utilisation', '▁lien', '▁père', '▁résultats', '▁Ne', '▁comprendre', '▁matin', 'man', '▁activités', '30', '▁compris', '▁fais', '▁réseau', 'du', '▁lire', '▁deuxième', '▁jouer', 'ard', '▁met', 'use', '▁22', '▁presque', '▁rue', '▁#', '▁Comment', '▁rôle', '▁auprès', '▁production', 'ré', '▁laisser', '▁table', 'ar', '▁lit', 'ex', '▁enfant', 'amour', '▁mot', '▁bout', '▁cm', 'après', 'ement', '▁cul', '▁couleurs', '▁super', '▁tel', '_', '▁difficile', '▁voiture', '▁parmi', '▁vacances', 'urs', '▁départ', '▁Plus', 'origine', '▁avril', '▁protection', '▁droits', '▁r', '▁blanc', '▁route', '▁Quand', '▁projets', '▁km', 'tte', '▁utiliser', '▁parents', '▁mots', 'isme', '▁nécessaire', '▁milieu', '▁style', '”', '▁Bien', '▁internet', 'to', '▁longtemps', '▁écrit', '▁venir', '▁merci', '▁anti', '▁regard', '▁scène', '▁technique', '▁sait', '▁direction', '▁directement', '▁voix', 'end', 'iste', '▁f', '▁mère', '▁The', '▁pro', '▁devrait', '▁relation', 'os', '▁concernant', 'eux', 'rie', 'ées', '▁avaient', '▁chef', '▁économique', '▁veux', '▁parle', '▁présence', '▁petites', '▁rapide', '▁février', '▁secteur', '▁grandes', '▁commune', '8', '▁texte', '▁unique', '▁solution', '▁St', '▁rouge', '▁durant', '▁)', 'particulièrement', '▁ministre', '▁web', 'um', '▁professionnels', '▁pied', '▁choisir', 'ner', '▁nationale', 'ier', '▁existe', 'ité', '▁sortie', '▁soleil', '▁*', '▁peau', '▁gauche', '▁23', '▁co', '▁état', '▁gamme', 'dé', '7', '▁Conseil', '▁lorsqu', '▁40', '▁contrôle', '▁trouvé', '▁Bon', '▁lequel', '▁pièces', '▁jardin', '▁Ainsi', '▁fil', '▁manque', '▁personnel', '▁réponse', 'action', '▁réaliser', '▁fils', '▁environ', '▁répondre', '▁besoins', 'ton', 'qui', '▁euros', '▁2016', '▁€', '▁plupart', '▁code', '▁aider', '▁DE', '▁celles', 'Le', '▁droite', '▁terrain', '▁conseil', '▁permis', '▁août', '▁via', '▁pourtant', 'ville', '▁changer', '▁certain', '▁X', '▁contact', 'La', '▁images', '▁expérience', '▁communication', '▁Z', '▁retrouver', 'étais', '▁classe', '▁b', 'ad', 'X', '▁problèmes', '▁construction', '▁coeur', '▁ex', '▁mouvement', '▁social', '▁peur', '9', 'ca', 'entre', '▁sol', 'école', '▁forum', '▁permettre', '▁taux', '▁Se', '▁culture', '▁suivre', '▁dimanche', '▁réalité', '▁Qu', 'ia', '▁facilement', '▁voit', '▁libre', '▁sociale', '▁tes', '▁·', 'argent', '▁Ca', '▁ailleurs', '▁2015', '▁club', 'Unis', '▁éléments', '▁bureau', '▁professionnelle', '▁Or', '▁visite', '▁soient', '▁techniques', '▁sorte', '▁In', '▁Y', '▁meilleure', '▁disponible', 'di', '▁U', '▁train', '▁commande', '▁séjour', '▁client', '▁cherche', '▁Al', '▁peine', '▁pièce', 'information', '▁large', 'tre', '▁chance', '▁confiance', '▁semaines', 'Y', '▁sortir', '▁Enfin', 'né', '▁double', '▁succès', '▁Site', '▁durée', '▁proche', '▁désormais', 'id', '▁bord', '▁possibilité', 'ante', '▁devenir', 'intérieur', '▁Pro', '▁malgré', 'ac', '▁véritable', '▁cinq', 'ti', '▁propos', '▁source', '▁parti', '▁bain', 'ot', '▁mariage', '▁Tous', 'U', 'image', 'ly', 'am', '▁salon', '▁demander', '▁chemin', '▁passage', '▁con', 'aire', '▁crois', '▁téléphone', '▁lumière', '▁haute', '▁Voici', 'ique', '▁zone', '▁quelqu', '▁montre', '▁numéro', '▁meilleurs', '▁faites', '▁village', '▁national', 'ux', 'heure', '▁—', '▁samedi', '▁population', '▁filles', 'ère', '▁match', 'ul', 'be', 'idée', '▁Pierre', '▁décision', 'no', '▁devient', '▁message', '▁couple', 'été', '▁lecture', '▁sociaux', '▁moyens', '▁laisse', 'ic', '▁hors', '▁profiter', '▁premiers', '▁élèves', '▁Oui', '▁26', '▁disposition', 'esprit', '▁design', '▁idées', '▁rencontrer', '€', '▁dés', '▁image', '▁professionnel', '▁idée', '▁and', '▁suivi', '▁28', 'ront', 'go', '▁moyenne', '▁rendez', '▁puisque', 'rait', '▁permettant', '▁publié', 'espace', '▁contenu', '▁utilisé', '▁connu', '▁complet', 'Etat', '▁pourra', '▁conseils', 'li', 'là', '▁pouvait', '©', '▁lieux', '▁feu', '▁marche', '▁dernières', '▁joueurs', '▁Est', '▁presse', '▁Dé', '▁dessus', '▁to', '▁27', '▁soirée', '▁processus', '▁politiques', '▁soi', '▁résultat', '▁obtenir', '▁faisant', '▁langue', 'ins', '▁œuvre', '▁mi', '▁articles', 'énergie', 'état', 'ici', '▁tellement', '▁connaître', '▁Ou', '▁situé', '▁http', '▁travailler', '▁Cet', '▁Grand', 'im', 'ler', '▁mains', '▁bras', '▁générale', '▁2014', '▁contrat', 'auteur', 'do', '▁chat', '▁longue', '▁rester', '▁soutien', '▁0', 'if', 'ge', '▁derniers', '▁arrive', 'ordre', 'par', '▁vis', '▁commence', '▁suivant', 'ut', '▁poids', 'da', 'emploi', '▁es', 'www', '▁É', '▁pourrez', '▁pages', '▁60', '▁décidé', 'ro', '▁Non', '▁sud', '▁quelle', '▁annonce', 'pe', '▁Maison', '▁position', '▁connaissance', '▁Votre', 'ance', '▁permettent', '▁Rencontre', '▁Internet', '▁vendredi', 'ry', '▁publique', '...)', '▁cheveux', '▁penser', '▁territoire', 'up', '▁retrouve', '▁souhaite', '0', '▁garde', '▁Bonjour', '▁campagne', '▁rend', 'accès', 'association', '▁31', '▁Selon', 'car', 'ri', 'des', '▁responsable', '▁dos', '▁liberté', '▁derrière', '▁seconde', '▁partager', '▁Aujourd', '▁quotidien', 'activité', '▁Nord', 'sur', '▁changement', '▁concerne', '▁mission', '▁!!!', '▁chambres', 'accord', '▁communauté', '▁!!', '▁sélection', 'èrent', '▁pose', '▁puissance', '▁thème', '▁prochain', '▁livres', '▁faisait', '▁visage', '▁telle', '▁29', '▁activité', '▁espace', '▁physique', '▁membre', '▁papier', '▁commun', '▁Con', '▁Lire', '▁uniquement', 'importe', '▁2013', 'th', '▁poste', '▁aide', '▁disponibles', '▁souhaitez', '▁porno', '▁référence', 'si', '▁actuellement', '▁appel', '▁respect', '▁efficace', '▁commencer', 'con', 'istes', '▁éviter', '▁moteur', '▁manger', 'Europe', '▁Me', '▁Québec', 'lé', 'qu', 'ure', '▁finalement', '▁inter', '▁reçu', '*', 'dessus', '▁Sud', '▁totalement', '▁tendance', '▁agréable', '▁collection', 'Ã', '▁tels', '▁bar', '▁suffit', '▁Mont', '▁ami', '▁accès', '▁parcours', 'mm', '▁films', '▁contraire', '▁capacité', '▁sport', 'ni', '▁habitants', 'isation', '▁pratiques', 'ale', '▁ressources', '▁Sans', '▁troisième', '▁actions', '▁solutions', '▁acheter', 'entrée', '▁mm', 'lu', '▁partout', '▁matériel', 'per', 'ver', '▁sort', '▁entendu', '▁études', '▁relations', '▁2012', '▁port', 'min', '▁forte', '▁transport', '▁Même', '▁pieds', 'ion', '▁parfaitement', 'che', '▁prêt', '▁Donc', '▁cependant', '▁Centre', 'voir', '▁Cependant', '▁dossier', '▁ouvert', '>', '▁département', '▁attention', 'objet', '▁proximité', '▁caractère', '▁court', '▁pleine', 'eurs', '▁=', '10', 'lo', '▁goût', '▁mètres', '▁vidéos', '▁fera', '▁continue', '▁confort', '▁sang', '▁présenter', '▁voulez', '▁Nos', 'âge', 'expérience', '▁micro', '▁divers', '▁quartier', '▁repas', '▁peuple', '▁roman', '▁réalisé', '▁voie', '▁Français', '▁calme', '▁règles', '▁total', '\\x92', '▁vois', '20', 'É', '▁vol', 'impression', '▁conception', '▁with', '▁européenne', '▁lundi', 'ka', '▁Qui', '▁post', '▁soins', '▁aime', 'nous', 'époque', '▁location', '▁concours', '▁directeur', '▁belles', '▁importante', '▁gagner', '▁k', '▁regarder', '▁groupes', '▁personnages', '▁compagnie', '▁dix', '▁proposer', '▁Co', '▁Etats', '▁bonnes', '▁choisi', 'ions', '▁Puis', '▁numérique', 'mer', 'adresse', '▁comprend', '▁porter', '▁nord', '▁modèles', '»,', '▁parties', '▁vitesse', '▁Femme', '▁Ré', '▁heure', '▁Très', '▁magnifique', '▁voici', '▁volonté', '▁mémoire', '▁allez', 'avec', '▁hauteur', '▁puisse', '▁réseaux', '▁consommation', '▁catégorie', '▁montant', '▁Marie', '▁réussi', '▁développer', '▁personnage', '▁Mar', 'der', '▁devez', '▁direct', '▁voilà', '▁machine', '▁gaz', '▁Europe', '▁édition', '▁verre', '▁principe', '▁généralement', '▁peinture', '▁poser', '▁course', '▁régime', '▁Chaque', '▁trouverez', '▁François', 'se', '▁cinéma', '▁mesures', '▁République', '▁su', '▁bleu', 'achat', '▁dispose', '▁second', '▁surface', '▁80', 'enfant', '▁dû', 'tant', '▁moderne', '▁combat', 'pour', '▁perdre', '▁participer', 'organisation', '▁États', '▁chercher', '▁bons', '▁sac', 'dessous', 'ateur', '▁propres', 've', '▁bonheur', '▁outils', '50', '▁al', '▁perdu', 'mo', '▁internationale', '▁structure', 'Z', '▁piscine', '▁conscience', '▁(...)', '▁classique', 'accueil', '▁électrique', '▁explique', '▁vision', '▁Canada', 'ol', 'intérêt', '▁commencé', 'État', '▁montrer', '▁El', '▁maladie', '▁plage', '▁Val', '▁commerce', '▁mercredi', '▁vent', '▁acteurs', 'tique', 'po', '▁faible', 'ette', 'Les', '▁joue', '▁réalisation', '▁200', '▁beauté', 'espère', 'sse', '▁créé', '▁garder', 'ga', '▁fer', '▁croissance', '▁é', '▁jeudi', '▁vieux', '▁maximum', 'environnement', '▁parc', '▁fonctionnement', '▁partenaires', '▁quant', 'rons', 'ouverture', '▁clair', 'q', '▁or', 'avez', '▁Go', '▁Pourquoi', '▁mondiale', '▁naissance', '▁six', 'tion', '▁premières', '▁familles', '▁police', '▁endroit', '▁demi', '▁différence', '▁Elles', 'vis', '▁courant', '▁naturel', '▁demandé', '▁majorité', '=', '▁recevoir', '▁parfait', 'aller', '▁faite', '▁New', '▁week', 'net', 'lin', '▁régulièrement', '▁crise', 'application', '▁Plan', 'son', '▁devait', '▁trans', '▁bio', '▁sourire', '▁compétences', '▁lutte', '▁possède', '▁fête', '▁v', '▁entièrement', 'fi', '▁lu', '▁partage', '▁bientôt', 'ha', '▁réel', '▁vit', '▁note', 'Je', '▁tandis', '▁Moi', '▁gratuite', '▁chaud', '▁2011', '▁véhicule', '▁découverte', '▁Accueil', '▁top', '▁locaux', '▁format', '▁Lorsque', '15', '[', 'ient', '▁signe', '▁prochaine', 'ba', '▁action', '▁mardi', '▁soin', 'pa', '▁animaux', '▁complètement', '▁anglais', 'hésitez', '▁domicile', '▁risques', '▁annonces', '▁étudiants', '▁représente', '▁final', '▁responsabilité', '▁Web', '▁coin', '▁télé', 'è', '▁Ville', '▁i', '▁amour', '▁carrière', '▁textes', 'nes', '▁payer', '▁médias', '▁sauf', 'euse', '▁complète', '▁compter', 'cher', '▁500', '▁rendu', 'ite', '▁change', '▁objectif', '▁35', '▁historique', '▁Ar', '▁limite', '▁Per', 'vi', '▁justice', '▁international', '▁contacter', '▁dois', '▁logiciel', '▁fonds', '▁permettra', '▁présentation', '+', 'dire', '▁types', '▁croire', '▁devenu', 'ap', '▁continuer', '▁certaine', '▁pression', '▁Cour', '▁Ta', 'о', '▁Toutes', '40', '▁guide', '▁livraison', '▁auto', '▁support', '▁propriété', '▁application', '▁formes', '▁idéal', '▁né', 'tra', '▁fruits', '▁vin', '▁ait', '▁bande', '▁for', 'ttes', '▁valeurs', '▁villes', '▁voire', '▁radio', '▁distance', 'huile', 'aï', '▁www', '▁riche', '▁2010', '▁spectacle', '▁viens', '▁perte', '▁Ben', '▁vert', 'Il', 'ables', '▁documents', '▁rêve', 'économie', '▁effets', '▁Ha', 'ck', '▁passant', '▁ancien', '▁équipes', '▁air', '▁capable', '▁méthode', 'land', '▁touche', '▁froid', '▁Mo', '▁outre', '▁cartes', '▁raisons', '|', '▁entier', '▁Lyon', '▁annoncé', '▁Google', '▁publics', '▁vendre', '▁utilisateurs', '▁principal', '▁mobile', '▁caractéristique', '▁vaut', '▁70', '▁champ', '▁détails', '▁grosse', '▁Michel', '▁Prix', '▁Bar', 'tes', '▁nécessaires', '▁participation', '▁preuve', 'hôtel', '▁pierre', '11', '▁pouvons', '▁Sac', '▁termes', '▁bébé', '▁Président', '▁mur', '▁tenir', '▁condition', '▁adresse', 'En', '▁fini', '▁étude', '▁minimum', '▁tableau', '▁recette', '12', '▁@', '▁bouche', 'iser', 'ix', '▁tient', '▁nouvel', 'em', 'étude', '▁Paul', '▁arriver', 'va', '▁technologie', '▁magasin', '▁assurer', '▁passion', '▁chien', '▁document', '▁finale', '▁offrir', '▁réserve', '▁veulent', '▁sérieux', '▁célèbre', '▁milliards', '▁(19', '▁frère', '▁o', 'ana', '▁lettre', '▁apprendre', '▁affaires', '▁cuir', 'enseignement', 'hi', '▁sinon', '▁tenu', '▁environnement', '▁tenue', '▁plat', '▁américain', '▁essayer', '▁gratuitement', '▁objets', '▁portes', 'Union', 'ang', '▁liens', '▁accord', '▁revenir', '▁Noël', '▁Ses', '▁voulu', 'ise', '▁Ça', 'utiliser', '▁contexte', '▁ciel', '▁concept', 'oc', '▁davantage', '▁Deux', '▁défense', '▁Chine', '▁LA', '▁vérité', '▁stratégie', '▁chaleur', '▁Avant', '▁répond', '▁paix', '▁occasion', 'ty', 'ive', '▁café', '▁prévu', '▁allait', '▁by', '%', '▁précise', '▁heureux', 'delà', '▁restaurant', 'ron', '▁Grâce', '▁mari', 'iens', '▁protéger', 'avant', '▁servir', 'tin', '▁mêmes', '▁intéressant', '▁joueur', '▁local', '▁album', '▁puisqu', 'euros', '▁coupe', 'objectif', '▁déclaré', '▁utilisation', '▁forcément', '▁objectifs', '▁boutique', '▁cour', 'mon', '▁diverses', '▁neuf', '▁meilleures', '▁faudra', 'ienne', '▁mauvais', '▁médecin', '▁certainement', '».', '▁marques', '▁viennent', '▁systèmes', '▁évidemment', 'ière', '▁paiement', '▁forces', '▁coût', 'Q', '▁victoire', '▁II', '▁surprise', '▁logement', 'adore', 'â', '▁90', '▁moitié', '▁préparation', '▁ouverte', 'administration', 'éducation', '▁meuble', '▁beaux', '▁Découvrez', '▁zones', 'offre', 'res', '▁lancer', '▁critique', '▁test', '▁privé', '▁bi', 'aurais', 'évolution', '▁ministère', '▁roi', '.\"', 'ois', '▁lignes', '▁milliers', '▁100%', '▁âge', 'а', '▁réduire', 'ab', '▁eau', '▁travaille', 'ja', '▁futur', 'ue', '▁Louis', '▁durable', '▁mélange', '▁commentaires', '▁budget', '▁fallait', '▁ferme', '▁Na', '▁arrière', '▁impossible', 'mé', 'ger', '▁fit', '▁45', '▁aimé', 'arrivée', '▁préparer', 'mais', '▁art', '▁joie', 'où', '▁visiter', 'assurance', '▁Pi', 'ants', 'appel', '▁terrasse', 'iez', '80', '▁métier', '▁min', '▁dehors', '▁moments', '▁patrimoine', '▁appartement', '▁supérieur', '▁commentaire', 'ko', 'pi', '▁attendre', '▁hier', 'ille', '▁humain', '▁finir', '▁siège', '▁rappelle', '▁décoration', '!!', '▁température', '▁Suisse', '▁voulait', '▁oublier', '▁proches', '▁fleurs', '▁discours', '▁Art', '▁scolaire', '▁intérieur', '▁sept', '▁tôt', 'mi', 'ts', '▁Facebook', '▁sert', '▁apporter', 'Université', 'vé', '▁construire', '▁humaine', '▁profil', '▁démarche', '▁maisons', '▁artistes', '▁Lors', 'ence', '▁^^', '▁Be', '▁absolument', '▁sociétés', '▁signifie', '▁connaissances', '▁crème', 'io', '▁partenaire', '▁collaboration', '▁rythme', '▁Chambre', '▁Voir', 'ah', '▁principalement', '▁capitale', 'autant', '▁pensée', '▁théâtre', '45', '▁Certains', '▁section', '▁somme', '▁mini', '▁située', '▁rose', 'avenir', '▁Jésus', '▁$', '▁étape', '▁esprit', '▁multi', 'ig', '▁bénéficier', '▁professeur', '▁sentir', '19', '21', 'ina', 'line', '▁normal', '▁bâtiment', 'ologie', 'ques', '▁fournir', 'bo', '▁Terre', '▁Entre', '▁communes', '▁revient', '▁No', 'analyse', '▁probablement', '▁foi', 'pro', '▁Société', '▁proposé', '▁débat', 'ans', '▁rejoindre', 'cé', '▁scientifique', '▁moindre', 'installation', '▁pi', 'ak', '▁sucre', 'ES', '▁largement', '▁parole', 'œuvre', '▁tomber', '▁correspond', '▁Tour', '▁constitue', '▁com', '▁four', '▁réduction', 'île', '14', '▁fichier', '▁excellent', '▁Voilà', '▁toutefois', '▁présenté', '▁Grande', '▁blanche', '▁privée', '▁consulter', '▁concert', '▁difficultés', '▁défaut', 'fa', '25', '▁garantie', '▁baisse', '▁fonctions', '!!!', 'avons', '▁sociales', '▁Belgique', '▁longueur', '▁juge', '▁patients', 'ancien', '▁réunion', '▁européen', 'ien', '▁améliorer', '▁Pays', '16', '▁gay', '▁salariés', '▁douche', '▁chocolat', '▁So', '▁chaîne', 'établissement', 'AS', '▁propriétaire', '▁aurez', '▁pr', 'ny', '▁utile', '▁outil', '▁2009', '▁objet', '▁réception', 'cha', '▁phase', '▁meme', '▁Petit', '▁sujets', '▁tiers', 'univers', 'pé', '▁emploi', '▁jolie', '▁cité', '▁veille', 'ers', '▁profit', '▁lancé', '▁rire', '▁époque', '▁fonctionne', '▁sympa', '▁tenter', '18', '13', '▁grave', '▁recherches', '▁publication', '▁LE', '▁conseiller', 'ès', '▁Li', 'erie', '▁écoles', 'écran', '▁délai', '▁Philippe', 'ché', 'mont', '@', '▁gérer', '▁programmes', '▁masse', '▁prises', '▁événements', '▁po', '▁totale', '▁retraite', '▁cadeau', '▁pourront', '▁vide', '▁vraie', 'moi', '▁défi', 'mar', '▁lendemain', '▁performance', '▁réflexion', '▁dessin', '▁composé', '▁noter', '▁Di', '▁Nicolas', '▁élevé', '▁connais', '▁consiste', '▁300', '▁anciens', '▁tente', '▁récemment', 'industrie', '▁tombe', 'ments', '▁maître', '▁crédit', '▁Quel', '▁Ch', 'née', '▁fabrication', 'ns', 'extérieur', '▁devoir', '▁ajouter', '▁laissé', '▁arrivé', '▁approche', '▁liés', 'lot', '▁figure', '▁mondial', '▁Ni', '▁2008', '▁dollars', '▁Po', '▁plans', '▁information', '▁immédiatement', '▁ordinateur', '▁pouvant', '▁parfaite', '▁Mi', '▁clé', '▁quantité', '▁militaire', '▁fou', 'ke', '▁Pendant', '▁adultes', '▁Dès', '▁niveaux', 'instant', 'chi', '▁basse', '▁vivant', '▁déco', '▁sexy', '▁conférence', '000', '▁To', '▁bel', '▁Christ', '▁principaux', '▁gris', 'll', '▁véhicules', '▁escort', '▁journal', 'ay', 'midi', '▁col', '▁contient', '▁Commission', '▁principale', 'UE', 'entretien', '24', '▁arrivée', 'ies', '▁procédure', '▁déc', '▁Peut', '▁découvert', '▁Parce', '▁pire', '▁appelé', 'appelle', '▁Salle', '▁Ensuite', '▁vouloir', 'IN', '▁entrée', 'nel', '▁comportement', '▁domaines', '▁secret', '▁utilise', 'gé', '▁ceci', '▁demain', '▁séance', '▁no', '▁truc', '▁tri', '▁Q', '▁école', '▁ch', '▁logique', 'cm', '▁voulais', 'Lire', '▁particuliers', '▁organisé', '▁telles', '▁superbe', '▁Monde', 'ser', '▁mauvaise', 'ley', '▁centrale', '▁vêtements', '▁lesquels', 'he', '▁Montréal', '▁indiqué', '▁modifier', '▁venu', '▁organisation', '▁capital', '▁électronique', '▁Mer', 'annonce', '▁Pourtant', '▁station', '▁noire', 'informations', '▁vote', '▁résistance', '▁pourraient', '▁Bref', '▁jeunesse', '▁David', '▁suivante', '▁populaire', '▁Jacques', '▁réussite', '▁hôtel', '▁montagne', '▁classement', '▁st', '▁connaît', 'environ', '▁plantes', '▁Mme', 'hiver', '▁volume', '▁écran', '▁statut', '▁dynamique', '▁Monsieur', '▁be', '▁revanche', 'ane', '▁clairement', '17', '▁désir', '▁violence', '▁vérifier', '▁assure', '▁partenariat', '▁remise', '▁vélo', '▁attend', 'vin', '▁demeure', '▁PC', '▁Vi', '▁atteindre', '▁atteint', 'isse', '▁robe', 'avance', 'ki', '▁bref', 'US', '▁lait', '▁Cuisine', '▁gr', '▁Quant', 'pas', '▁espaces', '▁2000', '▁joué', '▁charme', '▁convient', '▁légèrement', '▁utilisant', '▁financement', '▁San', '▁bus', '▁messages', '▁mail', '▁recettes', '▁complexe', '▁associations', '▁Noir', '▁offres', 'org', 'op', '▁changements', '▁fan', 'tel', '▁dur', '▁Da', '▁économiques', '▁précédent', 'In', 'AC', '90', 'tor', '▁mises', '▁dispositif', '▁matériaux', 'ub', '▁appareil', '▁autorités', '▁doux', 'auto', '▁remettre', '▁Dr', '60', '▁sent', 'let', '▁Cap', '▁humains', '▁participants', '▁banque', '▁multiples', '▁coups', '▁victimes', '▁élections', '▁32', 'aise', '▁pêche', '▁douce', '▁‘', '▁accessoires', '▁réellement', '▁intérêt', 'ade', '▁per', 'ide', '▁génération', 'ag', 'nant', 'ster', '▁fr', '▁Bou', 'ven', '▁allons', '▁résidence', '▁cou', '▁changé', '▁di', '▁portée', '▁ancienne', '▁réponses', '▁reprendre', '▁association', '▁sentiment', 'ate', '▁bac', '▁faveur', '▁présents', '▁pur', '35', 'exposition', '▁conduite', '▁sources', 'st', 'ist', '▁récit', '▁coté', 'exploitation', '▁monter', 'affaires', '▁télévision', 'ire', '▁vécu', '▁anniversaire', '▁saint', '▁plateforme', 'lant', '▁effectivement', 'honneur', '▁Mal', 'Afrique', '▁neige', '▁célibataires', '▁commission', '▁kilomètres', '▁chiffre', '▁naturelle', '▁commercial', '▁auteurs', '▁savez', '▁applications', 'absence', 'effet', '▁lettres', '▁joli', '▁douleur', '▁2007', '▁retard', 'non', '▁faux', '▁festival', '▁exactement', '▁chaussures', 'affaire', '▁américaine', '▁net', '▁technologies', 'Al', '▁Ba', 'étaient', 'utilisateur', '▁devra', '▁Cha', '▁vaste', '▁Premier', 'ino', '▁Cor', '▁effectuer', '▁france', '▁pain', 'iques', '▁stade', 'importance', '▁portant', '▁Ri', '▁maire', '▁particulière', '▁batterie', 'onne', '▁rapports', '▁souvenir', '▁conséquences', 'aider', '▁garçon', '▁détail', '▁places', '▁Bo', '▁perd', '▁régions', '▁côtés', 'arrive', '▁Ex', '▁chanson', 'out', '▁analyse', '▁télécharger', '26', '▁(1', '▁Com', '▁Nouvelle', '▁événement', '▁conduit', '▁citoyens', '▁camp', '▁décide', 'expression', '▁Mes', '▁Ho', '▁Coupe', '▁lance', '▁Charles', 'ze', 'af', '▁rare', '▁planète', 'ign', '▁appelle', '▁combien', 'one', '▁chargé', 'ong', 'ification', '▁marketing', '▁distribution', 'val', 'armée', '▁voitures', '▁visiteurs', '▁précis', '▁personnelles', 'usage', 'existence', '▁regarde', '▁Ad', '▁forêt', '▁bouton', 'assurer', '▁fiche', '▁Malgré', '▁difficulté', 'habitude', 'ales', '▁tissu', '▁couverture', 'zi', '▁opérations', '▁locale', '▁maman', 'attention', 'can', '▁chaude', 'od', '▁meubles', '▁mérite', 'so', '▁options', '▁destination', 'agence', '▁titres', '▁officiel', '▁fortement', '▁revenu', '▁appris', '▁suit', '▁bruit', 'ber', '▁Super', '▁Ga', '▁mille', '▁respecter', '▁Gi', '▁pointe', '▁indique', '▁actuelle', '▁fenêtre', '▁recours', '▁notes', '▁Quelques', '▁Parmi', '▁supérieure', 'ose', '▁Air', '▁prestations', 'ho', '▁original', '▁définition', '▁formulaire', '▁affaire', '▁adapté', 'bi', '▁tarifs', '▁établissements', '▁avions', 'tal', '▁PS', '▁immobilier', '▁écrire', 'OS', '▁crée', '▁Toute', '▁chiffres', '▁achat', '▁accessible', 'Or', '▁dispositions', 'exercice', '▁1.', '▁thé', 'mes', '▁publiques', '▁indispensable', '▁Club', '▁An', '▁secondes', '▁printemps', '▁apporte', '▁rangement', 'ps', 'ations', '▁ski', '▁Groupe', '▁proposons', '▁envers', '▁eaux', '▁univers', '▁énergie', '▁informatique', '▁Bois', 'France', '▁Marseille', '▁devis', '▁responsables', 'écriture', '▁vingt', '▁Man', 'bas', '▁Robert', 'lier', 'sion', '▁trouvent', '▁sciences', '▁invite', '▁confortable', '▁restent', '▁fichiers', '▁règlement', 'Re', '▁utilisés', '▁amoureux', '▁spécialiste', '▁150', '▁cru', '▁musée', '].', 'Est', '▁Sous', '▁bilan', '▁critères', '▁personnalité', 'ole', '▁tres', '▁visiteur', '▁auteur', '▁promotion', '▁graphique', 'and', '▁boîte', '▁déjeuner', '▁ha', 'faire', '▁candidats', '▁extrêmement', '▁acheté', '▁simples', '▁calcul', '▁candidat', '22', '▁hasard', 'iers', '▁barre', '▁justement', '▁cheval', '▁marqué', 'mêmes', '▁château', 'sol', 'ian', '▁artistique', '▁<', '▁jaune', 'ey', 'Ar', '▁collectif', '▁murs', '▁Russie', 'teur', 'lan', '▁méthodes', '▁pluie', '▁ET', '▁Pré', '▁sable', '▁avantages', '▁Ka', '▁is', 'ling', '▁pont', '▁tourner', 'nage', 'mail', '▁attendant', '▁plastique', '▁revue', '▁Afin', 'eu', '▁silence', '▁sex', '▁Bonne', '▁interne', '▁faute', 'bert', '▁danger', '▁seuls', '▁Col', '▁hausse', '▁science', 'chant', '▁morts', '29', '▁suivantes', '▁Ah', '▁Haute', 'inscription', 'oise', '▁nommé', '▁léger', '▁Code', '▁ambiance', '▁auront', '▁équipements', '▁dépend', '▁oeuvre', '▁énorme', '▁rencontré', 'tier', '▁(1)', '▁bataille', '▁char', 'ami', '▁Ici', '▁w', '▁financière', '▁ultra', '▁locales', 'tic', '▁soumis', 'ô', '▁luxe', '▁disque', '▁Inter', '▁tirer', '▁ouvrir', 'issant', '▁lecteur', 'étranger', '▁signé', 'lement', 'tro', '▁tradition', 'écoute', '▁intérêts', '▁cesse', '▁pâte', '▁36', '▁mec', 'ssant', '▁Martin', '▁règle', '▁Forum', '▁entend', 'don', '▁stress', '▁Design', '▁différent', '▁seraient', '...).', '▁comptes', '▁quitter', '▁amie', '▁revenus', '▁TV', '▁efforts', 'nie', '▁content', '▁scientifiques', '▁cent', '▁York', '▁serez', 'ran', '▁Celui', '▁normes', '▁Service', '2.', '▁Belle', '▁traiter', '▁proposition', '▁littérature', '▁..', '▁Japon', '▁ouvrage', '▁conséquent', 'uses', '▁Pa', '-19', '▁nécessité', '▁héros', '▁légumes', 'ek', '▁feuilles', '▁Afrique', '▁Toutefois', '▁civile', '▁Windows', '▁représentant', '▁inscription', 'obtenir', '▁Ceci', '▁vigueur', '99', '▁ordre', '▁supplémentaire', '▁produire', '▁spécifiques', '▁agence', '▁sorti', '▁Sinon', 'isé', '▁actuel', 'cal', '-1', '▁prénom', '▁rentrée', '▁pa', '▁chauffage', 'bon', '▁Pe', '▁lac', 'ano', '▁Gu', '▁enquête', '▁entendre', 'men', '55', '▁video', '▁formule', '▁raconte', '33', '23', '▁spécifique', 'âme', '▁lesquelles', '▁midi', '▁porté', '▁langage', '▁argent', '▁mouvements', '31', '▁tester', '▁marchés', 'édition', '▁fixe', 'int', '▁usage', '▁adulte', '▁acte', '▁chacune', '▁Rien', '▁parking', '▁compétition', '▁prison', 'rou', '▁dimension', '▁connexion', '▁déclaration', '▁dialogue', '▁obtenu', '▁central', '▁faciliter', '▁Ver', 'ini', '▁48', '▁°', '▁Star', '▁Porte', '▁principales', '▁https', '▁bateau', '▁prête', '▁portable', '▁préfère', '32', '▁Quelle', '▁tourisme', '▁diffusion', '▁Porno', '$', 'vel', 'atrice', 'ris', '▁Vidéo', '▁Seigneur', 'église', 'inter', '▁religion', '▁prennent', '▁savait', '08', '▁extérieur', '▁longues', '▁circulation', '▁armes', 'ER', '▁2018.', 'km', 'rais', 'aimerais', '▁russe', 'dou', '70', 'om', '▁salles', '▁demandes', '▁Trouver', '▁conçu', 'appareil', 'avis', '▁Bordeaux', 'iv', 'gi', '▁Beau', '▁appareils', '▁Marc', '▁chasse', 'ip', '▁Blanc', 'actualité', '▁concurrence', '▁étoiles', '▁profondeur', 'naire', '▁ventes', 'ach', '▁remplacer', '▁faudrait', '▁parlé', '▁situations', 'port', '▁actes', 'ya', '▁importants', '▁John', '05', '▁Ko', 'ru', '▁ateliers', '▁souci', '▁dirigeants', '▁menu', '▁(2', '▁noms', '▁communiqué', 'oir', 'aventure', '▁malheureusement', 'ssent', '▁Sou', '▁National', '▁décor', 'rin', '▁personnelle', 'ète', '▁montré', '▁Am', '▁maîtrise', 'ff', '▁clés', '▁augmenter', '▁accompagner', '▁établissement', 'eme', '▁Aussi', 'han', '▁utilisée', '▁réforme', '▁certes', '▁originale', '▁dessous', '▁entière', '▁chute', '▁alimentaire', 'tt', '▁machines', '▁75', '\\\\', '28', '▁Maintenant', '▁paysage', '▁envoyé', '▁performances', '▁avance', '▁cherchez', 'the', '▁2017,', '▁piste', '▁potentiel', 'AM', 'ow', 'ages', '▁victime', 'vo', 'cu', 'antes', '▁Recherche', '▁Maroc', '▁Toulouse', '▁révolution', '▁cycle', '▁gare', '▁furent', 'Ma', '▁2006', '▁comité', '▁prenant', '75', 'AT', 'aurait', 'ame', '▁principes', 'lon', '▁rentrer', '▁invités', 'den', '▁Bi', 'dis', 'ov', '▁Fi', '▁Laurent', '▁suivants', 'by', '▁centaines', '▁venait', 'ines', 'ik', '▁football', 'aires', '▁Mor', '▁découvre', '▁moto', '▁stage', '▁courage', '▁phénomène', 'ouvrir', '▁donnent', 'apprentissage', 'intervention', 'ule', 'arrière', 'TE', '27', '▁Faire', '▁400', 'ham', '▁reconnu', '04', '44', '▁Su', '▁élément', 'bu', 'isant', 'berg', '▁rappel', 'part', '▁atelier', '▁huit', '▁installation', '▁pensé', '▁plateau', 'br', '▁apparaît', '▁expliquer', '▁paroles', '▁Là', '▁vieille', '▁chercheurs', '▁dure', '▁travaillé', '▁devraient', 'dit', '▁ben', '▁formations', '▁histoires', '▁Rencontres', 'ray', '▁33', 'émission', '▁souvenirs', '▁doigts', '▁Leur', '▁Jardin', '▁juridique', '▁sentiments', '▁semblait', 'qua', '▁envoyer', '▁Faites', '▁renseignements', 'ph', '▁centres', 'fe', 'wa', 'éro', '▁Bruxelles', '▁dommage', 'opération', 'ayant', 'université', '▁39', 'IS', 'bel', '▁construit', 'rez', '▁faits', '▁entretien', 'eaux', '▁conserver', '▁climat', '▁lycée', '▁Londres', 'AL', '06', 'urgence', 'cre', '▁38', '▁portrait', '▁douceur', 'artiste', '▁Char', '▁échanges', 'ens', '▁allant', 'oli', '▁patient', '▁tourne', '▁entrer', '▁attentes', '▁réservation', 'tif', 'évaluation', '▁cerveau', '▁limites', '▁rond', '▁disent', '▁automatique', '▁lèvres', '▁œuvres', 'On', '▁rappeler', '▁front', '▁servi', '▁reprise', '▁Hu', '▁toucher', 'ker', 'IE', 'table', '▁chinois', 'pt', '▁obligatoire', 'alité', '▁sel', '▁étapes', '▁réussir', '▁instant', 'ombre', '▁réalisée', 'dy', '▁actif', '▁capacités', '▁Sainte', 'nelle', '▁arrêté', '▁erreur', '▁spécial', '▁oublié', '▁Ju', '▁montage', 'uff', '▁possibilités', '▁girl', '▁réelle', '▁discuter', '▁courte', '09', 'ê', '▁Salon', '▁Publié', '▁vise', 'dia', '▁nourriture', '▁inclus', '▁lois', 'identité', '▁bains', '▁Port', '▁ri', 'dans', 'ile', 'cy', '▁repos', '▁aventure', 'http', '▁reconnaissance', 'élection', '▁dédié', '▁expériences', '▁métal', '▁impression', '▁auquel', '▁Ab', '▁Table', '.»', '▁donnant', '▁Plusieurs', '▁fa', '▁retourner', '▁Mac', '▁idéale', 'avantage', 'endroit', 'ér', '▁Encore', '▁Retrouvez', 'illon', '02', '”,', '95', '▁soutenir', '▁toit', '▁traduction', '▁massage', '▁ouvre', '07', '▁Auto', '▁donnée', '▁incroyable', 'investissement', '▁financier', 'bar', '▁Attention', '▁réparation', '▁fermeture', '▁puissant', '▁communiquer', 'ouest', '▁traditionnelle', '▁minute', '▁déchets', '▁exposition', 'nu', '39', '▁importe', '▁solide', 'pin', '▁Ro', 'ras', '▁renforcer', 'lie', '▁mandat', '▁présidentielle', 'arrêt', '▁médicaments', '▁développé', '▁fasse', 'court', '▁conseille', '▁souffle', '▁sou', '▁participe', '▁missions', '▁toile', '▁secrétaire', '▁relative', '▁côte', 'tout', '▁langues', 'OL', '▁ajouté', '▁suffisamment', '▁maintenir', '▁amateurs', 'quet', '▁conséquence', '▁élus', '▁01', '▁menace', 'comme', '▁partis', '▁Do', '▁Luc', '▁Va', 'aujourd', '▁pensez', '▁glace', '▁supplémentaires', 'enquête', '▁courrier', '▁accueillir', '48', '▁réduit', '▁échange', '▁espèces', '▁spécialement', '01', '▁opération', '38', '▁devenue', 'éré', '▁cliquez', '▁tarif', 'ud', '▁active', '▁permanent', '▁description', '▁Jo', 'mère', 'asse', '▁signes', '▁leader', '▁couche', '▁possibles', '▁maladies', 'RE', '▁2018,', 'LE', '▁liées', '▁sommet', '▁ba', '▁Festival', '▁cap', 'cul', '2,', '▁préféré', '▁Femmes', '▁décisions', '▁nécessite', '▁Lu', '▁transformation', 'ât', '▁experts', '▁montée', '▁énergétique', '▁autrement', '▁garage', '▁disait', '▁travailleurs', '▁nez', 'van', '▁revoir', '▁Tri', '▁légère', '▁naturellement', '▁considéré', '▁chapitre', '▁enjeux', '▁CO', '▁cor', '▁récupérer', '34', '▁prévention', 'ani', '▁mener', 'anne', '▁métiers', '▁EN', '▁camping', '▁frères', '▁préalable', '▁classes', '85', '▁Comité', '▁culturel', '▁démocratie', '▁Lo', 'attaque', 'nement', '▁seins', '▁rares', 'IC', '▁Pen', '▁transfert', '▁Bal', 'nd', 'EL', 'ita', '▁visant', '▁apprécié', '▁paris', '▁serveur', '▁Te', 'Institut', '▁Article', 'atif', '36', 'za', '▁Trois', '▁Pr', 'jo', '▁Homme', '▁Ra', '100', '▁phrase', '▁présentes', '▁agents', 'ju', '▁chatte', '▁journaliste', '▁Photo', '▁Chez', '▁essentiellement', 'tis', '▁Bernard', '▁collège', '▁proposent', '▁matières', '▁Black', 'rent', '▁savent', 'mp', '▁2016,', '▁pre', '▁Santé', '▁Ligue', '▁constitué', '▁assurance', '▁inscrit', '▁colère', '▁fi', '▁coopération', '▁option', '▁55', '▁rues', '▁chaise', 'lit', '▁accompagné', '▁2015,', 'CE', '▁semblent', 'esse', 'Assemblée', '▁connue', '▁Trans', '▁remplir', '▁fleur', '▁vend', '▁diversité', '▁mé', '▁déterminer', '▁venue', '▁amoureuse', 'cho', '▁logiciels', '▁Parti', '▁philosophie', '▁placé', '▁coucher', '▁Côte', 'omb', 'IA', '▁offert', 'IT', '▁fans', '▁bassin', '▁tapis', '▁évolution', '▁etre', '▁installé', '49', '▁sensible', '▁catégories', '▁coton', '▁néanmoins', '▁Lui', '▁excellente', 'all', '▁organisations', '▁météo', '▁bâtiments', '▁composition', '▁na', '▁discussion', 'ancienne', '▁cabinet', 'MA', '▁2004', '▁patron', '▁Van', '▁médecine', 'TM', 'ières', '▁engagement', '▁cérémonie', '▁financiers', 'téri', '▁employés', '▁automatiquement', '▁réaction', '▁accueil', 'ada', '▁posé', '▁mange', '▁mar', '▁Page', '▁étrangers', '37', 'gu', '▁jugement', 'tan', 'aud', '▁championnat', '▁essayé', 'tage', '▁baise', '▁Sexe', '▁situe', '▁proposés', '▁pot', 'cle', '▁reprend', 'her', '▁composée', '▁vice', 'AD', '03', '▁cuisson', '▁Cher', '▁consommateurs', '▁garantir', '▁rubrique', '▁(3', 'OR', '▁Beaucoup', '▁Rome', 'oire', '▁profond', '▁fins', '▁accueille', '▁augmentation', 'raient', '▁bo', '▁|--', '▁cache', '▁accéder', '▁disparu', '▁circuit', '▁stock', '▁françaises', 'euses', '▁cancer', '▁disant', '▁tests', 'ef', '▁Ru', '▁Tra', '▁go', '▁intervention', '▁quasi', '«', '▁Bretagne', 'échange', 'ON', 'oul', 'exemple', '▁secteurs', '▁fruit', '▁tâche', 'ep', 'nier', '▁charges', '▁jus', '▁Père', '▁quête', '▁nettoyage', '▁naturels', '▁transformer', '▁ressemble', 'fer', 'yn', '▁familiale', '▁hiver', '▁06', '▁Couleur', 'lle', '▁imp', '▁34', '▁boite', '▁poursuivre', 'ures', 'EM', '▁décès', 'ative', '▁ver', '▁japonais', '▁Carte', '▁extra', '▁voyages', '▁plafond', '▁exigences', '▁mettant', '▁look', '▁étage', '▁précisément', '▁défendre', '▁reconnaître', '▁relativement', '▁magie', '▁morceaux', 'ind', '▁épouse', '▁bal', 'enfants', '▁effectué', '▁estime', '▁hyper', '▁rénovation', '▁soyez', '▁représentation', '▁militaires', '▁plats', '▁vi', '▁DU', '▁Fer', '▁billet', 'existe', '▁former', '▁humaines', '▁précision', '▁email', '47', '▁talent', 'éviter', '65', '▁Sol', '▁biais', '▁Is', 'lage', '▁Wi', 'alimentation', 'nés', '▁Bas', '▁accepté', '▁rock', '▁jambes', '▁conflit', '▁auraient', 'bou', '▁nul', '▁terminé', '▁Rose', '▁structures', '▁sommeil', '▁boulot', '▁riches', '▁sombre', '▁Anne', 'ira', '▁désert', '▁calendrier', 'acte', '▁importantes', '▁animal', '▁théorie', '▁soucis', '▁solidarité', '▁transmission', '▁fêtes', '▁expliqué', 'exception', '▁III', '▁immense', 'ado', '▁impact', '▁Place', 'ambiance', '▁Bel', '▁évident', '▁institutions', '▁surveillance', '2)', 'AP', 'era', '▁maintien', '59', '▁allemand', '▁HD', '▁score', '▁dépenses', '▁participé', '▁modification', '▁accepter', '▁émotions', '▁studio', '▁personnels', '▁lancement', '▁laissant', '▁tuer', 'ert', '▁CD', '▁fameux', '▁Bra', '▁chefs', '▁résolution', '▁dessins', '▁ad', 'EN', '5%', '▁médecins', '▁sensation', 'our', '▁gagné', '▁quotidienne', '▁notion', '▁collectivités', '▁42', '▁lié', '▁directe', 'humanité', 'ça', 'tent', '▁cible', 'off', '▁spéciale', '▁trafic', '▁Musée', '▁logements', '▁officielle', '▁feuille', '▁définir', '▁équipée', '▁sauver', '▁destiné', '▁favoriser', 'oui', '▁publicité', '▁2005', 'acheter', '▁restauration', 'amp', 'gie', '▁can', '▁Jeux', 'SA', 'illa', '▁enseignants', 'cro', '▁organise', '▁lecteurs', '▁magazine', '▁vins', 'Au', 'ries', '▁délais', 'ateurs', '▁poche', 'ob', '▁représentants', '▁prévue', '▁cadeaux', '▁cookies', 'Allemagne', '▁finit', '▁Har', '▁intérieure', '▁licence', '▁Allemagne', '▁mo', '▁restaurants', '▁peint', '▁diagnostic', '▁hommage', '▁correspondant', '▁décrit', '▁révèle', '▁paraît', '▁coûts', '▁navigation', 'êtes', '▁différente', '▁scénario', '▁triste', '▁Suite', '▁viande', '▁recommande', '▁catalogue', '▁poudre', '▁salope', '▁chant', '▁vallée', '▁beurre', 'bre', '▁remis', '▁accident', '▁commandes', '▁Nantes', 'lay', 'rant', '41', '▁troubles', 'Association', 'animation', '▁passée', 'ric', '▁rejoint', 'uel', 'Nous', '▁aspects', 'jou', '▁pompe', '▁mettent', '▁européens', 'bit', '▁reçoit', '64', '▁propriétaires', 'Un', '▁Thomas', '▁Loi', '▁prestation', 'gen', '▁solaire', '▁Ti', '▁clientèle', 'forme', 'approche', '▁kg', '▁propositions', 'ouvrage', '▁parfum', '▁organisée', '▁Loire', 'efficacité', '▁Gra', '▁associé', '▁magique', '▁relève', '▁cellules', '▁électriques', '▁ressort', '▁lot', 'teurs', '▁Ve', '▁Christian', '▁conduire', '▁pouvoirs', '▁culturelle', '▁banques', '▁pause', '▁compréhension', '▁contenus', '▁bibliothèque', '▁arbres', '▁décret', 'tée', '▁Banque', '▁Bri', 'lis', '▁tension', '▁installer', 'ble', 'tine', '▁kit', '▁consultation', '▁2014,', 'yl', '▁man', '▁nu', '▁37', 'ouvre', '▁pauvre', '▁voyant', '▁répondu', 'installer', 'fort', '▁champs', '▁postes', 'we', 'unité', '▁liquide', '▁Chi', '▁chansons', '▁Can', '▁comporte', '▁->', 'ave', '▁Home', '▁endroits', '▁Sam', '▁vivent', 'vers', '▁province', '▁réalise', '▁contente', '▁eut', '▁foule', '▁épisode', 'Si', '▁progrès', '▁plaque', '▁tiens', '▁rêves', '▁volet', 'électricité', '▁voile', '▁dangereux', '▁geste', '▁née', '▁Royaume', 'étend', '▁terres', '▁qualités', 'aura', '▁tournée', '▁sûrement', '▁gratuites', '▁massif', '▁65', 'Pierre', '▁Alain', '▁religieux', 'duc', 'abri', '▁devons', '▁1000', '▁Mou', '▁essentiel', '▁standard', 'ng', '▁am', '▁compliqué', 'aille', '▁remarque', '”.', '▁chômage', 'ange', 'ets', '▁gratuits', '▁soeur', '▁constater', '▁repris', '▁exceptionnelle', '▁dents', '▁commerciale', '▁transports', '▁Claude', '▁procès', 'An', '▁facteurs', '▁sec', '▁rédaction', '▁offrant', '▁spécialisé', 'nique', 'utilise', '▁régional', '▁heureuse', '▁spécialistes', 'IL', '▁sexuelle', '▁im', '▁Guerre', '▁gars', '▁correctement', '▁fuite', '▁op', '▁populations', '▁thèmes', '▁aspect', '▁All', 'ifier', 'anti', '▁globale', '▁classiques', 'ET', '▁fourni', '▁convention', 'hôpital', 'lique', '▁fur', '▁contrats', '▁coordonnées', 'bus', '▁fe', 'iné', '▁Description', '▁collective', '▁120', '▁dizaine', '▁blancs', '▁44', '▁rivière', '!)', 'uc', 'IF', 'ara', 'tur', 'qué', 'IM', '67', '▁remplacement', '▁énormément', '▁Vie', '▁Parc', 'innovation', '▁couper', '▁bu', 'aménagement', 'iel', '▁cha', '▁poisson', '▁baiser', 'vent', '▁horaires', '▁grossesse', 'CI', '▁froide', '▁signature', '▁créée', '▁(18', '▁mit', 'issement', '▁u', 'rac', '▁courses', '▁Dis', '▁mairie', '▁drôle', '▁Nouveau', '▁pleinement', '▁portail', '▁250', 'études', '▁lunettes', '▁acquis', '▁rupture', '▁attaque', 'app', '▁tenté', '▁Fa', '▁recul', '▁ouverture', '▁réfléchir', 'Ch', '42', '▁dimensions', '▁poly', '▁bloc', 'De', '▁pop', '▁Macron', 'aéroport', '▁tr', '▁représentent', '▁International', '▁tir', '▁plante', '▁rarement', 'ung', '▁rouges', 'alcool', '▁trou', '▁Comp', '▁déplacement', '▁contenant', '▁mécanique', '▁ajoute', '▁acier', 'rage', '▁queue', '▁ado', 'cer', '▁fonctionnalités', 'abilité', '▁Histoire', 'opposition', '▁arts', 'envie', 'tait', '▁prêts', 'lette', 'ori', 'og', '88', 'uv', '▁Mag', 'œil', '▁étrange', 'ène', '▁bases', '▁grosses', 'nais', '▁cool', 'lée', '▁traité', 'sh', '▁Jusqu', 'impact', '▁!)', 'améliorer', '▁pistes', '▁équipé', '▁ventre', 'Ouest', '▁Sp', '▁2017.', 'rer', '▁pousse', '▁We', '▁flux', 'AN', 'az', '▁pensées', '▁mobilité', '89', '▁magasins', '▁Ali', '46', '▁Fédération', 'gr', '▁bat', '▁déplacer', 'hu', '▁Daniel', 'égalité', '▁boire', '▁chances', 'entend', 'ban', '▁chiens', '▁tube', '▁rang', 'IP', '▁installations', 'ill', '▁Sé', '▁organismes', 'vant', '▁visites', 'engage', '▁sorties', 'isée', '▁remboursement', '▁comprends', '3%', '▁Petite', '▁reprises', '▁2013,', 'ome', '▁voudrais', '▁interdit', '▁établi', '▁paysages', '▁sub', '▁Ki', '▁pierres', '▁résoudre', '▁utiles', '▁laissez', '▁poursuit', '▁majeur', '▁salarié', 'UR', '▁allé', '▁Aux', '▁miroir', '▁recrutement', '▁bancaire', 'organisme', '▁tâches', '▁smartphone', '▁cal', '▁black', '▁Soleil', '▁internationales', '▁cri', '▁Top', '▁retrouvé', '▁consacré', '▁Madame', '▁Moyen', '▁battre', '▁médical', 'ali', '▁spécialisée', 'ui', 'autorité', '▁rayon', '▁lutter', 'ches', 'my', '▁salaire', 'CA', '▁richesse', '▁2019', '▁suisse', '▁visible', '▁dossiers', '▁dépannage', '▁loisirs', '▁relatives', '▁perspective', '66', '▁facilité', '▁dizaines', '▁photographie', '▁motifs', '▁concasseur', '▁cons', 'intégration', '▁apprend', 'ast', '▁considère', '▁morale', 'avaient', '▁retirer', '▁terminer', 'gar', '▁pourrais', '▁Italie', '68', '▁quatrième', '▁bite', '▁sœur', '▁stockage', '▁avais', '▁Nationale', '▁André', '▁comprenant', '▁séances', 'anglais', 'années', 'ida', '▁ve', 'Saint', 'inscrire', '▁offrent', 'initiative', 'Et', '▁2003', 'SE', '▁tribunal', '▁bou', '▁collègues', '▁plaît', '▁siècles', '▁organiser', 'tour', '▁poitrine', '▁Mode', 'ug', 'rier', '▁satisfaction', '▁aliments', '▁arrêt', '▁Sch', 'Ce', 'ture', '▁transition', 'mand', '▁Rou', '▁ra', '▁intégré', 'Art', '▁Toujours', '▁issus', '▁lol', 'zo', 'tation', '▁Ã', '▁Château', '▁profonde', '▁2012,', '▁ravi', 'nent', '▁avantage', '▁motif', '▁supprimer', '▁Cal', '▁doucement', 'élève', '▁souhaitent', '▁journalistes', 'événement', 'album', '▁restant', '▁identité', '▁600', '▁dép', '▁Seine', '▁quartiers', '▁Bleu', 'ost', '▁âme', '▁verra', 'su', '▁audio', 'quin', 'pré', 'û', '▁cougar', '▁prit', '▁For', 'quer', 'issue', '▁Culture', '▁arabe', '▁placer', 'oeuvre', '▁Peu', '▁pilote', '92', '▁Vos', '▁lourd', 'agne', 'architecture', '▁élu', '▁Lorsqu', 'ères', '▁chantier', '▁configuration', '▁mu', '▁dites', '78', '▁primaire', '▁artiste', 'EP', '▁refus', '▁terrible', '▁Fin', '▁Ceux', 'attente', '▁sympathique', 'AF', '▁dates', 'oeil', '86', 'pot', '▁croit', '▁Min', '▁variété', '▁démocratique', '▁modalités', '▁Pont', 'agriculture', 'nom', 'échelle', '▁parallèle', '▁manifestation', 'vie', 'lou', '▁viol', '▁galerie', '▁:)', 'arrêter', 'ight', 'ï', 'ain', '▁séries', '▁critiques', '▁compléter', '▁anciennes', '▁caméra', '▁bol', '▁panier', 'pha', 'hé', 'AR', '▁repose', '▁constituent', '▁individus', '76', '▁pure', 'OU', '▁Sal', '▁profession', '▁tranquille', '▁gras', 'ama', 'ball', 'Ex', 'tar', '▁bijoux', '▁Gr', 'offrir', '▁DES', '▁profite', 'info', '▁régler', '▁positif', 'ache', 'éd', 'ec', '98', '▁ren', '▁aimer', '▁amateur', '▁Nice', '▁Th', 'atoire', '.....', '▁limiter', '▁Mars', '▁Chat', '▁actifs', '▁Patrick', '▁invité', '▁Directeur', '▁sportif', '▁statistiques', 'OP', 'ect', '▁venus', '77', '▁adaptée', '▁claire', '▁mention', '▁handicap', '▁prévenir', '▁ST', 'amélioration', '▁lever', '▁Bu', '▁termine', '▁normalement', 'ati', '▁mousse', '▁indépendant', 'tres', '▁colle', '▁comp', '▁soldats', '▁puissent', '▁ménage', '▁passent', '▁mets', 'ors', 'aine', '▁CE', '▁prends', '▁choc', '▁difficiles', '▁développe', '▁proposées', 'ote', '▁assuré', '▁dépôt', 'oo', '▁quasiment', '▁utilisées', '▁laboratoire', 'apprendre', '▁monte', 'lic', '▁coquine', '▁Android', '▁intellectuelle', '▁copie', '▁paire', 'nis', 'voy', '▁dédiée', '▁tendre', '▁économie', '▁fine', '▁boule', '▁confirmé', '▁venez', '▁scolaires', '▁dedans', '▁Première', '▁Ci', '▁Taille', '▁Annonce', 'essentiel', 'way', 'aurai', '▁My', '▁mourir', '▁Red', '▁chevaux', '▁....', '▁Twitter', '▁He', 'ax', 'ji', '▁dormir', 'ces', 'exécution', '▁Men', '▁intéressante', '▁vas', '▁écoute', '57', '▁marcher', '▁Sport', 'tri', '▁territoires', '▁villa', '▁pareil', 'die', '▁02', '▁quitte', 'wi', '▁gra', '▁serais', '▁Rouge', '▁Meuble', 'temps', '▁Région', '▁sachant', '▁trait', '▁britannique', 'ime', '▁constat', '▁Oh', '▁Her', 'ID', 'engagement', '▁connaissent', 'oud', '▁traces', 'ity', '▁libres', 'humour', '▁foot', '▁ressenti', '▁américains', 'plus', '▁recommandé', '▁monnaie', 'ible', 'PE', 'PS', 'espoir', 'OT', '▁hôtels', 'OM', '▁étions', '▁décider', '▁session', '▁louer', 'col', '▁priorité', '▁perso', '▁Za', '94', 'rencontre', 'horizon', '▁concentration', '▁Ya', 'mas', '▁musulmans', '▁procédé', '▁voies', '▁ronde', '▁frontière', '▁intense', 'iller', 'activités', 'étant', '▁SA', 'tez', '▁programmation', '▁trucs', '▁réservé', '43', 'logie', '▁z', '&#39;', 'oubliez', '▁contrairement', '▁sérieuse', '▁judiciaire', 'Amérique', '▁évidence', 'ographie', '▁confirme', 'ieux', 'enne', 'UN', 'ell', '▁appartient', '▁Général', '▁bureaux', '▁traduit', '▁historiques', 'ica', '▁satisfaire', '▁musicale', '▁pauvres', '▁journées', '▁logo', '▁Gratuit', '▁destin', '▁sauvage', 'tive', '▁définitivement', '▁contemporain', '▁carton', '▁tend', '▁Bureau', 'appartement', '▁affiche', 'adapter', 'met', '▁poésie', '▁agir', '▁bl', '▁Tom', '▁débit', '▁morceau', '▁frappe', '▁souligne', '▁gel', '▁parvenir', '▁contrôler', 'équilibre', '▁Bro', '▁écouter', '▁ins', '▁prochaines', 'CO', '▁panne', '▁enfance', 'Uni', 'nce', '▁détente', '2%', '▁mobilier', '▁propriétés', '▁os', 'EC', '▁Genève', 'gan', '▁Pu', '▁Face', '▁réserver', '▁promouvoir', '▁tire', '▁Che', '▁semi', '▁billets', '▁Marine', '▁métro', '▁malade', 'nal', 'ret', '▁conseillé', '▁ballon', '▁manifestations', '▁Certaines', 'vol', '▁agricole', '▁trente', '▁souhait', '▁Del', 'influence', '▁Ke', '54', '▁Parlement', '▁basé', '▁poissons', 'tiques', '▁Celle', '▁huile', '▁you', '▁plages', '▁Cre', 'of', '▁testé', '▁tours', '▁Mur', '97', '▁pousser', '▁Pat', '▁gentil', '▁modes', '▁exceptionnel', '▁civil', '▁alimentaires', 'ice', '▁quelles', '▁fauteuil', 'én', '▁internationaux', '▁magnifiques', '▁étrangères', '▁subi', '▁augmente', '▁esthétique', '▁Haut', 'trait', 'rai', 'tz', '▁clubs', 'IR', 'avoue', '▁nucléaire', '▁43', '▁sacré', '▁prime', 'tr', '▁proposant', 'king', '▁cultures', 'mann', '56', 'lat', '▁fidèle', '▁Bio', '▁quels', 'ENT', 'vit', '▁cacher', 'PA', '▁(2)', '▁précieux', '▁tentative', '▁Lille', '▁vendeur', '▁2016.', '▁collaborateurs', '▁préciser', '▁Syrie', '▁rep', 'ten', '▁extrait', '▁tome', '▁PDF', 'vert', 'las', '▁maintenance', '▁Pan', '▁attendu', '87', '79', '▁Fort', '▁connaitre', '▁téléchargement', 'ari', '▁canapé', '▁comparaison', 'ouille', 'pl', '▁Certes', '58', '▁coque', '▁Olivier', 'gue', 'bat', '▁avenir', '▁trouvez', '▁erreurs', '▁réalisés', '▁collections', '▁adopté', '▁modifications', 'ium', 'CH', 'rés', 'mat', '▁diamètre', 'option', '▁facebook', '▁Henri', '▁exclusivement', 'rice', '▁créations', '▁scènes', '▁vertu', 'émi', '51', '▁label', '▁digne', '▁trouvait', '▁importance', '▁remarquable', '▁collecte', '▁Malheureusement', 'gel', '▁Joseph', '▁Vincent', 'ajouter', '▁conformément', '▁Ber', '▁réalisateur', '▁compétence', 'site', '▁canton', '62', '▁contribuer', '▁guitare', '▁physiques', '▁remet', '▁béton', '53', '▁précédente', 'rs', '▁deviennent', '▁extraordinaire', '▁annuel', '▁publier', '▁éditions', '▁manquer', '▁Formation', 'mis', 'agir', '▁sauce', '▁ouvrages', '▁circonstances', '▁populaires', '▁auparavant', 'DE', '▁continu', '▁Gar', '▁Fondation', '▁Outre', '▁conversation', 'toi', '▁chic', '▁aperçu', '-0', '▁Autre', '▁modernes', 'SI', '▁voyageurs', '▁promis', '▁pub', '▁quelconque', '▁Maître', '▁naturelles', '▁écologique', '▁remarqué', '▁quitté', '▁vendu', 'aut', '▁associés', 'Église', 'onde', '▁Er', '▁pouvais', '▁instrument', '▁Fe', '▁fournisseurs', '▁streaming', '▁publiée', '▁couples', '▁tablette', '▁VI', '▁Travail', '▁(4', '▁grève', '▁41', '▁papa', '▁garçons', '▁Chaussures', '=\"', '▁devront', '▁défis', '▁privés', '▁rou', '91', '▁sortes', '▁chauffe', 'tés', '▁Georges', 'ther', 'CC', '▁saisir', '▁frontières', 'Espagne', '▁facture', 'affiche', '▁destinée', '▁mobiles', 'atelier', '▁moteurs', '▁diplôme', '▁Richard', 'intéresse', '▁industriel', '▁arrêter', '▁©', 'emp', '▁Ja', '▁routes', 'sans', 'acquisition', '▁motivation', 'dra', '▁traditionnel', '▁bonjour', '▁Bain', '▁éventuellement', 'Pour', '▁bonus', '▁04', '▁division', '▁navigateur', '▁producteurs', '▁pat', 'ég', '▁sé', '▁peuples', 'ria', '▁USA', 'Plus', 'ute', '▁Française', 'ary', 'écart', '▁casse', '▁Bé', '96', '▁tchat', '▁Direction', '▁Services', 'automne', '-4', 'ting', '▁ingrédients', 'Italie', '▁Note', 'LA', '▁limitée', '▁savais', '▁implique', 'log', '▁réputation', '▁gueule', 'sé', '▁totalité', '▁apparence', '▁retrait', '▁affirme', '▁fatigue', '▁ya', '▁masque', '▁Hi', '▁contribution', 'lation', '▁Né', '▁gain', 'ial', 'Pro', 'rat', '▁moral', '▁numériques', '▁aiment', '▁mont', '▁évoluer', '▁Pou', '▁paramètres', 'usine', '▁payé', '▁Master', '▁Ton', '▁Cul', '▁Lunettes', '▁médicament', '▁progressivement', '▁procéder', '▁remarquer', '63', '▁Robe', '▁sports', 'ature', '▁automobile', '▁Client', '▁USB', '▁gagne', 'ning', '▁permanente', 'imp', '▁info', '▁Microsoft', '▁prévoit', '8%', 'erreur', '▁soupe', '69', '▁Durant', '▁Main', 'iz', '▁ga', '▁Montpellier', 'individu', '▁blonde', '▁prenez', '▁adaptés', '▁raconter', '▁Four', '▁2002', '▁influence', '▁Radio', '▁européennes', '▁prince', '▁trace', '▁sèche', '74', '▁fermé', 'bien', 'udi', 'cor', '▁Université', '▁Apple', '▁dommages', '▁Mé', '▁Mai', 'igny', 'ros', '▁Max', '▁vocation', '▁registre', '▁permanence', 'gin', '▁étudiant', '▁candidature', '▁espagnol', '▁sûre', '▁Mu', 'angle', '▁don', '▁montrent', 'gre', 'top', 'ick', '500', '6%', '▁doigt', '▁découvrez', '▁soutenu', '▁br', '▁franchement', '▁bouteille', '▁favorable', '▁(«', '▁quart', '▁live', '▁pharmacie', '▁record', '▁présentent', 'ct', '▁secours', '▁fusion', '▁villages', '▁psychologique', '▁800', '▁constante', '1.', 'envoyer', '▁ab', '▁Roi', '▁exemples', '▁Trump', '-3', '▁DVD', '▁secrets', '▁09', '▁Free', '▁récente', '▁considérer', '▁transmettre', '▁Provence', 'ord', '▁ferait', 'PI', '▁trimestre', '▁médicale', '▁box', '▁unités', '▁connait', '▁mène', '▁Ph', '▁salut', '▁versions', '▁citron', 'aspect', 'tons', '▁tenant', 'ration', '▁bleue', '▁merveilleux', '▁global', '▁normale', '▁degré', '▁curieux', '▁2010,', 'hésite', 'bourg', 'dd', 'gh', '▁constituer', 'tom', 'Eglise', '▁mature', '▁free', '▁q', '▁2001', '▁payant', '▁dette', '▁fromage', '▁Néanmoins', '▁sensibilité', '‘', '▁el', '▁Ham', 'Histoire', '▁feront', '▁commander', '▁haine', 'form', 'inc', '▁secondaire', 'nait', 'ft', '▁verte', '▁surpris', '▁liée', '▁communautés', '▁basée', '▁remercie', '▁James', '▁disposer', '▁Emmanuel', 'plan', '▁arme', '▁références', '▁foyer', '▁profils', '▁commerces', '▁loup', '▁ro', '▁off', 'rée', '▁résumé', '▁Venez', '▁fournit', '▁culte', '▁donnera', 'ney', '▁LES', '▁05', '▁IN', 'augmentation', 'ives', '▁buts', 'main', '▁progression', '▁reproduction', '▁venant', 'ox', 'arrête', '▁compatible', '▁royaume', '▁exercices', '▁Aucun', '▁Maurice', '▁voisins', '52', '7%', '▁précisé', 'intention', '▁at', '▁italienne', '▁générales', '▁Strasbourg', 'illy', 'Con', '▁roulant', '▁Salut', '200', '84', '▁bénéficie', '▁IP', '▁volant', '▁élève', '▁casque', '▁mou', '.0', '▁dirige', '▁64', '▁intitulé', '▁Jack', 'ED', 'tit', '▁lave', '▁Nom', '▁montagnes', '▁connus', '▁virus', '▁compose', '▁pédagogique', 'OC', 'Vi', '▁déposer', '▁fortes', '▁stable', '▁industrielle', '▁Sciences', '▁identifié', '▁2011,', 'élé', '▁Mr', '▁disparition', '▁symbole', 'inspiration', 'ero', '▁mg', '▁contraintes', '▁pan', '▁Heureusement', 'NA', 'gra', '▁Livre', '▁belge', '▁49', '▁46', '▁tournoi', '▁Christophe', '▁Journal', 'ente', '▁équilibre', 'uf', '▁effort', '▁noirs', 'ettes', '▁pseudo', '▁utilisateur', '▁prière', '▁conférences', '▁norme', '▁souris', 'ifs', '▁larmes', '▁matchs', 'ault', '▁refuse', '▁palais', 'écrire', 'ordinateur', '▁interview', '▁jusque', '▁bizarre', '▁Espagne', '▁Front', '▁émissions', '▁balle', '▁refaire', '93', 'kin', '▁investi', '▁mono', 'bé', '▁RE', '▁littéraire', '4%', '▁FC', '-2', '▁million', '▁autorisation', '▁investissement', '▁alimentation', '▁sportive', '▁relatif', '▁tissus', '▁emplois', 'bes', '▁fonctionner', '▁Lou', 'ième', 'ala', '▁monté', '▁répartition', '▁so', '#', 'pr', '▁prof', '▁clinique', '▁courir', '▁animé', '▁utilisez', 'avion', 'hou', '▁caisse', 'ola', 'attend', '▁prépare', '▁tombé', '▁préserver', '▁riz', '▁pic', 'arc', '▁économies', '▁tonnes', '▁inspiré', '▁comparer', '▁th', '▁cercle', '▁engagé', '▁rec', '▁inutile', '▁08', '▁show', 'hommes', '▁faisons', '▁panneaux', '▁cam', '▁taxe', 'trice', '▁accompagne', 'lar', 'ib', 'zz', '▁restera', '83', '▁stratégique', 'occuper', '▁discipline', '▁contemporaine', '▁Dan', '▁boucle', 'ator', '-18', '▁regroupe', '▁gal', '▁utilisent', '▁star', 'enregistrement', '▁fixé', '▁remporté', '▁52', '▁coach', '▁achats', '▁World', '▁rentre', '▁pommes', '▁Gros', '▁fondée', 'box', 'Vous', 'xi', 'êt', 'entreprises', '▁producteur', '▁trompe', '▁incontournable', '▁oreilles', 'exprimer', 'illage', 'page', '▁promo', '▁gorge', 'nger', '▁accessibles', 'har', '▁2015.', '▁farine', 'ME', '▁orange', '▁tendances', '▁supporter', '▁gardien', '▁réglementation', '▁câble', 'Fi', '▁relever', '▁longs', '▁Ag', '▁romantique', '▁sportifs', '▁convaincre', '▁Nations', 'accompagnement', '▁élevée', '▁Ram', '▁marine', '▁photographe', '▁internautes', '▁témoignage', '▁extérieure', '▁Ser', '▁concernés', '▁maternelle', '▁coûte', '▁règne', 'jour', '▁traite', 'over', '▁remercier', '▁Sha', '▁abonnement', 'ç', '▁branche', '▁présentés', '▁Vol', '▁supports', 'otte', '9%', '▁apporté', '▁jardins', 'isent', '▁chair', '▁absence', '▁Ass', 'isés', 'igne', '▁complexes', '▁régionale', 'éni', '▁saut', '▁dépasser', 'éri', '▁bête', 'iff', 'nois', '▁Mini', '▁canal', '▁profondément', '▁cre', 'Ré', '▁chronique', '▁Open', '▁apprécier', '▁individuelle', '▁acteur', '▁champion', 'entendre', 'dent', '▁serai', '▁positive', '▁espèce', 'sky', '▁conforme', '▁CH', 'gy', '▁module', '▁écrite', '▁alternative', '▁créativité', '▁conclusion', '▁rempli', 'itaire', '▁nationales', '▁vague', '▁monsieur', 'ction', '▁guère', 'éti', '▁pé', 'èle', '▁prévoir', 'alisation', 'mal', 'lais', '▁recherchez', '▁essentielle', 'attendre', '▁Cam', '71', '▁tables', '▁Ministère', 'év', 'tie', '▁acc', '▁bis', '▁ob', '72', '▁mentale', '▁aff', '▁complémentaires', '▁obligations', 'président', '▁documentaire', '▁plu', '▁financières', '▁forts', '▁correct', '61', '▁composants', 'mor', '▁fallu', '▁complément', '▁voyez', '▁environs', 'lor', '▁rap', '...),', '▁ki', '▁Sécurité', '▁alentours', '▁Date', '▁enregistré', 'examen', '▁vues', '▁constate', '▁personnalisé', '▁mod', '▁exercice', 'ANT', '▁consacrée', 'équipement', 'laire', 'nn', 'are', '▁flash', '▁musiciens', '▁sexuelles', '▁03', '▁liaison', '▁générations', '▁Data', '▁génie', '▁obligé', '▁concerts', '▁broyeur', 'élaboration', '▁plate', 'pon', '▁signal', 'ore', 'eacute', 'TS', '▁docteur', '▁plonge', '▁futurs', '▁aimez', 'ges', '▁établir', '▁marge', 'ôme', '▁interventions', 'ace', '▁allemande', '▁jeter', '▁tableaux', '▁fausse', 'mn', '▁tourné', '▁oiseaux', '▁future', '▁Don', '▁remonter', '▁Hollande', '▁présentée', '▁grille', '▁Tunisie', '▁connaissez', '▁bé', 'ult', '▁ac', '▁console', '▁hein', '▁(5', '▁pensais', '</', '▁cave', 'rite', 'shirt', '▁reine', '▁efficacité', 'vez', '▁poster', '▁citer', '▁catholique', '▁directrice', '“', '▁Bienvenue', 'agissait', '▁gu', 'cf', '▁expertise', '▁paraître', '▁débats', '▁int', '▁Situé', '▁Vo', '▁ceinture', '▁élégant', 'ssait', '▁rendent', '▁thèse', '▁touristique', '▁examen', 'DI', '▁Appartement', 'serv', '▁finition', '▁fiable', '▁Samedi', '▁peintre', '▁iPhone', '▁procédures', 'envoi', 'égard', '▁cliquant', '▁pouvaient', '▁Israël', '▁épi', '▁faim', '▁van', '▁souple', '▁trajet', '▁randonnée', '▁Eric', 'FR', '▁simplicité', '▁épisodes', '▁essai', '▁finances', '▁capitaine', '▁Droit', '▁suivent', '▁soirées', '▁organisme', '▁expert', '▁réalisées', 'ize', '▁député', '▁partagé', '▁carré', '▁filtre', '▁Guillaume', '▁Villa', '▁Commentaires', 'vier', 'ifié', 'els', '▁47', 'AGE', '▁Retour', '▁suppression', '▁fréquence', '▁inf', '▁chère', 'RA', '▁Tr', 'IG', '▁chargée', '▁appeler', 'Homme', '▁connecter', 'ski', '▁Hommes', '▁conservation', '▁57', '▁piano', '▁adore', '▁95', '▁bienvenue', 'elli', '▁constructeur', '▁continent', '▁formidable', '▁symbolique', '▁confirmer', '▁représenter', 'Co', '▁couvre', '▁Brésil', '▁couvert', 'bl', 'ssé', '▁Inde', '▁familial', '▁participant', '▁déroule', 'inverse', '▁linge', 'din', '▁lumineux', '▁astrologique', '▁balcon', '▁limité', '▁attaques', '1,', '▁up', '▁Guide', '▁roues', '▁manche', 'dont', '▁majeure', '▁suivie', 'ev', '▁tirage', '▁titulaire', '▁fédéral', '▁traitements', '▁envies', '▁Guy', '▁fabricant', '▁fenêtres', '▁efficaces', '▁travaillent', '▁contacts', '▁solo', 'El', '▁équipement', '▁Sarkozy', '▁Développement', 'thé', 'ata', 'ssement', '▁Palais', '▁agit', '▁Dominique', '▁destruction', '▁humeur', '▁enceinte', 'applique', '▁best', '▁Gestion', '▁cote', '▁indépendante', 'del', '▁assis', 'oux', '▁issu', '▁curiosité', '▁choisissez', 'ok', '▁empêcher', '▁combats', 'Orient', '▁menée', '▁max', 'impôt', '▁Film', '▁dîner', '▁folie', '▁Sauf', '▁chrétiens', '▁commerciaux', '▁Dou', '▁symptômes', '▁dose', '▁promet', '▁folle', '▁boutons', '▁apparaître', '▁capables', 'rig', 'old', '▁Dar', '82', '▁fournisseur', 'sée', 'ét', 'CHE', '▁défend', '▁touristes', '▁Rue', '▁complémentaire', '▁conc', 'imi', '▁Amérique', 'ack', 'chet', '73', '▁appelée', '▁tué', '▁prévues', '▁Mel', '▁codes', '▁usine', 'adoption', '▁répertoire', '▁appliquer', 'enfance', '▁Source', 'illes', '▁italien', '▁dame', '▁LED', '▁maximale', '▁dispositifs', 'arbre', '▁IV', '▁serre', '▁Cuir', '▁google', '3)', 'Ro', '▁fiction', '▁app', 'Inde', '▁Déjà', '▁tra', '▁professeurs', '▁réactions', 'inscrit', '▁Ren', '▁éco', '▁07', '▁descend', '▁inscrits', '▁dirigé', '▁discret', 'extrême', '▁interprétation', '▁gestes', '▁parlant', '▁douze', '▁troupes', 'nette', '▁balade', '▁virtuelle', 'ste', 'url', '▁démarches', '▁85', '▁rétro', '▁positions', '▁Luxembourg', '▁croix', '▁1997', '▁socio', '▁Vente', '▁fondateur', '▁susceptibles', '▁colis', '▁publie', '▁présentant', '▁culturelles', '▁coffre', 'Académie', '▁protocole', 'nne', '▁annuelle', 'issent', '▁évoque', 'orientation', '▁Photos', '-5', '▁US', 'Dé', '▁constitution', '▁Vert', 'RES', '▁One', '▁imaginer', '▁Compte', '▁proposée', '▁2008,', '▁voila', '▁inférieure', '▁rémunération', '▁54', 'ARD', '▁oblige', '▁préférence', '▁ennemis', '▁euro', '▁génial', '▁agricoles', 'adaptation', '▁Lit', 'sis', 'ssez', '▁pratiquer', '▁provenant', 'intelligence', '▁mat', '▁Cho', '▁Kar', '▁plombier', '▁Berlin', 'anc', '▁infos', '▁Alpes', '▁portent', '▁touristiques', 'asser', '▁race', 'gui', '▁disponibilité', 'INE', '▁Michael', '▁conclu', '▁Lot', '▁sacs', '▁all', '▁dite', 'bal', '▁aidé', 'rand', '▁voyager', '▁rendement', '▁bouger', '▁officiellement', '▁mental', '▁Surtout', 'nc', '▁considérable', 'appui', '▁Juste', 'nez', 'istique', 'mus', '2018', '▁Rhône', '▁arbre', '▁intervient', '▁Cro', 'pan', 'î', '▁voisin', '▁750', 'érer', '▁agent', '▁2014.', '▁optique', '▁maillot', '▁âgées', '▁pantalon', 'amuser', '▁Tar', 'EA', '▁Nu', 'ima', '▁casino', '▁ho', '▁nuits', 'lait', '▁pl', '▁mine', '▁fameuse', '▁informer', '▁us', '▁consultez', '▁Rennes', '▁origines', '▁évènements', 'sta', 'éc', 'av', '▁fondé', '▁Mc', 'Algérie', '▁souffrance', 'cin', '▁destinés', 'Marie', '▁facteur', '▁Communauté', '▁séparation', '▁Politique', '▁recommandations', 'gon', '▁commerciales', '▁pensent', '▁graines', '▁ikea', 'arme', '▁essentielles', '▁franc', 'ifi', '▁file', '▁discussions', '▁Mise', '▁marquée', '▁savons', '▁fixer', '▁musical', '▁Blog', '▁SE', '▁îles', '▁nouveautés', '▁temporaire', '▁intégrer', '▁parlent', 'leur', 'ude', 'Par', '▁id', '▁vingtaine', '▁avocat', 'ves', '▁moulin', '▁Aucune', '▁TVA', '▁Vu', '▁réagir', '▁honte', 'pul', '▁lancée', '▁Ger', '▁préparé', '▁suffisant', '▁existent', 'illi', '??', '▁étonnant', '▁espoir', '▁affirmé', '▁révolutionnaire', '▁climatique', '▁unité', '▁refusé', '▁gâteau', '▁voter', '▁citoyen', '▁Programme', '▁privées', 'essayer', '▁chers', 'sous', 'ky', '▁obligation', 'Ad', '▁cuire', '▁danse', '▁bénéfice', '▁thermique', 'web', '▁confirmation', '▁existence', '▁Point', 'amb', '▁synthèse', '▁Julien', '▁animations', '▁féminin', '▁pape', '▁clavier', 'oi', '▁voient', 'illé', 'niste', 'place', 'ffe', '▁brut', 'ités', '▁nettement', '▁my', 'acteur', '▁artisans', '▁adoré', '▁Concernant', '▁poussière', '▁BD', '▁néo', 'cent', '▁manches', '▁pique', '▁senti', '▁saisons', 'empêcher', 'uk', 'mu', 'phone', '▁Anti', '▁souviens', '▁douleurs', '▁mauvaises', 'rit', '▁Wa', '▁romans', 'islam', '▁surement', '▁échelle', '▁investissements', '▁Sujet', '▁auxquels', '▁formé', 'riez', '▁électro', '▁Hé', '▁Chef', 'yer', '▁convaincu', '▁rapides', '▁essais', '▁pétrole', '▁Eh', '▁Prenez', '▁façade', '▁Video', '▁largeur', '▁commencent', '▁urbaine', '▁externe', 'ouche', '▁doté', '▁avancer', '▁habitudes', '▁perception', 'ere', '▁industriels', 'logue', '▁Jour', '▁mené', '▁stratégies', '▁Bre', 'idées', '▁sexuel', '▁comportements', '▁souhaité', 'mit', '▁bière', 'for', '▁conflits', '▁talents', 'fu', 'amitié', '▁célibataire', 'assemblée', 'pir', '▁Algérie', 'tions', '▁manuel', '▁dégâts', '▁certificat', '▁valable', '▁spectacles', '▁mixte', '▁fluide', 'roy', 'ock', '▁chats', 'assistance', '▁conjoint', '▁Mat', '▁retourne', '▁Grèce', 'organiser', '▁défaite', 'card', '▁Projet', 'ats', 'ève', 'outil', '▁Inc', '▁Association', '▁agences', 'imagine', '▁pratiquement', '▁2009,', '▁traits', '▁saura', '▁nationaux', '▁chaleureux', 'cra', 'ula', '▁arrivent', '▁Auteur', '▁graves', '▁fermer', '▁hâte', 'ège', '▁chaudière', '▁immédiate', 'mel', '▁aventures', '▁mobilisation', '▁commis', '▁180', '▁Pascal', '▁paru', '▁nettoyer', '▁subir', 'effectuer', '▁accusé', 'Jean', 'yo', '▁graisse', 'uz', '▁bouge', '▁parisienne', '▁causes', 'UL', '▁Denis', 'ple', 'épreuve', '▁MA', '▁habituellement', '▁tort', 'Bas', '▁Gérard', 'DA', '▁températures', '▁Cas', '▁librement', '▁cadres', 'pp', '▁observer', '▁financer', 'hier', '▁ru', 'empêche', 'lam', 'TI', '▁77', '▁chanteur', '▁Type', '▁évaluation', '▁urbain', 'dom', 'images', '▁fabriquer', 'lia', '▁permettront', 'dan', '▁couture', '▁rêver', '▁Ministre', '▁tournant', '▁initiale', 'bri', 'actions', '▁anglaise', '▁émission', '▁Mali', '▁City', '▁challenge', '▁voulons', 'tisme', '▁assister', '▁Ed', 'éli', '▁compagnon', '▁Tags', '▁Tel', '▁Vers', '▁vrais', '▁veuillez', '▁sonore', '▁sélectionner', '▁raisonnable', 'ifie', '▁classé', '▁stabilité', 'SC', '▁terrains', '▁;)', '▁140', '▁coupé', 'html', '▁jou', '▁Création', 'ico', 'sson', 'dor', '▁escorte', '▁Vin', '1%', '▁connecté', 'RI', '▁périodes', 'tien', '▁adresses', '▁Stéphane', '▁témoignages', '▁couronne', '▁bri', '▁resté', 'cour', '▁autonome', 'TA', '▁Lien', '▁robot', '▁entraîne', '▁dessert', '▁Big', '▁it', '▁cheminée', '▁policiers', '▁jean', '▁mecs', '▁avion', '▁vive', '▁dieu', '▁intervenir', 'apparition', 'Mar', 'mb', '▁(6', '▁différences', '▁Théâtre', '▁états', '▁imposé', 'adi', '1)', '▁similaire', '▁chemins', 'ologue', '▁coiffure', '▁Conférence', '▁muscles', 'entraînement', '▁bénévoles', '▁banc', '▁administrative', '▁biologique', '▁gré', 'autonomie', '▁descente', '▁combinaison', '▁relevé', '▁inscrire', 'agent', '▁géant', '▁1999', '▁Profitez', 'uche', '▁lentement', '▁Rock', '▁recueil', 'Agence', '▁gardé', 'AB', '▁chrétienne', 'Mais', 'AG', 'cas', 'rsquo', '▁abandonné', 'sch', 'olo', '▁Ins', '▁fantastique', '▁51', '▁construite', '▁PRO', 'ato', 'autorisation', '▁solidaire', 'cré', 'sive', '▁inférieur', '▁!!!!', '▁éclairage', '▁universitaire', '▁astuces', '▁pollution', 'ath', '▁démon', '▁apparition', '▁vivement', '▁he', '▁Tre', '▁prochains', 'cou', '▁WC', '▁tiré', '▁expression', '▁Location', '▁Gui', '▁Gouvernement', '▁Samsung', '▁indi', 'explique', '▁apparaissent', '▁déclare', '▁vif', '▁Bruno', 'agisse', 'oy', '▁Nombre', '▁brun', 'éditeur', '▁suppose', 'sk', 'ical', '▁Simon', '▁sélectionné', '▁nue', '▁détaillé', '▁paquet', 'gne', '▁matelas', '▁refuser', '▁relais', '▁maquillage', '▁libération', '▁provoquer', '▁réunions', '▁flotte', 'hy', '▁cardiaque', '▁foncé', '▁découvertes', '▁crime', '▁instruments', 'allais', '▁égal', '▁génétique', 'opinion', '▁obtient', 'avère', '▁fût', '▁japonaise', '▁souffre', '▁1996', '▁78', 'ATION', 'ié', '▁masculin', '▁CA', 'apporter', 'GA', '▁cré', 'lés', '▁législation', '▁restait', '▁veste', '▁seules', 'cia', 'cri', '▁révélé', '▁carnet', '▁attitude', '▁intéressé', 'ake', '▁touché', '▁FR', 'ii', '▁géographique', '▁69', '▁Pin', 'cip', '▁religieuse', '▁Antoine', 'MO', '▁étudié', '2017', 'ONU', '▁vapeur', 'actu', '▁Var', '▁Générale', 'cule', '▁appartements', 'pu', 'obligation', '▁jugé', '▁péri', 'graphie', '▁courriel', '▁jury', '▁serrure', '▁colonne', ');', '▁écho', 'emb', 'fin', 'Paul', 'ides', '▁traditionnels', '▁maîtres', '▁retrouvent', '▁contribue', '▁nation', '▁calculé', 'vir', '▁King', '▁Force', '▁photographies', '▁Avis', '▁diffusé', '▁68', 'endre', '▁mariée', '▁manipulation', 'sie', 'Une', '▁grec', '▁désigne', '▁malades', '▁satisfait', '▁possession', '▁Fu', '▁conducteur', '▁pomme', '▁Faut', '▁spirituelle', 'éra', '▁lampe', '▁rideaux', '▁secondaires', 'dr', '▁56', '▁tas', '▁constaté', '▁fé', 'lac', '▁épreuve', 'gle', '▁viendra', '▁optimale', 'rot', 'omp', '▁déf', 'ren', '▁députés', '▁juger', '▁pc', '▁accordé', '▁égard', 'DS', '▁Ol', '▁suspension', '▁pauvreté', 'och', '▁conte', '▁emplacement', 'illant', '▁seuil', 'odo', '▁retenir', '▁Post', '▁har', 'rd', '▁présentées', 'Me', 'low', '-10', '▁milieux', '▁panneau', '▁municipal', '▁explications', '▁justifier', '▁ordinaire', 'avocat', 'source', '▁perfection', '▁Mis', '▁clic', '▁Fr', '▁spécialisés', '▁ar', '▁00', 'ella', '▁Trop', '▁72', '▁reconnaît', '▁condamné', 'nière', '▁verts', '▁contactez', '▁ouvertes', 'ail', 'lt', '▁dévoile', '▁spa', '▁Voyage', '▁mor', '▁conserve', 'ites', '▁Shi', '▁rac', '▁1980', 'uer', 'CR', '▁Thierry', '▁souligné', 'nay', '▁trouble', '▁diminuer', '▁argument', '▁légitime', '▁management', '▁Turquie', '▁bandes', '▁accompagnement', '▁goûts', '▁Ajouter', '▁oeuvres', '▁jouent', '▁identifier', 'union', '▁joint', '▁rejet', '▁chaînes', '▁92', '▁psycho', '▁négociations', '▁journaux', '▁estimé', '▁Ban', '▁faibles', '▁individu', '▁hauts', '▁Où', '▁Finalement', '▁adaptées', '▁survie', '▁plainte', '▁comprennent', 'essence', 'olive', 'axe', 'arriver', '▁féminine', 'effort', '▁livré', '▁700', '▁Personne', '▁décennies', 'IV', 'reux', 'Di', 'illard', 'père', 'ura', '▁we', '▁Bob', '▁CC', '▁inc', '▁Département', 'book', 'cept', 'ige', '▁quinze', '▁révision', '▁éducation', '▁Sc', '▁épreuves', '▁asiatique', '▁sécurisé', '▁priori', '▁guilde', '▁0.', '▁sensibles', 'not', '▁couches', 'quant', '▁accepte', '▁Catherine', 'mant', '▁Lac', '▁écrits', '▁sage', '▁red', '▁déplacements', '▁cherchent', 'SP', 'mir', '▁(17', '▁transparence', '▁démonstration', '▁prouver', 'kg', '▁envahi', '▁dépasse', '▁consommateur', 'indépendance', '▁mystère', '▁Dimanche', '▁clan', '▁ouverts', '▁conf', 'DR', '▁administratif', '▁puissante', 'fil', '▁Meilleur', '▁authentique', '▁zéro', '▁Ge', '▁État', 'rich', 'RO', '▁graphiques', '▁augmenté', '▁psychologie', 'rus', 'tement', 'dés', 'éme', 'ken', '▁armée', '▁charbon', '▁plongée', '▁ge', '▁Far', 'venant', 'blog', '▁centaine', '▁adopter', '▁Allez', '▁miel', 'act', 'star', '▁délégation', '▁concevoir', '▁Nature', '▁aient', '▁Bravo', 'Luc', 'hen', '▁Sar', 'rain', '▁patience', '▁Cliquez', 'ît', '▁Liste', '▁Blue', 'ash', 'vision', '▁ressent', '▁combattre', '▁Peter', '▁Réunion', '▁nourrir', 'UM', '▁parquet', '400', '▁ke', '▁écriture', 'aucun', 'iennes', '▁personnalités', '▁brune', '▁Côté', '▁amitié', '▁62', 'stitu', '▁drame', '▁bâti', '▁ressentir', '▁réduite', '▁Em', '81', '▁latin', '▁53', 'ores', '▁meurtre', '▁Chacun', '▁réfugiés', '▁Roman', '▁sanitaire', 'UP', '▁qualifié', '▁Ly', 'dre', '▁multitude', '▁cliquer', '▁fier', '233;', 'nées', '3.', '▁sp', 'NE', '▁légende', 'ili', '▁efficacement', '▁mesurer', '▁initiatives', '▁fleuve', '▁déb', '▁Seul', '▁Fou', '▁couvrir', '▁dirait', 'lieu', '▁tombée', '▁racines', '▁58', '▁enlever', '▁blanches', '▁lisse', 'enfin', '▁Sénégal', 'rique', '▁intègre', '▁boutiques', 'position', 'nat', '▁uniques', '▁problématique', '▁transformé', 'sia', '▁adolescents', 'ération', '▁modifié', '▁visibilité', '▁esprits', '▁Thi', '▁progresser', '▁envoie', '▁retenue', '▁bisous', '▁Pé', '▁MP', 'lip', 'taire', 'vet', '▁Albert', '▁Poste', '▁façons', '▁tennis', '▁protège', '▁Kit', '▁pack', '▁apprentissage', '▁War', 'rel', '▁At', '▁seigneur', '▁matériau', '▁sublime', 'hal', '▁160', 'ello', '▁regardant', 'iale', '▁investir', 'aque', 'èche', 'back', '▁roue', '▁abus', 'MC', 'ignon', 'rom', 'emplacement', '▁similaires', '▁pen', '▁degrés', '▁informatiques', '▁fiscale', 'guer', '▁mépris', '▁emp', '▁Affaires', 'ase', 'sible', '▁George', '▁ennemi', 'cus', '▁créateur', '▁pe', 'eo', '▁plume', '▁gloire', '▁Trouvez', '▁arc', '▁You', '▁adversaire', 'uri', 'humidité', 'Louis', '▁lis', '▁Frédéric', 'ition', 'TRE', '▁59', 'bout', 'échec', '▁prendra', 'nale', '▁visité', '▁dating', '▁AL', '▁signer', '▁thérapie', '▁poulet', '):', 'fo', '▁invitation', '▁plaques', '▁épaules', '▁franco', 'intégrer', '▁Tor', 'hébergement', '▁issue', '▁pis', '▁carbone', 'Mo', '▁2012.', '▁faisaient', 'ots', 'tré', '▁syndicats', '▁électroniques', 'euil', '▁nov', '▁Ku', '▁lits', '▁coloris', '▁Cu', '▁Ze', '▁Euro', '▁dirigeant', 'animal', '▁définitive', 'zy', '▁garanties', '▁heureusement', '▁baignoire', '▁constamment', '▁noix', 'observation', '▁détruit', '▁duquel', '▁duo', '▁finance', '▁Grenoble', '▁PME', '▁Yo', 'BA', '▁Wal', 'attends', '▁servent', 'day', '▁em', 'CP', '4)', '▁disposent', 'mois', '▁nécessairement', '▁aluminium', '▁Contrairement', 'aga', '▁XIXe', '▁Télé', '▁comédie', 'crit', '▁violences', '▁Quoi', 'uch', '▁debout', '▁significative', '▁couteau', '▁(7', '▁demandent', '▁rat', '▁xxx', '▁her', '▁ressource', '▁passages', '▁inoubliable', '▁chemise', '▁réuni', '▁baie', '▁scandale', '/10', '▁accompli', '▁Européenne', '▁Musique', 'len', '▁dépendance', 'point', 'olé', '▁av', '▁amène', 'EUR', '▁individuel', '▁apparemment', '▁île', '▁Lumière', 'ito', '▁libérer', 'rès', 'alors', '▁canadienne', '▁Meetic', '▁apres', '▁attirer', '▁styles', 'humain', 'anda', '▁Wall', '▁passionné', '▁stations', '▁francs', 'pos', '▁occupé', '▁Los', '▁preuves', '▁from', '▁frappé', '▁pute', '▁déposé', '▁courts', '▁étudier', 'resse', '▁Sun', '▁Libre', '▁Gris', '▁personnellement', 'eries', '▁évolué', '▁diriger', '▁énergies', '▁Série', '▁chi', '▁charmant', '▁informe', '▁Arts', 'gri', '▁golf', '▁rayons', '▁UN', '▁Cl', '▁gen', '▁crédits', '°1', '▁René', '▁Présentation', '▁confié', '▁initiative', '▁Royal', '▁noires', 'ram', '▁data', 'hr', 'ép', 'ping', '▁Constitution', '▁joindre', '▁probable', '▁chanteuse', '▁stand', '▁régionales', '▁islamique', 'viv', '▁tenait', '▁falloir', '▁déterminé', '▁princesse', 'éclairage', '▁fiches', '▁As', '▁transforme', '▁réunir', '▁sexuels', '▁campagnes', '▁délicieux', '▁plomberie', '▁Fête', '▁not', '▁DS', '▁marquer', '▁Etat', '▁thématique', '▁Girl', '▁récupération', '▁Marcel', 'bra', '▁nationalité', '▁ép', '▁Gilles', 'ous', '▁dirais', '▁responsabilités', '▁lève', '▁alliance', '▁garantit', '▁huiles', '▁lumineuse', 'gent', '▁opérateurs', '▁1994', '▁analyses', '▁CR', '▁passées', 'appuie', '▁origine', '▁jolies', 'aki', '▁immobilière', '▁Autres', '▁vainqueur', '▁occupe', 'ral', 'expertise', '▁conformité', '▁Bru', '▁Washington', '▁Parfois', '▁Mas', '▁tranche', 'aval', '▁immeuble', '▁pente', '▁urgence', '▁congrès', '▁Vendredi', '▁libertin', '▁Cast', 'chu', '▁1970', '▁intéresse', '▁atteinte', 'usse', '▁pouces', '▁réfléchi', '▁aussitôt', '▁goûter', '▁Bla', 'uy', '▁socialiste', '▁arrondissement', '▁business', '▁susceptible', '▁Méditerranée', 'ku', '▁temple', '▁rendue', '▁Alexandre', '▁réparer', '▁voté', '▁planification', '▁toilette', '▁67', '▁logistique', 'expliquer', '▁pal', 'ulation', 'alo', '▁impressionnant', '▁Visite', '▁rechercher', '▁reposer', '▁jupe', '▁Escort', '▁coupable', '▁plait', '▁traverser', '▁Dame', '▁réside', '▁schéma', '▁]', '▁Corse', '▁impôts', '▁fabricants', '▁poignée', '▁cabine', 'éo', '▁distingue', '▁Fo', 'Alpes', '▁universelle', 'odeur', '▁chimiques', '▁dessinée', '▁signification', '▁regret', '▁fun', '▁Bay', '▁poli', '▁poussé', '▁rigueur', '▁vo', '▁régulière', '▁égale', 'ppe', '▁vivante', '▁clôture', 'éné', '▁débute', '▁francophone', 'angoisse', '▁Autant', '▁choisis', 'accent', '▁Tant', '▁ok', '▁matériels', '▁new', '▁variable', '▁remonte', 'Car', '▁résister', 'Am', '▁frein', '▁saine', '▁fidèles', '▁pourriez', '▁Mus', '▁Victor', 'osse', 'eng', 'accident', '▁opposition', '▁GR', '▁Communication', 'impose', '▁Corée', '▁échanger', '▁marron', '▁exercer', '▁Ros', 'aka', '▁artisan', '▁spirituel', '▁voler', '▁chapelle', 'Angleterre', '▁rappelé', '▁Quels', '▁Système', '▁laissent', '▁récolte', '▁désigné', 'bin', '▁coco', '▁caractères', 'duction', '▁internes', '▁saurait', 'The', 'appliquer', 'engager', '▁évoqué', 'bie', '▁pin', '▁Temps', '▁thématiques', '▁récent', 'Com', '▁May', '▁attendent', '▁Im', '▁commandé', '▁reconnue', '▁angle', '▁civilisation', '▁livrer', 'MI', '▁Bac', '▁déficit', 'ith', 'ING', 'ume', '▁âgé', '▁requête', 'ense', '▁élevés', '▁Net', '▁éc', '▁sensations', 'ssy', '▁attente', '▁2013.', '▁form', 'RC', '–', '▁poil', '▁Pla', '▁fortune', '▁Fonds', 'los', '▁1998', '▁technologique', 'cc', '▁Mad', '▁suffisante', '▁bateaux', 'chev', '▁marchandises', '▁profitez', '▁profité', '▁généraux', '▁ministres', '▁média', '▁pilotes', 'encontre', '▁Cité', '▁vaccin', '▁devaient', '▁paradis', '▁prostituée', 'occupe', 'oph', '▁soutient', '▁sortant', '▁poétique', '▁passait', '▁tiendra', '▁Maria', '▁édité', '▁sauvegarde', 'get', '▁trio', 'tain', '▁nulle', '▁précédentes', '▁honnête', 'four', '▁indépendants', '2014', '▁drogue', 'informatique', 'accéder', 'ssons', 'ust', '▁monuments', '▁détruire', '▁boissons', 'ménage', '▁détour', 'ssage', '▁jazz', '▁conçue', '▁placement', '▁tre', '▁compositeur', 'nos', '▁aides', '▁naviguer', '▁parcourir', 'ars', '▁manqué', 'cur', '▁virtuel', '▁Gen', 'océan', '▁sauter', '▁fixation', '▁ras', '▁).', '▁précédents', 'ST', '▁Mark', '▁précédemment', 'pens', 'UC', '▁entouré', '▁déménagement', '▁(3)', 'AU', '▁enregistrer', '▁sportives', 'PC', '▁sols', '▁Exemple', '▁tactile', '▁PA', 'culaire', '▁do', '▁usages', '▁texture', 'èse', '▁visuel', '▁Hy', '▁Normandie', '▁procurer', '▁défini', '▁armoire', '▁cra', '▁parent', '▁clip', 'EST', '▁filiale', 'mission', '▁2007,', '▁supprimé', '▁Studio', '▁cuillère', '▁fumée', '▁africaine', 'GE', '▁prés', '▁souffrir', '▁observe', 'immigration', '▁Blanche', 'aurez', '▁correspondance', '▁Ker', 'ual', 'lim', 'rateur', 'herbe', '▁considérée', '▁passagers', '▁Actualités', '▁témoins', '▁lourde', 'suiv', '▁CN', '▁ultime', '▁variés', '▁supplément', '▁vols', '▁rajouter', '▁SI', '▁informé', 'tru', '▁glisser', '▁appartenant', '▁suspect', '▁désirez', '▁Music', 'ologique', '▁put', '▁compteur', '▁poêle', '▁circulaire', 'essai', '▁spectateurs', '▁médiatique', 'cl', '▁consommer', '▁évènement', '▁superficie', '▁pédagogiques', '▁confidentialité', '▁continuent', '-8', '▁militants', 'oto', '▁adhérents', '▁papiers', '▁Hôtel', '▁balance', '▁cuivre', '▁corruption', '▁Aide', 'doc', '▁gout', 'parole', '▁favoris', 'zer', '▁vernis', '▁accueilli', '▁Alex', '▁noté', 'nard', 'mine', '▁émis', 'ish', 'François', 'Israël', 'Internet', '▁pensait', '▁Reste', 'entrer', '▁stars', '▁forfait', '▁res', '▁apport', '▁Anglais', 'oche', '▁interface', 'ards', '▁Contactez', '▁intention', '▁pertes', 'bul', '▁toiture', '▁inconnu', '▁imprimé', '▁autorisé', '▁SC', '▁investisseurs', '▁Ter', 'eg', '▁intime', 'rine', 'lio', '▁surprises', '▁plomb', '▁architecture', '▁Madrid', '▁soigner', 'oni', '▁poursuivi', '▁réaliste', 'AV', '▁révéler', '▁conseillers', '▁ordonnance', '▁cinquième', 'ESS', 'intégralité', '▁auxquelles', '▁consultant', '▁pattes', '▁Br', '▁concepts', '▁Op', '▁invisible', 'RS', '▁expositions', 'habitation', 'via', '▁50%', '▁Fil', '▁générique', '▁»)', 'Euro', '▁manifeste', '▁FN', '▁commissaire', '▁Bur', 'ements', '▁poète', 'rog', '▁exclusif', '▁Long', '▁end', '<', '▁serrurier', '▁départements', '▁enseigne', '▁merveille', '▁laser', 'gal', '▁blessé', 'cat', '▁dépassé', '▁Espace', '▁Cou', 'gni', '▁Pic', 'ôt', 'uvre', '▁Défense', '▁63', '▁Dom', '▁respecte', '▁réunis', 'logique', '▁saisie', '▁dia', 'gg', '▁tournage', '▁taches', '▁regrette', '▁concentrer', '▁ordres', '▁adaptation', '▁rez', '▁Ob', '▁perspectives', '▁tranquillement', '▁che', 'gré', '▁distinction', '▁sévère', '▁filière', '▁entraîner', '▁renforcement', '▁Att', '▁Gl', '▁valide', '▁webcam', '▁portefeuille', 'St', '▁toilettes', '▁signaler', '▁”', 'ITE', '▁traités', '▁Commerce', 'office', 'pes', '▁amené', '▁corriger', '▁compagnies', '▁mix', '▁terminée', 'rien', '▁ml', '▁choisit', 'altitude', '▁Journée', 'gué', '▁employé', '▁passionnés', '▁chaudes', 'opportunité', '▁étudiante', '▁silhouette', 'Esprit', 'cker', '▁1992', 'nisme', '▁...)', '▁voyait', 'prix', 'ann', '▁mathématiques', '▁mien', 'acheteur', '▁cellule', '▁conclure', 'UT', '▁guider', '▁bénéfices', '▁philosophe', '▁visiblement', '-12', '▁refuge', '▁chaises', '▁descendre', 'photo', '▁Quelles', '▁ka', 'ogne', 'IQUE', '▁Barcelone', '▁Rendez', '▁remplacé', '▁communautaire', '▁exprimer', 'AI', '▁PO', '▁passés', 'lice', '▁collier', '▁Sta', '▁Modèle', '▁présidence', '▁Protection', '▁charte', 'armes', 'çant', '▁franchise', '▁fabrique', '▁indiquer', '▁culturels', '▁accompagnée', '▁Agence', '▁renseigner', '▁prochainement', '▁qualification', '▁prononcé', '▁retenu', 'ido', '▁feux', '▁archives', 'tern', '▁matinée', '▁souhaiter', '▁Soit', '▁traverse', '▁poches', '▁nations', 'OI', '▁tuto', '▁chauffeur', '▁stages', '▁1993', '▁migrants', '▁caché', '▁Sénat', '▁instants', '▁66', '▁suicide', 'lum', '▁dég', 'éléments', '▁crainte', 'encre', 'rive', '▁office', '▁succession', '▁Jeu', '▁réservée', '▁Prince', '▁répondant', 'php', '▁rendant', 'coup', '▁bru', '▁Mexique', '▁fréquemment', '▁vérification', '▁Sophie', '▁strictement', '▁témoin', '▁bandoulière', 'hon', 'ieu', '▁mutuelle', '▁épais', 'chon', 'nou', '▁spéciaux', '▁Convention', '▁nourri', '▁renouvellement', 'abo', 'eb', '▁provoque', '▁Jan', '▁fl', 'igue', 'OUR', '▁posté', '▁doublé', '▁habitude', '▁abrite', 'Michel', 'lus', '▁Croix', '▁rapporte', '▁1990', '▁accords', '▁entourage', '▁tiennent', '▁navire', 'pper', '▁actuels', '▁pôle', '▁imaginé', '▁TR', 'stein', '▁hi', '▁Congrès', 'oreille', 'atteindre', 'augmenter', 'considérablement', '▁chinoise', 'pre', '▁sois', '▁validation', '▁merveilleuse', '▁_', '▁Galerie', '▁extrême', 'Ecole', '▁associée', '▁Pri', '▁diffuser', '▁tape', 'pie', '▁merde', 'rt', '▁poivre', '▁grise', 'tivité', '▁affronter', '▁transmis', '▁Catégories', '▁sincère', '▁résulte', '▁mélanger', '▁surfaces', '▁exploitation', 'amis', '▁devrais', '▁engagements', '-6', '▁Yu', '▁tasse', 'apport', '▁forêts', 'truc', '▁juifs', '▁sérénité', 'ë', '▁hautes', '▁sagesse', 'mou', '▁concernent', '▁TF', '▁chirurgie', '▁??', '▁99', '▁2)', '▁protéines', 'aison', 'dos', '▁armées', '▁humide', '▁trés', 'por', '▁forment', '▁usagers', '▁Gare', 'EF', '▁universel', '▁faciles', '▁brillant', '▁blessures', 'ius', '▁numéros', 'ove', '▁allée', '▁autonomie', '▁Han', '▁marin', '▁compromis', 'kh', '▁décida', 'ring', 'imo', 'but', '▁artificielle', 'ware', '▁SP', '▁Presse', '▁vitrine', '▁fondation', '▁possèdent', '▁royale', '▁mécanisme', 'TT', '▁Révolution', '▁sérieusement', 'fond', '▁neutre', '▁chapeau', 'intermédiaire', 'émotion', 'nov', '▁juridiques', '▁rachat', '▁76', 'RP', '▁catastrophe', '▁correspondent', '▁incluant', '▁She', '▁Pal', '▁branches', '▁Green', 'mber', 'ifiant', 'Paris', '▁mignon', '▁Public', '▁Manuel', '▁MAR', '▁séduit', '▁1)', 'immobilier', '▁traditions', '▁Index', '▁Mil', '▁appels', '▁dégage', '▁Hotel', '▁pourcentage', '▁manager', '▁communs', 'rir', '▁tailles', '▁arabes', '▁occidentale', '▁arrivés', '▁timide', '▁enseignement', '▁sièges', '▁Juin', '▁dramatique', 'interprétation', '▁ramener', '▁Angleterre', 'laient', 'active', '▁cage', '▁concentré', '▁Consultez', '▁contenir', 'bour', 'ben', '▁légal', '▁CM', 'lig', '▁législatives', '▁écrivain', '▁continuité', '▁regardé', '▁Annonces', '▁maîtriser', '▁Marque', '▁favori', 'lem', '▁publications', '▁ridicule', 'Li', '▁Donald', '▁déguster', '▁home', '▁Claire', 'ei', '▁lâche', '▁!\"', '▁Serge', '▁disparaître', 'ich', '▁bravo', '▁teinte', '▁promesse', 'tter', '▁cr', 'vais', '▁fidélité', '▁entrain', '▁salaires', '▁prévisions', '▁constituée', '▁artistiques', '▁trous', '▁William', '▁fabriqué', '▁(+', 'PL', 'fér', '▁10%', 'habite', '▁légales', '▁cherchant', '▁courtes', '▁illustre', '▁occasions', '▁décrire', '▁promenade', 'asso', '▁carburant', '▁véritablement', '▁anonyme', 'pla', '▁Maire', '▁2006,', '▁scrutin', '▁assurée', '▁Sy', '▁exprime', '▁exposé', '▁Sh', '▁certification', 'tech', '▁présidente', '▁palette', '▁pinterest', '▁électeurs', '▁hard', 'long', 'bor', 'dine', '▁Veuillez', '▁datant', '▁puissiez', '▁teint', 'étage', 'épisode', '▁exemplaires', 'PR', 'toy', '▁Kan', '▁divin', '▁rage', 'heim', '▁Novembre', '▁librairie', '▁litres', '▁devrez', 'employeur', '▁monument', 'isson', '▁saisi', '▁volumes', 'ml', '▁filet', 'ennemi', 'prim', 'Sa', 'instrument', 'atmosphère', '▁Love', 'établir', '▁130', '▁déclarations', '▁Réseau', '▁blessés', '▁Disponible', 'france', '▁coordination', '▁délégué', '▁coller', 'lla', '▁correction', '▁bro', 'ours', '▁répondent', '▁étrangère', '▁souverain', '▁dragon', '▁ass', 'AY', 'rap', 'lons', '▁jouets', 'haus', '▁case', '▁sale', '▁séduire', '▁Collection', '▁engagée', 'adapte', '▁ajoutée', 'EMENT', '▁observé', 'ld', 'AND', '▁It', '▁fibre', '▁rouler', '▁cumul', '▁tabac', 'gl', '▁contraste', '▁étranger', 'affichage', '▁plancher', '▁93', '▁chanter', '▁stationnement', '▁russes', '▁vagues', '▁Mary', 'tas', 'lent', '▁brosse', 'clés', '▁afficher', '▁effectuée', '▁Rapport', '▁issues', '▁Amazon', 'Po', '▁Arm', '▁acquérir', '▁musulman', '▁explorer', '▁déçu', '▁religieuses', '▁trentaine', 'appar', 'duit', '.”', '▁Tan', 'hors', '▁coins', '▁étroite', 'ouf', '▁visuelle', '▁Coup', '▁Cat', 'issa', '▁parcs', '▁évolutions', 'deux', '▁fermés', '▁(15', '▁oct', '▁éclair', '▁préférable', '▁planche', '▁Fonction', '▁vieilles', '▁cahier', 'aimerai', 'çon', '▁Miss', '!!!!', '4.', '▁Idéal', '▁colloque', '▁laine', '▁respectivement', '...\"', 'dir', '▁manga', 'TV', 'tron', 'cier', '▁Ste', '▁cinquante', '▁Business', '▁Didier', '▁valider', '▁tracé', '▁adversaires', 'voi', '▁intelligent', '▁posture', '▁canne', '▁trouvera', 'anche', 'ika', '▁espérons', '▁introduit', '▁GPS', 'ago', '▁Portugal', '▁chouette', 'cap', 'dite', '▁syndicat', 'roll', '▁crimes', '▁interdite', 'ks', '▁fibres', 'Pa', 'gor', 'ules', 'gramme', '▁écart', '▁laver', '▁camion', '▁bourse', '▁équivalent', '▁cu', '▁remplie', '▁Congo', 'Ha', '▁Fils', '▁carrelage', '▁émet', '▁croisière', '▁plonger', '▁incapable', 'Asie', '▁violent', '▁sauvages', 'lien', '▁technologiques', '▁élégante', '▁fondamentaux', '▁paisible', '▁répétition', 'obtention', '▁Cannes', 'contre', '▁durer', 'alis', '▁indispensables', '▁wc', '▁recherché', 'femme', '▁identique', 'chez', 'uve', '▁Roger', '▁essence', '▁récompense', '▁infrastructures', '▁Roy', '▁démontrer', '▁installée', 'merci', '▁disques', 'blo', 'phe', '▁traditionnelles', '▁téléphonique', '▁mécanismes', 'oz', '▁Ten', 'Office', '/7', 'MP', '▁devriez', '▁Bourgogne', '▁CV', '▁saveurs', '▁régulier', '▁Ligne', '▁Village', '▁eff', 'iter', '▁mentionné', '▁Renault', '▁perles', '▁mn', '▁ludique', '▁61', '▁créateurs', '▁spéciales', '▁mythique', '▁poursuite', 'ssante', 'dic', 'hôtes', '▁Tourisme', '▁négatif', '▁Mass', '▁musiques', '▁attribué', '▁prévus', '▁Jeune', '▁touchant', 'aël', '▁extension', '▁Sav', '▁ménages', 'unique', '▁Bibliothèque', '▁Actuellement', '▁extraits', '▁rétablir', '▁paragraphe', 'rio', '▁serveurs', '▁délicate', 'uit', '▁(10', 'posé', '▁nocturne', '▁Justice', '▁locations', 'Ivoire', '▁décédé', '▁animée', '▁fonctionnaires', '▁facilite', '▁Win', '▁parait', '▁chaine', '▁universités', '▁empêche', '▁seniors', '▁Contact', 'well', 'tir', 'École', '▁récentes', '▁Hier', '▁diminution', '▁Gay', '▁1978', '▁Dia', 'ades', 'ding', '▁métallique', '▁pension', '▁pou', '▁fonctionnel', '▁espérer', 'TC', 'uré', 'installe', '▁dégustation', '▁Spa', '300', '▁digital', '▁Park', 'ulé', '▁Conditions', '▁team', 'cadre', '▁offerts', '▁provient', '▁souligner', '▁concurrents', '▁administratives', '▁Orange', '▁réveil', '▁retrouvez', '▁Champ', '▁congé', '▁accro', '▁Pyrénées', '▁phrases', 'mie', '▁conservé', 'osa', '▁terrorisme', '▁adjoint', '▁pleins', '▁professionnalis', 'ances', '▁évite', '▁demandant', '▁ondes', '▁tomates', '▁odeur', 'dal', '▁ouvriers', '▁posée', '▁divine', '▁cris', 'cteur', '▁définit', 'vor', 'écouter', '▁apparu', 'time', '▁connaissait', '▁devenus', 'sus', '▁bah', '▁écrans', 'cad', 'lire', '▁régionaux', 'pri', '▁espère', '▁Disney', 'CS', '▁CL', '▁statue', '▁fournis', '▁blague', 'LES', 'international', 'osité', '▁Style', 'imposer', '▁provenance', '▁inconnue', '▁;-)', '▁tensions', '▁fuir', '▁segment', '▁porn', '▁âgés', '▁varie', '▁rassemblement', '▁ber', '▁créant', '▁revers', '▁médicaux', '▁pénal', '▁participent', 'gnant', '▁110', '▁val', '▁travaillant', '▁dépression', '▁nomme', '▁mince', '▁partant', 'GO', '▁verrez', '▁cite', '▁sanitaires', '▁Ap', 'gère', '▁1960', 'rn', 'écrit', 'ande', '▁clichés', '▁banlieue', '▁Deco', '▁visibles', '▁deviendra', '▁rôles', '▁relatifs', 'graphe', 'adolescence', '▁Tribunal', '▁honneur', 'fon', '▁2.0', '▁Ray', '▁techniciens', '▁aisément', '▁mineurs', '▁blogs', '▁pri', '▁intervenants', 'atifs', 'extension', '▁Mort', '▁Rem', '▁métropole', '▁servant', '▁revêtement', '▁favorise', '^^', '▁gagnant', '▁référencement', '▁Produits', 'oeuf', 'hor', '▁devais', '▁échéant', 'lière', 'MS', '▁BR', 'pel', '▁Gabriel', '▁fri', '▁Anna', '▁cla', 'ava', '▁parlait', 'ondes', '▁Dj', '▁Sor', 'attache', '▁technicien', '▁Bah', '▁reportage', '▁débuter', '▁Vietnam', '▁morte', 'Qu', '▁canon', 'wood', 'cité', '▁espérant', '▁clo', '▁immédiat', '▁complexité', 'trop', '▁parvient', '▁contribué', 'instruction', '▁gouvernance', '▁majeurs', 'iti', '▁interprété', 'trans', '▁App', '▁réfrigérateur', '▁réservoir', '▁intégrée', '▁bénéficient', '▁Emploi', '▁Qualité', '▁essaie', '▁appui', 'play', 'index', 'tat', '▁considération', '▁Ac', '▁And', '▁originaux', '▁blond', 'él', '▁Seule', 'nic', '▁ranger', '▁actuelles', '▁évolue', '▁entrepreneurs', '▁tar', 'grand', '▁partagent', '▁constitutionnel', '▁représentations', 'ort', '▁Power', 'cade', '▁basket', '▁voudrait', '▁réserves', '▁doré', '▁Game', '▁foie', '▁souhaitons', '▁fiscal', 'aff', 'aliser', '▁crayon', 'nge', '2013', '▁fraîche', '▁Cri', '▁verser', '▁cho', 'dar', '▁manteau', 'ye', '▁jette', '▁Bourg', '▁Yves', 'ception', '▁tenues', '▁Harry', 'mination', 'ède', '▁neuro', 'ode', '▁emb', '▁cristal', '▁instructions', '▁EUR', '▁densité', '▁déteste', 'lois', 'orm', '▁copine', '▁baisser', '▁AR', '▁Os', 'Atlantique', '▁délicieuse', '▁conversion', '▁Sen', 'row', 'éga', 'isées', '▁Mariage', 'exclusion', '▁anal', 'orange', 'idi', 'quel', '▁neuve', '▁Pre', '▁1991', 'atte', '▁West', '▁équipés', '▁tro', '▁inspiration', '▁absolue', 'bot', '▁notification', '3,', '▁Ensemble', '▁wa', '▁sache', 'cast', '▁Adam', '▁attentif', 'II', 'sauf', '▁88', '▁consacre', '▁hall', '▁hebdomadaire', 'assa', 'bles', '▁dessiner', '▁divorce', 'optimisation', '▁anime', 'bois', 'Des', '▁pla', '▁regarda', '▁soumise', '▁Eco', 'gues', '▁cherché', '▁sain', '▁fus', '▁exige', 'DF', '▁entré', '▁noble', '▁coffret', '▁domination', '▁Kat', '▁Instagram', '▁proviennent', '▁collègue', '▁Bible', '▁exploit', 'tho', 'igné', '▁vintage', 'nch', '▁Sébastien', '▁transparent', '▁lâcher', '▁Crédit', '▁bail', '▁rendus', '▁2020', 'ds', '▁peintures', '▁évaluer', '▁américaines', '▁Vienne', '▁situés', 'chat', 'oral', '▁regards', '▁remplace', '▁pneus', 'rois', '▁Collège', '▁Bad', '▁détermination', '▁1989', 'tch', '▁Bill', '▁paie', 'ivité', '▁désire', 'PP', '▁Déc', '▁Action', '▁tarte', '▁xD', '▁bouteilles', '▁ko', '▁ref', '▁particulières', 'tex', '[/', '▁illustrations', '▁documentation', '▁Cré', 'EX', '▁ciblé', '▁Fille', '▁UV', 'ISS', '▁musulmane', '▁Commune', '▁essentiels', '▁puissants', '▁Météo', '▁réplique', '▁offrons', '▁taxi', '▁négociation', '▁théorique', '▁arguments', '▁confie', '▁engagés', '▁raté', '▁corde', '▁surprenant', '▁gé', 'interface', '▁contiennent', '▁flèche', 'field', 'wan', '▁pénale', 'ére', 'dant', 'oï', '▁suspendu', '▁destinées', '▁assistance', '▁bâton', '▁hydro', '▁enlevé', '▁canadien', 'rk', '▁SO', 'agglomération', '▁messagerie', '▁malheur', '▁fesses', '▁grandeur', '▁fragile', '▁Laissez', '▁paroisse', '▁ap', '▁aérien', '▁initial', 'pers', '▁CON', '▁diabète', '▁dotée', 'agé', '▁Nor', '-20', '▁démission', '▁mettons', 'andre', '-17', 'amuse', '▁vendus', 'iga', '▁Professeur', '▁résistant', 'bac', 'bb', 'board', '▁impliqué', 'aliste', '▁tribu', '▁muni', '▁poils', '▁rapprocher', 'ctor', '▁débarrasser', '▁attaqué', '▁créatures', 'Claude', '▁attiré', '▁originaire', 'mond', '▁conscient', '▁médi', 'accepter', '▁averti', '▁éthique', '▁discrimination', '▁démarrage', '▁GT', 'aucune', '▁déplace', 'VA', 'grav', 'poli', 'outils', 'uck', 'géné', 'EI', 'ota', '▁diminue', '▁assisté', 'pend', '▁applique', '▁(8', '▁veiller', '▁master', '▁défauts', 'DD', '▁circonscription', 'idéal', '▁solitude', '▁clos', '▁officiels', '▁hé', '▁lyon', 'rab', '▁nouveauté', '▁dépit', 'abi', 'DC', '▁Vacances', '▁chaleureuse', 'eff', '▁Revue', '▁vé', 'oxy', '▁chèque', '▁varier', '▁échapper', '▁350', '▁Sim', '-11', '▁prétexte', '▁avancées', 'anniversaire', '▁perdue', 'CM', 'rance', 'élite', '▁Franc', 'win', '▁intermédiaire', '▁humour', 'insertion', 'change', 'Dans', '▁ailes', '▁Jou', 'Elle', '▁taxes', '▁Nuit', '▁Sports', 'EZ', '▁réunit', '▁Multi', '▁cimetière', '▁libertés', '▁consulté', 'identification', '▁synthétique', '▁NO', 'étape', '▁CP', '▁animation', '▁amélioration', '▁démarrer', 'shop', '▁signée', '▁survivre', '▁originales', '▁transmet', '▁polémique', '▁certitude', '▁gi', '▁délicat', '▁Jeanne', 'phé', '▁costume', '▁concret', '▁problématiques', '2016', '\")', '▁chimique', 'AA', '▁généreux', '▁soumettre', '▁superbes', '▁Camp', '▁nomination', 'Christ', 'éma', '▁projection', '▁chalet', '▁Acc', '▁Cours', '▁sphère', '▁aval', '▁hectares', '▁single', '▁Combien', '▁lourds', 'ennui', '▁monstre', '▁courants', '▁chrétien', '▁contraint', '▁flot', '▁connues', '▁fédération', '▁humanitaire', 'vente', '▁consacrer', '▁approprié', '▁Chaise', 'FC', '▁chaussure', '▁renvoie', '▁start', '▁HP', '▁portion', '▁1,5', '▁vierge', '▁yoga', '▁pervers', 'Se', '▁forums', 'épi', 'iva', '▁attire', '▁vivants', '▁indiquant', 'ao', 'lib', '▁provisoire', 'uelle', '▁levée', '▁glisse', '▁Tur', 'éco', 'écologie', '▁hu', '▁pp', 'opérateur', '▁franchi', '▁bra', '▁représenté', '▁église', '▁Mission', 'awa', '▁ajout', '▁étais', '▁Versailles', '▁panique', '▁robots', '▁horaire', '▁habitant', 'écri', '▁proportion', '▁réalisations', '▁cassé', '▁bague', '▁firme', '▁RO', 'dique', '▁1995', '▁débuté', '▁partielle', 'systématiquement', '▁Leurs', '▁concernées', '▁rive', '▁gère', '▁demandez', 'ms', '▁chercheur', 'No', 'assainissement', '▁invitons', '▁Bol', '▁prévenu', '▁témoigne', '▁élaboré', 'uter', '▁AS', 'acier', 'tou', '▁contrainte', '▁intéressants', '▁romain', '▁modules', 'red', '▁Championnat', '▁débuts', '▁Bour', '▁gar', '▁confusion', '▁Dra', 'HA', '▁volontaires', 'hab', '▁CS', '▁menaces', '▁Hol', '▁exemplaire', '▁déterminée', 'phi', '▁(0)', '▁(16', '▁adorable', '▁individuelles', '▁œil', '▁donnait', 'eille', 'matique', '2012', '▁Pra', '▁portait', '▁typique', '▁genoux', '▁juges', '▁2005,', '▁adolescent', 'instar', '▁contes', 'iane', '▁rapporté', '▁véritables', '▁Canal', '▁Ayant', '▁bords', '▁Seulement', '▁albums', '▁this', '▁volets', '▁guerres', '▁commerçants', '▁Thé', 'venu', '▁weekend', '▁partiel', '▁recrute', '▁spécialité', 'fic', '▁nette', '▁Asie', '▁Play', '▁Sens', '▁pull', '▁mètre', '▁Test', '▁réglage', '▁abordable', '▁bénéfique', '▁vétérinaire', '▁dentelle', '▁préférés', '▁volontaire', 'introduction', 'Denis', '▁imposer', '▁2010.', '▁protégé', 'égal', '▁subit', '▁cessé', 'vage', 'gas', '▁sauvé', '▁Catégorie', '▁ira', '▁tantôt', '▁Ang', 'ANCE', '▁//', 'gée', '▁%)', 'umi', '▁diffusée', '▁couloir', '▁podium', '▁topic', '▁juive', '▁choisie', '▁ferai', 'att', 'sport', '▁substance', '▁Résultat', 'tiers', '▁AU', '▁71', '▁cohérence', '▁82', '▁Pôle', '▁Machine', '▁short', '▁91', '▁Ok', '▁impose', '▁tete', '▁publicitaire', '▁suprême', '▁plateformes', '▁distinguer', 'naires', 'cale', '▁extérieurs', 'émo', '▁célèbres', '▁détendre', '▁défilé', '▁géo', '▁Plat', '▁lumières', '▁casser', '▁libertine', '▁Micro', 'emment', 'TO', '▁Septembre', 'terre', '▁localisation', '▁lança', '▁boisson', 'identifier', '▁magnétique', '▁miracle', 'pic', '▁massacre', '▁oublie', '▁mettez', '▁environnemental', 'énon', 'kan', 'phy', '▁avancé', '▁provoqué', '▁prêtre', '▁tromper', '▁moule', 'acide', '▁AM', '▁plaire', 'dage', '▁fêter', 'articles', '▁gîte', '▁réflexions', '▁imprimer', '▁installés', '▁Rio', '▁vitre', 'issi', '▁Peinture', 'ligne', '▁figures', 'élevage', 'ENS', '▁saga', '▁Hors', 'ibilité', '▁amusant', 'appuyant', '▁cathédrale', '▁caractérise', '▁montrant', '▁parisien', 'avions', 'ova', '▁Roche', '▁traversée', '▁surveiller', '▁maux', '▁particularité', '▁variations', '▁publiés', 'oko', '▁voulant', '▁Tro', '▁tempête', '▁Tim', '▁enregistre', '▁gouvernements', 'bol', 'Iran', '▁?)', '▁battu', '▁déroulement', '▁74', '▁bracelet', '▁copain', '▁Jérusalem', '▁Pologne', 'octobre', '▁vain', '▁opportunités', '▁réussit', '▁pochette', '▁rem', '▁express', '▁levier', '▁Ky', '▁2011.', '▁associées', '▁att', '▁Real', '▁prenait', '▁aveugle', '▁faiblesse', 'iche', 'occupation', 'IO', '▁admirer', '▁94', '▁séminaire', '▁pince', 'habitants', 'AE', 'irent', '▁sondage', 'expédition', 'inquiète', '▁Rec', '▁couverte', '▁Frank', '▁alcool', '▁relief', 'vu', '▁Saison', '▁occuper', 'lez', 'Empire', '▁circuits', '▁privilégié', '▁roche', 'important', '▁sérieuses', '▁entrées', 'aaa', 'ticien', 'métrique', '▁réf', '▁incendie', '▁Bl', 'écu', 'IB', '▁exprimé', '▁Fre', 'œ', '▁blessure', '▁philosophique', '▁Moscou', '▁respiration', '▁radi', '▁Ant', '▁territoriale', 'aw', '▁Moulin', '▁gêne', 'EE', 'pent', '▁francais', 'zar', 'zé', '▁roses', '▁intéressantes', '▁espagnole', '▁collectivité', '▁Benjamin', '▁Choisissez', '▁synonyme', '▁Quatre', '▁bouquet', '▁étages', '▁Laval', '▁sentait', '▁20%', '▁restée', 'orgue', '▁géré', '▁démo', 'garde', 'viens', '▁disais', '▁musées', '▁conclusions', '▁dignité', '▁barbecue', '▁ban', '▁Continuer', '▁civils', 'icité', '▁substances', 'objets', 'git', 'espèce', 'assé', '▁royal', 'Ou', '▁125', 'apprécie', '▁particules', '▁fraude', '▁MI', '▁grotte', '▁avancée', '▁Out', '▁Ouest', '▁RP', '▁juridiction', 'gou', '▁tablettes', '▁Ana', '▁résidents', '▁Galaxy', '▁Street', 'Pas', '▁!).', 'chan', '▁requis', '▁Idées', '▁absent', '▁bronze', 'immeuble', 'mos', '▁rideau', 'aro', '▁communications', '▁éliminer', '▁quinzaine', '▁simulation', 'vois', '▁solides', '▁violation', '▁fierté', '▁tubes', 'dam', '▁imaginaire', '▁routier', '▁dispo', '▁Pol', 'NI', '▁conquête', '▁analyser', '▁têtes', 'éna', '▁Para', '▁Ken', '▁Julie', '▁Mondial', '▁futures', '▁électorale', '-7', '▁placée', '▁mensuel', '▁XXe', '▁serpent', '▁Lundi', '▁récupéré', '▁dira', '▁adapter', 'vre', '▁admis', '▁jaunes', '▁clause', '▁mettra', '▁disposez', '▁effectués', '▁gou', 'str', '▁digitale', 'égo', '▁organisées', 'AIRE', 'clé', '▁grade', '▁puce', 'Tu', '▁arrivant', '▁préoccupations', '▁moyennes', '▁Fait', '▁Archives', '▁concerné', '▁déploiement', '▁Jeudi', '▁prenne', '▁variées', 'internet', '▁inspirée', 'appeler', '▁axes', '▁faune', '▁sexualité', '▁personnalisée', 'accompagner', 'stat', '▁solitaire', '▁promesses', '▁accompagnés', '▁Coucou', '▁résume', '▁pleurer', 'chée', 'IER', '▁jeté', 'chette', '▁marre', '▁2000,', '▁méditation', '▁nuages', '▁your', '▁arriva', '▁cl', '▁paye', '▁AD', '▁légale', '▁spécialités', 'avi', 'abilis', 'anime', '▁annoncer', '▁antique', '▁Up', '2015', '▁PAR', '▁carrés', '▁époux', '▁autorité', '▁accessoire', '▁tou', '▁soudain', '▁verbe', 'imagination', '▁dispens', '▁censé', 'rise', '▁Pop', '▁céramique', '▁envisage', '▁Domaine', '▁notice', '▁Dernière', 'avril', 'thèque', '▁prostituées', 'titude', '▁aborder', '▁confier', '▁blé', '▁essaye', '▁rassemble', '▁accordée', '▁Entreprise', '▁play', '▁surf', '▁orale', 'lettes', 'quée', '▁encourage', '▁amener', 'AFP', '▁Gal', '▁Gre', '▁listes', 'Mon', '▁intéressés', '▁notaire', '▁valorisation', '▁agriculteurs', '▁camarades', '▁Montre', '▁abri', '▁emprunt', 'essaie', '▁partiellement', 'UMP', 'riste', '▁POUR', 'bré', '▁ambition', 'FI', '▁Famille', '▁Ay', '▁reproche', '▁monétaire', 'char', 'vic', '▁maritime', '▁dérange', '▁forcé', '▁fo', '▁permettrait', 'type', '▁boss', 'écrivain', 'issons', '▁bourg', '▁CHA', '▁Mardi', '▁job', 'Ba', '▁municipalité', '▁prétend', '▁marchand', '/24', '▁Sony', 'liers', 'bonne', '▁misère', '▁jet', '▁Piscine', '▁générer', '▁Docteur', '▁demanda', '▁are', 'inte', '▁publicitaires', 'commerce', 'lain', 'égu', 'asile', 'sent', '▁Mouvement', '▁échec', '▁combler', '▁collectifs', '▁disciplines', '▁alliés', 'Tout', 'ître', '▁Angeles', '▁ti', '/1', '▁prouve', '▁littéralement', 'oth', 'fou', '▁peindre', '▁Rom', '▁séparer', '▁clin', 'PT', '▁systématique', 'nia', '▁Bor', '▁offerte', 'tête', '▁Group', '▁comptable', '▁nues', '▁Juillet', '▁Monaco', 'lui', '▁notions', '▁Court', '▁pres', '▁oeil', '▁sentiers', '▁Bus', '▁Dor', '▁musicien', 'BC', '▁game', '▁consentement', '▁remercions', '▁dévoilé', '▁(12', 'CN', '▁band', '▁refait', 'actif', '▁Total', '▁900', 'orge', '▁messe', '▁PR', 'mort', 'issé', 'ambassadeur', '▁cousin', '▁savant', '▁gla', '▁housse', '▁pdf', 'suite', 'rc', '▁Isabelle', 'dict', 'aimé', '▁raf', '▁Lune', '▁robuste', '▁oeufs', 'ué', '▁pipe', 'ship', '▁Bourse', 'eck', '▁existant', 'dio', '▁marié', '▁\\\\', '▁camps', '▁Day', '▁Benoît', 'var', '▁bloqué', '▁modeste', '▁avouer', 'chemin', '▁aérienne', 'ampleur', '▁rapidité', '▁Matt', 'lev', '▁secrète', '▁grasse', 'sif', '▁fines', '▁exister', '▁rural', 'attendais', 'aimer', '▁appelés', '/5', '▁Francis', '▁soigneusement', '▁Tal', '▁reproduire', '▁connaissais', '▁parcouru', 'burg', '▁régulation', '▁milliard', '▁exp', '00.000', '▁hébergement', '▁commandant', '▁fonctionnalité', '▁réels', '▁imm', '▁communiste', '▁savon', 'Islam', '▁déterminant', 'gir', '▁réussie', '▁larges', '▁organisateurs', 'sses', '▁garanti', 'press', '▁sentier', '▁exacte', '▁routine', 'niers', '▁fréquent', '▁étendue', 'rum', '▁fouet', '▁Office', 'termin', 'épaisseur', 'chage', 'vue', '▁chargés', '▁Hor', '▁Soyez', '▁modernité', '▁crochet', 'cycl', '▁Jules', 'cide', 'face', 'TR', '▁désolé', 'vas', '▁béni', 'sseur', '▁suce', '▁Romain', '▁sanctions', '▁ralenti', '▁massive', '\"...', '▁claque', 'lég', '▁poubelle', '▁tv', '▁désirs', '▁organes', '▁gravité', 'imé', '▁plaine', '▁résolu', '▁cachée', '▁côtes', '▁réveiller', '▁leçon', '▁qualifiés', '▁posséder', '▁fiabilité', '▁Niveau', '▁nuances', '▁souplesse', '▁semelle', '▁lots', '▁Hello', '▁jouant', '▁phare', '▁DJ', 'intensité', '▁mac', '▁guides', '▁cultivé', '▁étoile', '▁PE', '▁académique', '▁sensibilisation', '▁Pensez', '▁sainte', '▁exclusive', 'NC', '▁transporter', '▁adoptée', 'QUE', '▁(9', '▁Feu', '▁réformes', '▁développée', '▁passez', '▁vitamine', 'risation', '▁Avril', '▁phénomènes', '▁opinion', '▁XVI', 'onné', '▁terroir', '▁intelligente', 'Dame', 'hl', '▁actrice', '▁atmosphère', 'oublier', '▁pleur', '▁locataire', 'Opéra', '▁grecque', '▁rapproche', '▁croissant', ')...', '▁applicables', '▁triple', '▁universitaires', '▁prisonniers', 'Air', 'érant', '▁bébés', '▁Land', '▁Avez', '▁purement', 'div', '▁mâle', 'intestin', '▁lavage', 'uma', '▁Cameroun', '▁FF', 'trices', 'bis', '▁rédigé', 'émie', 'enfer', '▁tit', '▁repartir', 'charge', '▁Fred', 'enseignant', 'ingénieur', '▁engage', '▁carrément', 'Américain', 'extrait', '▁Fra', 'rement', '▁inventé', '▁dévoiler', '▁83', '▁discrète', '▁performant', '▁décharge', '▁passionnant', '▁partition', '▁quarante', '▁poupée', '▁vir', 'très', 'Marne', 'Ho', '▁litige', '▁fraîcheur', 'llier', '▁opérationnel', '▁fran', '▁Sky', '▁Produit', 'bla', '▁explication', '▁NE', '▁Rouen', 'tig', '▁finesse', '▁Avoir', '▁souterrain', '▁pizza', '▁Sacs', '▁éditeur', '▁Kim', '▁BO', 'ister', '▁commandement', '▁sortent', 'EG', '▁murale', '▁DI', '▁hop', '▁rituel', 'cs', 'ager', '▁interprète', 'dition', '▁répondit', '▁Fleur', '▁trésor', '▁débutant', '▁séjours', '▁casserole', '▁poker', '▁chauffer', '▁CAP', '▁vs', '▁intentions', 'phile', '▁Californie', '▁fatigué', 'architecte', 'élément', '▁Juifs', '▁diable', '▁Dos', 'TES', 'isateur', '▁supporte', '▁bordure', 'rick', '▁menées', '▁décors', '▁verticale', '▁baptême', '▁rassemblé', '▁Res', '▁guise', '▁bancaires', '▁fontaine', 'puis', '▁creux', '-15', '▁bouchon', 'déc', '▁ongles', 'nus', '▁établie', '▁Dés', '▁Zo', '▁vaisselle', 'tos', '▁?!', '▁remporter', '▁Titre', '▁faisais', 'âtre', '▁peaux', 'rieur', '▁atouts', '▁repli', '▁étonné', '▁Octobre', '▁Mobile', '▁fous', 'écrase', '▁marie', '▁leçons', '▁marocain', '▁rotation', '▁Gall', '▁remporte', '▁mangé', '▁territoriales', '▁récents', 'ifiée', '▁péché', '▁envoyée', '▁Ajoutez', 'nac', '▁compact', '▁terroristes', '▁jambe', '▁optimiser', '▁justifie', '▁dépendant', 'nan', 'Hôtel', '▁Personnellement', 'utilité', '▁fac', '▁récits', '▁absolu', '▁IM', '▁renseignement', 'mag', '▁Cherche', '▁passif', '▁hotel', '▁maîtresse', '▁Marché', '▁placard', '▁attendue', '▁Fond', '▁Lan', '▁vedette', '▁grain', 'mée', '▁doc', 'ém', 'occup', '▁célébrer', 'ward', 'chen', '▁souhaitant', 'para', '▁phases', 'épaule', '▁Hugo', '▁Mod', '▁détaillée', '▁démontré', '▁cro', '▁envisager', '▁soutenue', '▁OS', '▁démarre', '▁porc', 'accompagne', '▁renforce', '▁bombe', '▁parlementaire', 'oublie', 'ivre', '▁africains', '▁suivez', 'nation', '▁sal', '▁Midi', '▁avenue', '▁pouce', '▁Direct', 'péri', 'étique', '▁radical', '▁79', 'tina', '▁familiales', 'évènement', 'FA', '▁GMT', '▁Référence', '▁genres', '▁ados', '▁voyons', 'auraient', '▁institution', 'mul', '▁téléphones', '▁exécuté', '▁exigeant', '▁poule', '▁Hum', '▁84', '▁procure', 'internaute', 'ête', '▁révolte', 'accepte', '▁serré', '▁verres', '▁saveur', '▁Hab', 'vy', 'aye', '▁Xavier', 'œuf', '▁Pau', '▁Jamais', '▁reviens', '▁Live', '▁croiser', '▁soie', 'fait', 'assaut', '▁pile', 'attraction', '▁€.', '▁Nathalie', '▁contradiction', 'empereur', '▁capture', '▁avocats', 'bro', '▁apportent', 'indique', '▁africain', '▁éditeurs', '▁gamin', '▁retire', '▁Ven', '▁news', '▁Tam', 'quette', '5)', '▁charmante', '▁fondamentale', '▁aimant', 'iaux', '▁Basse', '▁accidents', '▁autrefois', '▁regardez', '▁vêtement', '▁2004,', '▁fédérale', '▁renovation', '▁champions', '▁Mans', '▁Dragon', 'issez', '▁méchant', '▁troupe', '▁fière', 'ulaire', 'ICE', 'naise', '▁mystérieux', '▁spectaculaire', '▁habituelle', '▁fusil', '▁Vue', '▁porteur', '▁potentiels', '▁observations', '▁PSG', 'ailles', 'PO', '▁Hel', 'plication', '▁difficilement', '▁Livraison', '▁escalier', 'nelles', '▁kilos', '▁individuels', '▁citation', '▁éloigné', '▁Vit', '▁accueillant', '▁appliquée', '▁manquent', 'pprovisionnement', '▁Marche', 'san', '▁chante', 'yan', 'adhésion', '▁pavillon', '▁applicable', '▁postale', 'GI', '▁(4)', 'prise', '▁Nat', '▁intelligence', '▁86', 'pass', '▁respectant', 'ncer', 'lées', '▁fixée', '▁taper', '▁Milan', '▁fla', '▁bijou', 'iya', '▁encourager', 'effectue', '▁consécutive', '▁belgique', '▁demoiselle', '▁capteur', 'août', '▁canaux', '▁fermée', 'nte', 'DP', '▁éd', '▁Of', '▁enveloppe', 'emballage', '▁salade', '▁discrétion', '▁marquant', '▁lesbienne', 'éclat', 'indice', '▁ordinateurs', '▁allaient', 'ink', 'ory', '▁ph', 'ua', '▁standards', 'BE', 'stra', '▁Media', 'venez', 'investir', '▁BA', '▁séquence', '▁satellite', '▁Tru', 'vr', '▁1986', '▁légèreté', 'ILL', '▁accroché', '▁affiché', '▁Dam', '▁roule', 'zan', 'cours', '▁Sex', '▁Pratique', '▁dirigée', '▁compagnons', '▁raid', 'neur', '▁alternatives', 'vienne', '▁Acheter', '▁rigide', '▁vinaigre', '▁Pape', 'mbo', '▁meurt', '▁barrage', '▁Ford', '▁épaisse', 'în', '▁AG', 'CL', 'suis', '▁affection', '▁audience', 'Go', '▁préjudice', '▁probleme', '▁pari', 'lès', '▁réelles', '▁livret', '▁barbe', 'uté', '▁prépa', '▁(14', 'hn', '▁Nike', '▁mouche', 'verse', '▁Mettre', '▁noyau', 'mment', '▁administration', '▁torture', '▁imagination', 'chose', '▁?\"', '▁examens', '▁1/2', '▁serons', '▁Image', '▁procureur', '▁Fé', '▁Read', '▁vitrage', '▁1984', '▁questionnaire', '▁faculté', 'abandon', '▁jo', '▁connectés', 'ete', '▁SMS', 'soci', 'neau', '▁Télécharger', 'nda', 'LM', '▁Sk', '▁dieux', '▁tunnel', 'LS', 'aba', '▁fondamental', '▁SD', 'ound', '▁transaction', '▁gouvern', '▁Gou', '▁fonctionnelle', '▁Achat', '▁concentre', '▁Mohamed', '▁propice', 'atives', '▁disons', '&#', '▁bug', '▁électricité', '▁Kir', '▁sobre', '▁célébration', 'issait', '▁Syn', '▁gage', '▁Vidéos', '▁assise', 'Hu', 'naient', 'got', '▁régimes', '▁Liberté', '▁Bertrand', '▁frigo', '▁inscriptions', 'erre', '▁rebond', 'wer', 'Azur', '-16', 'liste', '▁conçus', 'interdiction', '▁climatiques', 'aya', '▁rembourser', 'itz', '▁marbre', '▁rangs', 'IDE', '▁73', 'INS', '▁dresse', '▁Od', '▁amies', '▁Fau', '▁Zone', 'iki', '▁nôtre', '▁raconté', '▁**', 'émergence', '▁dons', '30.', '▁habitation', 'ford', 'ennes', 'institution', '▁migration', '▁figurant', '▁quantités', '▁pigment', 'donc', '▁œufs', '▁assurant', '▁360', '▁Dark', 'oma', '▁févr', '▁effectuées', 'tille', 'Mi', 'ouve', '▁1950', '▁préférée', 'évacuation', '▁soixante', '▁Janvier', '▁portraits', 'post', '▁Brest', 'room', 'écosystème', '▁bleus', 'cine', '▁ajoutant', '▁Perso', '▁amont', 'étr', '▁abord', '▁Double', '▁comparatif', '▁fout', '▁visa', 'animaux', '▁tristesse', '▁opus', '▁Vive', '▁tag', 'uro', 'ador', '▁Charlie', '▁paille', '▁drapeau', '▁Inscription', 'élimination', '▁rentable', 'aussi', '▁résine', '▁Connect', '▁érotique', 'gique', 'artistes', 'AH', '▁Rep', '▁store', '▁blocs', '▁sélectionnés', '▁Team', 'rale', '▁cités', '▁Manche', '▁bienfaits', '▁chimie', '▁république', 'échanges', '▁opposé', 'gis', '▁négative', '▁fournies', 'pad', '▁courante', '▁FA', '▁fondre', '▁entretenir', '▁formats', '▁préfecture', 'IX', '▁prophète', 'aube', 'héberge', 'iner', '▁cascade', 'hel', '▁ciment', '▁découpe', 'TP', '▁that', 'cla', '▁rassure', '▁Pot', '▁chou', '▁poing', '▁placés', '▁tactique', '▁Souvent', 'Cha', '▁Gene', '▁effectue', '▁AC', '▁???', 'duire', '/01', '▁réservés', 'mesure', '▁Frais', '▁variétés', 'accessibilité', '▁aléatoire', '▁persuadé', '▁doctrine', 'ELLE', 'IGN', 'LO', 'approcha', '▁sections', 'AIS', '▁sœurs', '▁productions', '▁ration', 'ango', '▁Clo', '▁Objectif', '▁Utilisez', '▁formules', '▁déception', 'attitude', '▁alinéa', 'uge', 'UB', '▁illustré', '▁expédition', '/12/', '▁Den', 'max', '▁pois', 'asp', '▁alerte', '▁volontiers', '▁entraîné', 'onique', '▁rayonnement', '▁Café', 'audience', '1-1', '▁1988', '▁précises', '▁positionnement', '▁But', '▁classés', '▁recon', '▁musculaire', '▁soldat', '▁libéré', '▁By', '▁artisanale', '▁expérimenté', 'Ag', 'nar', '▁positifs', 'OIS', '▁transactions', 'ût', '▁Management', '▁traduire', '▁appliqué', 'hygiène', 'Jacques', 'ora', 'pect', '▁annoncée', '▁sourit', '▁prudent', 'firm', '▁sachez', 'ark', '▁rassembler', 'gestion', '▁réglable', '▁talon', '▁dominantes', '▁Message', 'Bretagne', 'ues', 'apparence', '▁rentré', '▁batteries', '▁Clément', '▁mienne', 'rry', '▁victoires', '▁assistant', 'interroge', '▁francophones', '▁Parole', '▁visualiser', '▁biodiversité', '▁manuscrit', '▁ruban', '▁délit', '▁reviennent', 'bio', '▁amant', '▁bour', '▁canard', '▁citoyenne', 'glo', '▁fantaisie', '▁ferroviaire', '▁curieuse', '▁Cinéma', '▁Noire', '▁gérant', '▁âgée', 'PH', 'éva', 'vrai', 'alisme', '▁Actualité', '▁cotisations', '▁loisir', '▁trouvée', '▁God', 'ibi', 'nk', '▁cordes', '▁Caroline', 'Marc', '▁proie', '▁Union', '▁tor', '▁aliment', '▁tricot', 'hem', '▁repart', 'rop', '▁proprement', 'ifère', '▁représentée', '▁Françoise', 'asi', '▁Mercredi', '▁YouTube', '▁céréales', '▁Résumé', '▁croyez', '▁madame', '▁diff', '▁shopping', 'Ne', 'oct', 'dée', '▁climatisation', 'As', '▁exclu', '▁masculine', '▁obstacles', '▁cauchemar', 'erne', '▁copains', '▁changent', 'attribution', '▁intra', 'intéresser', '▁équitable', '▁Fiche', '▁89', '▁PAS', '......', '▁leaders', '▁chantiers', '▁syn', '▁Patrimoine', '▁inverse', '▁figurent', '▁Commun', '▁Trou', '▁monstres', '▁brillante', 'ajoute', '▁Ét', 'enc', 'Oise', '▁Nancy', '▁soif', 'excellence', 'zen', '▁religions', '▁1945', '▁pavé', '▁spécifiquement', '▁animale', 'morph', '▁externes', '▁por', '▁expose', '▁poignet', '▁quarantaine', '▁çà', '▁spacieuse', '▁abonnés', '▁1985', '▁vertus', '▁87', 'ider', '▁Mari', 'oris', '▁Lieu', 'illet', '▁minimale', '▁enseignements', '▁Via', '▁Effectivement', '▁voyance', '▁Med', 'mut', '▁smartphones', '▁clou', '▁supérieures', '▁sc', '▁hydraulique', 'tta', 'sin', '▁cure', '▁chapitres', '▁blocage', '▁dégradation', 'FM', 'pres', '▁bibliothèques', '▁champignons', '▁assemblée', '▁Mah', 'pol', '▁enseignant', 'intrigue', '▁policier', '▁Part', '2011', '▁flore', 'aît', '▁Ep', '▁more', '▁Léon', \"\\\\'\", '▁plaid', '▁antérieure', '▁Obama', '▁constant', '▁Nan', 'académie', 'tard', '▁naître', '▁pressé', '▁ISO', 'mobil', '▁départemental', '▁suggère', '▁organisés', '▁aménagée', '▁Vent', '▁métrage', '▁boîtes', '▁immobiliers', '▁protégée', 'Br', 'iant', '▁québécois', 'iber', '▁caméras', '▁Der', '▁répète', '▁manœuvre', '▁Jacob', '▁Australie', 'nons', '▁Mot', 'Ac', '▁répéter', '▁abordé', '▁devoirs', '▁reconnus', '▁(0', '▁cloche', '▁désigner', '▁Cur', 'product', 'urbanisme', '▁contrôles', '▁Liban', '▁pros', '▁pâtes', '▁terr', 'etre', 'pied', '▁fonctionnent', '▁ram', '▁SNCF', '▁bouquin', '▁EP', 'tec', '▁lame', '▁imprimante', '▁employeur', 'BO', '▁prononcer', 'Organisation', 'mètre', '▁Grosse', '▁recommandée', '▁rhum', '▁indicatif', '▁Question', '▁syndrome', '▁probabilité', '▁goutte', 'cq', '▁Fan', '▁habitué', '▁Conc', '▁Chant', '▁habite', 'To', 'chaussée', 'lande', 'lets', '▁pèse', '▁spectateur', '▁Franck', '▁piège', 'itation', 'risme', '▁Gro', '▁crises', 'exprime', '▁exception', 'équivalent', 'déjeuner', '▁républicain', '▁retiré', '▁failli', '▁Six', 'itch', '▁harmonie', '▁1500', '▁aborde', '▁2001,', '▁Compagnie', '▁socle', '▁Eli', 'mod', '▁émotionnel', 'life', 'cision', 'Intérieur', '▁entraîneur', '▁obligatoirement', 'riv', 'ern', '▁rassurer', '▁qualifier', '▁Jérôme', '▁respecté', '▁reçue', '▁dense', '▁Wo', '▁sucré', '▁produisent', '▁fausses', 'ett', 'consulté', '▁ordonné', '▁online', 'gram', '▁marins', '▁frapper', 'gres', '▁décline', 'lles', '▁allocation', '▁ravie', '▁coussin', '▁divertissement', 'iam', 'asseoir', '▁OR', 'rad', '6)', 'ular', 'ego', '▁opportunité', '▁brevet', '▁exact', 'occurrence', '▁vocabulaire', '▁flexible', '▁Suède', '▁détection', 'oubli', '▁impressionnante', '▁solde', '▁confortables', '▁directive', 'écris', '▁capitalisme', 'ouette', '▁relevant', '▁institut', '▁Bau', '▁ME', 'omi', 'amande', '▁démontre', '▁panoramique', '▁tampon', '▁nommée', 'orient', '▁planches', 'CT', '▁poème', 'oit', 'NO', 'fl', '▁sollicité', '▁Roll', 'gro', '▁pratiquant', '▁acceptez', '▁2,5', '▁report', '▁grandement', '▁valoriser', '▁excès', '▁tolérance', '▁Boy', '▁convivialité', '▁laissa', '▁Caen', '▁destinations', '▁1987', 'vée', '▁3000', 'TER', 'économique', 'acquérir', '▁cesser', 'informer', '▁Ancien', 'work', '▁décorer', '▁recharge', '▁limitation', 'Bo', '▁activer', '▁Quelque', '▁psychologue', '▁buffet', '▁(11', '▁matches', 'ates', 'arrange', '▁Form', '▁créative', '▁adressé', '▁contacté', '▁FL', '▁sha', 'Seine', 'entends', '▁ème', '▁croise', '▁mécaniques', '▁gang', '▁mensonge', '▁poussée', '▁excessive', '▁impeccable', '▁complicité', 'enseigne', '▁dalle', '▁détention', '▁script', '▁ajoutez', 'accueillir', '▁Hal', '▁intitulée', '><', '▁Plu', '▁inox', '▁déroulera', '▁bla', '▁pâtisserie', 'Éducation', '▁précieuse', '▁protecteur', '▁dominant', 'Mer', '▁AN', '▁devint', '▁convivial', '▁Manger', '▁enquêtes', '▁acoustique', '▁signalé', 'mic', '▁déclarer', 'imaginer', 'yme', 'mark', '▁maxi', '▁delà', 'lab', '▁Ur', 'Anne', '▁thérapeutique', 'ym', '▁Camille', 'gorge', '▁Images', '▁pho', 'tures', '▁comparé', '▁allemands', '▁franchir', 'isser', 'sha', 'lk', '▁éducative', '▁Champagne', '▁milf', '▁aimait', '▁Mathieu', '▁Indien', 'formation', '▁vélos', '▁gourmande', '▁instance', 'lure', '▁Marne', 'rouille', 'amo', 'acc', '▁Moderne', 'approbation', 'escalade', '▁Deuxième', '▁continué', 'igo', '▁tendresse', '▁intégration', '▁brise', 'date', '▁PVC', '▁inclut', '▁SUR', 'rière', 'oin', '▁Restaurant', '▁navires', '▁ouvrant', '▁marier', 'agi', '▁sienne', 'Loire', '▁concertation', '▁processeur', '▁hiérarchie', '▁pilotage', '▁procède', '▁prenons', '▁Raymond', '▁diffuse', '▁Informations', '▁Orient', '800', '▁Environnement', '▁Off', '▁faille', '▁retourné', 'anna', '?)', '▁distinct', '▁coupure', '▁SM', 'etti', '▁productivité', '▁restreint', 'extraction', '▁flou', '▁ju', 'bet', '▁Guinée', 'core', 'Ordre', '▁cliniques', '▁mineur', '▁initialement', '▁coquines', '▁détriment', '▁dictionnaire', '▁innocent', '▁kWh', '▁précoce', '▁tragique', '▁Plein', '▁VTT', '▁municipale', '▁fosse', '▁claires', '▁semestre', 'horreur', 'entrepreneur', 'erra', '▁bars', '▁trouvant', '▁préférez', '▁remboursé', '▁splendide', '▁Clermont', '▁souvient', '▁instances', '▁végétal', '▁putain', '▁barrière', '▁teneur', '▁sacrée', '▁Hill', '▁existants', '▁Vieux', 'urier', '▁marocaine', '▁tranquillité', '▁Canapé', '▁régal', '▁Vierge', '▁plastiques', '▁%.', '▁désagréable', '▁sixième', '▁critère', '▁domestique', 'tha', '▁constructeurs', '▁French', 'tées', '▁Touch', 'étal', '▁salons', '600', '▁dépenser', 'lotte', 'rock', 'LC', 'nit', '▁vaisseau', '▁charger', '▁dépense', '▁Analyse', '▁mystérieuse', '▁chêne', '▁concession', '▁Zi', '▁ange', '▁épaule', 'tail', 'pou', '▁robes', '▁validé', 'tim', 'étonne', '▁perçu', '▁évidente', '▁attentats', 'amine', '▁porteurs', '▁Chris', 'bay', '▁minéraux', '▁set', '▁conviction', '▁globalement', 'ographique', '▁statuts', '▁commença', '▁mines', 'rade', '▁spatiale', '▁versement', 'authenticité', '▁tatouage', '▁corrigé', '▁Excellent', '▁boulevard', '▁joyeuse', 'tais', 'Is', '▁Justin', 'nor', '▁racine', 'mique', '▁neufs', '▁passera', '8)', '▁big', '▁physiquement', 'lade', '▁Will', '▁Christine', 'aj', 'épargne', '▁contenter', '▁ét', '▁violon', 'blanc', 'raie', '▁Autrement', '▁Nintendo', 'HO', '▁transporteur', '▁back', '▁croient', '▁renouveler', '▁Américains', '▁juif', '▁contr', '▁Chemin', 'obé', '▁accomplir', '▁robinet', 'Val', '▁manières', 'version', 'tenant', '▁Carl', '▁volontairement', '▁Ecole', '▁Fri', '▁exterieur', 'alliance', 'petit', 'donna', '▁tentatives', '▁caoutchouc', 'lux', '▁Dijon', 'ément', '▁poèmes', '▁sécurisée', '▁Alsace', '▁médaille', 'jet', '▁brin', '▁hot', '▁assurent', '▁Gri', '▁Sand', '▁semblable', '▁Durée', 'oulou', 'amba', 'compte', '▁grandi', '▁coll', 'raux', '▁remarques', '\">', '▁vignoble', '▁vieillissement', '▁routière', '▁prescrit', '▁profondes', '▁richesses', '▁Unique', 'COM', '▁centrales', '▁PIB', 'ech', '▁pratiqué', '30,', 'autoroute', '▁30%', 'tiste', 'Enseignement', 'UD', '▁églises', 'iron', '▁composant', '▁inscrite', '▁effectifs', '▁filtres', '▁répartis', 'odie', '▁ligue', 'imposition', '▁bloque', '▁contributions', '▁minerai', '▁Madagascar', '▁hélas', '▁tranches', '▁supermarché', '▁allure', 'kov', 'comp', 'pal', 'Av', '▁soci', 'graph', '▁virage', '▁permettait', '▁amicale', 'ague', '▁symboles', '▁jolis', '▁planté', '▁légendaire', '▁maturité', '▁dressing', '▁vanille', 'wn', '▁retrouvée', 'flu', 'altér', '▁entretenu', 'habitat', '▁sanguin', 'immense', 'ENCE', '▁Concasseur', '▁trouva', '▁considérés', '▁>>', '▁valoir', '▁indicateurs', 'eva', '▁Décoration', '▁comptent', '▁Soul', '7)', 'sept', 'ajout', '▁distribué', 'FE', '▁douloureuse', 'ologiques', '▁ressortir', 'Lo', '▁trip', '▁rude', '▁déposée', 'onner', '▁Garde', '2010', 'Garonne', '▁doutes', '▁passa', '▁gigantesque', 'attaquer', '▁onze', '▁orientale', '▁Metz', '▁contour', 'édit', 'alle', '▁autorise', '▁Vallée', '▁chéri', '▁passions', 'usure', '▁sonores', '▁Parfait', '▁cuit', '▁atout', '▁défenseur', '▁jai', '▁Classe', '▁98', '▁âmes', '▁diplomatique', '▁li', '▁Dommage', '▁mensuelle', 'MB', '▁Ak', 'Em', '▁gouttes', 'SS', '▁algérien', '▁aménagé', '▁dénoncer', '▁soldes', 'gnac', 'put', 'coll', '▁Kh', '▁ros', '▁agréé', 'droit', '▁balles', '▁interrogé', '▁Mario', '▁statistique', '▁bulletin', '▁mythe', '▁Dur', 'gny', 'range', '▁Posté', '▁Science', '▁appli', '▁vint', '▁Ball', 'ival', '▁dynamisme', '▁pédagogie', '▁converti', '▁vou', 'rri', 'meur', '▁1981', '▁automne', '▁repérer', 'cam', '▁::', 'lore', '▁Unies', '▁juil', '▁complètes', '▁soulager', '▁boules', 'lec', 'maison', '/2', '▁colonnes', '▁disposé', '▁comte', '▁PL', '▁coopérative', '▁sorcière', 'LI', '▁personnaliser', '▁suggestions', '▁Stuk', 'médi', '▁(20', '▁450', 'BS', 'rag', '▁Lorraine', '▁sapin', 'éventuel', 'VI', '▁Valentin', '▁posa', '▁introduire', 'ASS', '▁exposés', '▁extérieures', '▁produite', '▁résultant', '▁Gon', 'cel', '▁initié', 'VEN', 'ablement', '▁Internationale', 'num', 'ussi', '▁Contre', '▁ports', '▁Tokyo', '▁citations', '▁périmètre', '▁bouillon', '▁Longueur', '▁gard', 'éno', '▁demandeurs', '▁péril', '▁donna', 'wing', 'tère', '▁polar', 'guin', '▁complété', '▁Institut', '▁orienté', '▁FI', 'nder', '▁psychique', 'sens', '▁demandait', 'rol', '▁boucles', '▁activement', 'Sur', '▁laboratoires', '▁composer', '▁visuels', '▁index', '▁Informatique', 'vait', 'ride', '▁militant', '▁semblant', 'emprunt', '▁prêtres', 'ION', '▁Sarah', '▁coloration', 'enn', '▁fautes', '▁Imp', '▁renommée', '▁Costa', 'événements', 'éveil', '▁turc', '▁bouleverse', '▁gains', 'infection', '▁figurer', 'value', 'Col', '▁hum', '▁Sub', 'assi', '▁Ye', 'oxygène', '▁recueilli', 'ART', '▁femelle', '▁Kam', '▁ger', '▁casting', '▁raciste', '▁Mos', '▁assurances', '▁préfet', '▁bienveillant', 'inématographique', '▁reçoivent', '▁arômes', '▁PARIS', '▁malheureux', '▁1983', '▁renforcé', '▁touches', '▁partenariats', 'plex', 'SM', '▁év', '▁Ron', '▁zo', '▁délivré', '▁Média', '▁concassage', 'ona', '▁Venise', '▁81', 'cht', '▁linguistique', '▁garni', 'taires', '▁tenus', '▁détermine', '▁Poi', '▁promotions', '▁engager', 'ident', '▁basique', 'ubi', 'Th', '▁mannequin', '▁silicone', '▁White', '▁constructions', '▁Seconde', '▁adresser', 'emplois', '▁protégés', '▁pers', '▁Bull', '▁relance', '▁Bern', 'ison', '▁baguette', 'hypothèse', '▁macro', 'nome', 'algorithme', '▁remède', '▁Pos', '▁Beach', '▁ferais', 'cord', 'orn', '▁radiateur', '▁baby', '▁lapin', '▁Règlement', '▁sta', '▁CI', '▁budgétaire', '▁identiques', '▁mag', 'arg', '▁gestionnaire', '▁aident', '▁bottes', 'actrice', '▁Méd', '▁générosité', '▁prestigieux', '▁sinistre', '▁coule', '▁comptait', '▁champagne', 'élu', 'occupant', '▁More', '▁Devant', '▁Jeunesse', '▁grandir', '▁Dal', 'eve', '▁odeurs', '▁1940', 'landais', '▁Laisser', '▁190', '▁High', '▁rugby', '▁Contrôle', '▁hospitalier', '▁recommandons', '▁Roland', 'lisation', '▁CGT', '▁rumeurs', '▁opérationnelle', '▁cire', '▁rabat', '▁licenciement', '▁raccourci', 'offres', '▁Corps', 'grad', '▁formée', '▁uniforme', 'iment', '▁stratégiques', '▁wi', '▁métalliques', '▁Pay', 'iPhone', '▁aidera', '▁stupide', '▁appuyé', '▁OK', 'MENT', '▁élastique', '▁Monte', '▁posent', '▁branché', 'ancé', '▁comble', '▁créés', 'isez', '▁idéalement', '▁Plage', '▁priorités', '▁horrible', '▁disposant', '▁combattants', '▁idiot', '▁XIV', '▁Rod', 'light', '▁Eu', '▁secs', 'lv', 'élec', '▁Près', '▁renouvelables', '▁220', '▁épargne', '▁tentent', '▁attaché', '▁ret', 'zon', '▁indice', '▁propagande', '▁songe', '▁Florence', '▁céder', 'réf', '▁modifie', 'VILLE', '▁Reine', 'cr', '▁Alice', '▁oreille', 'pit', 'iere', 'mmer', '▁Entrée', 'Mont', 'rec', '▁celibataire', 'cée', 'irai', '▁ingénieur', '▁sentent', '▁confère', '▁RT', '▁News', '▁étudie', '▁Info', '▁cirque', '▁réclamation', '4,', '▁book', '▁Mairie', 'esthétique', '▁intérieurs', '▁lourdes', 'cieux', '▁généraliste', 'DM', 'node', 'AX', '▁Créer', 'alisé', '▁débutants', '▁déroulé', 'UI', '▁cabane', 'alement', '▁Iran', '▁96', 'bord', '▁supérieurs', '▁asiatiques', '▁éclat', 'CD', '▁Année', '▁compétitions', '▁compétente', '·', '▁ES', '▁cinquantaine', '▁comptabilité', '▁complice', '▁photographique', '▁Dol', '▁répression', '▁Partie', '▁ayez', 'Martin', '▁émotion', '▁compliquée', 'argile', 'celle', 'key', '▁montres', '▁97', '▁Dessin', 'harmonie', '▁Mieux', 'élèves', '▁merveilles', '▁Liège', '▁parfums', '▁bulle', 'rable', '▁Ir', '▁quotidiennement', '▁jouir', '▁Dev', '▁herbes', 'érable', 'abonnement', '▁tribune', '▁Responsable', '▁effectif', '▁BMW', '▁isolation', '▁craint', '▁vérifié', '▁Savoie', '▁Joe', 'FS', '▁évoquer', 'rg', '▁Moto', '▁médiation', 'érique', '▁Es', '▁libérale', '▁subtil', '▁tige', 'AZ', 'étale', 'loy', '▁Jeunes', 'argument', '▁Ai', '▁Angel', '▁guidée', '▁fréquenté', '▁trône', '▁fréquente', '▁janv', '▁soumission', '▁compl', 'igna', '▁prétendre', '▁élection', '▁irr', '▁pardon', '▁personnalisés', 'notamment', '▁Lor', 'nde', '▁réglé', '▁terrestre', '▁2002,', '▁votes', '▁sorcier', '▁formés', '▁Désormais', 'feu', '▁adopte', 'atrices', 'eut', '▁Edition', 'live', '▁gouvernementale', '▁voisine', '▁interieur', '▁indien', '▁Tours', 'oignon', 'aku', 'ega', 'plat', 'bach', 'étudiant', 'escalier', '▁ambitieux', '▁deco', '▁gentillesse', 'oda', 'Ed', '▁reconstruction', '▁consid', '▁lectures', 'read', '▁sortit', '▁gouverneur', '▁contemporains', '▁foire', '▁trahi', '▁Valérie', '▁pourvu', '▁pâ', 'alia', 'Cette', 'lection', '▁variables', '▁correcte', '▁Mère', '▁mobiliser', '▁rival', '▁détenu', '▁estivale', '▁maïs', '▁prouvé', '▁collant', 'cant', '▁soupir', 'py', '▁exécution', '▁Aix', '▁Pres', 'oco', '▁détecter', '▁suscite', '▁financé', '▁croyances', 'porte', '▁marée', '▁bénéficiez', '▁lesbiennes', '▁boîtier', '-9', 'Ca', '▁Charlotte', 'itude', '▁.....', '▁Gratuite', '▁sensibiliser', '▁:-)', '▁doué', '▁dorée', 'Ga', '▁calculer', '▁House', '▁bosse', '▁redoutable', '▁soviétique', '▁puits', 'kel', '▁Tou', '▁Stade', '▁RH', 'RM', 'euro', '▁reve', '▁2008.', '▁Light', '▁stop', 'dj', '▁courbe', '▁approuvé', '▁dynamiques', '▁excellence', '▁concurrent', '▁cocktail', 'Australie', 'présent', '▁Bonsoir', '▁timbre', '▁district', 'Amour', 'roque', 'cell', '▁communique', '▁notable', '▁incarne', '▁Arthur', '▁Exp', '▁randonnées', '▁comparable', 'ever', 'mettre', '▁Center', '▁dangers', '▁Arch', 'tribu', '▁broche', '▁Secrétaire', '▁pertinence', '▁végétaux', '▁uni', '▁triangle', 'pdf', '▁cordon', '▁nuage', 'Man', '▁80%', '▁planétaires', 'tag', '▁Av', '▁ignore', 'afficher', '▁adressée', '▁rev', '▁Syndicat', 'rob', '▁crâne', '▁multimédia', '▁condamnation', '▁douter', '▁factures', '▁émergent', '▁Hall', '▁fabriqués', 'arité', '▁partisans', '▁Somme', '▁qualifiée', '▁loyer', '▁resta', '▁accorder', '▁2009.', 'explication', '700', 'accouchement', '▁réflexe', '▁caution', '▁Argent', '▁écouté', '▁orientation', 'institut', '▁décident', '▁discuté', '▁tirée', '▁Production', '▁passeport', '▁cur', 'ciel', '▁ravis', '▁horreur', 'side', 'haut', '▁Mir', '▁parrain', '▁partent', 'extrémité', '▁douces', '▁XD', '▁Fol', 'èvre', 'iot', '▁raisonnement', '▁rois', '▁chrono', 'évaluer', '▁deuil', 'hum', '▁séparé', '▁fumer', '▁composés', '▁iPad', 'arde', 'nels', '▁color', '▁habitat', 'actifs', '▁dames', '▁créature', '▁recyclage', '▁revendique', '▁analysé', '▁foyers', 'arn', '▁chaos', '▁raccord', 'étang', '▁bloquer', '▁couverts', '▁vienne', '▁développeurs', '▁Chap', 'SON', '▁situent', 'Ile', '▁nommer', 'mur', 'Du', '▁plutot', '▁tiroir', 'taient', '▁PN', '▁traversé', 'sal', '▁sénateur', 'gs', 'boy', 'apprête', '▁Book', '▁gentille', '▁creuse', '▁indications', '▁manipuler', '▁définie', '▁émotionnelle', 'camp', 'inspection', '/07/', '▁validité', '▁éducatif', 'allait', 'isolation', 'estomac', '▁banane', '▁iOS', 'voque', '▁nid', '▁JO', '▁Texte', '▁ingénieurs', '▁adéquate', '▁Mémoire', 'encore', '▁latine', '▁électoral', 'hop', '▁bricolage', '▁référendum', '▁parvenu', '▁mutation', '▁Life', '▁industries', '▁Sont', '▁pote', 'pée', '▁basses', '▁cession', '▁partagée', '▁Demande', 'yne', '▁sachet', 'ONS', '▁Eau', 'injustice', '▁vôtre', '▁musicales', '▁abouti', '▁tendu', 'soit', 'fiction', '▁dévi', '▁vitamines', '▁chargement', '▁Lab', 'rette', '▁IT', '▁Henry', '▁confi', '▁nerveux', 'Observatoire', '▁Football', '▁comptoir', '▁trophée', 'champ', '▁racisme', '▁assiette', '▁Sachez', '▁rouleau', 'iko', '▁Caisse', 'rve', '▁innovations', 'thérapie', 'toire', 'RON', 'équation', '▁catholiques', '▁généreuse', '▁redonner', '▁facettes', '▁Bell', '▁CDI', '▁Maman', 'etta', '▁170', '▁Peugeot', '▁Pâques', '▁idéologique', '▁mosquée', '▁cinéaste', '▁Réponse', '▁ramène', '▁ann', '▁épaisseur', '▁hautement', '▁Ec', '▁infirmière', '▁1975', '▁préalablement', 'nable', '▁commençait', '▁Massage', '▁Gold', 'tol', '▁reli', '▁enjeu', '▁trompé', 'crire', '▁Az', '▁nappe', 'lite', '▁GO', \"▁''\", 'uant', '▁potentiellement', 'mot', '▁OU', '▁stocks', 'vou', '▁défendu', 'ndi', '▁groupement', 'iqu', '▁isolé', '▁indienne', '▁Immobilier', '▁confrontation', '▁voulaient', '▁assiste', '▁composent', 'infos', '▁expressions', 'rem', '▁opinions', 'dl', 'IEN', '▁prie', 'idé', 'labor', '▁Magnifique', '▁familier', '▁portugais', '▁Bord', '▁navette', 'orthographe', '▁tabou', '▁Lang', '▁cuisiner', '▁réveille', 'érez', '▁admin', '▁Sept', '▁talons', '▁cerise', '▁2003,', '▁semblerait', '▁manquait', 'adulte', '▁attendait', '▁pénétrer', 'zie', '▁Gard', '▁innovantes', 'éch', '▁Conformément', '▁silencieux', '▁Hot', '▁enceintes', '▁élevées', '▁immeubles', 'paris', '▁maintenu', 'right', '▁fig', '▁bebe', 'nières', 'igner', '▁littéraires', '▁DC', '▁Dix', '▁longuement', '▁deja', 'dale', 'HE', '▁ponctu', '▁intensif', '▁HA', '▁calcaire', '▁couché', '▁Toi', '▁Louise', '▁Gran', '▁prestataires', '▁légers', '▁Hôtels', '▁Allah', 'chard', '▁emporter', '▁amoureuses', '▁sessions', 'sic', '▁bruits', 'house', 'économiste', '▁restaurer', '▁pétition', '▁compagne', 'èque', 'Education', '▁dégager', 'riel', '▁lingerie', 'gate', 'échapper', '▁majoritairement', 'zu', 'ming', '▁croissante', '▁exerce', '▁levé', '▁médicales', '▁enthousiasme', '▁Fl', '▁attaquer', 'cir', '▁Sho', '▁vampire', 'nam', '▁Colombie', '▁vaches', '▁Figaro', '▁Hauteur', '▁staff', '—', '▁publicités', '▁industrie', '▁sauve', '▁recommander', 'Espace', '▁sortis', '▁VO', '▁organique', '▁Store', '▁résidences', 'neuse', '▁éternelle', '▁Wars', '▁affirmer', '▁Bis', 'flex', 'EU', 'essaye', '▁Envie', '▁divisé', '▁potable', 'style', '▁transit', '▁handicapées', '^', 'OD', 'édi', '▁rejeté', '▁Audi', 'alli', '▁ô', '▁sécuritaire', '▁maternité', '▁inégalités', '▁délire', 'nistes', '▁Ran', '▁révélation', '▁plantation', '▁videos', '▁envoyés', 'ump', 'roma', '▁Hong', '▁Pack', '▁impressions', '▁planètes', '▁emmène', 'évolu', '▁Phil', '▁speed', '▁vraies', '▁vivons', '▁gluten', '▁séparés', '▁ethnique', '▁dangereuse', '▁qq', 'annulation', '▁1982', 'cière', '▁1968', 'CF', '▁sacrifice', 'guet', '▁revues', '▁menacé', '▁ven', '▁Poly', '▁Dimensions', 'Gr', 'ouch', 'So', 'orchestre', '▁Membre', '▁bâtir', '▁fiables', '▁Hélène', '▁surnom', '▁implication', 'sac', 'biotique', '▁major', 'urban', 'exercer', '▁équilibré', 'had', 'ibles', '▁cellulaire', '▁accuse', '▁Choisir', '▁notoriété', '▁pénible', '▁souffrant', '▁Sites', '▁greffe', 'pression', '▁actionnaires', 'huit', 'ood', 'ssier', '▁Située', '▁lignée', '▁thermo', '▁TTC', '▁publiées', 'éta', '▁rencontrés', 'éthique', '▁tache', 'own', '▁RC', '▁essayez', '▁inédit', 'uki', '▁Mak', 'échanger', 'rah', 'experts', 'abbé', 'phon', '▁impératif', 'admission', '▁craindre', 'Agriculture', '▁piece', '▁Accès', '▁gastronomie', '▁Hauts', '▁DR', '▁fis', 'NES', '▁perce', '▁sépare', '▁Appel', '▁merlin', '▁intégrale', 'RG', 'rô', '▁Etude', 'bres', 'isa', 'ancier', '▁Rub', '▁camions', 'chy', '▁hôtes', '▁utilisons', 'ssel', 'trage', 'oyer', '▁rame', 'jpg', '▁BTS', '▁clef', 'rue', '▁Cuba', 'sort', 'kou', '▁perle', 'MAN', 'ista', 'marin', 'empire', '▁Simple', '▁chauds', '▁valent', '▁suffi', '▁Flo', '▁Streaming', '▁doublure', 'appartenance', '▁crier', '▁immobilières', '▁Présent', '▁dispute', '▁sup', '▁gardant', 'iro', '▁Nul', '▁habit', 'ellement', 'allonge', '▁colon', '▁progressive', 'iri', '▁Vau', 'uni', '▁guéri', '▁Sea', '▁amovible', 'estime', '▁linéaire', '▁compatibles', '▁pensant', '▁Expert', '▁nus', '▁occupée', '▁Personnes', 'alerte', '▁grains', 'Armée', 'orne', '▁Math', '▁Box', '▁méga', '▁maigre', '▁Esp', '▁rot', 'Utilisateur', '▁coalition', '▁couvercle', '▁lisant', '▁déroulée', '▁Longue', '▁métaux', '▁conseillons', 'gli', '▁créatrice', '▁illégale', '▁orientations', '▁plain', '▁romaine', 'Arabie', 'social', 'Her', 'mate', 'hard', '▁cardio', '▁1930', 'sec', 'QU', '▁situées', '▁cochon', '▁urgent', 'registr', '▁newsletter', 'André', '▁étanche', '▁Reims', '▁Gaulle', '▁végétale', 'allemand', '▁Tube', '▁étroit', '▁Base', 'RR', '▁Pass', '▁livrée', '▁créent', '▁ah', '▁ému', '▁boue', '▁Nouvel', '▁solaires', 'rv', '▁sucer', '▁sanction', '▁domestiques', '▁Nouvelles', '▁0,1', '▁Indi', '▁rédacteur', '▁Données', '▁Tableau', '▁reco', '▁Santa', 'mise', '▁décoré', 'agissant', '▁lointain', '▁Amour', '▁supporters', '▁Technique', 'mini', 'TION', '▁Riche', '▁colline', '▁Steve', '▁psoriasis', 'Espagnol', '▁Décembre', '▁flacon', '▁insectes', 'élan', '▁hy', '▁gants', 'color', '▁approches', '▁démons', '▁hôpitaux', '▁rencontr', '/3', '▁QU', 'AUX', '▁explicite', 'FP', '▁bagages', '▁marchands', '▁semblables', '▁Social', '▁axe', '▁XVIIIe', '▁caresse', '▁atypique', '▁éliminé', '▁Céline', '▁bénéficiaires', '▁tirs', 'cout', '▁autorisés', '▁molle', '▁Bat', 'naud', 'RY', 'américain', 'tance', '▁Sortie', 'tens', '▁out', 'ysfonctionnement', '▁twitter', '▁clips', '▁sus', '▁alla', '▁costumes', 'ké', '▁donnez', 'âche', '▁Sel', 'fen', 'text', '▁pelouse', '▁tribunaux', 'boul', '▁Sociale', '▁Mots', 'tam', '▁battant', '▁Commande', '▁serrurerie', '▁cuve', '▁Heures', '▁aidant', 'Administration', 'originalité', '▁tue', '▁École', 'Apple', '▁[1]', '▁Casa', '▁préfèrent', 'ston', '▁donnés', '▁Pokémon', '▁dénoncé', '▁copropriété', 'connect', '▁forcer', '▁indiquée', 'PD', '▁contrôlé', 'infini', '▁fondu', '▁Tir', '▁Atelier', 'gua', '▁renoncer', '▁exécutif', '▁angles', 'illo', '▁Wikipédia', '▁pilule', '▁Villeneuve', 'vio', '▁antenne', '▁Remarque', '▁Johnny', 'list', '▁successeur', '▁Smart', '▁surprendre', '▁illusion', 'Bou', '▁Ado', '/4', '▁aurons', 'inflation', '▁anges', '▁reflète', '▁cigarette', 'ommercialisation', '▁natal', '▁aménagement', '▁harcèlement', '▁Déclaration', '▁confidentiel', '▁Secret', '▁coloré', '▁Support', 'intégrité', 'attacher', 'intérêts', '▁serviteur', 'appuyer', 'affection', '▁manifester', '▁Boutique', '▁cents', '▁obtenus', 'yre', 'TU', '/03/', 'rate', '▁Organ', '▁piment', '▁compositions', 'iseur', '▁sortira', '▁allié', '▁Difficile', '▁bactéries', '▁israélien', '▁mères', 'ias', '▁cyber', '▁rassurant', '▁parlementaires', '▁localité', '▁trésors', '▁rénové', 'étendue', '▁éventuelle', '▁Scott', 'obs', '▁Puy', 'UF', '▁développés', '▁Gh', '▁Loin', '▁Cra', '???', '▁douloureux', '▁trajectoire', '▁corse', '▁Gor', 'hyper', '▁employeurs', '▁Parisien', '▁Route', 'ike', 'issage', '▁accrue', '▁créatif', '▁procédés', '▁Bag', '▁Enfants', '▁plaie', 'Égypte', '▁relâche', 'ingénierie', '▁quiconque', '▁contribuent', 'articule', '▁libéral', '▁Jura', 'artisanat', '▁définitif', 'noir', 'jan', 'ssaient', '▁recouvert', '▁intéresser', '▁cop', 'oudre', '▁BE', 'assassinat', '▁publi', '▁José', '▁énergétiques', '▁chroniques', 'Ab', 'END', 'ignan', '▁open', '▁industrielles', 'install', '▁5000', 'roc', 'ull', 'MD', '▁lente', '▁résidentiel', '▁raide', '▁sculpture', 'cio', '▁Arc', '▁bec', 'commun', 'omme', '▁chirurgien', '▁amusé', 'VE', '▁optimal', 'invitation', 'public', '▁pêcheurs', '▁soigné', '▁finissent', '▁classée', '▁DA', '▁Japonais', '▁effective', 'éloigner', '▁succ', '▁Roumanie', 'far', '▁cheville', '▁releva', '▁indépendance', '/02/', '▁insiste', '▁pareille', 'ssais', 'heures', 'dium', '▁gardes', '▁leroy', '▁MS', 'tran', '▁finis', '▁Amis', '▁subventions', 'iza', '/06/', 'blé', '▁Linux', '▁palier', '▁Plutôt', '▁slogan', '▁conclut', '▁Concours', 'quier', '▁faillite', 'travail', 'gné', 'SN', '▁Jam', 'lly', '▁inédite', '▁recueille', '▁venaient', '-13', 'Arc', 'inspecteur', '▁guérir', '▁Lucas', '▁allés', 'risé', '▁risquent', '▁négocier', '▁arbitre', 'BL', '’«', '▁stylo', 'data', '▁Voila', 'Cor', 'etait', 'oub', 'ILLE', 'Autorité', '▁prier', '▁coureurs', 'pid', '▁Gla', '▁sillon', '▁foutre', 'watch', '▁reçues', '▁recueillir', 'Britannique', '▁récompensé', '▁gravure', '▁crèche', '▁Poids', '▁gendarmerie', '▁combiné', '▁Début', '▁Cinq', '▁croisé', '▁remontée', '▁Age', '▁Camping', 'acceptation', '▁illimité', 'hort', 'OF', '▁pair', '▁latérale', 'équi', 'enjeu', '▁modifiée', 'invite', '▁Belge', '▁Loisirs', '▁Robin', '▁SAINT', '▁Marketing', '▁envoi', '▁laissée', '▁resto', 'wen', '▁bénéficié', '▁câbles', '▁prolonger', '▁1979', '▁vignes', '▁amélioré', '▁Terrasse', 'motion', '▁sombres', '▁parlement', '▁réparti', '▁acquisition', 'ALL', '▁centimètres', '▁Zen', '▁Island', 'apprécier', 'ool', 'RIS', '▁repéré', '▁millénaire', '▁aimerait', '▁alternance', '▁time', '▁bordeaux', '▁vache', '▁dominante', '▁Petites', '▁maquette', '▁Cadre', 'UV', '▁Gala', '▁marches', '▁leva', '▁fraction', '▁visages', '▁clics', 'voc', '▁armé', '▁finalité', '▁Construction', '▁Lausanne', '▁ouvrière', 'invasion', '▁géographie', 'hin', '▁RDV', '▁frisson', 'opéra', 'ouk', '▁renvoyer', '▁réputé', '▁obligatoires', '▁mérité', '▁règlements', '▁strat', '▁Berg', 'tric', '▁fourniture', '▁ancêtres', '▁épuisé', '▁lavabo', '▁reporter', 'pant', 'oles', '▁couler', '▁essayant', '▁entrant', '▁indé', 'enthousiasme', 'ambition', '▁Maisons', '▁parois', '▁barres', 'ises', '▁attache', '▁officiers', 'libert', 'interroger', '▁stocker', '▁Mercedes', '▁popularité', '▁joyeux', '▁policière', '▁Lé', '▁paysans', '▁conventions', 'omo', 'human', '▁propreté', '▁1976', 'uth', '▁fournitures', 'até', '▁psy', '▁Transport', '▁extrêmes', '▁ambitions', '▁maitre', 'arre', 'belle', '▁Possibilité', '▁baignade', '▁Matériel', 'abbaye', 'éman', 'CG', '▁végétation', 'EAU', '▁guérison', 'vable', '▁Dernier', '▁Neu', 'Ta', 'stream', '▁moche', 'TF', '▁considèrent', '▁actualités', 'oïde', '▁tombent', '▁caisses', '▁copier', '▁ressemblent', 'than', '▁portables', '▁CAR', 'mili', 'ambi', '▁jouet', 'orme', '▁examiné', '▁demandée', '▁architecte', '▁assumer', '▁Sylvie', '▁Casino', 'neuf', 'libr', '▁genou', 'ij', '▁2007.', '▁Mand', 'gol', 'oh', '▁menus', '▁favorables', 'tenez', '▁poire', '▁cross', 'fact', '▁fondateurs', '▁Divers', '▁interactif', '▁HT', '▁fleuri', 'embrasser', 'pren', 'IVE', '/11/', '▁privilégier', '▁séduction', '▁Ultra', '▁Chinois', '▁usines', '▁héritage', '▁activé', '▁hol', 'chal', '▁pots', 'dieu', '▁étonnante', '▁rattraper', 'cup', 'cit', '▁agréables', '▁Réf', 'nz', 'annoncer', '▁galeries', '▁respectueux', '▁suscité', '▁luminaire', '▁Téléphone', '▁Prendre', '▁âges', '▁nage', 'rid', 'OB', '▁mentalité', '▁export', '▁dessine', '▁passionnée', '▁finitions', '▁comprise', 'ains', '▁lin', '▁fournie', '▁souffrent', 'nité', 'EUX', 'At', '▁crédible', '▁hostile', '▁minuscule', '▁significatif', '▁littoral', '▁Toronto', '▁calories', 'nas', '▁homogène', '▁Arnaud', '**', '▁mettait', 'peut', '▁subtile', 'etc', 'ogue', '▁retours', 'HI', '▁trame', '▁interactions', '▁violet', '▁Amb', '▁calmer', '▁tutoriel', '▁brève', 'mens', '▁GP', '▁tonne', '▁Express', '▁decoration', '▁écrivains', 'métrage', 'tite', '▁autorisée', 'cot', '▁Vel', '▁modéré', '▁fabriquée', '▁Cloud', '▁légitimité', '▁Voiture', '▁connaissons', '▁dénonce', '▁combine', '▁href', 'ness', '▁simultanément', '▁Xbox', 'arts', 'sexuel', '▁primordial', '▁annuaire', '▁réglages', 'LL', '▁innovation', 'ONE', 'opé', '▁paiements', 'rial', 'quot', '▁apprécie', 'illons', '▁eco', 'DT', '/05/', '▁Jones', '▁Magazine', 'ouiller', 'OW', 'hom', '▁viagra', '▁Gren', '▁Barre', 'tale', '▁Regardez', '▁habituel', 'cler', 'culture', '▁sperme', '▁emblématique', '▁confronté', '▁Rel', '▁coude', 'attirer', '▁contribu', '▁pay', '▁Lettre', '▁Carr', '▁Aff', '▁compétitif', '▁néerlandais', '▁promener', '▁suédois', '▁textile', '▁échangé', '▁flottant', '▁SAS', 'BR', '!\"', 'ics', '▁gâteaux', '▁cuite', '▁cout', '▁class', '▁graisses', 'pat', '▁Moins', '▁Togo', '▁Luxe', '▁ciné', 'cation', 'cription', '-14', '▁animés', '▁conviviale', '▁réguliers', '▁médiévale', '▁opérateur', '▁pencher', 'Univers', 'aria', 'annonces', 'Que', '▁panorama', '▁Libye', '▁chèvre', '▁recevez', '▁Chambres', '▁culotte', '▁Pel', 'inf', '▁Cad', '▁spécialisées', '▁abandonner', '▁insulte', '▁isolée', '▁metal', '▁impatience', '▁transparente', '▁apportant', 'automobile', 'gnon', 'dure', 'outre', 'apprend', '▁mani', '▁craquer', '/09/', '▁Gué', '▁féministe', '▁vigilance', '▁détient', '▁Allemands', 'arrache', '▁assassiné', '▁mariés', '▁Martine', '▁foulée', '▁québécoise', '▁trouvais', '▁reçus', '▁Ami', 'Maritime', 'INT', 'pte', '2000', '▁renforcée', 'chain', '▁VF', 'ilo', '▁dictature', '▁Speed', '▁Lycée', '▁contestation', '▁Adresse', '▁négligeable', 'NET', 'emme', '▁demeurent', '▁embarqué', '▁manuelle', '▁quotidiennes', 'ouillé', '▁banni', '▁malin', 'élo', '▁remarquables', '▁définis', '▁élan', 'esque', 'Jo', '++', 'acteurs', '▁inoxydable', '▁tweet', '▁Février', '▁tranché', '▁Désolé', '▁RCS', 'Elysée', '▁foudre', 'mane', 'ISE', '▁Puisque', '▁rebelles', '▁résident', 'ONG', 'enceinte', '▁chasseurs', 'production', 'expo', '▁(5)', '▁plaisirs', '▁compilation', '▁rentabilité', '▁situ', '▁Conception', '▁atteints', '▁causer', '▁réchauffement', '▁chants', '▁travesti', 'rey', 'incendie', 'abus', 'AO', '▁Best', '▁dépose', '▁Sin', '▁Napoléon', '▁Burkina', '▁Inscrivez', '▁périodique', '▁corr', '▁amende', 'pis', '▁airs', '▁Superbe', '▁innovant', 'SO', 'him', '▁Temple', 'hol', 'excellente', '▁vies', '▁Messi', '▁provinces', '▁banal', '▁Fontaine', '▁Toulon', '▁craque', 'venir', '▁Project', '▁reparti', '▁rendra', '▁Droits', '▁variation', '▁mondialisation', '▁ponts', '▁reflet', '▁volé', '▁regroupement', '▁valise', '▁descendant', '▁relancer', '▁enregistrés', '▁pâle', '▁tré', '▁bêtes', '▁constituant', 'entraide', '▁Youtube', 'For', '▁pharmacien', '▁entoure', 'éclair', '▁interlocuteur', '▁acheteurs', 'formes', '▁détenus', 'ings', '▁MO', '▁Editions', '▁dédiés', 'prenant', '▁stimuler', '▁complot', 'terie', '▁indésirables', '▁TH', '▁hypo', 'ires', '▁Thor', 'ted', '▁transférer', '▁occidentaux', '▁clarté', '▁prudence', '▁Jac', '▁subvention', '▁cat', '▁Mau', '▁hésiter', 'avérer', '▁biographie', '▁PDG', 'ouilles', '/8', 'nin', '▁Blu', '▁techno', '▁respirer', 'vaux', 'Op', '▁singe', '/04/', '▁persiste', '▁opéra', '▁Tarif', '▁pourrons', '▁AV', 'icon', '▁pac', 'zone', 'Er', '▁mp', 'leurs', '▁Esprit', '▁diminué', '▁fabuleux', '▁Chan', '▁administratifs', '▁certifié', '▁grammes', '▁diamant', '▁terminal', 'trap', 'aptitude', '▁terrasses', '▁campus', 'trique', 'adolescent', 'NY', '▁nécessitent', '▁high', '▁Emma', '▁volcan', '▁enregistrement', '▁disparaît', '▁mord', '▁entourée', '▁Arr', '▁explosion', 'alarme', '▁indéniable', '▁polyester', '▁pivot', '▁Dela', '▁déplacé', '▁broderie', '▁Laura', '▁distributeur', '▁rêvé', '▁précisant', '▁sélectionnez', '▁dérive', '▁patte', '▁entra', 'club', '▁Meilleures', '▁assurez', '▁cédé', '▁déclin', '▁Calais', '▁System', '▁tourna', '▁voyais', '▁contrepartie', '▁Int', '▁soumises', 'lave', '▁strict', '▁Pur', '▁comique', '▁Id', 'chou', '▁idee', '▁3)', '▁Tony', 'ingue', 'DH', '▁échappé', '▁Renaissance', '▁beige', '▁Rappelons', '▁reproduit', '▁Flash', '▁saumon', '▁ICI', '▁traitant', '▁excuse', '2008', '▁acides', 'infrastructure', '▁1920', 'centre', '▁LO', '▁cosmétiques', '▁versé', '▁affilié', '▁foncière', '▁Découverte', '▁destinataire', 'hot', '▁optimisé', '▁percevoir', '▁priv', '▁Kevin', '▁ajustement', '▁Hervé', '▁affecter', '▁Gaz', '▁réductions', '▁prescription', 'RET', '▁Fran', '▁Version', '▁fondement', '▁officielles', 'iqué', '▁SU', '[2]', '▁rapprochement', '▁arrondi', '▁sirop', '▁Déco', '▁méthodologie', '▁mélangé', '▁Week', '▁minuit', '▁fiscalité', 'omètre', 'roux', '▁maroc', '▁croyance', 'activ', '▁Recette', '▁reposant', 'retour', '▁puni', '▁Hard', '▁chaussée', '▁sauna', '▁décoratif', '▁FM', '▁prêter', '▁obstacle', '▁nucléaires', 'umé', '▁oh', '▁différemment', '▁Dossier', '▁Paradis', '▁collé', '▁Vraiment', 'ington', '▁cotisation', 'adresser', '▁pneu', '▁maintient', 'surtout', '▁Gabon', '▁comportant', '▁gênant', 'esclavage', '▁télécommande', '▁spectre', 'ank', '▁chlor', 'thor', '▁fréquentation', '▁intensité', '▁boy', '▁joints', '▁Maur', '▁temp', 'utilisateurs', '▁Mira', '▁causé', 'oïdes', 'dier', '▁compartiment', '▁Populaire', '▁capteurs', '▁budgets', '▁youtube', '▁coincé', '▁domine', 'monde', '▁studios', '▁flamme', '▁vertical', '▁capot', 'isolement', 'otti', '▁Gau', 'zou', 'DL', '▁introduction', '▁patrons', 'illot', '▁VII', 'oro', '▁Sang', 'mart', 'pense', 'ender', '▁Suivez', '▁capsule', '▁Brown', 'évasion', '▁Jazz', '▁complets', '▁confondre', '▁biologiques', '▁XIII', 'énorme', 'arch', '▁vertes', '▁bouché', '▁favorisant', '▁énormes', '▁saute', 'ele', 'BI', 'SH', '▁papillon', '▁corporelle', '▁monastère', '▁Travaux', '▁défunt', '▁indifférent', '▁reconnaissant', '▁PU', 'aris', '▁PI', '▁dressé', 'poser', '▁tarot', '▁Théo', '▁bannière', '▁cibles', '▁trains', 'Ver', 'uée', '▁aboutir', '▁40%', '▁fiscales', '▁Jolie', 'llé', 'astro', '▁réparations', 'quoi', '▁Cordialement', '▁luminosité', '▁demeurant', '▁240', '▁BP', 'expert', 'activation', 'arm', 'gènes', '▁affecte', '▁vides', '▁5%', 'explo', '▁observée', 'aimais', '▁convenu', '▁épices', 'écho', '▁planter', 'word', 'SD', '▁cohésion', '▁toulouse', '▁Gîte', '▁Objet', '▁vecteur', '▁Capital', 'arrestation', '▁entamé', '▁retrouverez', '▁appréciée', 'GER', '▁acceptée', '▁tarder', '▁colonie', '▁Vé', 'actuel', '▁édifice', 'lex', '▁répété', '▁chargeur', '▁atteintes', '▁légères', 'ADE', 'soft', '▁vasque', '▁grillé', '▁généré', '▁Philip', '▁associatif', '▁Smith', '▁maigrir', '▁souveraineté', '▁objective', 'éloigne', 'kers', '▁souriant', 'Inter', '2009', '▁PER', 'ller', '▁Hou', 'avancer', '▁1944', '▁douane', '▁affichée', '▁vieilli', '▁Call', 'TH', 'vid', '•', 'exploration', 'épouse', '▁cachés', 'PM', '▁sien', '................', '▁aigu', 'indi', '▁énergique', 'tente', '▁récolté', '▁Color', '▁parution', '▁performante', '▁Accessoires', '▁FRANCE', 'habit', '▁déja', '▁monture', 'tend', 'atre', 'inqui', '▁compensation', 'endettement', '▁calculs', '▁School', 'Ap', '▁iphone', '▁belges', 'arrêté', 'iver', '▁enfermé', 'AUD', 'illée', '▁prétendu', '▁susciter', '▁connectée', 'urée', 'UG', 'accessoires', 'ucci', '▁magazines', 'engagent', '▁ère', '▁»).', '▁pét', '▁love', '▁Installation', 'énigme', '▁bouclier', '▁entrepreneur', '▁souffrances', '▁Coran', '▁lentilles', '▁Esc', 'elf', 'annon', 'sistance', '▁loué', '▁confiant', '▁Kid', '▁souhaitait', '▁démocrate', '▁délicatement', '▁produis', 'space', '▁convertir', 'ingrédient', 'ivement', '▁acceptable', 'unanimité', '[4]', '▁emporté', '▁brisé', '▁choisissant', '▁confiture', '▁opté', 'inage', 'laud', '/6', '▁Métropole', '▁britanniques', 'Mé', '▁appr', '▁scénarios', '▁Show', '▁pourrai', '▁syrien', 'mobile', 'oblige', 'Provence', '▁adeptes', '▁inviter', '▁briser', '▁lion', '▁châssis', '▁singulière', '▁ventilation', '▁descriptif', '▁conquis', '▁Concert', '▁voi', 'ift', '▁annexe', '▁Ann', '▁travaillons', 'Do', 'initier', '▁concernée', '▁incident', '▁Franco', '▁RA', '▁prioritaire', '▁occidental', 'gén', '▁Organisation', 'dh', 'appli', '▁dise', '▁exploiter', 'invention', '▁bornes', '▁intervenant', '▁agro', '▁corne', '▁arrête', '▁retrace', '▁découpé', '▁veuve', '▁Samuel', '▁Rev', '▁present', '▁Fen', '▁JE', '▁Vis', '▁Us', '▁infini', 'ket', 'RU', '▁sentais', '▁violente', 'cue', '▁Sexy', '▁(13', '▁réjoui', '▁éclairé', '▁légendes', '▁arrêtés', '▁union', '▁sentez', 'rouge', '▁stagiaires', '▁manquant', 'accroche', '▁roulement', '▁collectives', '▁collèges', 'chin', '▁festivals', '▁grace', '▁Juan', 'titre', '▁Cos', '▁délivrer', '▁laissait', '▁Mill', '▁motivé', '150', '▁Bout', 'zin', 'attaquant', 'ery', '▁LI', 'étanchéité', '▁Bluetooth', '▁capitaux', '▁Logiciel', '▁jungle', '▁retourna', '▁renfort', '▁Good', '▁enseigné', '▁Duc', '▁inutiles', 'game', 'groupe', 'YS', 'EY', 'IST', 'ducteur', 'dépendant', 'équipage', '▁Victoria', 'uaire', '▁ours', '▁université', '▁Cru', '▁influencé', '▁croyait', 'inquiéter', '▁Tandis', 'media', '▁1972', '▁rh', '▁1914', '▁dessiné', '▁prostituee', 'normal', '▁négatifs', 'illusion', 'achève', '▁Mgr', '▁Wood', '▁Seuls', '▁éphémère', '▁Ressources', '▁pacifique', '▁homologue', 'gène', '▁méta', '▁MM', '▁Extrait', 'oiseau', '▁230', '▁hip', '▁RDC', '▁assurés', '▁écologiques', 'GB', 'file', 'Ah', '▁osé', '▁distributeurs', '▁nourrit', '▁flirt', '▁commissions', '▁congolais', '▁nœud', '▁trottoir', '▁Éditions', '▁adverse', '▁manifestants', '▁terroriste', '▁Etre', '▁lieutenant', 'tablissement', '▁tentation', 'cut', '▁armés', '▁Fat', '▁Cord', '▁gland', 'bag', '▁sincèrement', 'onglet', '▁composantes', '▁stricte', 'veill', '▁niche', '▁chevalier', '▁accorde', '▁Proche', '▁bookmarking', '▁irréprochable', '▁spacieux', '▁phil', '▁marrant', '▁levure', '▁appart', '▁designer', '▁good', 'PORT', '▁vitesses', '▁municipales', '▁Filles', '▁Bach', '▁déçue', '▁hybride', '▁1977', '▁Forme', 'équipements', '▁fonde', '▁intermédiaires', '▁hypothèse', 'fit', 'nna', '▁rêv', 'faut', 'mons', 'EO', '▁fra', 'PF', '▁ventilateur', '▁préservation', '▁moniteur', '▁Actu', '▁trouvaient', '▁affecté', '▁Maxime', '▁magiques', '▁incontournables', 'Su', '▁ascenseur', 'envers', '▁Cab', '▁développent', '▁Brun', 'organis', 'Fa', 'ogène', 'graphique', '▁pompiers', '▁Centrale', '▁Chapitre', '▁pirate', '▁brique', 'rose', '▁baissé', 'embl', '▁=>', '▁comptant', '▁oncle', 'dress', '▁avantageux', '▁Rav', '▁instantanément', '▁dingue', '▁chasseur', '▁adéquat', '▁utilisable', '▁Exposition', '▁désordre', 'vette', '▁sonde', '▁existantes', '▁indices', 'approcher', '▁spot', '▁Mine', '▁plateaux', 'isseur', '▁bidon', '▁Guadeloupe', '▁Véritable', '▁bombarde', '▁consensus', '▁Chicago', '▁présumé', '▁Définition', '▁titulaires', '▁terriblement', '▁décalage', '▁regretter', '▁diplômés', '▁Jackson', '▁mystique', 'ovi', 'ambassade', '▁prot', '▁1974', '▁Soi', '▁discute', '▁coûteux', '▁Mesure', 'ifica', '▁génère', '▁détaillées', '▁occupation', '▁soupçon', 'Alsace', '▁amendement', '▁Tré', '▁Time', '▁Faculté', '▁bêtise', '▁compétitivité', '▁sandwich', 'immo', '▁inquiet', '▁Population', 'oter', '▁Caractéristique', 'rian', '▁injuste', '▁Papa', '▁conformes', '▁mamans', '▁intégral', '▁fu', 'édé', '▁parlez', 'ios', '▁tués', '▁AP', '▁étendu', '▁flanc', '▁Livres', 'kha', '▁éventail', 'alisée', 'ior', '▁recommencer', '▁Kon', '▁récepteur', '▁préférer', '▁globe', '▁obtenez', 'beau', '▁potes', '▁fermes', 'ngu', 'Gu', '▁ramené', 'étiquette', '▁appellent', 'ALE', 'évalu', '▁Central', '▁breton', '▁concrètes', 'urant', '▁Kate', '▁Baby', '▁attribuée', '▁acquise', 'QUI', '▁galette', '▁Spécial', '▁chasser', 'kar', 'fusion', '▁séquences', 'note', '▁confirmée', '▁chauffagiste', '▁radar', '▁contrôleur', 'inspire', '▁fièvre', '▁existait', 'bur', 'défini', 'ièvre', 'pho', '▁title', '▁Fla', '▁acide', 'assis', '▁TO', 'late', '▁Nov', 'exe', '▁aurais', '▁hétéro', 'less', '▁prédécesseur', '▁vestiaire', '▁attachant', '▁ballade', '▁précédé', 'colo', '▁Grey', '▁Savoir', 'assure', '▁définies', '▁étiquettes', '▁intellectuel', '▁vocale', '▁capitaliste', '▁noël', '▁Ski', 'iaire', '▁kilo', '▁commençant', '▁raffiné', 'tenu', 'cos', '▁mentionnés', '▁mentionne', '▁Mention', '▁Temp', '▁résumer', '▁cuisses', 'FO', '▁ombre', '▁lames', 'ashi', '▁carrefour', '▁refroidissement', '▁Poitiers', '▁recevrez', '▁modération', 'icule', '▁pénétration', 'ough', 'vain', '▁Vend', '▁Sala', '▁League', '▁servira', '▁hd', '▁croisée', 'aborder', '▁enregistrées', '▁intrigue', '▁prestataire', '▁Ul', '▁prélèvement', '▁orchestre', 'chaine', '▁éleveur', '▁tragédie', '▁censure', '▁Application', '▁surmonter', '▁multiplication', '▁imagine', '▁Ferme', 'thique', 'arriv', 'vari', '▁communale', '▁2019.', '▁Ile', '▁trousse', '15.', 'nik', 'pert', '▁théories', '▁exécuter', '▁conversations', '▁will', '▁proposera', '▁lampes', '▁Om', '▁affiches', 'entiel', 'embauche', '▁Décor', '▁silencieuse', '▁Dakar', 'onnement', '▁ménager', 'AK', '▁Kal', 'guy', '▁aéroport', 'ragon', '▁réglementaires', 'atch', 'oute', '▁déni', '▁1990,', 'gus', '▁fonte', '▁explore', '▁gén', '▁recouvre', '▁Lance', '▁Ess', '▁nike', 'kk', '▁marginal', '▁rencontrent', '▁vendeurs', '▁cycles', '▁tru', 'gain', '/10/', '▁repères', '▁vigne', '▁vital', '▁urbains', '▁Chaud', 'disant', '▁précisions', 'ordinaire', '▁alimenté', '▁attractif', '▁empêché', '▁noisette', '▁excité', 'cheur', '▁végétales', 'All', '▁circuler', '▁éventuels', '▁chutes', '▁siens', '▁entretiens', 'çois', '▁couette', 'Étienne', 'icide', 'rence', 'élégance', '▁Beaux', 'OG', 'implantation', '▁Din', '▁endommagé', '▁bcp', '▁pitié', 'entraîneur', '▁wifi', 'commande', '▁travailleur', 'tière', '▁Font', '▁envisagé', '▁parlons', '▁vives', '▁traîne', '▁Mike', 'riques', 'Pi', 'alla', 'exploitant', '▁judiciaires', 'hat', 'ANA', '▁devienne', 'hotel', 'lut', 'moins', 'héritage', 'imaginaire', '▁Amateur', '▁Lin', '▁cannabis', '▁stimulant', '▁administré', '▁remorque', '▁compenser', '▁touch', '▁teen', 'LD', '▁Alger', '▁planning', '▁améliore', '▁pirates', '▁aiguilles', '▁Pers', 'gard', 'conseil', '▁relie', '▁patiente', '▁gilet', 'qués', '▁Guil', '▁bulletins', '▁déca', 'MM', '▁Rob', '▁malaise', '▁bonnet', '▁débarque', 'terrestre', '▁revendications', '▁parcelle', '▁précède', '▁pensons', '▁CNRS', '▁Facile', 'affirmer', '▁compétent', '▁fascinant', 'avancement', '▁Jane', '▁Edit', '▁pixels', '▁peuplé', '▁annuels', 'othérapie', 'asc', '▁métropolitaine', '▁Permet', 'Archi', '▁invention', 'Occident', '▁positives', 'dimension', 'vaisselle', 'Auto', 'SL', '▁Evidemment', '▁primaires', '▁équilibrée', '▁Chevalier', '▁Heure', 'imposent', '▁Champion', 'oie', '▁chocs', 'attendait', '▁Films', 'ôle', '▁criminelle', '▁Pacifique', 'voie', '▁1°', '▁innovante', '▁SF', '▁opter', '▁Laboratoire', '▁broyage', '▁frustration', '▁singulier', '▁Traitement', '▁détresse', '▁hébergé', '▁Pinterest', '▁diesel', '▁pionnier', 'nerie', '▁athlètes', 'illac', 'éry', 'code', '▁Gil', 'arque', '▁vaisseaux', '▁1967', '▁Bank', '▁mette', '▁coloniale', 'dol', '...”', '▁livr', 'lash', '▁rangée', '▁induit', '▁résolument', 'éveille', '▁achète', '▁muscle', '▁directeurs', 'Grand', '▁fum', '▁résiste', 'intéressé', 'omni', '▁traumatisme', '▁baroque', '▁Entretien', '▁rappelant', '▁Quartier', 'inauguration', 'Allah', '▁utilité', 'elin', 'Cl', '▁restés', '▁doubles', 'feuille', '▁cohérent', '▁»...', '▁entités', '▁masses', '▁privilégie', '▁Information', '▁terreur', 'LY', '▁nés', 'accumul', '▁établis', '▁dominé', '▁prestige', '▁Adulte', '▁Libération', '▁vœux', '▁inédites', '▁tuyau', '▁sécher', '/11', 'politique', 'posit', '▁coquin', '!!!!!', 'isons', '▁disciples', '▁ferons', '▁intégrés', 'tisation', '▁Jon', 'naux', '▁spécificités', 'arr', '▁suivis', 'clos', '▁Lady', '▁Reg', 'historique', 'Alliance', '▁précaution', '▁minorité', '▁men', 'dence', '▁junior', '▁énoncé', '▁prétention', '▁nautique', 'Port', '▁tentant', 'GM', '▁Figure', '▁incidence', 'iger', '▁dentaire', '▁combattant', '▁Conseils', 'Voir', '▁repasser', 'gros', '▁congés', '▁confiée', '▁chiot', '▁contractuelle', '▁comporter', '▁affirmation', '▁candidatures', 'étendre', 'lick', '▁témoignent', 'avan', '▁assassin', '▁races', 'MG', 'gale', '▁vid', '▁distances', 'jac', '▁Thaïlande', '▁agressif', '▁Semaine', '▁mour', '▁Ref', '▁pelle', '.......', 'ffer', '▁Portrait', 'entrainement', '▁visent', 'corps', '▁offertes', 'mol', '▁SH', '▁Charente', '▁FO', 'taille', '▁avéré', 'viendront', '▁Tchat', 'olf', 'nien', 'DQ', '▁autrui', '▁gosse', '▁tienne', '2007', '▁Cyril', 'original', '▁plaindre', '▁blues', '▁Rochelle', '▁senior', '▁gays', 'affect', '▁roulette', 'SF', 'icole', 'volution', '▁Full', '▁coute', '▁compatibilité', '▁plugin', '▁aériennes', '▁Celles', '▁brûler', 'étonner', '▁Charte', 'cinq', 'astique', 'ONT', '▁paroi', 'UNESCO', '▁yaourt', '▁dégradé', '▁apparente', '▁sucrée', '▁Alt', '▁Finances', 'essa', 'bru', '▁Cross', '▁détaché', 'rène', '▁surprend', '▁PM', '▁implanté', '▁estiment', '▁Aller', '▁Intérieur', '▁ressembler', '▁Fab', '▁Jar', '▁COMP', 'ssac', 'cieuse', '▁masques', '▁conservateur', '▁tract', '▁Suivant', '▁Palestine', 'technique', '▁recevra', '▁géants', '▁intimes', 'craft', '/08/', 'mence', 'uli', 'mbre', '▁tortue', '▁inclure', 'appliquent', 'stone', 'Im', '▁GA', 'chel', '▁galère', '▁comm', '▁compléments', '▁confus', '▁mémoires', '▁innovants', '▁rédiger', '▁voy', '▁appartiennent', '▁incontestable', 'aluminium', 'Rhône', '[...]', '▁précautions', 'tio', '▁Match', '▁moque', '▁quoique', '▁Golf', '▁projecteur', '▁statu', '▁Marion', 'scope', '▁échappe', '▁import', '▁pesant', '▁Wild', '▁contradictoire', '▁prototype', '▁compassion', '▁classification', '▁Manager', 'achète', '▁Digital', '▁traitées', '▁vents', '▁revivre', '▁escaliers', '▁visé', 'impossibilité', 'ander', '▁retraités', '▁2°', '▁Univers', '▁1962', 'exportation', 'cette', 'liser', '▁sculptures', 'uler', '▁grimper', '▁Prêt', '?!', '▁ruines', 'ario', '▁GU', '▁Siège', '▁Kong', 'HD', '▁Prise', 'prendre', '▁baptisé', '▁Band', '▁parentale', '▁pesticides', '▁scolarité', '▁rassuré', '▁consenti', 'ousse', 'thy', '▁noblesse', '▁animer', 'Ri', 'rico', '▁Talon', '▁1969', '▁dresser', 'OUT', '▁exposer', '▁cuis', 'GUE', '▁amicales', 'pole', '▁réduits', 'cks', '▁Supérieur', '▁Equi', '▁serieuse', '▁balades', 'anie', '▁agrément', '▁installe', '▁Personnel', '▁bailleur', 'auteure', '1-2', 'marque', 'lock', '▁Lion', 'affirme', '▁Enfant', '▁custom', 'gés', '▁vraisemblable', '▁César', 'urne', '▁Derrière', '▁versant', '▁refroidir', '▁préavis', 'dt', '▁canalisation', '▁concrètement', '▁remplaçant', '▁XV', '▁meublé', '▁emprunté', 'ocu', 'nni', 'personnalisation', '▁Ange', '▁transferts', '▁matures', 'guerre', '▁feuillet', '▁Final', '▁Etienne', '▁vécue', '▁massages', '▁fourrure', '▁réclame', '▁signaux', 'uze', '▁Station', '▁cacao', '▁(\"', 'dot', '▁0,5', 'GS', '120', '▁Offre', '▁éteint', '▁soft', '▁devenant', '▁Arrêt', 'tous', '▁saluer', '▁Propos', 'clair', 'Bon', '▁israélienne', '▁survol', '▁unies', '▁gourmand', '▁plumes', '▁artificiel', '▁suisses', '▁ONG', '▁foutu', '▁Document', '▁plaisant', 'oirs', 'iii', 'enberg', '▁Conf', 'aste', '▁Cécile', '▁Jonathan', '▁brochure', '▁gallery', '▁altitude', '▁relaxation', '▁cata', 'inger', '▁fiers', '▁age', 'otique', '▁quotidiens', '▁socialistes', '▁interroge', '▁jugée', '▁Irak', '▁impacts', '▁itinéraire', '▁agriculture', 'oca', 'urent', 'cop', '▁influences', '▁approfondie', '▁aménagements', '▁Shin', '▁Kha', '▁borne', '▁coupée', '▁tournois', '▁radicale', 'indemnisation', 'inflammatoire', '▁jalousie', '▁mezzanine', '▁possédant', '▁évitant', '▁Sylvain', '▁apportera', 'explosion', '▁unis', 'Electric', '▁1973', '▁décennie', '▁bulles', 'lise', '▁assorti', '▁inauguré', '▁phares', 'interaction', 'pierre', '▁rente', '▁veine', '▁soulevé', '▁satisfaisant', '▁joues', '▁transformée', '▁agenda', '▁commercialisé', '▁ID', '▁electrique', '▁vêtu', '▁martyr', 'agrément', 'intimité', 'dig', 'tics', '▁Atlantique', '▁BB', '▁Bébé', '▁réconfort', 'çons', '▁transféré', 'attrait', '▁coupes', 'SR', '▁pompes', '▁entraînement', '▁naît', '▁EDF', '▁portés', '▁recense', '▁emploie', '▁communautaires', 'ébou', 'mg', '▁vendue', 'peur', '▁référencé', '▁Besoin', '▁apprenant', '▁rustique', '▁départementale', '▁enrichir', '▁équipées', 'ott', 'coration', '▁bougies', '▁Mart', 'région', 'lène', '5.000', '▁Annuaire', '▁recruter', 'FL', '▁satisfaite', '▁communal', '▁regroupant', '▁connecteur', 'issaient', 'tum', '▁subsiste', '▁incertain', '▁Chapelle', 'try', '▁suppli', '▁LG', 'ologues', '▁voyageur', 'assureur', '▁découvrirez', '▁Watch', 'link', '▁aîné', 'enlèvement', 'emporte', '▁administrateurs', 'lir', '▁appuyer', 'étouff', '▁1200', 'américaine', '▁compression', '▁pénis', '▁geek', 'expérimentation', 'Yves', '▁visée', '▁préoccupation', '▁marchandise', '▁regardait', '▁dérivé', '▁employée', 'sel', '▁réveillé', 'Be', '▁poussent', '▁Tes', 'NS', 'Ali', '▁Link', 'LF', '▁plongé', '▁serieux', 'KO', '▁(24', 'onnais', '▁contrôlée', 'lerie', '▁remédier', '▁séduisant', '▁hésité', '▁Languedoc', 'excitation', '[5]', '▁cartons', '▁soumet', '▁loge', '▁délice', '▁Pap', 'viendra', '▁durables', 'tac', '▁touchent', '▁livrés', '▁Poli', '▁Intégr', '▁Cop', '▁over', '▁crypto', '▁remplis', '▁loups', 'observer', '▁enfer', '▁pertinent', '▁Brand', '▁dépourvu', '▁recharger', '/20', '▁Notez', '▁risqué', '▁mènent', '▁chienne', 'oût', 'voit', '▁1971', '▁chau', 'head', '▁coaching', '▁épée', '▁coutume', '▁fixés', 'lone', '▁perf', '▁biologie', '▁bot', '▁sourcils', 'chère', '▁Fillon', '▁brésilien', '▁éternel', '▁offensive', 'rill', 'copie', 'aco', '250', '=1', '▁convictions', '▁LCD', '▁taillé', '▁Global', '▁assimilé', '▁émouvant', '▁Numéro', '▁demandons', '▁dénommé', '▁candidate', '▁turque', 'fé', '▁Coque', '▁obscur', 'êch', '▁fantasme', '▁Tab', '▁Août', '▁sms', 'fff', '▁minière', '▁Vari', '▁Morgan', 'emport', '▁exceptionnelles', '▁nano', '▁tan', '▁fre', 'éléphant', '▁flexibilité', '▁Mettez', '▁chariot', '▁récupère', 'App', '▁professions', 'ordonnance', '▁enterré', 'humeur', 'igni', 'acquéreur', '▁cran', '▁puissances', '▁Jim', 'miné', '▁habitable', '▁embarque', '▁dys', '30)', '▁déployé', '▁flo', 'accorder', '▁câlin', '▁justification', '▁conviendra', '▁officier', '▁Départ', 'artisan', '▁Guer', '▁admet', '▁indiquent', 'DU', '▁localiser', '▁Dream', '▁attentivement', '▁Metal', 'rées', '▁Afficher', 'gna', 'ualité', '▁détenteur', '▁privilège', '▁ext', '▁préférences', 'robe', '▁Ép', '▁détachées', '▁dirai', '▁Cent', '001', '▁hôpital', '▁handicapés', '▁réagi', '▁arm', '▁Printemps', '▁liquidation', '▁excitant', 'imer', '▁Times', '▁pédale', '▁reconnais', '▁fournissent', '▁Key', '▁délibération', 'encadrement', '▁Rat', '▁CAN', '▁Résultats', 'ector', '▁comprimé', '▁baies', '▁impliqués', '▁plates', '▁Leroy', '▁surprenante', 'coupe', '▁Lind', 'OY', 'Ass', '▁Mol', '▁francaise', 'ranger', '▁Grands', '▁tueur', 'zel', '▁Assemblée', '▁exploité', '▁exhaustive', '▁triomphe', '▁rectification', '▁Lettres', 'rendu', '▁retrouvés', '▁soja', '▁rater', '▁Neuf', '▁copines', '▁Havre', 'efforce', 'home', '▁sommets', '▁accueillis', 'signe', 'obo', '▁bur', '▁Ry', 'Sou', '▁call', 'antenne', '▁aéro', 'finale', '▁bénévole', 'iana', '▁remont', 'hir', '▁Gel', 'trée', '▁tropicale', '▁courbes', '▁Rot', 'contract', 'LU', '▁TOUT', 'oxyde', 'lav', '▁mandataire', '▁Casablanca', '▁réciproque', '▁optimiste', '▁cursus', 'astrologie', '▁Compar', '▁admettre', '▁sondages', '▁repousser', '▁soutiennent', '▁concepteur', 'qual', '▁vase', '▁inconnus', 'agenda', '▁Manu', '▁copies', 'texte', '▁Ier', '▁régiment', '▁Yann', '▁protagonistes', '▁jouait', '▁détecteur', '▁ring', '▁Clar', '▁mentionner', 'bia', '▁colonies', 'armement', '▁postal', '▁privilégiée', 'gion', '▁portées', '▁opéré', '▁Danemark', '▁prestigieuse', '▁soyons', '▁photographes', '▁Séjour', '▁humble', '▁bancs', '▁accompagnent', '▁vieil', '▁cloison', '▁cale', '▁bâ', '▁souscription', '▁Lionel', '▁plaira', '▁litre', '▁panel', '▁créatifs', '▁apte', '▁périphérique', '▁Nicole', '▁conventionnelle', '▁demandeur', 'agression', '▁devise', '▁creuser', '▁théoriques', '▁indication', '▁mèche', '▁TA', '▁améliorations', 'cente', 'ONNE', '▁chœur', '▁vulnérabilité', 'anxiété', '▁trempé', '▁saturation', '▁sonne', '▁Francisco', '▁pinceau', '▁motivations', 'actuelle', 'effondrement', '▁Pon', '▁concrète', 'Atelier', 'interview', '▁(30', 'espérance', '▁Stock', '▁sors', 'ouin', '▁associe', '▁progresse', '▁dialogues', '▁cialis', '▁désastre', '▁fonder', '▁reviendra', '▁Ny', '▁écrites', '▁fix', '▁pourrions', '▁alternatif', 'artifice', '▁bruyant', '▁emmené', '▁Fermeture', '▁mouillé', '▁Poutine', '▁filières', '▁Montagne', 'Emmanuel', '▁infections', '▁rendait', 'parti', '▁qualifie', '▁questionnement', '▁mural', '▁commenter', 'emi', 'neux', '▁Bab', '▁confection', 'more', 'amen', '▁injection', 'aler', '▁Assurance', '▁déclencher', '▁instinct', '▁arrivait', '▁fiscaux', '▁immunitaire', '▁nostalgie', '▁installateur', '▁Trésor', '▁Thèmes', '▁Résistance', 'urine', '▁coudre', '▁gourmandise', '▁attractions', '▁firent', '▁biscuits', '▁alarme', '▁Fall', '▁suffira', '▁adolescente', '▁Shar', '▁parts', '▁SN', '▁communion', '▁MON', '▁flic', 'Tra', '▁majoritaire', 'arret', 'NU', '▁Not', '▁Eva', '▁von', '▁automobiles', '▁Etant', '▁tomba', '▁éta', '▁Environ', '▁Impossible', '▁abattu', '▁mondiaux', '▁Germain', 'He', 'exactitude', 'rov', '▁polaire', '▁orientée', '▁recensement', 'miner', '▁homo', '▁criminels', '▁olympique', 'rolles', '▁),', 'Tech', '▁rondes', '▁Coco', '▁balise', 'guette', 'rang', 'gour', '▁rp', '▁Gilbert', '▁tournent', '▁bénéficiant', 'pop', '▁remplit', 'FF', '▁courageux', '▁multiplier', 'udo', 'Egypte', '▁réputée', '▁Cougar', '▁esp', '▁réalisme', '▁Terrain', '▁relèvent', '▁révèlent', 'juste', 'Éternel', '▁Mille', '▁range', '▁OP', '▁Régional', 'rousse', 'fille', 'uke', '▁restrictions', 'Bi', '▁Education', '▁Bulletin', 'mentation', '▁modernisation', '▁Régime', '▁réhabilitation', '▁profitent', '▁IS', '▁oiseau', '▁régie', '▁fromages', '▁sponsor', '▁arnaque', '▁Chev', 'iba', '▁Log', '▁brand', '▁compare', '▁teintes', '▁perdus', '▁gl', 'icône', '▁avatar', '▁profitant', 'ône', '▁Oct', 'hia', '▁vider', '▁lointaine', '▁Hay', 'professionnelle', '▁drap', 'dication', '▁cost', '▁Breton', '▁transmises', '▁ratio', '▁doctorat', 'élévation', '▁dauphin', '▁fellation', '▁Conçu', '▁loue', 'affectation', 'odique', '▁GRATUIT', '▁Bert', '▁environnant', 'ushi', '▁esclaves', 'auront', 'path', '▁peintres', '▁sourd', 'atin', 'lang', '▁réglementaire', 'joint', 'quand', '▁déploie', '▁rebelle', '▁institutionnel', 'évit', '▁Vatican', '▁requiert', '▁poursuivant', '▁Chrome', '▁Virginie', '▁septième', '▁interactive', '▁THE', 'lyse', 'pli', '▁correspondre', '▁Langue', '▁Job', '▁témoigner', '▁dessinateur', 'optique', '▁rando', '▁libère', 'rité', 'bid', '▁expérimentés', '▁rejoign', '▁nana', '▁hameau', 'électro', '233', '▁créées', '▁Unis', '▁Bande', '▁cadet', '▁prières', 'zzo', '▁1998,', '▁renvoyé', 'couvert', 'absorption', '▁Marrakech', '▁Norvège', '▁rectangulaire', '▁allusion', '▁périple', '▁retient', 'master', '▁cochonne', '▁Colomb', 'Comment', '▁boitier', '▁platine', '▁Soirée', 'tral', '▁architectes', 'excuse', '▁obtenue', '▁luttes', '▁have', 'rencontres', 'Bar', '▁Bet', 'envoie', '▁éventuelles', '▁conducteurs', '▁payés', 'Pr', '▁......', '▁associer', 'atti', '▁serviette', '▁évalué', '▁break', '▁Fal', '▁PP', '▁nationaliste', '▁Mélenchon', '▁céleste', '▁diocèse', '▁écrasé', '▁gastronomique', '▁déplore', 'gnol', '▁ravage', '▁aimable', '▁Hongrie', '▁achetez', '▁survenu', '▁accumulé', '▁1999,', '▁identifiant', '▁Vir', 'arbitre', '▁soudainement', '▁Vice', '▁clique', '▁war', 'aviation', 'Ferrand', '▁Ross', '▁DÉ', 'acé', 'NF', '▁Karl', '▁publiquement', '▁discut', 'IRE', '▁Mondiale', '▁ferma', 'uka', '▁excuses', '▁paquets', 'KA', '▁alimenter', '▁Mala', 'anecdote', '▁syndical', 'plo', '▁Futur', 'made', '▁confession', '▁corporel', '▁revu', '▁écarté', 'ful', '▁AB', '▁fourchette', 'dits', 'assou', 'Laurent', '▁fixes', 'VER', '▁Pier', '▁colonial', 'lingue', 'usé', '▁prononcée', '▁typ', 'xie', 'PN', '▁simplifier', 'atsu', '▁patch', '▁imposant', '▁bascule', '▁rosé', '▁dévers', '▁mails', '▁consomme', '▁ténèbres', '▁cicatrice', '▁participatif', '▁made', 'dien', 'araignée', '▁intégrant', '▁sociologie', '▁compacte', '▁rafraîchissant', '▁désespoir', '▁Pékin', '▁Angers', '▁courtier', '▁scénariste', '▁Online', '▁situer', 'illustration', '▁CF', 'quent', '▁Nick', '▁Roc', '▁pleure', '▁Mul', '▁CB', 'vide', '▁Ans', '▁endormi', '▁trouv', '▁Capacité', '▁ennuyé', '▁préliminaire', '▁percussion', 'étoiles', '▁grandiose', '▁attachée', '▁tutelle', '▁sympas', '▁échéance', '▁heurt', 'friend', '▁tt', '▁Merlin', '▁1963', '▁remplacée', 'anes', '▁décrocher', '▁agrémenté', 'Orléans', '▁zen', '▁éventuel', '▁Matthieu', '▁boxe', '▁élevage', '▁RÉ', '▁Résidence', 'brou', 'das', '▁Ouvert', 'EDI', '▁Cout', 'astre', 'ally', 'ACE', '▁inde', 'URE', 'emblée', 'Ju', 'arbitrage', '▁peluche', '▁marquage', '▁médium', '▁marseille', 'GR', 'igi', 'produit', 'strong', 'gmail', 'nature', '▁observation', '▁extr', 'OLE', '▁aire', '▁Tunis', '▁Porn', '▁blanchi', '▁consignes', '▁collines', '▁ticket', 'diction', 'arros', '▁piliers', '▁enseigner', '▁‘’', 'kt', '▁forestier', '▁vinyle', '▁impérativement', '▁reçois', '▁SEO', '▁Alpha', 'bby', '▁Étude', '▁invitée', 'À', 'optimiser', '▁Gaza', '▁perçue', 'uti', '▁entité', '▁Solutions', '▁critiqué', '▁réclamer', '▁doses', 'ush', 'linge', 'ambo', '▁Chamb', '▁protestant', '▁Ciel', '▁joueuse', '▁FE', '▁Quelqu', 'TON', '▁vigilant', '▁velours', '▁prairie', '▁démographique', 'hospitalisation', '▁vaincre', '▁retouche', '▁menthe', '▁sommaire', 'isait', '▁ornement', '▁Rey', 'ARC', '▁imprimés', 'zac', '▁urbaines', 'émé', '▁Nation', '▁échantillon', '▁3,5', '▁om', '▁chanté', '▁colorés', '▁taire', '▁intenses', '▁mél', 'DO', '▁varié', 'partement', 'érée', '▁signale', 'comment', 'roche', '▁cheminement', 'ANG', '▁automatisé', 'onnier', '▁imposée', '▁confond', 'hôte', '▁Mail', '▁argenté', '▁présentera', '▁was', '▁Martinique', '▁directives', 'laine', '▁cot', 'inet', '▁distribuer', 'pose', '▁archi', 'cycle', '▁tronc', '▁rends', 'éolien', '▁flammes', '▁graphisme', 'éba', '▁commencement', '▁aisé', 'ties', '▁examiner', '▁Challenge', '▁recyclé', '▁compliment', '▁convenir', '▁interrogations', '▁comparateur', 'FT', '▁élégance', '▁horizontale', '▁BOU', 'ope', '▁Classique', '▁équipage', '▁contesté', '▁dépôts', 'première', '▁Église', 'video', 'autrui', '▁couvrant', 'mani', '▁rubriques', '▁positionner', '▁sembler', '▁Press', 'affronter', 'iculture', 'ject', '▁Act', '▁appropriée', '▁sabot', '▁comédien', 'assin', 'optim', '▁recherchent', '▁consultations', '▁Cercle', '▁grippe', '▁posées', '▁entrepris', '0000', '▁Gue', '▁arrivera', '▁Pérou', '▁augmentent', '▁perpétu', '▁programmé', '▁Dub', '▁salé', '▁(25', 'cid', '▁commerçant', 'rave', 'audace', '▁dangereuses', '▁dollar', '▁Coul', '▁repère', '▁Colle', '▁mentir', '▁kar', '▁anomalie', '▁march', '▁confrontés', '▁vivait', '▁magicien', '▁musicaux', '▁compétents', 'train', '▁charité', '▁sûreté', '▁exploser', 'animateur', '▁Continue', '▁prolonge', 'Etienne', 'mina', '▁emplacements', '▁syndic', 'visible', 'oreilles', '▁COM', '▁Civil', '▁décorée', '▁justesse', 'apporte', '▁exercé', '▁messieurs', '▁nécessitant', '▁utilitaire', '▁vulgaire', 'endurance', '▁arr', 'round', '▁prévision', 'itter', 'aph', '▁BI', '▁1965', 'GP', '▁arrêts', '▁débattre', '▁égalité', 'étudier', '▁Porto', '▁franche', '▁media', '▁Fox', 'TRA', '▁ress', '▁fonce', '▁nutrition', '▁ze', 'Italien', '▁plais', '▁rejette', '▁souffert', '▁incarné', '▁jambon', '▁allumé', '▁téléphonie', '▁Concept', '▁Local', '▁Ouverture', '▁voeux', 'Ra', 'ificateur', 'zio', '▁valu', '▁durablement', '▁habilité', '▁couloirs', '▁filets', '▁chères', '▁Moteur', '▁humides', 'Comté', '▁DEL', '▁carence', '▁Lili', '▁fantasmes', 'attendez', '▁suggestion', '140', 'ffle', 'trois', 'iac', '▁combustible', '▁comprenait', '▁encouragé', '▁rapproché', '▁talentueux', '▁Véronique', '▁(21', 'forum', '▁lycéens', 'ÉE', '▁venons', 'OO', '▁torse', 'oper', '▁dégagé', 'édifice', '▁présentations', '▁renouvelé', '▁pénalité', '▁administrations', '▁Nou', 'otage', '▁allie', '▁apportées', '▁remerciement', 'communications', '▁coulisses', '▁inévitable', 'ulf', '▁Blo', '▁passager', '▁circon', '▁lunaire', 'entraîner', 'grip', '▁croyant', '▁transporté', 'fils', 'ORE', 'Mu', '▁Prophète', '▁guitariste', '▁prématuré', '▁London', '▁délivrance', '▁sauvetage', '▁laïcité', '▁Photographie', '▁Word', '▁Terr', 'orial', '▁recherchons', '▁saints', '▁emprunter', 'cque', '▁établit', '▁journalier', '▁cafés', 'KI', '▁chômeurs', '▁volée', '▁cylindre', '▁requin', '▁lisez', '▁carottes', '▁deviner', 'orienter', 'loi', '▁piscines', '▁polyvalent', 'OND', 'enregistrer', 'even', '▁astuce', '▁basque', '▁piles', '▁Mut', 'DG', '▁prolongée', '▁apparait', '▁rousse', '▁empreinte', '▁full', '▁TE', 'igan', '▁abandon', '▁respectueuse', 'base', '▁Troisième', '▁Finance', '▁Bisous', '▁cerner', '▁invent', '▁mettrai', 'rim', '▁»),', '▁Bin', 'Autre', '▁regorge', '▁tee', '▁!),', '▁auxiliaire', '▁majeures', '▁Vern', '▁Hop', 'exil', 'BM', 'appellation', 'inquiétude', '????', '▁pointu', '▁impatient', '▁revenue', 'lag', '▁varient', 'oke', 'historien', '▁Demain', '▁géniale', '▁Vendée', '▁pistolet', 'incarnation', 'échappe', '▁Alli', 'vry', '▁escale', '▁boulangerie', '▁salariale', '▁reprenant', '▁1/', 'reuil', '▁VR', '▁documentaires', '▁chaton', '▁inspirant', '▁25%', '▁exposées', '▁briques', 'jusqu', 'fan', '▁rappellent', '▁actualité', '▁consciente', '▁Mam', 'dex', 'rp', '▁vigneron', '▁fondamentales', 'LIER', 'rache', '▁cartouche', '▁Parallèlement', '▁lucratif', '▁sympathie', '▁aromatique', '▁granit', '▁engendre', '▁prothèse', '▁imprimée', '▁pires', '▁Arrivé', '▁diplômé', '▁chevelure', '▁diplômes', '▁Stra', '▁fréquences', '▁XL', '▁alpin', 'mac', 'als', '▁résistante', '▁solliciter', 'monnaie', 'ulu', '▁résonne', '▁avoue', 'oublions', 'tti', '▁pacte', '▁Bak', '▁recouverte', 'jeux', '▁pressions', 'uda', '▁engagées', '▁Palm', '▁Comm', 'imm', 'çait', '▁maille', '▁liquides', '▁camarade', 'raft', 'emprise', '▁tot', '▁chaussettes', '▁convoqué', '▁Boulogne', '▁coquille', '▁Forêt', '▁hôte', 'polis', '▁souscrire', '▁continuation', '▁Games', '▁africaines', 'analyser', '▁directs', '▁arret', 'dg', '▁vitres', '▁gode', '▁dentiste', 'service', '▁assume', 'TEL', 'libre', '▁Marg', 'gur', 'plé', '▁105', '▁DG', '▁menant', '▁Gauche', '▁Propriété', '▁décisif', '▁insupportable', 'abondance', '▁fréquentes', '▁craqué', 'bli', '▁Aquitaine', 'herb', 'athlon', '▁rapporter', '▁AT', '▁méritent', 'med', 'tell', '▁distingué', '▁reportages', 'rip', '▁purée', '▁cultiver', '5€', '▁souri', 'chef', 'EB', '▁Laurence', '▁Jeff', '▁vibrations', '▁bre', 'abonner', '▁départementales', 'ticul', '▁berger', 'tv', 'interrogation', '▁pittoresque', '▁vengeance', '▁bambou', '▁croyais', '▁rayures', '▁lobby', '▁improbable', 'print', '▁Nathan', '▁enregistrements', '▁prisonnier', '▁exceptionnels', '▁potentielle', 'archipel', '▁Huile', '▁vagin', 'oku', 'opposer', 'organise', 'LAN', '▁locataires', '▁intégralement', '▁Menu', '▁conçues', '▁Option', '▁drogues', 'Photo', 'avança', '▁algérienne', '▁partit', '▁intégr', 'ORD', '▁dépendent', '▁relier', '▁mous', '▁Nova', 'flé', '▁press', '▁VIH', '▁audition', '▁Work', '▁vitale', '▁rémunéré', '▁circonstance', '▁christianisme', '▁fracture', '▁Animation', '▁consistant', '▁absurde', '▁french', '▁Euros', '▁tuyaux', '▁demandais', '▁attestation', '▁Défi', '▁horizons', 'icat', 'cran', 'uci', '▁surnommé', '▁critiquer', 'adversaire', 'investisseur', 'rif', '▁conditionné', '▁Wiki', '▁financièrement', '▁eh', '▁brodé', '▁vilain', '▁améliorée', '▁perdant', '▁Patrice', '▁Marco', '▁créa', 'couvrez', '▁synthé', '▁matérielle', '°2', 'USS', 'lope', '▁considérées', '▁bénéficiaire', '▁déployer', '▁prolongation', '▁Interieur', 'anciens', '▁augmentée', '▁favorite', '▁recourir', '▁battus', '▁soulagement', '▁Vivre', 'obscurité', 'volt', '▁maudit', 'lik', 'Irlande', 'Pyrénées', '▁rajoute', '▁appro', 'implication', '▁Wil', 'CES', '▁élaborer', 'lard', '▁QUE', '▁teinté', '▁tracteur', 'ALI', '▁pli', '▁conviennent', '▁menuiserie', '▁spiritualité', '▁Fais', 'expériences', '▁EX', '▁detail', '▁habitués', '▁batte', 'DES', '▁wo', 'iris', '▁changeant', 'host', 'anga', '?\"', 'méri', '▁Sym', 'oscope', 'ANC', '▁Raphaël', '▁aviez', '▁gif', '▁zoo', '▁model', 'étudiants', '▁mol', '▁choqué', '▁Étant', '▁programmée', '▁intact', '▁musclé', 'bab', '000€', '▁XXX', '▁évaluations', 'issime', '▁reg', '▁fragiles', 'porter', 'Ambassade', '▁ergonomique', '▁disputé', 'user', '▁Division', '▁Logement', 'rug', '▁accroche', '▁commodités', '▁tenta', '▁desquels', '▁fermement', 'frère', 'donne', 'fuge', 'élio', 'héri', '▁reviendrai', '▁billes', '▁performants', 'dji', '▁duel', '▁retraites', '▁refusent', '▁Chili', '▁Fabien', 'arisme', '▁nullement', 'oser', 'town', '▁icônes', 'pen', 'LP', '▁Anthony', '▁carrosserie', '▁téléspectateurs', '▁gêné', '▁précieuses', 'oré', '▁culinaire', '▁citoyenneté', 'lisme', '▁State', '▁pureté', '▁pol', '▁dépassement', '▁Tél', '▁4000', '▁IR', 'abandonner', '▁régi', 'lian', '▁Pie', 'inflige', '▁gomme', '▁éloignée', 'aile', 'éché', 'accorde', '▁enregistrée', '▁like', 'film', '▁Rh', '▁Eve', '▁1900', 'LOG', '▁Confi', '▁American', '▁pénètre', '▁scooter', '▁Historique', '▁Cabinet', '▁cardinal', '▁catalan', '▁buzz', 'WA', '▁sauront', '▁ouvrier', '▁exécut', 'ipp', '▁bonhomme', 'accepta', '▁1966', 'chaud', '▁tremblement', 'velopp', 'bian', '▁Utilisation', '▁vibrant', '▁vaccination', 'ancy', '▁réalités', 'ref', '▁aille', 'uan', 'inde', '▁avertissement', 'nalité', 'ân', '▁respectifs', '▁bonbons', '▁entrent', '▁far', 'lance', '▁pret', 'vrier', 'TRI', '▁voisines', '▁Méri', '▁bin', '▁Introduction', '▁marathon', '▁municipaux', '▁diagnostique', '▁mariages', '▁particularités', '▁Bran', 'foli', '▁chape', '▁muse', 'nade', '▁ambiante', '▁capter', '▁dam', '▁correspondante', '▁mâles', '▁verrou', 'parents', '▁rabais', '▁interruption', 'expansion', '▁drama', 'adopter', '▁représentés', '▁apparue', '▁encadré', '▁crucial', '▁croisement', '▁mdr', '▁divorcé', '▁traducteur', 'ignorance', '▁fresque', 'hypnose', 'évier', 'Environnement', '▁15%', '▁modélisation', '▁trouvons', 'IES', 'urie', '▁Brian', 'franc', '▁conventionnel', '▁Ash', 'sident', '▁séparément', '▁brille', '▁Gé', 'pris', 'plic', '▁distant', '▁Sab', '▁toiles', '▁bits', 'rrr', '▁inattendu', 'IME', '▁achevé', 'igh', '▁Emb', '▁draps', '▁poutre', '▁Aqua', '▁Coll', 'archives', 'cession', 'pur', 'oom', '▁préparée', '▁Kin', 'immatriculation', '▁Limoges', '▁Achetez', '▁Boîte', '▁salue', 'roit', '▁leadership', '▁économiser', '▁adhésion', '▁jadis', '▁mélodie', '▁Joël', 'mbour', '▁bad', '▁Potter', '▁Suc', '▁ballons', '▁Uni', '▁expérimentale', '▁convoi', '▁enchanté', '20)', 'wo', 'ignac', '▁manifestement', '▁risquer', 'RF', '▁variantes', 'escence', '▁interdiction', 'NT', '▁culpabilité', '▁délinquance', '▁sch', 'Roussillon', '▁civique', '▁disposons', '▁Préparation', '▁Fur', '▁prêté', '▁défenseurs', '▁paraissent', '▁nickel', 'sure', 'ncé', 'iode', '▁expliquant', 'AJ', 'hang', 'cure', '▁textures', 'mari', '110', 'gno', '▁North', '▁désaccord', '▁qualit', '▁literie', '▁112', '▁Gour', 'Information', '▁soulève', 'marine', '▁inquiète', '▁accueillent', '▁négatives', 'dix', '▁Vér', '▁dÃ', 'érien', '▁illustration', '▁veines', '▁soute', '▁ste', '▁cœurs', '▁transformations', '▁multiple', '▁Wei', '▁Toyota', '▁biblique', '▁mythologie', '▁zombie', '▁sanctuaire', '▁étui', '▁renouveau', '▁Nobel', '▁durci', '▁anglo', '▁montants', '▁Papier', '▁bond', '▁recommandation', '▁tomate', '▁occasionnelle', 'noy', 'ordi', '▁indemnité', 'nium', '▁Beauté', '▁coucou', '▁salée', '▁branle', 'respect', '▁connecte', 'itinéraire', 'Autriche', '▁extraordinaires', 'Calais', 'impulsion', '▁guidé', 'mai', '▁Arrêté', 'enlever', 'BB', 'lines', 'donner', 'bec', 'moteur', 'store', 'xo', '▁Territoire', 'baud', 'MES', '▁Léo', '▁progressif', '▁créneau', '▁Extra', 'rik', '▁rampe', '▁Niger', '▁exotique', '▁alias', '▁lacs', 'drome', '▁tendue', '▁évêques', '▁déesse', '▁habillé', 'phonie', '▁Matière', 'alys', '▁peines', '▁close', 'Anim', '▁attribuer', '▁opposée', '▁estimations', '▁libertines', '▁contours', '▁haie', '▁Tarn', '▁***', 'loup', '▁châteaux', '▁fassent', 'appe', '▁Journées', '▁reflets', '▁parure', '▁jure', 'organe', '▁visitez', 'wikipedia', '▁bénédiction', '▁compatriote', '▁hydratant', '▁chauffant', '▁décisive', '▁Numérique', '▁caramel', '▁symbolise', '▁MB', '▁nuire', '▁South', 'FIN', '▁emballage', '▁Kou', '▁accélérer', '▁pleines', '▁Hand', '▁Auvergne', '▁patrie', '▁1,2', '▁salué', '▁70%', '▁Fly', 'archi', '▁Kas', '▁Cup', 'OV', '▁passerelle', '▁rencontrez', '▁ordinaires', '▁morales', 'Ph', '▁grimpe', '▁perdent', '▁Chou', '▁asso', '▁Pet', '▁zoom', '▁dort', 'incertitude', 'accusation', '▁pronostic', 'éternité', '▁Magasin', 'quence', '▁barbare', '▁jumeaux', '▁autochtones', '▁enchères', '▁Crois', '▁pluies', '▁raccordement', '0,00', '▁1958', '▁gravé', '▁attrayant', '▁cliché', '▁annulé', '▁90%', 'obi', 'TY', '▁soeurs', '▁Domin', '▁conteste', 'nomique', 'attentat', '▁Tech', '▁disco', '▁Bett', '▁Tele', '▁1.5', '▁cloud', 'étoile', '▁Kor', '▁fenetre', '▁Wallonie', '▁rappeur', '▁expédié', '▁ajusté', 'VM', 'ving', 'HS', '▁brave', '▁virement', '▁autonomes', '▁indirectement', '▁sim', '▁percer', '▁Pris', 'shirts', '▁amical', '▁lie', '▁échantillons', '▁planifier', '▁Intel', '▁tumeur', '▁boites', '▁Vélo', 'espere', '▁proportions', '▁créance', '▁souscrit', '▁projections', '▁relié', 'jean', 'tting', '▁éclairer', '▁Mega', '[3]', '▁Profil', '▁Housse', '▁Back', 'octroi', '▁1918', 'agriculteur', 'ombr', '190', 'choir', '▁Premium', '▁photovoltaïque', '▁téléviseur', '/11/2018', '▁premium', '▁déroulent', '▁jeûne', '▁équivalente', '▁Paix', 'étrange', '▁motos', 'IZ', 'just', '▁pairs', '▁Départemental', 'pag', '▁vestiges', '▁Ras', '▁Kra', '▁hypothèses', '▁Hautes', '▁attendez', 'eter', 'administrateur', '▁soignée', '▁Canon', 'gaz', 'ffin', 'avenue', '▁violents', '▁forgé', 'BRE', 'épha', '10)', 'tration', '▁nobles', 'inflammation', '▁sécheresse', '▁inversé', '▁Européen', '▁huitième', '▁bordel', '▁beurette', '▁inconvénients', '▁startup', '▁soignant', '▁plier', '▁SARL', '▁Lim', '▁fast', '▁empire', '▁acco', '▁exprimée', 'AME', '▁personnalisable', 'ariat', '▁parisiens', '▁toxiques', '▁Clair', '▁actives', 'III', 'sseurs', 'assez', '▁ptit', '▁bor', 'oop', '▁formant', '▁garantis', '▁obligés', 'assistant', '▁audit', 'mid', '▁ortho', '▁soul', '▁Veille', 'argue', 'évidence', 'intervalle', '▁confondu', '▁Conservatoire', '▁gentiment', '▁Avenue', '▁centenaire', '▁hardcore', '▁vidange', '▁clown', '▁Standard', '▁Silver', 'enveloppe', 'nif', '▁Renaud', 'Per', '▁Road', '▁espoirs', '▁Relations', '▁booster', '▁nain', '▁rocher', 'jon', '▁finement', 'habille', 'DER', '▁Abd', '▁séparée', '▁modele', '▁Pac', 'oya', 'MAR', '▁élaborée', '▁MC', '▁cône', '▁Entreprises', '▁désolée', '▁Joy', '▁moindres', '1000', '▁horloge', '▁Ingrédients', '▁douzaine', '▁déguisement', '▁éligible', '▁interpellé', '▁Chronique', '▁embout', '▁découle', 'ouze', '▁politiciens', '▁chip', '▁cassation', 'ifique', '▁esthétiques', '▁concessionnaire', 'importation', '▁emballé', '▁récolter', 'approprier', '▁comédiens', '▁Major', 'rge', '▁Fay', '▁raffinée', '▁figurines', '▁établies', '▁avr', '▁orage', '▁DD', 'ennuie', '▁Clé', 'Article', 'bras', '▁collecter', 'hâ', '▁pes', 'trine', 'expulsion', 'indication', 'ouvert', 'hydr', '▁cousine', '▁maitrise', '__', '▁Carrefour', '▁impliquant', '▁permalien', '▁Garantie', '▁charpente', '▁bûche', '▁vanne', '▁paraissait', '▁consacrés', 'ameublement', '▁subissent', '▁oignons', '▁soude', 'clus', '▁Géo', '▁Chau', 'jeu', 'près', '▁Rosa', '▁durs', '▁Williams', '▁conjointement', '▁balai', '▁[2]', '▁espion', '▁historiens', '▁XI', '▁vulnérables', 'affrontement', '▁Activités', 'ajoutent', '▁Rap', '▁souf', '▁soigne', 'veux', '▁2005.', 'Avec', '▁Maz', '▁détourner', 'oreiller', '▁exotiques', '▁veau', '▁freins', 'eder', 'lop', 'Ç', 'Zélande', '▁générateur', '▁paradoxe', '▁répertorié', '▁affichant', '▁Apprendre', '▁géométrique', '▁jumelle', '▁Occident', '▁natation', '▁séminaires', '▁allergique', '▁oral', '▁2006.', '▁ten', '▁poss', '▁curé', '▁psychologiques', '▁sabre', '▁serviettes', '▁Champs', 'elec', '▁SER', '▁organisent', '▁inciter', '▁Por', 'ssen', '▁pathologies', '▁scie', '▁Ath', 'lm', 'lys', '▁Course', '▁préparés', '▁parcelles', '▁HTML', '▁dédicace', '▁facturé', '▁éolienne', '▁bémol', '▁potager', '▁Autour', '▁0,2', 'route', '▁réactivité', 'excellent', '▁Soci', 'dri', '▁obsession', '▁CCI', '▁occupés', 'PU', '▁Spécialiste', '▁fragment', 'geant', 'chons', '▁pardonner', '▁Night', '▁affichage', '▁usées', 'inconnu', 'York', '▁administrateur', 'vient', 'égout', 'ancre', '▁(22', 'alistes', '▁Fini', '▁Had', '▁promu', 'ieuse', '▁collabore', '▁domin', '▁commenté', 'amende', '▁entrainement', '▁cassée', 'environnementaux', '▁conquérir', '▁perturbé', '▁foncier', '▁Ikea', '▁sécuriser', '▁successives', '▁envoyez', '▁lâché', '▁Pied', '▁traitée', '▁colonel', '▁Poul', '▁Bottes', 'dorf', '▁exclusivité', 'AUT', 'OK', 'achi', 'URSS', '▁décidée', '▁Dead', '▁priver', '▁ombres', 'èmes', 'effectif', 'ugg', '▁Juge', 'explorer', '▁répandu', '▁Faso', '▁Doté', 'Irak', 'cru', '▁grandit', '▁vitrée', '▁NON', '▁lycées', '▁fondements', 'gat', '▁Made', 'jam', 'Voi', '▁ose', '▁équestre', '▁Stephen', '▁servait', '▁scanner', '▁étiez', '▁aspire', '▁brute', '▁mensonges', '▁Racing', '▁reprit', '▁provoquant', 'abîme', '▁Police', 'ustin', '▁onglet', 'ruption', 'design', '▁emmener', '▁Fed', 'tice', '▁chier', '▁herbe', '▁arrêtée', '▁fraises', '▁célébrité', '▁supposé', '▁girls', 'excellents', '▁affectée', '▁championnats', 'zza', 'cab', '▁finira', '▁périphériques', 'gul', '▁Bush', '▁DH', 'pod', 'aq', '▁référent', '▁clefs', '▁imagin', '▁Brigitte', '▁judicieux', '▁XVIIe', '▁parviennent', '▁tiroirs', 'prend', '▁acharné', 'Isère', '▁torrent', '▁chirurgicale', '▁accusations', '▁Record', '▁ébène', '/12', '▁rechange', '▁partagés', 'arbres', '▁freinage', 'dynami', '▁Rab', '▁contemporaines', '▁passionnante', 'ignore', '▁Xi', '▁60%', '▁spécificité', '▁guerrier', '▁paires', '▁peser', '▁étranges', 'accomplissement', '▁palme', 'âmes', '▁Bir', '▁plaintes', 'Baptiste', 'épine', 'anus', 'Char', 'API', '▁incite', '▁répét', '▁nuls', '▁Tran', 'abattre', '.________', '▁WordPress', '▁festive', '▁manifesté', '▁primes', '▁rompre', '▁agi', '▁Section', '▁machin', '▁échoué', '▁requises', '▁devance', '▁cercles', 'OIR', '▁Ryan', '▁Chal', '▁coiffeur', '▁appelez', '▁limitées', '▁work', '3/', 'OTAN', 'Olivier', 'annuaire', 'invité', 'assemblage', '▁sauvegarder', '▁Médecin', '▁molécules', '▁Edouard', 'dica', '▁poursuites', '▁baccalauréat', '▁dorénavant', '▁enthousiaste', '▁familiaux', '▁Rwanda', 'ISBN', '▁interrompu', '▁Edward', '▁continuellement', '▁fiancé', '▁chevet', '▁trésorerie', '▁devenait', '▁dosage', 'inder', 'mode', '▁Industrie', 'touch', '▁Florent', '▁éleveurs', '▁penche', 'jack', 'tié', '▁gérée', '▁secte', '▁repro', '▁inspire', 'shing', 'dev', '▁Unité', '▁Arn', 'rium', '▁envoyant', 'Rhin', '▁dotés', '▁valait', '▁chagrin', '▁United', '▁svp', '▁localement', '▁missile', '▁pneumatique', '▁téléchargé', '▁apports', 'cial', 'Alex', '▁Bot', 'genre', '▁consommé', '▁quarts', 'amener', '▁lauréat', 'urage', '▁body', '▁météorologiques', '▁confortablement', '▁manuels', '▁opère', 'ANS', '▁clairs', 'vine', '▁estimation', 'zine', '▁vérifiées', 'OSS', '▁pertinentes', '▁artérielle', '▁déclenché', '▁Magic', '▁street', '▁gameplay', '▁verdure', '▁Manchester', '▁rétention', '▁disparaissent', '▁^^)', '▁grenier', 'bard', 'rama', '▁descendu', '▁about', '▁entente', '▁discrètement', 'sidér', '▁républicaine', '00)', 'shot', 'tÃ', '▁teste', 'orgueil', '▁téléphoniques', '▁Run', '▁bourses', '▁115', '▁criminel', '▁Dictionnaire', '▁dénomination', '▁Antonio', '▁multiplié', '▁couramment', 'INSEE', '▁Sélectionner', '▁laissera', '▁Tapis', '▁Imaginez', '▁trahison', 'Reuters', '▁lustre', 'Non', '▁indirect', 'Action', '▁bron', '▁map', '▁forcée', '▁Java', '▁SS', '▁Divin', 'ojo', 'rè', '▁typiquement', '▁Gas', '▁prometteur', '▁Emp', '▁kiff', '▁Nar', '▁observa', 'avouer', 'évêque', '▁music', 'RIC', '▁Agent', 'AST', 'ignor', '▁gendarmes', '▁élargi', '▁vomi', '▁rit', 'Aix', '▁inscrivez', '▁Lisbonne', '▁violemment', '▁reconstruire', '▁armure', 'amie', '▁Story', 'apprenti', 'Merci', '▁renom', '▁préjugés', '▁expérimentation', '▁MONT', '▁informés', '▁RI', '▁sensiblement', '▁ruine', '▁collectées', 'alise', 'Hy', 'pati', 'sorb', '▁Human', '▁rendit', '▁Passion', 'ference', '▁Sale', 'beth', '▁incidents', '▁décliné', '▁géographiques', '▁venues', '▁Bloc', '▁façades', '▁Tissu', 'Canada', '▁Cœur', '▁accueillera', '▁fraiche', '▁Shan', '▁mûre', 'Ils', '▁Douche', '▁Joli', '▁captivant', '▁diplomatie', '▁jurisprudence', '▁perturbation', '▁cartographie', 'Antiquité', '▁pourras', '▁Bénin', '▁encourageant', '▁Valls', '▁délivre', '▁retrouva', '▁voilier', 'bilité', 'ême', 'chargé', '▁attaquant', '▁attendus', 'bier', 'ends', '▁Louvre', 'OUS', '▁RS', 'eindre', '▁poteau', 'atta', '▁DQ', 'bang', '▁fonctionnaire', '▁abandonnée', '▁bouffe', '▁entreprendre', '▁crédibilité', '▁escapade', '▁récipient', '▁Tendance', '▁déambul', '▁anglophone', '▁Nanterre', '▁hérité', 'érection', '▁Doc', 'Alain', '▁gite', 'appr', 'berry', '▁1943', 'unis', '▁!!!!!', '▁Avignon', 'fection', '▁ferez', '▁suffrages', '▁tombés', '▁rail', 'oki', '▁réalisent', '▁vendent', 'TEN', '▁menacée', '▁moutons', '▁Sall', '▁pensions', 'mière', '▁évoluent', '▁cases', '▁vendues', 'Québec', '▁gentils', '▁agissant', 'mars', '▁tchèque', '▁suffisent', '▁Sandales', '▁développant', 'uba', '▁poules', 'applications', 'uya', '▁urgences', 'HL', 'science', '▁extraire', 'essor', '▁Foot', '▁Stage', '▁sanguine', '▁interpréter', 'rust', '▁rénovée', 'SER', 'tempor', 'LIN', '▁formelle', '▁log', 'enrichir', 'marche', '▁interdire', '▁This', '▁découvrent', 'bos', '▁Baise', 'etto', '▁Marguerite', '▁bienveillance', '▁porcelaine', '▁préparatoire', '▁formulation', '▁accède', '▁isolant', '▁dégoût', '▁répandue', '▁quitta', '▁déchire', '▁forteresse', '▁Simone', '▁Laure', 'rupt', '▁Plante', '▁ferment', '▁stands', 'mia', '▁Franchement', 'affa', '▁daté', '▁fée', 'pulse', '▁vaincu', '▁exigé', '▁demeurer', '▁trav', '▁pôles', '▁amusante', 'agitation', '▁bougie', '▁justifié', '▁accent', 'oqu', 'yu', '▁refroidi', '▁Drive', '▁désespéré', '▁souffler', 'élever', '▁Ty', '▁positionné', '▁Moïse', '▁abîmé', '▁compréhensible', '▁menaçant', '▁représentatif', '▁stéréo', '▁meeting', '▁rate', '▁abords', 'quatre', '▁inattendue', 'abat', '▁choisissent', '▁garant', 'EMP', '▁Flam', '▁hurle', '▁reprocher', '▁couvertures', 'éditer', '▁dernièrement', '▁baigner', '▁relate', 'nuit', '▁infiniment', '▁Petits', '▁inséré', '▁bourgeois', '▁Métal', '▁coûter', 'endo', '▁2016)', '▁renouvelable', 'ADN', 'bah', '▁pasteur', '▁Stone', 'ébé', '▁cancers', 'angé', 'insécurité', 'andi', '▁romance', '▁Carrelage', '▁combustion', '▁interviennent', '▁Chrétien', '▁galaxie', 'ivoire', 'Nord', '▁tambour', '▁Tit', 'imprévu', '▁remises', '▁conservant', 'Eau', '▁déséquilibre', 'ERN', 'mous', 'éloge', '▁intégrante', '▁1948', '-01', 'amorce', '▁rouleaux', '▁désireux', '▁commencez', '▁pertinente', 'chang', 'ivo', 'ody', 'énerve', 'issable', '▁réagit', '▁rumeur', '▁territorial', '▁oser', '▁homosexuel', 'roule', '▁RAM', '▁Cadeau', '▁syndicales', '▁revend', '▁allées', 'initiation', '▁Kay', '▁civiles', '▁Mature', '▁framboise', '▁jouissance', '▁recruté', '▁cherchait', '▁bavard', '▁assurément', '▁partez', '▁sépara', '▁calibre', 'arche', '▁inspirer', '▁faiblesses', '▁développées', 'série', 'Point', '▁lancent', '▁aiguille', '▁(6)', '▁initiation', 'entendent', '▁relire', 'ICA', 'trie', '▁Hotels', '▁respectée', '▁habits', '▁HE', 'inette', '▁infinie', '▁sensuelle', 'quo', 'cart', '▁maintes', '▁Map', '▁Gab', 'exigence', 'yth', '▁comités', 'quage', '▁associative', '▁défaillance', '▁engendré', '▁prostitution', '▁secrétariat', '▁augmentant', '▁Licence', '▁Hans', '▁Mich', '▁agissent', '▁viendront', '▁couchage', '▁Portail', '▁rivières', '▁Barbe', '▁racheter', '▁meurtrier', '▁cruel', 'échappement', '▁vibr', 'azur', '▁River', '▁équ', '▁sanctionné', '▁titan', '▁Water', '▁Loup', '▁puissantes', '▁coulissante', '▁souhaitée', 'bib', '▁mutations', '▁brigade', '▁capillaire', '▁contraignant', '▁Principal', '▁conseillère', '▁Easy', '▁Miroir', '▁Batterie', 'script', 'istan', '▁soucieux', 'tura', 'alignement', 'ious', 'ophone', '▁incroyablement', '▁Tat', '▁BL', '▁Verts', '▁orné', 'tise', 'RT', '▁psychiatre', '▁annexes', 'ctive', '▁entr', '▁illicite', '▁prononce', 'valent', 'PART', 'pier', '▁renseigne', 'petite', '▁présentait', '▁Chauffage', '▁périphérie', '▁entraînant', '▁Victoire', '▁Qatar', '▁moelleux', '▁tunisien', '▁Foi', '▁suspendre', '▁Miami', 'ceau', 'ories', '▁félicite', '▁construits', '▁Réservez', '▁hésitation', '▁évité', '▁XP', '▁journalisme', '▁1995,', '▁aspirateur', 'Bu', '▁réunies', 'reg', '▁syrienne', 'çu', '▁cerf', '▁expansion', 'Gen', '▁VIP', '▁Maj', '▁découper', 'Sud', '▁insuffisant', '▁trouveront', '▁postales', '▁révélations', '▁renvoi', '▁rats', '▁étiquette', 'idéologie', '▁Généralement', '▁grilles', '▁évêque', '▁Confédération', '▁identitaire', '▁jacuzzi', '▁Texas', 'intéressent', '▁Métiers', '▁déguisé', '▁exportations', 'lol', '▁exposée', '▁Formule', '▁Brad', '▁rythmes', '▁enseignes', 'appelait', '▁1964', '▁indo', '▁fixant', '▁permission', 'arra', '▁Bond', 'gger', '▁convaincant', '▁statique', '▁track', 'arranger', '▁Grace', '▁Irlande', '▁colorées', '▁Éli', '▁détruite', '▁comptables', '▁civilisations', '▁cohérente', 'putation', '▁kms', '▁SAV', 'orat', '▁Passer', 'Henri', 'immigr', '▁serrer', 'athlète', 'RAN', '▁granul', '▁rejeter', '▁méchants', 'Indonésie', '▁brouillard', '▁indépendamment', '▁législatif', 'Orchestre', '▁hockey', '▁cendres', '▁maths', '▁compa', '▁covers', 'ated', 'kins', '▁savourer', '▁Steven', '▁1901', '▁courantes', 'carte', '▁viandes', 'excuser', '▁brume', '▁Passe', '▁Plo', 'thi', '▁primordiale', '▁Eglise', '▁cookie', 'lov', '▁haché', '▁comté', '▁Original', 'vot', 'climat', '▁estimée', '-30', '▁Problème', '▁pendentif', '▁réconciliation', '▁turquoise', '▁cuisinier', '▁Sélectionnez', '▁roulettes', '▁suggéré', '▁verrons', 'contr', '▁recommence', 'éteindre', 'sud', 'UDI', '▁déclenche', '▁Berger', 'rte', '▁inclu', 'boutique', 'mper', 'ssard', '▁chauffée', '▁cachet', '▁crête', '▁metteur', '▁Your', 'eus', 'feld', '▁Vieille', '▁bag', 'ERT', '▁utilis', '▁Pad', 'roi', '▁emporte', '▁salopes', '▁duré', '▁affaibli', 'ssou', '▁zip', '▁rochers', 'obe', 'andy', 'ogo', '▁Classic', '▁ep', 'tia', 'endormir', '▁Stratégie', '▁accéléré', '▁Voyez', '▁catastrophique', '▁puzzle', '▁different', '▁rdv', '▁Méthode', '▁flagrant', '▁légion', '▁spécifications', '▁glamour', 'tica', '▁algerie', 'équitation', '▁Coach', '▁natale', 'infect', '▁interdits', 'ù', '▁Beat', '▁Format', '▁pond', '▁verbale', 'salle', '▁Titan', '▁basés', '▁Russes', '▁Bella', 'génie', '▁East', 'angui', 'gratuit', '▁vole', '▁valises', '▁fécond', '▁calcium', '▁libanais', '▁banquier', '▁Honda', '▁fitness', '▁connaissant', '▁respectent', '▁combinaisons', 'nombre', '▁recourant', '▁inexistant', 'télé', '▁Complet', '▁résolutions', 'hypertension', '▁Alexis', 'ETTE', '▁croisés', 'park', '▁maximal', '▁intervenu', '▁compté', 'vard', 'admire', '▁Conseiller', 'rib', '▁chiant', 'selon', 'rienne', '▁légalement', '▁dérivés', '▁opposés', '▁ON', 'plique', '▁collaborateur', '▁hygiène', 'Antoine', 'Ontario', '▁logiquement', 'MIN', 'istant', 'assister', '▁make', '▁entraine', '▁Charge', 'iq', '▁Bandoulière', '▁Extérieur', '▁inaccessible', '▁Mohammed', '▁confrères', '▁narration', '▁Collectif', '50€', '▁stopper', '▁Fernand', '▁128', '▁mobilisé', 'view', '▁Stan', '▁démonter', '▁indu', 'map', 'épée', '▁vitalité', 'rault', 'collect', '▁Désir', '▁jardinage', '▁1946', '▁gagnants', '▁Decoration', 'GEN', '▁confrontée', 'zard', '▁fluo', '▁hauteurs', '▁Essai', '▁fruité', '▁connexions', '▁Idee', '▁télévisée', 'teuse', '▁logos', '▁serrures', '▁Nico', '▁illustrer', 'opa', 'radio', 'allez', '▁organiques', 'pays', '▁motiver', '▁produites', '▁délégués', '▁recueillies', '▁nordique', '▁schémas', 'apprêt', '▁Associé', 'obéissance', '▁apaisant', '▁rempart', '▁supposer', 'Oui', '▁pèlerinage', '▁Princesse', '▁TI', '▁procéd', '▁idéologie', '▁mêle', 'RIE', '▁syndicale', 'Après', '▁punk', '▁basculer', '▁user', '▁structuré', 'paration', 'essais', '▁ensembles', 'ongle', '▁importé', '▁marges', '▁expliquent', '▁EC', '▁NB', '▁tirés', '▁Ajout', '▁appellation', 'New', '▁fixées', '▁briller', 'métrie', '!!!!!!!', '▁fantôme', '▁aquatique', 'Aquitaine', 'Cour', 'échéance', 'assiette', '▁dépistage', '▁sénégalais', '▁décevant', '▁influent', '▁détruis', '▁Fabrice', 'ergonomie', '▁Vintage', '▁formateur', '▁paillettes', '▁carreaux', '▁centré', '▁régulateur', '▁EST', '▁Aménagement', '▁GE', 'gation', '▁Chen', '▁bris', '▁rides', '▁intellectuels', '▁reporté', 'contact', 'achever', '▁Cara', 'agneau', '▁Queen', 'tienne', '▁Vas', '▁déborde', '▁Space', '▁posant', '▁rÃ', '▁Pho', '▁supprime', '▁hanches', 'raud', '▁enduit', '▁pertinents', 'AIN', '▁ouvertement', '▁Communes', '▁Lyn', '▁brûle', 'intègre', '2019', '▁apercevoir', 'ghi', '▁assiettes', '▁possédez', '▁désignation', '▁Utiliser', 'envisager', '▁suivit', '▁durabilité', '▁réduisant', 'journée', '▁Motor', '▁Pis', '▁requise', '▁butin', 'intro', 'UNI', '▁1939', '▁attachés', '▁minérale', '▁condamnés', '▁alu', 'fleur', '▁orthodoxe', 'ugu', 'flor', '[1].', 'attachement', '▁complétée', '▁entame', '▁Pose', '▁Energie', '▁loger', '▁UNE', '▁sursaut', '▁préparations', '▁Ava', 'lève', '▁divise', 'inconvénient', '▁desserts', '▁rapporteur', '▁détecté', '▁méditerranéen', '▁telephone', '▁Awards', '▁modifiant', '▁bilingue', '▁commettre', '▁Tiens', 'Qui', '▁provision', 'effets', '▁Haïti', '▁prétendant', '▁Traité', '▁Professionnel', '▁Lucie', 'hibi', '▁Johann', '▁effacé', '▁terminale', '▁Fire', 'hua', '▁moules', 'ASSE', '▁Rousse', '▁TER', '▁notation', '▁cérébrale', '▁roul', '▁implant', 'dro', '▁Serv', '▁récompenses', '▁impressionné', '▁humanité', '▁sentit', '▁tira', '▁Chauss', '▁gourmands', '▁exiger', '▁Vivi', '▁décalé', 'peu', 'officier', 'phonique', '▁motard', 'lc', '▁métaphore', 'obésité', '▁rallye', 'saison', '▁Puissance', '▁référer', '▁meetic', '▁rythmé', '▁nuance', '▁Mour', 'mén', '▁porteuse', '▁Transports', '▁prolongé', '▁Fun', '▁multiplient', 'empo', 'hall', 'occult', '▁continuera', '▁hit', 'vré', '▁parfaits', '▁abandonne', '▁Coin', '▁Innovation', '▁fondant', 'ironie', '▁Train', 'wall', '▁surplus', '▁échoue', '▁---', '▁Whi', 'moto', '▁respire', '▁mamie', '▁communistes', 'amma', '▁175', '▁inquiétant', '▁Lorient', '▁paramètre', '▁Baie', '▁animateurs', '▁Physique', '▁membrane', '▁chiffon', 'Pré', 'avortement', '▁caravane', 'mpt', '▁thérapeutiques', 'EV', '▁Nîmes', 'marché', '▁rigolo', 'émotions', '▁vampires', 'impuissance', '▁Golden', '▁Ferrari', '▁couru', 'enfonce', 'ITÉ', '▁tirant', '▁casinos', '▁ter', 'agan', '▁organe', '▁abondante', '▁préférées', '▁cousu', '▁berceau', '▁dispense', '▁illustrée', '▁Risque', '▁honoraires', 'von', '▁sèches', '▁hébergements', 'umer', 'GN', '▁envisagée', '▁Radi', '▁Taux', '▁résid', '▁acrylique', '▁just', 'INA', '▁TD', 'mad', 'male', '▁gala', 'Germain', '▁traque', 'articulation', '▁Perpignan', '▁caricature', '▁Munich', '▁recensé', '▁signifiant', '▁indicateur', '▁commode', '▁habituels', '▁dotation', '▁Barbara', '▁médico', '▁aisée', 'Ur', '▁passons', '▁bobine', '▁classer', 'lié', '▁indiquées', '▁gui', '▁Raf', '▁résidant', '▁axé', '▁VAL', '▁reconnues', 'eigne', '▁occupent', '▁ascension', '▁assistante', '▁PV', '▁bienvenus', 'incident', '▁duc', '▁affinités', 'aimait', '▁politiquement', 'Hôpital', '▁coefficient', '▁génocide', '▁hormis', '▁bouscule', 'Abraham', '▁précaire', '▁mémorable', '▁101', '▁ressens', '▁resteront', 'atteinte', '▁Accord', '▁dvd', 'quelle', '▁recouvrir', 'TB', '▁Fré', 'SION', '▁consolider', 'OMM', '▁EL', '▁autoroute', '▁congélateur', '▁Grim', '▁Batt', '▁variée', '▁America', 'indiquer', '▁apr', '▁retenus', '▁motivée', '▁sueur', '▁Cool', '▁cabinets', '▁Bilan', '▁Fle', '▁pyr', '▁danseurs', '▁révélée', 'gine', '▁Publication', 'band', '▁Carré', '▁irrésistible', '▁surcroît', '▁pianiste', '▁Diamètre', '▁fragilité', '▁rives', '▁Finlande', '▁Alliance', 'AMP', '▁eût', 'ESP', '▁mortes', '▁Publique', '▁rennes', '▁1957', '▁ampli', 'appoint', '▁annuler', '▁étudiée', '▁intelligents', '▁ultérieure', '▁mâchoires', '▁Jordan', '▁cath', 'izz', 'accroissement', '▁roulé', '▁féliciter', '▁nomade', 'ctif', '▁(60', 'habiller', '▁classées', 'lif', 'Philippe', '▁Pakistan', '▁facturation', '▁fraternité', '▁restitution', '▁Cédric', 'expiration', 'inventer', 'abstention', '▁MAC', 'saint', '▁exprès', '▁communément', '▁quelquefois', '▁invitent', '▁bœuf', '▁chassé', '▁relaxant', 'MR', '▁fumé', '▁aimeriez', '▁minéral', '▁Sort', '▁kits', 'ographe', '▁Jaune', 'Mal', '▁lueur', '▁touchée', '▁mûr', '▁nourrisson', '▁identifiés', '▁protégées', '▁condamne', 'Pu', '▁Dauphin', '▁Parking', '▁gestionnaires', 'ATE', '▁Allemand', '▁appréciation', '▁Mid', '▁traversant', '▁causés', 'tip', '▁italiens', '▁saisit', '▁féminines', '▁TP', '▁Verre', 'fle', 'imagerie', 'accrocher', '▁sympathiques', 'Ai', 'ulo', 'mix', '▁Littérature', '▁palmarès', '▁scandinave', '▁Solidarité', 'électroménager', '▁prédateur', '▁considérant', '▁géométrie', 'îlot', 'thing', '▁sculpteur', 'basse', '▁Largeur', 'wel', 'bille', '▁navig', 'hésit', '▁Inf', '▁iso', 'orc', '▁christ', 'RD', '▁ampleur', 'nite', '▁colomb', '▁glissant', 'opi', 'TURE', '▁Anal', 'Af', 'bell', 'scient', '▁=)', '▁exceptions', '▁ordonne', '▁XVIe', '▁régulières', '▁Cassi', '▁Madeleine', 'construction', '▁obligée', 'vidéo', '▁corrompu', '▁justificatif', '▁Besançon', '▁tabouret', '▁Little', '▁Vegas', '▁stagiaire', '▁puissions', '▁venger', '▁trilogie', '▁précipitation', 'bond', '▁Ouais', 'direction', '▁Nad', '▁sangle', 'électronique', '▁mignonne', '▁exigence', '▁1954', '▁pièges', '▁1947', 'haï', '▁danser', '▁combiner', '▁viser', '▁Rivière', '▁records', '▁1956', '▁polonais', 'paul', '▁Parent', '▁satisfaits', '▁mémo', '▁mure', '▁décidément', 'oriente', '▁musc', '▁éditoriale', 'ignée', '▁bretonne', '▁nier', '▁intérieures', '▁championne', 'illumine', '▁Dim', '▁échecs', '▁1%', '▁Economie', '▁PLUS', '▁barrières', 'avent', 'major', 'intéressant', 'Ancien', '▁Vêtements', '▁inhérent', '▁résiliation', '▁véranda', '▁démuni', '▁collaboratif', '▁tiède', 'écrou', 'éliminer', 'employé', '▁Composition', '▁bbw', 'électeur', '▁délicatesse', '▁conditionnement', 'Rencontre', '▁élites', '▁...).', '▁123', 'vention', '▁péchés', '▁harmonieuse', '▁Wind', '▁fol', '▁divinité', '▁cérébral', '▁approcher', '▁casquette', '▁détourné', 'guen', '▁Ele', 'api', '▁guerriers', '▁<3', '▁séjourner', '▁démarré', 'ayez', '▁scrut', 'évoluer', '▁Européens', '▁boit', '/19', '▁ondul', '▁créez', '130', '▁Moon', 'oppose', 'REN', '▁Dordogne', '▁dividende', '▁épargné', '▁physiologique', '▁ruisseau', 'nbsp', '▁patrouille', '▁creusé', '▁glacier', '▁Leclerc', '▁décrite', '▁réunissant', 'agiste', '▁Juliette', '▁retrouvons', '▁Terra', '▁atteste', '▁subtilité', '▁soulever', '▁rencontrées', '▁germe', '▁Bos', 'ARI', 'vice', '▁manoir', '▁retrouvera', 'gouv', '▁changera', 'Comp', 'loque', '▁ruche', 'héros', 'allumer', '▁mater', '▁stimule', 'Ville', '▁rigoureuse', '▁sauté', '▁regrouper', 'écout', '▁époques', '▁argentin', '▁Die', '▁Bleus', '▁Frères', 'inscrivent', '▁Fabriqué', '▁Gironde', '▁stimulation', '▁Junior', '▁Armoire', '▁sonorité', 'cris', '▁temples', '▁Rachel', '▁signalisation', '▁sociologue', '▁intér', '▁regroupé', '▁Carlos', 'vul', 'isch', '▁élémentaire', '▁médiéval', '▁amatrice', '▁ouvrent', 'system', '▁Bart', '▁conso', '▁Canadiens', 'witch', '▁mentions', '▁sages', '▁forge', '▁inédits', '▁animateur', '▁boot', '****', 'ïque', '▁Kab', '▁roches', '▁brutale', 'VIS', 'orage', '40)', '▁suivra', '▁achetée', '▁Lampe', '▁Fit', '▁islam', '▁bières', '▁continuant', 'bad', 'encyclopédie', '▁charismatique', '▁gadget', '▁pétrolier', '▁rigoureux', '▁absorbé', '▁analytique', '▁forestière', 'anonymat', '▁fourre', '▁tomes', '▁convocation', 'Ukraine', '▁Benoit', '▁Guyane', '▁essor', '▁inventaire', '▁simplifiée', 'tox', 'chie', 'ERRE', '▁Éric', '▁balader', 'export', 'utilisa', '3.5', 'tract', '▁Coeur', 'rro', '\").', '▁personnalisées', '></', 'trin', '▁décédée', '▁135', '▁érotiques', 'audit', 'kine', '▁inconscient', 'joy', '▁espérance', '▁flan', '▁souffla', 'veille', 'afrique', '▁descendants', 'insecte', '▁relationnel', 'inscrivant', '▁Capitaine', '▁médiocre', '▁redécouvrir', '▁féroce', '▁Nissan', '▁analogique', '▁pépite', '▁exercée', '▁épingle', '▁expressément', '▁Interview', 'inventaire', '▁récurrent', '▁ignorer', '▁Tchad', '▁bourgeoisie', '▁brûlé', '▁Valence', ':::', 'izi', '▁crue', '▁Vision', '▁Young', 'chir', '▁Ever', 'chauss', 'sphère', 'évoquant', '▁couteaux', '▁Pièces', '▁Rad', 'exclu', '▁gène', '▁négliger', '▁Kara', 'arôme', '▁coordonné', '▁concrets', '▁marais', '▁1.2', 'rush', '▁Abdel', '▁touchés', '▁médiateur', 'location', '▁dépassent', '▁650', '▁construis', 'évocation', '▁VE', '▁Arrivée', '▁Servi', 'aigne', '▁croyons', '▁fauteuils', '▁Bientôt', '▁optez', 'pond', 'olle', '▁grill', '▁Basket', '▁pet', '▁Cook', 'edition', '▁Médecine', '▁mondiales', '▁trajets', '▁MER', '▁payante', 'étoffe', '▁améliorent', '▁travaillait', 'Annecy', 'jours', 'foot', '▁composante', '▁batteur', 'ouri', 'arma', '▁Dru', 'NG', '▁renferme', '▁confronter', 'ando', '▁poignées', '▁tardive', '▁Couple', '▁2.5', '▁éprouve', '▁galop', '▁négocié', 'avènement', '▁implicite', '▁survécu', '▁érigé', '▁pigeon', '▁référentiel', '▁spec', '▁fissure', '▁motorisation', '▁entraînements', 'introduire', 'Quand', '▁world', '▁échelon', '▁originalité', '▁restriction', '▁cosmétique', '▁1942', '▁abordés', 'exister', '▁graphismes', '▁1955', '8767', '▁intéressée', '▁inscrites', '▁ralentir', '▁Garage', 'ENA', '▁Privé', '▁Pointe', '▁partagez', 'livre', 'MOBI', '▁Golfe', '▁brûlant', '▁vérifie', '240', '____', '▁ensoleillé', 'illustr', '▁cyclistes', 'aver', '▁ordi', '▁Félix', '▁Poitou', '▁Shanghai', 'Essonne', '▁Vosges', '▁garantissant', 'échappa', '▁privative', '▁mortel', '▁Réalisation', 'double', '▁capturer', '▁filmer', '▁jordan', '▁ouais', '▁continents', '▁appétit', '▁mathématique', '▁1959', '▁agréablement', '▁(35', '▁cosm', 'ulle', '▁radicalement', 'akh', '▁serment', 'isol', 'Dis', 'cture', 'associer', '▁conformer', '▁0,3', '▁validée', '▁saisissant', 'open', '▁veuille', '▁septique', 'classe', '▁manie', '▁sieste', 'meuble', '▁Vladimir', '▁grammaire', '▁nuisible', '▁apprennent', 'Calédonie', '▁Apprenez', '▁nerveuse', '▁musculation', '▁chouchou', '▁racheté', '▁arraché', '▁observateurs', '▁pel', '▁Technologies', '▁Honor', '▁coussins', '▁déduction', '▁Adrien', 'vement', 'entente', '▁Parcours', '▁coréen', '▁griffes', '▁formalités', '▁concrétiser', 'sten', '▁renonce', 'VS', '▁rétablissement', '▁financements', '▁placées', '▁Gun', '▁proposait', '▁iranien', '▁exempt', '▁causée', '▁formuler', '▁incapables', '▁Set', 'wei', '▁prune', '▁vocal', 'équité', '▁fatale', '▁allume', '▁dérogation', '▁botanique', '▁bouleversé', 'gnes', '▁colonisation', 'ncia', '▁abeilles', 'olin', '▁libéraux', 'excès', 'poids', '▁fraîches', 'LER', 'flow', '▁rails', '▁forfaitaire', '▁Soins', 'OURS', '▁lier', '▁blesser', '▁must', '▁survenue', 'TIC', '▁Commercial', '▁désirent', '▁RES', '▁ballet', '▁Yoga', '▁agressions', '▁envisageable', 'UA', '▁minier', '▁inventer', '▁anneau', 'accro', '▁canadiens', 'dja', '▁canons', 'éth', '▁Sup', '▁gravement', '▁longévité', '▁précarité', '▁psychiatrique', '▁semblaient', 'addiction', '▁Fauteuil', '▁stérile', '▁rurale', 'nouvelle', '▁affirmant', '▁Détails', '▁Pouvoir', '▁alloué', '▁Rive', '▁TS', '▁anneaux', 'libéral', 'OMS', 'Arts', '▁libér', '▁insolite', '▁Wolf', '▁insu', 'altern', '▁voisinage', '▁implantée', 'otta', '▁piqué', '▁femelles', 'ouvrait', '▁jardinier', '▁chanteurs', '▁ouvertures', '▁modestes', '▁cyclo', '▁probl', 'oiseaux', '▁concasseurs', 'HC', '▁disputer', '▁nerfs', 'vern', '▁imprenable', '▁insisté', '▁préventive', '▁TGV', '▁suffisait', '▁mêlée', '▁médiathèque', '▁solidité', 'embarras', '▁juriste', '▁Comédie', 'therm', '▁concurrentiel', '▁vrac', 'arrondissement', '▁éclaire', 'gren', '▁spontanée', 'épanouissement', '▁Valley', '▁1961', '▁méconnu', '▁pathologie', 'ministr', 'cole', '▁pilier', '▁consoles', 'servation', 'Hérault', '▁théâtrale', '▁process', '▁Maritime', '▁repousse', '▁fréquents', '▁composite', '▁millimètres', '▁opposer', '▁habité', 'héli', 'wear', '▁maritimes', '▁Nouveauté', '▁Card', '▁magistrats', '▁sceau', '▁chinoises', '▁patienter', '▁motion', '▁gelée', '▁convenable', '▁interlocuteurs', 'email', '▁continua', 'aspiration', '▁chine', '▁shampoing', '▁marionnette', 'aquarelle', 'improvisation', '▁bientot', '▁restes', 'engouement', '▁Boston', '▁novice', '▁Salope', 'héroïne', 'Océan', 'quill', '▁anim', '▁Modern', '▁Sci', '▁baskets', 'tôt', '▁éclaté', '▁maternel', '▁aprés', 'Argentine', '▁SIM', '▁adepte', '▁revenant', '▁catastrophes', '▁^', 'title', '▁Excel', '▁RER', '▁2017)', '▁colorée', '▁Flu', 'ichi', 'fonction', '▁za', '▁Tin', 'raw', '▁Nav', '▁Ast', '▁compos', '▁Pix', '▁Aéroport', '▁Angle', 'souffl', '▁Croatie', '▁balnéaire', '▁pragmatique', '▁quatorze', '▁Évidemment', '▁Pouvez', '▁cadran', '▁Diego', '▁Contrat', '▁Mik', 'lion', '▁Pêche', '▁feuillage', 'interprète', '▁réchauffer', 'observatoire', '▁appréhender', 'exige', 'Ang', '▁consomm', 'server', '▁fly', '▁réservez', '▁bagage', 'agon', 'gam', '▁Républicains', 'ourd', '▁cessent', '▁licences', '▁juré', '▁étroitement', 'observateur', '▁bosser', '▁vidé', '▁adhérent', '▁Disons', '▁contribuables', 'thal', '▁Franche', 'rié', '▁PAC', 'Alzheimer', '▁appréciable', '▁dissimulé', '▁intuitive', '▁représentative', 'humilité', 'offrent', '▁conjointe', 'pendant', '▁Oscar', 'free', '▁surveillé', '▁aimons', '▁Palestiniens', '▁Landes', 'gnan', '▁antérieur', '▁forfaits', 'war', '▁Effet', '▁minimaliste', 'rina', '▁Kri', '▁progressé', '▁nuque', '▁coq', '▁Hell', 'vocation', '▁laiton', '▁régul', '▁Mani', '▁végétarien', '▁rappelons', '▁compost', 'riser', '5,5', '▁Moselle', '▁thérapeute', '▁fal', '▁respiratoires', '▁risquez', '▁Rejoignez', '▁Taylor', '▁brièvement', '▁ressemblance', '▁sincérité', 'innocence', '▁effrayant', '▁réclamé', '▁Porsche', '▁parenthèse', '▁déclinaison', '▁University', '▁locatif', '▁arboré', 'ould', '▁admirable', '▁Optim', 'OST', '▁vérifi', '▁voudra', '▁aout', '▁BIO', '▁Notons', '▁Rhin', 'esquisse', '▁Marx', '▁bb', '▁hélicoptère', '▁survivants', '▁budgétaires', '▁Thr', 'raine', '▁perturber', '▁bâtisse', '▁flamand', '▁fui', 'bble', '▁cake', '▁retenti', '▁arbitraire', '▁employ', '▁tien', '▁tab', '▁thermiques', 'ductrice', '▁oubliée', '▁doubler', '▁éprouv', '▁Impression', 'évacuer', '▁Téléchargez', '▁Partenaire', 'AQ', '▁séchage', '▁Hélas', 'engin', '▁ensoleillée', 'intervenir', 'Ardèche', 'apparente', '▁has', '▁dépens', 'last', '▁FOR', '▁SFR', '▁signifier', '▁défaire', 'eusement', '▁sirène', '▁Shop', '▁opérer', '▁Boul', '▁fondations', '7,5', '▁orienter', '▁fuites', '▁épicé', '▁automatiques', '▁incon', 'cela', '▁réparties', 'amar', '▁avide', '▁assemblées', '▁renard', '▁indemnités', '▁exhib', '▁attendons', '▁gardiens', '▁architecturale', 'xx', '▁atmosphérique', '▁imperméable', '▁intuitif', '▁ancestral', '▁Telecharger', '▁saladier', '▁découvrant', 'explorateur', '▁gothique', '▁tablier', '▁Découvrir', '▁prévisible', 'vra', '▁Essayez', '▁Hubert', '▁variante', '▁cartouches', '▁occupants', '▁ravir', '▁affirment', '▁prélèvements', '▁Créateur', 'étire', 'TRO', '▁rallonge', '▁laïque', '▁plaqué', '▁trot', '▁censée', '▁Equipement', '▁lésions', '▁reconnait', '▁détaille', '▁pastel', 'riol', '▁élargir', 'vironnementales', '▁divisée', '▁quad', '▁aligné', '▁pharmaceutique', '▁élue', '▁agité', 'veur', 'honnêteté', '▁extensions', '▁souhaits', '][', '▁attitudes', 'cd', 'eye', '▁opportun', '▁honorable', '▁Rond', 'étroit', '▁Rabat', 'rak', '160', '▁CRE', '▁Province', 'indifférence', '▁agressive', '▁dépassant', '▁luxueux', '▁pyramide', '▁renseigné', '▁JavaScript', '▁arrivons', '▁protestation', '▁Situation', '▁écologiste', '▁Flandre', '▁Abritel', '▁fermier', '▁Contenu', '▁poilu', '▁USD', '▁exagéré', '▁Floride', '▁répand', 'appropriation', 'mentaire', '▁caisson', '▁fantômes', '▁gîtes', 'allume', '▁Wii', '▁moines', '▁existante', '▁comédienne', 'news', 'ateliers', 'EURS', '/9', 'spira', 'emporter', '▁transexuelle', '▁comportent', '▁missionnaire', '-25', '▁Baz', '▁quadri', '▁compar', '▁Clark', 'bank', '▁menés', '▁adapt', '▁LR', '▁penché', '▁annuelles', '▁déclarée', '▁attraper', '▁cieux', '▁féminins', '▁Yvelines', '▁auberge', 'Olympique', '▁favorisent', '▁rénover', '▁malveillant', '▁poursuivent', 'anticipation', '▁créancier', '▁monopole', '▁savoureux', '▁Décret', '[6]', '▁affichés', '▁miniature', '▁cape', '▁ignoré', '▁AFP', '▁manquez', '▁Johnson', '▁rituels', '▁libérée', '▁jouée', 'Economie', 'crypt', 'prof', '▁Pul', '▁Chab', '▁Russe', 'synchro', 'OUL', '▁sécu', '▁%).', '▁vivez', '▁conscients', '▁syst', '▁respectif', '▁bonté', '▁écris', '▁entretient', '▁roulants', '▁dignes', '▁finie', '▁indépendantes', '▁Netflix', '▁bovins', '▁palmier', '▁géante', '▁Commentaire', '▁preneur', '▁relevage', '▁lavande', '▁mystères', '▁boeuf', '▁revêt', 'agroalimentaire', '▁permette', '▁théologie', '▁tigre', 'empreinte', 'umba', 'annexe', '▁venais', '▁accroître', 'vat', '▁voué', '▁demie', 'down', '▁Conn', '▁réserv', '▁Damien', '▁noeuds', '▁enseignante', '▁DOM', 'nova', '▁Genre', '▁coûté', '▁Vaud', '▁novateur', '▁émerger', '▁pans', 'horaire', '▁sculpté', '▁trail', 'mier', '▁Nam', '▁Evan', '▁Second', 'RL', '▁Karim', '▁Chose', '▁handicapé', '▁métabolisme', '▁stickers', '▁verdoyant', '▁vestimentaire', '▁Officiel', '▁emblématiques', '▁Meilleurs', '▁ramasser', '▁aspirations', '▁Choix', '▁Promotion', 'ACT', '▁special', '▁Fro', 'nike', '▁pluridisciplina', '▁réalisant', 'envergure', 'nutri', '▁Mater', '▁décideurs', '▁mortalité', '▁RPG', '▁spatial', '▁ampoules', 'audio', '▁traction', '▁interpelle', '▁craintes', 'acné', 'alter', 'aigle', 'Orange', '▁reins', 'ilia', 'rod', 'gla', '▁drague', '▁Valeur', 'hypo', '▁lice', '▁suspens', '▁intuition', 'attrape', '▁mesurée', 'fiant', '▁hache', 'llah', '▁McC', '▁Océan', '▁bites', '▁Bouygues', '▁Commissaire', '▁conçoit', '▁débloquer', 'austérité', '▁reculer', '▁Bitcoin', 'affin', '▁murmure', '▁aiguë', '▁tramway', '▁chronologique', '▁voûte', '▁bouclé', 'hell', '▁Noel', '▁volaille', '▁générée', '▁road', '▁avancés', '▁puces', '▁traiteur', '▁continuez', '▁usé', '▁prolongement', '▁Pain', '50)', '▁enrichi', 'wy', '▁acquises', 'Min', '▁ample', 'réal', '▁requêtes', '▁Mobil', '▁coutumes', '▁mesuré', '▁cutanée', '▁tele', '▁animales', '▁canalisations', '▁CFA', 'load', '2006', '▁précipitations', '▁Stéphanie', '▁psychanalyse', '▁complications', '▁parapluie', '▁sceptique', '▁Lambert', '▁roumain', '▁SOS', '▁attentionné', '▁Passionné', '▁prive', '▁Som', '▁Bâtiment', '▁drôles', '▁Rencontrer', 'abeille', 'injection', 'amateur', '▁Vic', '▁blessée', 'ATI', '▁devenues', '▁installées', '▁colorant', '▁illégal', '▁Articles', '▁Km', 'AMA', '▁Tag', '▁minime', 'entité', '▁praticien', 'opter', '▁accents', '▁électricien', '▁0,0', '▁Royale', '▁mouton', '▁Saône', 'incline', '▁renouvelle', '▁correspondants', 'liv', 'niche', '▁certifiés', '▁diamants', '▁réfère', '▁Corne', 'çage', '▁Alfred', '▁europe', 'tari', '▁serruriers', '▁résonance', '▁reproduis', 'utopie', '▁choque', '▁lanterne', '▁élimine', '▁Modification', '▁dénicher', '▁atterri', '▁désiré', '▁Marvel', '▁Line', '▁neuves', 'Argent', '▁suspense', '▁satisfaisante', 'favoris', '▁Géné', '▁raisonnables', '▁engins', 'allocation', '▁PH', 'vingt', '▁épique', 'jonc', '▁FMI', '▁célébré', '▁Béné', '▁inspirés', '▁fièrement', '▁célébr', '▁massivement', '▁kilomètre', '▁scan', '▁Classement', '▁Activité', '/100', 'Albi', 'gene', 'adressant', '▁rééducation', 'isier', '▁Beck', '▁contenues', '▁Artiste', '▁cultive', '▁circu', 'gueul', '▁Firefox', '▁gingembre', '▁gonflé', '▁Invité', '▁préconise', 'ogi', '▁Obtenez', '▁recrue', '▁brutal', '▁spin', '▁Elite', '[7]', '▁incluent', '▁bourré', 'capit', '▁paramétr', '▁Are', '▁opposant', 'iano', '▁pointes', 'matiques', '▁PRE', 'concert', '▁patine', 'Alger', 'oka', 'allaitement', '▁glu', 'GIE', 'trophe', '▁natif', 'dès', '▁délivrée', '▁reliés', 'Express', 'prop', 'onic', 'CHA', 'personnel', '▁florale', '▁Meubles', '▁conservateurs', 'astronomie', '▁addition', '▁Nik', 'Age', '▁configurer', '▁controversé', '▁décroché', '▁people', '▁corpus', '▁bagarre', '▁remplissage', '▁fossé', '▁gonflable', '▁obliger', 'ésie', '▁instable', '▁General', '▁fillette', '▁descriptions', '▁préparent', '▁Lisa', 'services', '▁Gand', 'lectronique', '▁tissé', 'inthe', '▁choux', '▁contra', 'latéral', 'agresseur', '▁décrites', '▁approfondir', 'outillage', 'loo', '▁Créé', 'MER', 'Etoile', '▁réutilisables', 'trip', '▁opposants', '▁BBC', '▁célébrités', '▁Report', '▁islamistes', '▁recherchée', '▁enlève', '▁conduis', '▁spécul', 'rava', 'IDA', 'illustre', '▁Points', 'ovic', '▁funéraire', '▁possédait', '▁auriez', '▁Daily', '▁ral', '▁Tig', '▁ajuster', '▁rejoignent', '▁collaborer', '▁lisible', '▁Cham', 'autel', 'iu', '▁1941', 'efforts', '▁modérée', 'émique', '▁typiques', '▁visionner', '▁Battle', '▁retira', '▁habile', '▁paragraphes', '▁mythes', '▁privilèges', 'achet', '▁Origine', 'éenne', 'isante', '▁identification', '▁Péri', '▁allemandes', '▁Argentine', '▁Hollywood', '▁Agricole', '▁Singapour', '▁collision', '▁conjoncture', '▁imposable', '▁convergence', '▁halte', '▁Bains', '▁Messieurs', 'ÉS', 'activer', '▁dixième', 'injecte', 'investigation', '▁zinc', '▁combinée', 'ttle', 'motiv', '▁blogue', 'acco', '▁reparation', '▁Calcul', '▁Violet', '▁vieillesse', 'Blanc', 'projet', '▁océans', '▁surmonté', '€)', '▁concour', 'ibili', 'abricot', 'nès', '▁java', 'plast', 'OX', '▁Chu', '▁loyal', '▁pratiquée', '▁Tho', '▁fossiles', 'LET', '▁Riv', 'VR', '▁(7)', '▁intimité', '▁climatisé', '▁TripAdvisor', '▁omniprésent', '▁représentait', '▁Maîtrise', '▁bataillon', '▁Veste', '▁provocation', '▁étendre', '▁vitrier', '▁centrée', 'ignol', '▁Ib', '▁Soudan', '▁Insee', 'matis', '▁CHF', 'appé', '▁low', '▁plié', '▁minceur', 'ambre', '▁linguistiques', '▁formateurs', '▁Seins', '▁modern', 'faite', 'allure', 'lom', 'gence', '▁renverser', 'Observ', 'Affaire', '▁sacrifices', 'ibo', '▁affective', '▁Augustin', '▁localisé', '▁participa', '▁designers', '▁basées', 'olet', 'osmos', '▁habitations', '▁Berne', '▁insertion', 'clav', '▁poumons', 'eczéma', '▁Caraïbes', '▁floraison', '▁humoristique', '▁mosaïque', '▁négligé', '▁Rangement', '▁Viagra', '▁vénér', 'hymne', '▁dirigea', '▁dégrade', '▁occasionnel', 'étan', '▁banquette', '▁évalue', '▁punition', '▁saturé', 'intérim', '▁constatée', 'CV', '▁nager', '▁taureau', '▁Spirit', '▁disponibilités', 'olaire', '▁expérimenter', '▁Normal', 'otto', '▁check', '▁Fleurs', 'chambre', '▁contempler', 'emba', '▁coiffe', 'DB', '▁CHU', '▁/>', '▁entrevue', '▁shop', '▁Michelin', '▁Lucien', '▁person', 'fumeur', '▁Canadien', 'saxon', '▁IL', '▁Rho', '▁joliment', '▁techniquement', '▁rationnelle', '▁entretenue', '▁salades', 'infirmier', '▁parlais', 'Open', '▁repoussé', '▁coloriage', '▁miséricorde', '▁étoilé', '▁peloton', '▁Sandrine', '▁Network', '▁festif', '▁comblé', '▁consistance', '▁poètes', '▁Barack', '▁Cote', '▁adorent', '▁BON', '▁brûlure', '▁View', 'conc', '▁vogue', '▁Toile', '▁filmé', '▁gousse', 'ZE', '▁1917', '▁achevée', 'urge', '▁Scho', '▁dépouille', '▁rattaché', '▁Sacré', '▁reliée', '▁Tome', '▁reconnaitre', 'immer', '▁ludiques', '▁plaquettes', '▁dégagée', '▁Exc', '▁remplacés', '▁Our', 'instaurer', '▁bouc', 'anni', '▁Libé', 'andro', '▁signatures', '▁itinéraires', 'patri', '▁inférieurs', 'bain', '▁Bijoux', '▁Maghreb', '▁Québécois', '▁excessif', '▁incomparable', '▁nostalgique', '▁prospérité', 'excédent', '▁diplomate', '▁naïf', '▁décerné', '▁guichet', '▁alliant', '▁Hey', '▁capuche', '▁Apportez', '▁Sélection', '▁Voix', '▁certifiée', '▁Douce', '▁Tinder', 'opp', '▁dialoguer', '90)', '▁diront', '▁cubes', '▁rentrant', '▁peste', 'ascension', 'examiner', '▁menton', 'chauffe', '▁3/4', '▁cocotte', '▁Rich', '▁Plateau', '▁Coton', '▁praticiens', '▁(27', 'bull', '▁redire', '▁exploite', '▁pics', '▁poi', '▁planétaire', 'maire', '▁Mono', '▁euh', 'ARA', '▁historien', '▁esclave', 'exploit', 'hormone', 'Imp', '▁Lord', 'archéologie', '▁Volkswagen', '▁castorama', '▁fétiche', '▁podcast', '▁ressemblait', '▁Soudain', '▁Company', '▁déchiré', '▁graphiste', '▁(28', '▁renaissance', '▁320', 'èdre', 'Parti', '▁cannelle', '▁développeur', 'arcade', 'celles', 'Cam', '▁spontanément', 'toria', '▁light', '330', '▁passionne', '▁souples', '▁élever', '▁Amsterdam', '▁poison', '▁flatte', '▁contraction', '▁Quentin', 'obstacle', '▁exploration', '▁affectés', '▁VIII', '▁bloquée', 'kill', '▁Réalisé', '▁prêch', '▁Cyr', 'dron', '▁XII', 'Atlas', '▁danois', '▁qualifications', '▁WE', '▁modifiées', '▁Ingénieur', 'bran', '▁imposées', '▁projeté', '▁adhérer', '▁gau', 'lix', '▁regardent', '▁oubli', '▁fondatrice', '▁Citroën', '▁nutriments', '▁cherchais', 'volu', '▁prélevé', '▁géopolitique', 'emprisonnement', '▁rigole', '▁pornographique', '▁croître', '▁Secteur', '▁promenades', '▁grossière', '▁respectives', '▁palettes', '▁cantine', '▁Geo', 'TÉ', '▁Poche', 'arène', '▁semblé', '▁Dre', 'apparaît', '▁brutalement', '▁barque', '▁COP', 'ogramme', '▁pts', '▁frappant', '▁manette', '▁spots', 'enfoncer', '▁alertes', 'LR', 'review', '▁diffus', '▁félin', 'affi', '▁baron', '▁Lecture', '▁devine', '▁impérial', 'RAC', '/2018', '▁pèlerin', 'exerce', '▁matrice', '▁anarchiste', '▁découpage', '▁restructuration', '▁rythmique', '▁reconnaissent', 'étincelle', '▁baleine', '▁cuvée', '▁nylon', '▁Peuple', '▁Well', '▁couv', '▁Clos', '▁Habitat', '▁brevets', '▁embauche', '▁cylindres', '▁2015)', '▁posez', '▁souven', '▁Vrai', '▁mentionnées', 'erman', '▁Cube', 'vière', 'pain', 'ologiste', '▁Romains', '▁meurent', '▁DOC', 'cédé', 'GES', 'courir', '▁cède', '▁Halloween', '▁Actes', '▁papillons', '▁haï', '▁chaines', 'bine', '▁conneries', 'too', '▁Epi', '▁gaspillage', '▁législateur', '▁jaloux', '▁Nokia', '▁partageant', '▁Ahmed', '▁mineure', 'icot', '▁turbo', '▁dissolution', '▁adouci', '▁privilégiés', '▁privatif', '▁lyrique', 'exposer', 'allier', 'ffre', '▁wallon', '▁additionnel', '▁DANS', 'tico', '▁reliant', '▁Rousseau', 'approfondir', '▁HS', 'Charles', '▁confectionné', '▁motivés', '▁Chic', '▁Cie', '▁olympiques', '▁collage', '▁pratiquent', '▁certificats', '▁égyptien', 'Imagin', 'rach', '▁ponctuelle', '▁insolites', '▁appelant', '▁emballages', '▁marteau', '▁spam', '▁Fashion', '▁Huawei', '▁rejoins', '▁rébellion', '▁visualisation', 'artillerie', '▁dispersé', '▁participative', '▁erotique', '▁divisions', '▁revenait', '▁Télévision', 'luc', 'olivier', '▁Gin', 'span', '▁seize', '▁GS', 'fect', 'TIQUE', 'Up', '▁Ey', '▁rentra', '▁insuffisance', 'brun', 'encourager', '▁retro', 'Cap', '▁poussa', 'OE', '▁Hér', '▁win', 'neuve', '▁fracas', 'couvrir', 'And', '▁condamnée', '▁plasma', 'chois', 'CTION', 'passe', 'arabe', '▁impériale', '▁partisan', '▁tram', 'impôts', '▁Comte', '▁déroulant', '▁migratoire', '▁Élégant', '▁félicitations', '▁Légion', '▁incompatible', '▁brasserie', '▁hivernale', '▁Basque', '▁story', '▁appelées', '▁fai', 'HR', '▁Medi', '▁loyers', 'brac', '▁Vendu', '▁TIC', '▁Outils', '▁Publi', '▁mangas', 'âne', 'IK', 'coin', '▁OUI', 'chia', '▁soucier', '▁Food', '▁fasciné', '▁MEN', 'Bains', '▁multiplie', '▁Limite', '▁arrangements', '▁tuteur', 'Islande', 'ymph', 'Pre', '▁comparée', '▁disciplinaire', 'vos', 'entraine', '▁Sara', '▁idees', 'addict', '▁Champions', '▁saisonnière', '▁acceptent', '▁disparue', '▁déclara', '▁embellir', '▁Synopsis', '▁Chaîne', '▁poivron', 'coeur', '▁Polynésie', '▁cépage', '▁conteneur', '▁nettoie', '▁motorisé', '▁string', '▁contaminé', '▁210', 'rieux', '▁cube', '▁bracelets', '▁oppose', '▁reprennent', '▁exprimés', '▁allongé', '▁3.0', 'enrichissement', '▁prono', '▁ficelle', '▁CAS', 'Id', 'group', '▁Fair', '▁tiges', '▁révél', 'élie', '▁réactif', '▁enchaîne', '▁aéronautique', 'olog', '▁aurions', '▁normales', 'corp', '▁obtenues', '▁financée', '▁SCI', 'Arm', '▁amples', '▁accumulation', '▁réglementé', 'étain', '▁Core', 'LIS', '▁Ivan', '▁prob', 'heureux', '▁offrira', '▁dérives', '▁toxique', 'soleil', 'dessin', '▁axée', '▁Municipal', '▁souches', '▁commissariat', '▁millésime', '▁prédilection', '▁moine', '▁viticole', '▁extrémités', '▁étrangement', '▁boulets', '▁taxis', 'empathie', '▁Vendeur', 'droite', '▁répondra', '▁bourgeoise', '▁Respect', 'anza', '▁implantation', '▁évoquée', 'px', 'érent', 'kw', 'épices', '▁mortelle', '▁frange', '▁cigarettes', 'accumulation', '▁Sachant', '80)', '▁mutuellement', '▁chèques', 'oë', 'pié', '▁formulée', 'nuclé', 'efface', 'dienne', '▁assujetti', '▁Architecture', '▁autocollant', '▁défensive', '▁glucides', '▁synergie', '▁Square', '▁fantastiques', '▁Rêve', '▁assumé', 'antiquité', '▁résidus', '▁infrastructure', '▁Mix', '▁essayons', '▁donnons', '▁archéologiques', '▁adaptateur', 'création', '▁servie', 'scape', 'empi', 'trac', '▁enquêteurs', '▁direz', '▁reculé', 'rome', 'disciplinaire', '▁fard', 'certain', '▁recto', '▁4,5', 'Annuaire', 'Enfant', 'finition', 'entretenir', 'leg', '▁vapor', '▁Gru', '▁2-3', '▁lauréats', '▁122', 'tologie', '▁fabriqu', '▁crash', '▁portage', 'animatrice', '▁aile', '▁Empire', 'ainsi', '▁Apres', '▁Elisabeth', 'percu', 'Comme', '▁COR', '▁Active', '▁donneront', '▁sensuel', 'mbi', '▁restez', '▁Glo', '▁mass', '▁parade', '▁Ukraine', '▁associant', '▁magnésium', '▁modérateur', '▁existé', '▁incliné', '▁atomique', '▁Communiqué', '▁ralentissement', '▁GRAND', '▁emprisonné', '▁Stefan', '▁relevés', 'stad', '▁bluff', '▁DIY', 'ground', 'iére', '▁recev', 'owski', '▁Expo', '▁dépensé', '▁rénale', 'férence', '▁wiki', '▁moyennant', '▁souhaiterais', 'Quel', '▁fatiguée', 'espagnol', '▁intégrées', 'zier', '▁instantanée', '▁recouvrement', 'bile', 'Albert', 'marie', '▁ART', '▁Boris', '▁Bit', '▁sophistiqué', 'anthropo', 'lena', 'RAT', '▁électorales', 'cret', '▁otage', 'accu', '▁mentor', '▁appliquées', '▁HU', '▁Stein', '▁estimer', '▁inspect', 'uga', 'clar', 'fant', '▁Exterieur', '▁extensible', '▁perçoit', '▁somptueux', '▁Célibataire', '▁vétéran', '▁Michèle', '▁redoute', '▁jailli', '▁inaperçu', '▁Nigeria', '▁trading', '▁3°', '▁Hyper', '▁limités', '▁effacer', '▁URL', '▁cruciale', '▁miracles', '▁supervise', '▁jointe', '▁crêpes', '▁entrepôt', 'empare', '▁banale', 'brique', 'Côte', 'offensive', '▁repond', '▁Baud', 'BERT', 'ègre', '▁journalière', '▁branchement', 'excite', 'flamm', '▁Créée', '▁Sidi', '▁grogn', '▁Confort', 'archive', '▁tribus', '▁fériés', 'ancienneté', '▁préservé', '▁cantonale', '▁annulation', 'flo', '▁élémentaires', '▁mœurs', '▁windows', '▁textiles', '▁dévoué', 'gorie', '%),', '▁architectural', 'Lu', '▁dentaires', 'mètres', '▁bombes', '▁Infos', '▁recevant', 'agira', '▁plis', '▁forcement', '▁Raison', 'Rouge', 'chimique', '▁Maine', '▁Spi', 'till', '▁dominer', '▁survient', '▁suspendue', '▁Case', 'iciens', 'ook', '▁exclus', '▁filer', 'gio', '▁originaires', '▁Marron', '▁océan', '▁ouvrit', '▁facultés', '2005', '▁défaites', '▁Chatte', '▁visés', '▁cavalier', '▁avaler', 'front', '▁Just', 'mite', '▁statues', '▁gabarit', '▁Museum', '▁successivement', '▁Broyeur', '▁hospitalisé', '▁raquette', '▁savaient', '▁désactiver', '▁1/4', '▁authentiques', '▁Dispos', '▁heurte', '▁sortait', '▁drone', '▁supervision', 'arrêta', '▁insérer', 'leb', '▁infractions', 'entoure', '▁farce', '▁boucher', '▁verrai', '▁pignon', '▁Polar', '▁spéculation', '▁bandeau', 'ARM', '▁versées', 'pac', 'NP', 'appréciation', 'incapacité', '▁repar', 'love', '▁figé', '▁Corb', '▁valables', '▁Vig', '▁chap', '▁résistants', '▁pouss', 'amène', 'cence', '▁concessions', '▁villageois', '▁spectaculaires', 'Istanbul', '▁didactique', '▁digestif', '▁requérant', '▁multicolore', '▁Sauvage', '▁Juda', '▁pétillant', '▁Smartphone', '▁relayé', '▁Vanessa', '▁Hur', '▁poussette', '▁masturbation', '▁vertige', 'girl', '▁spécialisation', '▁infection', 'phro', '▁conservés', 'neige', '▁manuellement', '▁Walter', 'ouvrent', 'auberge', '▁visionnaire', 'gging', '▁jouera', 'froid', 'oline', 'insuline', '▁tank', '▁tunisie', '▁rompu', '▁(23', '▁temporairement', '▁différencier', '▁caractérisé', '▁archéologique', '▁Technologie', '▁Rac', '▁tardif', 'hydratation', '▁raisin', 'Bien', 'hid', '▁Jupiter', '▁Notamment', '▁Performance', '▁festivités', '▁pétrolière', '▁Troyes', '▁convié', '▁oriental', '▁infraction', '▁havre', '▁comparative', '[8]', '▁Marianne', '+1', '▁canada', '▁Conso', '▁surveille', '▁Cath', '▁Maillot', '▁tôle', 'iat', '▁Forte', '▁noel', 'ACH', '▁1953', '▁influencer', 'ania', '▁fend', '▁conta', '▁tickets', '▁Demandez', '▁déranger', 'this', '▁chevauch', 'enza', '▁chevaliers', '▁rétabli', 'instance', '▁Boost', 'Alors', 'aliments', '▁récré', 'VERS', 'onction', '▁modifiés', 'andouille', '-2018', '▁Systèmes', '▁Régl', 'évoquer', 'Économie', '▁Baskets', '▁Léa', '▁déçus', '▁protéine', '▁perdure', 'model', '▁perfect', '▁divergence', '▁propagation', '▁péninsule', '▁Asiatique', '▁morphologie', '▁sécurisation', '▁serrée', 'Esc', '▁Inutile', '▁digestion', '▁isolés', 'thèse', '▁Tch', '▁anecdotes', 'uration', '▁troupeau', 'Gui', '▁placards', '▁brusquement', 'enfermer', '▁téléchargeable', '▁impôt', '▁Mél', '▁parfumée', '▁Jay', '▁Trail', '▁pins', 'issu', 'lich', '▁brillants', '▁prioritaires', '▁gardez', 'responsable', 'incroyable', 'affirmation', '▁Autriche', 'anneau', '▁Rick', '▁unitaire', 'direct', 'pap', 'ADA', 'Sauv', '▁rurales', '▁amenés', '▁fuit', 'Mod', '▁cahiers', '▁distinctes', '[1]', 'leu', '▁Viol', '▁sodomie', 'inspirer', '▁Catalogue', '▁dynastie', '▁défavorable', '▁encombrant', 'abstraction', '▁débouché', '▁cavité', '▁hollandais', '▁cyclable', '▁admissible', '▁verdict', '▁Research', '▁manoeuvre', '▁testament', '▁voudraient', '▁1.1', '▁Fig', '▁raisins', '▁engrais', 'TOR', 'propre', '▁conduisant', '▁permit', '▁détournement', '▁opératoire', '▁equipe', '▁mentionnée', 'andra', '▁déposés', 'Esp', '▁restauré', '▁patate', '▁battue', '▁corrige', '▁2014)', '0.00', 'hôtellerie', '▁Ordre', '▁Regarder', 'dynamique', '▁Pauline', '▁imparti', '▁Tol', '▁anticiper', 'ROM', 'uru', '▁Watt', '▁rime', '▁visées', '▁Exercice', '▁Vérifiez', '▁égoïste', '▁tempérament', '▁libraire', '▁compensé', '▁billetterie', '▁Fruit', 'VP', '50.000', '▁articulé', '▁anodin', '▁trembla', '▁integr', '▁102', '▁Damas', '▁rangé', '▁croyants', '▁accompagnant', '▁Questions', '▁gagnent', 'agace', '▁parrainage', '▁supra', '▁jouit', '▁saisonnières', '▁explicitement', 'imité', '▁autoriser', 'abbat', 'Source', '▁Santo', '▁Kenya', '▁comprimés', '▁dérouler', '▁golfe', '▁Orléans', '▁municipalités', '▁Audio', '▁Kom', 'cum', '▁déclarent', '▁privilégi', '▁Chloé', '▁cortège', '▁mêlant', '▁autoritaire', '▁interminable', '▁manif', '▁logé', '▁Hen', 'habileté', 'proté', '▁CIA', '▁assortie', 'oshi', '▁plaisante', '▁assemblage', '▁diviser', '▁combo', '▁masqué', '▁Lévi', '▁assises', 'érienne', '▁paysan', 'trouve', '▁accru', '▁couvrent', '▁Bang', '▁impr', '▁boost', '▁aînés', '▁Matin', '▁Canton', '▁Sorbonne', '▁Africa', 'rieure', '▁bride', '▁satellites', 'ferme', '▁€/', 'éter', 'physicien', 'agressivité', '▁Jacqueline', '▁controverse', '▁fashion', '▁intempéries', '▁protectrice', '▁rectangle', 'affiliation', '▁sémantique', '▁tourbillon', '▁Limousin', '▁nettoyé', '▁Assistant', '▁treize', '▁ovale', 'analyste', '▁avoué', '▁contentieux', '▁Sahara', '▁faction', '▁forage', '▁contourner', '▁envoya', '▁Dyna', '▁Voyages', '▁TOUS', '▁sexuellement', '▁écoutant', '▁Rare', '▁Regard', 'APE', '▁CES', '▁Mélanger', '▁comptez', '▁ultérieurement', '▁raconta', '▁GL', '▁nutritionnel', '▁travaillez', '▁Dire', '▁Annie', '+2', '▁courge', 'physique', 'trou', '▁Escorte', '▁appropriés', '▁appliqués', '▁troll', 'Sport', '▁présidentiel', '▁TU', 'fois', 'format', '▁coquins', 'individuellement', '▁entourent', 'Eternel', '▁mage', 'incompréhension', 'extinction', '▁Animaux', '▁irakien', '▁rôti', 'ancrage', 'existent', '▁Corn', '▁infecté', '▁poilue', 'èze', '▁lapins', '▁Marin', '▁tamis', '▁homosexuels', '2003', '▁expresse', '▁choisies', 'combe', 'adressent', '▁poussant', '▁vibrer', '340', '▁excursions', '▁regretté', 'Notre', '▁adorer', '▁socialisme', '▁Imprim', '▁gagnante', '▁frontale', '▁médailles', 'OIRE', 'juin', '▁Sey', '▁RD', '▁héroïne', '▁Halle', 'ARE', '▁EV', '▁interroger', '▁Elizabeth', '▁fabuleuse', '▁réparateur', '▁capturé', '▁imminent', '▁citadin', '▁incessant', '▁minorités', '▁wagon', 'phyl', '▁harmonieux', '▁INTER', '▁Blan', '▁déduire', '▁pénétr', '▁tuiles', '▁verront', '▁Rétro', '▁flip', '▁doter', '▁fume', 'petits', 'jacent', 'burn', '▁tunisienne', 'espèces', 'df', '▁perpétuelle', '▁Rib', '▁combles', '▁instantané', '▁MET', 'bleu', '▁XX', 'Entreprise', 'Equipe', '▁ruelles', '▁Ateliers', 'importantes', '▁piétons', '▁Feuille', '▁Pire', '▁Bré', '▁fragments', 'nouveau', '▁absente', '▁Auguste', '▁exigent', '▁Beth', '▁coûteuse', 'nga', '▁nutritionnelle', '▁racontent', 'prenez', '▁éclairée', '▁immobile', 'amertume', '▁incomplète', '▁soulignant', '▁ébullition', '▁grignot', 'génique', '▁Crème', '▁Picardie', '▁pér', '▁fournissant', '▁redressement', '▁légitimes', '▁considérations', '***', '▁géologique', 'jol', '▁sacrifier', 'autisme', '▁lanceur', '▁accompagnées', '▁Régionale', '▁Baptiste', '▁Livré', '▁élect', '▁abordables', '▁Quint', '▁Dit', '▁gratuité', '▁levant', 'OME', '▁partons', 'illan', '▁nouer', '▁apprécient', 'lange', '▁caresser', '▁fureur', '▁Prim', '▁BU', 'KE', '▁cibler', 'EPS', '▁IX', '▁caractérisée', '▁distribués', 'avou', 'risque', 'HP', 'fondé', '▁condamner', '▁PLA', 'gier', '▁Précis', '▁éducatifs', 'Cas', 'Extrême', '▁précurseur', '▁convives', '▁carnaval', 'Édouard', '▁collégien', '▁intéressent', 'épopée', '▁tierce', '▁opaque', '▁garantissent', 'hydrogène', '▁Leader', '▁paternel', '▁respiratoire', '▁Lewis', '70)', '▁Jason', '▁aquatiques', 'Haute', '▁versée', 'ançon', '▁proportionnelle', '▁feraient', '▁sélectionneur', '▁brancher', '▁alliée', '▁BAR', '▁appropriées', 'ANN', 'Assad', '▁2011)', '▁Vingt', '▁conclue', '▁attachement', '▁pliant', '▁cholestérol', 'twitter', 'Mor', '▁550', '▁souhaitable', '▁sommier', 'arium', '▁essay', '▁violentes', '▁occulte', '▁remarqua', '▁Egypte', '▁couplé', '▁Ris', 'SQ', 'gami', 'Dieu', 'émancipation', '▁Principe', '▁explosif', '▁intensive', '▁monarchie', '▁entourant', 'porté', '▁Next', '▁Ave', 'issimo', '▁réputés', '▁attirant', '▁Critique', 'EME', '▁baptis', 'force', 'issier', '▁Cave', 'jardin', '▁musculaires', 'Amazon', '▁aucunement', 'investi', 'Anton', '▁sélectionnées', 'entreprendre', 'Anti', '▁cachent', 'olli', 'utter', '▁Expérience', 'adressa', 'aiguille', '▁DO', '▁modélis', 'allée', 'adrénaline', '▁RENCONTRE', '▁croquis', '▁conforama', '▁soudure', '▁cadence', '6,5', '▁cadavre', '▁démarque', 'inviter', '▁annonçant', '▁Namur', '▁comprendra', '▁retraité', '▁run', '▁apparaitre', '▁graine', '▁récup', 'ABLE', '▁Kel', '▁Boucle', '▁égout', '▁différentiel', '▁insuffisante', '▁Marina', 'êne', '▁battent', '▁CAF', '▁marchande', '750', '▁Voie', '▁perdues', '▁bab', '▁favorisé', 'rub', 'orbi', '▁durent', 'Aude', '▁comprises', '▁Get', 'Centre', 'ORT', 'itan', '▁Offres', '▁culinaires', 'Hexagone', '▁chorégraphie', '▁hongrois', '▁improvisé', '▁persévérance', '▁thriller', '▁cristaux', 'éjaculation', '▁ignorant', '▁éveillé', 'humoriste', '▁ABS', '▁gravier', '▁grandissant', '▁mutuel', '▁failles', '▁convertible', '▁cycliste', '▁brio', '▁bienvenu', 'griff', '▁cidre', '▁approfondi', 'rond', '▁commémoration', '▁Lyonnais', '▁badge', 'ampli', '▁paysager', 'écoulement', '▁frites', '▁buteur', '▁exclusives', '▁concentrée', '▁Lily', 'Georges', '▁institutionnels', 'pièce', '▁fair', '▁trad', '▁Poisson', '360', '▁Administration', 'éral', '▁diversifié', '▁buste', '▁Sound', 'incompréhensible', '▁moutarde', '▁méthodologique', '▁pénurie', '▁pérennité', '▁reproductibles', '▁rhétorique', '▁scrupule', '▁Assurez', '▁Citoyen', '▁ressortissants', 'attractivité', '▁Mulhouse', '▁conservatoire', '▁numero', '▁matérielles', '▁Opération', 'antan', '▁influer', '▁Châtel', '▁paupières', '▁aptitudes', '▁nice', '▁décolleté', '▁103', '▁conservées', 'emmerde', 'UNE', '▁minimiser', '▁1800', '▁attribue', 'DIS', '▁carrée', '▁Bourbon', '▁introduite', 'assise', '▁From', 'publique', '▁SAL', 'Joseph', 'diff', 'SU', 'affût', '▁démenti', '▁power', '▁avi', '▁souche', '▁prescriptions', '▁commémor', 'aillé', '▁CDD', '▁Rica', '▁Ard', '▁allures', 'hydrate', '▁Miller', '▁+1', 'trophi', '▁accrocher', 'invalidité', 'Évangile', '▁Structure', '▁résurrection', '▁concilier', '▁adidas', '▁successifs', '▁antioxydant', '▁inondations', '▁145', '▁surnaturel', '▁Voltaire', 'inclusion', '▁articulations', '▁adéquation', '▁Freud', '▁abonné', '▁cocktails', '▁garniture', '▁Professionnels', '▁réactive', '▁diversification', '▁coulissant', '▁portera', '▁PRES', '▁instruction', '▁biz', '▁Changement', '▁feutre', '▁présidé', '▁terrestres', '▁centralisé', '▁Amen', 'gic', '▁270', '▁piloter', '▁impulsion', 'niveau', '▁hôtelier', 'voyant', '▁Milli', '123', 'ample', '▁Market', '▁TPE', '▁aboutit', '▁experience', 'hydro', '2002', '▁glissa', '▁piquer', 'Star', 'chine', 'homosexualité', '▁Explorer', '▁contrefaçon', '▁rétractation', '▁Burundi', '▁institué', '▁Alexander', '▁anale', '▁Comprendre', '▁taupe', '▁ustensiles', 'observ', '▁BM', '▁Oubli', '▁prompt', '▁qualitative', '▁râle', '▁rapprocha', '▁conduisent', '▁Poker', '▁revendre', '▁Dress', '▁gagn', '▁facto', '▁Ecoute', 'élargissement', '▁(8)', '▁gènes', '▁grange', '▁justifiée', 'urin', '▁délimit', 'lala', 'TZ', '▁sign', 'connexion', 'Commun', '▁MAN', '▁immersion', '▁attribu', 'ANE', 'risto', 'db', '▁fermées', '▁2.2', '▁attentive', '▁Bey', '▁Florian', '▁doudou', 'show', '▁multinationales', 'insta', '▁icône', '▁dessein', 'Tour', '▁Kinshasa', '▁paradigme', '▁Plateforme', '▁tranchant', '▁émanant', '▁époustouflant', '▁chorale', '▁Testament', 'intégr', '▁filtration', 'épuise', '▁his', '▁Gaston', '▁nantes', '▁Evolution', '▁sélectionne', 'arrosage', 'initia', 'flexion', 'asperge', 'ssions', '▁Wifi', 'CHER', '▁Donnez', '▁Forest', '▁éclats', '▁Pute', '▁tempo', 'shin', '▁militante', '▁ramen', '▁entrave', 'toujours', '▁provoquée', '▁partagées', '▁sollicite', '▁continuait', '▁Barth', '▁Rand', 'accomplir', '▁Arg', '▁préside', 'orte', 'celui', '▁mélodies', '▁tél', '▁brisée', 'orphelin', '▁positionne', '▁Profession', '▁Circuit', '▁éponyme', '▁Agnès', '▁botte', '▁nausée', '▁plâtre', '▁Aï', '▁Cheveux', '▁déporté', '▁latéral', '▁Appareil', '▁binaire', '▁Garden', 'peri', '▁vallon', '▁Chien', '▁marchait', '▁Prime', '▁réfugié', 'primer', 'thode', '▁promoteur', '▁Arabes', '▁autorisées', '▁grossiste', '▁écarts', '▁aéroports', '▁passive', '▁réclament', 'zia', '▁prône', 'CON', 'poste', 'VES', 'insuffisance', '▁inquiétudes', '900', '▁rajouté', 'olly', '▁fées', 'glyc', '▁circule', 'inventeur', 'LON', '▁revendeur', '▁interrupteur', 'Bois', 'cake', '▁identifie', '▁adhésif', 'cardi', '▁convaincue', '▁cambriolage', '▁English', '▁Musulman', '▁cuisinière', '▁divertir', '▁échangiste', '▁haleine', '▁écrivant', '▁Clinton', '▁métaphysique', '▁Monument', '▁FIFA', '▁MERCI', '▁mortels', '▁Fabrique', 'liver', '▁débris', '▁Prague', '▁dépêche', '▁Partagez', '▁Song', 'épuisement', '▁roux', '▁footballeur', '▁amplement', '▁Gér', '▁tenons', '▁progressiste', 'intrusion', 'coréen', '▁nouvellement', '▁tonalité', 'élia', '▁Model', '▁Boot', 'oyo', 'cuisine', '▁pétri', '▁hotte', '▁Membres', '▁Brune', 'figure', 'FSU', '▁Hitler', '▁2012)', '▁vieillir', 'ethno', '▁sentimental', 'choc', 'phor', '▁NBA', '▁violette', 'média', 'tana', 'accordent', '▁Cambodge', '▁Grégoire', '▁Registre', '▁refonte', '▁Shopping', '▁sonner', '▁reconnaissable', '▁ironique', '▁usagé', 'Automne', '▁hormones', '▁persil', 'enfui', 'gnat', '▁Presque', 'atterrissage', '▁ardent', '▁détachement', '▁magistrat', '▁Filtre', '▁tunique', '▁querelle', '▁expériment', 'utile', '▁diversifiée', '▁fougue', 'endra', 'SSI', 'assemble', '▁tendent', '▁Assez', '▁contractuel', 'uuu', '▁aideront', '▁clandestin', 'inho', '▁cuisse', '▁trier', 'depuis', '▁disaient', 'épanouir', '▁pit', '▁verri', 'Alexandre', 'NER', '▁trancher', '▁Travers', '▁employer', 'impasse', 'Sec', '▁émetteur', '▁indigènes', 'issière', '▁initi', '▁parfaire', '▁Lake', 'mard', '▁Strat', 'assuré', '▁volatil', '▁Mitterrand', '▁haricots', '▁intrinsèque', '▁pseudonyme', '▁autrichien', '▁Apparemment', '▁mascara', 'exonération', 'allumage', 'usager', 'dance', 'Équipe', '▁fioul', '▁Thermo', 'ology', '▁habiller', '▁Scène', '▁Bug', '▁drapeaux', '▁real', '▁gonfle', '▁indiens', '▁1936', '▁charisme', '▁mâchoire', '▁gant', '▁Résidences', 'clic', '▁PHP', 'Sal', '▁Party', '▁transversale', '▁Large', '▁promotionnelle', '▁audiovisuel', '▁neveu', '▁Règle', '▁1915', '▁organisationnel', '▁décidez', '▁Plaque', 'BU', 'NB', '▁transmise', '▁encadrement', 'illère', '▁amenée', 'entraîne', '▁Collin', 'veloppement', '▁CU', '▁forger', '▁épuré', '▁récurrente', '▁1,3', 'may', 'htm', '▁tronçon', 'agrumes', 'antisémitisme', '▁Spectacle', '▁packaging', '▁Zurich', '▁troublant', 'neuvième', '▁denrées', '▁arpent', '▁mailles', '▁Ghana', '▁comics', '[9]', '▁exposants', '▁prévient', '▁attributs', '▁Resort', '▁fallut', '▁déduit', '▁Fel', '▁Over', '▁laïc', 'Gra', '▁Disco', '▁mobilisés', '▁produisant', 'imprimerie', '▁Tête', 'ELEC', '▁tenais', '▁formel', 'cross', '▁Francais', '▁consulte', '▁perché', 'utilisé', 'emmener', '▁Issu', '▁Old', '▁semer', '▁Herm', 'admi', '▁transforment', '▁Rappel', '▁éclate', '▁multifonction', 'Intelligence', 'appréhension', '▁espérait', '▁métamorphose', '▁Brexit', '▁grenade', '▁Composé', '▁VOUS', 'ailleur', '▁couvent', 'passer', '▁séisme', '▁Pli', '▁GAR', '▁Pochette', '▁meneur', '▁superficielle', '▁jauge', '2-2', '▁Mariée', '▁écolo', '▁108', 'boo', 'rata', 'embrassa', '▁volcanique', '▁tech', '▁Roque', '▁Capitale', '/2017', '▁Techniques', '▁débordement', '▁Class', 'item', '▁parcourant', '▁promotionnel', '▁2010)', '▁séché', 'ggy', '▁Pompe', 'center', '▁Flex', '▁cadavres', '▁lyonnais', '▁dûment', '▁soupçonne', 'psycho', '▁skate', '▁présentons', 'VO', '▁1080', '▁Chocolat', '▁flûte', '▁marseillais', '▁Quotidien', '▁infligé', '▁pvc', '▁kiosque', 'instabilité', '▁humaniste', '▁achetant', '▁terrifiant', '▁donjon', '▁Mercure', '▁Pharmacie', 'INES', '▁Malte', '▁tartine', '▁Biblio', 'Beau', 'dow', '▁astral', 'Malo', '▁imposante', '▁transformant', '▁BAC', '▁complètent', '▁Diable', 'étaler', 'ARS', '▁SOL', '▁questionner', 'augment', '▁carre', '▁habillée', '▁ascendant', '▁Schw', '▁Vid', 'appartient', '▁recherch', '▁Vigne', '▁Bér', '▁attentat', 'ULT', 'tube', '▁signataires', 'emparer', '▁VER', '▁ministériel', 'inch', 'geur', '▁motive', '▁Ségolène', '▁Particulier', '▁concitoyens', '▁narrateur', '▁Fichier', '▁grenouille', '▁sodium', '▁Brother', '▁piquant', '▁garcon', '▁présentement', '▁sentimentale', '▁néant', '▁Boss', '▁1952', '▁TOP', '▁diner', 'oient', '▁Low', '▁canape', 'trix', '▁torturé', 'PV', '▁Pink', '▁néglige', '▁originel', '▁Andrea', '▁Collier', '▁hybrides', '▁vibration', '▁Parfum', '▁Institute', 'Ir', '▁sui', 'vêtements', '▁oscill', '▁Bret', '▁douée', 'couche', 'branche', 'TIN', '▁Bourd', '▁fonctionné', '▁réjouir', 'Normandie', 'insulte', '▁gru', 'VEL', '▁Herb', '▁Chantal', '▁xx', 'nomie', '▁gazon', '▁Way', 'pension', 'Indi', 'nç', '▁Sydney', '▁minoritaire', '▁neutralité', '▁tumblr', '▁Senior', '▁Grecs', '▁supporté', '▁substitution', 'institutionnelle', '▁Coucher', '▁mélangez', 'emblème', '▁pallier', '▁house', '▁incorpor', '▁penchant', 'hésitent', '▁vf', 'edge', '▁apéritif', '▁accueillante', '▁touchées', '▁EU', '▁Lux', 'échantillon', '▁interaction', 'ascenseur', 'Industrie', 'walk', '▁agrandir', 'enfuir', '▁1,6', '▁Pure', 'nord', 'associe', 'épilation', '▁domicilié', '▁détective', '▁Bâle', '▁immigrés', '▁débordant', '▁contamination', '▁écossais', '▁Tennis', '▁baume', '▁Chirac', '▁cherchons', 'Electre', 'écorce', '▁papilles', 'aviez', '▁drones', '▁retrouv', '▁perche', 'figuration', 'isto', '220', 'abre', '▁Satan', '▁déménager', '▁caserne', 'acées', '▁consul', '▁Ciné', '▁tempér', '▁apportée', '▁Ping', '▁inconditionnel', '▁démoli', '▁Zan', '▁prendront', 'rions', '▁Carol', 'accélération', 'estimation', 'Christophe', 'opposé', '▁habitent', '▁Inn', '▁chroniqueur', '▁coéquipiers', 'directeur', 'rides', '▁sublim', '▁Artisans', '▁Concrètement', '▁maximiser', '▁réversible', '▁tertiaire', '▁Bracelet', '▁Naples', '▁hypertexte', 'Form', 'Pol', 'gone', 'Ange', 'ppy', '▁berline', '▁Climat', '▁TNT', '▁Surface', 'empli', '▁devises', 'stock', '▁Mec', '2,5', '▁donation', '▁Tap', '▁polluants', '▁suggér', '▁relax', 'AINE', 'tourisme', 'Etudiant', '▁food', 'Eure', 'journal', 'Acc', '▁Existe', 'igot', '▁strip', '▁With', '▁Julia', '▁event', '▁avantageuse', 'occident', '▁kan', '▁pluriel', '▁Fabrication', 'Énergie', '▁préoccupé', '▁Budget', '▁osseuse', '▁Spring', '▁emprunte', '▁apprentis', '▁Sour', '▁Idéalement', 'VAL', 'mania', 'umble', 'Net', 'mation', '▁gastro', '▁plaint', '▁standing', '▁BTP', 'catégori', '▁Pep', '▁Chacune', '▁maintenue', '▁Partager', '▁ancré', '▁manier', '▁buisson', '▁Cuis', '▁Nau', '▁aires', 'environnementale', '▁Ancienne', '▁zu', '▁gratte', '▁Allen', 'Petit', 'look', '▁diffuseur', 'local', 'tik', 'indiqu', '▁australien', '▁allo', '▁Virgin', '▁hiérarchique', '▁moléculaire', '▁persécution', '▁singularité', '▁Audrey', 'embrayage', '▁énervé', '▁Considérant', '▁honoré', '▁tondeuse', '▁urinaire', '▁squelette', '▁conjugue', 'Empereur', '▁Carole', '▁Famili', '▁Monique', '▁Andrew', '▁nuageux', '▁déten', '▁Malaisie', '▁Vérité', '▁Cohen', '▁caverne', '▁montrait', 'Ardenne', 'exprima', 'allergie', 'leve', 'orée', '▁Signaler', 'SUR', '▁brutes', '▁nécro', '▁groupé', 'attire', '▁RTL', 'blage', '▁paysanne', ':00,', '▁CSS', '▁Solution', '▁percée', 'histo', 'arriere', '▁combattu', 'bilis', '▁165', 'ministre', '▁traversent', 'ruche', '▁regardais', '▁Luna', 'Fin', '▁Naturel', '▁savour', 'avancée', '▁Ari', 'surveillance', '▁REN', 'Avignon', '▁Ian', '▁Stop', '▁limitant', '▁explose', 'ègue', 'event', 'PRI', '▁réfléchit', '60)', '▁héritiers', '▁masquer', '▁consolidation', '▁malédiction', '▁magistral', '▁saucisse', '▁Swiss', '▁bêta', '▁préconisé', '▁collaborative', '▁glissé', '▁Ernest', '▁Yannick', '▁spirale', '▁foulard', '▁revint', '▁semences', '▁Aaron', '▁Antilles', 'OCDE', 'VC', '▁WiFi', '▁truffe', '▁guidon', '▁revisite', '▁exigeante', '▁viable', 'Mat', 'écroule', 'lica', '▁savoureuse', 'espionnage', 'oïd', 'érat', '▁tarifaire', '▁Industriel', '▁soupçonné', '▁soudaine', '▁mêlent', '▁thon', 'ommage', 'gresse', '▁intercommunal', '▁empreintes', '▁Hub', '▁fusée', '▁ACT', '▁honnêtement', '▁RSS', '▁consigne', '▁Reb', '▁Consul', '▁BER', '▁débarquer', '▁Greg', '▁socialement', 'BEL', 'parce', '°3', '▁inquiétude', '▁Ibrahim', '▁abdominale', 'automatisation', '▁Delphine', '▁jalouse', '▁mercenaire', '▁Trophée', '▁blindée', '▁dictateur', 'Étiquettes', '▁alliage', '▁farouche', '▁examine', '▁badoo', 'bbi', '▁détaillant', '▁malheureuse', '▁Berth', 'ancourt', '▁approché', '▁tent', 'ggi', '▁Bassin', '▁assigné', '▁diagrammes', '▁Nina', 'matic', '▁méditerranéenne', '▁saleté', '▁séparées', 'fix', '▁Clan', '▁incapacité', '▁Cahiers', 'pool', '▁acceptation', '▁remonté', 'document', '▁éponge', '▁serions', '▁minimal', 'ILE', 'hémat', '▁rapportant', '▁command', '▁coureur', '▁shoot', 'nault', 'temp', '▁invariablement', '▁provençal', '▁précédant', '▁récidive', '▁Jessica', '▁effectuant', '▁Volume', '▁Idem', '▁certifie', '▁lacets', '▁Prof', 'pong', '▁scrap', '▁Bouche', '▁rivalité', '/18', '▁beur', '▁blogueuse', '▁clocher', '▁Motif', '▁1789', '▁accélération', '▁rayé', 'IQUES', '▁nounou', 'RIT', '▁voleurs', 'rius', '▁Profit', '▁sentant', 'hrys', '▁Rémi', '▁Sage', '▁Flora', '▁Passez', '▁entendit', 'MF', 'VT', '▁collectionneurs', 'cible', '▁transférée', 'évite', '▁Boc', 'aveugle', '▁PACA', '▁mêlé', '▁pharmaceutiques', '▁distribue', '▁Avi', '▁projette', '▁navigue', 'HY', '▁renouvelée', '▁fluidité', '▁redevance', '▁reviendrons', '▁splendeur', '▁Mauritanie', '▁beautiful', '▁rajeuni', '▁spécifié', '▁réviser', 'infanterie', 'pathie', '▁Maï', '▁Vichy', '▁préoccupe', 'exploiter', '▁nièce', '▁votant', '▁superposé', '▁discount', '▁gym', '▁débile', '▁Chrono', 'IND', '▁posait', '▁prétendent', 'curit', 'africain', '▁marchant', 'ATT', '▁paume', '▁saurez', '▁enclin', '▁tresse', '▁CONS', '▁piston', '▁réjouit', '▁enfoui', '▁vulnérable', '▁Supérieure', '▁gamine', '▁noyer', 'clip', '▁virer', 'orum', 'statique', '▁contrées', 'annuler', '▁limit', '▁Maya', '▁Boule', 'CHI', '▁martin', '▁promoteurs', 'oria', 'èr', 'elfe', '▁remontent', '▁électromagnéti', 'assumer', 'igma', '▁Récemment', '▁charcuterie', '▁croustillant', '▁nettoyant', '▁riverains', '▁vivaient', '▁serviable', 'perfectionnement', '▁1870', '▁Normalement', '▁démolition', '▁infirmiers', '▁poney', '▁Batman', '▁abstrait', '▁collectivement', '▁Campus', '▁sentence', '▁cavaliers', '▁Abidjan', 'Plan', '▁obscure', '▁sioniste', '▁viendrait', '▁intéressées', '▁[3]', '▁répartir', 'salon', '▁chérie', '▁dormi', '▁traitent', '▁communisme', '▁fouilles', 'écha', '▁chaleureusement', '▁fléau', 'Off', '▁excursion', '▁Electro', 'allah', '▁mangent', 'osi', '▁Bruce', 'Auvergne', 'français', 'accroître', '▁vivi', '▁déval', '▁glacée', '▁retournée', '▁palestinien', 'TEC', '▁Bali', 'Book', 'étonnant', '▁Telecom', '▁consécutifs', '▁trek', 'presseur', '▁ornée', '▁dinosaure', '▁Catholique', '▁Salomon', '▁dévouement', '▁instruit', '▁Épisode', '▁Snow', 'Émile', '▁orbite', '▁troublé', '▁reconstruit', '▁2013)', '▁attenant', 'gage', '▁lécher', '▁Combat', 'ATA', 'Aube', '▁FAI', '▁atteignent', 'infiltration', '▁articulaire', '▁falaises', 'coop', '▁palestinienne', '▁sollicitation', '▁Ronde', 'écurie', '▁revêtu', '▁améliorez', '▁1933', '▁quittent', '▁Bouton', 'FER', '▁Kaz', 'ressant', '▁cruelle', 'éens', '▁séparent', 'extra', '2.000', 'courez', 'mbra', '▁exploitée', 'envisage', 'RAP', 'ROU', 'qualif', 'DJ', '▁ASS', 'liquide', '▁XXI', '▁Serre', '▁Boo', '▁SK', 'financement', '▁alterne', '▁traduis', '▁Plou', '▁magnifiquement', '▁Chasse', '▁courent', 'ubé', 'wald', '▁admira', 'escroquerie', '▁Félicitations', '▁Vincennes', '▁évidement', '▁kayak', '▁Récupér', '▁Philippines', '▁pastorale', '▁Conclusion', '▁cubain', 'entrepreneuriat', '▁couronné', '▁remplissant', '▁transform', '▁Burg', '▁Suivi', '▁misérable', '▁tracas', '▁Dites', 'ossi', '▁noyé', '▁succèdent', '▁chaire', 'Andr', '▁Asso', 'emballe', '▁Dion', 'Har', 'rash', '▁hurla', '▁licenciés', '▁Body', '▁quantique', '▁ECO', '▁Solaire', '▁licencié', '▁pluri', '▁sourcil', 'encens', '▁eurent', '▁Hein', '▁courageuse', '▁1905', '▁atlantique', '▁Regi', 'Président', '▁chaux', '▁Caire', '▁106', 'gression', '▁Bouches', '▁baptisée', '▁fouille', '▁horizontal', '▁Casse', '▁Num', 'ambiguïté', '▁Bulgarie', '▁Hallyday', '▁Morbihan', '▁débourser', '▁primitive', '▁répercussions', '▁Technicien', 'éduquer', 'Aristote', '▁coop', '▁soulagé', '▁rétrospective', '▁ROU', '▁englobe', '▁neurones', '▁CAC', '▁exerçant', '▁milice', '▁thym', '▁Documentaire', 'opposent', '▁essaient', '▁âne', '▁BCE', '▁renvoy', '▁gamb', '▁prospects', 'ndez', '▁region', 'installent', 'lienne', '▁280', '▁agression', 'innov', '▁fonctionnant', '▁mexicain', '▁quebec', '▁Nouveaux', '▁palestiniens', 'iculteur', 'tape', '▁étagères', 'Anvers', 'faisant', '▁provoquent', 'verne', 'ultime', '▁6000', '▁Roh', '▁Marseillais', '▁Phoenix', '▁dispersion', '▁préparatifs', '▁saoudite', '▁évacué', '▁octroyé', 'instauration', '▁Boulevard', '▁Tahiti', '▁Patricia', '▁Leonard', '▁structurelle', 'esclave', 'ïn', '▁desquelles', 'épuration', '▁tord', '▁parue', '▁cassette', '▁111', 'agrandissement', '▁pendu', '▁carotte', '▁mérit', '▁Abou', '▁glacé', '▁chauve', '▁consommée', '▁group', '▁éditorial', '▁hand', '▁imaginez', '▁Schu', '▁Server', 'ODE', 'habillage', '▁Geneviève', 'GU', '▁Chargé', 'ICO', '▁survivant', '▁épicerie', 'expliqu', '▁décoller', 'icht', '▁Marqué', '▁2/3', '▁Wol', 'entour', '▁1600', '▁regroupés', 'ollo', '▁imitation', 'verbal', '▁jouez', 'throp', '▁norvégien', '▁politesse', '▁supériorité', '▁rétrograde', '▁brocante', '▁tournure', '▁Eugène', '▁glacial', '▁Colloque', '▁labellisé', '[10]', '▁sprint', 'gueur', '▁Bayonne', '▁Wilson', '▁réunissent', '▁recouvr', 'ÉR', '▁émettre', '▁copieux', '▁crains', '▁Bed', 'oran', '▁sida', '▁8,6', '▁Turin', 'tigny', 'personne', '▁datation', '▁cosmique', '▁Vand', '▁Relais', 'vive', 'mène', 'Humanité', '▁reflètent', '▁aquarium', '▁photographier', '▁adieu', '▁Culturel', 'RAS', 'enterrement', '▁éclairci', '▁déplacent', 'culturelle', '▁décim', 'innombrables', 'International', '▁reposent', 'aligner', '▁manquement', 'Mac', '▁SPA', '▁hurler', 'HON', '▁Foire', '▁Poudlard', '▁adoptant', '▁infrarouge', '▁Transfert', '▁malgache', 'Initiative', '▁productif', '▁benne', '▁alsacien', '▁Préparez', '▁marquis', '▁inégalé', '▁Relation', '▁phyto', 'élèvent', 'villiers', '▁tendant', '▁gravit', '▁analystes', '▁Bastia', '▁Olympiques', '▁auditeurs', '▁Maxim', 'APS', 'ERIE', '▁perfectionner', 'Assise', '▁Allo', '▁sereinement', '▁conjugale', '▁Emilie', '▁innombrables', '▁concev', '▁Castel', '▁jantes', '▁blanchiment', 'algue', '▁Grav', '▁Élé', '▁Spot', 'Cela', '▁confondues', '▁Pièce', 'écouler', '▁noeud', 'natural', 'national', '▁séjourné', 'èce', '▁récupéra', 'infirmière', '▁satisf', '▁pill', '▁paradoxal', '▁casier', '▁Barba', '▁communiquées', '▁Finistère', '▁Préfecture', '▁féminité', '▁gymnastique', '▁imprégné', '▁privatisation', '▁constructif', '▁tricolore', 'Aveyron', '▁onéreux', 'enheim', '▁analogue', 'IEL', '▁Alimentation', '▁munitions', '▁dogme', '▁Garcia', '▁documenté', 'nèrent', '▁Karine', '▁1949', '▁regle', 'Moi', '▁Davis', '▁entamer', '▁suggérer', '▁bourre', 'inertie', '▁brésilienne', 'izer', '▁députée', 'BY', 'Ul', 'NOM', '▁vasculaire', '▁Afghanistan', 'conf', '▁2500', '▁fourche', '▁prud', '▁Tomb', '▁Emmanuelle', '▁prôn', '▁general', '▁132', '▁Contacter', 'PER', '▁Applique', 'éprouve', 'appétit', '▁montent', 'Angers', '▁Morin', '▁Ibn', 'absolu', '▁chevelu', '▁Hei', 'doux', '▁arbor', '▁Hat', '▁faisceau', '▁Hebdo', '▁différend', '▁félicité', '▁inacceptable', '▁radicaux', '▁reconstituer', '▁tyran', '▁repenser', '▁1919', 'adultère', 'amplitude', '▁CFDT', '▁impuissant', '▁Intervention', '▁Maladie', '▁aménager', '▁Effect', '▁Campagne', '▁China', 'interdit', '▁Montreuil', '▁fournissons', '▁Doctor', '▁Bridge', 'allo', '350', '▁Proposition', '▁précité', 'nav', '▁folk', 'dding', '▁Sortir', '▁Control', '▁prose', '▁débiteur', '▁adv', '▁Dir', '▁désirer', '▁programmeur', '▁SEC', 'autorise', 'corn', 'mour', 'système', 'THE', '▁empli', '▁Hydro', '▁initiée', '▁Cheval', '▁Patri', 'indemnité', 'diffusion', '▁annuellement', '▁XVe', '▁néfastes', '▁Visa', '▁corn', '▁dépendra', '▁Ech', '!»', '▁Eiffel', '▁approximatif', '▁croûte', '▁enchaîné', '▁invoqué', '▁western', '▁idéaux', '▁Séminaire', '▁Fantasy', '▁Picasso', '▁RN', '▁photographié', '▁Asics', 'hypno', '▁parsemé', '▁Bises', '▁Polo', '▁incombe', 'érosion', '▁BNP', 'cution', '▁city', '▁terminant', 'moul', '▁désignée', 'méth', '▁1932', 'AIR', '▁Legend', 'arien', '▁embrasse', '▁assortiment', '▁Réserve', '▁Metro', '320', '▁bobo', '▁débarras', '▁épanoui', '▁fat', '▁Ottawa', '▁différenci', 'attaqu', '▁refusant', '▁soupira', '▁connaisseur', 'jin', '▁Mach', '▁ATTENTION', '▁Academy', '▁betterave', '▁diabétique', '▁inquiétez', '▁prophétie', 'adjectif', 'Ferdinand', '▁dérangé', '▁modulable', '▁piloté', '▁toxico', '(1)', '▁exquis', '▁révisé', '▁Hiro', '▁Bague', '▁Gang', '▁évoquent', '▁SY', '▁pioche', '▁Molière', 'pêche', '▁Julian', '▁mêler', '▁testée', '▁ACC', 'phar', '▁offrez', 'BER', '▁Locale', '▁1,8', '▁finaliser', '▁absorber', '▁absorbe', '▁fraîchement', '▁Gardez', 'Mou', 'Site', '▁disciple', '▁pardonne', '▁Event', 'éthyl', 'Accueil', '▁bazar', '99€', '▁Idée', 'organ', '▁scénar', 'APP', '▁cumulé', '▁Catalogne', '▁Restauration', '▁cafetière', '▁maréchal', '▁écrivait', '▁Mathilde', '▁déplaça', '▁gâté', 'Abbaye', '▁comprenez', '▁Directrice', '▁Francfort', '|--', '▁Transition', '▁Pav', '▁Spider', '▁copié', '▁clôturé', '▁Harris', '▁couilles', '▁serein', '▁rejetée', 'papier', '▁réfléchissant', '▁1938', 'crim', '▁survenir', '▁éclater', '▁constatation', '▁ampoule', '▁APP', 'chaussures', '▁comparant', 'geois', 'incitation', '▁écoulé', '▁empêchent', 'maker', '▁1,4', '▁perdez', '▁succède', '▁Lutte', '▁positivement', 'infraction', 'imprimante', 'angue', '▁gagnez', '▁pb', 'intolérance', '▁Rugby', '▁appuyez', '▁piqûre', '▁psychiatrie', '▁assurons', '▁renversé', '▁Coquine', '▁actualisé', '▁sketch', '▁louange', '▁consultable', '▁Christopher', '▁amazon', '▁cuisiné', '▁pleut', '▁pollue', '▁concentra', '▁Écoute', '▁Léger', '▁lunette', '▁mourut', 'arrivais', '▁romantisme', '▁Fortune', '▁originelle', '▁parasites', 'biz', '▁aidez', '▁habiter', '▁tireur', '▁précipité', '▁appelait', '▁Appar', '▁inversement', 'shire', 'IERE', '▁facon', 'atha', '▁hihi', '▁proto', '▁repr', '▁gardent', '▁confit', '▁verger', 'assume', '▁Bomb', '▁muet', '▁encaissé', '▁Clara', 'accélérer', 'marketing', '▁brusque', '▁#1', '▁Solo', '▁soixantaine', '▁Constantin', '▁infernal', '▁Universitaire', '▁LGBT', '▁Pauvre', '▁chaudiere', '▁Boh', 'bouchage', '▁Adobe', '▁contracté', 'object', 'punk', '▁déformation', '▁360°', '▁plants', '▁Tea', '▁Dog', '▁Verser', '▁blogueurs', 'OH', '▁Lens', 'minée', '▁connexes', '▁fente', 'OTE', 'cœur', '▁Inspiré', '▁Organisé', 'Circ', '▁1935', '▁Heart', '▁médian', '▁Spec', '▁skin', '............', '▁Baron', '▁remontant', '▁planifié', '▁260', 'ollet', '▁Rechercher', 'alpin', '▁courtois', '▁organisateur', '▁attirée', '▁Gate', '▁verbal', 'poly', 'encours', 'thro', 'incidence', '▁Huit', '▁apéro', 'tracommunautaire', '▁British', '▁Chelsea', '▁Recevez', '▁Mozart', '▁conduira', '▁plénière', '▁Download', '▁sandales', '▁Clinique', '▁hangar', 'Entrepreneur', '▁manipulé', 'anthropologie', '▁prometteuse', '▁cruauté', 'couleur', '▁Dublin', 'ambu', 'Livre', '▁parallèlement', 'membre', '▁japon', '▁superflu', 'URL', '▁clément', '▁rédige', '▁traduite', '▁marne', '▁Haw', '▁revente', '▁afro', '▁défiler', '▁pinceaux', '▁affichent', 'oti', 'GG', '▁Room', '▁prendrai', 'clusion', '▁quadra', '▁illimitée', 'tsch', 'itive', 'hara', '▁trader', 'Haut', '▁Yan', 'habituer', 'onald', '▁Horaires', '▁provincial', 'fondamentalement', '▁comprenne', '▁ivoirien', '▁Zoom', '▁Meilleure', '▁démarquer', 'Ecosse', 'élargir', 'Emploi', '▁Eye', '▁Roux', '▁éprouvé', '▁Passé', 'frais', '▁magn', '▁Connexion', '▁accédez', '▁concocté', '▁crevettes', 'arthrite', '▁côtière', 'Excellence', '▁libyen', '▁énième', '▁Tradition', '▁revendiqué', '▁chaotique', '▁courgettes', 'because', 'imba', '▁dénué', '▁reconstitution', '▁rigola', 'Our', '▁salari', '▁réacteurs', '▁ADN', '▁algues', '▁Suis', '▁fable', '▁SW', '▁Enquête', '▁year', '▁contester', '▁1951', '▁Sep', '▁respirant', '▁poussin', '▁camerounais', '▁Pomp', 'ECT', '▁PAL', '▁imprime', '▁satin', 'NON', '▁numér', 'CU', '▁role', '▁experte', '▁Administrateur', '2004', '▁OFF', '▁délaissé', '▁Eur', '▁affiner', 'pproximativement', 'ivi', '▁Linge', 'inois', 'égare', '▁Raj', '▁accomplie', '▁Vita', '▁fardeau', '▁miles', 'appart', 'indicateur', 'existait', '▁normaux', '▁fréquenter', 'ohn', 'échelon', 'allonger', 'installa', 'alternance', 'world', '▁1.6', '▁Sem', '▁prenantes', '▁Descriptif', '▁attractive', '▁obtiendrez', '▁réalisons', '▁Girard', '▁affectif', 'abstenir', '▁arbore', 'Écosse', '▁Dupont', '▁Lesbienne', '▁sérum', '▁Mayotte', 'classique', '▁automobilistes', '▁portuaire', '▁scellé', '▁Hassan', '▁Tristan', '▁méditer', '▁cailloux', '▁subitement', '▁Colmar', '▁Luminaire', '▁Ontario', 'giciel', '▁mitraille', '▁Access', 'vidence', 'tten', '▁refer', '▁circulent', 'râ', '▁formulé', 'assassin', '▁Rideau', 'amortisseur', 'huissier', '▁coordonner', '▁indirecte', 'grande', 'riot', 'clo', '▁fric', '▁évitez', '▁Heu', 'orateur', 'Chi', '▁118', '▁prospect', 'BLE', '▁sénat', 'discount', 'phore', '180', '▁routeur', '▁vignette', '▁Chance', '▁Fac', 'accabl', '▁Rico', '▁rasé', '▁envergure', '▁falaise', 'team', 'jordan', '▁Immo', '▁incorporé', 'européen', '▁persistant', '▁déplacée', '▁tirent', '▁thermostat', '..........', 'addition', '▁apparent', '▁Andre', '▁rites', 'insérer', '▁Mesdames', '▁Secrétariat', '▁raffinement', '▁Avocat', '▁courroie', '▁instauré', '▁boycott', '▁descriptive', '▁focus', '▁Randonnée', '▁basilic', 'INI', 'RÉ', '▁Partner', '▁Quart', '▁Massif', '▁biblio', 'aggraver', '▁pouf', '▁Pedro', '9€', '/16', '▁Nue', '▁Pam', 'aîné', 'kra', '▁polyvalente', '▁décourage', 'cessit', '▁maçon', '▁voleur', '▁Peyr', '▁applaudi', '▁Iron', 'ttons', 'Web', '▁soulev', '▁désirant', '▁Passage', 'crois', '▁Jouer', '▁MW', 'licite', '▁MAT', '▁biscuit', '▁Sexuelle', 'immédiat', 'aliment', 'Africain', 'entourage', 'ANNE', 'AVI', '▁Thérèse', '▁104', 'alphabet', '▁Ramadan', '▁brillance', '▁offensif', '▁réceptif', '▁stipule', 'humiliation', '▁Adidas', '▁ambigu', '▁régularité', '▁brebis', '▁admiration', '▁Western', '▁canyon', '▁modulaire', '▁moelle', '▁OGM', '▁vendange', '▁AUTO', '▁sociologique', '▁abusive', '▁plaçant', '▁Mixte', '▁rever', '▁donn', '▁Gan', '▁serviront', '▁provinciale', 'amendement', '▁écoulée', '▁vérifiez', '1,5', '▁foin', 'CAM', '▁Europa', 'avoine', '▁suppléant', '▁meute', 'Humain', '▁exercent', 'hong', '▁March', 'Liste', '▁2.1', '▁matos', '▁potion', '▁Slim', '▁décroche', '▁nuisances', 'class', 'Abbé', 'gare', '▁maçonnerie', '▁107', '▁dévoilée', '▁obsolète', '▁irrégulière', '▁labyrinthe', '▁montpellier', '▁revisité', '▁Mountain', '▁croquettes', '▁éminent', '▁collégial', '▁délirant', '▁Sofia', '▁promène', '▁XIXème', '▁Soutien', '▁prédiction', '▁restons', '▁préface', '▁trompette', '▁millier', '▁FB', '▁2030', '▁émerge', '▁compresseur', 'effacer', '▁engageons', '▁plongeant', '▁véto', '▁tisser', 'TAR', 'Arménie', '▁jonction', 'Gar', '▁Ice', '▁Bren', '▁prou', '▁malsain', '▁redonne', 'Lib', '▁causa', 'janv', 'abolition', '▁Armand', 'dog', '▁punir', '▁Marocain', '▁Statistiques', 'onstitutionnelle', '▁généralisée', 'fire', '▁tonique', '▁Tara', 'existant', 'Franc', '▁facilit', '310', '▁Ludovic', '▁iPod', '▁vertébrale', 'escargot', '▁Gallimard', '▁mitigé', '▁blouse', '▁pincée', '▁Toussaint', '▁écrin', '▁controle', '▁réglée', 'tendu', '▁Léonard', '▁invente', '▁idem', '▁plaisent', 'arb', '▁plaisait', 'embellissement', 'enlève', 'ectoriel', '▁Tournoi', '▁Régis', 'Entre', '▁Myst', '▁Devis', '▁charnière', '▁Chéri', 'utilisent', 'amant', '▁cocher', 'pliqué', 'assim', '▁accueillie', '▁structurée', 'XX', '▁Joan', '▁tracer', 'virus', '▁parfumé', '▁Amiens', '▁Dick', '▁pratiqu', '▁Visitez', '▁étatique', 'peak', '▁Pala', '▁charmé', '▁mât', '▁some', '▁lourdement', '▁Porté', '▁débrouiller', '▁détacher', 'Box', 'LEMENT', '▁allongée', '▁simplifié', '▁Hiver', '▁Solid', 'Bel', '▁symptôme', '▁vacance', 'alimentaire', '▁régaler', 'hô', '▁jetons', '▁Normand', '▁Librairie', '▁spammeurs', 'cott', '▁Astuce', '▁Sommaire', '▁simplification', 'guise', '▁Née', '▁Cialis', '▁renover', '▁dominée', 'cchi', 'azote', '▁What', '▁meurtrière', 'ricain', '▁laitiers', '▁Chalet', '▁Solidaire', '▁Pull', '▁déclenchement', 'AGNE', 'ALLE', '▁arrivez', '▁Scan', '▁Psych', '▁impasse', '▁Turc', '▁annulée', '▁strasbourg', '▁masturb', 'Champ', '▁baigne', '▁restituer', '▁glissement', 'JO', 'ajuster', '▁engendrer', '▁verge', '▁Change', '▁Ronaldo', '▁bitcoin', '▁bouffée', '▁corrélation', '▁dénivelé', '▁intervenons', '▁panoplie', '▁simulateur', 'Ajaccio', '▁aboli', '▁devrions', '▁toléré', '▁chakra', '▁ciseaux', 'Nazaire', '▁pécheur', '▁0,6', '▁manège', '▁viril', '▁annonçait', '▁arracher', '▁réalisable', '▁apaisé', '▁presqu', '▁écouteurs', 'attendent', '▁premi', '▁Logo', 'vig', 'VIDEO', 'lyn', '▁MU', '▁109', '▁chauffé', 'OPE', 'GL', '▁Bod', '0.5', 'pub', '▁UK', '▁garer', 'vac', 'MN', 'neu', '▁conservent', '▁Fav', 'Savoie', '▁Billet', 'insurrection', '▁Calendrier', '▁défensif', '▁echangiste', '▁trimestriel', '▁cravate', '▁Nelson', '▁sésame', '▁Mélanie', '▁retrouvailles', 'apprivois', 'acidité', '▁tenace', '▁dominatrice', '▁Voice', '▁pharmaco', '▁romancier', '▁dominateur', '▁ardeur', '▁1300', '▁Quad', 'souris', 'Info', '▁Rig', '▁déclarant', 'conte', 'RGE', 'lytique', '2001', 'Gal', 'ism', 'AIRES', 'Acte', '▁primé', '▁nombreuse', '▁enrichie', '▁repouss', '▁Equipe', '▁frappa', '▁Pascale', 'ajustement', 'imposant', 'Accord', 'abonné', '▁Dépôt', '▁Sherbrooke', '▁Vancouver', '▁antisémite', '▁défectueux', '▁frustrant', '▁imprévisible', '▁systémique', '▁biberon', '▁limpide', '▁Plastique', '▁serrage', 'ennuyer', '▁gisement', 'ORS', '▁spray', 'Exécut', '▁Skype', '▁College', 'presque', 'cène', '▁prospection', '▁mentaux', '▁révélateur', '▁ponctuel', '▁subjective', 'vaud', 'wiki', '▁155', '▁tentait', '▁gold', '▁Zoo', '▁coréenne', '▁inévitablement', '▁moquette', 'achèvement', '▁chapeaux', '▁frotter', '▁Détail', 'modul', '▁substituer', 'kka', '▁ronge', '▁milli', '▁développ', '▁bricole', 'config', 'inclina', 'Avent', '▁collation', '2,8', '▁Professionnelle', '▁écharpe', 'épave', '▁bordée', 'autobus', 'XT', '▁Viens', 'attribut', '▁muraille', '▁Jennifer', '▁Shakespeare', '▁craignent', '▁gymnase', '▁Pantalon', '▁People', '▁Yémen', '▁cueilli', 'Evangile', '▁écrivez', '▁kurde', '▁great', '▁contemplation', '▁terminaux', '▁pétales', '▁convenance', 'PRO', 'admettre', '▁sacrement', 'arrêtent', 'organisateur', '▁Cyber', '▁sensualité', '▁Thal', '▁Balance', 'GT', '▁Donner', 'imat', 'ASE', 'accession', 'irritation', '▁milite', 'Unité', '▁épris', '▁gâcher', '▁tombant', 'implique', '▁stud', 'shima', 'dad', '▁Colin', '▁grossir', '▁nageur', 'archer', '▁Pén', '▁fêté', 'dépendance', 'tenir', 'PES', 'Adam', 'youtube', '▁Matthew', '▁bruxellois', '▁hammam', '▁mitigeur', '▁shampooing', '▁varicosité', '▁Chambéry', '▁barème', 'exposant', '▁Trinité', '▁Pyr', '▁négation', '▁Spécialisé', '▁plaisance', 'Auberge', '▁Bataille', '▁lucide', '▁affrontements', '▁prospective', '▁urgente', '▁Thème', '▁diffèrent', 'upload', '▁Ouverte', '▁1929', '▁Tourne', '270', '450', '▁Stand', 'bury', 'rell', '▁bétail', '▁suppl', '▁Invent', '▁dominent', '▁gêner', '▁annoncent', '▁anticipé', '▁Appli', '▁irait', '▁Écrit', '▁MAIS', '▁épidémie', 'amusement', 'WE', 'appropri', '▁hou', '▁immatriculée', '▁condo', '▁temporelle', 'RATION', '▁self', '▁Who', '▁naïve', '▁Admin', 'Angoulême', 'anesthésie', '▁manutention', '▁mécanicien', '▁pellicule', '▁rigidité', '▁ombragé', '▁proverbe', '▁frustré', '▁Connaissance', '▁varices', '▁Assistance', '▁Installé', 'Entièrement', 'embryon', '▁Globe', '▁caprice', '▁encaiss', '▁movie', '▁Travel', '▁Luke', 'ulli', '▁essayait', 'EMI', '▁proc', '▁trappe', 'opathie', '▁Imprimer', '▁datée', 'canal', '▁Couronne', 'oppression', 'chimie', 'desto', '▁bisou', 'OLLE', '▁Rocher', '▁fermeté', 'express', '▁solennelle', '▁commises', '▁polo', '▁usuel', '▁caractérisent', '▁Death', '▁Manon', 'bret', '▁fief', '▁Blonde', 'rige', '▁distinguent', '▁MOD', '▁abstraite', '▁poursuivie', '▁poignard', 'évangile', '▁Jérémie', '▁Messenger', '▁orchestré', '▁redémarre', '▁renoncé', '▁bretelles', '▁excepté', '▁pudeur', '▁First', '▁succédé', 'additif', '▁Génération', '▁moustiques', '▁Jimmy', '▁boursier', '▁Animal', '▁arménien', '▁consacr', '▁détenir', 'Arles', '▁brioche', '▁Euh', '▁Vannes', '▁affinité', '▁Africaine', 'général', '▁perform', '▁stockées', '▁Picard', 'programme', '▁connaisse', '▁amorti', '▁Jordanie', 'habitue', '▁Reich', '▁adaptable', 'ouvrier', '▁Panneau', '▁déboucher', '▁frottement', '▁mènera', '▁romp', '▁débarquement', 'Avenir', 'hand', 'économiser', 'menage', '▁gratt', '▁restaurée', '▁rechargeable', '▁Dave', '▁365', 'quille', 'Note', 'guide', '▁Fuji', '▁Alan', 'carbonate', '▁Convertible', '▁Diagnostic', '▁buanderie', '▁prolifération', '▁substrat', '▁toulousain', '▁telecharger', '▁toxines', 'Arsenal', '▁valorisé', '▁affamé', 'Amb', '▁Prenons', '▁contrasté', '▁HDMI', '▁soufflé', '▁Drôme', 'accessoire', '▁VPN', '▁Rémy', 'pec', '▁bouffer', '▁Steam', 'affrontent', '▁exclure', 'UST', '▁Module', '▁fatal', 'ANTE', '▁rapportent', '▁Socialiste', 'PDF', '▁égyptienne', '▁sculp', 'ved', '▁involontaire', 'Indre', '▁Repas', '▁Abri', 'TIONS', 'pathique', '▁FAM', '▁113', '▁habitez', '▁nationalisme', '▁logis', '▁Natur', '▁isoler', '▁Diane', '▁scand', '▁termina', '▁PSA', 'notre', 'DEN', 'occa', '▁cheveu', '▁Liv', 'hectare', 'gond', '▁Diab', 'horloge', '▁familière', '▁Distribution', '▁Family', '▁glorieux', 'indignation', '▁effrayé', 'automatisme', '▁aléas', '▁Cycle', 'extraordinaire', '▁imperfections', 'admiration', '▁Réservation', '125', '▁Beige', '410', 'estimer', 'Armor', '▁Hit', 'crate', '▁Couture', '▁retombées', 'ZA', 'OSE', '▁confirment', '170', '▁partageons', '▁renommé', '▁slim', '▁Vinci', 'DIN', 'sultat', '▁850', 'cock', '▁Sher', '▁chanceux', 'FN', '▁retirée', 'riture', '370', 'Investissement', '▁FIL', '▁adjointe', 'inégalité', '▁traîner', 'solution', '▁chateau', '▁aperçoit', '▁décontracté', 'alto', '▁parvenue', 'ZZ', 'Utilis', 'watt', '▁boucherie', '/2016', '▁décolle', '▁pédestre', '▁Participation', '▁Suzanne', '▁bretagne', '▁psychanalyste', '▁succéder', '▁NRJ', '▁android', '▁ottoman', '▁fertile', '▁prononça', '▁SQL', 'bridge', '▁insensible', 'interrompre', '▁revendication', 'êche', '▁espéré', '▁révolu', '▁Travailler', 'LÉ', '▁sillage', 'cheveux', '▁cruellement', '▁Great', 'ANI', '▁saoudien', '▁maquille', 'libataire', '▁chrome', 'audition', '▁Jupe', '▁orgasme', 'Tous', 'OIT', '▁télévisé', 'block', '▁décorative', '▁>>>', 'fig', 'ISATION', 'Vilaine', 'seller', '▁tagué', '▁attirent', '▁Portable', '▁vietnamien', '▁Hom', '▁Omar', '▁purge', 'ermite', '▁communaux', '▁adhère', '▁pâté', '▁boulanger', 'envole', '▁gravée', '▁Volt', '▁VIE', 'Oxford', '424', 'Pétersbourg', '▁Coiffure', '▁diagonale', '▁détérioration', '▁féminisme', '▁primitif', '▁provence', '▁prévoyance', '▁stabilisation', '▁Health', '▁appartenait', '▁audacieux', '▁culminant', '▁explosé', 'injonction', '▁Gérald', '▁piégé', '▁Construit', '▁fraternel', '▁chaussons', '▁étiqueté', '▁choquant', '▁prospère', '▁Renseignements', '▁Pablo', 'Service', 'instinct', '▁bave', '▁pérenne', '▁Barb', '▁Sauveur', '▁camera', '▁Lamb', 'hari', 'phili', '▁solid', '▁water', '▁somm', '▁Chaussure', 'appréhender', '▁Switch', '▁1925', 'Max', '▁paléo', '▁Parker', 'NK', '▁pensionnaire', 'alimenter', '▁tordu', '▁Essay', '▁héritier', '▁CMS', '▁Hero', 'Eric', 'Out', 'Object', '▁anticipée', '▁giron', 'mone', '▁Walt', '▁Wade', '▁Poser', 'Neuve', '▁bible', '▁redresser', 'ROS', '▁prefere', 'KK', 'lame', 'sûr', 'tache', '▁réchauffe', '▁diffère', '▁tuerie', '▁montra', '▁Saul', '▁Consommation', '▁Discussion', '▁Téhéran', '▁coquillage', '▁relecture', '▁enneigé', '▁flamboyant', '▁prédomine', '▁wilaya', '▁2018-2019', '▁Cheikh', '▁whisky', '▁reconversion', '▁Agenda', '▁repeindre', '▁sanglier', '▁Happy', '▁détache', '▁brèche', '▁green', 'inconscient', 'écrive', 'ométrie', 'Pourquoi', '▁mimi', '▁dévorer', 'arête', '▁lacunes', 'oldid', '▁Vasque', '▁Mélangez', '▁familiariser', '▁respons', '▁doyen', '▁Georg', '▁charmeur', '▁inconsciente', 'super', 'vêtement', '▁proclame', '▁Billy', 'symbol', 'Can', '▁Meuse', 'ouragan', 'glio', '▁gallo', 'tabli', '▁méchante', '▁apaiser', 'formé', '▁Plaine', '▁admise', '▁Aurélie', 'RAM', '▁MOR', 'aumont', 'embrasse', 'accélérateur', 'acquitter', '▁redescend', 'fficac', '▁assistée', '▁Liverpool', '▁Mickey', '▁Serrurier', '▁Véhicule', '▁délinquant', '▁glucose', '▁préférentiel', 'amplificateur', '▁collaboré', '▁dépanner', '▁expulsé', '▁Présence', '▁invitant', '▁Economique', '▁SUD', '▁Gallery', '▁connaissaient', '▁Serpent', '▁Visual', '▁Focus', '▁Suivre', '▁fervent', '▁Fanny', '▁burger', '▁Klein', '▁régression', '▁importations', '▁who', '▁Moore', '▁fleuriste', '▁facilitant', '▁faisabilité', 'IAL', '▁(10)', 'gum', 'ugh', 'fel', 'votre', '▁BEAU', 'auté', '▁JOUR', 'mirent', '▁Massa', 'affich', '▁nourrissant', '▁Under', 'Audi', '▁minima', '▁monumentale', 'martin', '▁supposée', 'longue', 'aubergine', '▁criant', 'exagér', '▁ancrée', 'opolis', '▁protègent', '▁émane', '▁agile', '▁déménage', '▁mentalement', 'orcel', '▁rigoler', 'Chat', '▁Cocktail', '▁awesome', '▁majuscule', '▁équivaut', '▁configuré', '▁gorgée', '▁gibier', '▁AVEC', '▁resserre', '▁Badoo', '▁Étape', '▁Bercy', 'imprimer', 'élaborer', 'apercevoir', '▁114', 'fontaine', 'andri', 'Etude', '▁quartz', 'Ombre', '▁figuré', '▁souvenez', '▁répit', '▁angeles', '▁molécule', '▁connerie', '▁Torre', 'évé', 'mbé', '▁contribuable', '▁Curie', '▁cessation', '▁selfie', '▁nerf', '▁tournait', '▁maîtrisé', '▁agrandi', 'racine', '▁Pomme', '▁hébreu', '▁2009)', '31)', '▁225', 'parleurs', '▁Dance', '▁Coût', 'exécuter', '▁terra', '▁Tv', '▁erroné', 'oindre', 'homo', '▁tombeau', '▁XXIe', '▁Price', 'UX', '▁0,7', '▁haïtien', '▁Dépannage', '▁Society', '▁migraine', '▁écrivent', '▁first', '▁arrangé', '▁productive', '▁égaux', '▁Loïc', '▁fasciste', '▁ruraux', '▁numérisation', '▁CNIL', '▁Traduction', '▁Susan', '▁reproché', 'MONT', '▁trembler', 'OLI', '▁(*)', '▁Demi', '▁Tesla', '▁Shu', '▁Dimension', 'urbain', 'référence', '▁friand', '▁lâcha', '▁reflex', '▁investit', '▁Sonic', '▁Sandra', '▁Eff', '▁Gustave', 'tension', '▁relu', 'AMI', '▁exigée', 'réalité', '▁extraite', 'STER', '▁fondent', '▁cheap', '▁attrayante', '▁gonfler', '▁prévisionnel', 'share', 'spéc', 'FORM', 'juillet', '▁détecte', '▁Feli', '▁Michelle', 'hypocrisie', '▁Compétence', '▁ambitieuse', '▁iTunes', '▁pyjama', '▁Vénus', '▁géolocalisation', '▁protester', '▁Préparer', 'graf', '▁séducteur', '▁interessant', '▁rajout', '▁revienne', '▁audiovisuelle', 'égide', '▁dortoir', '▁Nombreux', 'facebook', '▁voirie', '▁bocal', '▁Mystère', '▁prendrait', 'cool', '▁Planet', 'mmy', '▁lenteur', '▁souriante', '▁accélère', '▁Athènes', '▁touriste', '▁trailer', 'culturel', 'mund', 'LOU', '▁apprécierez', '▁Bron', 'accompagna', '▁Search', '▁éprouvée', '▁méfier', '▁Than', '▁marc', '▁Sommet', 'affront', '▁1910', 'auditeur', 'ouillant', 'technic', 'uku', '▁1916', '/2015', 'ETA', '▁récompenser', 'anatomie', '▁Permalien', '▁Témoignage', '▁lucidité', '▁méfiance', '▁résilience', '▁Améliore', '▁bouillante', '▁Sweet', '▁constructive', '▁fascination', '▁libertaire', '▁Wonder', '▁suivait', '▁drastique', '▁Corre', '▁pole', '▁Châ', '▁Garnier', 'Post', '▁Bosch', '▁comprit', 'ANGE', '▁baisée', '▁1,1', 'ASP', '▁détailler', '▁gratin', '▁fermentation', '▁smart', '▁Marais', '▁poursuivra', 'COURT', 'RAL', 'débat', '▁Chateau', '▁Down', 'apéro', '▁expérimental', '▁XIIe', '▁approuvée', 'interdis', '▁Teen', '▁Pasteur', '▁GRATUITE', '▁réveilla', 'ATIONS', '▁préparez', 'habitant', 'invita', 'imam', '▁Pharma', '▁jouable', 'ananas', '▁Copyright', '▁Handicap', '▁complétement', '▁condensation', '▁Créteil', '▁Jersey', '▁cabaret', '▁Matelas', '▁chandelle', '▁fanatique', '▁transitoire', '▁Summer', 'optimisme', '▁resultat', '▁fouiller', '▁horde', 'orama', 'agréable', 'nalisation', 'dora', 'impossible', '▁voulut', '▁Revenu', '▁réussissent', 'voyage', '▁cosy', '▁baissa', 'project', '▁Carbon', '▁honorer', 'NIS', '▁rectifier', '▁légume', '▁Koh', 'aveu', '▁117', '▁Product', '▁voyeur', 'Écriture', '▁réédition', '▁dénoncent', '▁minimis', 'égalisation', '▁continuons', '▁How', 'cessaire', 'interesse', 'born', 'ACK', '▁Salam', '8,5', 'migrants', 'oso', '▁farci', 'dommage', '▁collecté', 'chique', '▁Kol', '▁correctionnel', 'parfait', 'UTE', '▁informa', '▁Maitre', '▁gener', '▁Montparnasse', '▁contingent', '▁diaporama', '▁ecclésiastique', '▁ennuyeux', '▁préservatif', '▁pulmonaire', '▁Bottines', '▁perplexe', '▁spécimen', '▁Cardinal', '▁saupoudr', '▁illuminé', '▁ninja', 'appartenir', '▁Premièrement', '▁fictif', 'psy', '▁grappe', '▁rebondir', '▁libéralisme', '▁logicielle', '▁famine', 'astuce', '▁credit', 'croissance', 'learning', 'pulsion', 'idique', '▁balancer', '▁durera', 'bande', '▁évaluée', '▁fret', 'coller', 'scolaire', '▁encadrée', '▁siége', '▁iranienne', '0-1', '▁Libertine', '▁ruiner', 'TOM', '▁CRM', '▁If', '▁mobilise', '▁Grasse', '▁Partout', 'ATH', 'EVA', 'frame', '▁Franz', 'ULE', 'phobe', 'ICI', '▁protége', 'impliquer', '▁gâche', 'APA', 'yorkais', '▁fax', '▁élargie', '▁Kg', '▁Jade', 'wick', '▁mixer', 'Appel', 'éducateur', '▁fêt', '▁SEM', '▁Pétr', 'Apocalypse', '▁cognitif', '▁colossal', '▁fantasy', '▁pétanque', '▁ravitaillement', 'hépatite', '▁Génial', '▁possesseur', '▁Statut', '▁désactivé', '▁libido', '▁sweat', '▁récapitulatif', '▁Verdun', '▁Urbain', '▁Hip', '▁prouesse', '▁chenille', '▁complémentarité', '▁marraine', '▁vicieux', '▁soutenant', 'éclipse', '▁naissent', '▁mercure', '▁Verg', 'odorant', '▁Palace', 'Assurance', '▁manip', '▁sembla', '▁Brou', '▁Thu', '▁décontractée', '▁124', '▁observant', '▁Séance', '7000', 'odon', '▁Spin', '▁10€', '▁rattachée', '▁mexicaine', 'intersection', '▁souper', '▁ramassé', '▁mélangeant', 'exp', '▁Look', 'ouba', '▁Rain', '▁assemblé', '▁préféra', '▁insert', 'timberland', '▁Corporation', '▁Kennedy', '▁bouddhiste', '▁ouvrables', '▁ressemblant', '▁déconseillé', '▁hypocrite', '▁Bouddha', '▁verrouillage', 'bloquant', '▁Souvenir', '▁Quimper', '▁Kelly', '▁passaient', '▁agréée', '▁lotissement', '▁notoire', '▁commercialise', '▁blindé', '▁maitriser', 'ockey', '▁Utilisateurs', '▁ayons', 'chauffé', '▁electro', '▁éclatante', '▁figue', '▁Ost', '260', '▁législative', 'ficie', '▁protestante', '▁robotique', '▁sujette', 'yama', '▁1911', 'oga', '▁appelons', '▁Boud', 'europe', '▁redevien', '▁radiation', 'micro', 'clamation', '▁Contr', '▁Barbie', 'extr', '▁sacrifié', '▁Lisez', '▁coulé', '▁fascinante', 'IEU', '▁Robot', '▁Brut', 'hiro', 'échauffement', '▁Content', 'agilité', 'menager', 'Olympia', '▁Construire', '▁Diplômé', '▁Fontenay', '▁Pompidou', '▁héroïque', '▁maghrébin', '▁vagabond', '▁Corinne', '▁Fédéral', '▁Hamilton', '▁découlant', '▁recréer', '▁filiation', 'arsenal', '▁guerrière', '▁freelance', 'utérus', '▁Bolivie', '▁Emile', '▁débouchage', '▁Marchand', 'img', '▁Réduction', '▁SIG', '▁Architecte', '▁breveté', 'exécutif', 'alternative', 'encouragement', '▁Taxi', '▁coulée', 'incarne', '▁bâche', 'energie', '▁souhaitais', 'branl', '▁Durable', '▁Sierra', '▁iront', '▁triche', 'arrivent', '▁95%', '▁Carnet', '▁Classé', '▁rafraîchir', 'aboutissement', '▁Twin', '▁paient', '▁siphon', '▁Track', '▁douteux', 'pack', '▁tropical', 'IRC', '▁Mlle', '▁relationnelle', 'astronome', '▁Bamako', '▁Constructeur', '▁Scientifique', '▁abondamment', '▁imbécile', '▁consultatif', '▁infantile', '▁Ballon', '▁Contient', '▁Cameron', '▁Alexandra', '▁Shadow', '▁mouchoir', '▁surveillant', '▁Dialogue', '▁ménagères', '▁Japan', '▁Prestation', '▁Merkel', '▁Diamant', '▁chantant', '▁corail', '▁webmaster', '▁Belfort', 'aigu', '▁croisent', 'commandé', '▁floral', 'Acheteur', '▁beat', '▁Cancer', 'bow', '▁déferl', 'gouvernement', 'tecteur', 'Hotel', '▁Télécom', '▁Fast', '▁commandée', 'ssonne', '▁Cdiscount', '▁mortier', 'hey', '▁décent', 'derm', 'nica', '▁selection', 'ASH', '>>', '▁démontrent', '▁combi', '▁continentale', '▁rareté', '▁Stro', '▁bonbon', '▁Guill', '▁grandissante', '▁choeur', '▁numérisé', '▁ressorti', 'Conseil', 'ILI', 'bike', '▁Mexico', '▁connectivité', '▁décollage', '▁similitude', '▁vacanciers', '▁Événement', '▁Préfet', '▁produira', 'assimiler', '▁initiatique', '▁chromé', '▁ajustable', '▁restaurateur', '▁immatériel', '▁Favoris', '▁poignant', '▁Géorgie', '▁surréaliste', '▁Prévention', '▁Cookies', '▁Rochefort', 'insiste', '▁prenaient', '▁réparé', '▁rivage', '▁Montant', '▁XXème', '▁torride', '▁infime', '▁Haberm', '▁Tibet', '▁Minute', 'gay', 'Valentin', '▁mutant', 'meilleur', '▁préservée', '▁Gwen', 'gency', '▁Pig', '▁novatrice', '▁freiner', '▁assidu', '▁irlandais', '▁étagère', '460', '▁islamiste', '290', '▁BEN', '▁sourde', 'algie', '▁postuler', 'STA', '▁étalé', '▁proclamé', '▁Cruz', '▁détendu', 'Mag', 'Aide', 'établit', '▁Manga', '▁Fish', '▁ambiant', 'Unesco', '▁notifié', '▁complique', '▁rédigée', '▁Deep', 'appuient', 'accompagnateur', '▁Acteur', '▁maladroite', '▁examin', '▁Grave', 'OCK', '▁rappelait', 'adaptent', '▁Venezuela', '▁irréversible', 'Occitanie', '▁Anderson', '▁Décidément', '▁Température', '▁criminalité', '▁hermétique', '▁Féminin', '▁Canape', 'habilitation', '▁discernement', '▁Neuilly', '▁Position', '▁annee', '▁Développer', '▁intrigué', '▁<<', '▁berges', '▁TOUR', '1919', '▁Biz', '▁Break', '▁Fonc', 'attirance', '▁condamn', '▁patio', '▁Créez', '▁contribuant', 'xxx', '▁appréciez', '▁vivra', 'hydrater', '▁Blood', '▁réguler', '▁foret', 'objection', '▁superpose', '▁milliardaire', '▁noué', '▁Condition', '▁collectionneur', '▁magnifi', 'capital', 'dèle', '▁hanche', 'fini', '▁Tib', '▁1848', 'titi', '▁effectuent', '▁Session', '▁campement', '▁parental', '▁tranquil', 'professionnel', 'envoler', '▁intervenue', '1818', '▁retarder', 'éclairer', '▁Moust', 'établi', '▁Trip', '▁Fribourg', '▁swing', 'adier', '▁mire', '▁Répond', 'parleur', '▁filtrer', '▁Mademoiselle', '▁PlayStation', '▁Rodrigue', '▁Saoudite', '▁elegant', '▁guirlande', '▁obtiennent', '▁pénitentiaire', '▁évangélique', '▁démesuré', 'authentification', '▁garagiste', '▁chapiteau', 'hilarant', 'écoule', '▁Génie', '▁Caméra', '▁Serbie', 'éloigna', '▁nourrissent', '▁Continu', '▁Casque', 'enseigner', 'aïd', '▁localisée', '▁décalée', 'goût', 'Publié', '▁intemporel', 'souvent', '▁Tellement', 'ndant', '▁ukrainienne', '▁Tyr', '▁schiste', '▁formellement', 'armure', 'ethnie', 'natal', '▁Changer', 'ICH', 'atome', '▁Amp', '5000', '▁Angela', '▁impliquer', 'IERS', '▁Signe', '▁fleurie', '▁incarner', 'oiement', '50%', '▁jument', 'crète', 'articul', 'entière', '▁FRA', '▁vaguement', '▁Born', 'thérapeute', 'Ecologie', 'fondateur', 'seul', '▁floue', 'adhérence', '▁Hyundai', '▁majestueux', '▁Album', '▁pollué', '▁liquidité', '▁apprenez', '▁Fenetre', '▁traîné', '▁combinant', '▁exploré', '▁spécifie', '▁recèle', '▁recevront', 'isha', '▁éducateurs', '7,8', '▁repérage', '▁informée', '▁donateurs', '▁enflammé', '▁Chanson', '▁ABC', '▁pick', '▁Aventure', '▁amandes', '▁délibérément', 'peche', 'illeux', '▁blason', '▁rincer', '▁Abu', '▁sanct', '▁accentué', '▁publiant', '▁chiffrées', '▁Lauren', 'partie', '▁théologique', 'pix', '▁achètent', '▁listé', '▁alcoolique', 'IRM', '▁Promo', 'occupent', '▁simili', 'tek', '▁généralisation', 'implant', '▁édifié', '▁manifestent', '▁inaugur', 'kri', '▁artisanal', 'kit', '▁munie', '▁réalisa', 'regard', 'marre', 'QUES', '▁goûté', '▁Incroyable', '▁bluetooth', '▁luxueuse', '▁polyvalence', '▁prépondérant', '▁Commencez', '▁diététique', '▁naturiste', '▁Conduite', '▁Interrogé', '▁catégorique', '▁clergé', '▁définissent', '▁Urban', '▁Tribune', '▁Africains', '▁Touraine', '▁épurée', 'agro', '▁noces', '▁rentrent', '▁abuser', 'kal', '▁pleuré', '▁1913', '▁correcteur', 'Trans', 'famille', '▁Lancé', '▁Adel', 'officiel', 'utilisez', '56)', '▁Stick', 'Rose', '▁sollicit', '▁Investi', '▁rationnel', '▁dissimuler', '▁Fanta', '▁arrangement', '▁HTC', '▁rêvez', '▁256', '▁Posted', 'member', '▁(9)', '▁calque', 'Ray', '▁saviez', '▁spontané', '▁Edge', 'Rivières', '▁Lumin', '▁Brésilien', 'itsu', '▁REC', 'terrain', '▁diplômée', '▁portaient', 'imitation', 'Image', '▁transat', '▁cultiv', '▁téléchargée', '▁écoutez', '▁propage', 'Urbanisme', 'archevêque', 'intoxication', '▁alphabétique', '▁diarrhée', '▁homologué', '▁mélancolie', '▁décrivant', '▁flocons', '▁PHOTO', '▁Cristal', '▁remercié', '▁strass', '▁éruption', '▁Photoshop', 'nommé', '▁alléchant', '▁mixité', '▁arrosé', '▁concluant', '▁720', '▁CAL', '▁distingu', '▁terminent', '▁vanter', '▁Quali', '▁compliquer', 'coupé', '▁Simplement', '▁éternellement', 'Auxerre', '▁1/3', 'porn', 'support', '▁India', '▁polonaise', '▁package', '▁1.3', 'observe', 'admirer', '▁éclatant', '▁exclue', 'kara', 'stand', '▁Accompagné', '▁CHAR', '▁espèrent', 'ERS', '▁terrassement', '▁Andy', 'africaine', '▁convoité', '▁127', '▁Haye', 'ichon', '▁EURO', 'inondation', '▁Dunkerque', '▁Maréchal', '▁constellation', '▁infidèle', '▁monstrueux', '▁brouillon', '▁Envoyer', '▁Majesté', '▁Salvador', '▁possédé', '▁District', '▁reconduit', '▁Vitesse', '▁Gordon', '▁Gary', 'assujettissement', '▁nippon', '▁Dating', '▁Platon', 'kama', 'ffleur', '▁Race', '▁Town', '▁Plume', '▁plug', '▁énumér', '▁secoue', 'premier', 'épidémie', 'consommation', 'septembre', 'moderne', '▁0,4', 'Cloud', '210', 'vex', '111', '▁vachement', 'implanter', 'menu', '▁embo', '▁tourmente', 'errière', '▁Boite', 'bron', 'effroi', '▁vieillard', '▁spécialise', '▁plaquette', '▁lancez', 'dha', '▁matrimoniale', 'ABI', '3-2', '▁Garr', '▁fete', '▁Eden', '▁qd', '▁brûlée', '▁pep', '▁blesse', 'rieuse', '▁Entrez', '▁Hamas', 'garou', 'ITA', 'hémisphère', '▁Biarritz', '▁Diplôme', '▁[#]', '▁absorbant', '▁améliorant', '▁condoléances', '▁obstiné', '▁perceptible', '▁somptueuse', '▁audacieuse', '▁mensualité', '▁rétréci', '▁déceler', '▁organisant', '▁prodigue', '▁jogging', '▁parabole', '▁curseur', 'uto', '▁Bib', '▁Women', '▁intervalles', '▁urnes', '▁qualitatif', '▁gaffe', 'TECH', '▁créole', 'structure', '▁piéton', '▁Réforme', '▁Réseaux', '▁focaliser', '▁teinture', 'Sha', 'ully', 'associent', 'arrivait', 'VERT', '▁polluant', 'inspirent', '▁Viva', '▁moulu', '▁Swan', 'influe', 'Flo', '▁Chanel', 'atus', 'tention', '▁parenté', '▁Moussa', '▁halle', '▁Gardien', '▁réorganisation', '▁renouer', 'casse', '▁Amar', '▁exécute', '▁fascine', '▁Déjeuner', '▁Ordinateur', '▁itinérant', '▁scolarisation', '▁voulions', '▁luxuriant', '▁propulsé', '▁subordonné', '▁country', 'intéressait', '▁thermale', 'anthologie', '▁agressé', '▁destructeur', '▁décompose', '▁insistant', '▁Boulanger', '▁entendait', '▁remake', 'étiquetage', '▁faciale', '▁scotch', '▁building', '▁curry', '▁fonctionnait', 'amortissement', 'Rom', 'Anjou', '▁Paulo', '▁Donne', '▁australienne', '▁Dominic', '▁Cartier', '▁minet', '▁PCF', '0,5', 'accentuer', '▁Opera', '▁célébrée', 'meme', '▁hôtesse', 'amiante', 'UIT', '▁Email', 'rouleur', '▁meublée', '▁Boucher', 'IFF', 'empresse', 'effectu', '▁Johan', '▁judo', 'onstrui', '▁sensorielle', 'CAN', '▁probant', 'abaisser', 'UK', '▁Liz', '▁substitut', 'attarder', 'Uruguay', 'incohérence', '▁Affichage', '▁apostolique', '▁tibétain', '▁toboggan', '▁americain', '▁feeling', '▁styliste', '▁empirique', '▁Deutsch', '▁Souhait', '▁moustache', '▁râpé', '▁PRINC', 'habitacle', '▁Deschamps', '▁zippée', '▁confidence', 'effigie', '▁grief', '▁what', '▁trêve', '▁taverne', '▁playlist', '▁Ltd', '▁Blaise', '▁Anime', '▁Goût', 'cuit', '▁pépin', '▁Fondée', '▁imprim', 'nick', '▁grue', 'intitule', '▁barré', 'adjoint', '▁gateau', '▁Regarde', '▁futuriste', '▁codé', '▁individualisé', '▁Gaud', '▁Tsu', 'Ru', 'immobilisation', '▁tricoter', '▁visuellement', '▁inhabituel', '▁mainten', '▁éprouver', '▁rectifi', '▁Yahoo', 'emprunteur', 'section', '▁Chypre', '▁Plaisir', '▁Schneider', '▁astronomique', '▁idyllique', '▁unilatérale', '▁acceptant', '▁Paypal', 'Élysée', '▁contrarié', '▁Amélie', 'SY', 'accapar', '▁Panama', '▁Creative', '▁confectionner', '▁Adopte', '▁courtoisie', '▁systeme', '▁maitresse', 'devant', '▁Identi', 'antique', '▁inquiétante', '▁Tanger', '▁bordelais', '▁PLU', '▁Chapeau', 'invoquer', '▁compr', '▁répandre', '▁auditive', 'ouvrit', '▁soulignent', '▁sociable', '▁zeste', '▁hanté', '▁totalise', '▁découlent', 'lius', '▁différencie', '▁inhabituelle', 'wind', 'ENE', '▁bd', '▁détourne', '▁Mora', '▁German', '▁sublimer', '▁1912', '▁Duval', 'Amitié', '▁Agro', '▁pesé', '▁annonceurs', '▁Loiret', 'attraper', '▁avérée', '▁2022', '▁irlandaise', '1,9', '▁postée', '▁gratter', '▁loupé', '▁Vista', '▁contempla', '▁Auparavant', '▁Ouattara', '▁hormonal', '▁pluralité', '▁suicidaire', '▁évolutive', '▁atteignant', '▁Dylan', '▁serveuse', '▁Tent', '▁adjacent', '▁screen', 'ponse', '▁Ocean', '[11]', '▁ordonna', '▁galets', '▁rasoir', '▁Meyer', '▁opérée', '▁paysagiste', '▁fumeurs', '▁lyonnaise', '▁Sauter', '▁Stephan', '▁myst', '▁Castell', '▁1937', 'restaurant', 'maladie', '▁satiné', '▁Short', 'minute', '▁1924', '▁Coca', '▁débarrassé', '▁REG', '▁Turbo', 'borg', '▁SSD', '▁Xxx', '▁figurine', '▁prédit', 'fugi', '▁enrichissante', 'DON', '▁Bul', '▁75%', '▁(13)', 'UY', 'norme', 'official', 'incorporer', '▁douillet', '▁chiffré', '▁méconnue', 'abattage', 'animer', '▁postérieur', 'qw', '▁présidée', '▁Rossi', '▁Occasion', 'accuse', 'effondre', '▁SARKOZY', '▁Vaucluse', '▁impitoyable', '▁péripéties', '▁tonnerre', '▁centrafricain', '▁luxembourgeois', '▁symétrique', 'administrer', '▁Brook', 'épiderme', '▁naturaliste', '▁simuler', '▁pompon', 'conomie', '▁refrain', '▁martial', '▁Réparation', '▁mécontentement', '▁élire', '▁reponse', '▁help', '▁sacoche', '▁Trente', 'uw', '▁dissout', 'Tri', 'RIN', '▁Connectez', '▁fortifié', '▁interprét', '▁1934', 'ampoule', 'magasin', 'hold', '▁Remise', 'éloignement', 'bud', '▁Gem', '▁cachette', '▁frotte', 'break', 'ficient', '▁Hart', '▁Quick', '▁Chaude', '▁attendaient', '▁corner', '▁répondait', '▁retournement', '▁Seuil', 'Antibes', '▁Cerise', '▁Basé', 'ignorer', '▁inaugure', '▁Bateau', 'intensifie', '▁ramasse', '▁Wat', 'agirait', '▁industrial', '▁boom', '▁Carcassonne', '▁Nettoyage', '▁Plombier', '▁déchiffr', '▁funérailles', '▁stabiliser', '▁énigmatique', 'EHPAD', '▁Continent', '▁vivace', 'embarcation', '▁Douglas', 'amalgame', '▁émaillé', '▁remuant', '▁gratitude', '▁Airlines', '▁estimant', '▁Italienne', '▁vegan', '▁Décision', '101', '▁Prénom', 'BAN', 'skate', '▁stressé', '▁navale', '▁disparaitre', '▁physio', '▁pipi', '▁Planète', 'preuve', '▁distribu', '▁recherchant', 'viendrez', '▁truite', '▁doudoune', '▁rebut', '▁différé', 'Nouvelle', 'Marseille', 'totalité', 'entamer', '▁Semelle', 'italienne', '▁Paysage', '▁Yama', '▁progress', 'volant', 'animé', '▁Fiat', '▁virée', 'hommage', '▁Magie', '▁mauve', 'améliore', '▁1907', '▁dépendre', '▁SITE', 'alchimie', '▁appréhend', '▁haha', '▁tronche', '▁FRANC', 'Charentes', '▁Kro', '▁désirée', '▁sereine', 'mouth', '▁évoqu', '▁bizarrement', '▁Palma', 'EPA', '▁pendule', 'ainville', '▁Anniversaire', '▁amazing', '▁prévoient', '▁quatuor', '▁sobriété', '▁bibliothécaire', '▁déontologie', '▁hallucinant', '▁rattrapé', '▁Juppé', '▁muqueuse', '▁Miguel', '▁gouffre', '▁dressage', '▁discothèque', '▁croirait', '▁thermomètre', 'émissaire', '▁Forge', '▁déformé', 'humanisme', '▁MAG', 'ATS', 'attelage', '▁4.2', '▁décliner', 'Lazare', '▁bureautique', '▁Mann', '▁Publicité', '▁regime', '▁Burn', 'argan', '▁Head', '▁convenablement', '▁mom', '▁chuté', '▁paraitre', '▁déployée', 'immersion', 'emmène', '▁convie', '&#;', '▁Chauffe', '▁généreusement', '▁perpétuel', '▁Sportive', '▁prédire', 'opposant', '▁refermer', '▁cocon', '▁Clip', 'Très', 'thème', '▁10.000', '▁Mister', 'âm', '▁sanglant', 'fat', '▁Diff', '▁collecteur', '▁fist', '▁1860', 'astronaute', 'éventualité', '▁Bangkok', '▁gobelet', '▁maléfique', '▁potassium', '▁succulent', '▁volumineux', 'irrigation', '▁percutant', 'asthme', 'ophtalmo', '▁running', '▁gouttière', '▁suffire', '▁gloss', '▁affronte', '▁démontage', '▁Pirate', '▁Contemporaine', '▁réalisez', 'AVE', '▁Yvon', '▁délocalis', '▁offrait', '▁Khal', '▁tombait', '▁frit', '▁gronde', '▁Comparez', '▁regagner', 'Hilaire', '▁optimise', 'arabi', '▁Faure', '▁croisade', '▁dicte', 'intuition', 'iPad', '▁défendent', 'éponge', '▁ferry', 'omat', '1/2', '▁sonnerie', '▁Volet', 'ensuit', '1999', '▁recteur', 'crédit', 'ACC', '▁habitée', '▁suffrage', '▁intimement', '▁Qi', '▁3.1', 'intellect', 'EEE', 'usinage', '▁résider', '▁Quoique', '▁visit', '▁plaça', '▁remettra', 'acuité', '▁Foundation', '▁Software', '▁châtiment', '▁crépuscule', '▁découvrons', '▁fulgurant', '▁réticence', '▁structuration', '▁sélectif', '▁déposant', '▁rescapé', '▁Dîner', '▁quantitative', '▁fascisme', '▁mandarin', '▁nominative', '▁basilique', 'abattoir', '▁revenons', '▁Yamaha', 'hospitalité', '▁Mayenne', '▁Sauve', '▁Originaire', '▁cigare', '▁Béatrice', '▁réduisent', '▁investigations', '▁persistante', 'lever', '▁postérieure', 'loire', '▁Appelez', '▁Elsa', '▁lamentable', 'opard', '▁Alban', '▁façonné', '▁rebondi', '▁Iso', '▁EXP', 'Nicolas', 'Aisne', 'parfois', '▁collée', '▁défoncer', 'autrefois', 'ities', '▁patrimoniale', '▁Bog', '▁dérangeant', '▁délibéré', '▁Erik', 'embarquement', 'surf', 'bourgeois', 'impunité', '▁Cosmo', '▁débouche', '▁0,8', 'uloie', 'agno', '▁Tac', '▁Présenté', '▁capacit', '▁tremper', '▁Share', '▁retomber', '▁conserv', 'aventurier', 'facultatif', 'ostéopathe', '▁Copenhague', '▁Prestige', '▁Tremblay', '▁acquiert', '▁conjugaison', '▁diagnostiqué', '▁déficience', '▁insignifiant', '▁irrégulier', '▁martiaux', '▁prostitute', '▁épousé', '▁Câble', '▁Lourdes', '▁gélule', '▁NASA', 'existaient', '▁Équipement', '▁débarqué', '▁errant', '▁Ardennes', '4-1', '197', '▁Otto', '▁référé', '▁hérite', '▁protégeant', '▁Amy', '▁Berry', '▁Hav', '▁auditif', 'boot', 'focal', '▁réglement', '▁plaisanterie', '▁poteaux', '▁élabore', 'alléger', '▁stockés', '▁maîtrisée', '▁gèrent', '▁1926', 'atlantique', 'IVA', '▁barreaux', '▁sanglante', 'IAN', '▁Zero', '▁Buck', 'align', '▁kiné', 'ADO', '▁pèsent', '▁Psycho', 'kom', 'lisé', '▁dipl', 'auditoire', 'accommode', '▁tint', 'jambe', '▁substantielle', 'ogg', '▁Danielle', '▁1890', 'Just', '▁écouta', '▁PEN', '▁zap', '▁sacrifi', '▁Gramm', '▁Grange', 'effervescence', '▁Episode', '▁Horizon', '▁SERVICES', '▁bouillir', '▁chorégraphe', '▁dévotion', '▁genevois', '▁mélancolique', '▁patinoire', '▁syntaxe', '▁transpiration', '▁vigoureuse', '▁émerveillé', '▁émérite', '▁valorisant', '▁angulaire', '▁Naruto', '▁Paribas', '▁immergé', '▁tuyauterie', '▁étalon', '▁légaux', '▁cynique', '▁restitué', '▁Consulter', '▁comptons', '▁prévoyant', '▁romanesque', '▁Matériaux', '▁photocopie', 'amiral', 'ucine', 'Enfance', '▁Invest', 'Tuteurs', 'machine', '▁Racine', '▁préserve', '▁evier', '▁inclusive', 'ommier', 'phane', '▁majoration', '▁procession', '▁Commander', 'aperçoit', 'Ottawa', '▁Cali', 'roman', 'VIN', '▁1923', '▁matinale', 'Part', '▁Trio', '▁whi', 'risti', 'ITION', 'vieux', '▁virale', 'hhh', '▁dysfonction', 'éternel', '▁feuilleton', 'LINE', 'internat', 'city', 'éria', '▁Seb', '▁modo', '▁confirm', 'mêle', '▁chamb', 'cook', 'ADI', 'wich', 'Code', 'ARN', '▁Pinel', 'semaine', '▁prostate', 'Arrondissement', '▁Budapest', '▁Différents', '▁Egalement', '▁Périgord', '▁Valenciennes', '▁cercueil', '▁identifiable', '▁indissociable', '▁loyauté', '▁synchronisation', '▁traçabilité', 'harmonisation', '▁barbarie', '▁concierge', '▁exergue', '▁nullité', '▁Sophia', '▁annexé', '▁bibliographie', '▁Diesel', '▁égaré', '▁batiment', '▁Annexe', '▁fofo', '▁2017-2018', '▁reprendra', '▁elfes', '▁1922', '▁ténor', '▁secoué', 'multi', 'nig', '▁méritait', '▁Bourges', '▁maladroit', '▁Séville', '▁loft', '▁180°', '▁bougé', '▁profane', '▁Taka', '▁DNS', 'enchaînement', '▁palp', '▁Devenir', 'protection', 'continent', 'puce', '▁Confortable', '▁1921', '▁Mika', 'igre', '▁Techno', '▁clandestine', '▁1880', '▁1931', '▁Khan', '▁crêpe', '▁Twi', 'AMF', '▁répétées', '▁ressuscité', 'HAN', '▁MOT', 'îmes', '▁Camus', '▁5.1', '▁anéanti', '▁respectable', '▁gouverner', '▁redistribu', 'graphié', '▁Analytics', '▁Fabricant', '▁Fournisseur', '▁Recrutement', '▁download', '▁manufacture', '▁défaillant', '▁télescope', '▁évolutif', 'introduis', '▁rehaussé', '▁levrette', '▁Fidèle', 'inclinaison', '▁timing', '[12]', '▁Médical', '▁Dubaï', '▁Photographe', '▁toux', '▁Raoul', '▁cohabitation', '▁coiffeuse', 'content', '▁Avantages', 'christ', '▁pencha', '▁fraicheur', '▁1.4', '▁préférant', '▁croi', '▁régner', 'injure', '▁désespérément', 'zig', '▁torche', '▁déshabill', 'beaucoup', '▁Nikon', '▁Versez', '▁effectuez', 'hhhh', '▁sophistiquée', 'supra', '▁ruelle', 'engrais', 'bili', '▁Retro', 'ocratique', '▁Astro', '▁déchet', '▁CNC', 'charger', '▁Wu', '▁Grain', '3,7', 'assit', '▁berce', 'assimilation', '▁Technology', '▁abstenus', '▁conférencier', '▁explosive', '▁hépatique', '▁judaïsme', '▁méthodique', '▁piratage', '▁pouvions', '▁refléter', '▁bistrot', '▁clarifier', 'immensité', '▁inquiété', '▁shemale', '▁agissements', '▁maîtris', '▁224;', '▁évoluant', '▁récif', '▁francophonie', '▁Coffret', '▁emparé', '▁démonté', '▁Arabe', '▁Cologne', '▁neurologique', '▁Macky', '▁fruitiers', '▁Zara', '▁recevons', '▁Ghost', '▁entreprend', '▁derby', '▁résisté', 'consult', '▁Rated', 'CAR', 'escort', '▁simpliste', '▁replay', 'grain', '▁stats', '▁soulage', '▁erronées', 'UTC', '▁SAN', '▁Maxi', 'armoire', 'modèle', '▁bondage', '▁moulé', 'colonial', '▁Shak', '▁frere', '▁SUV', '▁rousseur', '▁medium', '▁peigne', 'EMA', '▁DSC', '▁englouti', '▁règlementation', '▁Gear', 'roupi', '▁caressa', '▁insister', '▁tressé', '▁rêveur', 'metteur', '777', '▁Espérons', '▁afghan', '▁considérait', 'harmoniser', '▁espa', '▁nicotine', '▁servitude', '▁jersey', 'Amnesty', '▁prodige', '▁glissière', '▁Descartes', '▁lambda', '▁recycler', '▁Jenny', '▁pathétique', 'scopique', '▁after', '▁consommables', '▁generique', '▁roller', '▁affronté', '▁discrédit', '▁préservant', '▁Phase', '▁aventuriers', '▁Utilisé', '▁subjectif', '▁Condo', '▁Mind', 'MON', 'Strauss', '▁Coopération', '▁capitul', '▁Noah', '▁ebook', '▁Garçon', '▁Horn', '▁receveur', '▁PRÉ', 'générant', 'montre', 'technologie', '▁Winter', '▁Guille', '1-3', '▁Mén', '▁chantage', 'PAR', '▁suppos', 'espérer', '▁Bachar', 'VG', '▁refusait', '▁finalisé', '▁décal', 'kho', '▁champignon', 'adaptant', '▁arrêtez', 'actualiser', '▁Acier', '▁anormale', 'You', 'traitance', 'industriel', '▁mécontent', '▁Aki', '▁Manhattan', '▁covoiturage', '▁liturgique', '▁qualificatif', '▁renforçant', '▁triangulaire', '▁Invitation', '▁Portugais', '▁perpétré', '▁eBay', '▁stabilisé', '▁Francophonie', '▁square', '▁pensaient', '▁agencé', '▁Row', '▁djihadistes', '▁polymère', '▁tapé', '▁fourgon', '▁Métro', '▁redressa', 'Abb', '▁réfection', '▁Proust', '▁diversifier', '▁secoua', '▁dirigent', '▁pressenti', '▁simpl', '▁exilé', '▁capitalisation', '▁retrouvait', '▁mobilis', 'infiltr', '▁Engine', 'Aujourd', 'Sèvres', '▁classeur', 'seulement', '▁rattrape', '3,4', '▁empreint', '▁orga', '▁rassemblent', 'ivisme', '▁Delta', '▁pressant', '▁Carmen', '▁Gray', '▁XIX', 'équivalence', '▁Myriam', '▁intensément', '▁stéréotypes', '▁bikini', '▁narrative', '▁obéissant', 'Brunswick', '▁bestiole', '▁gencive', 'arthrose', '▁Ceinture', '▁posologie', 'NDLR', '▁template', '▁enfoncé', '▁Paiement', '▁Rachid', '▁locative', '▁chronologie', 'apogée', '▁Résolution', '▁préparant', 'loux', '▁Consultant', '▁spontanéité', '▁contenait', 'Install', '▁apôtres', '▁rivaliser', '▁clean', '▁tarification', '▁Méga', 'occitan', '▁parasol', '▁rafraîchi', '▁Kad', 'encourage', '▁valorise', 'EAN', '▁classic', '▁bonsoir', '▁heu', 'imprimé', '375', '▁Stella', '▁Montage', 'avertissement', 'Bonjour', '▁recommand', '▁crabe', '▁brûl', 'thétique', 'courant', 'search', '▁Pacte', 'Apprenti', '▁brunch', '▁diagramme', '▁dégagement', 'oooo', '▁activit', '▁Glori', 'wq', 'intimidation', 'irrégularité', '▁Gauthier', '▁Jérémy', '▁Promenade', '▁asymétrique', '▁décomposition', '▁naufrage', '▁patiemment', '▁grimace', '▁incorrect', '▁pâturage', '▁répétitif', '▁commençons', '▁vielle', '▁londonien', '▁résiduelle', '▁atroce', '▁pornstar', '▁Impressionnant', 'allié', '▁encastré', '▁Cooper', '▁variant', '▁transcription', '▁concombre', '▁prié', '▁imaginatif', 'évader', '▁Réaliser', 'power', '▁Infini', 'KER', '▁griffe', '▁Barça', '▁Mobilité', '▁blabla', '▁partouze', '▁remous', 'isable', '650', '▁rigoureusement', '▁conteur', '▁vieillissant', '▁quittant', 'démocrate', '▁Moreau', '▁démêl', 'doub', 'fall', 'épicerie', 'TEUR', 'arré', '0€.', '▁referme', 'économise', '▁pointure', '▁sévèrement', 'lettre', '___', '▁pein', 'estompe', '▁pompier', 'Accompagnement', 'isoler', '▁Rapide', 'Gervais', '▁bill', '▁plaignant', '▁Ambiance', '▁Cathédrale', '▁Grégory', '▁bouddhisme', '▁bénévolat', '▁inéluctable', '▁quinquennat', '▁vivacité', '▁Religion', '▁calvaire', '▁généalogie', '▁préfectoral', '▁Lombard', '▁cadrage', '▁marabout', '▁Custom', '▁faufil', '▁fruct', '▁Tchèque', '▁inchangé', '▁écrasant', '▁justifiant', '▁dilemme', '▁Optez', '▁Alternative', 'urbanisation', 'grin', '▁Chartres', '▁récession', 'buch', '▁Espoir', '▁réveillon', '▁Ing', '▁visitant', 'AGES', '▁root', 'inversion', '▁rebord', '▁suffirait', '▁volley', 'Bri', '▁inhumain', '▁Colette', '▁1928', '▁Bryan', 'formateur', 'heureusement', 'électrique', 'Energie', 'accusé', '▁Edgar', '▁Fax', '▁optionnel', '▁frise', '▁raisonnablement', '▁gab', '▁déguste', '▁Manteau', 'ultra', 'arrach', '▁inspir', 'Amicale', '▁signalement', '▁Montmartre', '▁Protocole', '▁phénoménal', '▁pâtissier', '▁éclectique', '▁Dimitri', '▁Philosophie', '▁relégué', '▁patriote', '▁RVB', '▁mélodique', '▁container', '▁négligence', '▁déjanté', '▁mafia', '▁Sicile', '▁Chemise', '▁Institution', 'insomnie', '▁Adapté', '▁WWE', '▁gommage', '▁Destiné', '▁fauve', 'interromp', '▁interphone', '▁other', '▁niché', 'voix', '▁booking', '▁solvant', '▁recevait', '▁rejoignez', '▁Méta', '▁jalonn', 'OZ', '▁Chalon', '▁Monster', '▁August', 'TEX', '▁Quoiqu', 'AIL', 'hebdomadaire', 'Allemand', 'Halloween', 'Club', 'Front', '▁tapas', 'hof', '▁pisse', 'énerver', 'ARL', '▁Réveil', 'manche', '▁pyro', 'bière', '▁Néo', '▁chaman', '▁départementaux', 'ISC', '▁pixel', '▁Citation', '▁Heat', '▁Coréen', '▁simultanée', '▁lentille', '▁Player', 'Illustr', '▁amplifier', '▁envoûtant', '▁inefficace', '▁lubrifiant', '▁pokémon', '▁sélective', '▁timidité', '▁Processus', '▁embauché', '▁Buenos', '▁bouleversant', '▁ossature', '▁amenagement', '▁gabonais', 'aperçois', '▁balayé', '▁aspirant', 'orifice', '▁étonnement', '▁costaud', '▁Géographie', '▁Brevet', '▁conservatrice', '▁remplissez', '▁bisexuel', '▁rongeurs', '▁productrice', 'endommager', '▁moquer', '▁Charmant', '▁prenais', '▁allergies', '▁Mobilier', 'lecteur', '▁Bloom', '▁décompte', '▁encouru', '▁côtoient', '▁Naturellement', '▁Rapidement', 'ISTE', '▁terne', '▁révélant', '▁website', '▁aminés', 'trum', 'données', '▁Philipp', '▁mixage', '▁SPORT', '▁substantiel', 'Aviv', '▁Muriel', '▁ruse', '▁grossier', '▁retiendra', '007', '▁Hawk', '▁filmée', 'agrandir', 'requis', 'puissant', '▁glorifi', '▁soliste', 'opère', 'vivre', '▁Dior', '▁WEB', 'opérer', '▁chut', 'averti', '▁Perrin', 'cembre', '▁opera', 'enfonça', 'Anna', '▁blogueur', 'atténue', 'appât', 'opposa', 'athlétisme', '▁RGPD', '▁Wikipedia', '▁consistait', '▁diaspora', '▁indéterminée', '▁résilier', '▁diabolique', '▁fluvial', '▁autorisant', '▁gourmet', '▁thrombo', '▁hospitalière', '▁domotique', '▁GHz', '▁reading', '▁consolidé', '▁coiffé', '▁empathique', 'wordpress', '▁disposait', '▁Certainement', '▁garantissons', '▁Longtemps', '▁croquer', '▁Conscient', 'worth', '▁Beauvais', '▁régénération', '▁alerté', '▁concédé', '▁chantent', '▁dénombre', '▁Penn', '▁Bud', 'LUX', '▁trempe', 'interpr', '▁normalisation', '▁Bite', 'accommod', '▁rondeur', 'espérons', 'agonie', '▁séchées', 'aperçu', 'American', 'déjà', '▁Marty', '▁Parquet', '▁brunette', 'ouvrant', '▁Puisqu', '▁décourager', '1717', '▁prouvent', '▁Never', 'goutte', '▁MAI', 'ippo', '▁draguer', '▁Visit', '▁buff', '▁vendeuse', 'affiner', '▁dilué', 'humi', '▁Signal', '▁parasite', 'import', 'hexagone', 'équilibrage', '▁Itinéraire', '▁Montauban', '▁corrosion', '▁creampie', '▁crocodile', '▁prolétariat', 'arrogance', 'décentralisation', '▁clivage', '▁mammaire', '▁Farm', '▁hydrocarbures', 'annibal', '▁regrettable', '▁Kiev', '▁orangé', '▁items', '▁AVANT', '▁Inspiration', '▁collabora', '▁rassemblant', '▁artères', '▁apprendra', '▁pelage', '▁Morris', '▁Etape', '▁Démon', 'uvons', '▁Valais', '▁trésorier', '▁FBI', '▁Offrez', 'impérialisme', 'Anglais', '▁génèrent', 'gem', '▁déforme', '▁envisagez', '▁perturbe', '▁capte', 'addy', '▁théâtral', '▁suggèrent', '▁garderie', 'spécial', '▁boulon', '▁avertir', '▁péter', 'aigre', 'iquette', 'assembl', '▁commodité', '▁menteur', '▁Lefebvre', '▁Naissance', '▁catalyseur', '▁comptabilise', '▁corbeille', '▁culpabilise', '▁grenoble', '▁héréditaire', '▁inadapté', '▁multijoueur', '▁intimiste', '▁ravalement', '▁décentralisé', 'Arizona', '▁lipides', '▁cyclisme', '▁pluvieux', 'uranium', '▁méridien', '▁Jouets', '▁gynéco', '▁baromètre', '▁texto', '▁fluctuent', '▁rallier', '▁shooting', '▁bourreau', '▁sainteté', '▁construisent', '▁honteux', 'OTO', 'LG', 'Orsay', '----', '▁coordinateur', '▁cultivateur', '▁quoiqu', '▁Jonas', 'tourne', 'Ecriture', 'dedans', '▁risqu', '▁ivoirienne', '▁reussi', '▁refléta', '▁branlette', '▁cutané', '4000', '▁Sebastian', 'valeur', 'mok', '▁Blake', '▁Doré', '▁creer', '▁cuvette', 'ccédant', '▁cantonal', 'audiovisuel', '▁mandaté', '▁houle', '▁apparut', '▁Masque', '▁persan', '▁crié', '▁Silva', '▁payez', '▁Ravi', '▁Justement', 'ERE', '▁Hulot', '▁Rah', '▁fâche', '▁Précédent', '▁Téléchargement', '▁démantèlement', '▁persévérant', '▁structurant', '▁symphonique', 'empêchait', '▁Mathématiques', '▁cavalerie', '▁dissertation', '▁digérer', '▁Terminal', '▁reconverti', '▁Sœur', '▁Titulaire', '▁Mutuelle', '▁Renforce', '▁Sergio', '▁binôme', '▁croquant', '▁canicule', '▁Stanley', '▁atténuer', 'UEFA', '▁furieux', '▁remplissent', '▁restaient', '▁Gaule', 'Étoile', '▁rayonnant', '▁froiss', '▁Nadine', 'mieux', '▁comète', '▁serbe', '▁Milieu', '▁Sexuel', '▁EXC', '▁Dubois', '▁clôturer', '▁fuck', 'informaticien', '▁dérouleront', '▁Raz', '▁beton', 'BOURG', '▁pillage', 'prostituée', 'associé', '▁Condé', 'pourquoi', '▁généralisé', '▁déclencheur', '▁pêcheur', '▁Yang', '▁bénéfici', '▁Flore', '▁complex', '▁MAL', 'Allier', '▁disposées', 'effondrer', '8€', '▁Brive', '▁politicien', '▁vœu', '▁Charleroi', '▁détracteurs', '▁perquisition', '▁plénitude', '▁arrogant', '▁désignant', '▁tangible', '▁mettront', '▁Cambridge', '▁voyagé', '3,5', '▁cordialement', '▁réalisatrice', '▁traître', '▁virtual', 'ordination', '▁corbeau', '▁Serait', '▁IBM', '▁voyaient', '▁marteaux', 'big', '▁0.0', '▁Débat', 'inha', 'ophilie', '▁Petro', '▁simplifie', '▁Partage', 'chap', '▁degats', '▁augure', '▁Editeur', '▁remuer', '▁approximative', '▁veu', '▁4.0', '▁comparez', '▁précipiter', '▁résistent', 'grâce', 'Saône', 'Alaska', '▁Atti', 'Pays', '▁voudrai', 'Laisser', '▁Copie', 'interdire', '▁nantais', '▁Sacha', 'obscur', '▁résulter', '▁Maud', '▁intrus', '▁défait', 'hill', '▁fasci', 'gaming', '▁réfugier', 'Enfer', '▁ukrainien', 'santé', '▁Affiche', '▁tango', '▁Sonia', '▁Diet', '▁Drop', '▁Avertissement', '▁Personnage', '▁Rénovation', '▁dépanneur', '▁inconsciemment', '▁judicieuse', '▁penalty', '▁plébiscité', '▁ambulant', '▁comprenons', '▁douanier', '▁rétroviseur', '▁dévasté', '▁informatisé', '▁Recueil', '▁Pearl', '▁comestible', '▁tapisserie', '▁doutait', '▁frôle', '▁harnais', 'Orne', 'ization', '▁rachète', '▁Franklin', '▁lamelles', '▁docile', '▁Mousse', '▁Sahel', '▁descendance', '▁propager', '▁Gian', '▁induction', 'jeunes', 'encombrement', '▁interviewé', 'osque', '▁Bouch', '▁Vivant', '▁Mimi', '▁érudit', '▁encombre', '▁chiite', '▁Kill', 'orio', 'NIER', 'Outre', 'PME', 'MAP', '▁Mélange', '▁0,9', '▁mourra', 'NOV', '▁préoccuper', '▁Panda', '▁Kath', '▁RSA', 'conférence', '3,6', '▁Électr', '▁Bati', 'BAT', '▁Contribution', '▁Roubaix', '▁comptabilisé', '▁frauduleuse', '▁liturgie', '▁locomotive', '▁manipulateur', '▁néophyte', '▁redécorer', '▁tremplin', '▁calorique', '▁effréné', '▁Équipé', '▁Villiers', '▁Candidat', '▁malentendu', '▁Earth', '▁furieuse', '▁inondé', 'Honneur', '▁Demeure', '▁snack', 'AFF', '▁Disneyland', '▁Spir', 'traitement', '▁brouille', '▁stuff', '▁remix', 'ivresse', 'TAL', '▁Arena', 'dock', '▁habilement', '▁tenaient', '▁connectez', 'gnier', '▁ressentent', '▁piétonne', '▁passation', '▁1927', 'bird', '▁usb', 'Aigle', '▁ressentez', '▁dureté', '▁Prud', 'culation', 'inconfort', '▁Webcam', 'abandonne', 'ivit', 'Catégorie', 'Royal', 'Bernard', '▁Fixe', '▁mangue', 'immunité', '▁baigné', '▁excelle', '3.000', '▁interrogées', '▁Avr', 'louboutin', '▁Adolescent', '▁Doublure', '▁Ouvrir', '▁Xperia', '▁empêchant', '▁restreindre', '▁réconcilier', '▁Ouvrez', '▁distraction', '▁moisissure', '▁rabbin', 'acceptons', '▁Electrique', '▁latéraux', '▁lactose', '▁illustrateur', '▁montréalais', '▁Voyant', 'homicide', '▁appliquant', '▁sapeurs', '▁ultérieur', '▁Interior', '▁Pavillon', '▁Thèse', 'improvise', '▁Notice', '▁ciselé', '▁Captain', '▁watts', '▁fade', '▁préférait', '▁fourmis', 'instituteur', '▁maquis', '▁démissionner', '▁1906', 'archivage', '▁Piano', '▁télécharge', 'ÉRI', '▁mordu', 'Adapt', '▁CGU', '▁soldé', 'quière', '▁Taxe', '▁Soir', '▁Cherchez', '▁talk', 'adhérent', 'Hélène', 'contrôle', '▁provisoirement', '▁Magique', '9,5', '510', 'cost', 'apaisement', 'identique', 'mousse', '▁Chain', '▁Terry', '▁poupe', 'italien', 'iji', 'Télé', '▁mûri', '▁Donna', 'ijk', '▁European', 'hostilité', 'oxydant', '▁précipite', 'Agglomération', '▁Rassemblement', '▁acidulé', '▁considérons', '▁coriandre', '▁décroissant', '▁déroulait', '▁horoscope', '----------------', '▁egalement', '▁Illustration', '▁inapproprié', 'étreinte', '▁intérimaire', '▁congelé', '▁karmique', '▁commanditaire', '▁Cisco', '▁polarisées', '▁Gourmand', '▁Pareil', '▁compromettre', '▁riposte', 'DOU', '▁hacker', '▁XVIII', '▁balisé', 'orphelinat', '▁Bec', '▁oscille', '▁téléchargez', '▁pliage', '▁Zéro', '▁hôtelière', 'effacement', '▁deviendrait', '??????', '▁Usine', '▁sylv', 'Épi', '▁manipule', 'acceuil', '▁débrouill', '▁enrichissant', 'oignez', '▁resp', '▁RSE', '▁Gérer', 'caisse', '▁Trek', '▁gerbe', '▁Digi', '▁Hack', '▁turbine', '▁verrait', '▁Babel', '▁Text', 'expose', 'Vol', '▁Probablement', '▁Stockholm', '▁Suzuki', '▁Yellow', '▁colorimétrique', '▁divergent', '▁dépressif', '▁facultative', '▁préventif', '▁reconstitué', '▁sauvegardé', '▁Assurer', '▁marxiste', '▁Energy', '▁Saumur', '▁Thunder', '▁mercato', '▁Annuler', '▁Doubs', '▁papy', '▁commando', '▁Impact', '▁Activ', '▁Adrian', 'strict', '▁expliquait', '▁filament', 'étaire', '▁tournesol', '▁carcasse', '▁détermin', '▁facade', 'oël', '▁paramétrage', 'relativis', 'approvisionner', 'engrenage', '▁réacteur', 'ATEUR', 'OISE', 'étrier', '▁commentateurs', '▁résidentielle', 'décembre', 'next', '4-2', 'Innovation', 'compatibilité', '▁Hour', 'Détail', '▁Echos', 'tool', '90€', '▁Yeux', '234', '▁calculateur', 'UFF', 'privé', '0,0', '▁débrouille', 'PAM', 'OMB', 'mestre', 'chasse', 'woo', '▁Vampire', '▁divertissant', '▁majestueuse', '▁spoiler', 'imprégner', 'émeraude', '▁Anatomy', '▁concernait', '▁consécration', '▁germanique', '▁prévoyait', '▁toxicité', '▁Béziers', '▁bilatérale', '▁Now', '▁suivront', '▁Croyez', '▁suivons', '▁banderole', '▁Autrefois', '▁VOTRE', '▁rougir', '▁ferveur', '▁stylé', '▁Niort', '▁Volvo', 'Angola', '▁robustesse', '▁Quebec', 'mig', '▁mouture', '▁différenciation', 'échauffer', '▁faisceaux', '▁consulat', '▁Wayne', '▁calc', '▁Courrier', '▁renversement', '▁attributions', '▁Frère', '▁Seth', '▁Novo', '▁Branche', '▁métropolitain', 'Edit', '▁déposez', 'Angel', '▁patronne', '▁rack', 'Arche', '▁Axel', 'médecin', 'tection', 'terroriste', 'recht', 'bella', 'enchaînent', '▁remit', '▁Ballet', '▁Borg', '▁Coloris', 'orel', '▁success', '▁Austral', '▁2,4', '▁éparpill', '▁cacahuète', '▁éliminatoire', 'Commissariat', 'élasticité', '▁Ouagadougou', '▁Transformer', '▁allégations', '▁coopératif', '▁cueillette', '▁dialectique', '▁démoniaque', '▁exhaustif', '▁négociant', '▁pédagogue', '▁voudrez', '▁CONSEIL', '▁togolais', '▁Député', '▁Voyons', '▁désagréments', 'ambulance', '▁cachait', '▁ravagé', '▁gynécologue', '▁oligo', '▁Silicon', '▁Hunter', '▁gestation', '▁randonneurs', '▁moderniser', '▁arbustes', '▁hentai', '▁Oliver', 'ENNE', 'where', 'enchaîner', 'willer', '▁poumon', '▁Beaumont', 'tunning', 'confirmant', '▁aimerions', '▁Uber', 'claration', '▁conform', '▁pliable', '▁Supp', '▁Storm', 'irrationnel', '▁coïncide', 'çi', '▁profitable', '▁Ariane', 'fish', '▁RFI', '▁braque', 'blogspot', '▁regagn', '▁viré', '▁Vendre', 'GIS', '▁loterie', '▁pitch', '▁constatons', '▁blind', 'KW', 'Afghanistan', 'anticiper', 'centrique', 'ouver', 'ITAL', 'projecteur', 'wig', '▁percé', 'minaire', '▁Kiss', 'glace', '▁Trace', '▁théologien', '▁accentue', 'autoriser', 'rank', 'affranchir', '▁Beyrouth', '▁Gbagbo', '▁Santiago', '▁Xiaomi', '▁dérisoire', '▁imbattable', '▁incomplet', '▁synagogue', 'échafaud', '▁irresponsable', '▁peugeot', '▁conjugué', 'excède', '▁injecté', '▁agrégé', '▁Preuve', '▁dépouillé', '▁Poésie', '▁Hormis', 'effraction', '▁accueillons', 'BOX', '▁Bayrou', '▁Rag', '▁captive', '▁nutritionniste', '▁Howard', '▁driver', '▁temporel', 'eignant', '▁2.4', '▁Rox', 'encolure', '▁déprime', '▁pelote', '▁liqueur', '▁Plaza', '▁edit', '▁Verne', '▁Ménage', '▁verrouillé', '▁randonn', '▁relaxer', 'altère', 'évoque', '▁tardivement', '▁présentateur', '▁Sportif', '▁débattu', '▁Canard', '▁Calme', '▁verni', 'AULT', 'idad', 'mécanique', 'aquarium', 'Prince', 'Depuis', 'ocratie', '▁Logan', 'avatar', 'IRA', '▁détourna', '▁déconne', '▁Disque', 'construct', '▁retournant', '▁Wang', '▁réduis', '▁caillou', 'apôtre', 'interrogatoire', '▁Baignoire', '▁Slovaquie', '▁Visiblement', '▁câblage', '▁hexadécimal', '▁virtuose', '▁Également', '▁apprenons', '▁soupape', '▁Lénine', '▁Ralph', '▁Complément', '▁communicant', 'broussaill', '▁compense', '▁transcende', '▁psychothérapie', '▁menuisier', '▁Coordination', '▁onirique', '▁repassage', '▁aguerri', '▁hésitant', '▁Elodie', '▁PLAN', '▁Chuck', '▁préhistorique', '▁procuré', '▁Rappelez', '▁convergent', '▁Flori', '▁lvl', '▁compile', '▁tissage', '▁troupeaux', '▁Ferra', '▁978', '▁Visage', 'juge', '▁Réserver', '▁salua', '▁salutaire', 'imaginais', 'body', '▁commençai', '▁1909', 'dating', '▁SANS', 'recherche', '▁CONTR', '▁12:00', '▁coordonne', 'Prix', 'stockage', 'limite', '▁18:00', '▁canap', '▁Accompagn', '▁Galli', '▁poterie', 'efforcer', '▁Ortho', 'NEL', 'infidélité', '▁Rédigé', '▁clignotant', '▁confrérie', '▁dénouement', '▁intermittent', '▁manucure', '▁paranoïa', '▁blouson', '▁remémore', '▁séquelles', '▁Levallois', 'échalote', '▁Supprimer', '▁Buffet', '▁Bagdad', '▁gangbang', '▁drainage', '▁connection', '▁Légère', '▁fléchi', '▁méfiant', '▁Rolex', '▁envolée', 'Terre', '▁tribal', '▁Hold', '▁Faust', '▁brutalité', '▁Lomé', '▁gendarme', '▁purification', '▁donnaient', '▁Répondre', 'Oréal', '▁Nadia', '▁orgie', '▁coéquipier', 'Liquid', '▁Reportage', 'IRS', '▁4.1', '▁senteurs', 'Hol', '▁Faisant', '▁punch', 'ètre', '▁Appliquer', '▁précipit', '▁consomment', 'MAIN', 'sexual', 'diffusé', 'music', 'amusant', 'approuver', 'Enfin', '▁Neuro', 'client', 'UMR', 'maître', '-06-', '▁Techni', '▁réconfortant', '▁Zoé', 'mettaient', 'IGNE', 'cologique', '▁Tribu', '▁bouée', 'Auschwitz', '▁Panthéon', 'affluence', '▁Fontainebleau', '▁chevronné', '▁coordonnateur', '▁firmware', '▁mouvance', '▁piercing', '▁prévaloir', '▁signifiait', '▁attrapé', '▁dynamiser', '▁trendy', '▁manivelle', '▁Envoyez', '▁organisons', '▁Boeing', '▁dévoré', '▁médiatisé', '▁maturation', '▁Extension', '▁Chiffre', 'Arcachon', '▁lisibilité', '▁Bastille', 'enclenche', '▁interdisant', '▁pulsions', '▁Discours', '▁convertisseur', '▁prirent', '▁enveloppé', '▁Triple', '▁devions', '▁compuls', '▁pansement', '▁white', 'rieu', '▁Fnac', '9,99', 'foss', '▁masturber', 'ISA', '▁ministérielle', '▁consulaire', '▁patronat', '▁Fourre', '▁désespér', '▁déviation', '▁histori', '▁SSL', '▁Venu', 'impré', 'févr', 'Informatique', 'Belgique', 'comptable', 'Suisse', 'pharmacie', '▁Manque', 'enrichit', '▁Panier', 'entourent', 'aggrave', '▁annule', '▁Contemporain', '▁flag', 'AFA', '▁fouillé', '▁animalier', '▁patronale', 'Bénéficiez', '▁Birmanie', '▁Carnaval', '▁PayPal', '▁Propriétaire', '▁aggravé', '▁bungalow', '▁constituait', '▁prérogatives', '▁émeutes', '▁accrédité', '▁condensé', '▁scratch', '▁tandem', '▁velouté', '▁recyclable', '▁amplifié', '▁métabolique', '▁Jeremy', '▁fuyant', '▁school', 'embêter', '▁Honoraires', '▁liège', 'Individu', '▁Présidence', '▁Montaigne', '▁Daech', '▁décède', '▁sultan', '▁celtique', '▁Municipalité', '▁continental', '▁alpes', '▁discerner', '▁Beauty', '▁FAQ', '▁sécrétion', 'illumination', '▁Joueur', '▁visionnage', '▁Petr', '▁néfaste', '▁apprit', '▁utilisait', '▁éblouissant', '▁valse', '▁Superman', '▁Alarme', '0%)', '▁1871', '▁dangereusement', 'vasculaire', '-03-', '▁secrètement', 'Bruxelles', 'Vincent', 'Texte', '▁Alfa', 'initiateur', 'TAN', 'finance', '▁Patron', '▁Block', 'Femme', '▁détox', '▁Robinet', '▁brad', '▁proportionnel', '▁additionnelle', '▁Fraternité', '▁Personnalisé', '▁Procédure', '▁conquérant', '▁constitutif', '▁diminuant', '▁pompage', '▁pédiatre', '▁relâché', '▁sympathisants', '▁éliminant', 'ingérence', '▁surplombe', '▁débordé', '▁déprimé', '▁easy', '▁amorcé', '▁informatif', '▁censuré', 'acheminement', '▁veillant', '▁Evaluation', '▁fatalité', '▁retombe', 'électorat', '▁traduisent', '▁moult', 'visite', '▁Paquet', '▁flop', '▁dorer', '▁ressuscit', 'cuir', 'vand', '▁rasage', '▁york', 'nasse', '▁abusif', 'novembre', '▁tendit', '▁capté', '▁innover', '▁Shell', 'ELLES', 'lourd', '▁Coq', 'OFF', '▁sauveur', 'Alep', '▁HER', '▁recent', '▁Semi', '▁tremble', '▁Terme', '▁Sylv', '▁fourré', 'traumatique', 'demande', '▁Cause', 'équipier', '▁accoudoir', '▁corporation', '▁glorieuse', '▁mathématicien', 'instruire', '▁Knight', '▁distorsion', '▁fédérer', '▁vehicule', '▁Évitez', '▁Cirque', '▁represent', 'Apôtre', '▁profess', 'SAT', '▁paradoxalement', '▁poulie', '▁Staline', '▁Tommy', '▁cracher', '▁rotatif', '▁hétérogène', '▁vitrerie', 'expédi', '▁globalité', '▁personnalis', '▁stagne', 'ooooo', 'Ariège', '▁négocie', '▁1881', 'vro', 'yria', 'LAY', '▁délimité', '▁Navy', '▁prions', '▁tchatche', 'attacha', '▁Raid', 'interruption', 'quelques', 'Amiens', 'Loup', '3000', '▁Gentil', '▁entrepreneurial', '▁ébloui', '▁immuno', 'crétion', '▁commercialiser', '▁broder', '▁dévore', '▁menti', '▁rémunér', '▁Caractère', '▁avoisinant', '▁bicyclette', '▁cellulite', '▁connotation', '▁fertilité', '▁folklorique', '▁grotesque', '▁managérial', '▁multiplicité', '▁paternité', '▁théoricien', '▁obsédé', '▁virgule', '▁Brooklyn', '▁pathologique', '▁Fitness', '▁contraception', '▁Cyclo', '▁prescrire', '▁Marquis', '▁Francophone', '▁écoliers', '▁rivaux', '▁Dallas', '▁antivirus', '▁Hugues', '▁daim', 'interpellation', '▁retiens', '▁Buzz', '▁tanins', '▁minutieusement', 'Isle', '▁scénique', '▁GSM', 'abst', '▁Été', '▁rhin', '▁Directive', '▁secouer', 'entraîna', 'joignant', '▁Naturelle', '▁Aurélien', 'jouissent', '▁Méli', 'envahir', 'ULL', '▁creation', 'énor', '▁Partez', '▁calais', 'connaissance', 'job', 'siècle', 'orgasme', 'impatience', 'IKE', 'éteign', 'alinéa', '▁noue', '▁BIEN', '470', 'ïsme', 'Résolu', '▁Charme', 'uuuuu', '▁REP', '▁loufoque', '▁Giovanni', '▁WIFI', '▁antidérapant', '▁déblocage', '▁narcissique', '▁pergola', '▁persuader', '▁prévoyez', '▁vouliez', 'autobiographie', '▁Représentant', '▁éduqué', '▁Voulez', '▁flâner', '▁pictural', '▁dissimula', '▁Période', 'ensoleillement', '▁dormait', '▁respira', '▁coïncidence', '▁saignement', '▁vernissage', '▁cratère', '▁bicarbonate', '▁Forfait', '▁medecin', '▁Special', '▁Nicol', '▁traîna', '▁ramassage', '▁naïveté', '▁définissant', '▁Joyeux', '▁Secours', '▁commençaient', '▁gracieusement', '▁assura', '▁Polonais', '▁hisser', '▁Pensée', '▁gogo', '▁lotion', '▁XXL', '▁excel', '▁Villers', 'match', '+5', '▁férié', '▁grillage', 'langue', '▁athée', 'aladin', 'habillement', '▁Soeur', 'élevant', 'HOU', '▁discutable', '▁voilage', '▁méfie', '▁soulèvement', 'ORA', '▁Inox', '▁Universal', 'apéritif', 'acoustique', 'musulman', '▁permettez', '▁inouï', 'Super', 'sœur', '6.5', '▁vitro', 'CEE', '▁Raw', '▁disparait', '▁Doit', '▁Escarpins', '▁Monseigneur', '▁Thibault', '▁clitoris', '▁compétitive', '▁cylindrique', '▁décrypter', '▁effondré', '▁libellé', '▁pessimiste', '▁supprimant', '▁Costume', '▁douanière', 'Instruction', '▁Middle', '▁Neuchâtel', '▁déconseille', '▁licorne', 'objectivité', '▁Narbonne', '▁Approche', '▁handball', '▁pollen', '▁Aussitôt', '▁Kyoto', '[14]', '▁Climatisation', '▁Configuration', '▁Tarbes', '▁Holmes', '▁moulage', '▁orphelins', 'quête', '▁Kurt', '▁infusion', '▁redescendre', '▁attesté', '▁billard', '▁Finition', '▁statutaire', '▁Chasseur', '▁verve', '▁portier', 'Histori', '▁flood', '▁Marcus', '▁Select', '▁Diana', 'ICK', '▁Renard', 'connais', 'Métropole', '▁Wave', 'oord', '▁filtré', 'apparaître', 'phénol', '▁retardé', '5,6', 'Année', '▁rocheuse', '▁JEAN', '▁suive', 'ronique', 'oussi', 'Affi', 'hémo', '▁témoigna', '▁inséparable', 'incompétence', '▁Aluminium', '▁Muhammad', '▁Ouvrage', '▁incarcéré', '▁indéfiniment', '▁paradisiaque', '▁perruque', '▁syllabe', '▁symphonie', '▁transsexuelle', '▁véhiculé', 'éthanol', '▁spatule', '▁plasticien', '▁Field', '▁plaidoyer', '▁TRANS', '▁insensé', '▁Vérifier', '▁Textile', '▁Adjoint', '▁Poignée', '▁Roissy', '▁propulsion', '▁assembler', '▁fichu', '▁reparler', '▁April', '▁Luther', 'chaussure', '▁pépinière', '▁colorier', '▁crever', '▁bourgeon', '▁bourdon', '▁Régie', '▁transformateur', '▁Fund', '▁barbu', '▁finlandais', '▁Auchan', '▁autocar', '▁délibér', 'videmment', '▁Elec', '▁dépliant', 'accordéon', '▁attira', '▁répondrai', '▁msn', 'gout', '▁incité', 'étendent', 'ndustrialisation', '▁pénétrant', '▁reserve', 'HEN', 'interpelle', 'attribuer', 'pompiers', '▁allégé', 'interieur', 'pouvoir', '▁concis', 'Yonne', 'portrait', '▁Appart', 'calcul', '▁apparenté', '▁Géant', 'Artisanat', 'absurdité', 'efficience', '▁Cévennes', '▁Dénomination', '▁Ethernet', '▁Mécanique', '▁Surveillance', '▁Territorial', '▁bouilloire', '▁discriminatoire', '▁distraire', '▁divulguer', '▁désarroi', '▁extravagant', '▁fragilisé', '▁hollywoodien', '▁immaculé', '▁implacable', '▁incursion', '▁introuvable', '▁nomenclature', '▁perroquet', '▁régularisation', '▁territoriaux', '▁thaïlandais', '▁translucide', '▁Étudiant', '▁sortilège', '▁rênes', '▁Rallye', '▁Médiathèque', '▁fusillade', '▁épousa', '▁canoë', '▁cadenas', '▁Electronic', '▁Générique', '▁lombaire', '▁centraux', '▁agacé', '▁Facilit', '▁which', '▁promettent', '▁boudin', '▁chantilly', '▁ruiné', '▁Bouchard', '▁écuries', '▁bassiste', '▁entretiennent', '▁préparait', 'èbe', '▁Ould', '▁proclamation', '▁Robinson', '▁allions', '▁réducteur', '▁NOUS', 'Process', '1.1', '▁jouaient', '▁libertinage', 'vitamin', '▁Durand', '▁mobilisent', '▁Chargeur', '▁1793', 'pak', '▁stoppé', '▁Norme', '▁désastreuse', '▁Pipe', 'semblable', '▁bricoleur', '9910', 'ISME', 'circuit', 'aéronautique', 'Français', 'clefs', 'Exposition', '▁DIEU', 'début', '▁Craig', 'LAND', '▁vante', '▁Sarra', 'food', '2020212', '▁Cristiano', '▁SOURCES', '▁aveuglé', '▁chorégraphique', '▁comprenais', '▁déchirure', '▁extrémistes', '▁sensibilisé', '▁vertigineuse', 'euthanasie', 'éligibilité', '▁proprio', '▁virulent', '▁chanvre', '▁copropriétaires', '▁dominicain', '▁hindou', '▁Lituanie', '▁frayeur', '▁MHz', '▁consolation', '▁morsure', '▁Shoah', '▁replonger', 'propos', '▁dormant', '▁défilent', '▁when', '▁dissident', '▁énonce', 'acharnement', '▁étouffé', '▁DSW', '▁enrobé', '▁fusible', '▁Navi', '▁Verdi', '7.5', 'exhibition', '▁Blois', '▁sectaire', '▁replique', 'génital', '▁édite', 'condition', 'Loi', 'catalog', '▁Gali', 'Moselle', 'réponse', '▁Tigre', 'EDF', 'IBLE', '2.8', '▁omis', 'TIER', '▁panda', '▁chaudron', '▁Natural', 'allow', 'Time', '▁Apport', 'analys', 'Abd', 'Hygiène', 'autobiographique', '▁Country', '▁Graphique', '▁Pneu', '▁Varsovie', '▁Villeurbanne', '▁archaïque', '▁blockchain', '▁fragrance', '▁mutualisation', '▁émergé', '▁soyeux', '▁citrouille', '▁alarmant', 'abdomen', '232;', '▁Bizarre', '▁Deauville', '▁Clémence', '▁Seattle', '▁postulat', '▁Plafond', '▁entrailles', '▁raffole', '▁Gautier', '▁Iris', '4,5', 'Opinion', '▁pédo', '▁squat', '▁accompagnons', '▁recoins', 'bak', '▁résonna', '▁Buch', 'health', '▁Calvin', '▁Schéma', '▁perforé', 'arrow', '▁Philo', '▁ponctuellement', '▁déchu', '▁MONDE', 'abattement', '▁obus', '▁Herman', '▁Horaire', 'empeche', 'critique', '▁Woo', 'possibilité', 'igua', '▁restau', '▁funk', '▁Capri', 'employer', 'Fédération', 'million', 'Groupe', 'ENSE', 'ramique', 'Utilisation', '▁Bund', 'USM', 'RIER', 'mariage', 'bureau', '▁annonça', '▁provoqu', '▁Program', '12222', '▁ARTICLE', '▁Bonaparte', '▁Légende', '▁Zelda', '▁acolyte', '▁bactérienne', '▁contraindre', '▁divulgation', '▁déportation', '▁glycémie', '▁généalogique', '▁kabyle', '▁miraculeuse', '▁prédominance', '▁sorcellerie', '▁submergé', '▁Neymar', '▁narratif', '▁nazisme', '▁palpitant', '▁pionnière', '▁graffiti', '▁Essentiel', '▁Cliquer', '▁rebours', '▁bijouterie', 'applaudissements', '▁tisane', '▁poulain', '▁espagne', '[13]', '▁modulation', '▁politico', '▁Exchange', '▁crocs', '▁Éclair', '▁procura', '▁réformé', '▁incertitudes', '▁radieux', 'élevait', '▁moulant', '▁Nourri', 'Billancourt', '▁confins', 'velopper', 'aérodrome', '5566', '▁reliure', '▁Friend', '▁SVP', '14151', '▁permettaient', '▁fake', 'Dom', '▁tricher', '▁Piece', '▁Froid', '▁crétin', '▁know', '▁Two', '▁Couv', 'oxine', '▁delta', '▁Fabre', '▁fortuné', '▁Propre', '▁cyclone', '▁contrée', '▁réactionnaire', '▁Vital', 'Athènes', '▁rembourse', 'John', '3,9', 'ouviez', '▁péage', '▁Fernando', '▁littéral', '101111', '31314', '51616', 'éradiquer', '▁Centrafrique', '▁Démocratie', '▁Identifier', '▁Responsabilité', '▁Slovénie', '▁châtaigne', '▁citadelle', '▁conjonction', '▁dégueulasse', '▁samsung', '▁talentueuse', '▁étonnamment', '▁Wagner', '▁Brabant', '▁Mandela', '▁Desjardins', '▁friandises', '▁Présidentielle', '▁féodal', '▁Related', '▁surviennent', '▁régalé', '▁indisponible', 'affilée', '▁Edmond', 'Actualit', '▁Cognac', '▁provenir', '▁établissant', '▁Bosnie', 'exposé', 'chrome', '7788', '▁Sirius', '▁grossi', '▁oubliant', '▁rencontrons', '▁Commandant', '12121', '▁scene', 'chaîne', 'espérais', 'UFC', '▁valve', '▁beta', 'café', 'IENNE', '▁compote', '▁chiche', 'accélère', 'inspirant', '▁répare', 'degrés', '▁Usage', 'automate', 'admet', '▁Step', '▁Bird', 'communication', '▁abrité', '▁subject', '▁suspend', '▁Harmon', '23232', '▁transcendant', 'adhésive', 'ostéopathie', '▁Eclairage', '▁Initialement', '▁Signature', '▁affectueux', '▁affordable', '▁contenance', '▁frénétique', '▁polyuréthane', '▁représailles', '▁succursale', '▁sulfurisé', '▁suspicion', '▁testostérone', '▁Lawrence', '▁redevable', '▁Rédaction', '▁Tanzanie', '▁relancé', '▁indonésien', 'Ethiopie', '▁Fantastique', '▁frontalier', '▁guidage', '▁Silence', '▁postérité', '▁flemme', '▁Marshall', '▁Louvain', '▁Népal', 'agrégation', '▁Réflexion', '▁Small', '▁abimé', 'kawa', '▁Sarthe', '▁imprécis', '▁journalistique', '▁-->', '▁Bronze', '▁Cantal', '▁pornographie', 'Noir', '▁crypté', '▁Elena', '▁Lunaire', 'SPEC', '1.5', '▁Opel', '▁distinctif', 'ANO', 'affaiblissement', 'cultur', '▁exportateur', '▁patent', 'hahaha', 'grenier', 'brook', 'RAY', 'adoration', 'localisation', 'iiiii', 'soumis', 'pascher', 'quartier', 'entrepôt', 'exclusivité', 'Type', 'sujet', 'Noël', '▁Guin', 'Même', '▁Mamie', '▁innove', 'inski', 'ridge', '181522', '2525262627272828', 'aggravation', 'émerveillement', '▁Hainaut', '▁Lincoln', '▁copyright', '▁dermatite', '▁défectueuse', '▁déstabiliser', '▁hexagonal', '▁juvénile', '▁revalorisation', '▁réfractaire', '▁Chirurgie', '▁Manifeste', '▁Suspension', '▁byzantin', '▁réquisition', '▁fringues', '▁Colonel', '▁détesté', '▁sevrage', '▁ignorait', '▁nudité', '▁impayé', '▁refoulé', '▁subjectivité', '▁folklore', '▁Lopez', '▁alternant', '▁goudron', '▁nombril', '▁Consultation', '▁Psychologie', '[15]', '▁Altern', '▁pralin', '▁XVIIIème', '▁rançon', '▁Geek', '▁Comparatif', '▁Meteo', '▁Danny', '▁maltraitance', '▁microphone', '▁soucieuse', '▁poireaux', '▁tapant', '▁Ecran', 'assoir', '▁palpable', '▁Cruise', 'ennec', '▁nacelle', '▁neutraliser', '▁Progress', '▁maniable', '▁trentenaire', 'iériste', '▁indésirable', '▁réjouissant', '▁déroge', '▁Cahier', 'CHAM', '▁MINI', 'puissance', 'AILLE', 'maçon', '▁ferrée', 'ovitch', 'Maurice', 'hélicoptère', 'aspirateur', 'Intercommunalité', 'intervenant', 'gauche', 'amidon', 'iiiiiiii', '▁comportementale', 'essaierai', '▁Accro', 'ohm', '▁kick', 'Tropez', 'arbuste', '▁bob', 'brise', 'aurions', 'maijuinjuil', '▁Différentes', '▁Newsletter', '▁Procureur', '▁côtoyer', '▁démocratisation', '▁magnétisme', '▁monstrueuse', '▁représentaient', '▁rwandais', '▁scrupuleusement', '▁stupéfiants', '▁tabagisme', '▁encadrant', '▁exacerbé', '▁tsunami', '▁bohème', '▁illégaux', 'DGCIS', '▁jésuite', '▁parachute', '▁dragées', '▁oasis', '▁indiquait', '▁bambin', '▁Emily', '▁Castorama', '▁lézard', '▁Humaines', '▁gaulois', '▁seringue', 'esthétisme', '▁Bourgeois', '▁Mireille', '▁découvrit', '▁minutieux', 'marsavr', '▁excentrique', '▁Hambourg', '▁expatriés', '▁persistance', '▁affreux', '▁Beaulieu', 'Achille', '▁Nogent', '▁fleurissent', 'XVI', '▁risquait', '▁signifié', '▁fusionner', '▁Foyer', '▁altéré', '▁Staff', '▁révolutionner', '▁larves', '▁déchira', '▁relai', '▁Martel', '▁Consid', '▁meurtri', '▁Charbon', 'Perret', '▁muette', 'éteint', 'Google', 'interpréter', 'Sophie', 'Quentin', '▁Milf', '▁expire', 'extraire', 'rink', '840', '▁pardonné', '▁Diffus', '▁intemporelle', 'sécurité', '▁compromet', 'musique', 'hémorragie', '▁Djibouti', '▁Stewart', '▁complaisance', '▁comportait', '▁excéder', '▁fluctuation', '▁interracial', '▁perpendiculaire', '▁préjudiciable', '▁souffrait', '▁tiendront', '▁redevenir', '▁Nigéria', '▁gâché', '▁lithium', '▁sinistré', '▁Gouverneur', '▁vessie', '▁Margaret', '▁déconnecté', 'aoûtsept', '▁exprimant', '▁connectant', 'Apollon', 'guard', '▁économe', '▁Russell', '▁Drôle', '▁télécoms', '▁coopérer', '▁Implant', '▁régnait', '▁rocheux', '▁purifier', '▁Airport', '▁prospectus', '▁connard', '▁lexique', '▁boude', '▁Rabbi', '▁Polarisée', '▁mesurant', '▁Marius', '▁maxime', '▁Monica', '▁Zola', '▁alentour', '▁Salva', '▁Sympa', 'tronic', '▁opportuniste', '▁pieux', '4.000', 'Isabelle', 'Arthur', 'apparaissent', 'côte', 'élécommunication', 'émetteur', 'atterrir', 'OUX', 'simple', '▁présomption', '▁Kadhafi', '▁bulgare', '▁empoisonné', '▁explicatif', '▁immanquable', '▁momentanément', '▁souviennent', 'Indochine', '▁Cayenne', '▁berbère', '▁Safari', '▁traumatisé', '▁flambeau', '▁québec', '▁cluster', '▁Bonheur', '▁bitume', 'yahoo', '▁holding', '▁sergent', '▁Harvard', '▁Diamond', '▁safran', '▁Chimie', '▁Convient', '▁hostilités', '▁Diffusion', '▁focale', '▁remettent', '▁plaignent', '▁Heureux', '▁Réduire', '▁Comptoir', '▁Automatique', '▁Respir', '▁grince', '▁convenait', '▁officie', '▁veuf', '▁garnison', '▁nichons', '▁réélu', '▁vertueux', '▁surdoué', '▁Mauri', 'sensible', '▁Gym', 'Horloge', '▁vietnamienne', 'Tom', '▁privation', 'jihadiste', 'destin', 'amento', '▁Grad', 'Croix', 'google', 'chrétien', 'Shirt', '▁0%', '▁Délégation', '▁Habituellement', '▁Schwarz', '▁déménagé', '▁exorbitant', '▁funèbre', '▁indiscutable', '▁inestimable', '▁instructif', '▁joignable', '▁sépulture', '▁grêle', '▁tolérant', '▁populiste', 'Inspection', '▁Adaptateur', '▁Hussein', '▁réticent', '▁Sakura', '▁sunnite', '▁abruti', '▁Hannah', '▁duchesse', '▁Assassin', '▁Havane', '▁subvenir', '/10/2018', '▁circulant', '▁biologiste', '▁violoncelle', '▁collector', '▁Mazda', '▁(2012)', '▁Héros', '▁tjs', '▁stratifié', '▁déclarait', '▁sodomi', '▁cheminots', '▁Movie', '▁deuxieme', '▁percute', '▁Saïd', '▁sensoriel', 'classé', 'ARRE', 'agresser', '▁supplé', '▁millimètre', '▁Import', '▁seigneurie', '▁Pacific', 'incontournable', 'propriétaire', 'auparavant', 'David', 'héritier', '▁Solar', '▁reprenne', 'HSL', 'champion', 'Orientales', 'displaystyle', 'ingéniosité', '▁Advance', '▁Constantinople', '▁Erdogan', '▁Hezbollah', '▁Hospitalier', '▁Répertoire', '▁affluent', '▁balayage', '▁escompté', '▁fédéraux', '▁hygiénique', '▁lampadaire', '▁mijoter', '▁prophétique', '▁Enterprise', '▁malchance', '▁remerciant', 'Alexandrie', '▁chimiothérapie', '▁bagnole', '▁symétrie', '▁dépeint', '▁reconnaissez', '▁admiré', '▁RATP', '▁métallisé', '▁Mylène', 'education', '▁steak', '▁Bruges', '▁crève', '▁affirmait', '▁captivité', '▁déchaîne', '▁Bayern', '▁Grenade', '▁brûleur', '▁guinéen', '▁Punk', '▁Tagué', '▁transposition', 'ouïe', '▁lorrain', '▁Hann', '▁verrière', '▁politi', 'ETI', 'EFF', '▁redresse', '▁Brico', 'extase', '0,000', '▁Accessoire', 'licate', '▁SYN', 'Votre', 'Estonie', '▁Conséquence', '▁Guardian', '▁brillamment', '▁incontrôlable', '▁kitchenette', '▁relooker', '▁démaquillant', '▁massacré', '▁Mongolie', 'Aiguille', 'euphorie', '▁Mandataire', '▁dissoudre', '▁Installer', '▁destructrice', '▁Enseignant', '▁SUPER', '▁boursière', '▁FCFA', '▁rubis', '▁Modifier', '▁inconfortable', '▁corvée', '▁Putain', '▁(2011)', '▁désireuse', '▁carreau', '▁Living', '▁torchon', '▁individualiste', '▁Besson', '▁signalétique', '▁francilien', '▁coulisse', '▁instaure', 'fresh', '▁Balade', '▁honoraire', '2.5', 'attarde', 'hérésie', '-05-', '▁Dollar', '▁MAISON', '▁Réuni', '▁expédie', '▁chilien', 'investiture', 'longchamp', 'Lyon', 'equipe', 'Gouvern', '▁Fukushima', '▁Gendarmerie', '▁LinkedIn', '▁Scénario', '▁divulgué', '▁démangeaisons', '▁dévastateur', '▁dévoilant', '▁insinuation', '▁rattrapage', '▁sédentaire', '▁Brigade', '▁émotif', '▁Lozère', '▁Monnaie', '▁Oracle', '▁Gamme', '▁répugn', '▁cynisme', '▁Témoin', '▁jargon', 'écureuil', '▁PRIX', '▁Running', '▁marmite', '▁Navarre', '▁Diplo', 'hérétique', 'Oeuvre', '▁Fusion', '▁comptage', '▁Globalement', '▁cintre', '▁Think', '▁Magali', '▁BLANC', 'voiture', '▁ingrat', 'accumulent', '▁adorait', 'enclave', '1995', '▁Myth', '▁olives', '▁apaise', '▁Gill', 'IMMO', '▁Talent', '▁Thur', 'REL', 'inscris', '▁terrine', '▁Kali', 'érac', '▁Noble', '▁dijon', 'Aubin', 'chronique', 'Étude', 'agora', 'opératoire', '690', 'Garros', 'Hiver', 'réalisme', '▁Mili', '▁inexact', '▁discontinu', 'Intérêt', '▁Déplacement', '▁Entertainment', '▁Olivia', '▁Rihanna', '▁bronzage', '▁galvanisé', '▁patriarche', '▁équivoque', '▁Harvey', '▁Puerto', '▁bottines', '▁organisatrice', '▁cosplay', 'family', 'égoïsme', '▁concubin', '▁Aurore', '▁déplaise', '▁remanié', '▁After', '▁Attendu', '▁jumelé', '[16]', '▁pochoir', '▁Keith', '▁régissant', '▁think', '▁DIRECT', '▁Martial', '▁murmura', '▁battait', '▁désillusion', '▁bardage', '▁sanctionner', '▁enchanter', '▁Warner', '▁Logique', '▁Documentation', '▁Peindre', '▁déroute', 'apprenne', '▁pénalisé', '▁deviné', '▁Command', '▁végétarienne', '▁Placé', '▁prisonnière', 'enterrer', 'ATF', '6.000', '▁Glass', '▁Steel', '▁oeuvr', '▁liseuse', 'kaya', '▁demeuré', '▁branch', '▁concrétise', 'EUSE', 'Amsterdam', 'Android', 'descend', 'pilote', 'tenay', 'chirurgical', '▁expliqua', '▁confident', '▁JAMAIS', '▁Lafayette', '▁Meurthe', '▁Remplissez', '▁Snapchat', '▁Théodore', '▁anthracite', '▁cabriolet', '▁congrégation', '▁consortium', '▁efficient', '▁intelligemment', '▁prononciation', '▁gestuelle', '▁bicolore', '▁paralysie', '▁Constance', '▁côtier', '▁matérialise', '▁FORMATION', '▁phosphore', '▁maniaque', '▁little', '▁gracieux', '▁constance', '▁transmettent', '▁parvint', 'horlogerie', '▁aubaine', '▁caractérisation', '▁ligament', '▁Review', '▁codage', 'empara', '▁colza', '▁Biennale', '▁Journaliste', 'litz', '▁Inspirant', 'poussoir', 'entremise', '▁déniché', '▁convainc', '▁ventilé', 'session', '▁Trend', 'blast', '▁protagoniste', 'ndry', 'prêt', '▁colombien', '▁honn', '▁Important', '▁Robb', 'Ensemble', 'inclure', 'pratique', 'paiement', '9,90', '▁coquette', '▁Beethoven', '▁Exactement', '▁Kosovo', '▁Nutrition', '▁patriotique', '▁perçoivent', '▁prévalence', '▁débloqué', '▁huîtres', '▁mascotte', '▁nutritif', '▁ininterrompu', '▁Enregistrer', '▁croyaient', '▁Soyons', '▁contravention', '▁Coussin', '▁décrivent', '▁parmesan', '▁Bricolage', '▁cliqué', 'IUT', '▁drogué', '▁fictive', '▁machoire', '▁Darwin', '▁Distance', '▁Congolais', '▁cygne', '▁Instruments', '▁Aspect', '▁assistons', '▁confiné', '▁Bergerac', '▁oblique', '▁aboutissant', '▁Falcon', '▁ratification', '▁lycéenne', '▁Nombreuses', '▁vingtième', '▁demandaient', '▁Récit', '▁Hugh', 'douane', '▁subventionné', 'dernière', '▁moeurs', '▁Sabine', '▁proclam', 'inventivité', '▁Fidel', 'XXX', 'inceste', '▁Fried', '▁plaign', 'afflux', '▁Joint', '▁Républicain', 'espion', 'génération', 'enfermement', 'accoutumé', '▁Absolument', '▁Dispositif', '▁Pentecôte', '▁Proximité', '▁Répartition', '▁VostFR', '▁acquitté', '▁bourguignon', '▁découragé', '▁dépaysement', '▁détiennent', '▁eclairage', '▁episode', '▁escroc', '▁microfibre', '▁persécuté', '▁portfolio', '▁remorquage', '▁épiscopal', 'embouchure', '▁projectile', '▁vomissements', '▁Detroit', '▁qualifiant', '▁Agréable', '▁homophobe', '▁illustrant', '▁existentielle', '▁Fréquence', '▁réédité', '▁interesting', '▁confiserie', '▁méconnaissance', '▁affreuse', '▁focalisé', '▁MacBook', '▁dorsale', '▁Watson', '▁brossé', '▁tacite', '▁Gazette', '▁mentionnant', '▁granulés', '▁Perdre', 'ssay', '▁vinrent', '▁fonceur', '▁dorment', '▁remarqu', 'enzyme', '▁Théorie', 'TEAU', 'chlor', 'accidentellement', 'assan', 'moyen', 'oscopie', '▁civilisé', '▁féru', '▁Mok', 'passion', 'UME', 'Science', 'French', 'ouvet', '▁braise', 'Stock', 'arnaque', 'matériel', 'Occupation', '▁Homo', '▁postule', '▁Omni', '▁Matériau', 'intégrale', '▁malhonnête', 'amphithéâtre', 'apocalyptique', '▁Accéder', '▁McGill', '▁Villefranche', '▁camouflage', '▁fidéliser', '▁impuretés', '▁méchanceté', '▁pamplemousse', '▁plausible', '▁puériculture', '▁érectile', '▁Éditeur', '▁Claudine', '▁saucisson', '▁déluge', '▁négoce', '▁vénitien', '▁potentialités', '▁têtu', '▁LYON', '▁TOTAL', '▁lassitude', '▁skype', '▁passagère', '▁happy', '▁contextuel', '▁Rafael', '▁bombé', '▁colocataire', '▁démographie', '▁fessier', '[17]', '▁perfusion', '▁suscita', '▁Gaming', '▁Souvenez', '▁paralysé', '▁Ahmad', '▁modestie', '▁magistrature', '▁Lucky', '▁Prenant', '▁vitraux', '▁austère', '▁racontait', '▁Voile', 'agged', '▁Tenue', '▁Reprise', '▁accompagn', '▁Vidal', '▁Manoir', '▁Expliqu', 'dernier', '▁Martien', 'attestation', '▁Innov', 'uniforme', '▁Flavi', 'séjour', '▁referma', '▁obstru', 'exode', '▁Wak', '▁conven', 'biologie', 'Encyclopédie', '▁Forcément', '▁Quatrième', '▁bucolique', '▁déplorable', '▁fidélisation', '▁gélatine', '▁multipliant', '▁redécouvert', '▁turbulence', '▁voudront', '▁convoyeur', '▁ghetto', '▁reggae', '▁dérapage', '▁servaient', '▁chimiste', '▁périscolaire', 'agrégat', '▁Michaël', '▁endémique', '▁bulbe', '▁HTTP', 'Brieuc', '▁Balzac', '▁materiel', '▁Sagesse', 'expulser', '▁fussent', '▁doive', '▁Détermine', '▁libéralisation', '▁(2013)', '▁atomes', '▁Occidentaux', '▁promettant', '▁encouragements', 'rythm', '▁karité', '▁friction', 'éleveur', '▁irrité', '▁+/-', 'Urgence', 'Antoinette', '▁jauni', 'ardiovasculaires', '▁recevable', '4,6', 'actualisation', 'asbl', '20%', 'fendre', '▁standardisé', 'graphic', '▁Libertin', 'élargit', '▁Goldman', 'propriété', 'Vidéo', 'honorer', 'handicap', 'pollution', 'Insee', '▁embelli', '▁Corte', 'ématérialisation', '▁Délégué', '▁NOUVEAU', '▁Partenariat', '▁Participer', '▁concrétisation', '▁disproportionné', '▁dépositaire', '▁déroutant', '▁véracité', '▁Laetitia', '▁Suédois', '▁dénonçant', '▁marécage', '▁Connaissez', '▁couscous', 'extermination', '▁invalide', '▁mésaventure', '▁orteils', '▁mémoriser', '▁Elliot', '▁pupille', 'imposait', '▁glaçons', '▁Camargue', '▁Ulrich', '▁Accepte', '▁Lévy', '▁inégale', '▁souviendra', '▁motivant', '▁Somalie', '▁téléfilm', '▁insulaire', 'Hypno', '▁Nikola', '▁Bowl', '▁joyaux', '▁Prépa', '▁hamac', '▁halal', '▁wow', '▁Peint', 'TABLE', 'aurore', '▁Albin', '▁Cinema', 'scribe', 'pprofondissement', '▁adossé', 'essayais', 'FORT', '610', '5,7', 'OVE', '▁lésion', 'pharma', 'auxiliaire', 'Haïti', 'inciter', '▁rassembl', '▁porche', 'Master', '▁archéologues', 'ambassadrice', 'immortalité', '▁Connaître', '▁Rimbaud', '▁allègrement', '▁bruxelles', '▁dialecte', '▁infaillible', '▁modifiable', '▁stérilisation', '▁séduira', 'oxydation', '▁CLIENT', '▁Saguenay', '▁amérindien', '▁biomasse', '▁bousculé', '▁fortiori', '▁difference', '▁incrusté', '▁ramadan', '▁stretch', '▁succinct', 'esplanade', '▁cohorte', '▁révolté', '▁Mathias', '▁contrario', '▁romarin', '▁Chêne', '▁Traducteur', '▁semoule', '▁impressionnable', '▁roquette', '▁Cherbourg', '▁souliers', '▁Protect', '▁diriez', 'Discute', '▁saillie', '▁Vitry', '▁concile', '▁sermon', '▁Joker', '▁pondre', '▁cyto', '▁Fondateur', 'Brûl', 'Edition', 'développement', '▁Délai', '▁Serveur', '▁drole', '4,8', 'Agora', '▁soiree', '▁caractéris', '▁canonique', '▁déménageur', 'ourlet', 'Hébreu', '▁Cyp', '▁Dorm', '▁retombé', 'apaiser', 'citoyen', 'Kahn', 'central', 'janvier', '▁ballot', '▁joyau', 'automobiliste', 'Ascension', '▁Conakry', '▁Council', '▁Périgueux', '▁anatomique', '▁autodidacte', '▁boussole', '▁diffamation', '▁dérèglement', '▁farfelu', '▁faïence', '▁palliatifs', '▁programmable', '▁pédiatrique', '▁commencèrent', '▁Playstation', '▁clapet', '▁soustraire', '▁Nexus', 'Ouganda', '▁doublage', '▁penderie', '▁FEMME', '▁Obtenir', '▁conjur', '▁houlette', '▁(2008)', '▁Tower', '▁colocation', 'érotisme', '▁societe', '▁prélever', '▁yacht', 'EAUX', '▁biographique', '▁simultané', '▁mettais', '▁restitue', 'slide', '2,9', 'kinésithérapeute', 'ellini', 'activiste', '9000', '▁ratifié', 'Orge', '▁crack', 'excusa', 'métro', 'ILLON', 'défense', 'Abidjan', 'Société', 'basket', 'ANGER', 'hésitation', '4,7', 'Eucharistie', 'Obligatoire', 'approximation', 'indisponibilité', 'insecticide', '▁blogosphère', '▁diététicien', '▁fiançailles', '▁plagiat', '▁prémunir', 'accréditation', '▁décidons', '▁illusoire', '▁rembourré', '▁Marathon', '▁Tweet', '▁aladom', '▁encombré', 'verbaux', '▁kilométrage', '▁maltraité', '▁typographie', '▁MOOC', '▁Kitchen', '▁typologie', '▁obèse', '▁ouvrés', '▁cofondateur', 'Agathe', '▁PETIT', 'orchidée', '▁Répét', '▁vaudrait', '▁(2015)', '▁Elément', '▁Sarko', 'ériger', '▁rebeu', 'fédéré', '▁haussa', '▁Douleur', '▁labeur', 'child', '▁Combiné', '▁confronte', '▁Refus', 'acharne', 'Attend', '▁fibro', 'construire', 'obsession', 'Aménagement', 'identifiant', 'pouvant', 'current', '▁Abdoulaye', '▁Corrèze', '▁Factory', '▁Spécification', '▁Vivastreet', '▁biodégradable', '▁cervicale', '▁concocter', '▁congénères', '▁détestait', '▁electricite', '▁filigrane', '▁montagnard', '▁rebaptisé', '▁renaître', '▁silicium', '▁widget', '▁zodiaque', '▁éloquent', '▁épouvantable', '▁Carthage', '▁Dieudonné', '▁angélique', '▁jackpot', '▁écrivit', 'homologation', '▁arrivèrent', '▁insoumise', '▁brigand', '▁juxtapos', '▁méfaits', '▁terminologie', '▁étoffé', '▁renchéri', 'allégeance', '▁consensuel', '▁Duncan', '▁dérobé', 'Epargne', '▁pistache', '▁Immeuble', '▁ADSL', '▁Scolaire', 'Atlanta', '▁Rights', '▁Colorado', '▁concède', '▁camionnette', '▁estimait', '▁blotti', '▁Warren', '▁avignon', '▁interviendra', 'exhib', '▁Tyler', '▁redemande', '▁Graham', '▁funeste', '▁Phare', 'ikiloc', '▁séparateur', '▁Faible', '▁Wiko', '▁gamelle', '▁charnu', '▁océanique', '▁franchisé', '▁triplé', 'Albanie', '▁Yoshi', 'EUIL', 'default', '▁délivr', '▁Bouill', 'ffray', '▁agrée', '6,7', '▁coulis', 'actualit', 'février', 'universitaire', '▁austral', '▁Moll', '▁Déposez', '▁Melbourne', '▁cicatrisation', '▁fantaisiste', '▁harmonique', '▁nettoyeur', '▁voplaît', '▁collagène', '▁interchangeable', '▁Joomla', '▁Kindle', '▁débardeur', '▁paroissiale', '▁émigré', '▁angoissant', '▁Concorde', 'Qaïda', '▁amicaux', '▁décrété', 'automatiser', '▁pédophile', '▁sociétaire', 'aéronef', '▁noirceur', '▁encodeur', '▁nuancé', '▁climatiseur', '▁végan', '▁(2010)', '▁maintiennent', '▁Écrire', '▁Tiroir', '▁(2014)', '▁enroulé', '5,00', '▁linux', '▁kaki', '▁Hadj', 'Foy', 'conjug', '10%', 'glass', 'individualisme', 'Arctique', 'woman', '▁matelassé', 'Hôtes', '▁Inclus', 'lutonien', '▁bercé', '▁Gustav', 'identifie', 'aught', '▁formalité', '▁Funk', '▁sponsorisé', 'Harmonie', 'élastique', 'Garenne', 'ubli', '▁clôt', '▁rince', '▁jumeau', 'apocalypse', 'implémentation', '▁Chamonix', '▁Courbevoie', '▁Joachim', '▁Manitoba', '▁Security', '▁disjoncteur', '▁doctorale', '▁fructueuse', '▁grammatical', '▁gémissement', '▁infectieuse', '▁mécénat', '▁offshore', '▁possédons', '▁redirigé', '▁thoracique', '▁trottinette', '▁Python', '▁madeleine', 'aristocrate', '▁Clichy', '▁2016-2017', '▁Fighter', '▁Buffy', '▁irritant', '▁affectant', '▁Anaïs', '▁Synthèse', '▁caritative', '▁every', '▁gourde', '▁réagissent', '▁cottage', '▁supervisé', '▁Brillant', '▁Channel', '▁cérébralité', '▁rouquin', '▁Déposer', '▁Séoul', '▁syndicalisme', 'gardiste', '▁Amoureux', '▁toulon', 'ROY', '▁totalitaire', '▁Animé', '5-6', '▁Croisière', 'HQ', 'smith', 'interférence', 'futur', '▁achete', '▁migrant', 'patrimoine', 'Attention', 'aboutir', 'civil', '▁build', '▁limon', 'acupuncture', 'astéroïde', '▁Coalition', '▁Development', '▁Joséphine', '▁Neptuni', '▁Protégez', '▁Rebecca', '▁bivouac', '▁conflictuel', '▁déductible', '▁détériore', '▁hypothécaire', '▁négociateur', '▁obsèques', '▁plafonnier', '▁rédemption', '▁stylistique', '▁through', '▁victorieuse', '▁volontariat', '▁Léopold', '▁Renseignez', '▁préceptes', '▁répertorie', '▁tolérer', '▁psychopathe', '▁Souverain', '▁indemne', '▁Klaus', '▁Rainbow', '▁camoufle', '▁[+]', '▁paresseux', '▁Siemens', '▁migrer', '▁âpre', '▁Isolation', '▁mécène', '▁Collomb', '▁showroom', '▁Tintin', '▁Serena', '▁blindage', '▁Papillon', 'collabo', '▁978-2', '▁crible', 'RAIN', 'Julien', 'tiendrait', '▁Pilat', '▁focalise', 'naissance', '▁Inspir', '▁dépli', 'Blanche', '▁modernisé', 'Donc', 'ACTU', '▁colonisé', 'Evêque', 'appréciait', '▁Airbnb', '▁Bernadette', '▁Frédérique', '▁Jupitérien', '▁Juridique', '▁Lorenzo', '▁Nietzsche', '▁Révélation', '▁Saturnien', '▁Suprême', '▁appétissant', '▁carapace', '▁globules', '▁négociable', '▁sophrologie', '▁témoigné', '▁Certification', '▁Escalier', '▁Mauvaise', '▁Reconnu', '▁verticaux', '▁Trudeau', '▁immuable', '▁sécurisant', '▁Taiwan', '▁fâché', '▁méandres', '▁Destination', '▁cryptage', '▁décevoir', '▁Aubry', '▁Kabila', '▁alsace', '▁sifflet', '▁variateur', '▁scénographie', '▁Dynamique', '▁connectique', '▁pharaon', '▁Janeiro', '▁macabre', '▁parvenait', '▁tchadien', '▁repensé', '▁gaufre', 'IGHT', 'automatique', '▁Évaluation', '▁calomni', 'ébène', '▁subsistance', 'ELLI', 'accoucher', 'normalement', '▁Ashley', '▁malmené', 'intendant', '▁Localisation', '▁Organiser', 'GRAPH', '▁Sceaux', '▁Paolo', '▁inerte', '▁chignon', '▁Rudy', '▁Rural', '▁Conrad', '9.5', '▁Educa', '▁cinema', '▁GEO', '▁lisière', 'ectomie', '▁Schul', '▁fronde', '▁Enseigne', 'oplastie', '▁aplati', 'édification', 'Ohio', 'gérance', '▁revêtir', '3344', 'aglia', '78-17', 'plante', '9,7', 'mauvais', 'règle', 'Oslo', 'Habitat', 'oooooooo', 'emprisonn', '▁exerç', ':::::::::::::', 'Outaouais', 'irréductible', 'étymologie', '▁Cisjordanie', '▁Diderot', '▁Mercurien', '▁apparaissant', '▁majesté', '▁pertinemment', '▁surplombant', '▁ésotérique', '▁empressé', '▁Croissance', '▁mesdames', '▁Uranien', '▁Médicis', '▁Erreur', '▁thermodynamique', 'Andorre', '▁considérez', '▁Canyon', '▁Houston', '▁fortifications', '▁agreable', '▁Giraud', '▁Vénusien', '▁sismique', 'éclatement', '▁cocasse', '▁(2009)', '▁Citron', '▁Norbert', '▁fécondité', '▁ciblage', '▁comtesse', '▁Medical', '▁abritant', '▁Pizza', 'archéologue', '▁Peintre', '▁ajouré', 'effleure', '▁socioculturel', 'venture', '▁moquerie', '▁Compact', '▁gracieuse', 'concours', 'Radio', '29112', '▁Fourniture', '▁Panasonic', '▁Private', '▁Vuitton', '▁craignait', '▁craignant', '▁dentifrice', '▁inimaginable', '▁pathogène', '▁prodigieuse', '▁rapatriement', '▁suprématie', 'échiquier', '▁burlesque', '▁couturière', '▁imputable', '▁dérision', '▁clermont', '▁dégusté', '▁Lenovo', '▁relativiser', '▁obéit', '▁Cocina', '▁Babylone', 'espresso', '▁tatoué', 'Evreux', '▁pancarte', '▁Israéliens', '▁Bavière', '▁viticulteur', '▁aidons', '▁vulgarisation', '▁activistes', '▁Scrap', '▁zèle', 'aumône', '▁Francesco', '▁Mauricie', 'acquitte', 'EVO', '▁Primaire', '▁molette', 'azole', '▁crasse', '▁Détect', '▁Trouve', '▁abondant', 'affole', '▁terni', 'ïste', 'Aviation', 'Exploitation', '▁EDIT', 'côté', 'fichier', 'compétent', 'visibilité', 'société', 'UNICEF', '▁Chevrolet', '▁Combinaison', '▁Compétition', '▁Financière', '▁Incorpore', '▁Personnalité', '▁gustative', '▁patriotisme', '▁perturbateur', '▁prévaut', '▁remaniement', '▁restrictive', '▁voudriez', 'artichaut', '▁McDonald', '▁Voyance', '▁digestive', '▁smiley', '▁Montessori', '▁fanfare', '▁mauricien', '▁Filip', '▁addictif', '▁martelé', '▁Conforama', 'exotisme', '▁Virtual', '▁inhumé', '▁attestant', '▁cervelle', 'impensable', '▁mémorisation', '▁Formulaire', 'Hermione', 'gnostique', '▁référant', 'Réfléchi', '▁cerisier', '▁Roméo', '▁perçage', '▁Violence', '▁Conscience', '▁Fresh', '▁envahissent', '▁Murray', 'anonym', '▁clinicien', '▁dicton', '▁Camera', 'liquid', '▁fâcheuse', '▁Sylvia', '▁lésé', 'psychothérapeute', 'aimaient', '▁Toilette', 'infirmerie', '▁scén', 'encaissement', '▁indécis', 'disponible', '▁côtoie', 'excursion', 'compositeur', '▁Médaille', 'Place', 'armistice', 'imprègne', '▁Nettoyer', '▁Taïwan', '▁Yaoundé', '▁chemisier', '▁clignote', '▁crustacés', '▁inépuisable', '▁redevenu', '▁vodka', 'Aubervilliers', 'Ubisoft', '▁Sweat', '▁gauchiste', '▁motricité', '▁rinçage', 'Andalousie', '▁Ampoule', 'assaisonnement', 'incubateur', '▁reconquête', '▁Sherlock', '▁retranche', '▁nitrate', 'Ghislain', '▁outrance', '▁Community', '▁apposé', '▁velux', '▁veillée', '▁redistribution', '▁Militaire', 'crânien', '▁étouffant', '▁compilé', '▁Nabil', '▁hocha', '8.000', 'cercle', '▁admirateur', 'licieuse', 'accio', 'REAL', '▁résult', '▁patrimonial', 'affaiblir', '▁conjugal', 'plusieurs', 'assorti', 'Harry', 'hospital', 'aggio', 'évangélisation', 'évaporation', '▁Bachelor', '▁Compiègne', '▁Juventus', '▁Kremlin', '▁Recommandation', '▁SNUipp', '▁Stuttgart', '▁Warrior', '▁Zimbabwe', '▁cocaïne', '▁conspiration', '▁embrassé', '▁mayonnaise', '▁onctueuse', '▁réclamant', '▁Brasserie', '▁déploré', '▁imbibé', '▁fainéant', '▁naquit', '▁déboires', '▁hypothétique', '▁Moniteur', '▁convoitise', '▁tornade', '▁Bambou', '▁Marionnette', '▁ovni', '▁Genèse', '▁Béarn', '▁Casual', '▁deçà', '▁Contexte', '▁candid', '▁brassage', '▁captif', '▁Biographie', '▁Clear', '▁Credit', '▁pulpeuse', 'obstruction', '▁Cabane', 'rapide', '▁cristalline', '▁Alerte', 'intellectuel', '▁transexuel', '▁substitue', '▁cornée', 'chauffage', 'cliquez', 'théâtre', 'philosoph', '▁Patriot', 'Azerbaïdjan', 'Infrastructure', '▁Brazzaville', '▁CENTRE', '▁Cérémonie', '▁Distributeur', '▁WhatsApp', '▁anthropologique', '▁calligraphie', '▁consciemment', '▁contagieuse', '▁illégitime', '▁inadmissible', '▁manufacturier', '▁paludisme', '▁prolifique', '▁Brussels', '▁balisage', '▁chanoine', '▁déséquilibré', '▁étincelant', 'UQAM', '▁consultative', '▁frêle', '▁Ninja', '▁morbide', '▁promeneur', '###', '▁repreneur', '▁Hybrid', '▁XML', '▁léopard', '▁Sabrina', '▁tuberculose', '▁fratrie', '▁glaçage', '▁Lieutenant', '▁Logistique', '▁Taupe', '▁vaudois', '▁Redoute', '▁comptais', '▁transnational', '▁déshydratation', '▁Guérin', '▁terminaison', '▁gratis', '▁Rubrique', '▁SMIC', 'imaginait', '▁tolère', '▁trauma', '▁millionnaire', '▁picture', '▁extreme', '▁Expression', '▁anticipe', '▁défonce', 'Chapeaux', '▁familiaris', '▁claqué', '▁minutie', 'violence', 'Public', 'pinterest', '6,8', '▁honore', 'Sulpice', 'hégémonie', '▁Beaujolais', '▁Geoffroy', '▁Longueuil', '▁Mickaël', '▁catamaran', '▁cockpit', '▁héritière', '▁ingénieux', '▁insouciant', '▁ménopause', '▁pitoyable', '▁sévérité', 'Démocrate', '▁Judith', '▁Riviera', '▁promeut', '▁savamment', '▁déléguer', '▁humilié', '▁épinards', '▁laborieuse', '▁gaspille', '▁instagram', 'éclosion', '▁diapositive', '▁Kristen', '▁organisait', '▁mettrons', '▁filtrant', '▁abrégé', '▁officialisé', '▁lambris', '▁Correction', '▁braquage', '▁Navigate', '▁paypal', '▁retransmission', '▁prieuré', '▁tyrannie', '▁papeterie', '▁Sultan', '▁biotechnologie', '▁Financier', '▁germano', '▁Antony', '▁radiophonique', '▁procréation', '▁Antonin', '▁Considéré', '▁moelleuse', '▁tourmenté', '▁servo', '▁aiguisé', '▁refermé', '▁louable', 'diterran', 'modal', '▁résist', '▁vaginale', 'Benz', 'toxique', 'riminal', 'adaptabilité', '▁glyco', '▁remue', '▁external', '▁Tournai', '▁pulpe', 'ustensile', '▁célibat', '▁antagoniste', 'oligarchie', '▁Bouteflika', '▁Commençons', '▁Guingamp', '▁Khalifa', '▁Modélisation', '▁bipolaire', '▁diocésain', '▁hashtag', '▁jurassien', '▁préambule', '▁utopique', '▁Gatineau', '▁glaciaire', '▁sédiments', '▁recontacter', '▁sournois', '▁technicité', '▁Balkans', '▁Abonnés', '▁opprimé', '▁Simpson', '▁Namibie', '▁pêché', '▁satirique', '▁Friedrich', '▁Virgil', '▁punaises', '▁physiologie', '▁sectorielle', '▁workshop', '▁couturier', '▁piètre', '▁Galilée', 'escadron', '▁Voisin', '▁Bologne', '▁Crimée', '▁résout', '▁éject', 'annuité', '▁fronça', 'immerger', 'oussa', '▁islandais', '▁enzymes', '▁virilité', '▁Transmission', '▁Zor', 'phospho', 'locataire', 'habilit', '▁affiné', '▁tétra', '▁repér', '▁élancé', 'follow', '▁critiqu', 'Autonomie', 'échantillonnage', 'dosser', '▁Blond', '▁compresse', '▁paupière', 'valuation', 'Octobre', 'honoraires', 'religieux', 'population', 'voûte', '▁végét', 'Helsinki', 'Yougoslavie', '▁ASICS', '▁Emplacement', '▁Intéressant', '▁Spielberg', '▁aromatisé', '▁athlétique', '▁burundais', '▁communiquant', '▁constitutive', '▁détestable', '▁dévastatrice', '▁fabulous', '▁matérialiste', '▁moustiquaire', '▁posteriori', '▁pénitence', '▁pérenniser', '▁rejoindra', '▁capuchon', '▁requièrent', 'Espérance', '▁badigeon', '▁endiablé', '▁malicieux', '▁satiété', '▁répétitive', '▁Sasuke', '▁Twilight', '▁surgissent', '▁rocaille', '▁factice', 'opacité', 'accentuation', '▁décrochage', 'aplomb', '▁balancé', 'Contact', '▁jihadistes', 'authentifi', '▁distillé', '▁Willem', 'mondial', '▁immonde', '▁Combi', '3.7', 'hotmail', '▁huilé', '▁renouvel', '6,6', 'enregistre', '▁préfigur', '▁autochtone', '▁manifestant', 'satisfait', 'Instrument', '▁6:00', '▁félicita', '▁Baudelaire', '▁GmbH', '▁Maintenance', '▁Merveilleux', '▁catholicisme', '▁crampons', '▁graduellement', '▁inutilisable', '▁paquebot', '▁provocateur', '▁télescopique', '▁électoraux', '▁Fréjus', '▁crampes', '▁médaillé', '▁scintillant', '▁Complexe', '▁théorème', '▁2014-2015', '▁fermoir', '▁Programmation', '▁métisse', '▁Islamique', '▁exonéré', '▁Marilyn', '▁séparatiste', '▁robinetterie', '▁Consulting', '▁Motorola', 'moignage', '▁rampant', '▁corniche', 'Sylvestre', '▁Montebourg', '▁régissent', '▁génome', '▁asservi', '▁ergo', '▁Naomi', '▁transpire', '▁psyché', '▁acheminé', '▁Dentelle', '▁calmé', 'thématique', '▁pondéré', 'ffectivement', '▁ferraille', 'Consult', 'textuel', 'RAIT', '▁présume', 'égaliser', 'atteint', 'responsabilité', '▁spécification', '▁minutieuse', 'Couleur', 'Catherine', '▁Compagnon', '▁Identification', '▁ciboulette', '▁concrétisé', '▁exponentielle', '▁médiocrité', '▁prédisposition', '▁ségrégation', 'Antarctique', '▁CHSCT', '▁Procès', '▁Représentation', '▁prémices', '▁Définir', '▁Expériment', '▁Teddy', '▁dénudé', '▁pupitre', 'époux', '▁2015-2016', '▁effectuons', '▁dépréci', '▁haletant', '▁hypnotique', '▁déclencha', '▁Traiteur', '▁susvisé', '▁bibliographique', 'escouade', '▁Polyester', '▁Cindy', '▁Viktor', '▁altérer', '▁MARTIN', '▁Diallo', '▁buvette', '▁complétant', '▁clerc', '▁devenaient', '▁sceller', '▁squatte', '▁volatilité', '▁enveloppant', '▁dopage', '▁panache', 'jutsu', 'rêve', 'amazigh', '▁vaudra', '▁immobil', '▁Goul', 'ANDR', '▁enseign', 'eeeeee', '▁Cousin', 'Romain', 'exécute', 'MEDIA', 'positive', 'accompli', '▁dioxy', '▁croît', 'absurde', 'expérimenter', 'batterie', 'hallucination', '▁Holiday', '▁Honnêtement', '▁Macédoine', '▁Néerlandais', '▁Seychelles', '▁anecdotique', '▁constipation', '▁déforestation', '▁Cambrai', '▁injustifié', '▁constructible', '▁marxisme', '▁saxophone', '▁émincé', '▁Revenons', '▁frontalière', '▁gastrique', '▁Résistant', '▁Installez', '▁Clavier', '▁Beurette', '▁vigile', '▁onéreuse', 'allègement', '▁submerge', '▁Esthétique', '▁magnéto', '▁sorbet', '▁iconique', '▁saphir', '▁homard', 'malgré', '▁Observation', '▁nectar', '[22]', '▁maniabilité', '▁secousse', '▁safari', 'Psaume', '▁textuelle', '▁procuration', 'efforça', '▁annales', '▁Votez', 'publié', '▁contractant', '▁rôde', '▁croate', 'runner', 'émotionnellement', 'éleva', '▁plissé', '▁transversal', 'impot', '▁fugue', 'DEV', '▁tsar', '▁gonfla', 'interlocuteur', '▁explicative', '▁peignoir', 'Harmattan', 'hippodrome', 'homéopathie', '▁Erasmus', '▁Guatemala', '▁efforçons', '▁escarpins', '▁inculpé', '▁pacifiste', '▁pommade', '▁scepticisme', '▁symptomatique', '▁éjacule', '▁Avengers', '▁Exceptionnel', '▁Indicateur', '▁céleri', '▁mythologique', '▁stylisé', '▁vicomte', '▁posthume', '▁Abonnez', '▁Vercors', '▁Airways', '▁besogne', '▁osseux', '▁Adventure', 'vacances', '▁prouvant', 'Hudson', '▁Traoré', '▁microscopique', 'désolé', '▁paumé', '▁CENI', '▁Crochet', '▁dossard', '▁commémorative', '▁cordial', '▁swap', '▁Origin', '▁enragé', 'HOMME', '▁Claus', '▁embarqu', 'expéditeur', 'intrigu', '▁remplaç', '▁--------', '▁retransmis', '▁Philadelphie', '▁atténué', '▁charpentier', '▁invincible', '▁remboursable', '▁Disponibilité', '▁Girondins', '▁Mahomet', '▁Manifestation', '▁Vainqueur', '▁Zidane', '▁chuchote', '▁commutateur', '▁comprenaient', '▁lymphatique', '▁nervosité', '▁sclérose', '▁victorieux', '▁Muséum', '▁glauque', '▁raffermi', '▁Impérial', 'aliénation', '▁Décontracté', '▁juteux', '▁péruvien', '▁soluble', 'octroyer', '▁mémorial', '▁décadence', '▁sordide', '▁Victime', 'effrayer', '▁hippie', '▁desservant', '▁Socrate', 'Commerce', 'Ongle', '▁Gorges', '▁Circulaire', '▁gyro', 'Oscar', '▁broyer', '▁Jasmin', 'africa', '------', '▁arracha', 'rafraîchissement', '▁accost', '▁Aziz', '▁végétalien', '▁Chauve', 'agrafe', '▁nympho', '▁dissimule', 'agrandit', 'sormais', 'Particulièrement', 'amplification', '▁Appuyez', '▁Bangladesh', '▁Hanouna', '▁Siècle', '▁breuvage', '▁cylindrée', '▁dissuader', '▁décidèrent', '▁escarpé', '▁grévistes', '▁imperceptible', '▁incontesté', '▁indemnisé', '▁pakistanais', '▁pizzeria', '▁prédicateur', '▁revoilà', '▁schizophrénie', '▁stimulé', '▁symbiose', '▁évocateur', '▁Retirer', '▁anxieux', '▁Enregistrez', '▁agaçant', '▁obtint', '▁Pocket', '▁Federer', '▁amputé', 'Inspecteur', '▁odieux', '▁analysant', 'engouffre', '▁mendiant', 'admissibilité', '▁percuté', '▁fustige', '▁lifting', 'schaft', '▁faibli', '▁avoisine', '▁Fellation', '▁teaser', '▁Offrir', 'ISSEMENT', '[23]', '▁Traditionnelle', '▁Annick', '▁(2006)', 'Thérèse', 'Direction', 'Monsieur', '▁mouillage', 'Fonds', '▁déplaire', 'engendre', 'châtel', '▁consécutif', 'pluie', 'éjection', '▁nymphe', '▁immatriculé', '▁dégaine', '▁démarr', '▁Assembl', 'terdisciplinaire', 'sophie', '▁crypte', '▁Imagine', '9,6', '▁replonge', '▁Charlemagne', '▁Domicile', '▁Démocratique', '▁Métropolitain', '▁Tabouret', '▁caricatural', '▁carnivore', '▁diligence', '▁dramaturge', '▁ennuyeuse', '▁farniente', '▁hamburger', '▁homonyme', '▁hyaluronique', '▁hystérique', '▁jumelage', '▁maroquinerie', '▁printanière', '▁psychédélique', '▁réciprocité', '▁sneakers', '▁stupéfait', '▁vivastreet', '▁déloyale', '▁encastrable', '▁retiennent', '▁Sanofi', '▁bowling', '▁Bénéficia', '▁lucarne', 'assignation', 'Autrichien', 'embargo', 'Archéologie', '▁Mehdi', '▁Outlook', '▁Luffy', '▁Campbell', 'Insertion', '/09/2018', '▁CLUB', '▁blush', '▁châle', '▁paniqué', '▁brossage', '▁géographe', '▁consumé', '▁Émilie', '[18]', '▁féerique', 'Hollywood', 'Présentation', 'cellulaire', '▁(2016)', 'business', 'évènementiel', '▁ramass', '▁Façon', 'conjugale', 'Cadeau', '▁irréel', '▁décrié', 'securite', 'emboîte', 'abaissement', 'intercommunalité', 'hawk', 'bâti', '▁Isabel', 'ménagère', 'ISSON', 'homophobie', 'usufruit', '▁Kardashian', '▁Perspective', '▁déchaîné', '▁essuyer', '▁hadith', '▁ignoble', '▁psychanalytique', '▁retranscrire', '▁retraçant', '▁vandalisme', '▁viscosité', '▁véridique', '▁angoissé', '▁causalité', '▁Amenagement', '▁Spencer', '▁Zombie', '▁cherchaient', '▁chomage', 'orthophoniste', '▁courbure', '▁Italy', '▁Deluxe', '▁ramolli', 'entreposage', '▁Paramètres', '▁Effectuer', '▁patchwork', '▁Ayrault', '▁FORUM', '▁Fabius', 'Imprimerie', '▁Fatima', '▁Welcome', '▁franchissement', '▁Toscane', '▁battle', '▁coagul', '▁(2007)', '▁rongé', 'authentique', 'Architecture', 'Document', 'Team', '▁extracteur', 'numéro', '500€', 'exagère', 'Flirt', 'Duché', '▁phono', '4,9', 'Roulement', '▁appauvri', 'représentativité', '▁Attractive', '▁Congrégation', '▁Cégep', '▁Foucault', '▁Médicament', '▁Quiconque', '▁Tatouage', '▁Tutoriel', '▁capricieuse', '▁corridor', '▁fassiez', '▁fœtus', '▁incendié', '▁législature', '▁myrtille', '▁synchroniser', '▁ténacité', '▁élévateur', '▁Bordelais', '▁Céramique', '▁Mozilla', '▁frégate', '▁pourparlers', '▁rédactrice', '▁Orchestra', 'structural', '▁Serrure', '▁ébranlé', '▁Réussir', '▁propulser', 'intensification', '▁insulté', '▁épaulé', '▁Navigation', 'MISSION', '▁Noisy', '▁Javascript', '▁Screen', '▁narines', '▁devinrent', '▁doublon', '▁Polytechnique', '▁maçonnique', '▁Crazy', '▁BDSM', '▁lexical', '▁pouls', 'flirt', 'peinture', 'plutôt', '▁Occasionnel', '▁festin', '▁régn', 'envahisseur', 'élégant', '▁spectro', 'considéré', '▁jouxt', '▁immobilisé', '▁assoupli', 'escrime', 'facial', 'récepteur', '▁ideal', '▁sperm', 'studio', 'cardiovasculaire', '▁Certain', 'Himalaya', 'émigration', '▁Anonyme', '▁Scandinave', '▁Signification', '▁dermatologue', '▁gigogne', '▁mademoiselle', '▁provinciaux', '▁rhubarbe', '▁smoothie', '▁vigoureux', '▁Jaguar', '▁assoiffé', '▁sarrasin', '▁variabilité', '▁Libellé', '▁cagnotte', '▁débrancher', '▁Parkinson', '▁slalom', '▁Ticket', '▁scorpion', '▁fatidique', '▁périlleux', '▁gradins', '▁viennoiseries', '▁Waterloo', '▁morphologique', '▁bourgmestre', '▁Sauvegarde', '▁éclaircissement', '▁floraux', '▁trépied', 'ability', '▁cédant', '▁OVNI', '▁Friday', '[19]', '▁supposition', '▁mamelon', '▁gaillard', '▁évasé', 'maçonnerie', 'Premier', \"0'000\", '▁guérisseur', '▁multinationale', 'émulation', '▁renverse', 'Heure', 'exclama', 'merveilleusement', 'impatiente', '▁débarqu', 'Barthélemy', 'abréviation', 'acronyme', 'aristocratie', 'incarcération', 'linguisme', '▁Accédez', '▁Beautiful', '▁CENTUR', '▁Calgary', '▁Comptabilité', '▁Experience', '▁Gaspard', '▁Intitulé', '▁Profondeur', '▁Tolkien', '▁Ultimate', '▁architecturaux', '▁crémeux', '▁détérioré', '▁flambée', '▁incohérent', '▁joaillerie', '▁persévérer', '▁philippin', '▁polystyrène', '▁progéniture', '▁spaghetti', '▁stigmatisation', '▁sérigraphie', '▁volupté', '▁Claudia', '▁Symbole', '▁crapaud', '▁Neptune', '▁Développé', '▁taliban', '▁terrorisé', 'orfèvre', '▁Attendez', '▁Ventilateur', '▁abrupte', '▁medicament', 'Adolphe', '▁Permanent', '▁détrôn', '▁Négoci', '▁maitrisé', '▁chatoyant', '▁déchetterie', '▁lumiere', 'hopital', '▁Hilton', '▁estampillé', '▁ventouse', '▁Hardcore', '▁sciemment', '▁software', '▁Accessible', '▁Psychologue', '[20]', '▁abdos', '▁Entouré', '▁audible', 'indispensable', 'Recherche', '▁Sibérie', '▁jongler', 'irrémédiablement', '▁fossile', 'enflammer', '▁renoue', 'speed', '▁réfugie', 'militaire', 'œuvr', '7,7', 'affranchiss', 'asphalte', '▁Aperçu', '▁Augmentation', '▁Morlaix', '▁Thompson', '▁astucieux', '▁chromosome', '▁framework', '▁incriminé', '▁relooking', '▁transplantation', '▁ponçage', '▁Gagnez', '▁diligent', '▁Bastide', '▁redoubler', '▁quotient', '▁Lodge', '▁Mesnil', '▁antillais', '▁tétons', '▁événementielle', '▁Multimédia', '▁cafard', '▁Dieppe', '▁Irlandais', '▁Flower', '▁enchantement', '▁Ankara', '▁DROIT', '▁tronqué', 'expatrié', 'IoT', 'Analyse', 'Montréal', '▁retentissant', '▁Frederic', '▁moyeu', '▁Étrange', 'ctueux', 'réservant', 'écrasa', '▁atteigne', 'REUTERS', 'embûches', '▁Administratif', '<mask>', 'tokenized'],[0, 1]])"
            ]
          },
          "metadata": {
            "tags": []
          },
          "execution_count": 171
        }
      ]
    },
    {
      "cell_type": "code",
      "metadata": {
        "colab": {
          "base_uri": "https://localhost:8080/"
        },
        "id": "BKiAhv4KavyV",
        "outputId": "fee45911-a828-4e17-9e86-deb868261307"
      },
      "source": [
        "len(dls_clas.vocab)"
      ],
      "execution_count": null,
      "outputs": [
        {
          "output_type": "execute_result",
          "data": {
            "text/plain": [
              "2"
            ]
          },
          "metadata": {
            "tags": []
          },
          "execution_count": 142
        }
      ]
    },
    {
      "cell_type": "markdown",
      "metadata": {
        "id": "btXkzlpS6vFm"
      },
      "source": [
        "## Text Learner"
      ]
    },
    {
      "cell_type": "code",
      "metadata": {
        "id": "h8BxVf2aX_KC"
      },
      "source": [
        "# del learn"
      ],
      "execution_count": null,
      "outputs": []
    },
    {
      "cell_type": "code",
      "metadata": {
        "id": "_QBaKmV3TxJJ"
      },
      "source": [
        "from transformers import CamembertModel, CamembertConfig, CamembertForSequenceClassification"
      ],
      "execution_count": 72,
      "outputs": []
    },
    {
      "cell_type": "code",
      "metadata": {
        "id": "gT4_42GYW_4d"
      },
      "source": [
        "configuration = CamembertConfig()"
      ],
      "execution_count": 73,
      "outputs": []
    },
    {
      "cell_type": "code",
      "metadata": {
        "colab": {
          "base_uri": "https://localhost:8080/"
        },
        "id": "5XSJg0Ip42as",
        "outputId": "5f1c1af4-274e-4a43-ead3-e8ce87868b3f"
      },
      "source": [
        "model = CamembertForSequenceClassification.from_pretrained(\"camembert-base\")\n",
        "# #model = BertForSequenceClassification.from_pretrained('bert-base-uncased', return_dict=True)"
      ],
      "execution_count": 74,
      "outputs": [
        {
          "output_type": "stream",
          "text": [
            "Some weights of the model checkpoint at camembert-base were not used when initializing CamembertForSequenceClassification: ['lm_head.decoder.weight', 'roberta.pooler.dense.weight', 'roberta.pooler.dense.bias', 'lm_head.layer_norm.bias', 'lm_head.dense.weight', 'lm_head.layer_norm.weight', 'lm_head.bias', 'lm_head.dense.bias']\n",
            "- This IS expected if you are initializing CamembertForSequenceClassification from the checkpoint of a model trained on another task or with another architecture (e.g. initializing a BertForSequenceClassification model from a BertForPreTraining model).\n",
            "- This IS NOT expected if you are initializing CamembertForSequenceClassification from the checkpoint of a model that you expect to be exactly identical (initializing a BertForSequenceClassification model from a BertForSequenceClassification model).\n",
            "Some weights of CamembertForSequenceClassification were not initialized from the model checkpoint at camembert-base and are newly initialized: ['classifier.out_proj.weight', 'classifier.dense.bias', 'classifier.dense.weight', 'classifier.out_proj.bias']\n",
            "You should probably TRAIN this model on a down-stream task to be able to use it for predictions and inference.\n"
          ],
          "name": "stderr"
        }
      ]
    },
    {
      "cell_type": "code",
      "metadata": {
        "id": "14KItF3rUsmn"
      },
      "source": [
        "# model = CamembertForSequenceClassification.from_pretrained(\"camembert-base\", return_dict=True)\n",
        "# #model = BertForSequenceClassification.from_pretrained('bert-base-uncased', return_dict=True)"
      ],
      "execution_count": null,
      "outputs": []
    },
    {
      "cell_type": "code",
      "metadata": {
        "id": "7y0ZKevaXHiF"
      },
      "source": [
        "# # model = CamembertModel(configuration)\n",
        "# model = CamembertForSequenceClassification(configuration)"
      ],
      "execution_count": null,
      "outputs": []
    },
    {
      "cell_type": "code",
      "metadata": {
        "id": "gM1ncciaXnZB"
      },
      "source": [
        "configuration = model.config"
      ],
      "execution_count": 75,
      "outputs": []
    },
    {
      "cell_type": "code",
      "metadata": {
        "colab": {
          "base_uri": "https://localhost:8080/"
        },
        "id": "B2dApm37YDlb",
        "outputId": "d705bad3-0e07-4a0e-ba7d-62d92ddcf1f8"
      },
      "source": [
        "configuration"
      ],
      "execution_count": 76,
      "outputs": [
        {
          "output_type": "execute_result",
          "data": {
            "text/plain": [
              "CamembertConfig {\n",
              "  \"_name_or_path\": \"camembert-base\",\n",
              "  \"architectures\": [\n",
              "    \"CamembertForMaskedLM\"\n",
              "  ],\n",
              "  \"attention_probs_dropout_prob\": 0.1,\n",
              "  \"bos_token_id\": 5,\n",
              "  \"eos_token_id\": 6,\n",
              "  \"gradient_checkpointing\": false,\n",
              "  \"hidden_act\": \"gelu\",\n",
              "  \"hidden_dropout_prob\": 0.1,\n",
              "  \"hidden_size\": 768,\n",
              "  \"initializer_range\": 0.02,\n",
              "  \"intermediate_size\": 3072,\n",
              "  \"layer_norm_eps\": 1e-05,\n",
              "  \"max_position_embeddings\": 514,\n",
              "  \"model_type\": \"camembert\",\n",
              "  \"num_attention_heads\": 12,\n",
              "  \"num_hidden_layers\": 12,\n",
              "  \"output_past\": true,\n",
              "  \"pad_token_id\": 1,\n",
              "  \"position_embedding_type\": \"absolute\",\n",
              "  \"transformers_version\": \"4.6.1\",\n",
              "  \"type_vocab_size\": 1,\n",
              "  \"use_cache\": true,\n",
              "  \"vocab_size\": 32005\n",
              "}"
            ]
          },
          "metadata": {
            "tags": []
          },
          "execution_count": 76
        }
      ]
    },
    {
      "cell_type": "code",
      "metadata": {
        "id": "9yxA1CsEz8tu"
      },
      "source": [
        "configuration.__dict__['architectures'] = 'CamembertForSequenceClassification'"
      ],
      "execution_count": 77,
      "outputs": []
    },
    {
      "cell_type": "code",
      "metadata": {
        "id": "wEPP95Cs1PhU"
      },
      "source": [
        "configuration.__dict__['fp16_opt_level'] = \"O2\""
      ],
      "execution_count": 78,
      "outputs": []
    },
    {
      "cell_type": "code",
      "metadata": {
        "colab": {
          "base_uri": "https://localhost:8080/"
        },
        "id": "mAANS1tY1jb9",
        "outputId": "7fdd4dc2-ef66-4f9f-c2d3-6641f944816d"
      },
      "source": [
        "configuration"
      ],
      "execution_count": 79,
      "outputs": [
        {
          "output_type": "execute_result",
          "data": {
            "text/plain": [
              "CamembertConfig {\n",
              "  \"_name_or_path\": \"camembert-base\",\n",
              "  \"architectures\": \"CamembertForSequenceClassification\",\n",
              "  \"attention_probs_dropout_prob\": 0.1,\n",
              "  \"bos_token_id\": 5,\n",
              "  \"eos_token_id\": 6,\n",
              "  \"fp16_opt_level\": \"O2\",\n",
              "  \"gradient_checkpointing\": false,\n",
              "  \"hidden_act\": \"gelu\",\n",
              "  \"hidden_dropout_prob\": 0.1,\n",
              "  \"hidden_size\": 768,\n",
              "  \"initializer_range\": 0.02,\n",
              "  \"intermediate_size\": 3072,\n",
              "  \"layer_norm_eps\": 1e-05,\n",
              "  \"max_position_embeddings\": 514,\n",
              "  \"model_type\": \"camembert\",\n",
              "  \"num_attention_heads\": 12,\n",
              "  \"num_hidden_layers\": 12,\n",
              "  \"output_past\": true,\n",
              "  \"pad_token_id\": 1,\n",
              "  \"position_embedding_type\": \"absolute\",\n",
              "  \"transformers_version\": \"4.6.1\",\n",
              "  \"type_vocab_size\": 1,\n",
              "  \"use_cache\": true,\n",
              "  \"vocab_size\": 32005\n",
              "}"
            ]
          },
          "metadata": {
            "tags": []
          },
          "execution_count": 79
        }
      ]
    },
    {
      "cell_type": "code",
      "metadata": {
        "colab": {
          "base_uri": "https://localhost:8080/"
        },
        "id": "edSqKXHYeKn2",
        "outputId": "a1a7345e-e779-4226-9a99-f2e164494a13"
      },
      "source": [
        "model"
      ],
      "execution_count": 97,
      "outputs": [
        {
          "output_type": "execute_result",
          "data": {
            "text/plain": [
              "CamembertForSequenceClassification(\n",
              "  (roberta): RobertaModel(\n",
              "    (embeddings): RobertaEmbeddings(\n",
              "      (word_embeddings): Embedding(32005, 768, padding_idx=1)\n",
              "      (position_embeddings): Embedding(514, 768, padding_idx=1)\n",
              "      (token_type_embeddings): Embedding(1, 768)\n",
              "      (LayerNorm): LayerNorm((768,), eps=1e-05, elementwise_affine=True)\n",
              "      (dropout): Dropout(p=0.1, inplace=False)\n",
              "    )\n",
              "    (encoder): RobertaEncoder(\n",
              "      (layer): ModuleList(\n",
              "        (0): RobertaLayer(\n",
              "          (attention): RobertaAttention(\n",
              "            (self): RobertaSelfAttention(\n",
              "              (query): Linear(in_features=768, out_features=768, bias=True)\n",
              "              (key): Linear(in_features=768, out_features=768, bias=True)\n",
              "              (value): Linear(in_features=768, out_features=768, bias=True)\n",
              "              (dropout): Dropout(p=0.1, inplace=False)\n",
              "            )\n",
              "            (output): RobertaSelfOutput(\n",
              "              (dense): Linear(in_features=768, out_features=768, bias=True)\n",
              "              (LayerNorm): LayerNorm((768,), eps=1e-05, elementwise_affine=True)\n",
              "              (dropout): Dropout(p=0.1, inplace=False)\n",
              "            )\n",
              "          )\n",
              "          (intermediate): RobertaIntermediate(\n",
              "            (dense): Linear(in_features=768, out_features=3072, bias=True)\n",
              "          )\n",
              "          (output): RobertaOutput(\n",
              "            (dense): Linear(in_features=3072, out_features=768, bias=True)\n",
              "            (LayerNorm): LayerNorm((768,), eps=1e-05, elementwise_affine=True)\n",
              "            (dropout): Dropout(p=0.1, inplace=False)\n",
              "          )\n",
              "        )\n",
              "        (1): RobertaLayer(\n",
              "          (attention): RobertaAttention(\n",
              "            (self): RobertaSelfAttention(\n",
              "              (query): Linear(in_features=768, out_features=768, bias=True)\n",
              "              (key): Linear(in_features=768, out_features=768, bias=True)\n",
              "              (value): Linear(in_features=768, out_features=768, bias=True)\n",
              "              (dropout): Dropout(p=0.1, inplace=False)\n",
              "            )\n",
              "            (output): RobertaSelfOutput(\n",
              "              (dense): Linear(in_features=768, out_features=768, bias=True)\n",
              "              (LayerNorm): LayerNorm((768,), eps=1e-05, elementwise_affine=True)\n",
              "              (dropout): Dropout(p=0.1, inplace=False)\n",
              "            )\n",
              "          )\n",
              "          (intermediate): RobertaIntermediate(\n",
              "            (dense): Linear(in_features=768, out_features=3072, bias=True)\n",
              "          )\n",
              "          (output): RobertaOutput(\n",
              "            (dense): Linear(in_features=3072, out_features=768, bias=True)\n",
              "            (LayerNorm): LayerNorm((768,), eps=1e-05, elementwise_affine=True)\n",
              "            (dropout): Dropout(p=0.1, inplace=False)\n",
              "          )\n",
              "        )\n",
              "        (2): RobertaLayer(\n",
              "          (attention): RobertaAttention(\n",
              "            (self): RobertaSelfAttention(\n",
              "              (query): Linear(in_features=768, out_features=768, bias=True)\n",
              "              (key): Linear(in_features=768, out_features=768, bias=True)\n",
              "              (value): Linear(in_features=768, out_features=768, bias=True)\n",
              "              (dropout): Dropout(p=0.1, inplace=False)\n",
              "            )\n",
              "            (output): RobertaSelfOutput(\n",
              "              (dense): Linear(in_features=768, out_features=768, bias=True)\n",
              "              (LayerNorm): LayerNorm((768,), eps=1e-05, elementwise_affine=True)\n",
              "              (dropout): Dropout(p=0.1, inplace=False)\n",
              "            )\n",
              "          )\n",
              "          (intermediate): RobertaIntermediate(\n",
              "            (dense): Linear(in_features=768, out_features=3072, bias=True)\n",
              "          )\n",
              "          (output): RobertaOutput(\n",
              "            (dense): Linear(in_features=3072, out_features=768, bias=True)\n",
              "            (LayerNorm): LayerNorm((768,), eps=1e-05, elementwise_affine=True)\n",
              "            (dropout): Dropout(p=0.1, inplace=False)\n",
              "          )\n",
              "        )\n",
              "        (3): RobertaLayer(\n",
              "          (attention): RobertaAttention(\n",
              "            (self): RobertaSelfAttention(\n",
              "              (query): Linear(in_features=768, out_features=768, bias=True)\n",
              "              (key): Linear(in_features=768, out_features=768, bias=True)\n",
              "              (value): Linear(in_features=768, out_features=768, bias=True)\n",
              "              (dropout): Dropout(p=0.1, inplace=False)\n",
              "            )\n",
              "            (output): RobertaSelfOutput(\n",
              "              (dense): Linear(in_features=768, out_features=768, bias=True)\n",
              "              (LayerNorm): LayerNorm((768,), eps=1e-05, elementwise_affine=True)\n",
              "              (dropout): Dropout(p=0.1, inplace=False)\n",
              "            )\n",
              "          )\n",
              "          (intermediate): RobertaIntermediate(\n",
              "            (dense): Linear(in_features=768, out_features=3072, bias=True)\n",
              "          )\n",
              "          (output): RobertaOutput(\n",
              "            (dense): Linear(in_features=3072, out_features=768, bias=True)\n",
              "            (LayerNorm): LayerNorm((768,), eps=1e-05, elementwise_affine=True)\n",
              "            (dropout): Dropout(p=0.1, inplace=False)\n",
              "          )\n",
              "        )\n",
              "        (4): RobertaLayer(\n",
              "          (attention): RobertaAttention(\n",
              "            (self): RobertaSelfAttention(\n",
              "              (query): Linear(in_features=768, out_features=768, bias=True)\n",
              "              (key): Linear(in_features=768, out_features=768, bias=True)\n",
              "              (value): Linear(in_features=768, out_features=768, bias=True)\n",
              "              (dropout): Dropout(p=0.1, inplace=False)\n",
              "            )\n",
              "            (output): RobertaSelfOutput(\n",
              "              (dense): Linear(in_features=768, out_features=768, bias=True)\n",
              "              (LayerNorm): LayerNorm((768,), eps=1e-05, elementwise_affine=True)\n",
              "              (dropout): Dropout(p=0.1, inplace=False)\n",
              "            )\n",
              "          )\n",
              "          (intermediate): RobertaIntermediate(\n",
              "            (dense): Linear(in_features=768, out_features=3072, bias=True)\n",
              "          )\n",
              "          (output): RobertaOutput(\n",
              "            (dense): Linear(in_features=3072, out_features=768, bias=True)\n",
              "            (LayerNorm): LayerNorm((768,), eps=1e-05, elementwise_affine=True)\n",
              "            (dropout): Dropout(p=0.1, inplace=False)\n",
              "          )\n",
              "        )\n",
              "        (5): RobertaLayer(\n",
              "          (attention): RobertaAttention(\n",
              "            (self): RobertaSelfAttention(\n",
              "              (query): Linear(in_features=768, out_features=768, bias=True)\n",
              "              (key): Linear(in_features=768, out_features=768, bias=True)\n",
              "              (value): Linear(in_features=768, out_features=768, bias=True)\n",
              "              (dropout): Dropout(p=0.1, inplace=False)\n",
              "            )\n",
              "            (output): RobertaSelfOutput(\n",
              "              (dense): Linear(in_features=768, out_features=768, bias=True)\n",
              "              (LayerNorm): LayerNorm((768,), eps=1e-05, elementwise_affine=True)\n",
              "              (dropout): Dropout(p=0.1, inplace=False)\n",
              "            )\n",
              "          )\n",
              "          (intermediate): RobertaIntermediate(\n",
              "            (dense): Linear(in_features=768, out_features=3072, bias=True)\n",
              "          )\n",
              "          (output): RobertaOutput(\n",
              "            (dense): Linear(in_features=3072, out_features=768, bias=True)\n",
              "            (LayerNorm): LayerNorm((768,), eps=1e-05, elementwise_affine=True)\n",
              "            (dropout): Dropout(p=0.1, inplace=False)\n",
              "          )\n",
              "        )\n",
              "        (6): RobertaLayer(\n",
              "          (attention): RobertaAttention(\n",
              "            (self): RobertaSelfAttention(\n",
              "              (query): Linear(in_features=768, out_features=768, bias=True)\n",
              "              (key): Linear(in_features=768, out_features=768, bias=True)\n",
              "              (value): Linear(in_features=768, out_features=768, bias=True)\n",
              "              (dropout): Dropout(p=0.1, inplace=False)\n",
              "            )\n",
              "            (output): RobertaSelfOutput(\n",
              "              (dense): Linear(in_features=768, out_features=768, bias=True)\n",
              "              (LayerNorm): LayerNorm((768,), eps=1e-05, elementwise_affine=True)\n",
              "              (dropout): Dropout(p=0.1, inplace=False)\n",
              "            )\n",
              "          )\n",
              "          (intermediate): RobertaIntermediate(\n",
              "            (dense): Linear(in_features=768, out_features=3072, bias=True)\n",
              "          )\n",
              "          (output): RobertaOutput(\n",
              "            (dense): Linear(in_features=3072, out_features=768, bias=True)\n",
              "            (LayerNorm): LayerNorm((768,), eps=1e-05, elementwise_affine=True)\n",
              "            (dropout): Dropout(p=0.1, inplace=False)\n",
              "          )\n",
              "        )\n",
              "        (7): RobertaLayer(\n",
              "          (attention): RobertaAttention(\n",
              "            (self): RobertaSelfAttention(\n",
              "              (query): Linear(in_features=768, out_features=768, bias=True)\n",
              "              (key): Linear(in_features=768, out_features=768, bias=True)\n",
              "              (value): Linear(in_features=768, out_features=768, bias=True)\n",
              "              (dropout): Dropout(p=0.1, inplace=False)\n",
              "            )\n",
              "            (output): RobertaSelfOutput(\n",
              "              (dense): Linear(in_features=768, out_features=768, bias=True)\n",
              "              (LayerNorm): LayerNorm((768,), eps=1e-05, elementwise_affine=True)\n",
              "              (dropout): Dropout(p=0.1, inplace=False)\n",
              "            )\n",
              "          )\n",
              "          (intermediate): RobertaIntermediate(\n",
              "            (dense): Linear(in_features=768, out_features=3072, bias=True)\n",
              "          )\n",
              "          (output): RobertaOutput(\n",
              "            (dense): Linear(in_features=3072, out_features=768, bias=True)\n",
              "            (LayerNorm): LayerNorm((768,), eps=1e-05, elementwise_affine=True)\n",
              "            (dropout): Dropout(p=0.1, inplace=False)\n",
              "          )\n",
              "        )\n",
              "        (8): RobertaLayer(\n",
              "          (attention): RobertaAttention(\n",
              "            (self): RobertaSelfAttention(\n",
              "              (query): Linear(in_features=768, out_features=768, bias=True)\n",
              "              (key): Linear(in_features=768, out_features=768, bias=True)\n",
              "              (value): Linear(in_features=768, out_features=768, bias=True)\n",
              "              (dropout): Dropout(p=0.1, inplace=False)\n",
              "            )\n",
              "            (output): RobertaSelfOutput(\n",
              "              (dense): Linear(in_features=768, out_features=768, bias=True)\n",
              "              (LayerNorm): LayerNorm((768,), eps=1e-05, elementwise_affine=True)\n",
              "              (dropout): Dropout(p=0.1, inplace=False)\n",
              "            )\n",
              "          )\n",
              "          (intermediate): RobertaIntermediate(\n",
              "            (dense): Linear(in_features=768, out_features=3072, bias=True)\n",
              "          )\n",
              "          (output): RobertaOutput(\n",
              "            (dense): Linear(in_features=3072, out_features=768, bias=True)\n",
              "            (LayerNorm): LayerNorm((768,), eps=1e-05, elementwise_affine=True)\n",
              "            (dropout): Dropout(p=0.1, inplace=False)\n",
              "          )\n",
              "        )\n",
              "        (9): RobertaLayer(\n",
              "          (attention): RobertaAttention(\n",
              "            (self): RobertaSelfAttention(\n",
              "              (query): Linear(in_features=768, out_features=768, bias=True)\n",
              "              (key): Linear(in_features=768, out_features=768, bias=True)\n",
              "              (value): Linear(in_features=768, out_features=768, bias=True)\n",
              "              (dropout): Dropout(p=0.1, inplace=False)\n",
              "            )\n",
              "            (output): RobertaSelfOutput(\n",
              "              (dense): Linear(in_features=768, out_features=768, bias=True)\n",
              "              (LayerNorm): LayerNorm((768,), eps=1e-05, elementwise_affine=True)\n",
              "              (dropout): Dropout(p=0.1, inplace=False)\n",
              "            )\n",
              "          )\n",
              "          (intermediate): RobertaIntermediate(\n",
              "            (dense): Linear(in_features=768, out_features=3072, bias=True)\n",
              "          )\n",
              "          (output): RobertaOutput(\n",
              "            (dense): Linear(in_features=3072, out_features=768, bias=True)\n",
              "            (LayerNorm): LayerNorm((768,), eps=1e-05, elementwise_affine=True)\n",
              "            (dropout): Dropout(p=0.1, inplace=False)\n",
              "          )\n",
              "        )\n",
              "        (10): RobertaLayer(\n",
              "          (attention): RobertaAttention(\n",
              "            (self): RobertaSelfAttention(\n",
              "              (query): Linear(in_features=768, out_features=768, bias=True)\n",
              "              (key): Linear(in_features=768, out_features=768, bias=True)\n",
              "              (value): Linear(in_features=768, out_features=768, bias=True)\n",
              "              (dropout): Dropout(p=0.1, inplace=False)\n",
              "            )\n",
              "            (output): RobertaSelfOutput(\n",
              "              (dense): Linear(in_features=768, out_features=768, bias=True)\n",
              "              (LayerNorm): LayerNorm((768,), eps=1e-05, elementwise_affine=True)\n",
              "              (dropout): Dropout(p=0.1, inplace=False)\n",
              "            )\n",
              "          )\n",
              "          (intermediate): RobertaIntermediate(\n",
              "            (dense): Linear(in_features=768, out_features=3072, bias=True)\n",
              "          )\n",
              "          (output): RobertaOutput(\n",
              "            (dense): Linear(in_features=3072, out_features=768, bias=True)\n",
              "            (LayerNorm): LayerNorm((768,), eps=1e-05, elementwise_affine=True)\n",
              "            (dropout): Dropout(p=0.1, inplace=False)\n",
              "          )\n",
              "        )\n",
              "        (11): RobertaLayer(\n",
              "          (attention): RobertaAttention(\n",
              "            (self): RobertaSelfAttention(\n",
              "              (query): Linear(in_features=768, out_features=768, bias=True)\n",
              "              (key): Linear(in_features=768, out_features=768, bias=True)\n",
              "              (value): Linear(in_features=768, out_features=768, bias=True)\n",
              "              (dropout): Dropout(p=0.1, inplace=False)\n",
              "            )\n",
              "            (output): RobertaSelfOutput(\n",
              "              (dense): Linear(in_features=768, out_features=768, bias=True)\n",
              "              (LayerNorm): LayerNorm((768,), eps=1e-05, elementwise_affine=True)\n",
              "              (dropout): Dropout(p=0.1, inplace=False)\n",
              "            )\n",
              "          )\n",
              "          (intermediate): RobertaIntermediate(\n",
              "            (dense): Linear(in_features=768, out_features=3072, bias=True)\n",
              "          )\n",
              "          (output): RobertaOutput(\n",
              "            (dense): Linear(in_features=3072, out_features=768, bias=True)\n",
              "            (LayerNorm): LayerNorm((768,), eps=1e-05, elementwise_affine=True)\n",
              "            (dropout): Dropout(p=0.1, inplace=False)\n",
              "          )\n",
              "        )\n",
              "      )\n",
              "    )\n",
              "  )\n",
              "  (classifier): RobertaClassificationHead(\n",
              "    (dense): Linear(in_features=768, out_features=768, bias=True)\n",
              "    (dropout): Dropout(p=0.1, inplace=False)\n",
              "    (out_proj): Linear(in_features=768, out_features=2, bias=True)\n",
              "  )\n",
              ")"
            ]
          },
          "metadata": {
            "tags": []
          },
          "execution_count": 97
        }
      ]
    },
    {
      "cell_type": "code",
      "metadata": {
        "colab": {
          "base_uri": "https://localhost:8080/"
        },
        "id": "3FM842rg6zjt",
        "outputId": "1afe60ff-7555-45a1-b11d-da828411e60a"
      },
      "source": [
        "tokenizer.vocab_size"
      ],
      "execution_count": null,
      "outputs": [
        {
          "output_type": "execute_result",
          "data": {
            "text/plain": [
              "32005"
            ]
          },
          "metadata": {
            "tags": []
          },
          "execution_count": 206
        }
      ]
    },
    {
      "cell_type": "code",
      "metadata": {
        "id": "qsKDB3t6Tm8q",
        "colab": {
          "base_uri": "https://localhost:8080/",
          "height": 1000
        },
        "outputId": "054c3371-0dd8-4c38-bb1f-7019d6110f5a"
      },
      "source": [
        "learn_clas = text_classifier_learner(dls_clas, model, drop_mult=0.5, \n",
        "                                metrics=accuracy).to_fp16()"
      ],
      "execution_count": 98,
      "outputs": [
        {
          "output_type": "error",
          "ename": "KeyError",
          "evalue": "ignored",
          "traceback": [
            "\u001b[0;31m---------------------------------------------------------------------------\u001b[0m",
            "\u001b[0;31mKeyError\u001b[0m                                  Traceback (most recent call last)",
            "\u001b[0;32m<ipython-input-98-49e6e0a9ab47>\u001b[0m in \u001b[0;36m<module>\u001b[0;34m()\u001b[0m\n\u001b[1;32m      1\u001b[0m learn_clas = text_classifier_learner(dls_clas, model, drop_mult=0.5, \n\u001b[0;32m----> 2\u001b[0;31m                                 metrics=accuracy).to_fp16()\n\u001b[0m",
            "\u001b[0;32m/usr/local/lib/python3.7/dist-packages/fastai/text/learner.py\u001b[0m in \u001b[0;36mtext_classifier_learner\u001b[0;34m(dls, arch, seq_len, config, backwards, pretrained, drop_mult, n_out, lin_ftrs, ps, max_len, y_range, **kwargs)\u001b[0m\n\u001b[1;32m    219\u001b[0m     \u001b[0;32massert\u001b[0m \u001b[0mn_out\u001b[0m\u001b[0;34m,\u001b[0m \u001b[0;34m\"`n_out` is not defined, and could not be inferred from data, set `dls.c` or pass `n_out`\"\u001b[0m\u001b[0;34m\u001b[0m\u001b[0;34m\u001b[0m\u001b[0m\n\u001b[1;32m    220\u001b[0m     model = get_text_classifier(arch, len(vocab), n_out, seq_len=seq_len, config=config, y_range=y_range,\n\u001b[0;32m--> 221\u001b[0;31m                                 drop_mult=drop_mult, lin_ftrs=lin_ftrs, ps=ps, max_len=max_len)\n\u001b[0m\u001b[1;32m    222\u001b[0m     \u001b[0mmeta\u001b[0m \u001b[0;34m=\u001b[0m \u001b[0m_model_meta\u001b[0m\u001b[0;34m[\u001b[0m\u001b[0march\u001b[0m\u001b[0;34m]\u001b[0m\u001b[0;34m\u001b[0m\u001b[0;34m\u001b[0m\u001b[0m\n\u001b[1;32m    223\u001b[0m     \u001b[0mlearn\u001b[0m \u001b[0;34m=\u001b[0m \u001b[0mTextLearner\u001b[0m\u001b[0;34m(\u001b[0m\u001b[0mdls\u001b[0m\u001b[0;34m,\u001b[0m \u001b[0mmodel\u001b[0m\u001b[0;34m,\u001b[0m \u001b[0msplitter\u001b[0m\u001b[0;34m=\u001b[0m\u001b[0mmeta\u001b[0m\u001b[0;34m[\u001b[0m\u001b[0;34m'split_clas'\u001b[0m\u001b[0;34m]\u001b[0m\u001b[0;34m,\u001b[0m \u001b[0;34m**\u001b[0m\u001b[0mkwargs\u001b[0m\u001b[0;34m)\u001b[0m\u001b[0;34m\u001b[0m\u001b[0;34m\u001b[0m\u001b[0m\n",
            "\u001b[0;32m/usr/local/lib/python3.7/dist-packages/fastai/text/models/core.py\u001b[0m in \u001b[0;36mget_text_classifier\u001b[0;34m(arch, vocab_sz, n_class, seq_len, config, drop_mult, lin_ftrs, ps, pad_idx, max_len, y_range)\u001b[0m\n\u001b[1;32m    119\u001b[0m                         ps=None, pad_idx=1, max_len=72*20, y_range=None):\n\u001b[1;32m    120\u001b[0m     \u001b[0;34m\"Create a text classifier from `arch` and its `config`, maybe `pretrained`\"\u001b[0m\u001b[0;34m\u001b[0m\u001b[0;34m\u001b[0m\u001b[0m\n\u001b[0;32m--> 121\u001b[0;31m     \u001b[0mmeta\u001b[0m \u001b[0;34m=\u001b[0m \u001b[0m_model_meta\u001b[0m\u001b[0;34m[\u001b[0m\u001b[0march\u001b[0m\u001b[0;34m]\u001b[0m\u001b[0;34m\u001b[0m\u001b[0;34m\u001b[0m\u001b[0m\n\u001b[0m\u001b[1;32m    122\u001b[0m     \u001b[0mconfig\u001b[0m \u001b[0;34m=\u001b[0m \u001b[0mifnone\u001b[0m\u001b[0;34m(\u001b[0m\u001b[0mconfig\u001b[0m\u001b[0;34m,\u001b[0m \u001b[0mmeta\u001b[0m\u001b[0;34m[\u001b[0m\u001b[0;34m'config_clas'\u001b[0m\u001b[0;34m]\u001b[0m\u001b[0;34m)\u001b[0m\u001b[0;34m.\u001b[0m\u001b[0mcopy\u001b[0m\u001b[0;34m(\u001b[0m\u001b[0;34m)\u001b[0m\u001b[0;34m\u001b[0m\u001b[0;34m\u001b[0m\u001b[0m\n\u001b[1;32m    123\u001b[0m     \u001b[0;32mfor\u001b[0m \u001b[0mk\u001b[0m \u001b[0;32min\u001b[0m \u001b[0mconfig\u001b[0m\u001b[0;34m.\u001b[0m\u001b[0mkeys\u001b[0m\u001b[0;34m(\u001b[0m\u001b[0;34m)\u001b[0m\u001b[0;34m:\u001b[0m\u001b[0;34m\u001b[0m\u001b[0;34m\u001b[0m\u001b[0m\n",
            "\u001b[0;31mKeyError\u001b[0m: CamembertForSequenceClassification(\n  (roberta): RobertaModel(\n    (embeddings): RobertaEmbeddings(\n      (word_embeddings): Embedding(32005, 768, padding_idx=1)\n      (position_embeddings): Embedding(514, 768, padding_idx=1)\n      (token_type_embeddings): Embedding(1, 768)\n      (LayerNorm): LayerNorm((768,), eps=1e-05, elementwise_affine=True)\n      (dropout): Dropout(p=0.1, inplace=False)\n    )\n    (encoder): RobertaEncoder(\n      (layer): ModuleList(\n        (0): RobertaLayer(\n          (attention): RobertaAttention(\n            (self): RobertaSelfAttention(\n              (query): Linear(in_features=768, out_features=768, bias=True)\n              (key): Linear(in_features=768, out_features=768, bias=True)\n              (value): Linear(in_features=768, out_features=768, bias=True)\n              (dropout): Dropout(p=0.1, inplace=False)\n            )\n            (output): RobertaSelfOutput(\n              (dense): Linear(in_features=768, out_features=768, bias=True)\n              (LayerNorm): LayerNorm((768,), eps=1e-05, elementwise_affine=True)\n              (dropout): Dropout(p=0.1, inplace=False)\n            )\n          )\n          (intermediate): RobertaIntermediate(\n            (dense): Linear(in_features=768, out_features=3072, bias=True)\n          )\n          (output): RobertaOutput(\n            (dense): Linear(in_features=3072, out_features=768, bias=True)\n            (LayerNorm): LayerNorm((768,), eps=1e-05, elementwise_affine=True)\n            (dropout): Dropout(p=0.1, inplace=False)\n          )\n        )\n        (1): RobertaLayer(\n          (attention): RobertaAttention(\n            (self): RobertaSelfAttention(\n              (query): Linear(in_features=768, out_features=768, bias=True)\n              (key): Linear(in_features=768, out_features=768, bias=True)\n              (value): Linear(in_features=768, out_features=768, bias=True)\n              (dropout): Dropout(p=0.1, inplace=False)\n            )\n            (output): RobertaSelfOutput(\n              (dense): Linear(in_features=768, out_features=768, bias=True)\n              (LayerNorm): LayerNorm((768,), eps=1e-05, elementwise_affine=True)\n              (dropout): Dropout(p=0.1, inplace=False)\n            )\n          )\n          (intermediate): RobertaIntermediate(\n            (dense): Linear(in_features=768, out_features=3072, bias=True)\n          )\n          (output): RobertaOutput(\n            (dense): Linear(in_features=3072, out_features=768, bias=True)\n            (LayerNorm): LayerNorm((768,), eps=1e-05, elementwise_affine=True)\n            (dropout): Dropout(p=0.1, inplace=False)\n          )\n        )\n        (2): RobertaLayer(\n          (attention): RobertaAttention(\n            (self): RobertaSelfAttention(\n              (query): Linear(in_features=768, out_features=768, bias=True)\n              (key): Linear(in_features=768, out_features=768, bias=True)\n              (value): Linear(in_features=768, out_features=768, bias=True)\n              (dropout): Dropout(p=0.1, inplace=False)\n            )\n            (output): RobertaSelfOutput(\n              (dense): Linear(in_features=768, out_features=768, bias=True)\n              (LayerNorm): LayerNorm((768,), eps=1e-05, elementwise_affine=True)\n              (dropout): Dropout(p=0.1, inplace=False)\n            )\n          )\n          (intermediate): RobertaIntermediate(\n            (dense): Linear(in_features=768, out_features=3072, bias=True)\n          )\n          (output): RobertaOutput(\n            (dense): Linear(in_features=3072, out_features=768, bias=True)\n            (LayerNorm): LayerNorm((768,), eps=1e-05, elementwise_affine=True)\n            (dropout): Dropout(p=0.1, inplace=False)\n          )\n        )\n        (3): RobertaLayer(\n          (attention): RobertaAttention(\n            (self): RobertaSelfAttention(\n              (query): Linear(in_features=768, out_features=768, bias=True)\n              (key): Linear(in_features=768, out_features=768, bias=True)\n              (value): Linear(in_features=768, out_features=768, bias=True)\n              (dropout): Dropout(p=0.1, inplace=False)\n            )\n            (output): RobertaSelfOutput(\n              (dense): Linear(in_features=768, out_features=768, bias=True)\n              (LayerNorm): LayerNorm((768,), eps=1e-05, elementwise_affine=True)\n              (dropout): Dropout(p=0.1, inplace=False)\n            )\n          )\n          (intermediate): RobertaIntermediate(\n            (dense): Linear(in_features=768, out_features=3072, bias=True)\n          )\n          (output): RobertaOutput(\n            (dense): Linear(in_features=3072, out_features=768, bias=True)\n            (LayerNorm): LayerNorm((768,), eps=1e-05, elementwise_affine=True)\n            (dropout): Dropout(p=0.1, inplace=False)\n          )\n        )\n        (4): RobertaLayer(\n          (attention): RobertaAttention(\n            (self): RobertaSelfAttention(\n              (query): Linear(in_features=768, out_features=768, bias=True)\n              (key): Linear(in_features=768, out_features=768, bias=True)\n              (value): Linear(in_features=768, out_features=768, bias=True)\n              (dropout): Dropout(p=0.1, inplace=False)\n            )\n            (output): RobertaSelfOutput(\n              (dense): Linear(in_features=768, out_features=768, bias=True)\n              (LayerNorm): LayerNorm((768,), eps=1e-05, elementwise_affine=True)\n              (dropout): Dropout(p=0.1, inplace=False)\n            )\n          )\n          (intermediate): RobertaIntermediate(\n            (dense): Linear(in_features=768, out_features=3072, bias=True)\n          )\n          (output): RobertaOutput(\n            (dense): Linear(in_features=3072, out_features=768, bias=True)\n            (LayerNorm): LayerNorm((768,), eps=1e-05, elementwise_affine=True)\n            (dropout): Dropout(p=0.1, inplace=False)\n          )\n        )\n        (5): RobertaLayer(\n          (attention): RobertaAttention(\n            (self): RobertaSelfAttention(\n              (query): Linear(in_features=768, out_features=768, bias=True)\n              (key): Linear(in_features=768, out_features=768, bias=True)\n              (value): Linear(in_features=768, out_features=768, bias=True)\n              (dropout): Dropout(p=0.1, inplace=False)\n            )\n            (output): RobertaSelfOutput(\n              (dense): Linear(in_features=768, out_features=768, bias=True)\n              (LayerNorm): LayerNorm((768,), eps=1e-05, elementwise_affine=True)\n              (dropout): Dropout(p=0.1, inplace=False)\n            )\n          )\n          (intermediate): RobertaIntermediate(\n            (dense): Linear(in_features=768, out_features=3072, bias=True)\n          )\n          (output): RobertaOutput(\n            (dense): Linear(in_features=3072, out_features=768, bias=True)\n            (LayerNorm): LayerNorm((768,), eps=1e-05, elementwise_affine=True)\n            (dropout): Dropout(p=0.1, inplace=False)\n          )\n        )\n        (6): RobertaLayer(\n          (attention): RobertaAttention(\n            (self): RobertaSelfAttention(\n              (query): Linear(in_features=768, out_features=768, bias=True)\n              (key): Linear(in_features=768, out_features=768, bias=True)\n              (value): Linear(in_features=768, out_features=768, bias=True)\n              (dropout): Dropout(p=0.1, inplace=False)\n            )\n            (output): RobertaSelfOutput(\n              (dense): Linear(in_features=768, out_features=768, bias=True)\n              (LayerNorm): LayerNorm((768,), eps=1e-05, elementwise_affine=True)\n              (dropout): Dropout(p=0.1, inplace=False)\n            )\n          )\n          (intermediate): RobertaIntermediate(\n            (dense): Linear(in_features=768, out_features=3072, bias=True)\n          )\n          (output): RobertaOutput(\n            (dense): Linear(in_features=3072, out_features=768, bias=True)\n            (LayerNorm): LayerNorm((768,), eps=1e-05, elementwise_affine=True)\n            (dropout): Dropout(p=0.1, inplace=False)\n          )\n        )\n        (7): RobertaLayer(\n          (attention): RobertaAttention(\n            (self): RobertaSelfAttention(\n              (query): Linear(in_features=768, out_features=768, bias=True)\n              (key): Linear(in_features=768, out_features=768, bias=True)\n              (value): Linear(in_features=768, out_features=768, bias=True)\n              (dropout): Dropout(p=0.1, inplace=False)\n            )\n            (output): RobertaSelfOutput(\n              (dense): Linear(in_features=768, out_features=768, bias=True)\n              (LayerNorm): LayerNorm((768,), eps=1e-05, elementwise_affine=True)\n              (dropout): Dropout(p=0.1, inplace=False)\n            )\n          )\n          (intermediate): RobertaIntermediate(\n            (dense): Linear(in_features=768, out_features=3072, bias=True)\n          )\n          (output): RobertaOutput(\n            (dense): Linear(in_features=3072, out_features=768, bias=True)\n            (LayerNorm): LayerNorm((768,), eps=1e-05, elementwise_affine=True)\n            (dropout): Dropout(p=0.1, inplace=False)\n          )\n        )\n        (8): RobertaLayer(\n          (attention): RobertaAttention(\n            (self): RobertaSelfAttention(\n              (query): Linear(in_features=768, out_features=768, bias=True)\n              (key): Linear(in_features=768, out_features=768, bias=True)\n              (value): Linear(in_features=768, out_features=768, bias=True)\n              (dropout): Dropout(p=0.1, inplace=False)\n            )\n            (output): RobertaSelfOutput(\n              (dense): Linear(in_features=768, out_features=768, bias=True)\n              (LayerNorm): LayerNorm((768,), eps=1e-05, elementwise_affine=True)\n              (dropout): Dropout(p=0.1, inplace=False)\n            )\n          )\n          (intermediate): RobertaIntermediate(\n            (dense): Linear(in_features=768, out_features=3072, bias=True)\n          )\n          (output): RobertaOutput(\n            (dense): Linear(in_features=3072, out_features=768, bias=True)\n            (LayerNorm): LayerNorm((768,), eps=1e-05, elementwise_affine=True)\n            (dropout): Dropout(p=0.1, inplace=False)\n          )\n        )\n        (9): RobertaLayer(\n          (attention): RobertaAttention(\n            (self): RobertaSelfAttention(\n              (query): Linear(in_features=768, out_features=768, bias=True)\n              (key): Linear(in_features=768, out_features=768, bias=True)\n              (value): Linear(in_features=768, out_features=768, bias=True)\n              (dropout): Dropout(p=0.1, inplace=False)\n            )\n            (output): RobertaSelfOutput(\n              (dense): Linear(in_features=768, out_features=768, bias=True)\n              (LayerNorm): LayerNorm((768,), eps=1e-05, elementwise_affine=True)\n              (dropout): Dropout(p=0.1, inplace=False)\n            )\n          )\n          (intermediate): RobertaIntermediate(\n            (dense): Linear(in_features=768, out_features=3072, bias=True)\n          )\n          (output): RobertaOutput(\n            (dense): Linear(in_features=3072, out_features=768, bias=True)\n            (LayerNorm): LayerNorm((768,), eps=1e-05, elementwise_affine=True)\n            (dropout): Dropout(p=0.1, inplace=False)\n          )\n        )\n        (10): RobertaLayer(\n          (attention): RobertaAttention(\n            (self): RobertaSelfAttention(\n              (query): Linear(in_features=768, out_features=768, bias=True)\n              (key): Linear(in_features=768, out_features=768, bias=True)\n              (value): Linear(in_features=768, out_features=768, bias=True)\n              (dropout): Dropout(p=0.1, inplace=False)\n            )\n            (output): RobertaSelfOutput(\n              (dense): Linear(in_features=768, out_features=768, bias=True)\n              (LayerNorm): LayerNorm((768,), eps=1e-05, elementwise_affine=True)\n              (dropout): Dropout(p=0.1, inplace=False)\n            )\n          )\n          (intermediate): RobertaIntermediate(\n            (dense): Linear(in_features=768, out_features=3072, bias=True)\n          )\n          (output): RobertaOutput(\n            (dense): Linear(in_features=3072, out_features=768, bias=True)\n            (LayerNorm): LayerNorm((768,), eps=1e-05, elementwise_affine=True)\n            (dropout): Dropout(p=0.1, inplace=False)\n          )\n        )\n        (11): RobertaLayer(\n          (attention): RobertaAttention(\n            (self): RobertaSelfAttention(\n              (query): Linear(in_features=768, out_features=768, bias=True)\n              (key): Linear(in_features=768, out_features=768, bias=True)\n              (value): Linear(in_features=768, out_features=768, bias=True)\n              (dropout): Dropout(p=0.1, inplace=False)\n            )\n            (output): RobertaSelfOutput(\n              (dense): Linear(in_features=768, out_features=768, bias=True)\n              (LayerNorm): LayerNorm((768,), eps=1e-05, elementwise_affine=True)\n              (dropout): Dropout(p=0.1, inplace=False)\n            )\n          )\n          (intermediate): RobertaIntermediate(\n            (dense): Linear(in_features=768, out_features=3072, bias=True)\n          )\n          (output): RobertaOutput(\n            (dense): Linear(in_features=3072, out_features=768, bias=True)\n            (LayerNorm): LayerNorm((768,), eps=1e-05, elementwise_affine=True)\n            (dropout): Dropout(p=0.1, inplace=False)\n          )\n        )\n      )\n    )\n  )\n  (classifier): RobertaClassificationHead(\n    (dense): Linear(in_features=768, out_features=768, bias=True)\n    (dropout): Dropout(p=0.1, inplace=False)\n    (out_proj): Linear(in_features=768, out_features=2, bias=True)\n  )\n)"
          ]
        }
      ]
    },
    {
      "cell_type": "code",
      "metadata": {
        "colab": {
          "base_uri": "https://localhost:8080/",
          "height": 1000
        },
        "id": "UEhmSNVO4Mcr",
        "outputId": "3aa93ca6-87e9-447f-c53e-457443536ea9"
      },
      "source": [
        "def get_model(model, pretrained=True):\n",
        "    m = model\n",
        "    return m\n",
        "\n",
        "segment_learner = text_classifier_learner(dls_clas, partial(get_model, model=model), pretrained=True)"
      ],
      "execution_count": null,
      "outputs": [
        {
          "output_type": "error",
          "ename": "KeyError",
          "evalue": "ignored",
          "traceback": [
            "\u001b[0;31m---------------------------------------------------------------------------\u001b[0m",
            "\u001b[0;31mKeyError\u001b[0m                                  Traceback (most recent call last)",
            "\u001b[0;32m<ipython-input-190-9e503a0e00e2>\u001b[0m in \u001b[0;36m<module>\u001b[0;34m()\u001b[0m\n\u001b[1;32m      3\u001b[0m     \u001b[0;32mreturn\u001b[0m \u001b[0mm\u001b[0m\u001b[0;34m\u001b[0m\u001b[0;34m\u001b[0m\u001b[0m\n\u001b[1;32m      4\u001b[0m \u001b[0;34m\u001b[0m\u001b[0m\n\u001b[0;32m----> 5\u001b[0;31m \u001b[0msegment_learner\u001b[0m \u001b[0;34m=\u001b[0m \u001b[0mtext_classifier_learner\u001b[0m\u001b[0;34m(\u001b[0m\u001b[0mdls_clas\u001b[0m\u001b[0;34m,\u001b[0m \u001b[0mpartial\u001b[0m\u001b[0;34m(\u001b[0m\u001b[0mget_model\u001b[0m\u001b[0;34m,\u001b[0m \u001b[0mmodel\u001b[0m\u001b[0;34m=\u001b[0m\u001b[0mmodel\u001b[0m\u001b[0;34m)\u001b[0m\u001b[0;34m,\u001b[0m \u001b[0mpretrained\u001b[0m\u001b[0;34m=\u001b[0m\u001b[0;32mTrue\u001b[0m\u001b[0;34m)\u001b[0m\u001b[0;34m\u001b[0m\u001b[0;34m\u001b[0m\u001b[0m\n\u001b[0m",
            "\u001b[0;32m/usr/local/lib/python3.7/dist-packages/fastai/text/learner.py\u001b[0m in \u001b[0;36mtext_classifier_learner\u001b[0;34m(dls, arch, seq_len, config, backwards, pretrained, drop_mult, n_out, lin_ftrs, ps, max_len, y_range, **kwargs)\u001b[0m\n\u001b[1;32m    219\u001b[0m     \u001b[0;32massert\u001b[0m \u001b[0mn_out\u001b[0m\u001b[0;34m,\u001b[0m \u001b[0;34m\"`n_out` is not defined, and could not be inferred from data, set `dls.c` or pass `n_out`\"\u001b[0m\u001b[0;34m\u001b[0m\u001b[0;34m\u001b[0m\u001b[0m\n\u001b[1;32m    220\u001b[0m     model = get_text_classifier(arch, len(vocab), n_out, seq_len=seq_len, config=config, y_range=y_range,\n\u001b[0;32m--> 221\u001b[0;31m                                 drop_mult=drop_mult, lin_ftrs=lin_ftrs, ps=ps, max_len=max_len)\n\u001b[0m\u001b[1;32m    222\u001b[0m     \u001b[0mmeta\u001b[0m \u001b[0;34m=\u001b[0m \u001b[0m_model_meta\u001b[0m\u001b[0;34m[\u001b[0m\u001b[0march\u001b[0m\u001b[0;34m]\u001b[0m\u001b[0;34m\u001b[0m\u001b[0;34m\u001b[0m\u001b[0m\n\u001b[1;32m    223\u001b[0m     \u001b[0mlearn\u001b[0m \u001b[0;34m=\u001b[0m \u001b[0mTextLearner\u001b[0m\u001b[0;34m(\u001b[0m\u001b[0mdls\u001b[0m\u001b[0;34m,\u001b[0m \u001b[0mmodel\u001b[0m\u001b[0;34m,\u001b[0m \u001b[0msplitter\u001b[0m\u001b[0;34m=\u001b[0m\u001b[0mmeta\u001b[0m\u001b[0;34m[\u001b[0m\u001b[0;34m'split_clas'\u001b[0m\u001b[0;34m]\u001b[0m\u001b[0;34m,\u001b[0m \u001b[0;34m**\u001b[0m\u001b[0mkwargs\u001b[0m\u001b[0;34m)\u001b[0m\u001b[0;34m\u001b[0m\u001b[0;34m\u001b[0m\u001b[0m\n",
            "\u001b[0;32m/usr/local/lib/python3.7/dist-packages/fastai/text/models/core.py\u001b[0m in \u001b[0;36mget_text_classifier\u001b[0;34m(arch, vocab_sz, n_class, seq_len, config, drop_mult, lin_ftrs, ps, pad_idx, max_len, y_range)\u001b[0m\n\u001b[1;32m    119\u001b[0m                         ps=None, pad_idx=1, max_len=72*20, y_range=None):\n\u001b[1;32m    120\u001b[0m     \u001b[0;34m\"Create a text classifier from `arch` and its `config`, maybe `pretrained`\"\u001b[0m\u001b[0;34m\u001b[0m\u001b[0;34m\u001b[0m\u001b[0m\n\u001b[0;32m--> 121\u001b[0;31m     \u001b[0mmeta\u001b[0m \u001b[0;34m=\u001b[0m \u001b[0m_model_meta\u001b[0m\u001b[0;34m[\u001b[0m\u001b[0march\u001b[0m\u001b[0;34m]\u001b[0m\u001b[0;34m\u001b[0m\u001b[0;34m\u001b[0m\u001b[0m\n\u001b[0m\u001b[1;32m    122\u001b[0m     \u001b[0mconfig\u001b[0m \u001b[0;34m=\u001b[0m \u001b[0mifnone\u001b[0m\u001b[0;34m(\u001b[0m\u001b[0mconfig\u001b[0m\u001b[0;34m,\u001b[0m \u001b[0mmeta\u001b[0m\u001b[0;34m[\u001b[0m\u001b[0;34m'config_clas'\u001b[0m\u001b[0;34m]\u001b[0m\u001b[0;34m)\u001b[0m\u001b[0;34m.\u001b[0m\u001b[0mcopy\u001b[0m\u001b[0;34m(\u001b[0m\u001b[0;34m)\u001b[0m\u001b[0;34m\u001b[0m\u001b[0;34m\u001b[0m\u001b[0m\n\u001b[1;32m    123\u001b[0m     \u001b[0;32mfor\u001b[0m \u001b[0mk\u001b[0m \u001b[0;32min\u001b[0m \u001b[0mconfig\u001b[0m\u001b[0;34m.\u001b[0m\u001b[0mkeys\u001b[0m\u001b[0;34m(\u001b[0m\u001b[0;34m)\u001b[0m\u001b[0;34m:\u001b[0m\u001b[0;34m\u001b[0m\u001b[0;34m\u001b[0m\u001b[0m\n",
            "\u001b[0;31mKeyError\u001b[0m: functools.partial(<function get_model at 0x7faac0fecc20>, model=CamembertForSequenceClassification(\n  (roberta): RobertaModel(\n    (embeddings): RobertaEmbeddings(\n      (word_embeddings): Embedding(32005, 768, padding_idx=1)\n      (position_embeddings): Embedding(514, 768, padding_idx=1)\n      (token_type_embeddings): Embedding(1, 768)\n      (LayerNorm): LayerNorm((768,), eps=1e-05, elementwise_affine=True)\n      (dropout): Dropout(p=0.1, inplace=False)\n    )\n    (encoder): RobertaEncoder(\n      (layer): ModuleList(\n        (0): RobertaLayer(\n          (attention): RobertaAttention(\n            (self): RobertaSelfAttention(\n              (query): Linear(in_features=768, out_features=768, bias=True)\n              (key): Linear(in_features=768, out_features=768, bias=True)\n              (value): Linear(in_features=768, out_features=768, bias=True)\n              (dropout): Dropout(p=0.1, inplace=False)\n            )\n            (output): RobertaSelfOutput(\n              (dense): Linear(in_features=768, out_features=768, bias=True)\n              (LayerNorm): LayerNorm((768,), eps=1e-05, elementwise_affine=True)\n              (dropout): Dropout(p=0.1, inplace=False)\n            )\n          )\n          (intermediate): RobertaIntermediate(\n            (dense): Linear(in_features=768, out_features=3072, bias=True)\n          )\n          (output): RobertaOutput(\n            (dense): Linear(in_features=3072, out_features=768, bias=True)\n            (LayerNorm): LayerNorm((768,), eps=1e-05, elementwise_affine=True)\n            (dropout): Dropout(p=0.1, inplace=False)\n          )\n        )\n        (1): RobertaLayer(\n          (attention): RobertaAttention(\n            (self): RobertaSelfAttention(\n              (query): Linear(in_features=768, out_features=768, bias=True)\n              (key): Linear(in_features=768, out_features=768, bias=True)\n              (value): Linear(in_features=768, out_features=768, bias=True)\n              (dropout): Dropout(p=0.1, inplace=False)\n            )\n            (output): RobertaSelfOutput(\n              (dense): Linear(in_features=768, out_features=768, bias=True)\n              (LayerNorm): LayerNorm((768,), eps=1e-05, elementwise_affine=True)\n              (dropout): Dropout(p=0.1, inplace=False)\n            )\n          )\n          (intermediate): RobertaIntermediate(\n            (dense): Linear(in_features=768, out_features=3072, bias=True)\n          )\n          (output): RobertaOutput(\n            (dense): Linear(in_features=3072, out_features=768, bias=True)\n            (LayerNorm): LayerNorm((768,), eps=1e-05, elementwise_affine=True)\n            (dropout): Dropout(p=0.1, inplace=False)\n          )\n        )\n        (2): RobertaLayer(\n          (attention): RobertaAttention(\n            (self): RobertaSelfAttention(\n              (query): Linear(in_features=768, out_features=768, bias=True)\n              (key): Linear(in_features=768, out_features=768, bias=True)\n              (value): Linear(in_features=768, out_features=768, bias=True)\n              (dropout): Dropout(p=0.1, inplace=False)\n            )\n            (output): RobertaSelfOutput(\n              (dense): Linear(in_features=768, out_features=768, bias=True)\n              (LayerNorm): LayerNorm((768,), eps=1e-05, elementwise_affine=True)\n              (dropout): Dropout(p=0.1, inplace=False)\n            )\n          )\n          (intermediate): RobertaIntermediate(\n            (dense): Linear(in_features=768, out_features=3072, bias=True)\n          )\n          (output): RobertaOutput(\n            (dense): Linear(in_features=3072, out_features=768, bias=True)\n            (LayerNorm): LayerNorm((768,), eps=1e-05, elementwise_affine=True)\n            (dropout): Dropout(p=0.1, inplace=False)\n          )\n        )\n        (3): RobertaLayer(\n          (attention): RobertaAttention(\n            (self): RobertaSelfAttention(\n              (query): Linear(in_features=768, out_features=768, bias=True)\n              (key): Linear(in_features=768, out_features=768, bias=True)\n              (value): Linear(in_features=768, out_features=768, bias=True)\n              (dropout): Dropout(p=0.1, inplace=False)\n            )\n            (output): RobertaSelfOutput(\n              (dense): Linear(in_features=768, out_features=768, bias=True)\n              (LayerNorm): LayerNorm((768,), eps=1e-05, elementwise_affine=True)\n              (dropout): Dropout(p=0.1, inplace=False)\n            )\n          )\n          (intermediate): RobertaIntermediate(\n            (dense): Linear(in_features=768, out_features=3072, bias=True)\n          )\n          (output): RobertaOutput(\n            (dense): Linear(in_features=3072, out_features=768, bias=True)\n            (LayerNorm): LayerNorm((768,), eps=1e-05, elementwise_affine=True)\n            (dropout): Dropout(p=0.1, inplace=False)\n          )\n        )\n        (4): RobertaLayer(\n          (attention): RobertaAttention(\n            (self): RobertaSelfAttention(\n              (query): Linear(in_features=768, out_features=768, bias=True)\n              (key): Linear(in_features=768, out_features=768, bias=True)\n              (value): Linear(in_features=768, out_features=768, bias=True)\n              (dropout): Dropout(p=0.1, inplace=False)\n            )\n            (output): RobertaSelfOutput(\n              (dense): Linear(in_features=768, out_features=768, bias=True)\n              (LayerNorm): LayerNorm((768,), eps=1e-05, elementwise_affine=True)\n              (dropout): Dropout(p=0.1, inplace=False)\n            )\n          )\n          (intermediate): RobertaIntermediate(\n            (dense): Linear(in_features=768, out_features=3072, bias=True)\n          )\n          (output): RobertaOutput(\n            (dense): Linear(in_features=3072, out_features=768, bias=True)\n            (LayerNorm): LayerNorm((768,), eps=1e-05, elementwise_affine=True)\n            (dropout): Dropout(p=0.1, inplace=False)\n          )\n        )\n        (5): RobertaLayer(\n          (attention): RobertaAttention(\n            (self): RobertaSelfAttention(\n              (query): Linear(in_features=768, out_features=768, bias=True)\n              (key): Linear(in_features=768, out_features=768, bias=True)\n              (value): Linear(in_features=768, out_features=768, bias=True)\n              (dropout): Dropout(p=0.1, inplace=False)\n            )\n            (output): RobertaSelfOutput(\n              (dense): Linear(in_features=768, out_features=768, bias=True)\n              (LayerNorm): LayerNorm((768,), eps=1e-05, elementwise_affine=True)\n              (dropout): Dropout(p=0.1, inplace=False)\n            )\n          )\n          (intermediate): RobertaIntermediate(\n            (dense): Linear(in_features=768, out_features=3072, bias=True)\n          )\n          (output): RobertaOutput(\n            (dense): Linear(in_features=3072, out_features=768, bias=True)\n            (LayerNorm): LayerNorm((768,), eps=1e-05, elementwise_affine=True)\n            (dropout): Dropout(p=0.1, inplace=False)\n          )\n        )\n        (6): RobertaLayer(\n          (attention): RobertaAttention(\n            (self): RobertaSelfAttention(\n              (query): Linear(in_features=768, out_features=768, bias=True)\n              (key): Linear(in_features=768, out_features=768, bias=True)\n              (value): Linear(in_features=768, out_features=768, bias=True)\n              (dropout): Dropout(p=0.1, inplace=False)\n            )\n            (output): RobertaSelfOutput(\n              (dense): Linear(in_features=768, out_features=768, bias=True)\n              (LayerNorm): LayerNorm((768,), eps=1e-05, elementwise_affine=True)\n              (dropout): Dropout(p=0.1, inplace=False)\n            )\n          )\n          (intermediate): RobertaIntermediate(\n            (dense): Linear(in_features=768, out_features=3072, bias=True)\n          )\n          (output): RobertaOutput(\n            (dense): Linear(in_features=3072, out_features=768, bias=True)\n            (LayerNorm): LayerNorm((768,), eps=1e-05, elementwise_affine=True)\n            (dropout): Dropout(p=0.1, inplace=False)\n          )\n        )\n        (7): RobertaLayer(\n          (attention): RobertaAttention(\n            (self): RobertaSelfAttention(\n              (query): Linear(in_features=768, out_features=768, bias=True)\n              (key): Linear(in_features=768, out_features=768, bias=True)\n              (value): Linear(in_features=768, out_features=768, bias=True)\n              (dropout): Dropout(p=0.1, inplace=False)\n            )\n            (output): RobertaSelfOutput(\n              (dense): Linear(in_features=768, out_features=768, bias=True)\n              (LayerNorm): LayerNorm((768,), eps=1e-05, elementwise_affine=True)\n              (dropout): Dropout(p=0.1, inplace=False)\n            )\n          )\n          (intermediate): RobertaIntermediate(\n            (dense): Linear(in_features=768, out_features=3072, bias=True)\n          )\n          (output): RobertaOutput(\n            (dense): Linear(in_features=3072, out_features=768, bias=True)\n            (LayerNorm): LayerNorm((768,), eps=1e-05, elementwise_affine=True)\n            (dropout): Dropout(p=0.1, inplace=False)\n          )\n        )\n        (8): RobertaLayer(\n          (attention): RobertaAttention(\n            (self): RobertaSelfAttention(\n              (query): Linear(in_features=768, out_features=768, bias=True)\n              (key): Linear(in_features=768, out_features=768, bias=True)\n              (value): Linear(in_features=768, out_features=768, bias=True)\n              (dropout): Dropout(p=0.1, inplace=False)\n            )\n            (output): RobertaSelfOutput(\n              (dense): Linear(in_features=768, out_features=768, bias=True)\n              (LayerNorm): LayerNorm((768,), eps=1e-05, elementwise_affine=True)\n              (dropout): Dropout(p=0.1, inplace=False)\n            )\n          )\n          (intermediate): RobertaIntermediate(\n            (dense): Linear(in_features=768, out_features=3072, bias=True)\n          )\n          (output): RobertaOutput(\n            (dense): Linear(in_features=3072, out_features=768, bias=True)\n            (LayerNorm): LayerNorm((768,), eps=1e-05, elementwise_affine=True)\n            (dropout): Dropout(p=0.1, inplace=False)\n          )\n        )\n        (9): RobertaLayer(\n          (attention): RobertaAttention(\n            (self): RobertaSelfAttention(\n              (query): Linear(in_features=768, out_features=768, bias=True)\n              (key): Linear(in_features=768, out_features=768, bias=True)\n              (value): Linear(in_features=768, out_features=768, bias=True)\n              (dropout): Dropout(p=0.1, inplace=False)\n            )\n            (output): RobertaSelfOutput(\n              (dense): Linear(in_features=768, out_features=768, bias=True)\n              (LayerNorm): LayerNorm((768,), eps=1e-05, elementwise_affine=True)\n              (dropout): Dropout(p=0.1, inplace=False)\n            )\n          )\n          (intermediate): RobertaIntermediate(\n            (dense): Linear(in_features=768, out_features=3072, bias=True)\n          )\n          (output): RobertaOutput(\n            (dense): Linear(in_features=3072, out_features=768, bias=True)\n            (LayerNorm): LayerNorm((768,), eps=1e-05, elementwise_affine=True)\n            (dropout): Dropout(p=0.1, inplace=False)\n          )\n        )\n        (10): RobertaLayer(\n          (attention): RobertaAttention(\n            (self): RobertaSelfAttention(\n              (query): Linear(in_features=768, out_features=768, bias=True)\n              (key): Linear(in_features=768, out_features=768, bias=True)\n              (value): Linear(in_features=768, out_features=768, bias=True)\n              (dropout): Dropout(p=0.1, inplace=False)\n            )\n            (output): RobertaSelfOutput(\n              (dense): Linear(in_features=768, out_features=768, bias=True)\n              (LayerNorm): LayerNorm((768,), eps=1e-05, elementwise_affine=True)\n              (dropout): Dropout(p=0.1, inplace=False)\n            )\n          )\n          (intermediate): RobertaIntermediate(\n            (dense): Linear(in_features=768, out_features=3072, bias=True)\n          )\n          (output): RobertaOutput(\n            (dense): Linear(in_features=3072, out_features=768, bias=True)\n            (LayerNorm): LayerNorm((768,), eps=1e-05, elementwise_affine=True)\n            (dropout): Dropout(p=0.1, inplace=False)\n          )\n        )\n        (11): RobertaLayer(\n          (attention): RobertaAttention(\n            (self): RobertaSelfAttention(\n              (query): Linear(in_features=768, out_features=768, bias=True)\n              (key): Linear(in_features=768, out_features=768, bias=True)\n              (value): Linear(in_features=768, out_features=768, bias=True)\n              (dropout): Dropout(p=0.1, inplace=False)\n            )\n            (output): RobertaSelfOutput(\n              (dense): Linear(in_features=768, out_features=768, bias=True)\n              (LayerNorm): LayerNorm((768,), eps=1e-05, elementwise_affine=True)\n              (dropout): Dropout(p=0.1, inplace=False)\n            )\n          )\n          (intermediate): RobertaIntermediate(\n            (dense): Linear(in_features=768, out_features=3072, bias=True)\n          )\n          (output): RobertaOutput(\n            (dense): Linear(in_features=3072, out_features=768, bias=True)\n            (LayerNorm): LayerNorm((768,), eps=1e-05, elementwise_affine=True)\n            (dropout): Dropout(p=0.1, inplace=False)\n          )\n        )\n      )\n    )\n  )\n  (classifier): RobertaClassificationHead(\n    (dense): Linear(in_features=768, out_features=768, bias=True)\n    (dropout): Dropout(p=0.1, inplace=False)\n    (out_proj): Linear(in_features=768, out_features=2, bias=True)\n  )\n))"
          ]
        }
      ]
    },
    {
      "cell_type": "code",
      "metadata": {
        "id": "3QfrxQpg_2cQ"
      },
      "source": [
        "learn.model"
      ],
      "execution_count": null,
      "outputs": []
    },
    {
      "cell_type": "code",
      "metadata": {
        "id": "kK_mFb6y_3Xf"
      },
      "source": [
        "# # loading the encoder from our fine-tuned language model.\n",
        "# learn = learn.load_encoder('finetuned')"
      ],
      "execution_count": null,
      "outputs": []
    },
    {
      "cell_type": "code",
      "metadata": {
        "id": "o2clmAXkAfTO"
      },
      "source": [
        "learn = learn.load('1epoch')"
      ],
      "execution_count": null,
      "outputs": []
    },
    {
      "cell_type": "code",
      "metadata": {
        "id": "ebrFyxgwAolE"
      },
      "source": [
        "learn.fit_one_cycle(1, 2e-2)"
      ],
      "execution_count": null,
      "outputs": []
    },
    {
      "cell_type": "code",
      "metadata": {
        "id": "dV25kzrvAwGH"
      },
      "source": [
        "# gradual unfreezing - unfreezing the last couple of layer groups\n",
        "learn.freeze_to(-2)\n",
        "# using discriminative learning rates\n",
        "learn.fit_one_cycle(1, slice(1e-2/(2.6**4),1e-2))"
      ],
      "execution_count": null,
      "outputs": []
    },
    {
      "cell_type": "code",
      "metadata": {
        "id": "wV0n01yTA1SZ"
      },
      "source": [
        "# gradual unfreezing - unfreezing the last three of layer groups\n",
        "learn.freeze_to(-3)\n",
        "# using discriminative learning rates\n",
        "learn.fit_one_cycle(1, slice(5e-3/(2.6**4),5e-3))"
      ],
      "execution_count": null,
      "outputs": []
    },
    {
      "cell_type": "code",
      "metadata": {
        "id": "_qRJrLEgA5ge"
      },
      "source": [
        "# unfreezing\n",
        "learn.unfreeze()\n",
        "# using discriminative learning rates\n",
        "learn.fit_one_cycle(2, slice(1e-3/(2.6**4),1e-3))"
      ],
      "execution_count": null,
      "outputs": []
    },
    {
      "cell_type": "markdown",
      "metadata": {
        "id": "DVYK1h7bA_1x"
      },
      "source": [
        "## Evaluate"
      ]
    },
    {
      "cell_type": "code",
      "metadata": {
        "id": "eWHE3irjBHWi"
      },
      "source": [
        "# amr predicting sentiment analysis\n",
        "learn.predict(\"Ce film est vraiment marrant\")\n",
        "#learn.predict(\"Ce film est un navet\")"
      ],
      "execution_count": null,
      "outputs": []
    },
    {
      "cell_type": "code",
      "metadata": {
        "id": "Ad617AZxBcbw"
      },
      "source": [
        "from fastai.interpret import *\n",
        "#interp = Interpretation.from_learner(learn)\n",
        "interp = ClassificationInterpretation.from_learner(learn)"
      ],
      "execution_count": null,
      "outputs": []
    },
    {
      "cell_type": "code",
      "metadata": {
        "id": "1ADLgDfoBfdM"
      },
      "source": [
        "interp.plot_confusion_matrix()"
      ],
      "execution_count": null,
      "outputs": []
    },
    {
      "cell_type": "code",
      "metadata": {
        "id": "VyYGd_7yBi6e"
      },
      "source": [
        "interp.plot_top_losses(9, figsize=(15,11))"
      ],
      "execution_count": null,
      "outputs": []
    }
  ]
}
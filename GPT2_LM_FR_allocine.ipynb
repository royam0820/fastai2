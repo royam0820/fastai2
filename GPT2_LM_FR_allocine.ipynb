{
  "nbformat": 4,
  "nbformat_minor": 0,
  "metadata": {
    "colab": {
      "name": "GPT2_LM_FR_allocine.ipynb",
      "provenance": [],
      "collapsed_sections": [],
      "toc_visible": true,
      "mount_file_id": "1yJswghiMf5LHUKaiQWylHqkhS-tplN30",
      "authorship_tag": "ABX9TyNw6ptLFVugRRIvK1Djqjw0",
      "include_colab_link": true
    },
    "kernelspec": {
      "name": "python3",
      "display_name": "Python 3"
    },
    "language_info": {
      "name": "python"
    },
    "accelerator": "GPU",
    "widgets": {
      "application/vnd.jupyter.widget-state+json": {
        "bec3304956da4d3db8221c1e3d54fa77": {
          "model_module": "@jupyter-widgets/controls",
          "model_name": "HBoxModel",
          "state": {
            "_view_name": "HBoxView",
            "_dom_classes": [],
            "_model_name": "HBoxModel",
            "_view_module": "@jupyter-widgets/controls",
            "_model_module_version": "1.5.0",
            "_view_count": null,
            "_view_module_version": "1.5.0",
            "box_style": "",
            "layout": "IPY_MODEL_1462f1abf5dd461e9258d2af29a6c935",
            "_model_module": "@jupyter-widgets/controls",
            "children": [
              "IPY_MODEL_202946a58e19420e8a049c612e6efaeb",
              "IPY_MODEL_7df56c925512480f850df915637c542f"
            ]
          }
        },
        "1462f1abf5dd461e9258d2af29a6c935": {
          "model_module": "@jupyter-widgets/base",
          "model_name": "LayoutModel",
          "state": {
            "_view_name": "LayoutView",
            "grid_template_rows": null,
            "right": null,
            "justify_content": null,
            "_view_module": "@jupyter-widgets/base",
            "overflow": null,
            "_model_module_version": "1.2.0",
            "_view_count": null,
            "flex_flow": null,
            "width": null,
            "min_width": null,
            "border": null,
            "align_items": null,
            "bottom": null,
            "_model_module": "@jupyter-widgets/base",
            "top": null,
            "grid_column": null,
            "overflow_y": null,
            "overflow_x": null,
            "grid_auto_flow": null,
            "grid_area": null,
            "grid_template_columns": null,
            "flex": null,
            "_model_name": "LayoutModel",
            "justify_items": null,
            "grid_row": null,
            "max_height": null,
            "align_content": null,
            "visibility": null,
            "align_self": null,
            "height": null,
            "min_height": null,
            "padding": null,
            "grid_auto_rows": null,
            "grid_gap": null,
            "max_width": null,
            "order": null,
            "_view_module_version": "1.2.0",
            "grid_template_areas": null,
            "object_position": null,
            "object_fit": null,
            "grid_auto_columns": null,
            "margin": null,
            "display": null,
            "left": null
          }
        },
        "202946a58e19420e8a049c612e6efaeb": {
          "model_module": "@jupyter-widgets/controls",
          "model_name": "FloatProgressModel",
          "state": {
            "_view_name": "ProgressView",
            "style": "IPY_MODEL_9c98790d64bf4f32ad3d2c3e175fe620",
            "_dom_classes": [],
            "description": "Downloading: 100%",
            "_model_name": "FloatProgressModel",
            "bar_style": "success",
            "max": 1307,
            "_view_module": "@jupyter-widgets/controls",
            "_model_module_version": "1.5.0",
            "value": 1307,
            "_view_count": null,
            "_view_module_version": "1.5.0",
            "orientation": "horizontal",
            "min": 0,
            "description_tooltip": null,
            "_model_module": "@jupyter-widgets/controls",
            "layout": "IPY_MODEL_076312c865dc4ba9897d14bc7c8afcd4"
          }
        },
        "7df56c925512480f850df915637c542f": {
          "model_module": "@jupyter-widgets/controls",
          "model_name": "HTMLModel",
          "state": {
            "_view_name": "HTMLView",
            "style": "IPY_MODEL_3807b497fc6b4b04844b250b34877552",
            "_dom_classes": [],
            "description": "",
            "_model_name": "HTMLModel",
            "placeholder": "​",
            "_view_module": "@jupyter-widgets/controls",
            "_model_module_version": "1.5.0",
            "value": " 1.31k/1.31k [00:00&lt;00:00, 4.17kB/s]",
            "_view_count": null,
            "_view_module_version": "1.5.0",
            "description_tooltip": null,
            "_model_module": "@jupyter-widgets/controls",
            "layout": "IPY_MODEL_5caab58fc9ab439581ee992085840b6f"
          }
        },
        "9c98790d64bf4f32ad3d2c3e175fe620": {
          "model_module": "@jupyter-widgets/controls",
          "model_name": "ProgressStyleModel",
          "state": {
            "_view_name": "StyleView",
            "_model_name": "ProgressStyleModel",
            "description_width": "initial",
            "_view_module": "@jupyter-widgets/base",
            "_model_module_version": "1.5.0",
            "_view_count": null,
            "_view_module_version": "1.2.0",
            "bar_color": null,
            "_model_module": "@jupyter-widgets/controls"
          }
        },
        "076312c865dc4ba9897d14bc7c8afcd4": {
          "model_module": "@jupyter-widgets/base",
          "model_name": "LayoutModel",
          "state": {
            "_view_name": "LayoutView",
            "grid_template_rows": null,
            "right": null,
            "justify_content": null,
            "_view_module": "@jupyter-widgets/base",
            "overflow": null,
            "_model_module_version": "1.2.0",
            "_view_count": null,
            "flex_flow": null,
            "width": null,
            "min_width": null,
            "border": null,
            "align_items": null,
            "bottom": null,
            "_model_module": "@jupyter-widgets/base",
            "top": null,
            "grid_column": null,
            "overflow_y": null,
            "overflow_x": null,
            "grid_auto_flow": null,
            "grid_area": null,
            "grid_template_columns": null,
            "flex": null,
            "_model_name": "LayoutModel",
            "justify_items": null,
            "grid_row": null,
            "max_height": null,
            "align_content": null,
            "visibility": null,
            "align_self": null,
            "height": null,
            "min_height": null,
            "padding": null,
            "grid_auto_rows": null,
            "grid_gap": null,
            "max_width": null,
            "order": null,
            "_view_module_version": "1.2.0",
            "grid_template_areas": null,
            "object_position": null,
            "object_fit": null,
            "grid_auto_columns": null,
            "margin": null,
            "display": null,
            "left": null
          }
        },
        "3807b497fc6b4b04844b250b34877552": {
          "model_module": "@jupyter-widgets/controls",
          "model_name": "DescriptionStyleModel",
          "state": {
            "_view_name": "StyleView",
            "_model_name": "DescriptionStyleModel",
            "description_width": "",
            "_view_module": "@jupyter-widgets/base",
            "_model_module_version": "1.5.0",
            "_view_count": null,
            "_view_module_version": "1.2.0",
            "_model_module": "@jupyter-widgets/controls"
          }
        },
        "5caab58fc9ab439581ee992085840b6f": {
          "model_module": "@jupyter-widgets/base",
          "model_name": "LayoutModel",
          "state": {
            "_view_name": "LayoutView",
            "grid_template_rows": null,
            "right": null,
            "justify_content": null,
            "_view_module": "@jupyter-widgets/base",
            "overflow": null,
            "_model_module_version": "1.2.0",
            "_view_count": null,
            "flex_flow": null,
            "width": null,
            "min_width": null,
            "border": null,
            "align_items": null,
            "bottom": null,
            "_model_module": "@jupyter-widgets/base",
            "top": null,
            "grid_column": null,
            "overflow_y": null,
            "overflow_x": null,
            "grid_auto_flow": null,
            "grid_area": null,
            "grid_template_columns": null,
            "flex": null,
            "_model_name": "LayoutModel",
            "justify_items": null,
            "grid_row": null,
            "max_height": null,
            "align_content": null,
            "visibility": null,
            "align_self": null,
            "height": null,
            "min_height": null,
            "padding": null,
            "grid_auto_rows": null,
            "grid_gap": null,
            "max_width": null,
            "order": null,
            "_view_module_version": "1.2.0",
            "grid_template_areas": null,
            "object_position": null,
            "object_fit": null,
            "grid_auto_columns": null,
            "margin": null,
            "display": null,
            "left": null
          }
        },
        "6ed2e3849201401aa82e534d7afb326b": {
          "model_module": "@jupyter-widgets/controls",
          "model_name": "HBoxModel",
          "state": {
            "_view_name": "HBoxView",
            "_dom_classes": [],
            "_model_name": "HBoxModel",
            "_view_module": "@jupyter-widgets/controls",
            "_model_module_version": "1.5.0",
            "_view_count": null,
            "_view_module_version": "1.5.0",
            "box_style": "",
            "layout": "IPY_MODEL_609c1b8fcdff4ef89dd5c3db7e09dd9b",
            "_model_module": "@jupyter-widgets/controls",
            "children": [
              "IPY_MODEL_b80fd4489a5049558d33052e67793fac",
              "IPY_MODEL_5d89f597073b4742a5451e504b2194a7"
            ]
          }
        },
        "609c1b8fcdff4ef89dd5c3db7e09dd9b": {
          "model_module": "@jupyter-widgets/base",
          "model_name": "LayoutModel",
          "state": {
            "_view_name": "LayoutView",
            "grid_template_rows": null,
            "right": null,
            "justify_content": null,
            "_view_module": "@jupyter-widgets/base",
            "overflow": null,
            "_model_module_version": "1.2.0",
            "_view_count": null,
            "flex_flow": null,
            "width": null,
            "min_width": null,
            "border": null,
            "align_items": null,
            "bottom": null,
            "_model_module": "@jupyter-widgets/base",
            "top": null,
            "grid_column": null,
            "overflow_y": null,
            "overflow_x": null,
            "grid_auto_flow": null,
            "grid_area": null,
            "grid_template_columns": null,
            "flex": null,
            "_model_name": "LayoutModel",
            "justify_items": null,
            "grid_row": null,
            "max_height": null,
            "align_content": null,
            "visibility": null,
            "align_self": null,
            "height": null,
            "min_height": null,
            "padding": null,
            "grid_auto_rows": null,
            "grid_gap": null,
            "max_width": null,
            "order": null,
            "_view_module_version": "1.2.0",
            "grid_template_areas": null,
            "object_position": null,
            "object_fit": null,
            "grid_auto_columns": null,
            "margin": null,
            "display": null,
            "left": null
          }
        },
        "b80fd4489a5049558d33052e67793fac": {
          "model_module": "@jupyter-widgets/controls",
          "model_name": "FloatProgressModel",
          "state": {
            "_view_name": "ProgressView",
            "style": "IPY_MODEL_2068472f9d7a4fc79d0fff8334fdc20b",
            "_dom_classes": [],
            "description": "Downloading: 100%",
            "_model_name": "FloatProgressModel",
            "bar_style": "success",
            "max": 548125486,
            "_view_module": "@jupyter-widgets/controls",
            "_model_module_version": "1.5.0",
            "value": 548125486,
            "_view_count": null,
            "_view_module_version": "1.5.0",
            "orientation": "horizontal",
            "min": 0,
            "description_tooltip": null,
            "_model_module": "@jupyter-widgets/controls",
            "layout": "IPY_MODEL_f88b42b75eca42d985fde1ccd916a63c"
          }
        },
        "5d89f597073b4742a5451e504b2194a7": {
          "model_module": "@jupyter-widgets/controls",
          "model_name": "HTMLModel",
          "state": {
            "_view_name": "HTMLView",
            "style": "IPY_MODEL_89bafd780990474e9c6f06f5dd248852",
            "_dom_classes": [],
            "description": "",
            "_model_name": "HTMLModel",
            "placeholder": "​",
            "_view_module": "@jupyter-widgets/controls",
            "_model_module_version": "1.5.0",
            "value": " 548M/548M [00:17&lt;00:00, 31.0MB/s]",
            "_view_count": null,
            "_view_module_version": "1.5.0",
            "description_tooltip": null,
            "_model_module": "@jupyter-widgets/controls",
            "layout": "IPY_MODEL_74172455942044578afa0eafc6b7168c"
          }
        },
        "2068472f9d7a4fc79d0fff8334fdc20b": {
          "model_module": "@jupyter-widgets/controls",
          "model_name": "ProgressStyleModel",
          "state": {
            "_view_name": "StyleView",
            "_model_name": "ProgressStyleModel",
            "description_width": "initial",
            "_view_module": "@jupyter-widgets/base",
            "_model_module_version": "1.5.0",
            "_view_count": null,
            "_view_module_version": "1.2.0",
            "bar_color": null,
            "_model_module": "@jupyter-widgets/controls"
          }
        },
        "f88b42b75eca42d985fde1ccd916a63c": {
          "model_module": "@jupyter-widgets/base",
          "model_name": "LayoutModel",
          "state": {
            "_view_name": "LayoutView",
            "grid_template_rows": null,
            "right": null,
            "justify_content": null,
            "_view_module": "@jupyter-widgets/base",
            "overflow": null,
            "_model_module_version": "1.2.0",
            "_view_count": null,
            "flex_flow": null,
            "width": null,
            "min_width": null,
            "border": null,
            "align_items": null,
            "bottom": null,
            "_model_module": "@jupyter-widgets/base",
            "top": null,
            "grid_column": null,
            "overflow_y": null,
            "overflow_x": null,
            "grid_auto_flow": null,
            "grid_area": null,
            "grid_template_columns": null,
            "flex": null,
            "_model_name": "LayoutModel",
            "justify_items": null,
            "grid_row": null,
            "max_height": null,
            "align_content": null,
            "visibility": null,
            "align_self": null,
            "height": null,
            "min_height": null,
            "padding": null,
            "grid_auto_rows": null,
            "grid_gap": null,
            "max_width": null,
            "order": null,
            "_view_module_version": "1.2.0",
            "grid_template_areas": null,
            "object_position": null,
            "object_fit": null,
            "grid_auto_columns": null,
            "margin": null,
            "display": null,
            "left": null
          }
        },
        "89bafd780990474e9c6f06f5dd248852": {
          "model_module": "@jupyter-widgets/controls",
          "model_name": "DescriptionStyleModel",
          "state": {
            "_view_name": "StyleView",
            "_model_name": "DescriptionStyleModel",
            "description_width": "",
            "_view_module": "@jupyter-widgets/base",
            "_model_module_version": "1.5.0",
            "_view_count": null,
            "_view_module_version": "1.2.0",
            "_model_module": "@jupyter-widgets/controls"
          }
        },
        "74172455942044578afa0eafc6b7168c": {
          "model_module": "@jupyter-widgets/base",
          "model_name": "LayoutModel",
          "state": {
            "_view_name": "LayoutView",
            "grid_template_rows": null,
            "right": null,
            "justify_content": null,
            "_view_module": "@jupyter-widgets/base",
            "overflow": null,
            "_model_module_version": "1.2.0",
            "_view_count": null,
            "flex_flow": null,
            "width": null,
            "min_width": null,
            "border": null,
            "align_items": null,
            "bottom": null,
            "_model_module": "@jupyter-widgets/base",
            "top": null,
            "grid_column": null,
            "overflow_y": null,
            "overflow_x": null,
            "grid_auto_flow": null,
            "grid_area": null,
            "grid_template_columns": null,
            "flex": null,
            "_model_name": "LayoutModel",
            "justify_items": null,
            "grid_row": null,
            "max_height": null,
            "align_content": null,
            "visibility": null,
            "align_self": null,
            "height": null,
            "min_height": null,
            "padding": null,
            "grid_auto_rows": null,
            "grid_gap": null,
            "max_width": null,
            "order": null,
            "_view_module_version": "1.2.0",
            "grid_template_areas": null,
            "object_position": null,
            "object_fit": null,
            "grid_auto_columns": null,
            "margin": null,
            "display": null,
            "left": null
          }
        },
        "c1d6499d7fea469b94c133a72d02af3a": {
          "model_module": "@jupyter-widgets/controls",
          "model_name": "HBoxModel",
          "state": {
            "_view_name": "HBoxView",
            "_dom_classes": [],
            "_model_name": "HBoxModel",
            "_view_module": "@jupyter-widgets/controls",
            "_model_module_version": "1.5.0",
            "_view_count": null,
            "_view_module_version": "1.5.0",
            "box_style": "",
            "layout": "IPY_MODEL_98dafb7c1afb4297801a2e8d83d01091",
            "_model_module": "@jupyter-widgets/controls",
            "children": [
              "IPY_MODEL_c7ff5ef3c6094d8c87a039d3d6b16363",
              "IPY_MODEL_15b74e1193bd45e481c5b44e588580d6"
            ]
          }
        },
        "98dafb7c1afb4297801a2e8d83d01091": {
          "model_module": "@jupyter-widgets/base",
          "model_name": "LayoutModel",
          "state": {
            "_view_name": "LayoutView",
            "grid_template_rows": null,
            "right": null,
            "justify_content": null,
            "_view_module": "@jupyter-widgets/base",
            "overflow": null,
            "_model_module_version": "1.2.0",
            "_view_count": null,
            "flex_flow": null,
            "width": null,
            "min_width": null,
            "border": null,
            "align_items": null,
            "bottom": null,
            "_model_module": "@jupyter-widgets/base",
            "top": null,
            "grid_column": null,
            "overflow_y": null,
            "overflow_x": null,
            "grid_auto_flow": null,
            "grid_area": null,
            "grid_template_columns": null,
            "flex": null,
            "_model_name": "LayoutModel",
            "justify_items": null,
            "grid_row": null,
            "max_height": null,
            "align_content": null,
            "visibility": null,
            "align_self": null,
            "height": null,
            "min_height": null,
            "padding": null,
            "grid_auto_rows": null,
            "grid_gap": null,
            "max_width": null,
            "order": null,
            "_view_module_version": "1.2.0",
            "grid_template_areas": null,
            "object_position": null,
            "object_fit": null,
            "grid_auto_columns": null,
            "margin": null,
            "display": null,
            "left": null
          }
        },
        "c7ff5ef3c6094d8c87a039d3d6b16363": {
          "model_module": "@jupyter-widgets/controls",
          "model_name": "FloatProgressModel",
          "state": {
            "_view_name": "ProgressView",
            "style": "IPY_MODEL_f96999c553cd41dda847caa3b14ca3e1",
            "_dom_classes": [],
            "description": "Downloading: 100%",
            "_model_name": "FloatProgressModel",
            "bar_style": "success",
            "max": 973672,
            "_view_module": "@jupyter-widgets/controls",
            "_model_module_version": "1.5.0",
            "value": 973672,
            "_view_count": null,
            "_view_module_version": "1.5.0",
            "orientation": "horizontal",
            "min": 0,
            "description_tooltip": null,
            "_model_module": "@jupyter-widgets/controls",
            "layout": "IPY_MODEL_ad7419728f974f81b913d35bc41a7640"
          }
        },
        "15b74e1193bd45e481c5b44e588580d6": {
          "model_module": "@jupyter-widgets/controls",
          "model_name": "HTMLModel",
          "state": {
            "_view_name": "HTMLView",
            "style": "IPY_MODEL_a569f5fde4da4ebebeac16115135364c",
            "_dom_classes": [],
            "description": "",
            "_model_name": "HTMLModel",
            "placeholder": "​",
            "_view_module": "@jupyter-widgets/controls",
            "_model_module_version": "1.5.0",
            "value": " 974k/974k [00:01&lt;00:00, 946kB/s]",
            "_view_count": null,
            "_view_module_version": "1.5.0",
            "description_tooltip": null,
            "_model_module": "@jupyter-widgets/controls",
            "layout": "IPY_MODEL_22656697f7e34ce59b07e747e9f49ac8"
          }
        },
        "f96999c553cd41dda847caa3b14ca3e1": {
          "model_module": "@jupyter-widgets/controls",
          "model_name": "ProgressStyleModel",
          "state": {
            "_view_name": "StyleView",
            "_model_name": "ProgressStyleModel",
            "description_width": "initial",
            "_view_module": "@jupyter-widgets/base",
            "_model_module_version": "1.5.0",
            "_view_count": null,
            "_view_module_version": "1.2.0",
            "bar_color": null,
            "_model_module": "@jupyter-widgets/controls"
          }
        },
        "ad7419728f974f81b913d35bc41a7640": {
          "model_module": "@jupyter-widgets/base",
          "model_name": "LayoutModel",
          "state": {
            "_view_name": "LayoutView",
            "grid_template_rows": null,
            "right": null,
            "justify_content": null,
            "_view_module": "@jupyter-widgets/base",
            "overflow": null,
            "_model_module_version": "1.2.0",
            "_view_count": null,
            "flex_flow": null,
            "width": null,
            "min_width": null,
            "border": null,
            "align_items": null,
            "bottom": null,
            "_model_module": "@jupyter-widgets/base",
            "top": null,
            "grid_column": null,
            "overflow_y": null,
            "overflow_x": null,
            "grid_auto_flow": null,
            "grid_area": null,
            "grid_template_columns": null,
            "flex": null,
            "_model_name": "LayoutModel",
            "justify_items": null,
            "grid_row": null,
            "max_height": null,
            "align_content": null,
            "visibility": null,
            "align_self": null,
            "height": null,
            "min_height": null,
            "padding": null,
            "grid_auto_rows": null,
            "grid_gap": null,
            "max_width": null,
            "order": null,
            "_view_module_version": "1.2.0",
            "grid_template_areas": null,
            "object_position": null,
            "object_fit": null,
            "grid_auto_columns": null,
            "margin": null,
            "display": null,
            "left": null
          }
        },
        "a569f5fde4da4ebebeac16115135364c": {
          "model_module": "@jupyter-widgets/controls",
          "model_name": "DescriptionStyleModel",
          "state": {
            "_view_name": "StyleView",
            "_model_name": "DescriptionStyleModel",
            "description_width": "",
            "_view_module": "@jupyter-widgets/base",
            "_model_module_version": "1.5.0",
            "_view_count": null,
            "_view_module_version": "1.2.0",
            "_model_module": "@jupyter-widgets/controls"
          }
        },
        "22656697f7e34ce59b07e747e9f49ac8": {
          "model_module": "@jupyter-widgets/base",
          "model_name": "LayoutModel",
          "state": {
            "_view_name": "LayoutView",
            "grid_template_rows": null,
            "right": null,
            "justify_content": null,
            "_view_module": "@jupyter-widgets/base",
            "overflow": null,
            "_model_module_version": "1.2.0",
            "_view_count": null,
            "flex_flow": null,
            "width": null,
            "min_width": null,
            "border": null,
            "align_items": null,
            "bottom": null,
            "_model_module": "@jupyter-widgets/base",
            "top": null,
            "grid_column": null,
            "overflow_y": null,
            "overflow_x": null,
            "grid_auto_flow": null,
            "grid_area": null,
            "grid_template_columns": null,
            "flex": null,
            "_model_name": "LayoutModel",
            "justify_items": null,
            "grid_row": null,
            "max_height": null,
            "align_content": null,
            "visibility": null,
            "align_self": null,
            "height": null,
            "min_height": null,
            "padding": null,
            "grid_auto_rows": null,
            "grid_gap": null,
            "max_width": null,
            "order": null,
            "_view_module_version": "1.2.0",
            "grid_template_areas": null,
            "object_position": null,
            "object_fit": null,
            "grid_auto_columns": null,
            "margin": null,
            "display": null,
            "left": null
          }
        },
        "3527d5242d5e43d5b6418b3ae44da79a": {
          "model_module": "@jupyter-widgets/controls",
          "model_name": "HBoxModel",
          "state": {
            "_view_name": "HBoxView",
            "_dom_classes": [],
            "_model_name": "HBoxModel",
            "_view_module": "@jupyter-widgets/controls",
            "_model_module_version": "1.5.0",
            "_view_count": null,
            "_view_module_version": "1.5.0",
            "box_style": "",
            "layout": "IPY_MODEL_b45a8ffb75fb4f0a9220fe10a010afb0",
            "_model_module": "@jupyter-widgets/controls",
            "children": [
              "IPY_MODEL_9e132c78f1e94d8e91f0b0fd621cd524",
              "IPY_MODEL_7c53185623aa41cdb91f84fca802147f"
            ]
          }
        },
        "b45a8ffb75fb4f0a9220fe10a010afb0": {
          "model_module": "@jupyter-widgets/base",
          "model_name": "LayoutModel",
          "state": {
            "_view_name": "LayoutView",
            "grid_template_rows": null,
            "right": null,
            "justify_content": null,
            "_view_module": "@jupyter-widgets/base",
            "overflow": null,
            "_model_module_version": "1.2.0",
            "_view_count": null,
            "flex_flow": null,
            "width": null,
            "min_width": null,
            "border": null,
            "align_items": null,
            "bottom": null,
            "_model_module": "@jupyter-widgets/base",
            "top": null,
            "grid_column": null,
            "overflow_y": null,
            "overflow_x": null,
            "grid_auto_flow": null,
            "grid_area": null,
            "grid_template_columns": null,
            "flex": null,
            "_model_name": "LayoutModel",
            "justify_items": null,
            "grid_row": null,
            "max_height": null,
            "align_content": null,
            "visibility": null,
            "align_self": null,
            "height": null,
            "min_height": null,
            "padding": null,
            "grid_auto_rows": null,
            "grid_gap": null,
            "max_width": null,
            "order": null,
            "_view_module_version": "1.2.0",
            "grid_template_areas": null,
            "object_position": null,
            "object_fit": null,
            "grid_auto_columns": null,
            "margin": null,
            "display": null,
            "left": null
          }
        },
        "9e132c78f1e94d8e91f0b0fd621cd524": {
          "model_module": "@jupyter-widgets/controls",
          "model_name": "FloatProgressModel",
          "state": {
            "_view_name": "ProgressView",
            "style": "IPY_MODEL_43db21bbe4d7496fa600369adcc8a7e7",
            "_dom_classes": [],
            "description": "Downloading: 100%",
            "_model_name": "FloatProgressModel",
            "bar_style": "success",
            "max": 531531,
            "_view_module": "@jupyter-widgets/controls",
            "_model_module_version": "1.5.0",
            "value": 531531,
            "_view_count": null,
            "_view_module_version": "1.5.0",
            "orientation": "horizontal",
            "min": 0,
            "description_tooltip": null,
            "_model_module": "@jupyter-widgets/controls",
            "layout": "IPY_MODEL_8f915ed07bc445ca9fe71cbf58193b05"
          }
        },
        "7c53185623aa41cdb91f84fca802147f": {
          "model_module": "@jupyter-widgets/controls",
          "model_name": "HTMLModel",
          "state": {
            "_view_name": "HTMLView",
            "style": "IPY_MODEL_5ca13abbb3f34c378e4bcce13a285690",
            "_dom_classes": [],
            "description": "",
            "_model_name": "HTMLModel",
            "placeholder": "​",
            "_view_module": "@jupyter-widgets/controls",
            "_model_module_version": "1.5.0",
            "value": " 532k/532k [00:02&lt;00:00, 253kB/s]",
            "_view_count": null,
            "_view_module_version": "1.5.0",
            "description_tooltip": null,
            "_model_module": "@jupyter-widgets/controls",
            "layout": "IPY_MODEL_4eacaf62aac648f1829119771600fd37"
          }
        },
        "43db21bbe4d7496fa600369adcc8a7e7": {
          "model_module": "@jupyter-widgets/controls",
          "model_name": "ProgressStyleModel",
          "state": {
            "_view_name": "StyleView",
            "_model_name": "ProgressStyleModel",
            "description_width": "initial",
            "_view_module": "@jupyter-widgets/base",
            "_model_module_version": "1.5.0",
            "_view_count": null,
            "_view_module_version": "1.2.0",
            "bar_color": null,
            "_model_module": "@jupyter-widgets/controls"
          }
        },
        "8f915ed07bc445ca9fe71cbf58193b05": {
          "model_module": "@jupyter-widgets/base",
          "model_name": "LayoutModel",
          "state": {
            "_view_name": "LayoutView",
            "grid_template_rows": null,
            "right": null,
            "justify_content": null,
            "_view_module": "@jupyter-widgets/base",
            "overflow": null,
            "_model_module_version": "1.2.0",
            "_view_count": null,
            "flex_flow": null,
            "width": null,
            "min_width": null,
            "border": null,
            "align_items": null,
            "bottom": null,
            "_model_module": "@jupyter-widgets/base",
            "top": null,
            "grid_column": null,
            "overflow_y": null,
            "overflow_x": null,
            "grid_auto_flow": null,
            "grid_area": null,
            "grid_template_columns": null,
            "flex": null,
            "_model_name": "LayoutModel",
            "justify_items": null,
            "grid_row": null,
            "max_height": null,
            "align_content": null,
            "visibility": null,
            "align_self": null,
            "height": null,
            "min_height": null,
            "padding": null,
            "grid_auto_rows": null,
            "grid_gap": null,
            "max_width": null,
            "order": null,
            "_view_module_version": "1.2.0",
            "grid_template_areas": null,
            "object_position": null,
            "object_fit": null,
            "grid_auto_columns": null,
            "margin": null,
            "display": null,
            "left": null
          }
        },
        "5ca13abbb3f34c378e4bcce13a285690": {
          "model_module": "@jupyter-widgets/controls",
          "model_name": "DescriptionStyleModel",
          "state": {
            "_view_name": "StyleView",
            "_model_name": "DescriptionStyleModel",
            "description_width": "",
            "_view_module": "@jupyter-widgets/base",
            "_model_module_version": "1.5.0",
            "_view_count": null,
            "_view_module_version": "1.2.0",
            "_model_module": "@jupyter-widgets/controls"
          }
        },
        "4eacaf62aac648f1829119771600fd37": {
          "model_module": "@jupyter-widgets/base",
          "model_name": "LayoutModel",
          "state": {
            "_view_name": "LayoutView",
            "grid_template_rows": null,
            "right": null,
            "justify_content": null,
            "_view_module": "@jupyter-widgets/base",
            "overflow": null,
            "_model_module_version": "1.2.0",
            "_view_count": null,
            "flex_flow": null,
            "width": null,
            "min_width": null,
            "border": null,
            "align_items": null,
            "bottom": null,
            "_model_module": "@jupyter-widgets/base",
            "top": null,
            "grid_column": null,
            "overflow_y": null,
            "overflow_x": null,
            "grid_auto_flow": null,
            "grid_area": null,
            "grid_template_columns": null,
            "flex": null,
            "_model_name": "LayoutModel",
            "justify_items": null,
            "grid_row": null,
            "max_height": null,
            "align_content": null,
            "visibility": null,
            "align_self": null,
            "height": null,
            "min_height": null,
            "padding": null,
            "grid_auto_rows": null,
            "grid_gap": null,
            "max_width": null,
            "order": null,
            "_view_module_version": "1.2.0",
            "grid_template_areas": null,
            "object_position": null,
            "object_fit": null,
            "grid_auto_columns": null,
            "margin": null,
            "display": null,
            "left": null
          }
        },
        "c86e7aa87fe24a7286eadb6ed8b68abc": {
          "model_module": "@jupyter-widgets/controls",
          "model_name": "HBoxModel",
          "state": {
            "_view_name": "HBoxView",
            "_dom_classes": [],
            "_model_name": "HBoxModel",
            "_view_module": "@jupyter-widgets/controls",
            "_model_module_version": "1.5.0",
            "_view_count": null,
            "_view_module_version": "1.5.0",
            "box_style": "",
            "layout": "IPY_MODEL_fd8083ce3f74483ca4085f2fb022993b",
            "_model_module": "@jupyter-widgets/controls",
            "children": [
              "IPY_MODEL_cffcd4be718a4ef7974989976f79926d",
              "IPY_MODEL_1ce2bd97c81442a79dae9d8742812a87"
            ]
          }
        },
        "fd8083ce3f74483ca4085f2fb022993b": {
          "model_module": "@jupyter-widgets/base",
          "model_name": "LayoutModel",
          "state": {
            "_view_name": "LayoutView",
            "grid_template_rows": null,
            "right": null,
            "justify_content": null,
            "_view_module": "@jupyter-widgets/base",
            "overflow": null,
            "_model_module_version": "1.2.0",
            "_view_count": null,
            "flex_flow": null,
            "width": null,
            "min_width": null,
            "border": null,
            "align_items": null,
            "bottom": null,
            "_model_module": "@jupyter-widgets/base",
            "top": null,
            "grid_column": null,
            "overflow_y": null,
            "overflow_x": null,
            "grid_auto_flow": null,
            "grid_area": null,
            "grid_template_columns": null,
            "flex": null,
            "_model_name": "LayoutModel",
            "justify_items": null,
            "grid_row": null,
            "max_height": null,
            "align_content": null,
            "visibility": null,
            "align_self": null,
            "height": null,
            "min_height": null,
            "padding": null,
            "grid_auto_rows": null,
            "grid_gap": null,
            "max_width": null,
            "order": null,
            "_view_module_version": "1.2.0",
            "grid_template_areas": null,
            "object_position": null,
            "object_fit": null,
            "grid_auto_columns": null,
            "margin": null,
            "display": null,
            "left": null
          }
        },
        "cffcd4be718a4ef7974989976f79926d": {
          "model_module": "@jupyter-widgets/controls",
          "model_name": "FloatProgressModel",
          "state": {
            "_view_name": "ProgressView",
            "style": "IPY_MODEL_e315b3e98fd34c64bf04e7c919512d76",
            "_dom_classes": [],
            "description": "Downloading: 100%",
            "_model_name": "FloatProgressModel",
            "bar_style": "success",
            "max": 90,
            "_view_module": "@jupyter-widgets/controls",
            "_model_module_version": "1.5.0",
            "value": 90,
            "_view_count": null,
            "_view_module_version": "1.5.0",
            "orientation": "horizontal",
            "min": 0,
            "description_tooltip": null,
            "_model_module": "@jupyter-widgets/controls",
            "layout": "IPY_MODEL_253729782fee4da49b35726822bbdd79"
          }
        },
        "1ce2bd97c81442a79dae9d8742812a87": {
          "model_module": "@jupyter-widgets/controls",
          "model_name": "HTMLModel",
          "state": {
            "_view_name": "HTMLView",
            "style": "IPY_MODEL_9f6aa1dd1a7e4df7ac29472c5df4f2b2",
            "_dom_classes": [],
            "description": "",
            "_model_name": "HTMLModel",
            "placeholder": "​",
            "_view_module": "@jupyter-widgets/controls",
            "_model_module_version": "1.5.0",
            "value": " 90.0/90.0 [00:00&lt;00:00, 98.3B/s]",
            "_view_count": null,
            "_view_module_version": "1.5.0",
            "description_tooltip": null,
            "_model_module": "@jupyter-widgets/controls",
            "layout": "IPY_MODEL_cf56675d67c04bcf9490fd36144c253b"
          }
        },
        "e315b3e98fd34c64bf04e7c919512d76": {
          "model_module": "@jupyter-widgets/controls",
          "model_name": "ProgressStyleModel",
          "state": {
            "_view_name": "StyleView",
            "_model_name": "ProgressStyleModel",
            "description_width": "initial",
            "_view_module": "@jupyter-widgets/base",
            "_model_module_version": "1.5.0",
            "_view_count": null,
            "_view_module_version": "1.2.0",
            "bar_color": null,
            "_model_module": "@jupyter-widgets/controls"
          }
        },
        "253729782fee4da49b35726822bbdd79": {
          "model_module": "@jupyter-widgets/base",
          "model_name": "LayoutModel",
          "state": {
            "_view_name": "LayoutView",
            "grid_template_rows": null,
            "right": null,
            "justify_content": null,
            "_view_module": "@jupyter-widgets/base",
            "overflow": null,
            "_model_module_version": "1.2.0",
            "_view_count": null,
            "flex_flow": null,
            "width": null,
            "min_width": null,
            "border": null,
            "align_items": null,
            "bottom": null,
            "_model_module": "@jupyter-widgets/base",
            "top": null,
            "grid_column": null,
            "overflow_y": null,
            "overflow_x": null,
            "grid_auto_flow": null,
            "grid_area": null,
            "grid_template_columns": null,
            "flex": null,
            "_model_name": "LayoutModel",
            "justify_items": null,
            "grid_row": null,
            "max_height": null,
            "align_content": null,
            "visibility": null,
            "align_self": null,
            "height": null,
            "min_height": null,
            "padding": null,
            "grid_auto_rows": null,
            "grid_gap": null,
            "max_width": null,
            "order": null,
            "_view_module_version": "1.2.0",
            "grid_template_areas": null,
            "object_position": null,
            "object_fit": null,
            "grid_auto_columns": null,
            "margin": null,
            "display": null,
            "left": null
          }
        },
        "9f6aa1dd1a7e4df7ac29472c5df4f2b2": {
          "model_module": "@jupyter-widgets/controls",
          "model_name": "DescriptionStyleModel",
          "state": {
            "_view_name": "StyleView",
            "_model_name": "DescriptionStyleModel",
            "description_width": "",
            "_view_module": "@jupyter-widgets/base",
            "_model_module_version": "1.5.0",
            "_view_count": null,
            "_view_module_version": "1.2.0",
            "_model_module": "@jupyter-widgets/controls"
          }
        },
        "cf56675d67c04bcf9490fd36144c253b": {
          "model_module": "@jupyter-widgets/base",
          "model_name": "LayoutModel",
          "state": {
            "_view_name": "LayoutView",
            "grid_template_rows": null,
            "right": null,
            "justify_content": null,
            "_view_module": "@jupyter-widgets/base",
            "overflow": null,
            "_model_module_version": "1.2.0",
            "_view_count": null,
            "flex_flow": null,
            "width": null,
            "min_width": null,
            "border": null,
            "align_items": null,
            "bottom": null,
            "_model_module": "@jupyter-widgets/base",
            "top": null,
            "grid_column": null,
            "overflow_y": null,
            "overflow_x": null,
            "grid_auto_flow": null,
            "grid_area": null,
            "grid_template_columns": null,
            "flex": null,
            "_model_name": "LayoutModel",
            "justify_items": null,
            "grid_row": null,
            "max_height": null,
            "align_content": null,
            "visibility": null,
            "align_self": null,
            "height": null,
            "min_height": null,
            "padding": null,
            "grid_auto_rows": null,
            "grid_gap": null,
            "max_width": null,
            "order": null,
            "_view_module_version": "1.2.0",
            "grid_template_areas": null,
            "object_position": null,
            "object_fit": null,
            "grid_auto_columns": null,
            "margin": null,
            "display": null,
            "left": null
          }
        },
        "ffc7391dece14d79aa1feb9dd9eb2472": {
          "model_module": "@jupyter-widgets/controls",
          "model_name": "HBoxModel",
          "state": {
            "_view_name": "HBoxView",
            "_dom_classes": [],
            "_model_name": "HBoxModel",
            "_view_module": "@jupyter-widgets/controls",
            "_model_module_version": "1.5.0",
            "_view_count": null,
            "_view_module_version": "1.5.0",
            "box_style": "",
            "layout": "IPY_MODEL_84484bcbbfa4408ebdc33a8aec19a51b",
            "_model_module": "@jupyter-widgets/controls",
            "children": [
              "IPY_MODEL_82164b90727042faa72556926cf341df",
              "IPY_MODEL_5d897a5a2fae4ac7a8fbbb85ccaedfee"
            ]
          }
        },
        "84484bcbbfa4408ebdc33a8aec19a51b": {
          "model_module": "@jupyter-widgets/base",
          "model_name": "LayoutModel",
          "state": {
            "_view_name": "LayoutView",
            "grid_template_rows": null,
            "right": null,
            "justify_content": null,
            "_view_module": "@jupyter-widgets/base",
            "overflow": null,
            "_model_module_version": "1.2.0",
            "_view_count": null,
            "flex_flow": null,
            "width": null,
            "min_width": null,
            "border": null,
            "align_items": null,
            "bottom": null,
            "_model_module": "@jupyter-widgets/base",
            "top": null,
            "grid_column": null,
            "overflow_y": null,
            "overflow_x": null,
            "grid_auto_flow": null,
            "grid_area": null,
            "grid_template_columns": null,
            "flex": null,
            "_model_name": "LayoutModel",
            "justify_items": null,
            "grid_row": null,
            "max_height": null,
            "align_content": null,
            "visibility": null,
            "align_self": null,
            "height": null,
            "min_height": null,
            "padding": null,
            "grid_auto_rows": null,
            "grid_gap": null,
            "max_width": null,
            "order": null,
            "_view_module_version": "1.2.0",
            "grid_template_areas": null,
            "object_position": null,
            "object_fit": null,
            "grid_auto_columns": null,
            "margin": null,
            "display": null,
            "left": null
          }
        },
        "82164b90727042faa72556926cf341df": {
          "model_module": "@jupyter-widgets/controls",
          "model_name": "FloatProgressModel",
          "state": {
            "_view_name": "ProgressView",
            "style": "IPY_MODEL_ca6555f7c37a4fd08eb7b377ddfc6250",
            "_dom_classes": [],
            "description": "Downloading: 100%",
            "_model_name": "FloatProgressModel",
            "bar_style": "success",
            "max": 2,
            "_view_module": "@jupyter-widgets/controls",
            "_model_module_version": "1.5.0",
            "value": 2,
            "_view_count": null,
            "_view_module_version": "1.5.0",
            "orientation": "horizontal",
            "min": 0,
            "description_tooltip": null,
            "_model_module": "@jupyter-widgets/controls",
            "layout": "IPY_MODEL_c5b6876dde53463f929d4db13ce38c1a"
          }
        },
        "5d897a5a2fae4ac7a8fbbb85ccaedfee": {
          "model_module": "@jupyter-widgets/controls",
          "model_name": "HTMLModel",
          "state": {
            "_view_name": "HTMLView",
            "style": "IPY_MODEL_594f83824c424ceebcbcc9a0b13fa6ff",
            "_dom_classes": [],
            "description": "",
            "_model_name": "HTMLModel",
            "placeholder": "​",
            "_view_module": "@jupyter-widgets/controls",
            "_model_module_version": "1.5.0",
            "value": " 2.00/2.00 [00:00&lt;00:00, 5.84B/s]",
            "_view_count": null,
            "_view_module_version": "1.5.0",
            "description_tooltip": null,
            "_model_module": "@jupyter-widgets/controls",
            "layout": "IPY_MODEL_6f168cb93a18438d8095adf576be9f0c"
          }
        },
        "ca6555f7c37a4fd08eb7b377ddfc6250": {
          "model_module": "@jupyter-widgets/controls",
          "model_name": "ProgressStyleModel",
          "state": {
            "_view_name": "StyleView",
            "_model_name": "ProgressStyleModel",
            "description_width": "initial",
            "_view_module": "@jupyter-widgets/base",
            "_model_module_version": "1.5.0",
            "_view_count": null,
            "_view_module_version": "1.2.0",
            "bar_color": null,
            "_model_module": "@jupyter-widgets/controls"
          }
        },
        "c5b6876dde53463f929d4db13ce38c1a": {
          "model_module": "@jupyter-widgets/base",
          "model_name": "LayoutModel",
          "state": {
            "_view_name": "LayoutView",
            "grid_template_rows": null,
            "right": null,
            "justify_content": null,
            "_view_module": "@jupyter-widgets/base",
            "overflow": null,
            "_model_module_version": "1.2.0",
            "_view_count": null,
            "flex_flow": null,
            "width": null,
            "min_width": null,
            "border": null,
            "align_items": null,
            "bottom": null,
            "_model_module": "@jupyter-widgets/base",
            "top": null,
            "grid_column": null,
            "overflow_y": null,
            "overflow_x": null,
            "grid_auto_flow": null,
            "grid_area": null,
            "grid_template_columns": null,
            "flex": null,
            "_model_name": "LayoutModel",
            "justify_items": null,
            "grid_row": null,
            "max_height": null,
            "align_content": null,
            "visibility": null,
            "align_self": null,
            "height": null,
            "min_height": null,
            "padding": null,
            "grid_auto_rows": null,
            "grid_gap": null,
            "max_width": null,
            "order": null,
            "_view_module_version": "1.2.0",
            "grid_template_areas": null,
            "object_position": null,
            "object_fit": null,
            "grid_auto_columns": null,
            "margin": null,
            "display": null,
            "left": null
          }
        },
        "594f83824c424ceebcbcc9a0b13fa6ff": {
          "model_module": "@jupyter-widgets/controls",
          "model_name": "DescriptionStyleModel",
          "state": {
            "_view_name": "StyleView",
            "_model_name": "DescriptionStyleModel",
            "description_width": "",
            "_view_module": "@jupyter-widgets/base",
            "_model_module_version": "1.5.0",
            "_view_count": null,
            "_view_module_version": "1.2.0",
            "_model_module": "@jupyter-widgets/controls"
          }
        },
        "6f168cb93a18438d8095adf576be9f0c": {
          "model_module": "@jupyter-widgets/base",
          "model_name": "LayoutModel",
          "state": {
            "_view_name": "LayoutView",
            "grid_template_rows": null,
            "right": null,
            "justify_content": null,
            "_view_module": "@jupyter-widgets/base",
            "overflow": null,
            "_model_module_version": "1.2.0",
            "_view_count": null,
            "flex_flow": null,
            "width": null,
            "min_width": null,
            "border": null,
            "align_items": null,
            "bottom": null,
            "_model_module": "@jupyter-widgets/base",
            "top": null,
            "grid_column": null,
            "overflow_y": null,
            "overflow_x": null,
            "grid_auto_flow": null,
            "grid_area": null,
            "grid_template_columns": null,
            "flex": null,
            "_model_name": "LayoutModel",
            "justify_items": null,
            "grid_row": null,
            "max_height": null,
            "align_content": null,
            "visibility": null,
            "align_self": null,
            "height": null,
            "min_height": null,
            "padding": null,
            "grid_auto_rows": null,
            "grid_gap": null,
            "max_width": null,
            "order": null,
            "_view_module_version": "1.2.0",
            "grid_template_areas": null,
            "object_position": null,
            "object_fit": null,
            "grid_auto_columns": null,
            "margin": null,
            "display": null,
            "left": null
          }
        }
      }
    }
  },
  "cells": [
    {
      "cell_type": "markdown",
      "metadata": {
        "id": "view-in-github",
        "colab_type": "text"
      },
      "source": [
        "<a href=\"https://colab.research.google.com/github/royam0820/fastai2-v4/blob/master/GPT2_LM_FR_allocine.ipynb\" target=\"_parent\"><img src=\"https://colab.research.google.com/assets/colab-badge.svg\" alt=\"Open In Colab\"/></a>"
      ]
    },
    {
      "cell_type": "markdown",
      "metadata": {
        "id": "3rt1mPbap1Xu"
      },
      "source": [
        "# OpenAI GPT2 model Infos\n",
        "[Model Info](https://huggingface.co/transformers/model_doc/gpt2.html)\n",
        "\n",
        "[The Illustrated GPT-2 (Visualizing Transformer Language Models)](http://jalammar.github.io/illustrated-gpt2/#model-output)\n",
        "\n",
        "GPT-2 is a large transformer-based language model with **1.5 billion parameters**, trained on a dataset of 8 million web pages. GPT-2 is trained with a simple objective: predict the next word, given all of the previous words within some text. \n",
        "\n",
        " \n"
      ]
    },
    {
      "cell_type": "markdown",
      "metadata": {
        "id": "uFR2r-YCNR0c"
      },
      "source": [
        "# Infos Notebook"
      ]
    },
    {
      "cell_type": "markdown",
      "metadata": {
        "id": "CZwyf9TCnzRC"
      },
      "source": [
        "This notebook is used to fine-tune GPT2 model for text classification using Huggingface transformers library on a custom dataset.\n",
        "\n",
        "For the dataset, we are using the French AlloCine reviews, which are French reviews on films. \n",
        "\n",
        "Main idea: is to use a GPT2 model that has been pretrained with French texts, and then fine-tune this language model on a sub-domain which are the French reviews from AlloCine website.\n"
      ]
    },
    {
      "cell_type": "code",
      "metadata": {
        "id": "8_gVwEfqd0Ng"
      },
      "source": [
        "# !nvidia-smi"
      ],
      "execution_count": 1,
      "outputs": []
    },
    {
      "cell_type": "code",
      "metadata": {
        "id": "vKWtHnZ_yZ_L",
        "colab": {
          "base_uri": "https://localhost:8080/"
        },
        "outputId": "8e6a3462-0371-4c3d-a337-06da6d584924"
      },
      "source": [
        "! [ -e /content ] && pip install -Uqq fastai  # upgrade fastai on colab"
      ],
      "execution_count": 2,
      "outputs": [
        {
          "output_type": "stream",
          "text": [
            "\u001b[K     |████████████████████████████████| 204kB 10.1MB/s \n",
            "\u001b[K     |████████████████████████████████| 61kB 6.9MB/s \n",
            "\u001b[?25h"
          ],
          "name": "stdout"
        }
      ]
    },
    {
      "cell_type": "code",
      "metadata": {
        "id": "T6UAMPRiyuJ1",
        "colab": {
          "base_uri": "https://localhost:8080/"
        },
        "outputId": "26d401e6-f295-499b-c3c6-d33cd20bb110"
      },
      "source": [
        "!pip install -Uq transformers\n",
        "from fastai.text.all import *"
      ],
      "execution_count": 3,
      "outputs": [
        {
          "output_type": "stream",
          "text": [
            "\u001b[K     |████████████████████████████████| 2.3MB 11.8MB/s \n",
            "\u001b[K     |████████████████████████████████| 901kB 36.1MB/s \n",
            "\u001b[K     |████████████████████████████████| 3.3MB 36.0MB/s \n",
            "\u001b[?25h"
          ],
          "name": "stdout"
        }
      ]
    },
    {
      "cell_type": "code",
      "metadata": {
        "id": "NyGyTlgiyffc"
      },
      "source": [
        "# # better display of review text in dataframes\n",
        "# pd.set_option('display.max_colwidth', None) "
      ],
      "execution_count": 4,
      "outputs": []
    },
    {
      "cell_type": "markdown",
      "metadata": {
        "id": "haXlok9TMSJr"
      },
      "source": [
        "# BelGPT-2 - a GPT-2 model pre-trained on French corpora\n",
        "This language model has been trained on French texts from different sources: Wikipedia, news, EuroParl texts. Its size is 60Gb.\n",
        "\n",
        "https://github.com/antoiloui/belgpt2/blob/master/docs/index.md\n",
        "\n",
        "https://huggingface.co/antoiloui/belgpt2\n",
        "\n"
      ]
    },
    {
      "cell_type": "code",
      "metadata": {
        "id": "PX0goP1nMlIv"
      },
      "source": [
        "from transformers import GPT2Tokenizer, GPT2LMHeadModel"
      ],
      "execution_count": 5,
      "outputs": []
    },
    {
      "cell_type": "code",
      "metadata": {
        "id": "k1uCL1-aMqRA",
        "colab": {
          "base_uri": "https://localhost:8080/",
          "height": 311,
          "referenced_widgets": [
            "bec3304956da4d3db8221c1e3d54fa77",
            "1462f1abf5dd461e9258d2af29a6c935",
            "202946a58e19420e8a049c612e6efaeb",
            "7df56c925512480f850df915637c542f",
            "9c98790d64bf4f32ad3d2c3e175fe620",
            "076312c865dc4ba9897d14bc7c8afcd4",
            "3807b497fc6b4b04844b250b34877552",
            "5caab58fc9ab439581ee992085840b6f",
            "6ed2e3849201401aa82e534d7afb326b",
            "609c1b8fcdff4ef89dd5c3db7e09dd9b",
            "b80fd4489a5049558d33052e67793fac",
            "5d89f597073b4742a5451e504b2194a7",
            "2068472f9d7a4fc79d0fff8334fdc20b",
            "f88b42b75eca42d985fde1ccd916a63c",
            "89bafd780990474e9c6f06f5dd248852",
            "74172455942044578afa0eafc6b7168c",
            "c1d6499d7fea469b94c133a72d02af3a",
            "98dafb7c1afb4297801a2e8d83d01091",
            "c7ff5ef3c6094d8c87a039d3d6b16363",
            "15b74e1193bd45e481c5b44e588580d6",
            "f96999c553cd41dda847caa3b14ca3e1",
            "ad7419728f974f81b913d35bc41a7640",
            "a569f5fde4da4ebebeac16115135364c",
            "22656697f7e34ce59b07e747e9f49ac8",
            "3527d5242d5e43d5b6418b3ae44da79a",
            "b45a8ffb75fb4f0a9220fe10a010afb0",
            "9e132c78f1e94d8e91f0b0fd621cd524",
            "7c53185623aa41cdb91f84fca802147f",
            "43db21bbe4d7496fa600369adcc8a7e7",
            "8f915ed07bc445ca9fe71cbf58193b05",
            "5ca13abbb3f34c378e4bcce13a285690",
            "4eacaf62aac648f1829119771600fd37",
            "c86e7aa87fe24a7286eadb6ed8b68abc",
            "fd8083ce3f74483ca4085f2fb022993b",
            "cffcd4be718a4ef7974989976f79926d",
            "1ce2bd97c81442a79dae9d8742812a87",
            "e315b3e98fd34c64bf04e7c919512d76",
            "253729782fee4da49b35726822bbdd79",
            "9f6aa1dd1a7e4df7ac29472c5df4f2b2",
            "cf56675d67c04bcf9490fd36144c253b",
            "ffc7391dece14d79aa1feb9dd9eb2472",
            "84484bcbbfa4408ebdc33a8aec19a51b",
            "82164b90727042faa72556926cf341df",
            "5d897a5a2fae4ac7a8fbbb85ccaedfee",
            "ca6555f7c37a4fd08eb7b377ddfc6250",
            "c5b6876dde53463f929d4db13ce38c1a",
            "594f83824c424ceebcbcc9a0b13fa6ff",
            "6f168cb93a18438d8095adf576be9f0c"
          ]
        },
        "outputId": "d7ff2ce4-e29c-4490-a752-32d9fc6b859c"
      },
      "source": [
        "# Load pretrained model and tokenizer\n",
        "model = GPT2LMHeadModel.from_pretrained(\"antoiloui/belgpt2\")\n",
        "tokenizer = GPT2Tokenizer.from_pretrained(\"antoiloui/belgpt2\")\n",
        "#tokenizer = ByteLevelBPETokenizer()"
      ],
      "execution_count": 6,
      "outputs": [
        {
          "output_type": "display_data",
          "data": {
            "application/vnd.jupyter.widget-view+json": {
              "model_id": "bec3304956da4d3db8221c1e3d54fa77",
              "version_minor": 0,
              "version_major": 2
            },
            "text/plain": [
              "HBox(children=(FloatProgress(value=0.0, description='Downloading', max=1307.0, style=ProgressStyle(description…"
            ]
          },
          "metadata": {
            "tags": []
          }
        },
        {
          "output_type": "stream",
          "text": [
            "\n"
          ],
          "name": "stdout"
        },
        {
          "output_type": "display_data",
          "data": {
            "application/vnd.jupyter.widget-view+json": {
              "model_id": "6ed2e3849201401aa82e534d7afb326b",
              "version_minor": 0,
              "version_major": 2
            },
            "text/plain": [
              "HBox(children=(FloatProgress(value=0.0, description='Downloading', max=548125486.0, style=ProgressStyle(descri…"
            ]
          },
          "metadata": {
            "tags": []
          }
        },
        {
          "output_type": "stream",
          "text": [
            "\n"
          ],
          "name": "stdout"
        },
        {
          "output_type": "display_data",
          "data": {
            "application/vnd.jupyter.widget-view+json": {
              "model_id": "c1d6499d7fea469b94c133a72d02af3a",
              "version_minor": 0,
              "version_major": 2
            },
            "text/plain": [
              "HBox(children=(FloatProgress(value=0.0, description='Downloading', max=973672.0, style=ProgressStyle(descripti…"
            ]
          },
          "metadata": {
            "tags": []
          }
        },
        {
          "output_type": "stream",
          "text": [
            "\n"
          ],
          "name": "stdout"
        },
        {
          "output_type": "display_data",
          "data": {
            "application/vnd.jupyter.widget-view+json": {
              "model_id": "3527d5242d5e43d5b6418b3ae44da79a",
              "version_minor": 0,
              "version_major": 2
            },
            "text/plain": [
              "HBox(children=(FloatProgress(value=0.0, description='Downloading', max=531531.0, style=ProgressStyle(descripti…"
            ]
          },
          "metadata": {
            "tags": []
          }
        },
        {
          "output_type": "stream",
          "text": [
            "\n"
          ],
          "name": "stdout"
        },
        {
          "output_type": "display_data",
          "data": {
            "application/vnd.jupyter.widget-view+json": {
              "model_id": "c86e7aa87fe24a7286eadb6ed8b68abc",
              "version_minor": 0,
              "version_major": 2
            },
            "text/plain": [
              "HBox(children=(FloatProgress(value=0.0, description='Downloading', max=90.0, style=ProgressStyle(description_w…"
            ]
          },
          "metadata": {
            "tags": []
          }
        },
        {
          "output_type": "stream",
          "text": [
            "\n"
          ],
          "name": "stdout"
        },
        {
          "output_type": "display_data",
          "data": {
            "application/vnd.jupyter.widget-view+json": {
              "model_id": "ffc7391dece14d79aa1feb9dd9eb2472",
              "version_minor": 0,
              "version_major": 2
            },
            "text/plain": [
              "HBox(children=(FloatProgress(value=0.0, description='Downloading', max=2.0, style=ProgressStyle(description_wi…"
            ]
          },
          "metadata": {
            "tags": []
          }
        },
        {
          "output_type": "stream",
          "text": [
            "\n"
          ],
          "name": "stdout"
        }
      ]
    },
    {
      "cell_type": "code",
      "metadata": {
        "colab": {
          "base_uri": "https://localhost:8080/"
        },
        "id": "rGiQNMBdfGS2",
        "outputId": "fa499016-6986-4f0c-e7b7-c5481cc93137"
      },
      "source": [
        "len(tokenizer.get_vocab())"
      ],
      "execution_count": 7,
      "outputs": [
        {
          "output_type": "execute_result",
          "data": {
            "text/plain": [
              "50257"
            ]
          },
          "metadata": {
            "tags": []
          },
          "execution_count": 7
        }
      ]
    },
    {
      "cell_type": "code",
      "metadata": {
        "id": "poeQtot6-kb8"
      },
      "source": [
        "vocab_items = tokenizer.encoder.items() #dictionary"
      ],
      "execution_count": 8,
      "outputs": []
    },
    {
      "cell_type": "code",
      "metadata": {
        "colab": {
          "base_uri": "https://localhost:8080/"
        },
        "id": "kZTZ_8_7gIo-",
        "outputId": "ab793824-d301-459e-bb38-ba264353eab7"
      },
      "source": [
        "list(vocab_items)[:10]"
      ],
      "execution_count": 9,
      "outputs": [
        {
          "output_type": "execute_result",
          "data": {
            "text/plain": [
              "[('<s>', 0),\n",
              " ('<pad>', 1),\n",
              " ('</s>', 2),\n",
              " ('!', 3),\n",
              " ('\"', 4),\n",
              " ('#', 5),\n",
              " ('$', 6),\n",
              " ('%', 7),\n",
              " ('&', 8),\n",
              " (\"'\", 9)]"
            ]
          },
          "metadata": {
            "tags": []
          },
          "execution_count": 9
        }
      ]
    },
    {
      "cell_type": "code",
      "metadata": {
        "id": "kePTzPe7M8GU"
      },
      "source": [
        "# getting the vocab in a list\n",
        "vocab_lm = list(tokenizer.encoder.keys())\n",
        "assert(len(vocab_lm) == tokenizer.vocab_size) # it returns True!"
      ],
      "execution_count": 10,
      "outputs": []
    },
    {
      "cell_type": "markdown",
      "metadata": {
        "id": "uiwIVzrOlIYF"
      },
      "source": [
        "## Testing the Pretrained French Language Model"
      ]
    },
    {
      "cell_type": "code",
      "metadata": {
        "colab": {
          "base_uri": "https://localhost:8080/"
        },
        "id": "JCAx1qjHlF9D",
        "outputId": "b0e91e3d-b2d7-4eab-c2fb-7edd11e5b037"
      },
      "source": [
        "# encoding\n",
        "ids = tokenizer.encode(\"c'est une histoire abracadabrantesque\")\n",
        "ids"
      ],
      "execution_count": 11,
      "outputs": [
        {
          "output_type": "execute_result",
          "data": {
            "text/plain": [
              "[69, 9, 319, 338, 1396, 703, 7387, 631, 420, 22821, 345]"
            ]
          },
          "metadata": {
            "tags": []
          },
          "execution_count": 11
        }
      ]
    },
    {
      "cell_type": "code",
      "metadata": {
        "colab": {
          "base_uri": "https://localhost:8080/",
          "height": 35
        },
        "id": "8vV1eTL1leQg",
        "outputId": "7d909a39-676b-4691-9c99-d1311089bf6c"
      },
      "source": [
        "# decoding\n",
        "tokenizer.decode(ids)"
      ],
      "execution_count": 12,
      "outputs": [
        {
          "output_type": "execute_result",
          "data": {
            "application/vnd.google.colaboratory.intrinsic+json": {
              "type": "string"
            },
            "text/plain": [
              "\"c'est une histoire abracadabrantesque\""
            ]
          },
          "metadata": {
            "tags": []
          },
          "execution_count": 12
        }
      ]
    },
    {
      "cell_type": "markdown",
      "metadata": {
        "id": "-Q6pv7WMl8fO"
      },
      "source": [
        "The model can be used to generate predictions (it is pretrained). It has a generate method that expects a batch of prompt, so we feed it our ids and add one batch dimension (there is a padding warning we can ignore as well)"
      ]
    },
    {
      "cell_type": "code",
      "metadata": {
        "colab": {
          "base_uri": "https://localhost:8080/"
        },
        "id": "grFiwIq8l0H4",
        "outputId": "ef108a90-aef2-4ac1-c46d-a1821cdde40c"
      },
      "source": [
        "t = torch.LongTensor(ids)[None]\n",
        "preds = model.generate(t)"
      ],
      "execution_count": 13,
      "outputs": [
        {
          "output_type": "stream",
          "text": [
            "Setting `pad_token_id` to `eos_token_id`:50256 for open-end generation.\n"
          ],
          "name": "stderr"
        }
      ]
    },
    {
      "cell_type": "code",
      "metadata": {
        "colab": {
          "base_uri": "https://localhost:8080/"
        },
        "id": "7VkuTJYBnaQr",
        "outputId": "59354365-61d8-4962-f408-30a56775bb42"
      },
      "source": [
        "preds.shape,preds[0]"
      ],
      "execution_count": 14,
      "outputs": [
        {
          "output_type": "execute_result",
          "data": {
            "text/plain": [
              "(torch.Size([1, 20]),\n",
              " tensor([   69,     9,   319,   338,  1396,   703,  7387,   631,   420, 22821,\n",
              "           345,   270,   369,   385,  8746,   364,   292,   941,  8670,   270]))"
            ]
          },
          "metadata": {
            "tags": []
          },
          "execution_count": 14
        }
      ]
    },
    {
      "cell_type": "code",
      "metadata": {
        "colab": {
          "base_uri": "https://localhost:8080/",
          "height": 35
        },
        "id": "fibdcO_fngMp",
        "outputId": "9e59c6b1-3ec8-414b-ae87-d8f1c920ffaf"
      },
      "source": [
        "tokenizer.decode(preds[0].numpy())"
      ],
      "execution_count": 15,
      "outputs": [
        {
          "output_type": "execute_result",
          "data": {
            "application/vnd.google.colaboratory.intrinsic+json": {
              "type": "string"
            },
            "text/plain": [
              "\"c'est une histoire abracadabrantesque, qui se déroule dans un monde parallèle,\""
            ]
          },
          "metadata": {
            "tags": []
          },
          "execution_count": 15
        }
      ]
    },
    {
      "cell_type": "markdown",
      "metadata": {
        "id": "ebntTG6oOE4P"
      },
      "source": [
        "## Fine-Tuning the model"
      ]
    },
    {
      "cell_type": "markdown",
      "metadata": {
        "id": "HLwAp4hMpxff"
      },
      "source": [
        "### Allocine Dataset"
      ]
    },
    {
      "cell_type": "code",
      "metadata": {
        "id": "KFzznGPY5bH4"
      },
      "source": [
        "#creating a directory allocine\n",
        "path = Path('/content/allocine/')\n",
        "path.mkdir(parents=True, exist_ok=True)"
      ],
      "execution_count": 16,
      "outputs": []
    },
    {
      "cell_type": "code",
      "metadata": {
        "id": "b55p-OxvNz8F"
      },
      "source": [
        "#creating a directory allocine\n",
        "path = Path('/content/allocine/models')\n",
        "path.mkdir(parents=True, exist_ok=True)"
      ],
      "execution_count": 17,
      "outputs": []
    },
    {
      "cell_type": "code",
      "metadata": {
        "colab": {
          "base_uri": "https://localhost:8080/"
        },
        "id": "SncnpDS181gg",
        "outputId": "3efa8901-c9a9-4b33-e758-d5d4c252ddc8"
      },
      "source": [
        "path = Path('/content/allocine/'); path"
      ],
      "execution_count": 18,
      "outputs": [
        {
          "output_type": "execute_result",
          "data": {
            "text/plain": [
              "Path('/content/allocine')"
            ]
          },
          "metadata": {
            "tags": []
          },
          "execution_count": 18
        }
      ]
    },
    {
      "cell_type": "code",
      "metadata": {
        "id": "bhEsxocL2UVA"
      },
      "source": [
        "# downloading the AlloCine dataset\n",
        "!wget -q https://github.com/TheophileBlard/french-sentiment-analysis-with-bert/raw/master/allocine_dataset/data.tar.bz2\n",
        "!tar -xf /content/data.tar.bz2 -C '/content/allocine'"
      ],
      "execution_count": 19,
      "outputs": []
    },
    {
      "cell_type": "code",
      "metadata": {
        "colab": {
          "base_uri": "https://localhost:8080/",
          "height": 165
        },
        "id": "rbTDvZKfAQtd",
        "outputId": "302d0920-1cb5-4f42-bf26-e641b79d781e"
      },
      "source": [
        "train_df = pd.read_json(path/'data/train.jsonl', lines=True, nrows=10000)\n",
        "train_df.head(1)"
      ],
      "execution_count": 20,
      "outputs": [
        {
          "output_type": "execute_result",
          "data": {
            "text/html": [
              "<div>\n",
              "<style scoped>\n",
              "    .dataframe tbody tr th:only-of-type {\n",
              "        vertical-align: middle;\n",
              "    }\n",
              "\n",
              "    .dataframe tbody tr th {\n",
              "        vertical-align: top;\n",
              "    }\n",
              "\n",
              "    .dataframe thead th {\n",
              "        text-align: right;\n",
              "    }\n",
              "</style>\n",
              "<table border=\"1\" class=\"dataframe\">\n",
              "  <thead>\n",
              "    <tr style=\"text-align: right;\">\n",
              "      <th></th>\n",
              "      <th>film-url</th>\n",
              "      <th>review</th>\n",
              "      <th>polarity</th>\n",
              "    </tr>\n",
              "  </thead>\n",
              "  <tbody>\n",
              "    <tr>\n",
              "      <th>0</th>\n",
              "      <td>http://www.allocine.fr/film/fichefilm-135259/critiques/spectateurs</td>\n",
              "      <td>Si vous cherchez du cinéma abrutissant à tous les étages,n'ayant aucune peur du cliché en castagnettes et moralement douteux,\"From Paris with love\" est fait pour vous.Toutes les productions Besson,via sa filière EuropaCorp ont de quoi faire naître la moquerie.Paris y est encore une fois montrée comme une capitale exotique,mais attention si l'on se dirige vers la banlieue,on y trouve tout plein d'intégristes musulmans prêts à faire sauter le caisson d'une ambassadrice américaine.Nauséeux.Alors on se dit qu'on va au moins pouvoir apprécier la déconnade d'un classique buddy-movie avec le jeun...</td>\n",
              "      <td>0</td>\n",
              "    </tr>\n",
              "  </tbody>\n",
              "</table>\n",
              "</div>"
            ],
            "text/plain": [
              "                                                             film-url  ... polarity\n",
              "0  http://www.allocine.fr/film/fichefilm-135259/critiques/spectateurs  ...        0\n",
              "\n",
              "[1 rows x 3 columns]"
            ]
          },
          "metadata": {
            "tags": []
          },
          "execution_count": 20
        }
      ]
    },
    {
      "cell_type": "code",
      "metadata": {
        "colab": {
          "base_uri": "https://localhost:8080/",
          "height": 131
        },
        "id": "GokRVQ2TSxNw",
        "outputId": "a07315ca-94e6-49a1-be30-851209e327e9"
      },
      "source": [
        "val_df = pd.read_json(path/'data/val.jsonl', lines=True, nrows=1000)\n",
        "val_df.head(1)"
      ],
      "execution_count": 21,
      "outputs": [
        {
          "output_type": "execute_result",
          "data": {
            "text/html": [
              "<div>\n",
              "<style scoped>\n",
              "    .dataframe tbody tr th:only-of-type {\n",
              "        vertical-align: middle;\n",
              "    }\n",
              "\n",
              "    .dataframe tbody tr th {\n",
              "        vertical-align: top;\n",
              "    }\n",
              "\n",
              "    .dataframe thead th {\n",
              "        text-align: right;\n",
              "    }\n",
              "</style>\n",
              "<table border=\"1\" class=\"dataframe\">\n",
              "  <thead>\n",
              "    <tr style=\"text-align: right;\">\n",
              "      <th></th>\n",
              "      <th>film-url</th>\n",
              "      <th>review</th>\n",
              "      <th>polarity</th>\n",
              "    </tr>\n",
              "  </thead>\n",
              "  <tbody>\n",
              "    <tr>\n",
              "      <th>0</th>\n",
              "      <td>http://www.allocine.fr/film/fichefilm-51895/critiques/spectateurs</td>\n",
              "      <td>Ce film est tout ce qu'il y a de plus sympa. Même si l'ensemble n'est pas dépourvu de clichés, il serait hypocrite de dire que ce film est ennuyeux à regarder, bien au contraire. Il est très plaisant à regarder et même si l'ensemble est asse convenue, la mise en scène de Peter Chelsom est légère et ce film est une sorte de bouffée d'air frais. Tout à fait estimable.</td>\n",
              "      <td>0</td>\n",
              "    </tr>\n",
              "  </tbody>\n",
              "</table>\n",
              "</div>"
            ],
            "text/plain": [
              "                                                            film-url  ... polarity\n",
              "0  http://www.allocine.fr/film/fichefilm-51895/critiques/spectateurs  ...        0\n",
              "\n",
              "[1 rows x 3 columns]"
            ]
          },
          "metadata": {
            "tags": []
          },
          "execution_count": 21
        }
      ]
    },
    {
      "cell_type": "code",
      "metadata": {
        "id": "y4SjmKIYWDRm"
      },
      "source": [
        "train_df.to_csv(path/'data/train.csv', encoding = 'utf-8', header = False, index = False)"
      ],
      "execution_count": 22,
      "outputs": []
    },
    {
      "cell_type": "code",
      "metadata": {
        "id": "hDwDfPOLXL39"
      },
      "source": [
        "val_df.to_csv(path/'data/val.csv', encoding = 'utf-8', header = False, index = False)"
      ],
      "execution_count": 23,
      "outputs": []
    },
    {
      "cell_type": "code",
      "metadata": {
        "id": "bSDZBS-5Djhv"
      },
      "source": [
        "# !cp {path}/data/train.csv /content/drive/MyDrive/movie_fr_train.csv"
      ],
      "execution_count": null,
      "outputs": []
    },
    {
      "cell_type": "code",
      "metadata": {
        "id": "lT53t6hQD2Oy"
      },
      "source": [
        "# !cp {path}/data/val.csv /content/drive/MyDrive/movie_fr_valid.csv"
      ],
      "execution_count": null,
      "outputs": []
    },
    {
      "cell_type": "code",
      "metadata": {
        "colab": {
          "base_uri": "https://localhost:8080/",
          "height": 281
        },
        "id": "k2IJzb9_Ymz_",
        "outputId": "8405f3bd-23be-444e-e6c8-5f8ecdb1d3d7"
      },
      "source": [
        "# training dataset\n",
        "df_train = pd.read_csv(path/'data/train.csv', encoding = 'utf-8', header=None)\n",
        "df_train.head(2)"
      ],
      "execution_count": 26,
      "outputs": [
        {
          "output_type": "execute_result",
          "data": {
            "text/html": [
              "<div>\n",
              "<style scoped>\n",
              "    .dataframe tbody tr th:only-of-type {\n",
              "        vertical-align: middle;\n",
              "    }\n",
              "\n",
              "    .dataframe tbody tr th {\n",
              "        vertical-align: top;\n",
              "    }\n",
              "\n",
              "    .dataframe thead th {\n",
              "        text-align: right;\n",
              "    }\n",
              "</style>\n",
              "<table border=\"1\" class=\"dataframe\">\n",
              "  <thead>\n",
              "    <tr style=\"text-align: right;\">\n",
              "      <th></th>\n",
              "      <th>0</th>\n",
              "      <th>1</th>\n",
              "      <th>2</th>\n",
              "    </tr>\n",
              "  </thead>\n",
              "  <tbody>\n",
              "    <tr>\n",
              "      <th>0</th>\n",
              "      <td>http://www.allocine.fr/film/fichefilm-135259/critiques/spectateurs</td>\n",
              "      <td>Si vous cherchez du cinéma abrutissant à tous les étages,n'ayant aucune peur du cliché en castagnettes et moralement douteux,\"From Paris with love\" est fait pour vous.Toutes les productions Besson,via sa filière EuropaCorp ont de quoi faire naître la moquerie.Paris y est encore une fois montrée comme une capitale exotique,mais attention si l'on se dirige vers la banlieue,on y trouve tout plein d'intégristes musulmans prêts à faire sauter le caisson d'une ambassadrice américaine.Nauséeux.Alors on se dit qu'on va au moins pouvoir apprécier la déconnade d'un classique buddy-movie avec le jeun...</td>\n",
              "      <td>0</td>\n",
              "    </tr>\n",
              "    <tr>\n",
              "      <th>1</th>\n",
              "      <td>http://www.allocine.fr/film/fichefilm-172430/critiques/spectateurs</td>\n",
              "      <td>Trash, re-trash et re-re-trash...! Une horreur sans nom. Imaginez-vous les 20 premières minutes de Orange Mécanique dilatées sur plus de 70 minutes de bande VHS pourrave et revisitées par Korine à la sauce années 2000 : les dandys-punk de Kubrick ont laissé place à des papys lubriques déguisés en sacs-poubelles forniquant les troncs d'arbres, le dispositif esthétique se résume à du filmage-réalité enfilant des scènes de destruction, de soumission, de pornographie ou encore de maltraitance ( youtube, youtube et re-youtube...) et la bande-son se limite à des ricanements malades, des rengaine...</td>\n",
              "      <td>0</td>\n",
              "    </tr>\n",
              "  </tbody>\n",
              "</table>\n",
              "</div>"
            ],
            "text/plain": [
              "                                                                    0  ...  2\n",
              "0  http://www.allocine.fr/film/fichefilm-135259/critiques/spectateurs  ...  0\n",
              "1  http://www.allocine.fr/film/fichefilm-172430/critiques/spectateurs  ...  0\n",
              "\n",
              "[2 rows x 3 columns]"
            ]
          },
          "metadata": {
            "tags": []
          },
          "execution_count": 26
        }
      ]
    },
    {
      "cell_type": "code",
      "metadata": {
        "colab": {
          "base_uri": "https://localhost:8080/",
          "height": 247
        },
        "id": "s-oNsGaHXwgm",
        "outputId": "e03ef2c0-9841-4319-8441-73fb770a38fd"
      },
      "source": [
        "# validation dataset\n",
        "df_valid = pd.read_csv(path/'data/val.csv', encoding = 'utf-8', header=None)\n",
        "df_valid.head(2)"
      ],
      "execution_count": 27,
      "outputs": [
        {
          "output_type": "execute_result",
          "data": {
            "text/html": [
              "<div>\n",
              "<style scoped>\n",
              "    .dataframe tbody tr th:only-of-type {\n",
              "        vertical-align: middle;\n",
              "    }\n",
              "\n",
              "    .dataframe tbody tr th {\n",
              "        vertical-align: top;\n",
              "    }\n",
              "\n",
              "    .dataframe thead th {\n",
              "        text-align: right;\n",
              "    }\n",
              "</style>\n",
              "<table border=\"1\" class=\"dataframe\">\n",
              "  <thead>\n",
              "    <tr style=\"text-align: right;\">\n",
              "      <th></th>\n",
              "      <th>0</th>\n",
              "      <th>1</th>\n",
              "      <th>2</th>\n",
              "    </tr>\n",
              "  </thead>\n",
              "  <tbody>\n",
              "    <tr>\n",
              "      <th>0</th>\n",
              "      <td>http://www.allocine.fr/film/fichefilm-51895/critiques/spectateurs</td>\n",
              "      <td>Ce film est tout ce qu'il y a de plus sympa. Même si l'ensemble n'est pas dépourvu de clichés, il serait hypocrite de dire que ce film est ennuyeux à regarder, bien au contraire. Il est très plaisant à regarder et même si l'ensemble est asse convenue, la mise en scène de Peter Chelsom est légère et ce film est une sorte de bouffée d'air frais. Tout à fait estimable.</td>\n",
              "      <td>0</td>\n",
              "    </tr>\n",
              "    <tr>\n",
              "      <th>1</th>\n",
              "      <td>http://www.allocine.fr/film/fichefilm-272/critiques/spectateurs</td>\n",
              "      <td>The Wall a été réalisé par Alan Parker (Fame, Midnight Express, Evita) et Roger Waters (bassiste de Pink Floyd). Le film ne contient quasiment aucun dialogue, il s'agit en fait du double album conceptuel The Wall en images. Pink est une rock star déchue qui utilise tous les paradis artificiels possibles pour fuir le réel, mais cela ne fait que l'enfoncer encore plus dans son état sombre. Ce film est tout autant fascinant que dérangeant : on regarde cet homme sombrer dans la paranoïa, sans pouvoir rien faire, comme les spectateurs pervers d'une mise à mort, fascinés par cette chose incontrô...</td>\n",
              "      <td>1</td>\n",
              "    </tr>\n",
              "  </tbody>\n",
              "</table>\n",
              "</div>"
            ],
            "text/plain": [
              "                                                                   0  ...  2\n",
              "0  http://www.allocine.fr/film/fichefilm-51895/critiques/spectateurs  ...  0\n",
              "1    http://www.allocine.fr/film/fichefilm-272/critiques/spectateurs  ...  1\n",
              "\n",
              "[2 rows x 3 columns]"
            ]
          },
          "metadata": {
            "tags": []
          },
          "execution_count": 27
        }
      ]
    },
    {
      "cell_type": "code",
      "metadata": {
        "id": "o7PTgfxSUWVt"
      },
      "source": [
        "all_texts = np.concatenate([df_train[1].values, df_valid[1].values])"
      ],
      "execution_count": 28,
      "outputs": []
    },
    {
      "cell_type": "markdown",
      "metadata": {
        "id": "b0rfU7DGEGgp"
      },
      "source": [
        "### Tokenizer"
      ]
    },
    {
      "cell_type": "code",
      "metadata": {
        "id": "kx5BbfD4ZGxd"
      },
      "source": [
        "class TransformersTokenizer(Transform):\n",
        "    def __init__(self, tokenizer): self.tokenizer = tokenizer\n",
        "    def encodes(self, x): \n",
        "        toks = self.tokenizer.tokenize(x)\n",
        "        return tensor(self.tokenizer.convert_tokens_to_ids(toks))\n",
        "    def decodes(self, x): return TitledStr(self.tokenizer.decode(x.cpu().numpy()))"
      ],
      "execution_count": 29,
      "outputs": []
    },
    {
      "cell_type": "code",
      "metadata": {
        "colab": {
          "base_uri": "https://localhost:8080/"
        },
        "id": "phKH_vpIEKqV",
        "outputId": "cb0a4834-0d92-4f6e-8c6f-3bbc7e983799"
      },
      "source": [
        "# testing the tokenizer \n",
        "tokenizer_fastai_fr = TransformersTokenizer(tokenizer)\n",
        "text = \"Peut-être que vous avez raison\"\n",
        "tokens_ids = tokenizer_fastai_fr.encodes(text)\n",
        "tokens = tokenizer_fastai_fr.tokenizer.convert_ids_to_tokens(tokens_ids)\n",
        "\n",
        "print('input text:',TitledStr(text)) \n",
        "print('text tokens:',TitledStr(tokens)) \n",
        "print('text tokens_ids:',TitledStr(tokens_ids))\n",
        "print('output text:',TitledStr(tokenizer_fastai_fr.decodes(tokens_ids)))"
      ],
      "execution_count": 30,
      "outputs": [
        {
          "output_type": "stream",
          "text": [
            "input text: Peut-être que vous avez raison\n",
            "text tokens: ['Peut', '-', 'Ãªtre', 'Ġque', 'Ġvous', 'Ġavez', 'Ġraison']\n",
            "text tokens_ids: tensor([46906,    15,  1519,   354,   472,  1578,  1835])\n",
            "output text: Peut-être que vous avez raison\n"
          ],
          "name": "stdout"
        }
      ]
    },
    {
      "cell_type": "code",
      "metadata": {
        "colab": {
          "base_uri": "https://localhost:8080/"
        },
        "id": "rUz3IoY7JLnn",
        "outputId": "b7b4271f-88a2-455a-d49b-5c41c08c38b5"
      },
      "source": [
        "# getting the vocab\n",
        "tokenizer_fastai_vocab_fr = tokenizer_fastai_fr.tokenizer.get_vocab() #dict\n",
        "# making a vocab list from the vocab dictionary\n",
        "tokenizer_fastai_vocab_ls_fr = [k for k, v in sorted(tokenizer_fastai_vocab_fr.items(), key=lambda item: item[1])] #list\n",
        "len(tokenizer_fastai_vocab_ls_fr),tokenizer_fastai_vocab_ls_fr[:10]"
      ],
      "execution_count": 31,
      "outputs": [
        {
          "output_type": "execute_result",
          "data": {
            "text/plain": [
              "(50257, ['<s>', '<pad>', '</s>', '!', '\"', '#', '$', '%', '&', \"'\"])"
            ]
          },
          "metadata": {
            "tags": []
          },
          "execution_count": 31
        }
      ]
    },
    {
      "cell_type": "code",
      "metadata": {
        "colab": {
          "base_uri": "https://localhost:8080/"
        },
        "id": "qSEvNNrTf0xn",
        "outputId": "c7b86c82-1f2f-4b2e-e519-f6e1f5c3d86a"
      },
      "source": [
        "type(tokenizer_fastai_vocab_fr), type(tokenizer_fastai_vocab_ls_fr)"
      ],
      "execution_count": 32,
      "outputs": [
        {
          "output_type": "execute_result",
          "data": {
            "text/plain": [
              "(dict, list)"
            ]
          },
          "metadata": {
            "tags": []
          },
          "execution_count": 32
        }
      ]
    },
    {
      "cell_type": "markdown",
      "metadata": {
        "id": "7XyL2eQpqVle"
      },
      "source": [
        "### Dataloaders"
      ]
    },
    {
      "cell_type": "code",
      "metadata": {
        "id": "zAev0CXLaO-i"
      },
      "source": [
        "splits = [range_of(df_train), list(range(len(df_train), len(all_texts)))]\n",
        "tls = TfmdLists(all_texts, TransformersTokenizer(tokenizer), splits=splits, dl_type=LMDataLoader)"
      ],
      "execution_count": 33,
      "outputs": []
    },
    {
      "cell_type": "markdown",
      "metadata": {
        "id": "5MH5bGU8Txhi"
      },
      "source": [
        "NOTE:  We specify `dl_type=LMDataLoader` for when we will convert this `TfmdLists` to `DataLoaders`: we will use an `LMDataLoader` since we have a language modeling problem, not the usual fastai `TfmdDL`."
      ]
    },
    {
      "cell_type": "code",
      "metadata": {
        "colab": {
          "base_uri": "https://localhost:8080/"
        },
        "id": "2g1JyT2saX8H",
        "outputId": "3a0d22f2-06e6-435b-8602-caaab7205ba1"
      },
      "source": [
        "show_at(tls.train, 3)"
      ],
      "execution_count": 34,
      "outputs": [
        {
          "output_type": "stream",
          "text": [
            "Mon dieu! Quelle métaphore filée! Je suis abasourdi! Mais réellement, ici on a une métaphore filée de l'acceptation que sa mère puisse à nouveau avoir une sexualité avec quelqu'un d'autre que son papounet chéri! Freud est aux anges et moi aussi! Sauf qu'en fait c'est nul... Ce n'est pas un Disney Channel Original Movie très intéressant, faut dire qu'il est franchement vieux, il date de l'an 2000, d'un autre millénaire! Les gens qui ont fait ce film n'ont pas connu le 11 septembre! Vous vous rendez compte? Toute cette candeur était encore possible! époque bénie des dieux! Outre la blague, on retrouve déjà tous les poncifs du genre, la meilleure amie noire, l'ennemie qui devient l'amie... la belle soeur qui au début énerve et puis finalement on s'y attache... oh que c'est mignon... ça me donne la nausée. Bref vous n'aurez compris rien que du très classique ici, mais ce qui m'énerve c'est la tête des actrices, sérieusement, c'est physique, rien que voir leur tête me donne des envies de meurtre, que je tente de réprimer bien entendu... mais le pire c'est le beau père... une catastrophe... c'est \"censé\" être le personnage \"comique\", mais on est au niveau Kev Adams de l'humour... Un sketch de Norman c'est drôle à côté... Oui, parfaitement, j'ose aller jusque là! Je n'ai peur de rien! Du coup c'est plus une curiosité qu'autre chose... je crois vraiment que l'âge d'or du DCOM (vers la fin des années 2000 et début 2010), ce qui les rend si frais et si beaux n'oeuvre pas encore ici. C'est juste long et chiant. Je note néanmoins quelques tentatives d'humour, genre le beau gosse qui dit qu'il aime faire de la planche à voile (je traduis) car il y a une planche et de la voile... ce à quoi la fille répond les yeux amoureux \"je n'ai jamais vu ça sous cet angle\". J'ai souri... (pas au premier degré bien sûr). Bon prochaine étape déterrer un DCOM des années 90, je ne suis pas certain d'en avoir déjà vu!\n"
          ],
          "name": "stdout"
        }
      ]
    },
    {
      "cell_type": "code",
      "metadata": {
        "colab": {
          "base_uri": "https://localhost:8080/"
        },
        "id": "LIIR2Vggaa0K",
        "outputId": "17541421-6968-4ed2-c0de-ceee259d3c0c"
      },
      "source": [
        "show_at(tls.valid, 3)"
      ],
      "execution_count": 35,
      "outputs": [
        {
          "output_type": "stream",
          "text": [
            "L'idée est très bonne mais le film manque de rythme malgré sa courte durée, et il me parait \"vieillot\" et je ne dis pas ça en raison de sa date de sortie.\n"
          ],
          "name": "stdout"
        }
      ]
    },
    {
      "cell_type": "code",
      "metadata": {
        "id": "tsgeqAeHan3s"
      },
      "source": [
        "bs,sl = 8, 256 #4,256\n",
        "dls = tls.dataloaders(bs=bs, seq_len=sl)"
      ],
      "execution_count": 36,
      "outputs": []
    },
    {
      "cell_type": "markdown",
      "metadata": {
        "id": "Z1JKdNz-c0zp"
      },
      "source": [
        "NOTE: Note that you may have to reduce the batch size depending on your GPU/RAM."
      ]
    },
    {
      "cell_type": "code",
      "metadata": {
        "colab": {
          "base_uri": "https://localhost:8080/",
          "height": 502
        },
        "id": "aN8MZJK4aimy",
        "outputId": "5ae4af06-62ab-4632-9e0d-8b0d5934bd30"
      },
      "source": [
        "dls.show_batch(max_n=2)"
      ],
      "execution_count": 37,
      "outputs": [
        {
          "output_type": "display_data",
          "data": {
            "text/html": [
              "<table border=\"1\" class=\"dataframe\">\n",
              "  <thead>\n",
              "    <tr style=\"text-align: right;\">\n",
              "      <th></th>\n",
              "      <th>text</th>\n",
              "      <th>text_</th>\n",
              "    </tr>\n",
              "  </thead>\n",
              "  <tbody>\n",
              "    <tr>\n",
              "      <th>0</th>\n",
              "      <td>Voilà un très bon film qui sait traiter avec humour et dérision un sujet on ne peut plus sérieux, c'est-à-dire le traitement de l'actualité par les médias et le rapport entre les politiques et l'information. C'est peut-être un peu exagéré, quoique...Où l'on retrouve la Claire Denis que l'on aima pour Chocolat, S'en fout la mort, J'ai pas sommeil... Du très grand cinéma, qui réussit à transfigurer complètement des endroits d'une grande laideur objective : pylones, voies de Rer, immeubles barre de banlieue.. Acteurs superbes, et référence au meilleur cinéma d'Ozu, tendresse. Un beau film.Je ne suis pas trop fan d'Alexandre Arcady, mais de là à le voir tomber aussi bas... C'est simple, il n'y a RIEN à sauver de ce film. De l'intrigue incroyablement indigente à des interprètes se battant dans le vide pour débiter des répliques consternantes d'ineptie, je suis resté bouche bée que pareil spectacle de théâtre de</td>\n",
              "      <td>un très bon film qui sait traiter avec humour et dérision un sujet on ne peut plus sérieux, c'est-à-dire le traitement de l'actualité par les médias et le rapport entre les politiques et l'information. C'est peut-être un peu exagéré, quoique...Où l'on retrouve la Claire Denis que l'on aima pour Chocolat, S'en fout la mort, J'ai pas sommeil... Du très grand cinéma, qui réussit à transfigurer complètement des endroits d'une grande laideur objective : pylones, voies de Rer, immeubles barre de banlieue.. Acteurs superbes, et référence au meilleur cinéma d'Ozu, tendresse. Un beau film.Je ne suis pas trop fan d'Alexandre Arcady, mais de là à le voir tomber aussi bas... C'est simple, il n'y a RIEN à sauver de ce film. De l'intrigue incroyablement indigente à des interprètes se battant dans le vide pour débiter des répliques consternantes d'ineptie, je suis resté bouche bée que pareil spectacle de théâtre de</td>\n",
              "    </tr>\n",
              "    <tr>\n",
              "      <th>1</th>\n",
              "      <td>pour les gens.......L’une des aventures de Ulysse durant son Odyssée d’une vingtaine d’années sur l’île de la Brume hantée par la déesse déchue Perséphone et ses créatures vampiriques. Dans cette version, le jeune Homère est parti prenante de l’action. Un TV film qui se regarde avec ses scènes gores et mythologiques mais qui s’oublie aussi sec.Je suis très étonné de voir que ce film soit si peu diffusé et reçoive en plus des critiques mitigées...et injustes. Ce film a été pour moi une véritable bouffée d'air frais parmi tous les navets de cet été. Ce qui m'a le plus touché est la sincérité et la pureté des personnages, en quête de sens à travers différentes histoires d'amour/d'amitié qui s'entrecroisent de façon subtile. Le film oscille tout le long entre tragique et comique, avec naturellement une place de choix réservée à la nature (les parcs de Tokyo...), et un soupçon</td>\n",
              "      <td>les gens.......L’une des aventures de Ulysse durant son Odyssée d’une vingtaine d’années sur l’île de la Brume hantée par la déesse déchue Perséphone et ses créatures vampiriques. Dans cette version, le jeune Homère est parti prenante de l’action. Un TV film qui se regarde avec ses scènes gores et mythologiques mais qui s’oublie aussi sec.Je suis très étonné de voir que ce film soit si peu diffusé et reçoive en plus des critiques mitigées...et injustes. Ce film a été pour moi une véritable bouffée d'air frais parmi tous les navets de cet été. Ce qui m'a le plus touché est la sincérité et la pureté des personnages, en quête de sens à travers différentes histoires d'amour/d'amitié qui s'entrecroisent de façon subtile. Le film oscille tout le long entre tragique et comique, avec naturellement une place de choix réservée à la nature (les parcs de Tokyo...), et un soupçon de</td>\n",
              "    </tr>\n",
              "  </tbody>\n",
              "</table>"
            ],
            "text/plain": [
              "<IPython.core.display.HTML object>"
            ]
          },
          "metadata": {
            "tags": []
          }
        }
      ]
    },
    {
      "cell_type": "markdown",
      "metadata": {
        "id": "Iswz1iVlc6vV"
      },
      "source": [
        "NOTE:  In fastai, as soon as we have a DataLoaders, we can use `show_batch` to have a look at the data (here `text` for inputs, and `text_` the same text shifted by one token to the right for validation)."
      ]
    },
    {
      "cell_type": "markdown",
      "metadata": {
        "id": "aOSHndW8dUZC"
      },
      "source": [
        "Another way to gather the data is to preprocess the texts once and for all and only use the transform to decode the tensors to texts:"
      ]
    },
    {
      "cell_type": "code",
      "metadata": {
        "colab": {
          "base_uri": "https://localhost:8080/",
          "height": 37
        },
        "id": "JEYnSCNHaxWG",
        "outputId": "e1a37f29-969a-475e-8ca9-d3e9508f521a"
      },
      "source": [
        "# tokenizing the movie reviews (all_texts)\n",
        "def tokenize(text):\n",
        "    toks = tokenizer.tokenize(text)\n",
        "    return tensor(tokenizer.convert_tokens_to_ids(toks))\n",
        "\n",
        "tokenized = [tokenize(t) for t in progress_bar(all_texts)]"
      ],
      "execution_count": 38,
      "outputs": [
        {
          "output_type": "display_data",
          "data": {
            "text/html": [
              "\n",
              "    <div>\n",
              "        <style>\n",
              "            /* Turns off some styling */\n",
              "            progress {\n",
              "                /* gets rid of default border in Firefox and Opera. */\n",
              "                border: none;\n",
              "                /* Needs to be in here for Safari polyfill so background images work as expected. */\n",
              "                background-size: auto;\n",
              "            }\n",
              "            .progress-bar-interrupted, .progress-bar-interrupted::-webkit-progress-bar {\n",
              "                background: #F44336;\n",
              "            }\n",
              "        </style>\n",
              "      <progress value='11000' class='' max='11000' style='width:300px; height:20px; vertical-align: middle;'></progress>\n",
              "      100.00% [11000/11000 00:07<00:00]\n",
              "    </div>\n",
              "    "
            ],
            "text/plain": [
              "<IPython.core.display.HTML object>"
            ]
          },
          "metadata": {
            "tags": []
          }
        }
      ]
    },
    {
      "cell_type": "code",
      "metadata": {
        "colab": {
          "base_uri": "https://localhost:8080/"
        },
        "id": "zM7jKD9lfk8-",
        "outputId": "cf9569a8-ec34-494f-c553-78d112a1e2c7"
      },
      "source": [
        "# tokenized is a list; checking its length\n",
        "len(tokenized)"
      ],
      "execution_count": 39,
      "outputs": [
        {
          "output_type": "execute_result",
          "data": {
            "text/plain": [
              "11000"
            ]
          },
          "metadata": {
            "tags": []
          },
          "execution_count": 39
        }
      ]
    },
    {
      "cell_type": "code",
      "metadata": {
        "colab": {
          "base_uri": "https://localhost:8080/"
        },
        "id": "lAC03WKqhWyN",
        "outputId": "aead62d4-a05c-4988-f6b7-d789ffb40c82"
      },
      "source": [
        "# adding new tokens to the vocab language modeling\n",
        "print(\"[ BEFORE ] tokenizer vocab size:\", len(tokenizer)) \n",
        "added_tokens = tokenizer.add_tokens(tokenized)\n",
        "print(\"[ AFTER ] tokenizer vocab size:\", len(tokenizer))"
      ],
      "execution_count": 40,
      "outputs": [
        {
          "output_type": "stream",
          "text": [
            "[ BEFORE ] tokenizer vocab size: 50257\n",
            "[ AFTER ] tokenizer vocab size: 61252\n"
          ],
          "name": "stdout"
        }
      ]
    },
    {
      "cell_type": "code",
      "metadata": {
        "colab": {
          "base_uri": "https://localhost:8080/"
        },
        "id": "x-6tqQhPiS0m",
        "outputId": "14930d63-757c-4e16-f8c4-7538c2b15fbc"
      },
      "source": [
        "# resize the embeddings matrix of the model \n",
        "model.resize_token_embeddings(len(tokenizer))"
      ],
      "execution_count": 41,
      "outputs": [
        {
          "output_type": "execute_result",
          "data": {
            "text/plain": [
              "Embedding(61252, 768)"
            ]
          },
          "metadata": {
            "tags": []
          },
          "execution_count": 41
        }
      ]
    },
    {
      "cell_type": "code",
      "metadata": {
        "colab": {
          "base_uri": "https://localhost:8080/"
        },
        "id": "Uy0_KqnOomEM",
        "outputId": "a6ea56a5-f24e-4e51-f715-2e0fb516b2ab"
      },
      "source": [
        "# checking some specific tokens as per the newly addid vocabulary\n",
        "vocab = [tok for tok,index in tokenizer.get_vocab().items()]\n",
        "\"film\" in vocab, \"fiction\" in vocab, \"avis\" in vocab"
      ],
      "execution_count": 42,
      "outputs": [
        {
          "output_type": "execute_result",
          "data": {
            "text/plain": [
              "(True, True, True)"
            ]
          },
          "metadata": {
            "tags": []
          },
          "execution_count": 42
        }
      ]
    },
    {
      "cell_type": "markdown",
      "metadata": {
        "id": "a3Vbe4nsde7V"
      },
      "source": [
        "\n",
        "\n",
        "```\n",
        "# amr previous tokenizer\n",
        "class TransformersTokenizer(Transform):\n",
        "    def __init__(self, tokenizer): self.tokenizer = tokenizer\n",
        "    def encodes(self, x): \n",
        "        toks = self.tokenizer.tokenize(x)\n",
        "        return tensor(self.tokenizer.convert_tokens_to_ids(toks))\n",
        "    def decodes(self, x): return TitledStr(self.tokenizer.decode(x.cpu().numpy()))\n",
        "```\n",
        "\n",
        "Now we change the previous Tokenizer like this:"
      ]
    },
    {
      "cell_type": "code",
      "metadata": {
        "id": "MEPV7RGea3Lu"
      },
      "source": [
        "class TransformersTokenizer(Transform):\n",
        "    def __init__(self, tokenizer): self.tokenizer = tokenizer\n",
        "    def encodes(self, x): \n",
        "        return x if isinstance(x, Tensor) else tokenize(x)\n",
        "        \n",
        "    def decodes(self, x): return TitledStr(self.tokenizer.decode(x.cpu().numpy()))"
      ],
      "execution_count": 43,
      "outputs": []
    },
    {
      "cell_type": "markdown",
      "metadata": {
        "id": "Q7bdcERQdlFe"
      },
      "source": [
        "NOTE: In the encodes method, we still account for the case where we get something that's not already tokenized, just in case we were to build a dataset with new texts using this transform."
      ]
    },
    {
      "cell_type": "code",
      "metadata": {
        "id": "C_hmjgKZa-YF"
      },
      "source": [
        "# transformation list \n",
        "tls = TfmdLists(tokenized, TransformersTokenizer(tokenizer), splits=splits, dl_type=LMDataLoader)"
      ],
      "execution_count": 44,
      "outputs": []
    },
    {
      "cell_type": "code",
      "metadata": {
        "colab": {
          "base_uri": "https://localhost:8080/"
        },
        "id": "TlpIa-1YJsbR",
        "outputId": "e0807722-6932-4055-f7ec-631020b8345a"
      },
      "source": [
        "type(tls)"
      ],
      "execution_count": 45,
      "outputs": [
        {
          "output_type": "execute_result",
          "data": {
            "text/plain": [
              "fastai.data.core.TfmdLists"
            ]
          },
          "metadata": {
            "tags": []
          },
          "execution_count": 45
        }
      ]
    },
    {
      "cell_type": "code",
      "metadata": {
        "id": "Y7Mipl8Ad3XX"
      },
      "source": [
        "dls_lm = tls.dataloaders(bs=bs, seq_len=sl) #bs=8, sl=256"
      ],
      "execution_count": 46,
      "outputs": []
    },
    {
      "cell_type": "code",
      "metadata": {
        "colab": {
          "base_uri": "https://localhost:8080/",
          "height": 502
        },
        "id": "k1LfAUfEbGPY",
        "outputId": "3143e783-2b7e-4d8e-8cec-6bf054071980"
      },
      "source": [
        "dls_lm.show_batch(max_n=2)"
      ],
      "execution_count": 47,
      "outputs": [
        {
          "output_type": "display_data",
          "data": {
            "text/html": [
              "<table border=\"1\" class=\"dataframe\">\n",
              "  <thead>\n",
              "    <tr style=\"text-align: right;\">\n",
              "      <th></th>\n",
              "      <th>text</th>\n",
              "      <th>text_</th>\n",
              "    </tr>\n",
              "  </thead>\n",
              "  <tbody>\n",
              "    <tr>\n",
              "      <th>0</th>\n",
              "      <td>En 1983, dans un institut New Age transformé en prison oppressante, une étrange jeune fille est séquestrée et étudiée par un savant psychopathe. Fils du très inégal George P. Cosmatos, Panos Cosmatos nous livre ici une œuvre très personnelle, renouant avec les films de SF psychédéliques des 70's et 80's, tels que \"Altered States\", \"Phase IV\", \"Solaris\" ou \"THX 1138\". Tout d'abord, soyez prévenus : l'ensemble est très lent, et l'intrigue limitée, sans compter de nombreux points qui restent volontairement sans réponse. En effet, le réalisateur choisit de captiver son spectateur avec une ambiance hypnotique et anxiogène. A ce niveau, les visuels sont superbes, entre un travail sur les couleurs saturées (intérieurs rouges et noirs, une séquence de flash-back en noir et blanc hautement contrastée), des cadrages et des gros plans troublants, des visuels dérangeants et parfois quasi surréalistes. Sans compter une BO au synthé évoquant les film d'horreur des</td>\n",
              "      <td>1983, dans un institut New Age transformé en prison oppressante, une étrange jeune fille est séquestrée et étudiée par un savant psychopathe. Fils du très inégal George P. Cosmatos, Panos Cosmatos nous livre ici une œuvre très personnelle, renouant avec les films de SF psychédéliques des 70's et 80's, tels que \"Altered States\", \"Phase IV\", \"Solaris\" ou \"THX 1138\". Tout d'abord, soyez prévenus : l'ensemble est très lent, et l'intrigue limitée, sans compter de nombreux points qui restent volontairement sans réponse. En effet, le réalisateur choisit de captiver son spectateur avec une ambiance hypnotique et anxiogène. A ce niveau, les visuels sont superbes, entre un travail sur les couleurs saturées (intérieurs rouges et noirs, une séquence de flash-back en noir et blanc hautement contrastée), des cadrages et des gros plans troublants, des visuels dérangeants et parfois quasi surréalistes. Sans compter une BO au synthé évoquant les film d'horreur des</td>\n",
              "    </tr>\n",
              "    <tr>\n",
              "      <th>1</th>\n",
              "      <td>finesse de tricoter. Etrangement sorti sous le titre de « The Badge » en vidéo, alors qu’au cinéma, il était intitulé « Behind The Badge », le film a été traduit en français par « En Eaux Troubles ». Comme c’est souvent le cas, cette traduction française manque de justesse. Certes, elle traduit le concept d’imbroglio qu’est l’enquête. Mais « Derrière l’insigne », une traduction plus adéquate, aurait eu le mérite de mieux véhiculer la métaphore filée de Henson : une société vivant perpétuellement dans l’ambiguïté. A l’image du porteur du badge, le shérif, en personne. Sous des dehors de gros bof en dérive, il est sensible et finalement intègre. A l’image des notables, également. Eux, qui présentent une façade respectable mais à l’intérieur, sont puants. A l’image de la victime, elle-même, qui, de par sa condition transsexuelle, ainsi que l’univers qu’elle représente est une honte</td>\n",
              "      <td>de tricoter. Etrangement sorti sous le titre de « The Badge » en vidéo, alors qu’au cinéma, il était intitulé « Behind The Badge », le film a été traduit en français par « En Eaux Troubles ». Comme c’est souvent le cas, cette traduction française manque de justesse. Certes, elle traduit le concept d’imbroglio qu’est l’enquête. Mais « Derrière l’insigne », une traduction plus adéquate, aurait eu le mérite de mieux véhiculer la métaphore filée de Henson : une société vivant perpétuellement dans l’ambiguïté. A l’image du porteur du badge, le shérif, en personne. Sous des dehors de gros bof en dérive, il est sensible et finalement intègre. A l’image des notables, également. Eux, qui présentent une façade respectable mais à l’intérieur, sont puants. A l’image de la victime, elle-même, qui, de par sa condition transsexuelle, ainsi que l’univers qu’elle représente est une honte pour</td>\n",
              "    </tr>\n",
              "  </tbody>\n",
              "</table>"
            ],
            "text/plain": [
              "<IPython.core.display.HTML object>"
            ]
          },
          "metadata": {
            "tags": []
          }
        }
      ]
    },
    {
      "cell_type": "markdown",
      "metadata": {
        "id": "WiNh4cVysLX0"
      },
      "source": [
        "## Fine Tuning the Model - Layer Groups\n",
        "\n"
      ]
    },
    {
      "cell_type": "markdown",
      "metadata": {
        "id": "sv2YmBSPySvE"
      },
      "source": [
        "The model has 2 main layers groups: `transformer` and `lm_head`. As we can read in [The illustrated GPT2](http://jalammar.github.io/illustrated-gpt2/#model-output), the `lm_head` is a copy of the embeddings matrix `wte`. Therefore, we need to split only the `transformer` layers group to get all layers."
      ]
    },
    {
      "cell_type": "markdown",
      "metadata": {
        "id": "_woNyX2CySvF"
      },
      "source": [
        "- `transformer`\n",
        "  - (wte) embeddings (tokens --> embeddings of tokens)\n",
        "  - (wpe) positionning \n",
        "  - 12 decoder blocks (attention heads)\n",
        "- `lm_head`\n",
        "  - LayerNorm\n",
        "\n",
        "Note: the last layer is a copy of the embeddings matrix wte in order to get after the softmax probability of each token in the vocab."
      ]
    },
    {
      "cell_type": "markdown",
      "metadata": {
        "id": "u3Rib9F2ySvF"
      },
      "source": [
        "Now, we can create our layers groups that will allow us to use fastai v2 fine-tuning techniques:\n",
        "- Differential learning rates (a specific learning rate is setup by layers group)\n",
        "- Gradual unfreezing (layers groups are defined allowing to decide the layers to be trained)"
      ]
    },
    {
      "cell_type": "markdown",
      "metadata": {
        "id": "SJ_fD1SSySvG"
      },
      "source": [
        "We decided to follow the fine-tuning method showed in the notebook [10_nlp.ipynb](https://github.com/fastai/fastbook/blob/master/10_nlp.ipynb) by creating 4 layers groups: 3 layers groups of 4 decoder blocks and one embeddings groups with the wte and wpe matrices."
      ]
    },
    {
      "cell_type": "code",
      "metadata": {
        "id": "Shk3ag9DbmDo",
        "colab": {
          "base_uri": "https://localhost:8080/"
        },
        "outputId": "3e6ae90b-1ea0-4877-f130-91dd4d5b56a8"
      },
      "source": [
        "model"
      ],
      "execution_count": 48,
      "outputs": [
        {
          "output_type": "execute_result",
          "data": {
            "text/plain": [
              "GPT2LMHeadModel(\n",
              "  (transformer): GPT2Model(\n",
              "    (wte): Embedding(61252, 768)\n",
              "    (wpe): Embedding(1024, 768)\n",
              "    (drop): Dropout(p=0.1, inplace=False)\n",
              "    (h): ModuleList(\n",
              "      (0): GPT2Block(\n",
              "        (ln_1): LayerNorm((768,), eps=1e-05, elementwise_affine=True)\n",
              "        (attn): GPT2Attention(\n",
              "          (c_attn): Conv1D()\n",
              "          (c_proj): Conv1D()\n",
              "          (attn_dropout): Dropout(p=0.1, inplace=False)\n",
              "          (resid_dropout): Dropout(p=0.1, inplace=False)\n",
              "        )\n",
              "        (ln_2): LayerNorm((768,), eps=1e-05, elementwise_affine=True)\n",
              "        (mlp): GPT2MLP(\n",
              "          (c_fc): Conv1D()\n",
              "          (c_proj): Conv1D()\n",
              "          (dropout): Dropout(p=0.1, inplace=False)\n",
              "        )\n",
              "      )\n",
              "      (1): GPT2Block(\n",
              "        (ln_1): LayerNorm((768,), eps=1e-05, elementwise_affine=True)\n",
              "        (attn): GPT2Attention(\n",
              "          (c_attn): Conv1D()\n",
              "          (c_proj): Conv1D()\n",
              "          (attn_dropout): Dropout(p=0.1, inplace=False)\n",
              "          (resid_dropout): Dropout(p=0.1, inplace=False)\n",
              "        )\n",
              "        (ln_2): LayerNorm((768,), eps=1e-05, elementwise_affine=True)\n",
              "        (mlp): GPT2MLP(\n",
              "          (c_fc): Conv1D()\n",
              "          (c_proj): Conv1D()\n",
              "          (dropout): Dropout(p=0.1, inplace=False)\n",
              "        )\n",
              "      )\n",
              "      (2): GPT2Block(\n",
              "        (ln_1): LayerNorm((768,), eps=1e-05, elementwise_affine=True)\n",
              "        (attn): GPT2Attention(\n",
              "          (c_attn): Conv1D()\n",
              "          (c_proj): Conv1D()\n",
              "          (attn_dropout): Dropout(p=0.1, inplace=False)\n",
              "          (resid_dropout): Dropout(p=0.1, inplace=False)\n",
              "        )\n",
              "        (ln_2): LayerNorm((768,), eps=1e-05, elementwise_affine=True)\n",
              "        (mlp): GPT2MLP(\n",
              "          (c_fc): Conv1D()\n",
              "          (c_proj): Conv1D()\n",
              "          (dropout): Dropout(p=0.1, inplace=False)\n",
              "        )\n",
              "      )\n",
              "      (3): GPT2Block(\n",
              "        (ln_1): LayerNorm((768,), eps=1e-05, elementwise_affine=True)\n",
              "        (attn): GPT2Attention(\n",
              "          (c_attn): Conv1D()\n",
              "          (c_proj): Conv1D()\n",
              "          (attn_dropout): Dropout(p=0.1, inplace=False)\n",
              "          (resid_dropout): Dropout(p=0.1, inplace=False)\n",
              "        )\n",
              "        (ln_2): LayerNorm((768,), eps=1e-05, elementwise_affine=True)\n",
              "        (mlp): GPT2MLP(\n",
              "          (c_fc): Conv1D()\n",
              "          (c_proj): Conv1D()\n",
              "          (dropout): Dropout(p=0.1, inplace=False)\n",
              "        )\n",
              "      )\n",
              "      (4): GPT2Block(\n",
              "        (ln_1): LayerNorm((768,), eps=1e-05, elementwise_affine=True)\n",
              "        (attn): GPT2Attention(\n",
              "          (c_attn): Conv1D()\n",
              "          (c_proj): Conv1D()\n",
              "          (attn_dropout): Dropout(p=0.1, inplace=False)\n",
              "          (resid_dropout): Dropout(p=0.1, inplace=False)\n",
              "        )\n",
              "        (ln_2): LayerNorm((768,), eps=1e-05, elementwise_affine=True)\n",
              "        (mlp): GPT2MLP(\n",
              "          (c_fc): Conv1D()\n",
              "          (c_proj): Conv1D()\n",
              "          (dropout): Dropout(p=0.1, inplace=False)\n",
              "        )\n",
              "      )\n",
              "      (5): GPT2Block(\n",
              "        (ln_1): LayerNorm((768,), eps=1e-05, elementwise_affine=True)\n",
              "        (attn): GPT2Attention(\n",
              "          (c_attn): Conv1D()\n",
              "          (c_proj): Conv1D()\n",
              "          (attn_dropout): Dropout(p=0.1, inplace=False)\n",
              "          (resid_dropout): Dropout(p=0.1, inplace=False)\n",
              "        )\n",
              "        (ln_2): LayerNorm((768,), eps=1e-05, elementwise_affine=True)\n",
              "        (mlp): GPT2MLP(\n",
              "          (c_fc): Conv1D()\n",
              "          (c_proj): Conv1D()\n",
              "          (dropout): Dropout(p=0.1, inplace=False)\n",
              "        )\n",
              "      )\n",
              "      (6): GPT2Block(\n",
              "        (ln_1): LayerNorm((768,), eps=1e-05, elementwise_affine=True)\n",
              "        (attn): GPT2Attention(\n",
              "          (c_attn): Conv1D()\n",
              "          (c_proj): Conv1D()\n",
              "          (attn_dropout): Dropout(p=0.1, inplace=False)\n",
              "          (resid_dropout): Dropout(p=0.1, inplace=False)\n",
              "        )\n",
              "        (ln_2): LayerNorm((768,), eps=1e-05, elementwise_affine=True)\n",
              "        (mlp): GPT2MLP(\n",
              "          (c_fc): Conv1D()\n",
              "          (c_proj): Conv1D()\n",
              "          (dropout): Dropout(p=0.1, inplace=False)\n",
              "        )\n",
              "      )\n",
              "      (7): GPT2Block(\n",
              "        (ln_1): LayerNorm((768,), eps=1e-05, elementwise_affine=True)\n",
              "        (attn): GPT2Attention(\n",
              "          (c_attn): Conv1D()\n",
              "          (c_proj): Conv1D()\n",
              "          (attn_dropout): Dropout(p=0.1, inplace=False)\n",
              "          (resid_dropout): Dropout(p=0.1, inplace=False)\n",
              "        )\n",
              "        (ln_2): LayerNorm((768,), eps=1e-05, elementwise_affine=True)\n",
              "        (mlp): GPT2MLP(\n",
              "          (c_fc): Conv1D()\n",
              "          (c_proj): Conv1D()\n",
              "          (dropout): Dropout(p=0.1, inplace=False)\n",
              "        )\n",
              "      )\n",
              "      (8): GPT2Block(\n",
              "        (ln_1): LayerNorm((768,), eps=1e-05, elementwise_affine=True)\n",
              "        (attn): GPT2Attention(\n",
              "          (c_attn): Conv1D()\n",
              "          (c_proj): Conv1D()\n",
              "          (attn_dropout): Dropout(p=0.1, inplace=False)\n",
              "          (resid_dropout): Dropout(p=0.1, inplace=False)\n",
              "        )\n",
              "        (ln_2): LayerNorm((768,), eps=1e-05, elementwise_affine=True)\n",
              "        (mlp): GPT2MLP(\n",
              "          (c_fc): Conv1D()\n",
              "          (c_proj): Conv1D()\n",
              "          (dropout): Dropout(p=0.1, inplace=False)\n",
              "        )\n",
              "      )\n",
              "      (9): GPT2Block(\n",
              "        (ln_1): LayerNorm((768,), eps=1e-05, elementwise_affine=True)\n",
              "        (attn): GPT2Attention(\n",
              "          (c_attn): Conv1D()\n",
              "          (c_proj): Conv1D()\n",
              "          (attn_dropout): Dropout(p=0.1, inplace=False)\n",
              "          (resid_dropout): Dropout(p=0.1, inplace=False)\n",
              "        )\n",
              "        (ln_2): LayerNorm((768,), eps=1e-05, elementwise_affine=True)\n",
              "        (mlp): GPT2MLP(\n",
              "          (c_fc): Conv1D()\n",
              "          (c_proj): Conv1D()\n",
              "          (dropout): Dropout(p=0.1, inplace=False)\n",
              "        )\n",
              "      )\n",
              "      (10): GPT2Block(\n",
              "        (ln_1): LayerNorm((768,), eps=1e-05, elementwise_affine=True)\n",
              "        (attn): GPT2Attention(\n",
              "          (c_attn): Conv1D()\n",
              "          (c_proj): Conv1D()\n",
              "          (attn_dropout): Dropout(p=0.1, inplace=False)\n",
              "          (resid_dropout): Dropout(p=0.1, inplace=False)\n",
              "        )\n",
              "        (ln_2): LayerNorm((768,), eps=1e-05, elementwise_affine=True)\n",
              "        (mlp): GPT2MLP(\n",
              "          (c_fc): Conv1D()\n",
              "          (c_proj): Conv1D()\n",
              "          (dropout): Dropout(p=0.1, inplace=False)\n",
              "        )\n",
              "      )\n",
              "      (11): GPT2Block(\n",
              "        (ln_1): LayerNorm((768,), eps=1e-05, elementwise_affine=True)\n",
              "        (attn): GPT2Attention(\n",
              "          (c_attn): Conv1D()\n",
              "          (c_proj): Conv1D()\n",
              "          (attn_dropout): Dropout(p=0.1, inplace=False)\n",
              "          (resid_dropout): Dropout(p=0.1, inplace=False)\n",
              "        )\n",
              "        (ln_2): LayerNorm((768,), eps=1e-05, elementwise_affine=True)\n",
              "        (mlp): GPT2MLP(\n",
              "          (c_fc): Conv1D()\n",
              "          (c_proj): Conv1D()\n",
              "          (dropout): Dropout(p=0.1, inplace=False)\n",
              "        )\n",
              "      )\n",
              "    )\n",
              "    (ln_f): LayerNorm((768,), eps=1e-05, elementwise_affine=True)\n",
              "  )\n",
              "  (lm_head): Linear(in_features=768, out_features=61252, bias=False)\n",
              ")"
            ]
          },
          "metadata": {
            "tags": []
          },
          "execution_count": 48
        }
      ]
    },
    {
      "cell_type": "markdown",
      "metadata": {
        "id": "LjZFStWfEgNb"
      },
      "source": [
        "NOTE: [annotated GPT2 explanation](https://amaarora.github.io/2020/02/18/annotatedGPT2.html)"
      ]
    },
    {
      "cell_type": "code",
      "metadata": {
        "colab": {
          "base_uri": "https://localhost:8080/"
        },
        "id": "P5wmkRhjssKz",
        "outputId": "b3b40c18-2bfc-48cd-8cb7-6eddb1429a6e"
      },
      "source": [
        "# Example of a decoder block (attention head)\n",
        "model.transformer.h[0]"
      ],
      "execution_count": 49,
      "outputs": [
        {
          "output_type": "execute_result",
          "data": {
            "text/plain": [
              "GPT2Block(\n",
              "  (ln_1): LayerNorm((768,), eps=1e-05, elementwise_affine=True)\n",
              "  (attn): GPT2Attention(\n",
              "    (c_attn): Conv1D()\n",
              "    (c_proj): Conv1D()\n",
              "    (attn_dropout): Dropout(p=0.1, inplace=False)\n",
              "    (resid_dropout): Dropout(p=0.1, inplace=False)\n",
              "  )\n",
              "  (ln_2): LayerNorm((768,), eps=1e-05, elementwise_affine=True)\n",
              "  (mlp): GPT2MLP(\n",
              "    (c_fc): Conv1D()\n",
              "    (c_proj): Conv1D()\n",
              "    (dropout): Dropout(p=0.1, inplace=False)\n",
              "  )\n",
              ")"
            ]
          },
          "metadata": {
            "tags": []
          },
          "execution_count": 49
        }
      ]
    },
    {
      "cell_type": "markdown",
      "metadata": {
        "id": "OSnfJPF3s2bW"
      },
      "source": [
        "### Splitting the model into layer groups"
      ]
    },
    {
      "cell_type": "code",
      "metadata": {
        "id": "T24ALgKMJ5wq"
      },
      "source": [
        "# deviding model parameters into group\n",
        "def default_splitter(model):\n",
        "    groups = L(model.base_model.children()) + L(m for m in list(model.children())[1:] if params(m))\n",
        "    return groups.map(params)"
      ],
      "execution_count": 50,
      "outputs": []
    },
    {
      "cell_type": "markdown",
      "metadata": {
        "id": "0JpMXek_bW-h"
      },
      "source": [
        "## Learner\n",
        "\n",
        "Now, we are ready to create our Learner, which is a fastai object grouping data, model and loss function and handles model training or inference. Since we are in a language model setting, we pass accuracy and perplexity as metrics, and we need to use the callback we just defined. Lastly, we use mixed precision to save every bit of memory we can (and if you have a modern GPU, it will also make training faster)."
      ]
    },
    {
      "cell_type": "code",
      "metadata": {
        "id": "EWdS-piIUO7N"
      },
      "source": [
        "# del learn"
      ],
      "execution_count": 51,
      "outputs": []
    },
    {
      "cell_type": "markdown",
      "metadata": {
        "id": "JsiO9KBZpJ1f"
      },
      "source": [
        "The Hugging Face model will return a tuple in outputs, with the actual predictions and some additional activations (should we want to use them is some regularization scheme). To work inside the fastai training loop, we will need to drop those using a Callback: we use those to alter the behavior of the training loop.\n",
        "\n",
        "Here we need to write the event after_pred and replace self.learn.pred (which contains the predictions that will be passed to the loss function) by just its first element. In callbacks, there is a shortcut that lets you access any of the underlying Learner attribute so we can write self.pred[0] instead of self.learn.pred[0]. That shorcut only works for read access, not write, so we have to write self.learn.pred on the right side (otherwise we would set a pred attribute in the Callback)."
      ]
    },
    {
      "cell_type": "code",
      "metadata": {
        "id": "tCTZHdsJN6IF"
      },
      "source": [
        "class DropOutput(Callback):\n",
        "    def after_pred(self): self.learn.pred = self.pred[0]"
      ],
      "execution_count": 52,
      "outputs": []
    },
    {
      "cell_type": "code",
      "metadata": {
        "id": "i-pA-ZIgvT2D"
      },
      "source": [
        "learn = Learner(dls_lm, model, loss_func=CrossEntropyLossFlat(),\n",
        "                splitter = default_splitter,\n",
        "                cbs=[DropOutput], \n",
        "                metrics=[accuracy, Perplexity()]).to_fp16()"
      ],
      "execution_count": 53,
      "outputs": []
    },
    {
      "cell_type": "markdown",
      "metadata": {
        "id": "ppRkQHkuwNHl"
      },
      "source": [
        "We can check how good the model is without any fine-tuning step."
      ]
    },
    {
      "cell_type": "code",
      "metadata": {
        "id": "8mrqJKlhbzYS",
        "colab": {
          "base_uri": "https://localhost:8080/",
          "height": 34
        },
        "outputId": "60a24466-686f-4d17-8984-e91d59ab1c69"
      },
      "source": [
        "learn.validate()"
      ],
      "execution_count": 54,
      "outputs": [
        {
          "output_type": "display_data",
          "data": {
            "text/html": [
              ""
            ],
            "text/plain": [
              "<IPython.core.display.HTML object>"
            ]
          },
          "metadata": {
            "tags": []
          }
        },
        {
          "output_type": "execute_result",
          "data": {
            "text/plain": [
              "(#3) [5.282293319702148,0.24901019036769867,196.8207244873047]"
            ]
          },
          "metadata": {
            "tags": []
          },
          "execution_count": 54
        }
      ]
    },
    {
      "cell_type": "markdown",
      "metadata": {
        "id": "nUe3cUMbvlO6"
      },
      "source": [
        "NOTE: The values above show the the validation loss, accuracy, and perplexity.\n",
        "- validation loss = 5.2817034\n",
        "- accuracy = 0.24901019\n",
        "- perplexity = 196.7046666"
      ]
    },
    {
      "cell_type": "markdown",
      "metadata": {
        "id": "AUMr-fUFwWEc"
      },
      "source": [
        "Now that we have a Learner, we will use during training all the fine-tuning techniques seen for classification model training (see the notebook [10_nlp.ipynb](https://github.com/royam0820/fastai2-v4/blob/master/10_nlp.ipynb) about \"NLP Deep Dive: RNNs\") to take advantage of the Transfer Learning of the GPT-2 pre-trained embeddings and model from Hugging Face Transformers:\n",
        "\n",
        "- **The learning rate finder** (method that helps finding the best learning rate to train the model)\n",
        "- **The Mixed precision** training (some of the operations will be done in FP16, others in FP32 in order to speed up the training)\n",
        "- **The gradual unfreezing** (the model has 4 layers groups created by our method splitter : the embedding one and the 3 groups of 4 decoder blocks each)\n",
        "- **1cycle policy** with the method fit_one_cycle() (The 1cycle policy was introduced by Leslie N. Smith et al. in [Super-Convergence: Very Fast Training of Neural Networks Using Large Learning Rates](https://arxiv.org/abs/1708.07120). It schedules the learning rate with a cosine annealing from lr_max/div to lr_max then lr_max/div_final (pass an array to lr_max if you want to use differential learning rates) and the momentum with cosine annealing according to the values in moms. The first phase takes pct_start of the training. You can optionally pass additional cbs and reset_opt.)\n",
        "- **differential learning rates** (each layers group with a learning rate different: the biggest one for the embeddings group, and the smallest one for the first 4 decoder blocks)"
      ]
    },
    {
      "cell_type": "markdown",
      "metadata": {
        "id": "eUKKMd9UxkOP"
      },
      "source": [
        "Freeze all layers but the last layers group (do not freeze wte, wpe embeddings matrices and last LayerNorm)"
      ]
    },
    {
      "cell_type": "code",
      "metadata": {
        "colab": {
          "base_uri": "https://localhost:8080/",
          "height": 1000
        },
        "id": "UtEJDg-4xp8W",
        "outputId": "05729e7e-d80b-4616-bc07-8741c24aec5f"
      },
      "source": [
        "learn.freeze()\n",
        "learn.summary()"
      ],
      "execution_count": 55,
      "outputs": [
        {
          "output_type": "display_data",
          "data": {
            "text/html": [
              ""
            ],
            "text/plain": [
              "<IPython.core.display.HTML object>"
            ]
          },
          "metadata": {
            "tags": []
          }
        },
        {
          "output_type": "execute_result",
          "data": {
            "application/vnd.google.colaboratory.intrinsic+json": {
              "type": "string"
            },
            "text/plain": [
              "GPT2LMHeadModel (Input shape: 8)\n",
              "============================================================================\n",
              "Layer (type)         Output Shape         Param #    Trainable \n",
              "============================================================================\n",
              "                     8 x 256 x 768       \n",
              "Embedding                                 47041536   False     \n",
              "Embedding                                 786432     False     \n",
              "Dropout                                                        \n",
              "LayerNorm                                 1536       True      \n",
              "____________________________________________________________________________\n",
              "                     8 x 256 x 2304      \n",
              "Conv1D                                    1771776    False     \n",
              "Conv1D                                    590592     False     \n",
              "Dropout                                                        \n",
              "Dropout                                                        \n",
              "LayerNorm                                 1536       True      \n",
              "____________________________________________________________________________\n",
              "                     8 x 256 x 3072      \n",
              "Conv1D                                    2362368    False     \n",
              "____________________________________________________________________________\n",
              "                     8 x 256 x 768       \n",
              "Conv1D                                    2360064    False     \n",
              "Dropout                                                        \n",
              "LayerNorm                                 1536       True      \n",
              "____________________________________________________________________________\n",
              "                     8 x 256 x 2304      \n",
              "Conv1D                                    1771776    False     \n",
              "Conv1D                                    590592     False     \n",
              "Dropout                                                        \n",
              "Dropout                                                        \n",
              "LayerNorm                                 1536       True      \n",
              "____________________________________________________________________________\n",
              "                     8 x 256 x 3072      \n",
              "Conv1D                                    2362368    False     \n",
              "____________________________________________________________________________\n",
              "                     8 x 256 x 768       \n",
              "Conv1D                                    2360064    False     \n",
              "Dropout                                                        \n",
              "LayerNorm                                 1536       True      \n",
              "____________________________________________________________________________\n",
              "                     8 x 256 x 2304      \n",
              "Conv1D                                    1771776    False     \n",
              "Conv1D                                    590592     False     \n",
              "Dropout                                                        \n",
              "Dropout                                                        \n",
              "LayerNorm                                 1536       True      \n",
              "____________________________________________________________________________\n",
              "                     8 x 256 x 3072      \n",
              "Conv1D                                    2362368    False     \n",
              "____________________________________________________________________________\n",
              "                     8 x 256 x 768       \n",
              "Conv1D                                    2360064    False     \n",
              "Dropout                                                        \n",
              "LayerNorm                                 1536       True      \n",
              "____________________________________________________________________________\n",
              "                     8 x 256 x 2304      \n",
              "Conv1D                                    1771776    False     \n",
              "Conv1D                                    590592     False     \n",
              "Dropout                                                        \n",
              "Dropout                                                        \n",
              "LayerNorm                                 1536       True      \n",
              "____________________________________________________________________________\n",
              "                     8 x 256 x 3072      \n",
              "Conv1D                                    2362368    False     \n",
              "____________________________________________________________________________\n",
              "                     8 x 256 x 768       \n",
              "Conv1D                                    2360064    False     \n",
              "Dropout                                                        \n",
              "LayerNorm                                 1536       True      \n",
              "____________________________________________________________________________\n",
              "                     8 x 256 x 2304      \n",
              "Conv1D                                    1771776    False     \n",
              "Conv1D                                    590592     False     \n",
              "Dropout                                                        \n",
              "Dropout                                                        \n",
              "LayerNorm                                 1536       True      \n",
              "____________________________________________________________________________\n",
              "                     8 x 256 x 3072      \n",
              "Conv1D                                    2362368    False     \n",
              "____________________________________________________________________________\n",
              "                     8 x 256 x 768       \n",
              "Conv1D                                    2360064    False     \n",
              "Dropout                                                        \n",
              "LayerNorm                                 1536       True      \n",
              "____________________________________________________________________________\n",
              "                     8 x 256 x 2304      \n",
              "Conv1D                                    1771776    False     \n",
              "Conv1D                                    590592     False     \n",
              "Dropout                                                        \n",
              "Dropout                                                        \n",
              "LayerNorm                                 1536       True      \n",
              "____________________________________________________________________________\n",
              "                     8 x 256 x 3072      \n",
              "Conv1D                                    2362368    False     \n",
              "____________________________________________________________________________\n",
              "                     8 x 256 x 768       \n",
              "Conv1D                                    2360064    False     \n",
              "Dropout                                                        \n",
              "LayerNorm                                 1536       True      \n",
              "____________________________________________________________________________\n",
              "                     8 x 256 x 2304      \n",
              "Conv1D                                    1771776    False     \n",
              "Conv1D                                    590592     False     \n",
              "Dropout                                                        \n",
              "Dropout                                                        \n",
              "LayerNorm                                 1536       True      \n",
              "____________________________________________________________________________\n",
              "                     8 x 256 x 3072      \n",
              "Conv1D                                    2362368    False     \n",
              "____________________________________________________________________________\n",
              "                     8 x 256 x 768       \n",
              "Conv1D                                    2360064    False     \n",
              "Dropout                                                        \n",
              "LayerNorm                                 1536       True      \n",
              "____________________________________________________________________________\n",
              "                     8 x 256 x 2304      \n",
              "Conv1D                                    1771776    False     \n",
              "Conv1D                                    590592     False     \n",
              "Dropout                                                        \n",
              "Dropout                                                        \n",
              "LayerNorm                                 1536       True      \n",
              "____________________________________________________________________________\n",
              "                     8 x 256 x 3072      \n",
              "Conv1D                                    2362368    False     \n",
              "____________________________________________________________________________\n",
              "                     8 x 256 x 768       \n",
              "Conv1D                                    2360064    False     \n",
              "Dropout                                                        \n",
              "LayerNorm                                 1536       True      \n",
              "____________________________________________________________________________\n",
              "                     8 x 256 x 2304      \n",
              "Conv1D                                    1771776    False     \n",
              "Conv1D                                    590592     False     \n",
              "Dropout                                                        \n",
              "Dropout                                                        \n",
              "LayerNorm                                 1536       True      \n",
              "____________________________________________________________________________\n",
              "                     8 x 256 x 3072      \n",
              "Conv1D                                    2362368    False     \n",
              "____________________________________________________________________________\n",
              "                     8 x 256 x 768       \n",
              "Conv1D                                    2360064    False     \n",
              "Dropout                                                        \n",
              "LayerNorm                                 1536       True      \n",
              "____________________________________________________________________________\n",
              "                     8 x 256 x 2304      \n",
              "Conv1D                                    1771776    False     \n",
              "Conv1D                                    590592     False     \n",
              "Dropout                                                        \n",
              "Dropout                                                        \n",
              "LayerNorm                                 1536       True      \n",
              "____________________________________________________________________________\n",
              "                     8 x 256 x 3072      \n",
              "Conv1D                                    2362368    False     \n",
              "____________________________________________________________________________\n",
              "                     8 x 256 x 768       \n",
              "Conv1D                                    2360064    False     \n",
              "Dropout                                                        \n",
              "LayerNorm                                 1536       True      \n",
              "____________________________________________________________________________\n",
              "                     8 x 256 x 2304      \n",
              "Conv1D                                    1771776    False     \n",
              "Conv1D                                    590592     False     \n",
              "Dropout                                                        \n",
              "Dropout                                                        \n",
              "LayerNorm                                 1536       True      \n",
              "____________________________________________________________________________\n",
              "                     8 x 256 x 3072      \n",
              "Conv1D                                    2362368    False     \n",
              "____________________________________________________________________________\n",
              "                     8 x 256 x 768       \n",
              "Conv1D                                    2360064    False     \n",
              "Dropout                                                        \n",
              "LayerNorm                                 1536       True      \n",
              "____________________________________________________________________________\n",
              "                     8 x 256 x 2304      \n",
              "Conv1D                                    1771776    False     \n",
              "Conv1D                                    590592     False     \n",
              "Dropout                                                        \n",
              "Dropout                                                        \n",
              "LayerNorm                                 1536       True      \n",
              "____________________________________________________________________________\n",
              "                     8 x 256 x 3072      \n",
              "Conv1D                                    2362368    False     \n",
              "____________________________________________________________________________\n",
              "                     8 x 256 x 768       \n",
              "Conv1D                                    2360064    False     \n",
              "Dropout                                                        \n",
              "LayerNorm                                 1536       True      \n",
              "____________________________________________________________________________\n",
              "                     8 x 256 x 61252     \n",
              "Linear                                    47041536   False     \n",
              "____________________________________________________________________________\n",
              "\n",
              "Total params: 179,925,504\n",
              "Total trainable params: 38,400\n",
              "Total non-trainable params: 179,887,104\n",
              "\n",
              "Optimizer used: <function Adam at 0x7fdfd2643710>\n",
              "Loss function: FlattenedLoss of CrossEntropyLoss()\n",
              "\n",
              "Model frozen up to parameter group #5\n",
              "\n",
              "Callbacks:\n",
              "  - TrainEvalCallback\n",
              "  - DropOutput\n",
              "  - MixedPrecision\n",
              "  - Recorder\n",
              "  - ProgressCallback"
            ]
          },
          "metadata": {
            "tags": []
          },
          "execution_count": 55
        }
      ]
    },
    {
      "cell_type": "code",
      "metadata": {
        "colab": {
          "base_uri": "https://localhost:8080/",
          "height": 300
        },
        "id": "V-TuaeGayJwO",
        "outputId": "a6a920d4-0f0b-4a0f-db50-09bf5edc3875"
      },
      "source": [
        "learn.lr_find()"
      ],
      "execution_count": 56,
      "outputs": [
        {
          "output_type": "display_data",
          "data": {
            "text/html": [
              ""
            ],
            "text/plain": [
              "<IPython.core.display.HTML object>"
            ]
          },
          "metadata": {
            "tags": []
          }
        },
        {
          "output_type": "execute_result",
          "data": {
            "text/plain": [
              "SuggestedLRs(lr_min=0.33113112449646, lr_steep=2.7542285919189453)"
            ]
          },
          "metadata": {
            "tags": []
          },
          "execution_count": 56
        },
        {
          "output_type": "display_data",
          "data": {
            "image/png": "[encoded data removed]",
            "text/plain": [
              "<Figure size 432x288 with 1 Axes>"
            ]
          },
          "metadata": {
            "tags": [],
            "needs_background": "light"
          }
        }
      ]
    },
    {
      "cell_type": "code",
      "metadata": {
        "colab": {
          "base_uri": "https://localhost:8080/",
          "height": 80
        },
        "id": "UZEtzXt9Fo1Q",
        "outputId": "2079186a-0a94-49f0-ea5e-3e449bd3c8b2"
      },
      "source": [
        "learn.fit_one_cycle(1, 1e-4)"
      ],
      "execution_count": 57,
      "outputs": [
        {
          "output_type": "display_data",
          "data": {
            "text/html": [
              "<table border=\"1\" class=\"dataframe\">\n",
              "  <thead>\n",
              "    <tr style=\"text-align: left;\">\n",
              "      <th>epoch</th>\n",
              "      <th>train_loss</th>\n",
              "      <th>valid_loss</th>\n",
              "      <th>accuracy</th>\n",
              "      <th>perplexity</th>\n",
              "      <th>time</th>\n",
              "    </tr>\n",
              "  </thead>\n",
              "  <tbody>\n",
              "    <tr>\n",
              "      <td>0</td>\n",
              "      <td>4.358278</td>\n",
              "      <td>4.255285</td>\n",
              "      <td>0.290644</td>\n",
              "      <td>70.476883</td>\n",
              "      <td>02:52</td>\n",
              "    </tr>\n",
              "  </tbody>\n",
              "</table>"
            ],
            "text/plain": [
              "<IPython.core.display.HTML object>"
            ]
          },
          "metadata": {
            "tags": []
          }
        }
      ]
    },
    {
      "cell_type": "code",
      "metadata": {
        "colab": {
          "base_uri": "https://localhost:8080/",
          "height": 265
        },
        "id": "rAHUP5S-yf_b",
        "outputId": "de90089d-73d7-4b3b-e749-23fa5d8faae6"
      },
      "source": [
        "learn.recorder.plot_loss()"
      ],
      "execution_count": 58,
      "outputs": [
        {
          "output_type": "display_data",
          "data": {
            "image/png": "[encoded data removed]",
            "text/plain": [
              "<Figure size 432x288 with 1 Axes>"
            ]
          },
          "metadata": {
            "tags": [],
            "needs_background": "light"
          }
        }
      ]
    },
    {
      "cell_type": "code",
      "metadata": {
        "colab": {
          "base_uri": "https://localhost:8080/"
        },
        "id": "HbVR84ESpi--",
        "outputId": "092795d5-9f78-4453-a4cc-16ee90524205"
      },
      "source": [
        "learn.save(path/'models/1epoch_movie_fr')"
      ],
      "execution_count": 59,
      "outputs": [
        {
          "output_type": "execute_result",
          "data": {
            "text/plain": [
              "Path('/content/allocine/models/1epoch_movie_fr.pth')"
            ]
          },
          "metadata": {
            "tags": []
          },
          "execution_count": 59
        }
      ]
    },
    {
      "cell_type": "code",
      "metadata": {
        "colab": {
          "base_uri": "https://localhost:8080/"
        },
        "id": "JyDGYl-A1L9U",
        "outputId": "fd733f3d-da8f-4de4-f14a-b31f2da76d30"
      },
      "source": [
        "# model size\n",
        "!du -hs {path}/'models/1epoch_movie_fr.pth'"
      ],
      "execution_count": 60,
      "outputs": [
        {
          "output_type": "stream",
          "text": [
            "520M\t/content/allocine/models/1epoch_movie_fr.pth\n"
          ],
          "name": "stdout"
        }
      ]
    },
    {
      "cell_type": "markdown",
      "metadata": {
        "id": "ywGSKhRCl_0q"
      },
      "source": [
        "### Fine Tuning"
      ]
    },
    {
      "cell_type": "code",
      "metadata": {
        "colab": {
          "base_uri": "https://localhost:8080/"
        },
        "id": "C45tDS2nzGVy",
        "outputId": "ce1db79e-e543-41fd-8596-759aa539f604"
      },
      "source": [
        "learn.load(path/'models/1epoch_movie_fr')"
      ],
      "execution_count": 61,
      "outputs": [
        {
          "output_type": "execute_result",
          "data": {
            "text/plain": [
              "<fastai.learner.Learner at 0x7fdf45b1d710>"
            ]
          },
          "metadata": {
            "tags": []
          },
          "execution_count": 61
        }
      ]
    },
    {
      "cell_type": "markdown",
      "metadata": {
        "id": "z_I8c_u126dN"
      },
      "source": [
        " Freeze all layers but the last 2 layers groups"
      ]
    },
    {
      "cell_type": "code",
      "metadata": {
        "colab": {
          "base_uri": "https://localhost:8080/",
          "height": 1000
        },
        "id": "4Flvtqkx25dH",
        "outputId": "6025976b-b700-43ed-e3cb-2735a7f93d07"
      },
      "source": [
        "learn.freeze_to(-2)\n",
        "learn.summary()"
      ],
      "execution_count": 62,
      "outputs": [
        {
          "output_type": "display_data",
          "data": {
            "text/html": [
              ""
            ],
            "text/plain": [
              "<IPython.core.display.HTML object>"
            ]
          },
          "metadata": {
            "tags": []
          }
        },
        {
          "output_type": "execute_result",
          "data": {
            "application/vnd.google.colaboratory.intrinsic+json": {
              "type": "string"
            },
            "text/plain": [
              "GPT2LMHeadModel (Input shape: 8)\n",
              "============================================================================\n",
              "Layer (type)         Output Shape         Param #    Trainable \n",
              "============================================================================\n",
              "                     8 x 256 x 768       \n",
              "Embedding                                 47041536   False     \n",
              "Embedding                                 786432     False     \n",
              "Dropout                                                        \n",
              "LayerNorm                                 1536       True      \n",
              "____________________________________________________________________________\n",
              "                     8 x 256 x 2304      \n",
              "Conv1D                                    1771776    False     \n",
              "Conv1D                                    590592     False     \n",
              "Dropout                                                        \n",
              "Dropout                                                        \n",
              "LayerNorm                                 1536       True      \n",
              "____________________________________________________________________________\n",
              "                     8 x 256 x 3072      \n",
              "Conv1D                                    2362368    False     \n",
              "____________________________________________________________________________\n",
              "                     8 x 256 x 768       \n",
              "Conv1D                                    2360064    False     \n",
              "Dropout                                                        \n",
              "LayerNorm                                 1536       True      \n",
              "____________________________________________________________________________\n",
              "                     8 x 256 x 2304      \n",
              "Conv1D                                    1771776    False     \n",
              "Conv1D                                    590592     False     \n",
              "Dropout                                                        \n",
              "Dropout                                                        \n",
              "LayerNorm                                 1536       True      \n",
              "____________________________________________________________________________\n",
              "                     8 x 256 x 3072      \n",
              "Conv1D                                    2362368    False     \n",
              "____________________________________________________________________________\n",
              "                     8 x 256 x 768       \n",
              "Conv1D                                    2360064    False     \n",
              "Dropout                                                        \n",
              "LayerNorm                                 1536       True      \n",
              "____________________________________________________________________________\n",
              "                     8 x 256 x 2304      \n",
              "Conv1D                                    1771776    False     \n",
              "Conv1D                                    590592     False     \n",
              "Dropout                                                        \n",
              "Dropout                                                        \n",
              "LayerNorm                                 1536       True      \n",
              "____________________________________________________________________________\n",
              "                     8 x 256 x 3072      \n",
              "Conv1D                                    2362368    False     \n",
              "____________________________________________________________________________\n",
              "                     8 x 256 x 768       \n",
              "Conv1D                                    2360064    False     \n",
              "Dropout                                                        \n",
              "LayerNorm                                 1536       True      \n",
              "____________________________________________________________________________\n",
              "                     8 x 256 x 2304      \n",
              "Conv1D                                    1771776    False     \n",
              "Conv1D                                    590592     False     \n",
              "Dropout                                                        \n",
              "Dropout                                                        \n",
              "LayerNorm                                 1536       True      \n",
              "____________________________________________________________________________\n",
              "                     8 x 256 x 3072      \n",
              "Conv1D                                    2362368    False     \n",
              "____________________________________________________________________________\n",
              "                     8 x 256 x 768       \n",
              "Conv1D                                    2360064    False     \n",
              "Dropout                                                        \n",
              "LayerNorm                                 1536       True      \n",
              "____________________________________________________________________________\n",
              "                     8 x 256 x 2304      \n",
              "Conv1D                                    1771776    False     \n",
              "Conv1D                                    590592     False     \n",
              "Dropout                                                        \n",
              "Dropout                                                        \n",
              "LayerNorm                                 1536       True      \n",
              "____________________________________________________________________________\n",
              "                     8 x 256 x 3072      \n",
              "Conv1D                                    2362368    False     \n",
              "____________________________________________________________________________\n",
              "                     8 x 256 x 768       \n",
              "Conv1D                                    2360064    False     \n",
              "Dropout                                                        \n",
              "LayerNorm                                 1536       True      \n",
              "____________________________________________________________________________\n",
              "                     8 x 256 x 2304      \n",
              "Conv1D                                    1771776    False     \n",
              "Conv1D                                    590592     False     \n",
              "Dropout                                                        \n",
              "Dropout                                                        \n",
              "LayerNorm                                 1536       True      \n",
              "____________________________________________________________________________\n",
              "                     8 x 256 x 3072      \n",
              "Conv1D                                    2362368    False     \n",
              "____________________________________________________________________________\n",
              "                     8 x 256 x 768       \n",
              "Conv1D                                    2360064    False     \n",
              "Dropout                                                        \n",
              "LayerNorm                                 1536       True      \n",
              "____________________________________________________________________________\n",
              "                     8 x 256 x 2304      \n",
              "Conv1D                                    1771776    False     \n",
              "Conv1D                                    590592     False     \n",
              "Dropout                                                        \n",
              "Dropout                                                        \n",
              "LayerNorm                                 1536       True      \n",
              "____________________________________________________________________________\n",
              "                     8 x 256 x 3072      \n",
              "Conv1D                                    2362368    False     \n",
              "____________________________________________________________________________\n",
              "                     8 x 256 x 768       \n",
              "Conv1D                                    2360064    False     \n",
              "Dropout                                                        \n",
              "LayerNorm                                 1536       True      \n",
              "____________________________________________________________________________\n",
              "                     8 x 256 x 2304      \n",
              "Conv1D                                    1771776    False     \n",
              "Conv1D                                    590592     False     \n",
              "Dropout                                                        \n",
              "Dropout                                                        \n",
              "LayerNorm                                 1536       True      \n",
              "____________________________________________________________________________\n",
              "                     8 x 256 x 3072      \n",
              "Conv1D                                    2362368    False     \n",
              "____________________________________________________________________________\n",
              "                     8 x 256 x 768       \n",
              "Conv1D                                    2360064    False     \n",
              "Dropout                                                        \n",
              "LayerNorm                                 1536       True      \n",
              "____________________________________________________________________________\n",
              "                     8 x 256 x 2304      \n",
              "Conv1D                                    1771776    False     \n",
              "Conv1D                                    590592     False     \n",
              "Dropout                                                        \n",
              "Dropout                                                        \n",
              "LayerNorm                                 1536       True      \n",
              "____________________________________________________________________________\n",
              "                     8 x 256 x 3072      \n",
              "Conv1D                                    2362368    False     \n",
              "____________________________________________________________________________\n",
              "                     8 x 256 x 768       \n",
              "Conv1D                                    2360064    False     \n",
              "Dropout                                                        \n",
              "LayerNorm                                 1536       True      \n",
              "____________________________________________________________________________\n",
              "                     8 x 256 x 2304      \n",
              "Conv1D                                    1771776    False     \n",
              "Conv1D                                    590592     False     \n",
              "Dropout                                                        \n",
              "Dropout                                                        \n",
              "LayerNorm                                 1536       True      \n",
              "____________________________________________________________________________\n",
              "                     8 x 256 x 3072      \n",
              "Conv1D                                    2362368    False     \n",
              "____________________________________________________________________________\n",
              "                     8 x 256 x 768       \n",
              "Conv1D                                    2360064    False     \n",
              "Dropout                                                        \n",
              "LayerNorm                                 1536       True      \n",
              "____________________________________________________________________________\n",
              "                     8 x 256 x 2304      \n",
              "Conv1D                                    1771776    False     \n",
              "Conv1D                                    590592     False     \n",
              "Dropout                                                        \n",
              "Dropout                                                        \n",
              "LayerNorm                                 1536       True      \n",
              "____________________________________________________________________________\n",
              "                     8 x 256 x 3072      \n",
              "Conv1D                                    2362368    False     \n",
              "____________________________________________________________________________\n",
              "                     8 x 256 x 768       \n",
              "Conv1D                                    2360064    False     \n",
              "Dropout                                                        \n",
              "LayerNorm                                 1536       True      \n",
              "____________________________________________________________________________\n",
              "                     8 x 256 x 2304      \n",
              "Conv1D                                    1771776    False     \n",
              "Conv1D                                    590592     False     \n",
              "Dropout                                                        \n",
              "Dropout                                                        \n",
              "LayerNorm                                 1536       True      \n",
              "____________________________________________________________________________\n",
              "                     8 x 256 x 3072      \n",
              "Conv1D                                    2362368    False     \n",
              "____________________________________________________________________________\n",
              "                     8 x 256 x 768       \n",
              "Conv1D                                    2360064    False     \n",
              "Dropout                                                        \n",
              "LayerNorm                                 1536       True      \n",
              "____________________________________________________________________________\n",
              "                     8 x 256 x 61252     \n",
              "Linear                                    47041536   False     \n",
              "____________________________________________________________________________\n",
              "\n",
              "Total params: 179,925,504\n",
              "Total trainable params: 38,400\n",
              "Total non-trainable params: 179,887,104\n",
              "\n",
              "Optimizer used: <function Adam at 0x7fdfd2643710>\n",
              "Loss function: FlattenedLoss of CrossEntropyLoss()\n",
              "\n",
              "Model frozen up to parameter group #4\n",
              "\n",
              "Callbacks:\n",
              "  - TrainEvalCallback\n",
              "  - DropOutput\n",
              "  - MixedPrecision\n",
              "  - Recorder\n",
              "  - ProgressCallback"
            ]
          },
          "metadata": {
            "tags": []
          },
          "execution_count": 62
        }
      ]
    },
    {
      "cell_type": "code",
      "metadata": {
        "colab": {
          "base_uri": "https://localhost:8080/",
          "height": 80
        },
        "id": "W80YyXr_0j9e",
        "outputId": "ca7247fe-e56d-4431-9d01-51dceed3f983"
      },
      "source": [
        "learn.fit_one_cycle(1, slice(1e-4/(2.6**4),1e-4))"
      ],
      "execution_count": 63,
      "outputs": [
        {
          "output_type": "display_data",
          "data": {
            "text/html": [
              "<table border=\"1\" class=\"dataframe\">\n",
              "  <thead>\n",
              "    <tr style=\"text-align: left;\">\n",
              "      <th>epoch</th>\n",
              "      <th>train_loss</th>\n",
              "      <th>valid_loss</th>\n",
              "      <th>accuracy</th>\n",
              "      <th>perplexity</th>\n",
              "      <th>time</th>\n",
              "    </tr>\n",
              "  </thead>\n",
              "  <tbody>\n",
              "    <tr>\n",
              "      <td>0</td>\n",
              "      <td>4.299450</td>\n",
              "      <td>4.178769</td>\n",
              "      <td>0.295117</td>\n",
              "      <td>65.285416</td>\n",
              "      <td>02:52</td>\n",
              "    </tr>\n",
              "  </tbody>\n",
              "</table>"
            ],
            "text/plain": [
              "<IPython.core.display.HTML object>"
            ]
          },
          "metadata": {
            "tags": []
          }
        }
      ]
    },
    {
      "cell_type": "code",
      "metadata": {
        "colab": {
          "base_uri": "https://localhost:8080/",
          "height": 265
        },
        "id": "Go1fcQRr3pWP",
        "outputId": "63652173-1e67-4da3-e1bb-2e2a07d61aaf"
      },
      "source": [
        "learn.recorder.plot_loss()"
      ],
      "execution_count": 64,
      "outputs": [
        {
          "output_type": "display_data",
          "data": {
            "image/png": "[encoded data removed]",
            "text/plain": [
              "<Figure size 432x288 with 1 Axes>"
            ]
          },
          "metadata": {
            "tags": [],
            "needs_background": "light"
          }
        }
      ]
    },
    {
      "cell_type": "code",
      "metadata": {
        "colab": {
          "base_uri": "https://localhost:8080/",
          "height": 80
        },
        "id": "sdwNLdZE017G",
        "outputId": "5d18c556-f9f8-425d-fcb3-a3a424c77b95"
      },
      "source": [
        "learn.freeze_to(-3)\n",
        "learn.fit_one_cycle(1, slice(1e-4/(2.6**4),1e-4))"
      ],
      "execution_count": 65,
      "outputs": [
        {
          "output_type": "display_data",
          "data": {
            "text/html": [
              "<table border=\"1\" class=\"dataframe\">\n",
              "  <thead>\n",
              "    <tr style=\"text-align: left;\">\n",
              "      <th>epoch</th>\n",
              "      <th>train_loss</th>\n",
              "      <th>valid_loss</th>\n",
              "      <th>accuracy</th>\n",
              "      <th>perplexity</th>\n",
              "      <th>time</th>\n",
              "    </tr>\n",
              "  </thead>\n",
              "  <tbody>\n",
              "    <tr>\n",
              "      <td>0</td>\n",
              "      <td>3.604341</td>\n",
              "      <td>3.513778</td>\n",
              "      <td>0.351191</td>\n",
              "      <td>33.574883</td>\n",
              "      <td>03:39</td>\n",
              "    </tr>\n",
              "  </tbody>\n",
              "</table>"
            ],
            "text/plain": [
              "<IPython.core.display.HTML object>"
            ]
          },
          "metadata": {
            "tags": []
          }
        }
      ]
    },
    {
      "cell_type": "code",
      "metadata": {
        "colab": {
          "base_uri": "https://localhost:8080/",
          "height": 265
        },
        "id": "XB6S7Bnl8EKj",
        "outputId": "e50ce685-6ea8-4547-f107-19807253a5b5"
      },
      "source": [
        "learn.recorder.plot_loss()"
      ],
      "execution_count": 66,
      "outputs": [
        {
          "output_type": "display_data",
          "data": {
            "image/png": "[encoded data removed]",
            "text/plain": [
              "<Figure size 432x288 with 1 Axes>"
            ]
          },
          "metadata": {
            "tags": [],
            "needs_background": "light"
          }
        }
      ]
    },
    {
      "cell_type": "markdown",
      "metadata": {
        "id": "5esaVkiM8uBC"
      },
      "source": [
        "Unfreeze All Layers"
      ]
    },
    {
      "cell_type": "code",
      "metadata": {
        "id": "MvLqFI9Ro3O-",
        "colab": {
          "base_uri": "https://localhost:8080/",
          "height": 1000
        },
        "outputId": "7cd29ade-4300-49e4-b936-faeee34c9c4f"
      },
      "source": [
        "learn.unfreeze()\n",
        "learn.summary()"
      ],
      "execution_count": 67,
      "outputs": [
        {
          "output_type": "display_data",
          "data": {
            "text/html": [
              ""
            ],
            "text/plain": [
              "<IPython.core.display.HTML object>"
            ]
          },
          "metadata": {
            "tags": []
          }
        },
        {
          "output_type": "execute_result",
          "data": {
            "application/vnd.google.colaboratory.intrinsic+json": {
              "type": "string"
            },
            "text/plain": [
              "GPT2LMHeadModel (Input shape: 8)\n",
              "============================================================================\n",
              "Layer (type)         Output Shape         Param #    Trainable \n",
              "============================================================================\n",
              "                     8 x 256 x 768       \n",
              "Embedding                                 47041536   True      \n",
              "Embedding                                 786432     True      \n",
              "Dropout                                                        \n",
              "LayerNorm                                 1536       True      \n",
              "____________________________________________________________________________\n",
              "                     8 x 256 x 2304      \n",
              "Conv1D                                    1771776    True      \n",
              "Conv1D                                    590592     True      \n",
              "Dropout                                                        \n",
              "Dropout                                                        \n",
              "LayerNorm                                 1536       True      \n",
              "____________________________________________________________________________\n",
              "                     8 x 256 x 3072      \n",
              "Conv1D                                    2362368    True      \n",
              "____________________________________________________________________________\n",
              "                     8 x 256 x 768       \n",
              "Conv1D                                    2360064    True      \n",
              "Dropout                                                        \n",
              "LayerNorm                                 1536       True      \n",
              "____________________________________________________________________________\n",
              "                     8 x 256 x 2304      \n",
              "Conv1D                                    1771776    True      \n",
              "Conv1D                                    590592     True      \n",
              "Dropout                                                        \n",
              "Dropout                                                        \n",
              "LayerNorm                                 1536       True      \n",
              "____________________________________________________________________________\n",
              "                     8 x 256 x 3072      \n",
              "Conv1D                                    2362368    True      \n",
              "____________________________________________________________________________\n",
              "                     8 x 256 x 768       \n",
              "Conv1D                                    2360064    True      \n",
              "Dropout                                                        \n",
              "LayerNorm                                 1536       True      \n",
              "____________________________________________________________________________\n",
              "                     8 x 256 x 2304      \n",
              "Conv1D                                    1771776    True      \n",
              "Conv1D                                    590592     True      \n",
              "Dropout                                                        \n",
              "Dropout                                                        \n",
              "LayerNorm                                 1536       True      \n",
              "____________________________________________________________________________\n",
              "                     8 x 256 x 3072      \n",
              "Conv1D                                    2362368    True      \n",
              "____________________________________________________________________________\n",
              "                     8 x 256 x 768       \n",
              "Conv1D                                    2360064    True      \n",
              "Dropout                                                        \n",
              "LayerNorm                                 1536       True      \n",
              "____________________________________________________________________________\n",
              "                     8 x 256 x 2304      \n",
              "Conv1D                                    1771776    True      \n",
              "Conv1D                                    590592     True      \n",
              "Dropout                                                        \n",
              "Dropout                                                        \n",
              "LayerNorm                                 1536       True      \n",
              "____________________________________________________________________________\n",
              "                     8 x 256 x 3072      \n",
              "Conv1D                                    2362368    True      \n",
              "____________________________________________________________________________\n",
              "                     8 x 256 x 768       \n",
              "Conv1D                                    2360064    True      \n",
              "Dropout                                                        \n",
              "LayerNorm                                 1536       True      \n",
              "____________________________________________________________________________\n",
              "                     8 x 256 x 2304      \n",
              "Conv1D                                    1771776    True      \n",
              "Conv1D                                    590592     True      \n",
              "Dropout                                                        \n",
              "Dropout                                                        \n",
              "LayerNorm                                 1536       True      \n",
              "____________________________________________________________________________\n",
              "                     8 x 256 x 3072      \n",
              "Conv1D                                    2362368    True      \n",
              "____________________________________________________________________________\n",
              "                     8 x 256 x 768       \n",
              "Conv1D                                    2360064    True      \n",
              "Dropout                                                        \n",
              "LayerNorm                                 1536       True      \n",
              "____________________________________________________________________________\n",
              "                     8 x 256 x 2304      \n",
              "Conv1D                                    1771776    True      \n",
              "Conv1D                                    590592     True      \n",
              "Dropout                                                        \n",
              "Dropout                                                        \n",
              "LayerNorm                                 1536       True      \n",
              "____________________________________________________________________________\n",
              "                     8 x 256 x 3072      \n",
              "Conv1D                                    2362368    True      \n",
              "____________________________________________________________________________\n",
              "                     8 x 256 x 768       \n",
              "Conv1D                                    2360064    True      \n",
              "Dropout                                                        \n",
              "LayerNorm                                 1536       True      \n",
              "____________________________________________________________________________\n",
              "                     8 x 256 x 2304      \n",
              "Conv1D                                    1771776    True      \n",
              "Conv1D                                    590592     True      \n",
              "Dropout                                                        \n",
              "Dropout                                                        \n",
              "LayerNorm                                 1536       True      \n",
              "____________________________________________________________________________\n",
              "                     8 x 256 x 3072      \n",
              "Conv1D                                    2362368    True      \n",
              "____________________________________________________________________________\n",
              "                     8 x 256 x 768       \n",
              "Conv1D                                    2360064    True      \n",
              "Dropout                                                        \n",
              "LayerNorm                                 1536       True      \n",
              "____________________________________________________________________________\n",
              "                     8 x 256 x 2304      \n",
              "Conv1D                                    1771776    True      \n",
              "Conv1D                                    590592     True      \n",
              "Dropout                                                        \n",
              "Dropout                                                        \n",
              "LayerNorm                                 1536       True      \n",
              "____________________________________________________________________________\n",
              "                     8 x 256 x 3072      \n",
              "Conv1D                                    2362368    True      \n",
              "____________________________________________________________________________\n",
              "                     8 x 256 x 768       \n",
              "Conv1D                                    2360064    True      \n",
              "Dropout                                                        \n",
              "LayerNorm                                 1536       True      \n",
              "____________________________________________________________________________\n",
              "                     8 x 256 x 2304      \n",
              "Conv1D                                    1771776    True      \n",
              "Conv1D                                    590592     True      \n",
              "Dropout                                                        \n",
              "Dropout                                                        \n",
              "LayerNorm                                 1536       True      \n",
              "____________________________________________________________________________\n",
              "                     8 x 256 x 3072      \n",
              "Conv1D                                    2362368    True      \n",
              "____________________________________________________________________________\n",
              "                     8 x 256 x 768       \n",
              "Conv1D                                    2360064    True      \n",
              "Dropout                                                        \n",
              "LayerNorm                                 1536       True      \n",
              "____________________________________________________________________________\n",
              "                     8 x 256 x 2304      \n",
              "Conv1D                                    1771776    True      \n",
              "Conv1D                                    590592     True      \n",
              "Dropout                                                        \n",
              "Dropout                                                        \n",
              "LayerNorm                                 1536       True      \n",
              "____________________________________________________________________________\n",
              "                     8 x 256 x 3072      \n",
              "Conv1D                                    2362368    True      \n",
              "____________________________________________________________________________\n",
              "                     8 x 256 x 768       \n",
              "Conv1D                                    2360064    True      \n",
              "Dropout                                                        \n",
              "LayerNorm                                 1536       True      \n",
              "____________________________________________________________________________\n",
              "                     8 x 256 x 2304      \n",
              "Conv1D                                    1771776    True      \n",
              "Conv1D                                    590592     True      \n",
              "Dropout                                                        \n",
              "Dropout                                                        \n",
              "LayerNorm                                 1536       True      \n",
              "____________________________________________________________________________\n",
              "                     8 x 256 x 3072      \n",
              "Conv1D                                    2362368    True      \n",
              "____________________________________________________________________________\n",
              "                     8 x 256 x 768       \n",
              "Conv1D                                    2360064    True      \n",
              "Dropout                                                        \n",
              "LayerNorm                                 1536       True      \n",
              "____________________________________________________________________________\n",
              "                     8 x 256 x 2304      \n",
              "Conv1D                                    1771776    True      \n",
              "Conv1D                                    590592     True      \n",
              "Dropout                                                        \n",
              "Dropout                                                        \n",
              "LayerNorm                                 1536       True      \n",
              "____________________________________________________________________________\n",
              "                     8 x 256 x 3072      \n",
              "Conv1D                                    2362368    True      \n",
              "____________________________________________________________________________\n",
              "                     8 x 256 x 768       \n",
              "Conv1D                                    2360064    True      \n",
              "Dropout                                                        \n",
              "LayerNorm                                 1536       True      \n",
              "____________________________________________________________________________\n",
              "                     8 x 256 x 61252     \n",
              "Linear                                    47041536   True      \n",
              "____________________________________________________________________________\n",
              "\n",
              "Total params: 179,925,504\n",
              "Total trainable params: 179,925,504\n",
              "Total non-trainable params: 0\n",
              "\n",
              "Optimizer used: <function Adam at 0x7fdfd2643710>\n",
              "Loss function: FlattenedLoss of CrossEntropyLoss()\n",
              "\n",
              "Model unfrozen\n",
              "\n",
              "Callbacks:\n",
              "  - TrainEvalCallback\n",
              "  - DropOutput\n",
              "  - MixedPrecision\n",
              "  - Recorder\n",
              "  - ProgressCallback"
            ]
          },
          "metadata": {
            "tags": []
          },
          "execution_count": 67
        }
      ]
    },
    {
      "cell_type": "code",
      "metadata": {
        "colab": {
          "base_uri": "https://localhost:8080/",
          "height": 111
        },
        "id": "s_GYJGeq1DSe",
        "outputId": "e0e10325-0cb3-4d99-9438-4744c1b9bf4b"
      },
      "source": [
        "learn.fit_one_cycle(2, slice(1e-4/(2.6**4),1e-4))"
      ],
      "execution_count": 68,
      "outputs": [
        {
          "output_type": "display_data",
          "data": {
            "text/html": [
              "<table border=\"1\" class=\"dataframe\">\n",
              "  <thead>\n",
              "    <tr style=\"text-align: left;\">\n",
              "      <th>epoch</th>\n",
              "      <th>train_loss</th>\n",
              "      <th>valid_loss</th>\n",
              "      <th>accuracy</th>\n",
              "      <th>perplexity</th>\n",
              "      <th>time</th>\n",
              "    </tr>\n",
              "  </thead>\n",
              "  <tbody>\n",
              "    <tr>\n",
              "      <td>0</td>\n",
              "      <td>3.494012</td>\n",
              "      <td>3.435922</td>\n",
              "      <td>0.359950</td>\n",
              "      <td>31.060041</td>\n",
              "      <td>04:00</td>\n",
              "    </tr>\n",
              "    <tr>\n",
              "      <td>1</td>\n",
              "      <td>3.419339</td>\n",
              "      <td>3.412811</td>\n",
              "      <td>0.362637</td>\n",
              "      <td>30.350441</td>\n",
              "      <td>04:00</td>\n",
              "    </tr>\n",
              "  </tbody>\n",
              "</table>"
            ],
            "text/plain": [
              "<IPython.core.display.HTML object>"
            ]
          },
          "metadata": {
            "tags": []
          }
        }
      ]
    },
    {
      "cell_type": "code",
      "metadata": {
        "colab": {
          "base_uri": "https://localhost:8080/",
          "height": 265
        },
        "id": "jrKb6FqITaCi",
        "outputId": "06e0b121-3b08-4898-cbef-7b5c6621c84d"
      },
      "source": [
        "learn.recorder.plot_loss()"
      ],
      "execution_count": 69,
      "outputs": [
        {
          "output_type": "display_data",
          "data": {
            "image/png": "[encoded data removed]",
            "text/plain": [
              "<Figure size 432x288 with 1 Axes>"
            ]
          },
          "metadata": {
            "tags": [],
            "needs_background": "light"
          }
        }
      ]
    },
    {
      "cell_type": "markdown",
      "metadata": {
        "id": "IRNRNjAlvsS2"
      },
      "source": [
        "### Saving model"
      ]
    },
    {
      "cell_type": "code",
      "metadata": {
        "id": "2r7p82XJsIqd",
        "colab": {
          "base_uri": "https://localhost:8080/"
        },
        "outputId": "5468f5bd-5a78-461a-eb3e-e84382bf5916"
      },
      "source": [
        "learn.save(path/'models/finetuned_movie_fr')"
      ],
      "execution_count": 70,
      "outputs": [
        {
          "output_type": "execute_result",
          "data": {
            "text/plain": [
              "Path('/content/allocine/models/finetuned_movie_fr.pth')"
            ]
          },
          "metadata": {
            "tags": []
          },
          "execution_count": 70
        }
      ]
    },
    {
      "cell_type": "code",
      "metadata": {
        "colab": {
          "base_uri": "https://localhost:8080/"
        },
        "id": "Sr2RTPH8MYxi",
        "outputId": "33b12dc0-c1ae-4f5d-8b4c-253390a0c346"
      },
      "source": [
        "# model size\n",
        "!du -hs {path}/'models/finetuned_movie_fr.pth'"
      ],
      "execution_count": 71,
      "outputs": [
        {
          "output_type": "stream",
          "text": [
            "1.5G\t/content/allocine/models/finetuned_movie_fr.pth\n"
          ],
          "name": "stdout"
        }
      ]
    },
    {
      "cell_type": "code",
      "metadata": {
        "id": "ltMxkJMwOGjo",
        "colab": {
          "base_uri": "https://localhost:8080/"
        },
        "outputId": "8d11a078-c884-4b3e-c640-37d3ac875fa5"
      },
      "source": [
        "# !cp {path}/models/finetuned_movie_fr.pth /content/drive/MyDrive"
      ],
      "execution_count": 72,
      "outputs": [
        {
          "output_type": "stream",
          "text": [
            "cp: cannot create regular file '/content/drive/MyDrive': No such file or directory\n"
          ],
          "name": "stdout"
        }
      ]
    },
    {
      "cell_type": "markdown",
      "metadata": {
        "id": "NblFggu8ruSF"
      },
      "source": [
        "## Saving the fined-tune vocab"
      ]
    },
    {
      "cell_type": "code",
      "metadata": {
        "id": "Mbz4ynC9r1oS"
      },
      "source": [
        "# saving the vocab into a file\n",
        "textfile = open(\"/content/allocine/data/vocab_lm.txt\", \"w\")\n",
        "for element in tokenizer_fastai_vocab_ls_fr:\n",
        "    textfile.write(element + \"\\n\")\n",
        "textfile.close()"
      ],
      "execution_count": 74,
      "outputs": []
    },
    {
      "cell_type": "code",
      "metadata": {
        "colab": {
          "base_uri": "https://localhost:8080/"
        },
        "id": "BCDqttq3r1oc",
        "outputId": "c4f9e2c5-ba0b-44d6-fc12-d7f095951e3f"
      },
      "source": [
        "# reading the vocab_lm file\n",
        "textfile = open(\"/content/allocine/data/vocab_lm.txt\", \"r\")\n",
        "line = 5\n",
        "for item in range(line):\n",
        "    x = textfile.readline()\n",
        "    print(x, end=\"\")\n",
        "textfile.close()"
      ],
      "execution_count": 75,
      "outputs": [
        {
          "output_type": "stream",
          "text": [
            "<s>\n",
            "<pad>\n",
            "</s>\n",
            "!\n",
            "\"\n"
          ],
          "name": "stdout"
        }
      ]
    },
    {
      "cell_type": "code",
      "metadata": {
        "id": "R6ZfZy9X13Ui",
        "colab": {
          "base_uri": "https://localhost:8080/"
        },
        "outputId": "03d847ff-e8d9-4b26-be78-e81f3bb7049f"
      },
      "source": [
        "path"
      ],
      "execution_count": 76,
      "outputs": [
        {
          "output_type": "execute_result",
          "data": {
            "text/plain": [
              "Path('/content/allocine')"
            ]
          },
          "metadata": {
            "tags": []
          },
          "execution_count": 76
        }
      ]
    },
    {
      "cell_type": "code",
      "metadata": {
        "id": "qtmhbVDbshMR"
      },
      "source": [
        "vocab_fine_tuned = tokenizer.save_vocabulary(path/\"data\", 'vocab_lm1')"
      ],
      "execution_count": 77,
      "outputs": []
    },
    {
      "cell_type": "markdown",
      "metadata": {
        "id": "G12IZSH0gK1T"
      },
      "source": [
        "## Inference"
      ]
    },
    {
      "cell_type": "code",
      "metadata": {
        "id": "OWGuCuPLF0MH"
      },
      "source": [
        "path='/content/allocine/'"
      ],
      "execution_count": 78,
      "outputs": []
    },
    {
      "cell_type": "code",
      "metadata": {
        "id": "wDMxsahDOqtk",
        "colab": {
          "base_uri": "https://localhost:8080/",
          "height": 131
        },
        "outputId": "91604032-16e7-42ed-e2a2-bf8536cc6cb8"
      },
      "source": [
        "df_valid.head(1)"
      ],
      "execution_count": 79,
      "outputs": [
        {
          "output_type": "execute_result",
          "data": {
            "text/html": [
              "<div>\n",
              "<style scoped>\n",
              "    .dataframe tbody tr th:only-of-type {\n",
              "        vertical-align: middle;\n",
              "    }\n",
              "\n",
              "    .dataframe tbody tr th {\n",
              "        vertical-align: top;\n",
              "    }\n",
              "\n",
              "    .dataframe thead th {\n",
              "        text-align: right;\n",
              "    }\n",
              "</style>\n",
              "<table border=\"1\" class=\"dataframe\">\n",
              "  <thead>\n",
              "    <tr style=\"text-align: right;\">\n",
              "      <th></th>\n",
              "      <th>0</th>\n",
              "      <th>1</th>\n",
              "      <th>2</th>\n",
              "    </tr>\n",
              "  </thead>\n",
              "  <tbody>\n",
              "    <tr>\n",
              "      <th>0</th>\n",
              "      <td>http://www.allocine.fr/film/fichefilm-51895/critiques/spectateurs</td>\n",
              "      <td>Ce film est tout ce qu'il y a de plus sympa. Même si l'ensemble n'est pas dépourvu de clichés, il serait hypocrite de dire que ce film est ennuyeux à regarder, bien au contraire. Il est très plaisant à regarder et même si l'ensemble est asse convenue, la mise en scène de Peter Chelsom est légère et ce film est une sorte de bouffée d'air frais. Tout à fait estimable.</td>\n",
              "      <td>0</td>\n",
              "    </tr>\n",
              "  </tbody>\n",
              "</table>\n",
              "</div>"
            ],
            "text/plain": [
              "                                                                   0  ...  2\n",
              "0  http://www.allocine.fr/film/fichefilm-51895/critiques/spectateurs  ...  0\n",
              "\n",
              "[1 rows x 3 columns]"
            ]
          },
          "metadata": {
            "tags": []
          },
          "execution_count": 79
        }
      ]
    },
    {
      "cell_type": "code",
      "metadata": {
        "id": "1C3f4-_pO_kg"
      },
      "source": [
        "#prompt = \"Robert de Niro est un excellent acteur et \"\n",
        "prompt = \"Ce film est vraiment marrant, Louis de Funes incarne\""
      ],
      "execution_count": 80,
      "outputs": []
    },
    {
      "cell_type": "code",
      "metadata": {
        "id": "KSSnPks9Q55x",
        "colab": {
          "base_uri": "https://localhost:8080/"
        },
        "outputId": "803ff5df-eeaa-4541-9dd5-0cedabf8727b"
      },
      "source": [
        "prompt_ids = tokenizer.encode(prompt)\n",
        "inp = tensor(prompt_ids)[None].cuda()\n",
        "#inp = tensor(prompt_ids)[None]\n",
        "inp.shape"
      ],
      "execution_count": 81,
      "outputs": [
        {
          "output_type": "execute_result",
          "data": {
            "text/plain": [
              "torch.Size([1, 11])"
            ]
          },
          "metadata": {
            "tags": []
          },
          "execution_count": 81
        }
      ]
    },
    {
      "cell_type": "code",
      "metadata": {
        "id": "AHwMFBxrRAEu",
        "colab": {
          "base_uri": "https://localhost:8080/"
        },
        "outputId": "fcedc81b-f155-4e15-e8a3-2bb01775d95e"
      },
      "source": [
        "preds = learn.model.generate(inp, max_length=40, num_beams=5, temperature=1.5)"
      ],
      "execution_count": 82,
      "outputs": [
        {
          "output_type": "stream",
          "text": [
            "Setting `pad_token_id` to `eos_token_id`:50256 for open-end generation.\n"
          ],
          "name": "stderr"
        }
      ]
    },
    {
      "cell_type": "markdown",
      "metadata": {
        "id": "LZODaboax0OL"
      },
      "source": [
        "NOTE:  Beam search is a popular search strategy for the sequence to sequence Deep NLP algorithms. It will consider ,multiple alternatives compare to greedy search that will only pickup one most likely word and move on. [beam search algorithm](https://www.youtube.com/watch?v=RLWuzLLSIgw)\n",
        "\n",
        "`temperature` is a hyperparameter used to control the randomness of predictions by scaling the logits before applying softmax.\n"
      ]
    },
    {
      "cell_type": "code",
      "metadata": {
        "id": "VnjhLExIREY8",
        "colab": {
          "base_uri": "https://localhost:8080/",
          "height": 35
        },
        "outputId": "3db744a0-9361-4015-c24c-5881742cd3af"
      },
      "source": [
        "tokenizer.decode(preds[0].cpu().numpy())"
      ],
      "execution_count": 83,
      "outputs": [
        {
          "output_type": "execute_result",
          "data": {
            "application/vnd.google.colaboratory.intrinsic+json": {
              "type": "string"
            },
            "text/plain": [
              "'Ce film est vraiment marrant, Louis de Funes incarne très bien l’amour et l’héroïne, c’est un très bon film d�'"
            ]
          },
          "metadata": {
            "tags": []
          },
          "execution_count": 83
        }
      ]
    },
    {
      "cell_type": "markdown",
      "metadata": {
        "id": "FQnGkN_F0xL9"
      },
      "source": [
        "NOTE: You can also generate multiple texts at a time by specifing `nsamples`. Unique to GPT-2, you can pass a `batch_size` to generate multiple samples in parallel, giving a massive speedup (in Colaboratory, set a maximum of 20 for batch_size).\n",
        "\n",
        "Other optional-but-helpful parameters for gpt2.generate and friends:\n",
        "\n",
        "- `length`: Number of tokens to generate (default 1023, the maximum)\n",
        "- `temperature`: The higher the temperature, the crazier the text (default 0.7, recommended to keep between 0.7 and 1.0)\n",
        "- `top_k`: Limits the generated guesses to the top k guesses (default 0 which disables the behavior; if the generated output is super crazy, you may want to set top_k=40)\n",
        "- `top_p`: Nucleus sampling: limits the generated guesses to a cumulative probability. (gets good results on a dataset with top_p=0.9)\n",
        "- `truncate`: Truncates the input text until a given sequence, excluding that sequence (e.g. if truncate='<|endoftext|>', the returned text will include everything before the first <|endoftext|>). It may be useful to combine this with a smaller length if the input texts are short.\n",
        "- `include_prefix`: If using truncate and include_prefix=False, the specified prefix will not be included in the returned text."
      ]
    },
    {
      "cell_type": "markdown",
      "metadata": {
        "id": "8HeyYVKTksW8"
      },
      "source": [
        "## Top_k\n",
        "\n",
        "`top_k`: Limits the generated guesses to the top k guesses (default 0 which disables the behavior; if the generated output is super crazy, you may want to set top_k=40)"
      ]
    },
    {
      "cell_type": "code",
      "metadata": {
        "colab": {
          "base_uri": "https://localhost:8080/"
        },
        "id": "KqpI2dbIiqiB",
        "outputId": "7bf214fc-4957-4dc0-d130-75ec7d4caaca"
      },
      "source": [
        "#prompt = \"L'histoire, somme toute banale des déçus de l'amour que sont de M Chow et Mme Chan a cela d'universelle qu'elle peut arriver à tout le monde. Le génie de Wong Kar Wai est d'avoir transcendé le genre des comédies dramatiques\"\n",
        "#prompt = \"Le petit Gérard aime passer du temps avec son oncle, M. Hulot, un personnage rêveur et bohème qui \"\n",
        "prompt = \"Un petit photographe part à la recherche d'un scoop à travers New York pour devenir reporter.\"\n",
        "prompt = \"Dans le Japon du XVIe siècle, le seigneur Hidetora Ichimonji décide \"\n",
        "print(prompt)"
      ],
      "execution_count": 84,
      "outputs": [
        {
          "output_type": "stream",
          "text": [
            "Dans le Japon du XVIe siècle, le seigneur Hidetora Ichimonji décide \n"
          ],
          "name": "stdout"
        }
      ]
    },
    {
      "cell_type": "code",
      "metadata": {
        "id": "iArv_fxdjpE_"
      },
      "source": [
        "# encode\n",
        "input_ids = tokenizer.encode(prompt, return_tensors='pt').to('cuda')"
      ],
      "execution_count": 85,
      "outputs": []
    },
    {
      "cell_type": "code",
      "metadata": {
        "id": "tOYMmtm8kIUN"
      },
      "source": [
        "max_length = tokenizer.model_max_length=1024"
      ],
      "execution_count": 86,
      "outputs": []
    },
    {
      "cell_type": "code",
      "metadata": {
        "colab": {
          "base_uri": "https://localhost:8080/"
        },
        "id": "2iGiGTJ0iaow",
        "outputId": "2d9c97e8-8aa6-4fef-be14-2095770632d8"
      },
      "source": [
        "sample_outputs = model.generate(input_ids, pad_token_id=50256,\n",
        "                                   do_sample=True, \n",
        "                                   max_length=max_length, \n",
        "                                   min_length=max_length,\n",
        "                                   top_k=40,\n",
        "                                   num_return_sequences=3)\n",
        "\n",
        "for i, sample_output in enumerate(sample_outputs):\n",
        "    print(\">> Generated text {}\\n\\n{}\".format(i+1, tokenizer.decode(sample_output.tolist())))\n",
        "    print('\\n---')"
      ],
      "execution_count": 88,
      "outputs": [
        {
          "output_type": "stream",
          "text": [
            ">> Generated text 1\n",
            "\n",
            "Dans le Japon du XVIe siècle, le seigneur Hidetora Ichimonji décide ˀétablir une nouvelle religionˀen l’individualisant en divinité hindoue. Dans la société japonaise de l'époque, la religion n'est plus définie qu'avec l’existence de la vie sur terre, mais se trouve en dehors du pouvoir de la nature, comme chez les peuples occidentaux. C’est également en ce sens que la conscience de ce dernier dépasse celle des hommes et de la nature. Dans le Japon féodal comme aujourd'hui, l’absence de culture est l’absence de la loi du plus fort. Et là, la puissance de l’étoile n’est plus un obstacle, mais un catalyseur! Il serait peut-être temps que ces mentalités changent. Le Japon féodal au milieu des années 1960 se trouve être une sorte d’autre nature. Le problème, pour la majorité des Japonais d’ailleurs, est qu’elles ne sont pas conscientes de ce que les Japonais peuvent subir en matière d’informatiques et de technologie (du moins pas en anglais mais en japonais) ; si les premiers temps, les techniques informatiques de la nature et les lois de la nature sont perçues comme des éléments importants et nécessaires au développement et à la vie humaine, d’autres sont ensuite décrits, au risque sinon de donner l’ambition de la destruction, avec pour but de transmettre les émotions du passé à travers la mémoire. Et enfin le plus surprenant restant le caractère non reproductible de l’intrigue, comme si la grande partie de sa construction interne reposait sur le contrôle social, sur l’implication volontaire de la communauté dans la vie sociale et la transmission culturelle. L’amour et la solidarité sont à l’envie de se battre pour que ce \"amour artificiel\" et cet’aspiration ne se fassent pas au détriment de la communauté, la seule chose dont nous sommes responsables, et encore elle, ce sera sur la base de l’attribution de l’autre, du premier au dernier moment. Ces hommes ont un regard différent mais en même temps ils ont chacun une valeur sociale, et par le fait même des valeurs partagées au sein de la communauté, les trois composantes d’une identité sont essentielles pour l’homme. Un film qui nous fait entrer dans l'ambiance du pouvoir, de la passion, du doute et de l’amour à la seule condition que chacun y retrouve l’ampleur de la vie dans son coeur. Si l’amour devient impossible dans ces moments où la vie se perd dans des jeux de pouvoir, dans cette quête du temps et de ses limites qui peut déboucher sur des moments de joie, de souffrance et d’une certaine sérénité, c’est qu’il s’agit non pas de s’il s’agit du désir, de la réalité, du travail, de l’arrivé, de la vie, alors le monde existe. Une leçon qui aurait certes pu être bien comprise et comprise, mais qui en fait n’est hélas pas du tout : un long reportage (d’un ennui, d’une pauvreté étourdissante… ) sur un sujet extrêmement complexe : l’histoire d’Isabelle Nanty que François Truffaut a aimée à la folie, mais qu’elle n’aime pas du tout. La femme fatale, qui se fait passer pour un garçon, fait du mal à sa famille, à son mari, à son fils, lui fait regretter ses comportements de jeunesse insouciants. Sans l’évolution des sentiments que l’on a vu, le film aurait pu être meilleur.Il y aura une grande liberté de ton, d’humour, mais hélas l’innovation n’est pas celle du chef d’œuvre.L’acteur qui se démarque du lot par sa prestation est excellent. Le début très bien maitrisé et des dialogues intéressants et émouvants.J’ai aimé la conclusion, la poésie du personnage principal est juste, mais le film se perd un peu trop dans les grandes lignes. On n’y pense pas un instant, et le scénario ne tient pas la route.D'autant que ce film a un scénario assez intéressant. Le but est de savoir pourquoi il y a autant de violence dans ce film. Il y a des personnages qui tentent de s’être suicidés dans cette histoire. Je m’y suis intéressé, j’avoue avoir été assez frustré, même si\n",
            "\n",
            "---\n",
            ">> Generated text 2\n",
            "\n",
            "Dans le Japon du XVIe siècle, le seigneur Hidetora Ichimonji décide ド« Le chemin vers la lumière \", d’imposer ses talents aux jeunes filles dans des écoles de qualité. Il décide néanmoins dans la mesure du possible de faire appel à des artistes talentueux et d’aborder avec finesse d’autres questions que la plupart des filles ne posent pas. Le \"dèlai\" de cette éducation d’une jeunesse insouciante, sensible et insouciante est à la fois admirable et difficile. Le personnage qui est aussi celui de L’amitié des mères, un enfant qui grandit et qui est plus fort que la mort et que la souffrance. Et pour nous la question de la maternité est l’authentique de celle des hommes, des garçons, même si la maternité n’est pas le sujet principal. J’avoue trouver la force du film un peu plus émouvante mais il s’agit d’un film où le sujet dépasse le cadre du banal stéréotype de la femme enceinte, dont la vie est à tout le moins rythmée par la maternité, les petits, les grands, et parfois le travail, et sans la vie. \"Séries télévisées \" aurait pu se faire discret et laisser plus de place au dialogue. Dans ce \"Denim), le réalisateur s’occupe d’un couple marié par conviction mais qui se déchire, tandis que les \"pauvres \" se battent entre eux, au gré de leur passion respective et de leurs rêves. Il ne se passe pas grand-chose, ou très peu, dans ce film qu’on aurait du attendre avant d’aller chez le coiffeur. \"The Last of Us\" manque à tout cela, et ça n’ennui pas. Un téléfilm sympathique, mais qui est malheureusement trop prévisible pour être captivant au plus haut point.La fin, si on peut dire, est un peu longue. Le rythme est lent, les acteurs peinent souvent à se faire aimer par leurs clients et la bande-son médiocre. Les chansons, les films et les costumes, sans oublier les effets spéciaux, font que le film perd rapidement du son. Le scénario, assez basique, est quand à lui ennuyeux (par exemple dans Le film au bord du vide, où un père et sa fille tombent amoureux dans le train!), c’est vraiment décevant. L’animation est loin du niveau de ce film \"vossemblant\", trop terne (un sujet qui n’a aucune profondeur et une fin pas très passionnante), l’interprétation de Tom Hooper et les personnages n’ont pas beaucoup de rythme. Bref, une bonne comédie anglaise sans intérêt!Avec un seul objectif : nous faire passer un bon moment. Un film qui ne fait pas passer de message mais qui permet de s’y retrouver.La première partie du film n’est pas mauvaise, mais il faut le considérer comme une suite. Le rythme du film est vraiment lent, mais on ne s’asure pas de l’histoire, juste les dialogues et les effets spéciaux. Je me suis ennuyé un peu. Je suis resté sur le jeu des acteurs mais ce film n’est pas pour autant déçu.Une histoire vraiment très plate et assez prévisible. Le scénario n’est pas terrible. Un film qu’on ne suit pas très bien. L’histoire, elle, est très classique. Il ne reste que très peu de crédibilité à ce film, il en restera bien une vingtaine pour la mise en scène, le dessin animé et des personnages caricaturaux. Le film se termine par un gros coup de massue sur le visage du réalisateur. On assiste ainsi à un enchaînement d’interactions assez longues (vraiment, ce film est raté), le film s’a bien passé et le petit film, bien qu’un peu raté, n’a pas mal vieilli. Le scénario s’est tout de même bien passé mais on est à mi-chemin entre les histoires \"sérieusement nuls\" (super-exact) et les classiques du genre dont le style n’en fait que très peu d’espèces.Le film a pourtant l’importance du film d’animation. A voir absolument.Mauvais mélange d’interprétation de la première heure et de l’interprétation des comédiens en faitles deux, et c’est dommage. Il n’y a rien à se mettre sous la dent dans cette adaptation de la BD. Je n’ai aucune envie de voir ce film.Ce film, si ce n’est d’être vu, c\n",
            "\n",
            "---\n",
            ">> Generated text 3\n",
            "\n",
            "Dans le Japon du XVIe siècle, le seigneur Hidetora Ichimonji décide ˆ une fin de non-recevoir de se faire pardonner la présence de jeunes filles (qui n’a aucun rapport avec Hidetora Ichimonji) pour l’exposer à son fils dont il ne veut pas parler à l’étranger. De ce premier pas, il fait une rencontre marquante du premier long-métrage de Kurosawa, celui de l’amour. Le réalisateur ne s’effare jamais et sa réalisation parfaite, sans que l’on sache encore où elle vit, est l’histoire vraie d’un couple de lesbiennes sans lien qui se dispute pour le bien d’un enfant. Il se situe dans la lignée de la \"Case du diable\", et s’est imposé comme un classique du genre, à l’époque. La famille Hibari s’est fait connaître au Japon pour le charme qu’elle dégage avec leur relation passionnée et tumultueuse, et la richesse de leurs relations qui se révèlent au grand jour. Le film raconte l’histoire de deux frères d’un même quartier en marge de la société japonaise. Le scénario, pourtant écrit dans une langue si proche de celle de l’interprétation, mêle plusieurs éléments : une histoire vraie, des dialogues d’acteurs, des situations comiques et graves, et un humour bien présent. L’amour est au rendez-vous, les acteurs se montrant complémentaires entre eux. A voir.Ce film traite de la souffrance et de la déchéance dans les relations humaines. Le film nous plonge dans un univers violent et cruel, mais il donne la parole à chacun de nous dans une multitude de situations souvent drôles, parfois tragiques. L’histoire d’une femme, victime de son propre destin qui se retrouve piégée. Bien joué! A voir et à vivre!Un film drôle, touchant, drôle, un régal!Très bon film de science-fiction de la génération de Georges Sazy. Une ambiance unique, de la bonne musique.Un film à couper le souffle. Le film est génial et surtout on se laisse embarquer par l'ambiance. Un peu d'intrigue et de réflexion est de mise pour ce récit bouleversant et émouvant.Un très bon film sur l'héroïne qui a de grands yeux noirs. Ce film nous offre une comédie où une équipe de trois acteurs est confrontée à des sentiments aussi profonds qu'invisibles, sans pour autant faire preuve de compassion. Même les gags sont savoureux et drôles.Des acteurs qui jouent bien sans grand relief.Un film pour adulte qui se veut très mature et qui reste bien dans son genre. De plus ces petits défauts sont très ennuyeux et ennuyeux à regarder. A refaire avec plaisir.La suite de Scream 3 ne semble pas meilleure pour ses nombreux défauts.Jennifer Lopez est bluffante d'état! Les acteurs ne sont pas tous convaincants. Pour moi cela ressemble à du Claude Sautet.Les enfants sont dans un mauvais soir à force de regarder les comédies françaises. Et puis ce type de film ne vaut pas les années 50 et son fameux \"Roadheer\", pas à la hauteur du meilleur que j'ai pu voir depuis des lustres. Je vous laisse voir tout le confort qui me ferait presque oublier ce film médiocre.On est loin des jeux vidéos, de l'histoire au bout de deux minutes, du sexe, de la science-fiction, de l'humour, de la romance et un peu, de tout ce qui ne colle bien sûr pas au jeu. De temps en temps, on peut s'attacher à quelque chose de très sympa et même d'autre chose. La fin est superbe et c'est vrai qu'il y a quelques moments forts et moments d'art et de poésie. Le scénario est plutôt bien joué et l'ensemble est très original. Le film sort au bout de 3 minutes mais je trouve le temps long.Je recommande ce film à tout ceux qui ont des enfants de la part d’animal.Sollywood est au delà de la description de ses personnages qui en fait un bijou de film de super-héros.Film touchant, avec des dialogues savoureux. La bande annonce d'un film d'héroïne. A recommander.Disponible depuis début Juin!Film culte au scénario classique. Tout d'abord l'idée de départ était bonne et il se passe pas grand monde à part des gags de temps à autre, tout est correct dans ce film qui n'a d'ailleurs rien de transcendant. Et le fait est que les 3 actrices principales sont excellentes du premier au dernier plan. J'ai bien aimé aussi l'excellente prestation de Na Li. Je ne peux que saluer le travail de\n",
            "\n",
            "---\n"
          ],
          "name": "stdout"
        }
      ]
    },
    {
      "cell_type": "markdown",
      "metadata": {
        "id": "62yOEDJyH_k8"
      },
      "source": [
        "# Model Sharing and Uploading on the Huggingface platform\n",
        "\n",
        "Once your model has been pretrained, you can share it on the Huggingface Models Hub by following these [steps](https://huggingface.co/transformers/model_sharing.html)"
      ]
    },
    {
      "cell_type": "markdown",
      "metadata": {
        "id": "7s7kbU4fLdkS"
      },
      "source": [
        "# Reading\n",
        "- [Attention is all you need](https://arxiv.org/abs/1706.03762)\n",
        "- [The illustrated transformer](https://jalammar.github.io/illustrated-transformer/)\n",
        "-[Openai Better Language Models](https://openai.com/blog/better-language-models/)"
      ]
    },
    {
      "cell_type": "markdown",
      "metadata": {
        "id": "1eZ9_tM_3m3R"
      },
      "source": [
        "# Attributions"
      ]
    },
    {
      "cell_type": "markdown",
      "metadata": {
        "id": "Ake12gjOL2tV"
      },
      "source": [
        "\n",
        "\n",
        "```\n",
        "@misc{louis2020belgpt2,\n",
        "  author = {Louis, Antoine},\n",
        "  title = {{BelGPT-2: a GPT-2 model pre-trained on French corpora.}},\n",
        "  year = {2020},\n",
        "  howpublished = {\\url{https://github.com/antoiloui/belgpt2}},\n",
        "}\n",
        "```\n",
        "\n"
      ]
    },
    {
      "cell_type": "markdown",
      "metadata": {
        "id": "Gqz_WPEyXwoW"
      },
      "source": [
        "\n",
        "\n",
        "```\n",
        "Théophile Blard, French sentiment analysis with BERT, (2020), \n",
        "[GitHub repository,](https://github.com/TheophileBlard/french-sentiment-analysis-with-bert)\n",
        "\n"
      ]
    },
    {
      "cell_type": "code",
      "metadata": {
        "id": "OjD0AIYzXzzo"
      },
      "source": [
        ""
      ],
      "execution_count": null,
      "outputs": []
    }
  ]
}